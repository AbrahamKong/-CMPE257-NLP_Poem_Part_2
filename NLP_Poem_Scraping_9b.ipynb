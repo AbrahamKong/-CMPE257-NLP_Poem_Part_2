{
  "nbformat": 4,
  "nbformat_minor": 0,
  "metadata": {
    "colab": {
      "name": "NLP Poem Scraping - 9b",
      "provenance": [],
      "collapsed_sections": [],
      "include_colab_link": true
    },
    "kernelspec": {
      "name": "python3",
      "display_name": "Python 3"
    },
    "language_info": {
      "name": "python"
    }
  },
  "cells": [
    {
      "cell_type": "markdown",
      "metadata": {
        "id": "view-in-github",
        "colab_type": "text"
      },
      "source": [
        "<a href=\"https://colab.research.google.com/github/AbrahamKong/-CMPE257-NLP_Poem_Part_2/blob/main/NLP_Poem_Scraping_9b.ipynb\" target=\"_parent\"><img src=\"https://colab.research.google.com/assets/colab-badge.svg\" alt=\"Open In Colab\"/></a>"
      ]
    },
    {
      "cell_type": "markdown",
      "source": [
        "# NLP Topic Modeling and Summarization for Poems\n",
        "author: Abraham Kong\n"
      ],
      "metadata": {
        "id": "-wWhak2GaqE_"
      }
    },
    {
      "cell_type": "markdown",
      "source": [
        "### Installation"
      ],
      "metadata": {
        "id": "NlEE2dkPaI8H"
      }
    },
    {
      "cell_type": "code",
      "metadata": {
        "id": "TqIRrHqpBVYw"
      },
      "source": [
        "# !pip install beautifulsoup4"
      ],
      "execution_count": 1,
      "outputs": []
    },
    {
      "cell_type": "code",
      "metadata": {
        "id": "mqfiv4fZQu_7"
      },
      "source": [
        "# !pip install -U pandas-profiling"
      ],
      "execution_count": 2,
      "outputs": []
    },
    {
      "cell_type": "markdown",
      "source": [
        "### Initialization"
      ],
      "metadata": {
        "id": "spUMYFRpaMmU"
      }
    },
    {
      "cell_type": "code",
      "metadata": {
        "id": "IJGmwTWRCdyU"
      },
      "source": [
        "import urllib.request\n",
        "import numpy as np\n",
        "import pandas as pd\n",
        "import re\n",
        "import spacy\n",
        "import bs4 as bs\n",
        "from bs4 import BeautifulSoup\n",
        "import json\n",
        "import sys\n",
        "sys.setrecursionlimit(3000)"
      ],
      "execution_count": 3,
      "outputs": []
    },
    {
      "cell_type": "code",
      "source": [
        "# from google.colab import drive\n",
        "# drive.mount('/content/drive', force_remount=True)"
      ],
      "metadata": {
        "id": "wyxDW7UOS7rv"
      },
      "execution_count": 4,
      "outputs": []
    },
    {
      "cell_type": "code",
      "metadata": {
        "id": "XQI8xj9_CfOb"
      },
      "source": [
        "def beautify_txt(text):\n",
        "    # final_data = (((text).replace(u'\\xa0', u' ')).replace(r'\\r',u'\\n').replace(r'\\n', ' '))\n",
        "    final_data = (((text).replace(u'\\xa0', u' ')).replace(r'\\r',u'\\n'))\n",
        "\n",
        "    return final_data\n",
        "\n",
        "# Poet - Langston Hughes\n",
        "# Poem - Mother To Son\n",
        "Langston_Hughes_Poems = [\n",
        "\"https://allpoetry.com/Mother-To-Son\",\n",
        "\"https://allpoetry.com/The-Ballad-Of-The-Landlord\", \n",
        "\"https://allpoetry.com/I,-Too.\", \n",
        "\"https://allpoetry.com/As-I-Grew-Older\", \n",
        "\"https://allpoetry.com/The-Negro-Mother\", \n",
        "\"https://allpoetry.com/The-Negro-Speaks-Of-Rivers\",\n",
        "\"https://allpoetry.com/Trumpet-Player\", \n",
        "\"https://allpoetry.com/poem/8495535-Cross-by-Langston-Hughes\", \n",
        "\"https://allpoetry.com/Madam-and-The-Rent-Man\", \n",
        "\"https://allpoetry.com/Dream-Boogie\"]\n",
        "\n",
        "# Poet - Marry J Oliver\n",
        "# Poem - In Blackwater woods\n",
        "Mary_J_Oliver_Poems = [\n",
        "\"https://allpoetry.com/poem/15374219-In-Blackwater-woods-by-Mary-J-Oliver\", \n",
        "\"https://allpoetry.com/poem/15374221-The-Journey-by-Mary-J-Oliver\", \n",
        "\"https://allpoetry.com/poem/15374223-Wild-geese-by-Mary-J-Oliver\", \n",
        "\"https://allpoetry.com/poem/15374230-Yes--No--by-Mary-J-Oliver\", \n",
        "\"https://allpoetry.com/poem/15374236-Happiness-by-Mary-J-Oliver\", \n",
        "\"https://allpoetry.com/poem/15374239-Next-time-by-Mary-J-Oliver\", \n",
        "\"https://allpoetry.com/poem/15374240-The-summer-day-by-Mary-J-Oliver\", \n",
        "\"https://allpoetry.com/poem/15374244-Where-Does-the-Dance-Begin--Where-Does-It-End--by-Mary-J-Oliver\", \n",
        "\"https://allpoetry.com/poem/15374794-Breakage-by-Mary-J-Oliver\", \n",
        "\"https://allpoetry.com/poem/15374796-Song-for-Autumn-by-Mary-J-Oliver\"]\n",
        "\n",
        "Poems = Langston_Hughes_Poems + Mary_J_Oliver_Poems"
      ],
      "execution_count": 5,
      "outputs": []
    },
    {
      "cell_type": "markdown",
      "source": [
        "### Scrape Data"
      ],
      "metadata": {
        "id": "KM2TWFOgtq7G"
      }
    },
    {
      "cell_type": "code",
      "source": [
        "poems_results=[]\n",
        "def scrapePoetsPoems(urls):\n",
        "  for url in urls:\n",
        "    print(url)\n",
        "    header = {'User-Agent':'Mozilla/5.0'}\n",
        "    requests = urllib.request.Request(url,headers=header)\n",
        "    requestread = urllib.request.urlopen(requests).read()\n",
        "    soup = bs.BeautifulSoup(requestread,'html.parser')\n",
        "\n",
        "    poem_content = (beautify_txt(soup.find_all('div', class_=\"poem_body\")[0].text))\n",
        "   \n",
        "    poem_title = soup.find_all('h1')[0].text\n",
        "    poems_results.append([poem_title, poem_content])\n",
        "  return poems_results"
      ],
      "metadata": {
        "id": "4wvZl3H7t3h4"
      },
      "execution_count": 6,
      "outputs": []
    },
    {
      "cell_type": "code",
      "source": [
        "import os\n",
        "#------------------------------------------\n",
        "# try to get the poem, if it is there, load it \n",
        "# if not scarpe it into a df. #playdefense\n",
        "#\n",
        "#------------------------------------------\n",
        "def get_poems(poets_poems):\n",
        "  file_exists = os.path.exists(poets_poems)\n",
        "  print(f\"{poets_poems} file_exists\")\n",
        "  if (file_exists):\n",
        "    #load it!\n",
        "    df = pd.read_csv(poets_poems, sep=';')\n",
        "    print(df.head(2))\n",
        "    return df\n",
        "  else:\n",
        "    print_the_poem(poets_poems); # call code to scrape"
      ],
      "metadata": {
        "id": "kv5hLC_v0tiv"
      },
      "execution_count": 7,
      "outputs": []
    },
    {
      "cell_type": "code",
      "source": [
        "poem = scrapePoetsPoems(Poems)"
      ],
      "metadata": {
        "colab": {
          "base_uri": "https://localhost:8080/"
        },
        "id": "pU3r7hjUT5Jw",
        "outputId": "df64064b-73e0-4d19-ec7a-ad59d4756dcd"
      },
      "execution_count": 8,
      "outputs": [
        {
          "output_type": "stream",
          "name": "stdout",
          "text": [
            "https://allpoetry.com/Mother-To-Son\n",
            "https://allpoetry.com/The-Ballad-Of-The-Landlord\n",
            "https://allpoetry.com/I,-Too.\n",
            "https://allpoetry.com/As-I-Grew-Older\n",
            "https://allpoetry.com/The-Negro-Mother\n",
            "https://allpoetry.com/The-Negro-Speaks-Of-Rivers\n",
            "https://allpoetry.com/Trumpet-Player\n",
            "https://allpoetry.com/poem/8495535-Cross-by-Langston-Hughes\n",
            "https://allpoetry.com/Madam-and-The-Rent-Man\n",
            "https://allpoetry.com/Dream-Boogie\n",
            "https://allpoetry.com/poem/15374219-In-Blackwater-woods-by-Mary-J-Oliver\n",
            "https://allpoetry.com/poem/15374221-The-Journey-by-Mary-J-Oliver\n",
            "https://allpoetry.com/poem/15374223-Wild-geese-by-Mary-J-Oliver\n",
            "https://allpoetry.com/poem/15374230-Yes--No--by-Mary-J-Oliver\n",
            "https://allpoetry.com/poem/15374236-Happiness-by-Mary-J-Oliver\n",
            "https://allpoetry.com/poem/15374239-Next-time-by-Mary-J-Oliver\n",
            "https://allpoetry.com/poem/15374240-The-summer-day-by-Mary-J-Oliver\n",
            "https://allpoetry.com/poem/15374244-Where-Does-the-Dance-Begin--Where-Does-It-End--by-Mary-J-Oliver\n",
            "https://allpoetry.com/poem/15374794-Breakage-by-Mary-J-Oliver\n",
            "https://allpoetry.com/poem/15374796-Song-for-Autumn-by-Mary-J-Oliver\n"
          ]
        }
      ]
    },
    {
      "cell_type": "code",
      "source": [
        "poems = pd.DataFrame(poem)\n",
        "poems.columns = ['Title', 'Poem']"
      ],
      "metadata": {
        "id": "bzF576sTURSf"
      },
      "execution_count": 9,
      "outputs": []
    },
    {
      "cell_type": "code",
      "source": [
        "poems"
      ],
      "metadata": {
        "colab": {
          "base_uri": "https://localhost:8080/",
          "height": 676
        },
        "id": "4aViYxnvUkv4",
        "outputId": "c099f4e6-99d9-4b35-c229-2096f68bfbb3"
      },
      "execution_count": 10,
      "outputs": [
        {
          "output_type": "execute_result",
          "data": {
            "text/plain": [
              "                                             Title  \\\n",
              "0                                    Mother To Son   \n",
              "1                       The Ballad Of The Landlord   \n",
              "2                                          I, Too.   \n",
              "3                                  As I Grew Older   \n",
              "4                                 The Negro Mother   \n",
              "5                       The Negro Speaks Of Rivers   \n",
              "6                                   Trumpet Player   \n",
              "7                                            Cross   \n",
              "8                           Madam and The Rent Man   \n",
              "9                                     Dream Boogie   \n",
              "10                             In Blackwater woods   \n",
              "11                                     The Journey   \n",
              "12                                      Wild geese   \n",
              "13                                        Yes! No!   \n",
              "14                                       Happiness   \n",
              "15                                       Next time   \n",
              "16                                  The summer day   \n",
              "17  Where Does the Dance Begin, Where Does It End?   \n",
              "18                                        Breakage   \n",
              "19                                 Song for Autumn   \n",
              "\n",
              "                                                 Poem  \n",
              "0   \\r\\n\\tWell, son, I'll tell you:\\r\\n\\tLife for ...  \n",
              "1   Landlord, landlord,\\nMy roof has sprung a leak...  \n",
              "2   \\r\\n\\tI, too, sing America.\\r\\n\\tI am the dark...  \n",
              "3   It was a long time ago.\\nI have almost forgott...  \n",
              "4   \\r\\n\\tChildren, I come back today\\r\\n\\tTo tell...  \n",
              "5   I've known rivers:I've known rivers ancient as...  \n",
              "6   The Negro\\nwith the trumpet at his lips\\nhas d...  \n",
              "7   My old man's a white old manAnd my old mother'...  \n",
              "8   The rent man knocked. \\nHe said, Howdy-do? \\nI...  \n",
              "9   \\r\\n\\tGood morning, daddy!\\r\\n\\tAin't you hear...  \n",
              "10  Look, the trees\\nare turning\\ntheir own bodies...  \n",
              "11  One day you finally knew\\nwhat you had to do, ...  \n",
              "12  You do not have to be good.\\nYou do not have t...  \n",
              "13  How necessary it is to have opinions! I think ...  \n",
              "14  In the afternoon I watched\\nthe she-bear; she ...  \n",
              "15  Next time what I'd do is look at\\nthe earth be...  \n",
              "16  Who made the world?\\nWho made the swan, and th...  \n",
              "17  Don't call this world adorable, or useful, tha...  \n",
              "18  I go down to the edge of the sea.\\nHow everyth...  \n",
              "19  Don’t you imagine the leaves dream now\\nhow co...  "
            ],
            "text/html": [
              "\n",
              "  <div id=\"df-11fcd3f5-5948-410b-a4b5-42b369de9667\">\n",
              "    <div class=\"colab-df-container\">\n",
              "      <div>\n",
              "<style scoped>\n",
              "    .dataframe tbody tr th:only-of-type {\n",
              "        vertical-align: middle;\n",
              "    }\n",
              "\n",
              "    .dataframe tbody tr th {\n",
              "        vertical-align: top;\n",
              "    }\n",
              "\n",
              "    .dataframe thead th {\n",
              "        text-align: right;\n",
              "    }\n",
              "</style>\n",
              "<table border=\"1\" class=\"dataframe\">\n",
              "  <thead>\n",
              "    <tr style=\"text-align: right;\">\n",
              "      <th></th>\n",
              "      <th>Title</th>\n",
              "      <th>Poem</th>\n",
              "    </tr>\n",
              "  </thead>\n",
              "  <tbody>\n",
              "    <tr>\n",
              "      <th>0</th>\n",
              "      <td>Mother To Son</td>\n",
              "      <td>\\r\\n\\tWell, son, I'll tell you:\\r\\n\\tLife for ...</td>\n",
              "    </tr>\n",
              "    <tr>\n",
              "      <th>1</th>\n",
              "      <td>The Ballad Of The Landlord</td>\n",
              "      <td>Landlord, landlord,\\nMy roof has sprung a leak...</td>\n",
              "    </tr>\n",
              "    <tr>\n",
              "      <th>2</th>\n",
              "      <td>I, Too.</td>\n",
              "      <td>\\r\\n\\tI, too, sing America.\\r\\n\\tI am the dark...</td>\n",
              "    </tr>\n",
              "    <tr>\n",
              "      <th>3</th>\n",
              "      <td>As I Grew Older</td>\n",
              "      <td>It was a long time ago.\\nI have almost forgott...</td>\n",
              "    </tr>\n",
              "    <tr>\n",
              "      <th>4</th>\n",
              "      <td>The Negro Mother</td>\n",
              "      <td>\\r\\n\\tChildren, I come back today\\r\\n\\tTo tell...</td>\n",
              "    </tr>\n",
              "    <tr>\n",
              "      <th>5</th>\n",
              "      <td>The Negro Speaks Of Rivers</td>\n",
              "      <td>I've known rivers:I've known rivers ancient as...</td>\n",
              "    </tr>\n",
              "    <tr>\n",
              "      <th>6</th>\n",
              "      <td>Trumpet Player</td>\n",
              "      <td>The Negro\\nwith the trumpet at his lips\\nhas d...</td>\n",
              "    </tr>\n",
              "    <tr>\n",
              "      <th>7</th>\n",
              "      <td>Cross</td>\n",
              "      <td>My old man's a white old manAnd my old mother'...</td>\n",
              "    </tr>\n",
              "    <tr>\n",
              "      <th>8</th>\n",
              "      <td>Madam and The Rent Man</td>\n",
              "      <td>The rent man knocked. \\nHe said, Howdy-do? \\nI...</td>\n",
              "    </tr>\n",
              "    <tr>\n",
              "      <th>9</th>\n",
              "      <td>Dream Boogie</td>\n",
              "      <td>\\r\\n\\tGood morning, daddy!\\r\\n\\tAin't you hear...</td>\n",
              "    </tr>\n",
              "    <tr>\n",
              "      <th>10</th>\n",
              "      <td>In Blackwater woods</td>\n",
              "      <td>Look, the trees\\nare turning\\ntheir own bodies...</td>\n",
              "    </tr>\n",
              "    <tr>\n",
              "      <th>11</th>\n",
              "      <td>The Journey</td>\n",
              "      <td>One day you finally knew\\nwhat you had to do, ...</td>\n",
              "    </tr>\n",
              "    <tr>\n",
              "      <th>12</th>\n",
              "      <td>Wild geese</td>\n",
              "      <td>You do not have to be good.\\nYou do not have t...</td>\n",
              "    </tr>\n",
              "    <tr>\n",
              "      <th>13</th>\n",
              "      <td>Yes! No!</td>\n",
              "      <td>How necessary it is to have opinions! I think ...</td>\n",
              "    </tr>\n",
              "    <tr>\n",
              "      <th>14</th>\n",
              "      <td>Happiness</td>\n",
              "      <td>In the afternoon I watched\\nthe she-bear; she ...</td>\n",
              "    </tr>\n",
              "    <tr>\n",
              "      <th>15</th>\n",
              "      <td>Next time</td>\n",
              "      <td>Next time what I'd do is look at\\nthe earth be...</td>\n",
              "    </tr>\n",
              "    <tr>\n",
              "      <th>16</th>\n",
              "      <td>The summer day</td>\n",
              "      <td>Who made the world?\\nWho made the swan, and th...</td>\n",
              "    </tr>\n",
              "    <tr>\n",
              "      <th>17</th>\n",
              "      <td>Where Does the Dance Begin, Where Does It End?</td>\n",
              "      <td>Don't call this world adorable, or useful, tha...</td>\n",
              "    </tr>\n",
              "    <tr>\n",
              "      <th>18</th>\n",
              "      <td>Breakage</td>\n",
              "      <td>I go down to the edge of the sea.\\nHow everyth...</td>\n",
              "    </tr>\n",
              "    <tr>\n",
              "      <th>19</th>\n",
              "      <td>Song for Autumn</td>\n",
              "      <td>Don’t you imagine the leaves dream now\\nhow co...</td>\n",
              "    </tr>\n",
              "  </tbody>\n",
              "</table>\n",
              "</div>\n",
              "      <button class=\"colab-df-convert\" onclick=\"convertToInteractive('df-11fcd3f5-5948-410b-a4b5-42b369de9667')\"\n",
              "              title=\"Convert this dataframe to an interactive table.\"\n",
              "              style=\"display:none;\">\n",
              "        \n",
              "  <svg xmlns=\"http://www.w3.org/2000/svg\" height=\"24px\"viewBox=\"0 0 24 24\"\n",
              "       width=\"24px\">\n",
              "    <path d=\"M0 0h24v24H0V0z\" fill=\"none\"/>\n",
              "    <path d=\"M18.56 5.44l.94 2.06.94-2.06 2.06-.94-2.06-.94-.94-2.06-.94 2.06-2.06.94zm-11 1L8.5 8.5l.94-2.06 2.06-.94-2.06-.94L8.5 2.5l-.94 2.06-2.06.94zm10 10l.94 2.06.94-2.06 2.06-.94-2.06-.94-.94-2.06-.94 2.06-2.06.94z\"/><path d=\"M17.41 7.96l-1.37-1.37c-.4-.4-.92-.59-1.43-.59-.52 0-1.04.2-1.43.59L10.3 9.45l-7.72 7.72c-.78.78-.78 2.05 0 2.83L4 21.41c.39.39.9.59 1.41.59.51 0 1.02-.2 1.41-.59l7.78-7.78 2.81-2.81c.8-.78.8-2.07 0-2.86zM5.41 20L4 18.59l7.72-7.72 1.47 1.35L5.41 20z\"/>\n",
              "  </svg>\n",
              "      </button>\n",
              "      \n",
              "  <style>\n",
              "    .colab-df-container {\n",
              "      display:flex;\n",
              "      flex-wrap:wrap;\n",
              "      gap: 12px;\n",
              "    }\n",
              "\n",
              "    .colab-df-convert {\n",
              "      background-color: #E8F0FE;\n",
              "      border: none;\n",
              "      border-radius: 50%;\n",
              "      cursor: pointer;\n",
              "      display: none;\n",
              "      fill: #1967D2;\n",
              "      height: 32px;\n",
              "      padding: 0 0 0 0;\n",
              "      width: 32px;\n",
              "    }\n",
              "\n",
              "    .colab-df-convert:hover {\n",
              "      background-color: #E2EBFA;\n",
              "      box-shadow: 0px 1px 2px rgba(60, 64, 67, 0.3), 0px 1px 3px 1px rgba(60, 64, 67, 0.15);\n",
              "      fill: #174EA6;\n",
              "    }\n",
              "\n",
              "    [theme=dark] .colab-df-convert {\n",
              "      background-color: #3B4455;\n",
              "      fill: #D2E3FC;\n",
              "    }\n",
              "\n",
              "    [theme=dark] .colab-df-convert:hover {\n",
              "      background-color: #434B5C;\n",
              "      box-shadow: 0px 1px 3px 1px rgba(0, 0, 0, 0.15);\n",
              "      filter: drop-shadow(0px 1px 2px rgba(0, 0, 0, 0.3));\n",
              "      fill: #FFFFFF;\n",
              "    }\n",
              "  </style>\n",
              "\n",
              "      <script>\n",
              "        const buttonEl =\n",
              "          document.querySelector('#df-11fcd3f5-5948-410b-a4b5-42b369de9667 button.colab-df-convert');\n",
              "        buttonEl.style.display =\n",
              "          google.colab.kernel.accessAllowed ? 'block' : 'none';\n",
              "\n",
              "        async function convertToInteractive(key) {\n",
              "          const element = document.querySelector('#df-11fcd3f5-5948-410b-a4b5-42b369de9667');\n",
              "          const dataTable =\n",
              "            await google.colab.kernel.invokeFunction('convertToInteractive',\n",
              "                                                     [key], {});\n",
              "          if (!dataTable) return;\n",
              "\n",
              "          const docLinkHtml = 'Like what you see? Visit the ' +\n",
              "            '<a target=\"_blank\" href=https://colab.research.google.com/notebooks/data_table.ipynb>data table notebook</a>'\n",
              "            + ' to learn more about interactive tables.';\n",
              "          element.innerHTML = '';\n",
              "          dataTable['output_type'] = 'display_data';\n",
              "          await google.colab.output.renderOutput(dataTable, element);\n",
              "          const docLink = document.createElement('div');\n",
              "          docLink.innerHTML = docLinkHtml;\n",
              "          element.appendChild(docLink);\n",
              "        }\n",
              "      </script>\n",
              "    </div>\n",
              "  </div>\n",
              "  "
            ]
          },
          "metadata": {},
          "execution_count": 10
        }
      ]
    },
    {
      "cell_type": "markdown",
      "source": [
        "### NLP Pre-Processing"
      ],
      "metadata": {
        "id": "we9mLr8OKVMJ"
      }
    },
    {
      "cell_type": "markdown",
      "source": [
        "#### Installation"
      ],
      "metadata": {
        "id": "uA_ivlziTIMq"
      }
    },
    {
      "cell_type": "code",
      "source": [
        "# # install spacy large english language model to use\n",
        "# ! python -m spacy download en_core_web_lg"
      ],
      "metadata": {
        "id": "V42kda0vTJ-g"
      },
      "execution_count": 11,
      "outputs": []
    },
    {
      "cell_type": "code",
      "source": [
        "# exit()"
      ],
      "metadata": {
        "id": "lKgIRTKVTTy4"
      },
      "execution_count": 12,
      "outputs": []
    },
    {
      "cell_type": "markdown",
      "source": [
        "#### POS"
      ],
      "metadata": {
        "id": "Zlj3ui72X76x"
      }
    },
    {
      "cell_type": "code",
      "source": [
        "nlp = spacy.load('en_core_web_sm')"
      ],
      "metadata": {
        "id": "q5fQqhkUajaT"
      },
      "execution_count": 13,
      "outputs": []
    },
    {
      "cell_type": "code",
      "source": [
        "corpus1 = poems['Poem'][0]\n",
        "corpus2 = poems['Poem'][1]"
      ],
      "metadata": {
        "id": "6-BIM9rEakyd"
      },
      "execution_count": 14,
      "outputs": []
    },
    {
      "cell_type": "code",
      "source": [
        "print(\"Corpus of poem 1:\\n\")\n",
        "print(corpus1)\n",
        "print(\"\\nCorpus of poem 2:\\n\")\n",
        "print(corpus2)"
      ],
      "metadata": {
        "colab": {
          "base_uri": "https://localhost:8080/"
        },
        "id": "HcuoCuutbx-g",
        "outputId": "c14af6ad-2eea-4928-b291-bd3e6873b247"
      },
      "execution_count": 15,
      "outputs": [
        {
          "output_type": "stream",
          "name": "stdout",
          "text": [
            "Corpus of poem 1:\n",
            "\n",
            "\r\n",
            "\tWell, son, I'll tell you:\r\n",
            "\tLife for me ain't been no crystal stair.\r\n",
            "\tIt's had tacks in it,\r\n",
            "\tAnd splinters,\r\n",
            "\tAnd boards torn up,\r\n",
            "\tAnd places with no carpet on the floor—\r\n",
            "\tBare.\r\n",
            "\tBut all the time\r\n",
            "\tI'se been a-climbin' on,\r\n",
            "\tAnd reachin' landin's,\r\n",
            "\tAnd turnin' corners,\r\n",
            "\tAnd sometimes goin' in the dark\r\n",
            "\tWhere there ain't been no light.\r\n",
            "\tSo, boy, don't you turn back.\r\n",
            "\tDon't you set down on the steps.\r\n",
            "\t'Cause you finds it's kinder hard.\r\n",
            "\tDon't you fall now—\r\n",
            "\tFor I'se still goin', honey,\r\n",
            "\tI'se still climbin',\r\n",
            "\tAnd life for me ain't been no crystal stair. © by owner. provided at no charge for educational purposes    \n",
            "\n",
            "Corpus of poem 2:\n",
            "\n",
            "Landlord, landlord,\n",
            "My roof has sprung a leak.\n",
            "Don't you 'member I told you about it\n",
            "Way last week?\n",
            "\n",
            "Landlord, landlord,\n",
            "These steps is broken down.\n",
            "When you come up yourself\n",
            "It's a wonder you don't fall down.\n",
            "\n",
            "Ten Bucks you say I owe you?\n",
            "Ten Bucks you say is due?\n",
            "Well, that's Ten Bucks more'n I'l pay you\n",
            "Till you fix this house up new.\n",
            "\n",
            "What? You gonna get eviction orders?\n",
            "You gonna cut off my heat?\n",
            "You gonna take my furniture and\n",
            "Throw it in the street?\n",
            "\n",
            "Um-huh! You talking high and mighty.\n",
            "Talk on-till you get through.\n",
            "You ain't gonna be able to say a word\n",
            "If I land my fist on you.\n",
            "\n",
            "Police! Police!\n",
            "Come and get this man!\n",
            "He's trying to ruin the government\n",
            "And overturn the land!\n",
            "\n",
            "Copper's whistle!\n",
            "Patrol bell!\n",
            "Arrest.\n",
            "Precinct Station.\n",
            "Iron cell.\n",
            "Headlines in press:\n",
            "MAN THREATENS LANDLORD\n",
            "TENANT HELD NO BAIL\n",
            "JUDGE GIVES NEGRO 90 DAYS IN COUNTY JAIL!From THE LANGSTON HUGHES READER, p. 101, © 1957.\n",
            "This poem by Langston Hughes grew out of conditions in New York City’s Harlem in the 1930’s.  In graphic terms it describes the escalation of anger and frustration that tenants experienced trying to get landlords to make basic repairs. It is structured like an old time blues song until the final verse where the rhythm changes.\n",
            "\n",
            "Charley Noble © by owner. provided at no charge for educational purposes    \n"
          ]
        }
      ]
    },
    {
      "cell_type": "code",
      "source": [
        "removed_char_list = [[]] * poems.shape[0]"
      ],
      "metadata": {
        "id": "IsGqtQ3ElRGi"
      },
      "execution_count": 16,
      "outputs": []
    },
    {
      "cell_type": "code",
      "source": [
        "for i in range(poems.shape[0]):\n",
        "  removed_char_list[i] = [re.sub(r\"[^a-zA-Z0-9]+\", ' ', doc) for doc in poems['Poem'][i]]"
      ],
      "metadata": {
        "id": "XxLK16gLn2rQ"
      },
      "execution_count": 17,
      "outputs": []
    },
    {
      "cell_type": "code",
      "source": [
        "for i in range(poems.shape[0]):\n",
        "  removed_char_list[i] = ''.join([str(elem) for elem in removed_char_list[i]])"
      ],
      "metadata": {
        "id": "vBjihiRIctJN"
      },
      "execution_count": 18,
      "outputs": []
    },
    {
      "cell_type": "code",
      "source": [
        "for i in range(poems.shape[0]):\n",
        "  print(\"Clean Version of poem \")\n",
        "  print(i) \n",
        "  print(\" \")\n",
        "  print(removed_char_list[i])"
      ],
      "metadata": {
        "colab": {
          "base_uri": "https://localhost:8080/"
        },
        "id": "VWeMTjm4OdUO",
        "outputId": "6de2d4a1-1d24-4ef3-a066-0ec3d76e02f5"
      },
      "execution_count": 19,
      "outputs": [
        {
          "output_type": "stream",
          "name": "stdout",
          "text": [
            "Clean Version of poem \n",
            "0\n",
            " \n",
            "   Well  son  I ll tell you    Life for me ain t been no crystal stair    It s had tacks in it    And splinters    And boards torn up    And places with no carpet on the floor    Bare    But all the time   I se been a climbin  on    And reachin  landin s    And turnin  corners    And sometimes goin  in the dark   Where there ain t been no light    So  boy  don t you turn back    Don t you set down on the steps     Cause you finds it s kinder hard    Don t you fall now    For I se still goin   honey    I se still climbin     And life for me ain t been no crystal stair    by owner  provided at no charge for educational purposes    \n",
            "Clean Version of poem \n",
            "1\n",
            " \n",
            "Landlord  landlord  My roof has sprung a leak  Don t you  member I told you about it Way last week   Landlord  landlord  These steps is broken down  When you come up yourself It s a wonder you don t fall down   Ten Bucks you say I owe you  Ten Bucks you say is due  Well  that s Ten Bucks more n I l pay you Till you fix this house up new   What  You gonna get eviction orders  You gonna cut off my heat  You gonna take my furniture and Throw it in the street   Um huh  You talking high and mighty  Talk on till you get through  You ain t gonna be able to say a word If I land my fist on you   Police  Police  Come and get this man  He s trying to ruin the government And overturn the land   Copper s whistle  Patrol bell  Arrest  Precinct Station  Iron cell  Headlines in press  MAN THREATENS LANDLORD TENANT HELD NO BAIL JUDGE GIVES NEGRO 90 DAYS IN COUNTY JAIL From THE LANGSTON HUGHES READER  p  101    1957  This poem by Langston Hughes grew out of conditions in New York City s Harlem in the 1930 s   In graphic terms it describes the escalation of anger and frustration that tenants experienced trying to get landlords to make basic repairs  It is structured like an old time blues song until the final verse where the rhythm changes   Charley Noble   by owner  provided at no charge for educational purposes    \n",
            "Clean Version of poem \n",
            "2\n",
            " \n",
            "   I  too  sing America    I am the darker brother    They send me to eat in the kitchen   When company comes    But I laugh    And eat well    And grow strong    Tomorrow    I ll be at the table   When company comes    Nobody ll dare   Say to me     Eat in the kitchen     Then    Besides    They ll see how beautiful I am   And be ashamed    I  too  am America  http   www poetryarchive org poetryarchive singlePoem do poemId 1552   Listen to Langston Hughes read this poem recorded in 1955   by owner  provided at no charge for educational purposes    \n",
            "Clean Version of poem \n",
            "3\n",
            " \n",
            "It was a long time ago  I have almost forgotten my dream  But it was there then  In front of me  Bright like a sun  My dream  And then the wall rose  Rose slowly  Slowly  Between me and my dream  Rose until it touched the sky  The wall  Shadow  I am black  I lie down in the shadow  No longer the light of my dream before me  Above me  Only the thick wall  Only the shadow  My hands  My dark hands  Break through the wall  Find my dream  Help me to shatter this darkness  To smash this night  To break this shadow Into a thousand lights of sun  Into a thousand whirling dreams Of sun    by owner  provided at no charge for educational purposes     \n",
            "Clean Version of poem \n",
            "4\n",
            " \n",
            "   Children  I come back today   To tell you a story of the long dark way   That I had to climb  that I had to know   In order that the race might live and grow    Look at my face   dark as the night      Yet shining like the sun with love s true light    I am the child they stole from the sand    three hundred years ago in Africa s land    I am the dark girl who crossed the wide sea   Carrying in my body the seed of the free    I am the woman who worked in the field   Bringing the cotton and the corn to yield    I am the one who labored as a slave    Beaten and mistreated for the work I gave      Children sold away from me  husband sold  too    No safety   no love  no respect was I due    Three hundred years in the deepest South    But God put a song and a prayer in my mouth     God put a dream like steel in my soul    Now  through my children  I m reaching the goal    Now  through my children  young and free    I realize the blessings deed to me    I couldn t read then  I couldn t write    I had nothing  back there in the night    Sometimes  the valley was filled with tears    But I kept trudging on through the lonely years    Sometimes  the road was hot with the sun    But I had to keep on till my work was done    I had to keep on  No stopping for me      I was the seed of the coming Free    I nourished the dream that nothing could smother   Deep in my breast   the Negro mother    I had only hope then  but now through you    Dark ones of today  my dreams must come true    All you dark children in the world out there    Remember my sweat  my pain  my despair    Remember my years  heavy with sorrow      And make of those years a torch for tomorrow    Make of my pass a road to the light   Out of the darkness  the ignorance  the night    Lift high my banner out of the dust    Stand like free men supporting my trust    Believe in the right  let none push you back    Remember the whip and the slaver s track    Remember how the strong in struggle and strife   Still bar you the way  and deny you life      But march ever forward  breaking down bars    Look ever upward at the sun and the stars    Oh  my dark children  may my dreams and my prayers   Impel you forever up the great stairs      For I will be with you till no white brother   Dares keep down the children of the Negro Mother    Many on line versions have the alternate line 20   I realized the blessing denied to me    by owner  provided at no charge for educational purposes     \n",
            "Clean Version of poem \n",
            "5\n",
            " \n",
            "I ve known rivers I ve known rivers ancient as the world and older than the     flow of human blood in human veins My soul has grown deep like the rivers I bathed in the Euphrates when dawns were young I built my hut near the Congo and it lulled me to sleep I looked upon the Nile and raised the pyramids above it I heard the singing of the Mississippi when Abe Lincoln      went down to New Orleans  and I ve seen its muddy      bosom turn all golden in the sunset I ve known rivers Ancient  dusky rivers My soul has grown deep like the rivers http   www poetryarchive org poetryarchive singlePoem do poemId 1553Recorded in 1955   Langston Hughes recites    by owner  provided at no charge for educational purposes    \n",
            "Clean Version of poem \n",
            "6\n",
            " \n",
            "The Negro with the trumpet at his lips has dark moons of weariness beneath his eyes where the smoldering memory of slave ships blazed to the crack of whips about thighs   The negro with the trumpet at his lips has a head of vibrant hair tamed down  patent leathered now until it gleams like jet  were jet a crown   The music from the trumpet at his lips is honey mixed with liquid fire the rhythm from the trumpet at his lips is ecstasy distilled from old desire   Desire that is longing for the moon where the moonlight s but a spotlight in his eyes  desire that is longing for the sea where the sea s a bar glass sucker size   The Negro with the trumpet at his lips whose jacket has a fine one button roll  does not know upon what riff the music slips   It s hypodermic needle to his soul but softly as the tune comes from his throat trouble mellows to a golden note    by owner  provided at no charge for educational purposes    \n",
            "Clean Version of poem \n",
            "7\n",
            " \n",
            "My old man s a white old manAnd my old mother s black If ever I cursed my white old manI take my curses back If ever I cursed my black old motherAnd wished she were in hell I m sorry for that evil wishAnd now I wish her wellMy old man died in a fine big house My ma died in a shack I wonder were I m going to die Being neither white nor black    by owner  provided at no charge for educational purposes    \n",
            "Clean Version of poem \n",
            "8\n",
            " \n",
            "The rent man knocked   He said  Howdy do   I said  What Can I do for you   He said  You know Your rent is due    I said  Listen   Before I d pay I d go to Hades  And rot away    The sink is broke   The water don t run   And you ain t done a thing You promised to ve done    Back window s cracked   Kitchen floor squeaks   There s rats in the cellar   And the attic leaks    He said  Madam   It s not up to me   I m just the agent   Don t you see    I said  Naturally   You pass the buck   If it s money you want You re out of luck    He said  Madam   I ain t pleased   I said  Neither am I   So we agrees  This is one of a number of Madam poems by Langston Hughes that can be considered as a linked series  Madam And The Rent Man http   oldpoetry com opoem 70753  Madam And The Census Man http   oldpoetry com opoem show 70755  Madam And Her Madam http   oldpoetry com opoem 12621  Madam And The Phone Bill http   oldpoetry com opoem 12620  Madam s Past History http   oldpoetry com opoem 70751   This one is taken from THE COLLECTED POEMS OF LANGSTON HUGHES by Langston Hughes    1994 by The Estate of Langston Hughes   The header graphic is an illustration from the Liberation News Service  the late 1970 s     by owner  provided at no charge for educational purposes     \n",
            "Clean Version of poem \n",
            "9\n",
            " \n",
            "   Good morning  daddy    Ain t you heard   The boogie woogie rumble   Of a dream deferred    Listen closely    You ll hear their feet   Beating out and beating out a     You think   It s a happy beat    Listen to it closely    Ain t you heard   something underneath   like a     What did I say    Sure    I m happy    Take it away    Hey  pop    Re bop    Mop    Y e a h    Hughes himself says that the book from which this comes  Montage of a Dream Deferred   1951  should be viewed as a complete poem in itself and not a collection of short poems    by owner  provided at no charge for educational purposes    \n",
            "Clean Version of poem \n",
            "10\n",
            " \n",
            "Look  the trees are turning their own bodies into pillars  of light  are giving off the rich fragrance of cinnamon and fulfillment   the long tapers of cattails are bursting and floating away over the blue shoulders  of the ponds  and every pond  no matter what its name is  is  nameless now  Every year everything I have ever learned  in my lifetime leads back to this  the fires and the black river of loss whose other side  is salvation  whose meaning none of us will ever know  To live in this world  you must be able to do three things  to love what is mortal  to hold it  against your bones knowing your own life depends on it  and  when the time comes to let it go  to let it go    by owner  provided at no charge for educational purposes    \n",
            "Clean Version of poem \n",
            "11\n",
            " \n",
            "One day you finally knew what you had to do  and began  though the voices around you kept shouting their bad advice    though the whole house began to tremble and you felt the old tug at your ankles   Mend my life   each voice cried  But you didn t stop  You knew what you had to do  though the wind pried with its stiff fingers at the very foundations  though their melancholy was terrible  It was already late enough  and a wild night  and the road full of fallen branches and stones  But little by little  as you left their voice behind  the stars began to burn through the sheets of clouds  and there was a new voice which you slowly recognized as your own  that kept you company as you strode deeper and deeper into the world  determined to do the only thing you could do    determined to save the only life that you could save    by owner  provided at no charge for educational purposes    \n",
            "Clean Version of poem \n",
            "12\n",
            " \n",
            "You do not have to be good  You do not have to walk on your knees For a hundred miles through the desert  repenting  You only have to let the soft animal of your body love what it loves  Tell me about despair  yours  and I will tell you mine  Meanwhile the world goes on  Meanwhile the sun and the clear pebbles of the rain are moving across the landscapes  over the prairies and the deep trees  the mountains and the rivers  Meanwhile the wild geese  high in the clean blue air  are heading home again  Whoever you are  no matter how lonely  the world offers itself to your imagination  calls to you like the wild geese  harsh and exciting    over and over announcing your place in the family of things    by owner  provided at no charge for educational purposes    \n",
            "Clean Version of poem \n",
            "13\n",
            " \n",
            "How necessary it is to have opinions  I think the spotted trout lilies are satisfied  standing a few inches above the earth  I think serenity is not something you just find in the world  like a plum tree  holding up its white petals   The violets  along the river  are opening their blue faces  like small dark lanterns   The green mosses  being so many  are as good as brawny   How important it is to walk along  not in haste but slowly  looking at everything and calling out  Yes  No  The  swan  for all his pomp  his robes of grass and petals  wants only to be allowed to live on the nameless pond  The catbrier is without fault  The water thrushes  down among the sloppy rocks  are going crazy with happiness  Imagination is better than a sharp instrument  To pay attention  this is our endless and proper work    by owner  provided at no charge for educational purposes    \n",
            "Clean Version of poem \n",
            "14\n",
            " \n",
            "In the afternoon I watched the she bear  she was looking for the secret bin of sweetness   honey  that the bees store in the trees  soft caves  Black block of gloom  she climbed down tree after tree and shuffled on through the woods  And then she found it  The honey house deep as heartwood  and dipped into it among the swarming bees   honey and comb she lipped and tongued and scooped out in her black nails  until  maybe she grew full  or sleepy  or maybe a little drunk  and sticky down the rugs of her arms  and began to hum and sway  I saw her let go of the branches  I saw her lift her honeyed muzzle into the leaves  and her thick arms  as though she would fly   an enormous bee all sweetness and wings   down into the meadows  the perfections of honeysuckle and roses and clover   to float and sleep in the sheer nets swaying from flower to flower day after shining day    by owner  provided at no charge for educational purposes    \n",
            "Clean Version of poem \n",
            "15\n",
            " \n",
            "Next time what I d do is look at the earth before saying anything  I d stop just before going into a house and be an emperor for a minute and listen better to the wind or to the air being still   When anyone talked to me  whether blame or praise or just passing time  I d watch the face  how the mouth has to work  and see any strain  any sign of what lifted the voice   And for all  I d know more    the earth bracing itself and soaring  the air finding every leaf and feather over forest and water  and for every person the body glowing inside the clothes like a light    by owner  provided at no charge for educational purposes     \n",
            "Clean Version of poem \n",
            "16\n",
            " \n",
            "Who made the world  Who made the swan  and the black bear  Who made the grasshopper  This grasshopper  I mean   the one who has flung herself out of the grass  the one who is eating sugar out of my hand  who is moving her jaws back and forth instead of up and down   who is gazing around with her enormous and complicated eyes  Now she lifts her pale forearms and thoroughly washes her face  Now she snaps her wings open  and floats away  I don t know exactly what a prayer is  I do know how to pay attention  how to fall down into the grass  how to kneel in the grass  how to be idle and blessed  how to stroll through the fields  which is what I have been doing all day  Tell me  what else should I have done  Doesn t everything die at last  and too soon  Tell me  what is it you plan to do With your one wild and precious life    by owner  provided at no charge for educational purposes    \n",
            "Clean Version of poem \n",
            "17\n",
            " \n",
            "Don t call this world adorable  or useful  that s not it  It s frisky  and a theater for more than fair winds  The eyelash of lightning is neither good nor evil  The struck tree burns like a pillar of gold  But the blue rain sinks  straight to the white feet of the trees whose mouths open  Doesn t the wind  turning in circles  invent the dance  Haven t the flowers moved  slowly  across Asia  then Europe  until at last  now  they shine in your own yard  Don t call this world an explanation  or even an education  When the Sufi poet whirled  was he looking outward  to the mountains so solidly there in a white capped ring  or was he looking to the center of everything  the seed  the egg  the idea that was also there  beautiful as a thumb curved and touching the finger  tenderly  little love ring  as he whirled  oh jug of breath  in the garden of dust    by owner  provided at no charge for educational purposes    \n",
            "Clean Version of poem \n",
            "18\n",
            " \n",
            "I go down to the edge of the sea  How everything shines in the morning light  The cusp of the whelk  the broken cupboard of the clam  the opened  blue mussels  moon snails  pale pink and barnacle scarred  and nothing at all whole or shut  but tattered  split  dropped by the gulls onto the gray rocks and all the moisture gone  It s like a schoolhouse of little words  thousands of words  First you figure out what each one means by itself  the jingle  the periwinkle  the scallop full of moonlight   Then you begin  slowly  to read the whole story    by owner  provided at no charge for educational purposes    \n",
            "Clean Version of poem \n",
            "19\n",
            " \n",
            "Don t you imagine the leaves dream now how comfortable it will be to touch the earth instead of the nothingness of the air and the endless freshets of wind  And don t you think the trees  especially those with mossy hollows  are beginning to look for  the birds that will come six  a dozen to sleep inside their bodies  And don t you hear the goldenrod whispering goodbye  the everlasting being crowned with the first tuffets of snow  The pond stiffens and the white field over which the fox runs so quickly brings out its long blue shadows  The wind wags its many tails  And in the evening the piled firewood shifts a little longing to be on its way    by owner  provided at no charge for educational purposes    \n"
          ]
        }
      ]
    },
    {
      "cell_type": "code",
      "source": [
        "poems['Doc'] = np.NaN"
      ],
      "metadata": {
        "id": "W69KfInmPHBF"
      },
      "execution_count": 20,
      "outputs": []
    },
    {
      "cell_type": "code",
      "source": [
        "for i in range(poems.shape[0]):\n",
        "  poems['Doc'][i] = nlp(removed_char_list[i])"
      ],
      "metadata": {
        "colab": {
          "base_uri": "https://localhost:8080/"
        },
        "id": "sIg_x4eKO011",
        "outputId": "d152f7f1-843f-4329-fd43-9da2f928f5c3"
      },
      "execution_count": 21,
      "outputs": [
        {
          "output_type": "stream",
          "name": "stderr",
          "text": [
            "/usr/local/lib/python3.7/dist-packages/ipykernel_launcher.py:2: SettingWithCopyWarning: \n",
            "A value is trying to be set on a copy of a slice from a DataFrame\n",
            "\n",
            "See the caveats in the documentation: https://pandas.pydata.org/pandas-docs/stable/user_guide/indexing.html#returning-a-view-versus-a-copy\n",
            "  \n",
            "/usr/local/lib/python3.7/dist-packages/pandas/core/indexing.py:1732: SettingWithCopyWarning: \n",
            "A value is trying to be set on a copy of a slice from a DataFrame\n",
            "\n",
            "See the caveats in the documentation: https://pandas.pydata.org/pandas-docs/stable/user_guide/indexing.html#returning-a-view-versus-a-copy\n",
            "  self._setitem_single_block(indexer, value, name)\n"
          ]
        }
      ]
    },
    {
      "cell_type": "code",
      "source": [
        "for i in range(poems.shape[0]):\n",
        "  print(\"POS poem \")\n",
        "  print(i) \n",
        "  print(\" \")\n",
        "  print(poems['Doc'][i])"
      ],
      "metadata": {
        "id": "ctLtRbNWbRzc",
        "colab": {
          "base_uri": "https://localhost:8080/"
        },
        "outputId": "c8bc23ab-01f2-4f67-e298-b2020d43a818"
      },
      "execution_count": 22,
      "outputs": [
        {
          "output_type": "stream",
          "name": "stdout",
          "text": [
            "POS poem \n",
            "0\n",
            " \n",
            "   Well  son  I ll tell you    Life for me ain t been no crystal stair    It s had tacks in it    And splinters    And boards torn up    And places with no carpet on the floor    Bare    But all the time   I se been a climbin  on    And reachin  landin s    And turnin  corners    And sometimes goin  in the dark   Where there ain t been no light    So  boy  don t you turn back    Don t you set down on the steps     Cause you finds it s kinder hard    Don t you fall now    For I se still goin   honey    I se still climbin     And life for me ain t been no crystal stair    by owner  provided at no charge for educational purposes    \n",
            "POS poem \n",
            "1\n",
            " \n",
            "Landlord  landlord  My roof has sprung a leak  Don t you  member I told you about it Way last week   Landlord  landlord  These steps is broken down  When you come up yourself It s a wonder you don t fall down   Ten Bucks you say I owe you  Ten Bucks you say is due  Well  that s Ten Bucks more n I l pay you Till you fix this house up new   What  You gonna get eviction orders  You gonna cut off my heat  You gonna take my furniture and Throw it in the street   Um huh  You talking high and mighty  Talk on till you get through  You ain t gonna be able to say a word If I land my fist on you   Police  Police  Come and get this man  He s trying to ruin the government And overturn the land   Copper s whistle  Patrol bell  Arrest  Precinct Station  Iron cell  Headlines in press  MAN THREATENS LANDLORD TENANT HELD NO BAIL JUDGE GIVES NEGRO 90 DAYS IN COUNTY JAIL From THE LANGSTON HUGHES READER  p  101    1957  This poem by Langston Hughes grew out of conditions in New York City s Harlem in the 1930 s   In graphic terms it describes the escalation of anger and frustration that tenants experienced trying to get landlords to make basic repairs  It is structured like an old time blues song until the final verse where the rhythm changes   Charley Noble   by owner  provided at no charge for educational purposes    \n",
            "POS poem \n",
            "2\n",
            " \n",
            "   I  too  sing America    I am the darker brother    They send me to eat in the kitchen   When company comes    But I laugh    And eat well    And grow strong    Tomorrow    I ll be at the table   When company comes    Nobody ll dare   Say to me     Eat in the kitchen     Then    Besides    They ll see how beautiful I am   And be ashamed    I  too  am America  http   www poetryarchive org poetryarchive singlePoem do poemId 1552   Listen to Langston Hughes read this poem recorded in 1955   by owner  provided at no charge for educational purposes    \n",
            "POS poem \n",
            "3\n",
            " \n",
            "It was a long time ago  I have almost forgotten my dream  But it was there then  In front of me  Bright like a sun  My dream  And then the wall rose  Rose slowly  Slowly  Between me and my dream  Rose until it touched the sky  The wall  Shadow  I am black  I lie down in the shadow  No longer the light of my dream before me  Above me  Only the thick wall  Only the shadow  My hands  My dark hands  Break through the wall  Find my dream  Help me to shatter this darkness  To smash this night  To break this shadow Into a thousand lights of sun  Into a thousand whirling dreams Of sun    by owner  provided at no charge for educational purposes     \n",
            "POS poem \n",
            "4\n",
            " \n",
            "   Children  I come back today   To tell you a story of the long dark way   That I had to climb  that I had to know   In order that the race might live and grow    Look at my face   dark as the night      Yet shining like the sun with love s true light    I am the child they stole from the sand    three hundred years ago in Africa s land    I am the dark girl who crossed the wide sea   Carrying in my body the seed of the free    I am the woman who worked in the field   Bringing the cotton and the corn to yield    I am the one who labored as a slave    Beaten and mistreated for the work I gave      Children sold away from me  husband sold  too    No safety   no love  no respect was I due    Three hundred years in the deepest South    But God put a song and a prayer in my mouth     God put a dream like steel in my soul    Now  through my children  I m reaching the goal    Now  through my children  young and free    I realize the blessings deed to me    I couldn t read then  I couldn t write    I had nothing  back there in the night    Sometimes  the valley was filled with tears    But I kept trudging on through the lonely years    Sometimes  the road was hot with the sun    But I had to keep on till my work was done    I had to keep on  No stopping for me      I was the seed of the coming Free    I nourished the dream that nothing could smother   Deep in my breast   the Negro mother    I had only hope then  but now through you    Dark ones of today  my dreams must come true    All you dark children in the world out there    Remember my sweat  my pain  my despair    Remember my years  heavy with sorrow      And make of those years a torch for tomorrow    Make of my pass a road to the light   Out of the darkness  the ignorance  the night    Lift high my banner out of the dust    Stand like free men supporting my trust    Believe in the right  let none push you back    Remember the whip and the slaver s track    Remember how the strong in struggle and strife   Still bar you the way  and deny you life      But march ever forward  breaking down bars    Look ever upward at the sun and the stars    Oh  my dark children  may my dreams and my prayers   Impel you forever up the great stairs      For I will be with you till no white brother   Dares keep down the children of the Negro Mother    Many on line versions have the alternate line 20   I realized the blessing denied to me    by owner  provided at no charge for educational purposes     \n",
            "POS poem \n",
            "5\n",
            " \n",
            "I ve known rivers I ve known rivers ancient as the world and older than the     flow of human blood in human veins My soul has grown deep like the rivers I bathed in the Euphrates when dawns were young I built my hut near the Congo and it lulled me to sleep I looked upon the Nile and raised the pyramids above it I heard the singing of the Mississippi when Abe Lincoln      went down to New Orleans  and I ve seen its muddy      bosom turn all golden in the sunset I ve known rivers Ancient  dusky rivers My soul has grown deep like the rivers http   www poetryarchive org poetryarchive singlePoem do poemId 1553Recorded in 1955   Langston Hughes recites    by owner  provided at no charge for educational purposes    \n",
            "POS poem \n",
            "6\n",
            " \n",
            "The Negro with the trumpet at his lips has dark moons of weariness beneath his eyes where the smoldering memory of slave ships blazed to the crack of whips about thighs   The negro with the trumpet at his lips has a head of vibrant hair tamed down  patent leathered now until it gleams like jet  were jet a crown   The music from the trumpet at his lips is honey mixed with liquid fire the rhythm from the trumpet at his lips is ecstasy distilled from old desire   Desire that is longing for the moon where the moonlight s but a spotlight in his eyes  desire that is longing for the sea where the sea s a bar glass sucker size   The Negro with the trumpet at his lips whose jacket has a fine one button roll  does not know upon what riff the music slips   It s hypodermic needle to his soul but softly as the tune comes from his throat trouble mellows to a golden note    by owner  provided at no charge for educational purposes    \n",
            "POS poem \n",
            "7\n",
            " \n",
            "My old man s a white old manAnd my old mother s black If ever I cursed my white old manI take my curses back If ever I cursed my black old motherAnd wished she were in hell I m sorry for that evil wishAnd now I wish her wellMy old man died in a fine big house My ma died in a shack I wonder were I m going to die Being neither white nor black    by owner  provided at no charge for educational purposes    \n",
            "POS poem \n",
            "8\n",
            " \n",
            "The rent man knocked   He said  Howdy do   I said  What Can I do for you   He said  You know Your rent is due    I said  Listen   Before I d pay I d go to Hades  And rot away    The sink is broke   The water don t run   And you ain t done a thing You promised to ve done    Back window s cracked   Kitchen floor squeaks   There s rats in the cellar   And the attic leaks    He said  Madam   It s not up to me   I m just the agent   Don t you see    I said  Naturally   You pass the buck   If it s money you want You re out of luck    He said  Madam   I ain t pleased   I said  Neither am I   So we agrees  This is one of a number of Madam poems by Langston Hughes that can be considered as a linked series  Madam And The Rent Man http   oldpoetry com opoem 70753  Madam And The Census Man http   oldpoetry com opoem show 70755  Madam And Her Madam http   oldpoetry com opoem 12621  Madam And The Phone Bill http   oldpoetry com opoem 12620  Madam s Past History http   oldpoetry com opoem 70751   This one is taken from THE COLLECTED POEMS OF LANGSTON HUGHES by Langston Hughes    1994 by The Estate of Langston Hughes   The header graphic is an illustration from the Liberation News Service  the late 1970 s     by owner  provided at no charge for educational purposes     \n",
            "POS poem \n",
            "9\n",
            " \n",
            "   Good morning  daddy    Ain t you heard   The boogie woogie rumble   Of a dream deferred    Listen closely    You ll hear their feet   Beating out and beating out a     You think   It s a happy beat    Listen to it closely    Ain t you heard   something underneath   like a     What did I say    Sure    I m happy    Take it away    Hey  pop    Re bop    Mop    Y e a h    Hughes himself says that the book from which this comes  Montage of a Dream Deferred   1951  should be viewed as a complete poem in itself and not a collection of short poems    by owner  provided at no charge for educational purposes    \n",
            "POS poem \n",
            "10\n",
            " \n",
            "Look  the trees are turning their own bodies into pillars  of light  are giving off the rich fragrance of cinnamon and fulfillment   the long tapers of cattails are bursting and floating away over the blue shoulders  of the ponds  and every pond  no matter what its name is  is  nameless now  Every year everything I have ever learned  in my lifetime leads back to this  the fires and the black river of loss whose other side  is salvation  whose meaning none of us will ever know  To live in this world  you must be able to do three things  to love what is mortal  to hold it  against your bones knowing your own life depends on it  and  when the time comes to let it go  to let it go    by owner  provided at no charge for educational purposes    \n",
            "POS poem \n",
            "11\n",
            " \n",
            "One day you finally knew what you had to do  and began  though the voices around you kept shouting their bad advice    though the whole house began to tremble and you felt the old tug at your ankles   Mend my life   each voice cried  But you didn t stop  You knew what you had to do  though the wind pried with its stiff fingers at the very foundations  though their melancholy was terrible  It was already late enough  and a wild night  and the road full of fallen branches and stones  But little by little  as you left their voice behind  the stars began to burn through the sheets of clouds  and there was a new voice which you slowly recognized as your own  that kept you company as you strode deeper and deeper into the world  determined to do the only thing you could do    determined to save the only life that you could save    by owner  provided at no charge for educational purposes    \n",
            "POS poem \n",
            "12\n",
            " \n",
            "You do not have to be good  You do not have to walk on your knees For a hundred miles through the desert  repenting  You only have to let the soft animal of your body love what it loves  Tell me about despair  yours  and I will tell you mine  Meanwhile the world goes on  Meanwhile the sun and the clear pebbles of the rain are moving across the landscapes  over the prairies and the deep trees  the mountains and the rivers  Meanwhile the wild geese  high in the clean blue air  are heading home again  Whoever you are  no matter how lonely  the world offers itself to your imagination  calls to you like the wild geese  harsh and exciting    over and over announcing your place in the family of things    by owner  provided at no charge for educational purposes    \n",
            "POS poem \n",
            "13\n",
            " \n",
            "How necessary it is to have opinions  I think the spotted trout lilies are satisfied  standing a few inches above the earth  I think serenity is not something you just find in the world  like a plum tree  holding up its white petals   The violets  along the river  are opening their blue faces  like small dark lanterns   The green mosses  being so many  are as good as brawny   How important it is to walk along  not in haste but slowly  looking at everything and calling out  Yes  No  The  swan  for all his pomp  his robes of grass and petals  wants only to be allowed to live on the nameless pond  The catbrier is without fault  The water thrushes  down among the sloppy rocks  are going crazy with happiness  Imagination is better than a sharp instrument  To pay attention  this is our endless and proper work    by owner  provided at no charge for educational purposes    \n",
            "POS poem \n",
            "14\n",
            " \n",
            "In the afternoon I watched the she bear  she was looking for the secret bin of sweetness   honey  that the bees store in the trees  soft caves  Black block of gloom  she climbed down tree after tree and shuffled on through the woods  And then she found it  The honey house deep as heartwood  and dipped into it among the swarming bees   honey and comb she lipped and tongued and scooped out in her black nails  until  maybe she grew full  or sleepy  or maybe a little drunk  and sticky down the rugs of her arms  and began to hum and sway  I saw her let go of the branches  I saw her lift her honeyed muzzle into the leaves  and her thick arms  as though she would fly   an enormous bee all sweetness and wings   down into the meadows  the perfections of honeysuckle and roses and clover   to float and sleep in the sheer nets swaying from flower to flower day after shining day    by owner  provided at no charge for educational purposes    \n",
            "POS poem \n",
            "15\n",
            " \n",
            "Next time what I d do is look at the earth before saying anything  I d stop just before going into a house and be an emperor for a minute and listen better to the wind or to the air being still   When anyone talked to me  whether blame or praise or just passing time  I d watch the face  how the mouth has to work  and see any strain  any sign of what lifted the voice   And for all  I d know more    the earth bracing itself and soaring  the air finding every leaf and feather over forest and water  and for every person the body glowing inside the clothes like a light    by owner  provided at no charge for educational purposes     \n",
            "POS poem \n",
            "16\n",
            " \n",
            "Who made the world  Who made the swan  and the black bear  Who made the grasshopper  This grasshopper  I mean   the one who has flung herself out of the grass  the one who is eating sugar out of my hand  who is moving her jaws back and forth instead of up and down   who is gazing around with her enormous and complicated eyes  Now she lifts her pale forearms and thoroughly washes her face  Now she snaps her wings open  and floats away  I don t know exactly what a prayer is  I do know how to pay attention  how to fall down into the grass  how to kneel in the grass  how to be idle and blessed  how to stroll through the fields  which is what I have been doing all day  Tell me  what else should I have done  Doesn t everything die at last  and too soon  Tell me  what is it you plan to do With your one wild and precious life    by owner  provided at no charge for educational purposes    \n",
            "POS poem \n",
            "17\n",
            " \n",
            "Don t call this world adorable  or useful  that s not it  It s frisky  and a theater for more than fair winds  The eyelash of lightning is neither good nor evil  The struck tree burns like a pillar of gold  But the blue rain sinks  straight to the white feet of the trees whose mouths open  Doesn t the wind  turning in circles  invent the dance  Haven t the flowers moved  slowly  across Asia  then Europe  until at last  now  they shine in your own yard  Don t call this world an explanation  or even an education  When the Sufi poet whirled  was he looking outward  to the mountains so solidly there in a white capped ring  or was he looking to the center of everything  the seed  the egg  the idea that was also there  beautiful as a thumb curved and touching the finger  tenderly  little love ring  as he whirled  oh jug of breath  in the garden of dust    by owner  provided at no charge for educational purposes    \n",
            "POS poem \n",
            "18\n",
            " \n",
            "I go down to the edge of the sea  How everything shines in the morning light  The cusp of the whelk  the broken cupboard of the clam  the opened  blue mussels  moon snails  pale pink and barnacle scarred  and nothing at all whole or shut  but tattered  split  dropped by the gulls onto the gray rocks and all the moisture gone  It s like a schoolhouse of little words  thousands of words  First you figure out what each one means by itself  the jingle  the periwinkle  the scallop full of moonlight   Then you begin  slowly  to read the whole story    by owner  provided at no charge for educational purposes    \n",
            "POS poem \n",
            "19\n",
            " \n",
            "Don t you imagine the leaves dream now how comfortable it will be to touch the earth instead of the nothingness of the air and the endless freshets of wind  And don t you think the trees  especially those with mossy hollows  are beginning to look for  the birds that will come six  a dozen to sleep inside their bodies  And don t you hear the goldenrod whispering goodbye  the everlasting being crowned with the first tuffets of snow  The pond stiffens and the white field over which the fox runs so quickly brings out its long blue shadows  The wind wags its many tails  And in the evening the piled firewood shifts a little longing to be on its way    by owner  provided at no charge for educational purposes    \n"
          ]
        }
      ]
    },
    {
      "cell_type": "code",
      "source": [
        "pos_list = [[]] * poems.shape[0]\n",
        "poems['POS'] = np.empty((len(poems), 0)).tolist()"
      ],
      "metadata": {
        "id": "L7YKCaP6PjXK"
      },
      "execution_count": 23,
      "outputs": []
    },
    {
      "cell_type": "code",
      "source": [
        "for i in range(poems.shape[0]):\n",
        "  for token in poems['Doc'][i]:\n",
        "    if token.pos_ in ('PROPN', 'NUM', 'VERB', 'NOUN', 'ADJ'):\n",
        "      poems['POS'][i].append(token.text)\n",
        "\n",
        "\n",
        "poems['POS']"
      ],
      "metadata": {
        "colab": {
          "base_uri": "https://localhost:8080/"
        },
        "id": "xJ3Bh0pASGRw",
        "outputId": "3271b5c9-c87a-4a8f-ffd1-9dd9ecfd394e"
      },
      "execution_count": 24,
      "outputs": [
        {
          "output_type": "execute_result",
          "data": {
            "text/plain": [
              "0     [son, ll, tell, Life, ain, t, crystal, stair, ...\n",
              "1     [Landlord, landlord, roof, sprung, leak, Don, ...\n",
              "2     [sing, America, darker, brother, send, eat, ki...\n",
              "3     [long, time, forgotten, dream, front, Bright, ...\n",
              "4     [Children, come, today, tell, story, long, dar...\n",
              "5     [ve, known, rivers, ve, known, rivers, ancient...\n",
              "6     [Negro, trumpet, lips, dark, moons, weariness,...\n",
              "7     [old, man, s, white, old, manAnd, old, mother,...\n",
              "8     [rent, man, knocked, said, said, Can, said, kn...\n",
              "9     [Good, morning, daddy, Ain, t, heard, boogie, ...\n",
              "10    [Look, trees, turning, own, bodies, pillars, l...\n",
              "11    [One, day, knew, began, voices, kept, shouting...\n",
              "12    [good, walk, knees, hundred, miles, desert, re...\n",
              "13    [necessary, opinions, think, spotted, trout, l...\n",
              "14    [afternoon, watched, bear, looking, secret, bi...\n",
              "15    [Next, time, d, look, earth, saying, d, stop, ...\n",
              "16    [made, world, made, swan, black, bear, made, g...\n",
              "17    [Don, t, call, world, adorable, useful, s, s, ...\n",
              "18    [go, edge, sea, shines, morning, light, cusp, ...\n",
              "19    [Don, t, imagine, leaves, dream, comfortable, ...\n",
              "Name: POS, dtype: object"
            ]
          },
          "metadata": {},
          "execution_count": 24
        }
      ]
    },
    {
      "cell_type": "code",
      "source": [
        "poems"
      ],
      "metadata": {
        "id": "cnx7trFJgphp",
        "colab": {
          "base_uri": "https://localhost:8080/",
          "height": 676
        },
        "outputId": "df34be57-f9de-4a07-8543-ebb1df47d916"
      },
      "execution_count": 25,
      "outputs": [
        {
          "output_type": "execute_result",
          "data": {
            "text/plain": [
              "                                             Title  \\\n",
              "0                                    Mother To Son   \n",
              "1                       The Ballad Of The Landlord   \n",
              "2                                          I, Too.   \n",
              "3                                  As I Grew Older   \n",
              "4                                 The Negro Mother   \n",
              "5                       The Negro Speaks Of Rivers   \n",
              "6                                   Trumpet Player   \n",
              "7                                            Cross   \n",
              "8                           Madam and The Rent Man   \n",
              "9                                     Dream Boogie   \n",
              "10                             In Blackwater woods   \n",
              "11                                     The Journey   \n",
              "12                                      Wild geese   \n",
              "13                                        Yes! No!   \n",
              "14                                       Happiness   \n",
              "15                                       Next time   \n",
              "16                                  The summer day   \n",
              "17  Where Does the Dance Begin, Where Does It End?   \n",
              "18                                        Breakage   \n",
              "19                                 Song for Autumn   \n",
              "\n",
              "                                                 Poem  \\\n",
              "0   \\r\\n\\tWell, son, I'll tell you:\\r\\n\\tLife for ...   \n",
              "1   Landlord, landlord,\\nMy roof has sprung a leak...   \n",
              "2   \\r\\n\\tI, too, sing America.\\r\\n\\tI am the dark...   \n",
              "3   It was a long time ago.\\nI have almost forgott...   \n",
              "4   \\r\\n\\tChildren, I come back today\\r\\n\\tTo tell...   \n",
              "5   I've known rivers:I've known rivers ancient as...   \n",
              "6   The Negro\\nwith the trumpet at his lips\\nhas d...   \n",
              "7   My old man's a white old manAnd my old mother'...   \n",
              "8   The rent man knocked. \\nHe said, Howdy-do? \\nI...   \n",
              "9   \\r\\n\\tGood morning, daddy!\\r\\n\\tAin't you hear...   \n",
              "10  Look, the trees\\nare turning\\ntheir own bodies...   \n",
              "11  One day you finally knew\\nwhat you had to do, ...   \n",
              "12  You do not have to be good.\\nYou do not have t...   \n",
              "13  How necessary it is to have opinions! I think ...   \n",
              "14  In the afternoon I watched\\nthe she-bear; she ...   \n",
              "15  Next time what I'd do is look at\\nthe earth be...   \n",
              "16  Who made the world?\\nWho made the swan, and th...   \n",
              "17  Don't call this world adorable, or useful, tha...   \n",
              "18  I go down to the edge of the sea.\\nHow everyth...   \n",
              "19  Don’t you imagine the leaves dream now\\nhow co...   \n",
              "\n",
              "                                                  Doc  \\\n",
              "0   (   , Well,  , son,  , I, ll, tell, you,    , ...   \n",
              "1   (Landlord,  , landlord,  , My, roof, has, spru...   \n",
              "2   (   , I,  , too,  , sing, America,    , I, am,...   \n",
              "3   (It, was, a, long, time, ago,  , I, have, almo...   \n",
              "4   (   , Children,  , I, come, back, today,   , T...   \n",
              "5   (I, ve, known, rivers, I, ve, known, rivers, a...   \n",
              "6   (The, Negro, with, the, trumpet, at, his, lips...   \n",
              "7   (My, old, man, s, a, white, old, manAnd, my, o...   \n",
              "8   (The, rent, man, knocked,   , He, said,  , How...   \n",
              "9   (   , Good, morning,  , daddy,    , Ain, t, yo...   \n",
              "10  (Look,  , the, trees, are, turning, their, own...   \n",
              "11  (One, day, you, finally, knew, what, you, had,...   \n",
              "12  (You, do, not, have, to, be, good,  , You, do,...   \n",
              "13  (How, necessary, it, is, to, have, opinions,  ...   \n",
              "14  (In, the, afternoon, I, watched, the, she, bea...   \n",
              "15  (Next, time, what, I, d, do, is, look, at, the...   \n",
              "16  (Who, made, the, world,  , Who, made, the, swa...   \n",
              "17  (Don, t, call, this, world, adorable,  , or, u...   \n",
              "18  (I, go, down, to, the, edge, of, the, sea,  , ...   \n",
              "19  (Don, t, you, imagine, the, leaves, dream, now...   \n",
              "\n",
              "                                                  POS  \n",
              "0   [son, ll, tell, Life, ain, t, crystal, stair, ...  \n",
              "1   [Landlord, landlord, roof, sprung, leak, Don, ...  \n",
              "2   [sing, America, darker, brother, send, eat, ki...  \n",
              "3   [long, time, forgotten, dream, front, Bright, ...  \n",
              "4   [Children, come, today, tell, story, long, dar...  \n",
              "5   [ve, known, rivers, ve, known, rivers, ancient...  \n",
              "6   [Negro, trumpet, lips, dark, moons, weariness,...  \n",
              "7   [old, man, s, white, old, manAnd, old, mother,...  \n",
              "8   [rent, man, knocked, said, said, Can, said, kn...  \n",
              "9   [Good, morning, daddy, Ain, t, heard, boogie, ...  \n",
              "10  [Look, trees, turning, own, bodies, pillars, l...  \n",
              "11  [One, day, knew, began, voices, kept, shouting...  \n",
              "12  [good, walk, knees, hundred, miles, desert, re...  \n",
              "13  [necessary, opinions, think, spotted, trout, l...  \n",
              "14  [afternoon, watched, bear, looking, secret, bi...  \n",
              "15  [Next, time, d, look, earth, saying, d, stop, ...  \n",
              "16  [made, world, made, swan, black, bear, made, g...  \n",
              "17  [Don, t, call, world, adorable, useful, s, s, ...  \n",
              "18  [go, edge, sea, shines, morning, light, cusp, ...  \n",
              "19  [Don, t, imagine, leaves, dream, comfortable, ...  "
            ],
            "text/html": [
              "\n",
              "  <div id=\"df-8327922f-b715-41b2-b7a0-183389c8a11a\">\n",
              "    <div class=\"colab-df-container\">\n",
              "      <div>\n",
              "<style scoped>\n",
              "    .dataframe tbody tr th:only-of-type {\n",
              "        vertical-align: middle;\n",
              "    }\n",
              "\n",
              "    .dataframe tbody tr th {\n",
              "        vertical-align: top;\n",
              "    }\n",
              "\n",
              "    .dataframe thead th {\n",
              "        text-align: right;\n",
              "    }\n",
              "</style>\n",
              "<table border=\"1\" class=\"dataframe\">\n",
              "  <thead>\n",
              "    <tr style=\"text-align: right;\">\n",
              "      <th></th>\n",
              "      <th>Title</th>\n",
              "      <th>Poem</th>\n",
              "      <th>Doc</th>\n",
              "      <th>POS</th>\n",
              "    </tr>\n",
              "  </thead>\n",
              "  <tbody>\n",
              "    <tr>\n",
              "      <th>0</th>\n",
              "      <td>Mother To Son</td>\n",
              "      <td>\\r\\n\\tWell, son, I'll tell you:\\r\\n\\tLife for ...</td>\n",
              "      <td>(   , Well,  , son,  , I, ll, tell, you,    , ...</td>\n",
              "      <td>[son, ll, tell, Life, ain, t, crystal, stair, ...</td>\n",
              "    </tr>\n",
              "    <tr>\n",
              "      <th>1</th>\n",
              "      <td>The Ballad Of The Landlord</td>\n",
              "      <td>Landlord, landlord,\\nMy roof has sprung a leak...</td>\n",
              "      <td>(Landlord,  , landlord,  , My, roof, has, spru...</td>\n",
              "      <td>[Landlord, landlord, roof, sprung, leak, Don, ...</td>\n",
              "    </tr>\n",
              "    <tr>\n",
              "      <th>2</th>\n",
              "      <td>I, Too.</td>\n",
              "      <td>\\r\\n\\tI, too, sing America.\\r\\n\\tI am the dark...</td>\n",
              "      <td>(   , I,  , too,  , sing, America,    , I, am,...</td>\n",
              "      <td>[sing, America, darker, brother, send, eat, ki...</td>\n",
              "    </tr>\n",
              "    <tr>\n",
              "      <th>3</th>\n",
              "      <td>As I Grew Older</td>\n",
              "      <td>It was a long time ago.\\nI have almost forgott...</td>\n",
              "      <td>(It, was, a, long, time, ago,  , I, have, almo...</td>\n",
              "      <td>[long, time, forgotten, dream, front, Bright, ...</td>\n",
              "    </tr>\n",
              "    <tr>\n",
              "      <th>4</th>\n",
              "      <td>The Negro Mother</td>\n",
              "      <td>\\r\\n\\tChildren, I come back today\\r\\n\\tTo tell...</td>\n",
              "      <td>(   , Children,  , I, come, back, today,   , T...</td>\n",
              "      <td>[Children, come, today, tell, story, long, dar...</td>\n",
              "    </tr>\n",
              "    <tr>\n",
              "      <th>5</th>\n",
              "      <td>The Negro Speaks Of Rivers</td>\n",
              "      <td>I've known rivers:I've known rivers ancient as...</td>\n",
              "      <td>(I, ve, known, rivers, I, ve, known, rivers, a...</td>\n",
              "      <td>[ve, known, rivers, ve, known, rivers, ancient...</td>\n",
              "    </tr>\n",
              "    <tr>\n",
              "      <th>6</th>\n",
              "      <td>Trumpet Player</td>\n",
              "      <td>The Negro\\nwith the trumpet at his lips\\nhas d...</td>\n",
              "      <td>(The, Negro, with, the, trumpet, at, his, lips...</td>\n",
              "      <td>[Negro, trumpet, lips, dark, moons, weariness,...</td>\n",
              "    </tr>\n",
              "    <tr>\n",
              "      <th>7</th>\n",
              "      <td>Cross</td>\n",
              "      <td>My old man's a white old manAnd my old mother'...</td>\n",
              "      <td>(My, old, man, s, a, white, old, manAnd, my, o...</td>\n",
              "      <td>[old, man, s, white, old, manAnd, old, mother,...</td>\n",
              "    </tr>\n",
              "    <tr>\n",
              "      <th>8</th>\n",
              "      <td>Madam and The Rent Man</td>\n",
              "      <td>The rent man knocked. \\nHe said, Howdy-do? \\nI...</td>\n",
              "      <td>(The, rent, man, knocked,   , He, said,  , How...</td>\n",
              "      <td>[rent, man, knocked, said, said, Can, said, kn...</td>\n",
              "    </tr>\n",
              "    <tr>\n",
              "      <th>9</th>\n",
              "      <td>Dream Boogie</td>\n",
              "      <td>\\r\\n\\tGood morning, daddy!\\r\\n\\tAin't you hear...</td>\n",
              "      <td>(   , Good, morning,  , daddy,    , Ain, t, yo...</td>\n",
              "      <td>[Good, morning, daddy, Ain, t, heard, boogie, ...</td>\n",
              "    </tr>\n",
              "    <tr>\n",
              "      <th>10</th>\n",
              "      <td>In Blackwater woods</td>\n",
              "      <td>Look, the trees\\nare turning\\ntheir own bodies...</td>\n",
              "      <td>(Look,  , the, trees, are, turning, their, own...</td>\n",
              "      <td>[Look, trees, turning, own, bodies, pillars, l...</td>\n",
              "    </tr>\n",
              "    <tr>\n",
              "      <th>11</th>\n",
              "      <td>The Journey</td>\n",
              "      <td>One day you finally knew\\nwhat you had to do, ...</td>\n",
              "      <td>(One, day, you, finally, knew, what, you, had,...</td>\n",
              "      <td>[One, day, knew, began, voices, kept, shouting...</td>\n",
              "    </tr>\n",
              "    <tr>\n",
              "      <th>12</th>\n",
              "      <td>Wild geese</td>\n",
              "      <td>You do not have to be good.\\nYou do not have t...</td>\n",
              "      <td>(You, do, not, have, to, be, good,  , You, do,...</td>\n",
              "      <td>[good, walk, knees, hundred, miles, desert, re...</td>\n",
              "    </tr>\n",
              "    <tr>\n",
              "      <th>13</th>\n",
              "      <td>Yes! No!</td>\n",
              "      <td>How necessary it is to have opinions! I think ...</td>\n",
              "      <td>(How, necessary, it, is, to, have, opinions,  ...</td>\n",
              "      <td>[necessary, opinions, think, spotted, trout, l...</td>\n",
              "    </tr>\n",
              "    <tr>\n",
              "      <th>14</th>\n",
              "      <td>Happiness</td>\n",
              "      <td>In the afternoon I watched\\nthe she-bear; she ...</td>\n",
              "      <td>(In, the, afternoon, I, watched, the, she, bea...</td>\n",
              "      <td>[afternoon, watched, bear, looking, secret, bi...</td>\n",
              "    </tr>\n",
              "    <tr>\n",
              "      <th>15</th>\n",
              "      <td>Next time</td>\n",
              "      <td>Next time what I'd do is look at\\nthe earth be...</td>\n",
              "      <td>(Next, time, what, I, d, do, is, look, at, the...</td>\n",
              "      <td>[Next, time, d, look, earth, saying, d, stop, ...</td>\n",
              "    </tr>\n",
              "    <tr>\n",
              "      <th>16</th>\n",
              "      <td>The summer day</td>\n",
              "      <td>Who made the world?\\nWho made the swan, and th...</td>\n",
              "      <td>(Who, made, the, world,  , Who, made, the, swa...</td>\n",
              "      <td>[made, world, made, swan, black, bear, made, g...</td>\n",
              "    </tr>\n",
              "    <tr>\n",
              "      <th>17</th>\n",
              "      <td>Where Does the Dance Begin, Where Does It End?</td>\n",
              "      <td>Don't call this world adorable, or useful, tha...</td>\n",
              "      <td>(Don, t, call, this, world, adorable,  , or, u...</td>\n",
              "      <td>[Don, t, call, world, adorable, useful, s, s, ...</td>\n",
              "    </tr>\n",
              "    <tr>\n",
              "      <th>18</th>\n",
              "      <td>Breakage</td>\n",
              "      <td>I go down to the edge of the sea.\\nHow everyth...</td>\n",
              "      <td>(I, go, down, to, the, edge, of, the, sea,  , ...</td>\n",
              "      <td>[go, edge, sea, shines, morning, light, cusp, ...</td>\n",
              "    </tr>\n",
              "    <tr>\n",
              "      <th>19</th>\n",
              "      <td>Song for Autumn</td>\n",
              "      <td>Don’t you imagine the leaves dream now\\nhow co...</td>\n",
              "      <td>(Don, t, you, imagine, the, leaves, dream, now...</td>\n",
              "      <td>[Don, t, imagine, leaves, dream, comfortable, ...</td>\n",
              "    </tr>\n",
              "  </tbody>\n",
              "</table>\n",
              "</div>\n",
              "      <button class=\"colab-df-convert\" onclick=\"convertToInteractive('df-8327922f-b715-41b2-b7a0-183389c8a11a')\"\n",
              "              title=\"Convert this dataframe to an interactive table.\"\n",
              "              style=\"display:none;\">\n",
              "        \n",
              "  <svg xmlns=\"http://www.w3.org/2000/svg\" height=\"24px\"viewBox=\"0 0 24 24\"\n",
              "       width=\"24px\">\n",
              "    <path d=\"M0 0h24v24H0V0z\" fill=\"none\"/>\n",
              "    <path d=\"M18.56 5.44l.94 2.06.94-2.06 2.06-.94-2.06-.94-.94-2.06-.94 2.06-2.06.94zm-11 1L8.5 8.5l.94-2.06 2.06-.94-2.06-.94L8.5 2.5l-.94 2.06-2.06.94zm10 10l.94 2.06.94-2.06 2.06-.94-2.06-.94-.94-2.06-.94 2.06-2.06.94z\"/><path d=\"M17.41 7.96l-1.37-1.37c-.4-.4-.92-.59-1.43-.59-.52 0-1.04.2-1.43.59L10.3 9.45l-7.72 7.72c-.78.78-.78 2.05 0 2.83L4 21.41c.39.39.9.59 1.41.59.51 0 1.02-.2 1.41-.59l7.78-7.78 2.81-2.81c.8-.78.8-2.07 0-2.86zM5.41 20L4 18.59l7.72-7.72 1.47 1.35L5.41 20z\"/>\n",
              "  </svg>\n",
              "      </button>\n",
              "      \n",
              "  <style>\n",
              "    .colab-df-container {\n",
              "      display:flex;\n",
              "      flex-wrap:wrap;\n",
              "      gap: 12px;\n",
              "    }\n",
              "\n",
              "    .colab-df-convert {\n",
              "      background-color: #E8F0FE;\n",
              "      border: none;\n",
              "      border-radius: 50%;\n",
              "      cursor: pointer;\n",
              "      display: none;\n",
              "      fill: #1967D2;\n",
              "      height: 32px;\n",
              "      padding: 0 0 0 0;\n",
              "      width: 32px;\n",
              "    }\n",
              "\n",
              "    .colab-df-convert:hover {\n",
              "      background-color: #E2EBFA;\n",
              "      box-shadow: 0px 1px 2px rgba(60, 64, 67, 0.3), 0px 1px 3px 1px rgba(60, 64, 67, 0.15);\n",
              "      fill: #174EA6;\n",
              "    }\n",
              "\n",
              "    [theme=dark] .colab-df-convert {\n",
              "      background-color: #3B4455;\n",
              "      fill: #D2E3FC;\n",
              "    }\n",
              "\n",
              "    [theme=dark] .colab-df-convert:hover {\n",
              "      background-color: #434B5C;\n",
              "      box-shadow: 0px 1px 3px 1px rgba(0, 0, 0, 0.15);\n",
              "      filter: drop-shadow(0px 1px 2px rgba(0, 0, 0, 0.3));\n",
              "      fill: #FFFFFF;\n",
              "    }\n",
              "  </style>\n",
              "\n",
              "      <script>\n",
              "        const buttonEl =\n",
              "          document.querySelector('#df-8327922f-b715-41b2-b7a0-183389c8a11a button.colab-df-convert');\n",
              "        buttonEl.style.display =\n",
              "          google.colab.kernel.accessAllowed ? 'block' : 'none';\n",
              "\n",
              "        async function convertToInteractive(key) {\n",
              "          const element = document.querySelector('#df-8327922f-b715-41b2-b7a0-183389c8a11a');\n",
              "          const dataTable =\n",
              "            await google.colab.kernel.invokeFunction('convertToInteractive',\n",
              "                                                     [key], {});\n",
              "          if (!dataTable) return;\n",
              "\n",
              "          const docLinkHtml = 'Like what you see? Visit the ' +\n",
              "            '<a target=\"_blank\" href=https://colab.research.google.com/notebooks/data_table.ipynb>data table notebook</a>'\n",
              "            + ' to learn more about interactive tables.';\n",
              "          element.innerHTML = '';\n",
              "          dataTable['output_type'] = 'display_data';\n",
              "          await google.colab.output.renderOutput(dataTable, element);\n",
              "          const docLink = document.createElement('div');\n",
              "          docLink.innerHTML = docLinkHtml;\n",
              "          element.appendChild(docLink);\n",
              "        }\n",
              "      </script>\n",
              "    </div>\n",
              "  </div>\n",
              "  "
            ]
          },
          "metadata": {},
          "execution_count": 25
        }
      ]
    },
    {
      "cell_type": "markdown",
      "source": [
        "### Similarity between Poet 1 (Langston Hughes) and Poet 2 (Mary J Oliver)"
      ],
      "metadata": {
        "id": "_2LVVw4-KvFC"
      }
    },
    {
      "cell_type": "code",
      "source": [
        "poet1= poems['Doc'][0]\n",
        "poet2= poems['Doc'][10]\n",
        "\n",
        "print('Similariy score between the two poets\\n')\n",
        "print(poet1.similarity(poet2))"
      ],
      "metadata": {
        "id": "7RCh6DNofO3o",
        "colab": {
          "base_uri": "https://localhost:8080/"
        },
        "outputId": "b50ef870-56e7-4b7e-e4fc-d029ca56929a"
      },
      "execution_count": 26,
      "outputs": [
        {
          "output_type": "stream",
          "name": "stdout",
          "text": [
            "Similariy score between the two poets\n",
            "\n",
            "0.7823405474316169\n"
          ]
        },
        {
          "output_type": "stream",
          "name": "stderr",
          "text": [
            "/usr/lib/python3.7/runpy.py:193: ModelsWarning: [W007] The model you're using has no word vectors loaded, so the result of the Doc.similarity method will be based on the tagger, parser and NER, which may not give useful similarity judgements. This may happen if you're using one of the small models, e.g. `en_core_web_sm`, which don't ship with word vectors and only use context-sensitive tensors. You can always add your own word vectors, or use one of the larger models instead if available.\n",
            "  \"__main__\", mod_spec)\n"
          ]
        }
      ]
    },
    {
      "cell_type": "markdown",
      "source": [
        "### Save to JSON"
      ],
      "metadata": {
        "id": "pKpSNxTPtkW0"
      }
    },
    {
      "cell_type": "code",
      "source": [
        "poems.iloc[0].to_json(r'/content/poet1.json')\n",
        "poems.iloc[1].to_json(r'/content/poet2.json')"
      ],
      "metadata": {
        "id": "auBe83l_hyB8",
        "colab": {
          "base_uri": "https://localhost:8080/",
          "height": 344
        },
        "outputId": "c47d252c-c4c0-4a10-eee8-76c70f969d1e"
      },
      "execution_count": 27,
      "outputs": [
        {
          "output_type": "error",
          "ename": "OverflowError",
          "evalue": "ignored",
          "traceback": [
            "\u001b[0;31m---------------------------------------------------------------------------\u001b[0m",
            "\u001b[0;31mOverflowError\u001b[0m                             Traceback (most recent call last)",
            "\u001b[0;32m<ipython-input-27-da8d436317fb>\u001b[0m in \u001b[0;36m<module>\u001b[0;34m()\u001b[0m\n\u001b[0;32m----> 1\u001b[0;31m \u001b[0mpoems\u001b[0m\u001b[0;34m.\u001b[0m\u001b[0miloc\u001b[0m\u001b[0;34m[\u001b[0m\u001b[0;36m0\u001b[0m\u001b[0;34m]\u001b[0m\u001b[0;34m.\u001b[0m\u001b[0mto_json\u001b[0m\u001b[0;34m(\u001b[0m\u001b[0;34mr'/content/poet1.json'\u001b[0m\u001b[0;34m)\u001b[0m\u001b[0;34m\u001b[0m\u001b[0;34m\u001b[0m\u001b[0m\n\u001b[0m\u001b[1;32m      2\u001b[0m \u001b[0mpoems\u001b[0m\u001b[0;34m.\u001b[0m\u001b[0miloc\u001b[0m\u001b[0;34m[\u001b[0m\u001b[0;36m1\u001b[0m\u001b[0;34m]\u001b[0m\u001b[0;34m.\u001b[0m\u001b[0mto_json\u001b[0m\u001b[0;34m(\u001b[0m\u001b[0;34mr'/content/poet2.json'\u001b[0m\u001b[0;34m)\u001b[0m\u001b[0;34m\u001b[0m\u001b[0;34m\u001b[0m\u001b[0m\n",
            "\u001b[0;32m/usr/local/lib/python3.7/dist-packages/pandas/core/generic.py\u001b[0m in \u001b[0;36mto_json\u001b[0;34m(self, path_or_buf, orient, date_format, double_precision, force_ascii, date_unit, default_handler, lines, compression, index, indent, storage_options)\u001b[0m\n\u001b[1;32m   2569\u001b[0m             \u001b[0mindex\u001b[0m\u001b[0;34m=\u001b[0m\u001b[0mindex\u001b[0m\u001b[0;34m,\u001b[0m\u001b[0;34m\u001b[0m\u001b[0;34m\u001b[0m\u001b[0m\n\u001b[1;32m   2570\u001b[0m             \u001b[0mindent\u001b[0m\u001b[0;34m=\u001b[0m\u001b[0mindent\u001b[0m\u001b[0;34m,\u001b[0m\u001b[0;34m\u001b[0m\u001b[0;34m\u001b[0m\u001b[0m\n\u001b[0;32m-> 2571\u001b[0;31m             \u001b[0mstorage_options\u001b[0m\u001b[0;34m=\u001b[0m\u001b[0mstorage_options\u001b[0m\u001b[0;34m,\u001b[0m\u001b[0;34m\u001b[0m\u001b[0;34m\u001b[0m\u001b[0m\n\u001b[0m\u001b[1;32m   2572\u001b[0m         )\n\u001b[1;32m   2573\u001b[0m \u001b[0;34m\u001b[0m\u001b[0m\n",
            "\u001b[0;32m/usr/local/lib/python3.7/dist-packages/pandas/io/json/_json.py\u001b[0m in \u001b[0;36mto_json\u001b[0;34m(path_or_buf, obj, orient, date_format, double_precision, force_ascii, date_unit, default_handler, lines, compression, index, indent, storage_options)\u001b[0m\n\u001b[1;32m    120\u001b[0m         \u001b[0mdefault_handler\u001b[0m\u001b[0;34m=\u001b[0m\u001b[0mdefault_handler\u001b[0m\u001b[0;34m,\u001b[0m\u001b[0;34m\u001b[0m\u001b[0;34m\u001b[0m\u001b[0m\n\u001b[1;32m    121\u001b[0m         \u001b[0mindex\u001b[0m\u001b[0;34m=\u001b[0m\u001b[0mindex\u001b[0m\u001b[0;34m,\u001b[0m\u001b[0;34m\u001b[0m\u001b[0;34m\u001b[0m\u001b[0m\n\u001b[0;32m--> 122\u001b[0;31m         \u001b[0mindent\u001b[0m\u001b[0;34m=\u001b[0m\u001b[0mindent\u001b[0m\u001b[0;34m,\u001b[0m\u001b[0;34m\u001b[0m\u001b[0;34m\u001b[0m\u001b[0m\n\u001b[0m\u001b[1;32m    123\u001b[0m     ).write()\n\u001b[1;32m    124\u001b[0m \u001b[0;34m\u001b[0m\u001b[0m\n",
            "\u001b[0;32m/usr/local/lib/python3.7/dist-packages/pandas/io/json/_json.py\u001b[0m in \u001b[0;36mwrite\u001b[0;34m(self)\u001b[0m\n\u001b[1;32m    181\u001b[0m             \u001b[0miso_dates\u001b[0m\u001b[0;34m=\u001b[0m\u001b[0miso_dates\u001b[0m\u001b[0;34m,\u001b[0m\u001b[0;34m\u001b[0m\u001b[0;34m\u001b[0m\u001b[0m\n\u001b[1;32m    182\u001b[0m             \u001b[0mdefault_handler\u001b[0m\u001b[0;34m=\u001b[0m\u001b[0mself\u001b[0m\u001b[0;34m.\u001b[0m\u001b[0mdefault_handler\u001b[0m\u001b[0;34m,\u001b[0m\u001b[0;34m\u001b[0m\u001b[0;34m\u001b[0m\u001b[0m\n\u001b[0;32m--> 183\u001b[0;31m             \u001b[0mindent\u001b[0m\u001b[0;34m=\u001b[0m\u001b[0mself\u001b[0m\u001b[0;34m.\u001b[0m\u001b[0mindent\u001b[0m\u001b[0;34m,\u001b[0m\u001b[0;34m\u001b[0m\u001b[0;34m\u001b[0m\u001b[0m\n\u001b[0m\u001b[1;32m    184\u001b[0m         )\n\u001b[1;32m    185\u001b[0m \u001b[0;34m\u001b[0m\u001b[0m\n",
            "\u001b[0;31mOverflowError\u001b[0m: Maximum recursion level reached"
          ]
        }
      ]
    },
    {
      "cell_type": "markdown",
      "source": [
        "## Create new poem"
      ],
      "metadata": {
        "id": "Djv3y4Y8jKEz"
      }
    },
    {
      "cell_type": "code",
      "source": [
        "new_poem1 = str(corpus1)"
      ],
      "metadata": {
        "id": "UYf6PN2YjhFW"
      },
      "execution_count": null,
      "outputs": []
    },
    {
      "cell_type": "code",
      "source": [
        "doc1_mappings = {}"
      ],
      "metadata": {
        "id": "BE5XwdJIjpEQ"
      },
      "execution_count": null,
      "outputs": []
    },
    {
      "cell_type": "code",
      "source": [
        "for x in poem1_pos:\n",
        "  max=-1\n",
        "  for y in poem2_pos:\n",
        "    score=nlp(x).similarity(nlp(y))\n",
        "    if score > max:\n",
        "    doc1_mappings[x]=[y,score]\n",
        "    max=score"
      ],
      "metadata": {
        "id": "sgYKAPuTjv00"
      },
      "execution_count": null,
      "outputs": []
    },
    {
      "cell_type": "code",
      "source": [
        "for key, value in doc1_mappings.items():\n",
        "  # Replace key POS with value POS in string\n",
        "  new_poem1 = new_poem1.replace(str(key), str(value[0]))"
      ],
      "metadata": {
        "id": "LVjzyktnjNmN"
      },
      "execution_count": null,
      "outputs": []
    },
    {
      "cell_type": "code",
      "source": [
        "new_poem1 = beautify_txt(new_poem1)\n",
        "new_poem1"
      ],
      "metadata": {
        "id": "pj4VqYQOkH_H"
      },
      "execution_count": null,
      "outputs": []
    },
    {
      "cell_type": "markdown",
      "metadata": {
        "id": "2KFNxXnlbQZf"
      },
      "source": [
        "## Transformers"
      ]
    },
    {
      "cell_type": "markdown",
      "source": [
        "### Functions"
      ],
      "metadata": {
        "id": "XZ04c19-v4qg"
      }
    },
    {
      "cell_type": "code",
      "metadata": {
        "id": "_5LAGGHcSjhE"
      },
      "source": [
        "def cleanPoemText(text):\n",
        "    \n",
        "    text = re.sub(r'<.*?>', ' ', text)\n",
        "    text = re.sub(r\"won't\", \"will not\", text)\n",
        "    text = re.sub(r\"can't\", \"can not\", text)\n",
        "    text = re.sub(r\"n't\", \" not\", text)\n",
        "    text = re.sub(r\"'ve\", \" have\", text)\n",
        "    text = re.sub(r\"'ll\", \" will\", text)\n",
        "    text = re.sub(r\"'re\", \" are\", text)\n",
        "\n",
        "    if embedding is not 'BERT':\n",
        "        text = re.sub(r\"[0-9]+\", ' ', text)\n",
        "        text = re.sub(r\"-\", ' ', text)\n",
        "    \n",
        "    \n",
        "    text = text.strip().lower()\n",
        "    \n",
        "    if embedding is 'WORD2VEC_NO_STOP':\n",
        "        # Removal of Stop words\n",
        "        default_stop_words = set(stopwords.words('english'))\n",
        "        default_stop_words.difference_update({'no', 'not', 'nor', 'too', 'any'})\n",
        "        stop_words = default_stop_words.union({\"'m\", \"n't\", \"'d\", \"'re\", \"'s\",\n",
        "                                               'would','must',\"'ve\",\"'ll\",'may'})\n",
        "    \n",
        "        word_list = word_tokenize(text)\n",
        "        filtered_list = [w for w in word_list if not w in stop_words]\n",
        "        text = ' '.join(filtered_list)\n",
        "    \n",
        "    if embedding is not 'BERT':\n",
        "        # Removal of other contractions\n",
        "        text = re.sub(r\"'\", ' ', text)\n",
        "    \n",
        "    # Replace punctuations with space\n",
        "    if embedding is 'BERT': # save ! ? . for end of the sentence detection [,/():;']\n",
        "        filters='\"#$%&*+<=>@[\\\\]^_`{|}~\\t\\n'\n",
        "        text = re.sub(r'\\!+', '!', text)\n",
        "        text = re.sub(r'\\?+', '?', text)\n",
        "    else:\n",
        "        filters='!\"\\'#$%&()*+,-./:;<=>?@[\\\\]^_`{|}~\\t\\n'\n",
        "    translate_dict = dict((i, \" \") for i in filters)\n",
        "    translate_map = str.maketrans(translate_dict)\n",
        "    text = text.translate(translate_map)\n",
        "    \n",
        "    if embedding is 'BERT':\n",
        "        text = re.sub(r'\\( *\\)', ' ', text)\n",
        "\n",
        "    if embedding is not 'BERT':\n",
        "        text = ' '.join([w for w in text.split() if len(w)>1])\n",
        "\n",
        "    # Replace multiple space with one space\n",
        "    text = re.sub(' +', ' ', text)\n",
        "    \n",
        "    text = ''.join(text)\n",
        "\n",
        "    return text"
      ],
      "execution_count": null,
      "outputs": []
    },
    {
      "cell_type": "code",
      "metadata": {
        "id": "Uy2v10sXeiLN"
      },
      "source": [
        "def normalization_pos(text):\n",
        "    # Lemmatization and Stemming according to POS tags\n",
        "\n",
        "    word_list = word_tokenize(text)\n",
        "    rev = []\n",
        "    lemmatizer = WordNetLemmatizer() \n",
        "    stemmer = PorterStemmer() \n",
        "    for word, tag in pos_tag(word_list):\n",
        "        if tag.startswith('J'):\n",
        "            w = lemmatizer.lemmatize(word, pos='a')\n",
        "        elif tag.startswith('V'):\n",
        "            w = lemmatizer.lemmatize(word, pos='v')\n",
        "        elif tag.startswith('N'):\n",
        "            w = lemmatizer.lemmatize(word, pos='n')\n",
        "        elif tag.startswith('R'):\n",
        "            w = lemmatizer.lemmatize(word, pos='r')\n",
        "        else:\n",
        "            w = word\n",
        "        w = stemmer.stem(w)\n",
        "        rev.append(w)\n",
        "    review = ' '.join(rev)\n",
        "    return review"
      ],
      "execution_count": null,
      "outputs": []
    },
    {
      "cell_type": "markdown",
      "source": [
        "## Embedding"
      ],
      "metadata": {
        "id": "BtZhMhx4wDxG"
      }
    },
    {
      "cell_type": "markdown",
      "source": [
        "### Installation"
      ],
      "metadata": {
        "id": "xbzm3ncFv7HZ"
      }
    },
    {
      "cell_type": "code",
      "metadata": {
        "id": "u978rv6ne2w3"
      },
      "source": [
        "# !pip install bert-embedding\n",
        "# !pip install sentence-transformers"
      ],
      "execution_count": null,
      "outputs": []
    },
    {
      "cell_type": "markdown",
      "source": [
        "### Initialization"
      ],
      "metadata": {
        "id": "Kvi5sw7yv-YD"
      }
    },
    {
      "cell_type": "code",
      "metadata": {
        "id": "p98w-uMnexM5"
      },
      "source": [
        "import os\n",
        "import random\n",
        "import numpy as np\n",
        "import pandas as pd\n",
        "import nltk\n",
        "nltk.download('punkt')\n",
        "nltk.download('stopwords')\n",
        "nltk.download('averaged_perceptron_tagger')\n",
        "nltk.download('wordnet')\n",
        "from nltk.tokenize import sent_tokenize, word_tokenize \n",
        "from nltk.corpus import stopwords\n",
        "from nltk.stem import PorterStemmer\n",
        "from nltk.stem import WordNetLemmatizer \n",
        "from nltk.corpus import wordnet\n",
        "from nltk.tag import pos_tag\n",
        "import re\n",
        "from sklearn.svm import SVC\n",
        "from sklearn.model_selection import GridSearchCV\n",
        "from sklearn.metrics import accuracy_score\n",
        "from sklearn.metrics import classification_report, confusion_matrix\n",
        "from sklearn.metrics import roc_curve, auc\n",
        "from matplotlib import pyplot as plt\n",
        "from sklearn.naive_bayes import GaussianNB, MultinomialNB\n",
        "from sklearn.tree import DecisionTreeClassifier\n",
        "from sklearn.ensemble import RandomForestClassifier\n",
        "from sklearn.neural_network import MLPClassifier\n",
        "import itertools\n",
        "from sklearn.feature_extraction.text import CountVectorizer\n",
        "from sklearn.feature_extraction.text import TfidfVectorizer\n",
        "\n",
        "from bert_embedding import BertEmbedding\n",
        "from sentence_transformers import SentenceTransformer\n",
        "import gensim \n",
        "from gensim.models import Word2Vec \n",
        "#Glove, COVE, FastText and other langauge embeddings "
      ],
      "execution_count": null,
      "outputs": []
    },
    {
      "cell_type": "code",
      "metadata": {
        "id": "1SX0IQPHcVL6"
      },
      "source": [
        "embedding = ''\n",
        "# for Word2Vec with stop words\n",
        "poems['Poem'] = poems['Poem'].apply(cleanPoemText)\n",
        "poems.head(1)"
      ],
      "execution_count": null,
      "outputs": []
    },
    {
      "cell_type": "code",
      "metadata": {
        "id": "KliNPiiZcdvU"
      },
      "source": [
        "poems['clean_text_normalized'] = poems['Poem'].apply(normalization_pos)"
      ],
      "execution_count": null,
      "outputs": []
    },
    {
      "cell_type": "code",
      "source": [
        "poems"
      ],
      "metadata": {
        "id": "xWacnatA0TaO"
      },
      "execution_count": null,
      "outputs": []
    },
    {
      "cell_type": "code",
      "source": [
        ""
      ],
      "metadata": {
        "id": "VKJQuwj0WTEr"
      },
      "execution_count": null,
      "outputs": []
    }
  ]
}