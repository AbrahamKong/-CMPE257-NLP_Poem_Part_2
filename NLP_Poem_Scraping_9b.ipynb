{
  "nbformat": 4,
  "nbformat_minor": 0,
  "metadata": {
    "colab": {
      "name": "NLP_Poetry_Part_2.ipynb",
      "provenance": [],
      "collapsed_sections": [],
      "include_colab_link": true
    },
    "kernelspec": {
      "name": "python3",
      "display_name": "Python 3"
    },
    "language_info": {
      "name": "python"
    },
    "accelerator": "GPU",
    "widgets": {
      "application/vnd.jupyter.widget-state+json": {
        "265e4b6596264dc1bc18c6b0ad71d431": {
          "model_module": "@jupyter-widgets/controls",
          "model_name": "HBoxModel",
          "model_module_version": "1.5.0",
          "state": {
            "_dom_classes": [],
            "_model_module": "@jupyter-widgets/controls",
            "_model_module_version": "1.5.0",
            "_model_name": "HBoxModel",
            "_view_count": null,
            "_view_module": "@jupyter-widgets/controls",
            "_view_module_version": "1.5.0",
            "_view_name": "HBoxView",
            "box_style": "",
            "children": [
              "IPY_MODEL_0bbcdb2323814c99adce18e2593e5332",
              "IPY_MODEL_324c688879db4ab4993422b88168145e",
              "IPY_MODEL_6adbea80065146fdb00fe92c25b53c2a"
            ],
            "layout": "IPY_MODEL_18113f25f07b4016a74018746be42953"
          }
        },
        "0bbcdb2323814c99adce18e2593e5332": {
          "model_module": "@jupyter-widgets/controls",
          "model_name": "HTMLModel",
          "model_module_version": "1.5.0",
          "state": {
            "_dom_classes": [],
            "_model_module": "@jupyter-widgets/controls",
            "_model_module_version": "1.5.0",
            "_model_name": "HTMLModel",
            "_view_count": null,
            "_view_module": "@jupyter-widgets/controls",
            "_view_module_version": "1.5.0",
            "_view_name": "HTMLView",
            "description": "",
            "description_tooltip": null,
            "layout": "IPY_MODEL_c417615159674fe39469ac43bd149d3e",
            "placeholder": "​",
            "style": "IPY_MODEL_939dbb8d607a47b180ba31a60cbba722",
            "value": "Downloading: 100%"
          }
        },
        "324c688879db4ab4993422b88168145e": {
          "model_module": "@jupyter-widgets/controls",
          "model_name": "FloatProgressModel",
          "model_module_version": "1.5.0",
          "state": {
            "_dom_classes": [],
            "_model_module": "@jupyter-widgets/controls",
            "_model_module_version": "1.5.0",
            "_model_name": "FloatProgressModel",
            "_view_count": null,
            "_view_module": "@jupyter-widgets/controls",
            "_view_module_version": "1.5.0",
            "_view_name": "ProgressView",
            "bar_style": "success",
            "description": "",
            "description_tooltip": null,
            "layout": "IPY_MODEL_885708941be64af2a3426eca155769fc",
            "max": 1199,
            "min": 0,
            "orientation": "horizontal",
            "style": "IPY_MODEL_eac490b785c64a95ae2c889ef22d9a67",
            "value": 1199
          }
        },
        "6adbea80065146fdb00fe92c25b53c2a": {
          "model_module": "@jupyter-widgets/controls",
          "model_name": "HTMLModel",
          "model_module_version": "1.5.0",
          "state": {
            "_dom_classes": [],
            "_model_module": "@jupyter-widgets/controls",
            "_model_module_version": "1.5.0",
            "_model_name": "HTMLModel",
            "_view_count": null,
            "_view_module": "@jupyter-widgets/controls",
            "_view_module_version": "1.5.0",
            "_view_name": "HTMLView",
            "description": "",
            "description_tooltip": null,
            "layout": "IPY_MODEL_bd5e54f55252459dbad3bac9907f1978",
            "placeholder": "​",
            "style": "IPY_MODEL_803b541e6b634e22abda40cfff99dbbd",
            "value": " 1.17k/1.17k [00:00&lt;00:00, 28.9kB/s]"
          }
        },
        "18113f25f07b4016a74018746be42953": {
          "model_module": "@jupyter-widgets/base",
          "model_name": "LayoutModel",
          "model_module_version": "1.2.0",
          "state": {
            "_model_module": "@jupyter-widgets/base",
            "_model_module_version": "1.2.0",
            "_model_name": "LayoutModel",
            "_view_count": null,
            "_view_module": "@jupyter-widgets/base",
            "_view_module_version": "1.2.0",
            "_view_name": "LayoutView",
            "align_content": null,
            "align_items": null,
            "align_self": null,
            "border": null,
            "bottom": null,
            "display": null,
            "flex": null,
            "flex_flow": null,
            "grid_area": null,
            "grid_auto_columns": null,
            "grid_auto_flow": null,
            "grid_auto_rows": null,
            "grid_column": null,
            "grid_gap": null,
            "grid_row": null,
            "grid_template_areas": null,
            "grid_template_columns": null,
            "grid_template_rows": null,
            "height": null,
            "justify_content": null,
            "justify_items": null,
            "left": null,
            "margin": null,
            "max_height": null,
            "max_width": null,
            "min_height": null,
            "min_width": null,
            "object_fit": null,
            "object_position": null,
            "order": null,
            "overflow": null,
            "overflow_x": null,
            "overflow_y": null,
            "padding": null,
            "right": null,
            "top": null,
            "visibility": null,
            "width": null
          }
        },
        "c417615159674fe39469ac43bd149d3e": {
          "model_module": "@jupyter-widgets/base",
          "model_name": "LayoutModel",
          "model_module_version": "1.2.0",
          "state": {
            "_model_module": "@jupyter-widgets/base",
            "_model_module_version": "1.2.0",
            "_model_name": "LayoutModel",
            "_view_count": null,
            "_view_module": "@jupyter-widgets/base",
            "_view_module_version": "1.2.0",
            "_view_name": "LayoutView",
            "align_content": null,
            "align_items": null,
            "align_self": null,
            "border": null,
            "bottom": null,
            "display": null,
            "flex": null,
            "flex_flow": null,
            "grid_area": null,
            "grid_auto_columns": null,
            "grid_auto_flow": null,
            "grid_auto_rows": null,
            "grid_column": null,
            "grid_gap": null,
            "grid_row": null,
            "grid_template_areas": null,
            "grid_template_columns": null,
            "grid_template_rows": null,
            "height": null,
            "justify_content": null,
            "justify_items": null,
            "left": null,
            "margin": null,
            "max_height": null,
            "max_width": null,
            "min_height": null,
            "min_width": null,
            "object_fit": null,
            "object_position": null,
            "order": null,
            "overflow": null,
            "overflow_x": null,
            "overflow_y": null,
            "padding": null,
            "right": null,
            "top": null,
            "visibility": null,
            "width": null
          }
        },
        "939dbb8d607a47b180ba31a60cbba722": {
          "model_module": "@jupyter-widgets/controls",
          "model_name": "DescriptionStyleModel",
          "model_module_version": "1.5.0",
          "state": {
            "_model_module": "@jupyter-widgets/controls",
            "_model_module_version": "1.5.0",
            "_model_name": "DescriptionStyleModel",
            "_view_count": null,
            "_view_module": "@jupyter-widgets/base",
            "_view_module_version": "1.2.0",
            "_view_name": "StyleView",
            "description_width": ""
          }
        },
        "885708941be64af2a3426eca155769fc": {
          "model_module": "@jupyter-widgets/base",
          "model_name": "LayoutModel",
          "model_module_version": "1.2.0",
          "state": {
            "_model_module": "@jupyter-widgets/base",
            "_model_module_version": "1.2.0",
            "_model_name": "LayoutModel",
            "_view_count": null,
            "_view_module": "@jupyter-widgets/base",
            "_view_module_version": "1.2.0",
            "_view_name": "LayoutView",
            "align_content": null,
            "align_items": null,
            "align_self": null,
            "border": null,
            "bottom": null,
            "display": null,
            "flex": null,
            "flex_flow": null,
            "grid_area": null,
            "grid_auto_columns": null,
            "grid_auto_flow": null,
            "grid_auto_rows": null,
            "grid_column": null,
            "grid_gap": null,
            "grid_row": null,
            "grid_template_areas": null,
            "grid_template_columns": null,
            "grid_template_rows": null,
            "height": null,
            "justify_content": null,
            "justify_items": null,
            "left": null,
            "margin": null,
            "max_height": null,
            "max_width": null,
            "min_height": null,
            "min_width": null,
            "object_fit": null,
            "object_position": null,
            "order": null,
            "overflow": null,
            "overflow_x": null,
            "overflow_y": null,
            "padding": null,
            "right": null,
            "top": null,
            "visibility": null,
            "width": null
          }
        },
        "eac490b785c64a95ae2c889ef22d9a67": {
          "model_module": "@jupyter-widgets/controls",
          "model_name": "ProgressStyleModel",
          "model_module_version": "1.5.0",
          "state": {
            "_model_module": "@jupyter-widgets/controls",
            "_model_module_version": "1.5.0",
            "_model_name": "ProgressStyleModel",
            "_view_count": null,
            "_view_module": "@jupyter-widgets/base",
            "_view_module_version": "1.2.0",
            "_view_name": "StyleView",
            "bar_color": null,
            "description_width": ""
          }
        },
        "bd5e54f55252459dbad3bac9907f1978": {
          "model_module": "@jupyter-widgets/base",
          "model_name": "LayoutModel",
          "model_module_version": "1.2.0",
          "state": {
            "_model_module": "@jupyter-widgets/base",
            "_model_module_version": "1.2.0",
            "_model_name": "LayoutModel",
            "_view_count": null,
            "_view_module": "@jupyter-widgets/base",
            "_view_module_version": "1.2.0",
            "_view_name": "LayoutView",
            "align_content": null,
            "align_items": null,
            "align_self": null,
            "border": null,
            "bottom": null,
            "display": null,
            "flex": null,
            "flex_flow": null,
            "grid_area": null,
            "grid_auto_columns": null,
            "grid_auto_flow": null,
            "grid_auto_rows": null,
            "grid_column": null,
            "grid_gap": null,
            "grid_row": null,
            "grid_template_areas": null,
            "grid_template_columns": null,
            "grid_template_rows": null,
            "height": null,
            "justify_content": null,
            "justify_items": null,
            "left": null,
            "margin": null,
            "max_height": null,
            "max_width": null,
            "min_height": null,
            "min_width": null,
            "object_fit": null,
            "object_position": null,
            "order": null,
            "overflow": null,
            "overflow_x": null,
            "overflow_y": null,
            "padding": null,
            "right": null,
            "top": null,
            "visibility": null,
            "width": null
          }
        },
        "803b541e6b634e22abda40cfff99dbbd": {
          "model_module": "@jupyter-widgets/controls",
          "model_name": "DescriptionStyleModel",
          "model_module_version": "1.5.0",
          "state": {
            "_model_module": "@jupyter-widgets/controls",
            "_model_module_version": "1.5.0",
            "_model_name": "DescriptionStyleModel",
            "_view_count": null,
            "_view_module": "@jupyter-widgets/base",
            "_view_module_version": "1.2.0",
            "_view_name": "StyleView",
            "description_width": ""
          }
        },
        "f7e642cb81be4288bef197e87233f4ae": {
          "model_module": "@jupyter-widgets/controls",
          "model_name": "HBoxModel",
          "model_module_version": "1.5.0",
          "state": {
            "_dom_classes": [],
            "_model_module": "@jupyter-widgets/controls",
            "_model_module_version": "1.5.0",
            "_model_name": "HBoxModel",
            "_view_count": null,
            "_view_module": "@jupyter-widgets/controls",
            "_view_module_version": "1.5.0",
            "_view_name": "HBoxView",
            "box_style": "",
            "children": [
              "IPY_MODEL_4babf76841eb46a993980f60c25b0fd6",
              "IPY_MODEL_f10c06e6a0054970b0dc54d34885889a",
              "IPY_MODEL_04591317a7944b399c54d144c6d98f1f"
            ],
            "layout": "IPY_MODEL_27c66e4b87f6486488953a6579974339"
          }
        },
        "4babf76841eb46a993980f60c25b0fd6": {
          "model_module": "@jupyter-widgets/controls",
          "model_name": "HTMLModel",
          "model_module_version": "1.5.0",
          "state": {
            "_dom_classes": [],
            "_model_module": "@jupyter-widgets/controls",
            "_model_module_version": "1.5.0",
            "_model_name": "HTMLModel",
            "_view_count": null,
            "_view_module": "@jupyter-widgets/controls",
            "_view_module_version": "1.5.0",
            "_view_name": "HTMLView",
            "description": "",
            "description_tooltip": null,
            "layout": "IPY_MODEL_01530c4cf98047d99decdfb3df271324",
            "placeholder": "​",
            "style": "IPY_MODEL_6b98503db72940a493600c9949f67071",
            "value": "Downloading: 100%"
          }
        },
        "f10c06e6a0054970b0dc54d34885889a": {
          "model_module": "@jupyter-widgets/controls",
          "model_name": "FloatProgressModel",
          "model_module_version": "1.5.0",
          "state": {
            "_dom_classes": [],
            "_model_module": "@jupyter-widgets/controls",
            "_model_module_version": "1.5.0",
            "_model_name": "FloatProgressModel",
            "_view_count": null,
            "_view_module": "@jupyter-widgets/controls",
            "_view_module_version": "1.5.0",
            "_view_name": "ProgressView",
            "bar_style": "success",
            "description": "",
            "description_tooltip": null,
            "layout": "IPY_MODEL_090f53c1b3504103818a7c9e1cde894f",
            "max": 892146080,
            "min": 0,
            "orientation": "horizontal",
            "style": "IPY_MODEL_1847878cb43a4cbf801f87085ae1e3c5",
            "value": 892146080
          }
        },
        "04591317a7944b399c54d144c6d98f1f": {
          "model_module": "@jupyter-widgets/controls",
          "model_name": "HTMLModel",
          "model_module_version": "1.5.0",
          "state": {
            "_dom_classes": [],
            "_model_module": "@jupyter-widgets/controls",
            "_model_module_version": "1.5.0",
            "_model_name": "HTMLModel",
            "_view_count": null,
            "_view_module": "@jupyter-widgets/controls",
            "_view_module_version": "1.5.0",
            "_view_name": "HTMLView",
            "description": "",
            "description_tooltip": null,
            "layout": "IPY_MODEL_2274726c1ca8468fa851ac1099680358",
            "placeholder": "​",
            "style": "IPY_MODEL_f40c97721a47472489d962bd7111a0b1",
            "value": " 851M/851M [00:27&lt;00:00, 34.2MB/s]"
          }
        },
        "27c66e4b87f6486488953a6579974339": {
          "model_module": "@jupyter-widgets/base",
          "model_name": "LayoutModel",
          "model_module_version": "1.2.0",
          "state": {
            "_model_module": "@jupyter-widgets/base",
            "_model_module_version": "1.2.0",
            "_model_name": "LayoutModel",
            "_view_count": null,
            "_view_module": "@jupyter-widgets/base",
            "_view_module_version": "1.2.0",
            "_view_name": "LayoutView",
            "align_content": null,
            "align_items": null,
            "align_self": null,
            "border": null,
            "bottom": null,
            "display": null,
            "flex": null,
            "flex_flow": null,
            "grid_area": null,
            "grid_auto_columns": null,
            "grid_auto_flow": null,
            "grid_auto_rows": null,
            "grid_column": null,
            "grid_gap": null,
            "grid_row": null,
            "grid_template_areas": null,
            "grid_template_columns": null,
            "grid_template_rows": null,
            "height": null,
            "justify_content": null,
            "justify_items": null,
            "left": null,
            "margin": null,
            "max_height": null,
            "max_width": null,
            "min_height": null,
            "min_width": null,
            "object_fit": null,
            "object_position": null,
            "order": null,
            "overflow": null,
            "overflow_x": null,
            "overflow_y": null,
            "padding": null,
            "right": null,
            "top": null,
            "visibility": null,
            "width": null
          }
        },
        "01530c4cf98047d99decdfb3df271324": {
          "model_module": "@jupyter-widgets/base",
          "model_name": "LayoutModel",
          "model_module_version": "1.2.0",
          "state": {
            "_model_module": "@jupyter-widgets/base",
            "_model_module_version": "1.2.0",
            "_model_name": "LayoutModel",
            "_view_count": null,
            "_view_module": "@jupyter-widgets/base",
            "_view_module_version": "1.2.0",
            "_view_name": "LayoutView",
            "align_content": null,
            "align_items": null,
            "align_self": null,
            "border": null,
            "bottom": null,
            "display": null,
            "flex": null,
            "flex_flow": null,
            "grid_area": null,
            "grid_auto_columns": null,
            "grid_auto_flow": null,
            "grid_auto_rows": null,
            "grid_column": null,
            "grid_gap": null,
            "grid_row": null,
            "grid_template_areas": null,
            "grid_template_columns": null,
            "grid_template_rows": null,
            "height": null,
            "justify_content": null,
            "justify_items": null,
            "left": null,
            "margin": null,
            "max_height": null,
            "max_width": null,
            "min_height": null,
            "min_width": null,
            "object_fit": null,
            "object_position": null,
            "order": null,
            "overflow": null,
            "overflow_x": null,
            "overflow_y": null,
            "padding": null,
            "right": null,
            "top": null,
            "visibility": null,
            "width": null
          }
        },
        "6b98503db72940a493600c9949f67071": {
          "model_module": "@jupyter-widgets/controls",
          "model_name": "DescriptionStyleModel",
          "model_module_version": "1.5.0",
          "state": {
            "_model_module": "@jupyter-widgets/controls",
            "_model_module_version": "1.5.0",
            "_model_name": "DescriptionStyleModel",
            "_view_count": null,
            "_view_module": "@jupyter-widgets/base",
            "_view_module_version": "1.2.0",
            "_view_name": "StyleView",
            "description_width": ""
          }
        },
        "090f53c1b3504103818a7c9e1cde894f": {
          "model_module": "@jupyter-widgets/base",
          "model_name": "LayoutModel",
          "model_module_version": "1.2.0",
          "state": {
            "_model_module": "@jupyter-widgets/base",
            "_model_module_version": "1.2.0",
            "_model_name": "LayoutModel",
            "_view_count": null,
            "_view_module": "@jupyter-widgets/base",
            "_view_module_version": "1.2.0",
            "_view_name": "LayoutView",
            "align_content": null,
            "align_items": null,
            "align_self": null,
            "border": null,
            "bottom": null,
            "display": null,
            "flex": null,
            "flex_flow": null,
            "grid_area": null,
            "grid_auto_columns": null,
            "grid_auto_flow": null,
            "grid_auto_rows": null,
            "grid_column": null,
            "grid_gap": null,
            "grid_row": null,
            "grid_template_areas": null,
            "grid_template_columns": null,
            "grid_template_rows": null,
            "height": null,
            "justify_content": null,
            "justify_items": null,
            "left": null,
            "margin": null,
            "max_height": null,
            "max_width": null,
            "min_height": null,
            "min_width": null,
            "object_fit": null,
            "object_position": null,
            "order": null,
            "overflow": null,
            "overflow_x": null,
            "overflow_y": null,
            "padding": null,
            "right": null,
            "top": null,
            "visibility": null,
            "width": null
          }
        },
        "1847878cb43a4cbf801f87085ae1e3c5": {
          "model_module": "@jupyter-widgets/controls",
          "model_name": "ProgressStyleModel",
          "model_module_version": "1.5.0",
          "state": {
            "_model_module": "@jupyter-widgets/controls",
            "_model_module_version": "1.5.0",
            "_model_name": "ProgressStyleModel",
            "_view_count": null,
            "_view_module": "@jupyter-widgets/base",
            "_view_module_version": "1.2.0",
            "_view_name": "StyleView",
            "bar_color": null,
            "description_width": ""
          }
        },
        "2274726c1ca8468fa851ac1099680358": {
          "model_module": "@jupyter-widgets/base",
          "model_name": "LayoutModel",
          "model_module_version": "1.2.0",
          "state": {
            "_model_module": "@jupyter-widgets/base",
            "_model_module_version": "1.2.0",
            "_model_name": "LayoutModel",
            "_view_count": null,
            "_view_module": "@jupyter-widgets/base",
            "_view_module_version": "1.2.0",
            "_view_name": "LayoutView",
            "align_content": null,
            "align_items": null,
            "align_self": null,
            "border": null,
            "bottom": null,
            "display": null,
            "flex": null,
            "flex_flow": null,
            "grid_area": null,
            "grid_auto_columns": null,
            "grid_auto_flow": null,
            "grid_auto_rows": null,
            "grid_column": null,
            "grid_gap": null,
            "grid_row": null,
            "grid_template_areas": null,
            "grid_template_columns": null,
            "grid_template_rows": null,
            "height": null,
            "justify_content": null,
            "justify_items": null,
            "left": null,
            "margin": null,
            "max_height": null,
            "max_width": null,
            "min_height": null,
            "min_width": null,
            "object_fit": null,
            "object_position": null,
            "order": null,
            "overflow": null,
            "overflow_x": null,
            "overflow_y": null,
            "padding": null,
            "right": null,
            "top": null,
            "visibility": null,
            "width": null
          }
        },
        "f40c97721a47472489d962bd7111a0b1": {
          "model_module": "@jupyter-widgets/controls",
          "model_name": "DescriptionStyleModel",
          "model_module_version": "1.5.0",
          "state": {
            "_model_module": "@jupyter-widgets/controls",
            "_model_module_version": "1.5.0",
            "_model_name": "DescriptionStyleModel",
            "_view_count": null,
            "_view_module": "@jupyter-widgets/base",
            "_view_module_version": "1.2.0",
            "_view_name": "StyleView",
            "description_width": ""
          }
        }
      }
    }
  },
  "cells": [
    {
      "cell_type": "markdown",
      "metadata": {
        "id": "view-in-github",
        "colab_type": "text"
      },
      "source": [
        "<a href=\"https://colab.research.google.com/github/AbrahamKong/-CMPE257-NLP_Poem_Part_2/blob/main/NLP_Poem_Scraping_9b.ipynb\" target=\"_parent\"><img src=\"https://colab.research.google.com/assets/colab-badge.svg\" alt=\"Open In Colab\"/></a>"
      ]
    },
    {
      "cell_type": "markdown",
      "metadata": {
        "id": "0zVzMVJSaP4q"
      },
      "source": [
        " \n",
        "\n",
        "#NLP Part 1 : Poetry Analysis\n",
        "\n",
        "*   NLP Basics\n",
        "*   NER, POS, vectorization / embeddings\n",
        "*   Word2Vec, Glove, Cove, FastText, etc.\n",
        "*.  Similarity of words, context\n",
        "\n",
        "\n",
        "\n",
        "\n",
        "1. NLP Data. Pick 2 poets, scrape 10 poems each . Put them in a json datastructure and save it under the poets name, in your team drive under folder 'DataSets' in the drive shared with you. \n",
        "\n",
        "2. CLAIM YOUR POETS!!! Note: your team has  to claim their 2 poets by entering in their names in this spreadsheet with a timestamp of when you entered this: no duplicate poets allowed !\n",
        "https://docs.google.com/spreadsheets/d/1-KQVrGrbz5PvLhJNXhWm55WPIpmJPvsQQ2r9U-ZieGw/edit#gid=0\n",
        "\n",
        "---for each poem of each poet:\n",
        "3. Run POS and extract verbs, nouns and adjectives (use notebook given as an example)\n",
        "\n",
        "4. Summarize each poem \n",
        "\n",
        "5. Store the summary, POS data in your json poet data structure and save to disk.\n",
        "\n",
        "6. Interchange the verbs and adjectives of the two poets based on similar words in the other poets vocabulary of verbs and adjectives\n",
        "\n",
        "6. a. save the data structure for the new poems:  poet1-poet2-poem1.json (replace poet1 adjectives and verbs with poet2's ) and poet2-poet1-poem1.json \n",
        "\n",
        "6. b. print out the new poems and save them to disk poet1-poet2.txt and poet2-poet1.txt [these files will contain 10 poems each)].\n",
        "remember to measure and compare the cohesion and perplexity of the original poems and the new poems you generate !!\n",
        "\n",
        "7. Combine poet1's and poet2's poem text and summarize it using the transformer\n",
        "\n",
        "8. Run topic modeling on the combined text of each poet: what are the top 5 topics they are writing about?\n",
        "\n",
        "9. Name the topics: use the new notebook : name_your_topic_background.ipynb (Links to an external site.) , to try and find the closest word that describes topic 0, topic 1, topic 2 : instead of topic 0, what is the closest word in that cluster that describes the topic?"
      ]
    },
    {
      "cell_type": "markdown",
      "source": [
        "# Claim 2 poets and Scrape 10 poems each\n",
        "John Keats\n",
        "Alfred Tennyson    \n",
        "\n",
        "Scraping example colab: https://colab.research.google.com/drive/1Px_UggyRiQJzrIxvLtitz-Es0aZ5Au8b?authuser=3#scrollTo=3aTGAo7rMvjN&uniqifier=1\n",
        "\n"
      ],
      "metadata": {
        "id": "GRKtsLxDZAxR"
      }
    },
    {
      "cell_type": "code",
      "metadata": {
        "id": "gWzkVGilbE7A",
        "colab": {
          "base_uri": "https://localhost:8080/"
        },
        "outputId": "e9268e84-1673-4e35-d7bb-16623f16ecb6"
      },
      "source": [
        "# !pip install nltk\n",
        "# !pip install gensim\n",
        "# !pip install transformers\n",
        "# !pip install sentence-transformers\n",
        "# !pip install pyLDAvis\n",
        "# !pip install spacy"
      ],
      "execution_count": 1,
      "outputs": [
        {
          "output_type": "stream",
          "name": "stdout",
          "text": [
            "Requirement already satisfied: nltk in /usr/local/lib/python3.7/dist-packages (3.2.5)\n",
            "Requirement already satisfied: six in /usr/local/lib/python3.7/dist-packages (from nltk) (1.15.0)\n",
            "Requirement already satisfied: gensim in /usr/local/lib/python3.7/dist-packages (3.6.0)\n",
            "Requirement already satisfied: six>=1.5.0 in /usr/local/lib/python3.7/dist-packages (from gensim) (1.15.0)\n",
            "Requirement already satisfied: numpy>=1.11.3 in /usr/local/lib/python3.7/dist-packages (from gensim) (1.21.6)\n",
            "Requirement already satisfied: smart-open>=1.2.1 in /usr/local/lib/python3.7/dist-packages (from gensim) (5.2.1)\n",
            "Requirement already satisfied: scipy>=0.18.1 in /usr/local/lib/python3.7/dist-packages (from gensim) (1.4.1)\n",
            "Collecting transformers\n",
            "  Downloading transformers-4.18.0-py3-none-any.whl (4.0 MB)\n",
            "\u001b[K     |████████████████████████████████| 4.0 MB 5.0 MB/s \n",
            "\u001b[?25hCollecting tokenizers!=0.11.3,<0.13,>=0.11.1\n",
            "  Downloading tokenizers-0.12.1-cp37-cp37m-manylinux_2_12_x86_64.manylinux2010_x86_64.whl (6.6 MB)\n",
            "\u001b[K     |████████████████████████████████| 6.6 MB 34.8 MB/s \n",
            "\u001b[?25hRequirement already satisfied: filelock in /usr/local/lib/python3.7/dist-packages (from transformers) (3.6.0)\n",
            "Requirement already satisfied: tqdm>=4.27 in /usr/local/lib/python3.7/dist-packages (from transformers) (4.64.0)\n",
            "Requirement already satisfied: importlib-metadata in /usr/local/lib/python3.7/dist-packages (from transformers) (4.11.3)\n",
            "Requirement already satisfied: numpy>=1.17 in /usr/local/lib/python3.7/dist-packages (from transformers) (1.21.6)\n",
            "Collecting huggingface-hub<1.0,>=0.1.0\n",
            "  Downloading huggingface_hub-0.5.1-py3-none-any.whl (77 kB)\n",
            "\u001b[K     |████████████████████████████████| 77 kB 4.0 MB/s \n",
            "\u001b[?25hCollecting pyyaml>=5.1\n",
            "  Downloading PyYAML-6.0-cp37-cp37m-manylinux_2_5_x86_64.manylinux1_x86_64.manylinux_2_12_x86_64.manylinux2010_x86_64.whl (596 kB)\n",
            "\u001b[K     |████████████████████████████████| 596 kB 12.7 MB/s \n",
            "\u001b[?25hRequirement already satisfied: regex!=2019.12.17 in /usr/local/lib/python3.7/dist-packages (from transformers) (2019.12.20)\n",
            "Requirement already satisfied: packaging>=20.0 in /usr/local/lib/python3.7/dist-packages (from transformers) (21.3)\n",
            "Collecting sacremoses\n",
            "  Downloading sacremoses-0.0.49-py3-none-any.whl (895 kB)\n",
            "\u001b[K     |████████████████████████████████| 895 kB 37.2 MB/s \n",
            "\u001b[?25hRequirement already satisfied: requests in /usr/local/lib/python3.7/dist-packages (from transformers) (2.23.0)\n",
            "Requirement already satisfied: typing-extensions>=3.7.4.3 in /usr/local/lib/python3.7/dist-packages (from huggingface-hub<1.0,>=0.1.0->transformers) (4.1.1)\n",
            "Requirement already satisfied: pyparsing!=3.0.5,>=2.0.2 in /usr/local/lib/python3.7/dist-packages (from packaging>=20.0->transformers) (3.0.8)\n",
            "Requirement already satisfied: zipp>=0.5 in /usr/local/lib/python3.7/dist-packages (from importlib-metadata->transformers) (3.8.0)\n",
            "Requirement already satisfied: urllib3!=1.25.0,!=1.25.1,<1.26,>=1.21.1 in /usr/local/lib/python3.7/dist-packages (from requests->transformers) (1.24.3)\n",
            "Requirement already satisfied: certifi>=2017.4.17 in /usr/local/lib/python3.7/dist-packages (from requests->transformers) (2021.10.8)\n",
            "Requirement already satisfied: chardet<4,>=3.0.2 in /usr/local/lib/python3.7/dist-packages (from requests->transformers) (3.0.4)\n",
            "Requirement already satisfied: idna<3,>=2.5 in /usr/local/lib/python3.7/dist-packages (from requests->transformers) (2.10)\n",
            "Requirement already satisfied: six in /usr/local/lib/python3.7/dist-packages (from sacremoses->transformers) (1.15.0)\n",
            "Requirement already satisfied: joblib in /usr/local/lib/python3.7/dist-packages (from sacremoses->transformers) (1.1.0)\n",
            "Requirement already satisfied: click in /usr/local/lib/python3.7/dist-packages (from sacremoses->transformers) (7.1.2)\n",
            "Installing collected packages: pyyaml, tokenizers, sacremoses, huggingface-hub, transformers\n",
            "  Attempting uninstall: pyyaml\n",
            "    Found existing installation: PyYAML 3.13\n",
            "    Uninstalling PyYAML-3.13:\n",
            "      Successfully uninstalled PyYAML-3.13\n",
            "Successfully installed huggingface-hub-0.5.1 pyyaml-6.0 sacremoses-0.0.49 tokenizers-0.12.1 transformers-4.18.0\n",
            "Collecting sentence-transformers\n",
            "  Downloading sentence-transformers-2.2.0.tar.gz (79 kB)\n",
            "\u001b[K     |████████████████████████████████| 79 kB 3.6 MB/s \n",
            "\u001b[?25hRequirement already satisfied: transformers<5.0.0,>=4.6.0 in /usr/local/lib/python3.7/dist-packages (from sentence-transformers) (4.18.0)\n",
            "Requirement already satisfied: tqdm in /usr/local/lib/python3.7/dist-packages (from sentence-transformers) (4.64.0)\n",
            "Requirement already satisfied: torch>=1.6.0 in /usr/local/lib/python3.7/dist-packages (from sentence-transformers) (1.10.0+cu111)\n",
            "Requirement already satisfied: torchvision in /usr/local/lib/python3.7/dist-packages (from sentence-transformers) (0.11.1+cu111)\n",
            "Requirement already satisfied: numpy in /usr/local/lib/python3.7/dist-packages (from sentence-transformers) (1.21.6)\n",
            "Requirement already satisfied: scikit-learn in /usr/local/lib/python3.7/dist-packages (from sentence-transformers) (1.0.2)\n",
            "Requirement already satisfied: scipy in /usr/local/lib/python3.7/dist-packages (from sentence-transformers) (1.4.1)\n",
            "Requirement already satisfied: nltk in /usr/local/lib/python3.7/dist-packages (from sentence-transformers) (3.2.5)\n",
            "Collecting sentencepiece\n",
            "  Downloading sentencepiece-0.1.96-cp37-cp37m-manylinux_2_17_x86_64.manylinux2014_x86_64.whl (1.2 MB)\n",
            "\u001b[K     |████████████████████████████████| 1.2 MB 11.1 MB/s \n",
            "\u001b[?25hRequirement already satisfied: huggingface-hub in /usr/local/lib/python3.7/dist-packages (from sentence-transformers) (0.5.1)\n",
            "Requirement already satisfied: typing-extensions in /usr/local/lib/python3.7/dist-packages (from torch>=1.6.0->sentence-transformers) (4.1.1)\n",
            "Requirement already satisfied: regex!=2019.12.17 in /usr/local/lib/python3.7/dist-packages (from transformers<5.0.0,>=4.6.0->sentence-transformers) (2019.12.20)\n",
            "Requirement already satisfied: sacremoses in /usr/local/lib/python3.7/dist-packages (from transformers<5.0.0,>=4.6.0->sentence-transformers) (0.0.49)\n",
            "Requirement already satisfied: filelock in /usr/local/lib/python3.7/dist-packages (from transformers<5.0.0,>=4.6.0->sentence-transformers) (3.6.0)\n",
            "Requirement already satisfied: importlib-metadata in /usr/local/lib/python3.7/dist-packages (from transformers<5.0.0,>=4.6.0->sentence-transformers) (4.11.3)\n",
            "Requirement already satisfied: tokenizers!=0.11.3,<0.13,>=0.11.1 in /usr/local/lib/python3.7/dist-packages (from transformers<5.0.0,>=4.6.0->sentence-transformers) (0.12.1)\n",
            "Requirement already satisfied: packaging>=20.0 in /usr/local/lib/python3.7/dist-packages (from transformers<5.0.0,>=4.6.0->sentence-transformers) (21.3)\n",
            "Requirement already satisfied: requests in /usr/local/lib/python3.7/dist-packages (from transformers<5.0.0,>=4.6.0->sentence-transformers) (2.23.0)\n",
            "Requirement already satisfied: pyyaml>=5.1 in /usr/local/lib/python3.7/dist-packages (from transformers<5.0.0,>=4.6.0->sentence-transformers) (6.0)\n",
            "Requirement already satisfied: pyparsing!=3.0.5,>=2.0.2 in /usr/local/lib/python3.7/dist-packages (from packaging>=20.0->transformers<5.0.0,>=4.6.0->sentence-transformers) (3.0.8)\n",
            "Requirement already satisfied: zipp>=0.5 in /usr/local/lib/python3.7/dist-packages (from importlib-metadata->transformers<5.0.0,>=4.6.0->sentence-transformers) (3.8.0)\n",
            "Requirement already satisfied: six in /usr/local/lib/python3.7/dist-packages (from nltk->sentence-transformers) (1.15.0)\n",
            "Requirement already satisfied: certifi>=2017.4.17 in /usr/local/lib/python3.7/dist-packages (from requests->transformers<5.0.0,>=4.6.0->sentence-transformers) (2021.10.8)\n",
            "Requirement already satisfied: idna<3,>=2.5 in /usr/local/lib/python3.7/dist-packages (from requests->transformers<5.0.0,>=4.6.0->sentence-transformers) (2.10)\n",
            "Requirement already satisfied: chardet<4,>=3.0.2 in /usr/local/lib/python3.7/dist-packages (from requests->transformers<5.0.0,>=4.6.0->sentence-transformers) (3.0.4)\n",
            "Requirement already satisfied: urllib3!=1.25.0,!=1.25.1,<1.26,>=1.21.1 in /usr/local/lib/python3.7/dist-packages (from requests->transformers<5.0.0,>=4.6.0->sentence-transformers) (1.24.3)\n",
            "Requirement already satisfied: click in /usr/local/lib/python3.7/dist-packages (from sacremoses->transformers<5.0.0,>=4.6.0->sentence-transformers) (7.1.2)\n",
            "Requirement already satisfied: joblib in /usr/local/lib/python3.7/dist-packages (from sacremoses->transformers<5.0.0,>=4.6.0->sentence-transformers) (1.1.0)\n",
            "Requirement already satisfied: threadpoolctl>=2.0.0 in /usr/local/lib/python3.7/dist-packages (from scikit-learn->sentence-transformers) (3.1.0)\n",
            "Requirement already satisfied: pillow!=8.3.0,>=5.3.0 in /usr/local/lib/python3.7/dist-packages (from torchvision->sentence-transformers) (7.1.2)\n",
            "Building wheels for collected packages: sentence-transformers\n",
            "  Building wheel for sentence-transformers (setup.py) ... \u001b[?25l\u001b[?25hdone\n",
            "  Created wheel for sentence-transformers: filename=sentence_transformers-2.2.0-py3-none-any.whl size=120747 sha256=2230e06f0f0a5c9c73e9881ae1c834636b0f7e10827d8581ed547d8972210e00\n",
            "  Stored in directory: /root/.cache/pip/wheels/83/c0/df/b6873ab7aac3f2465aa9144b6b4c41c4391cfecc027c8b07e7\n",
            "Successfully built sentence-transformers\n",
            "Installing collected packages: sentencepiece, sentence-transformers\n",
            "Successfully installed sentence-transformers-2.2.0 sentencepiece-0.1.96\n",
            "Collecting pyLDAvis\n",
            "  Downloading pyLDAvis-3.3.1.tar.gz (1.7 MB)\n",
            "\u001b[K     |████████████████████████████████| 1.7 MB 5.2 MB/s \n",
            "\u001b[?25h  Installing build dependencies ... \u001b[?25l\u001b[?25hdone\n",
            "  Getting requirements to build wheel ... \u001b[?25l\u001b[?25hdone\n",
            "  Installing backend dependencies ... \u001b[?25l\u001b[?25hdone\n",
            "    Preparing wheel metadata ... \u001b[?25l\u001b[?25hdone\n",
            "Requirement already satisfied: numpy>=1.20.0 in /usr/local/lib/python3.7/dist-packages (from pyLDAvis) (1.21.6)\n",
            "Requirement already satisfied: setuptools in /usr/local/lib/python3.7/dist-packages (from pyLDAvis) (57.4.0)\n",
            "Requirement already satisfied: future in /usr/local/lib/python3.7/dist-packages (from pyLDAvis) (0.16.0)\n",
            "Requirement already satisfied: gensim in /usr/local/lib/python3.7/dist-packages (from pyLDAvis) (3.6.0)\n",
            "Requirement already satisfied: jinja2 in /usr/local/lib/python3.7/dist-packages (from pyLDAvis) (2.11.3)\n",
            "Requirement already satisfied: numexpr in /usr/local/lib/python3.7/dist-packages (from pyLDAvis) (2.8.1)\n",
            "Collecting funcy\n",
            "  Downloading funcy-1.17-py2.py3-none-any.whl (33 kB)\n",
            "Requirement already satisfied: scikit-learn in /usr/local/lib/python3.7/dist-packages (from pyLDAvis) (1.0.2)\n",
            "Requirement already satisfied: sklearn in /usr/local/lib/python3.7/dist-packages (from pyLDAvis) (0.0)\n",
            "Requirement already satisfied: scipy in /usr/local/lib/python3.7/dist-packages (from pyLDAvis) (1.4.1)\n",
            "Requirement already satisfied: joblib in /usr/local/lib/python3.7/dist-packages (from pyLDAvis) (1.1.0)\n",
            "Requirement already satisfied: pandas>=1.2.0 in /usr/local/lib/python3.7/dist-packages (from pyLDAvis) (1.3.5)\n",
            "Requirement already satisfied: python-dateutil>=2.7.3 in /usr/local/lib/python3.7/dist-packages (from pandas>=1.2.0->pyLDAvis) (2.8.2)\n",
            "Requirement already satisfied: pytz>=2017.3 in /usr/local/lib/python3.7/dist-packages (from pandas>=1.2.0->pyLDAvis) (2022.1)\n",
            "Requirement already satisfied: six>=1.5 in /usr/local/lib/python3.7/dist-packages (from python-dateutil>=2.7.3->pandas>=1.2.0->pyLDAvis) (1.15.0)\n",
            "Requirement already satisfied: smart-open>=1.2.1 in /usr/local/lib/python3.7/dist-packages (from gensim->pyLDAvis) (5.2.1)\n",
            "Requirement already satisfied: MarkupSafe>=0.23 in /usr/local/lib/python3.7/dist-packages (from jinja2->pyLDAvis) (2.0.1)\n",
            "Requirement already satisfied: packaging in /usr/local/lib/python3.7/dist-packages (from numexpr->pyLDAvis) (21.3)\n",
            "Requirement already satisfied: pyparsing!=3.0.5,>=2.0.2 in /usr/local/lib/python3.7/dist-packages (from packaging->numexpr->pyLDAvis) (3.0.8)\n",
            "Requirement already satisfied: threadpoolctl>=2.0.0 in /usr/local/lib/python3.7/dist-packages (from scikit-learn->pyLDAvis) (3.1.0)\n",
            "Building wheels for collected packages: pyLDAvis\n",
            "  Building wheel for pyLDAvis (PEP 517) ... \u001b[?25l\u001b[?25hdone\n",
            "  Created wheel for pyLDAvis: filename=pyLDAvis-3.3.1-py2.py3-none-any.whl size=136898 sha256=26c4846039704517d12554cc4d9a7add6211cc3a7d5f20a4918c5cbddb5c7308\n",
            "  Stored in directory: /root/.cache/pip/wheels/c9/21/f6/17bcf2667e8a68532ba2fbf6d5c72fdf4c7f7d9abfa4852d2f\n",
            "Successfully built pyLDAvis\n",
            "Installing collected packages: funcy, pyLDAvis\n",
            "Successfully installed funcy-1.17 pyLDAvis-3.3.1\n",
            "Requirement already satisfied: spacy in /usr/local/lib/python3.7/dist-packages (2.2.4)\n",
            "Requirement already satisfied: wasabi<1.1.0,>=0.4.0 in /usr/local/lib/python3.7/dist-packages (from spacy) (0.9.1)\n",
            "Requirement already satisfied: srsly<1.1.0,>=1.0.2 in /usr/local/lib/python3.7/dist-packages (from spacy) (1.0.5)\n",
            "Requirement already satisfied: cymem<2.1.0,>=2.0.2 in /usr/local/lib/python3.7/dist-packages (from spacy) (2.0.6)\n",
            "Requirement already satisfied: blis<0.5.0,>=0.4.0 in /usr/local/lib/python3.7/dist-packages (from spacy) (0.4.1)\n",
            "Requirement already satisfied: setuptools in /usr/local/lib/python3.7/dist-packages (from spacy) (57.4.0)\n",
            "Requirement already satisfied: plac<1.2.0,>=0.9.6 in /usr/local/lib/python3.7/dist-packages (from spacy) (1.1.3)\n",
            "Requirement already satisfied: preshed<3.1.0,>=3.0.2 in /usr/local/lib/python3.7/dist-packages (from spacy) (3.0.6)\n",
            "Requirement already satisfied: numpy>=1.15.0 in /usr/local/lib/python3.7/dist-packages (from spacy) (1.21.6)\n",
            "Requirement already satisfied: catalogue<1.1.0,>=0.0.7 in /usr/local/lib/python3.7/dist-packages (from spacy) (1.0.0)\n",
            "Requirement already satisfied: requests<3.0.0,>=2.13.0 in /usr/local/lib/python3.7/dist-packages (from spacy) (2.23.0)\n",
            "Requirement already satisfied: thinc==7.4.0 in /usr/local/lib/python3.7/dist-packages (from spacy) (7.4.0)\n",
            "Requirement already satisfied: tqdm<5.0.0,>=4.38.0 in /usr/local/lib/python3.7/dist-packages (from spacy) (4.64.0)\n",
            "Requirement already satisfied: murmurhash<1.1.0,>=0.28.0 in /usr/local/lib/python3.7/dist-packages (from spacy) (1.0.6)\n",
            "Requirement already satisfied: importlib-metadata>=0.20 in /usr/local/lib/python3.7/dist-packages (from catalogue<1.1.0,>=0.0.7->spacy) (4.11.3)\n",
            "Requirement already satisfied: typing-extensions>=3.6.4 in /usr/local/lib/python3.7/dist-packages (from importlib-metadata>=0.20->catalogue<1.1.0,>=0.0.7->spacy) (4.1.1)\n",
            "Requirement already satisfied: zipp>=0.5 in /usr/local/lib/python3.7/dist-packages (from importlib-metadata>=0.20->catalogue<1.1.0,>=0.0.7->spacy) (3.8.0)\n",
            "Requirement already satisfied: idna<3,>=2.5 in /usr/local/lib/python3.7/dist-packages (from requests<3.0.0,>=2.13.0->spacy) (2.10)\n",
            "Requirement already satisfied: chardet<4,>=3.0.2 in /usr/local/lib/python3.7/dist-packages (from requests<3.0.0,>=2.13.0->spacy) (3.0.4)\n",
            "Requirement already satisfied: urllib3!=1.25.0,!=1.25.1,<1.26,>=1.21.1 in /usr/local/lib/python3.7/dist-packages (from requests<3.0.0,>=2.13.0->spacy) (1.24.3)\n",
            "Requirement already satisfied: certifi>=2017.4.17 in /usr/local/lib/python3.7/dist-packages (from requests<3.0.0,>=2.13.0->spacy) (2021.10.8)\n"
          ]
        }
      ]
    },
    {
      "cell_type": "code",
      "metadata": {
        "id": "cYwGuPWGbMT4",
        "colab": {
          "base_uri": "https://localhost:8080/"
        },
        "outputId": "d40351f3-ae61-47d7-932b-b5c4193dfb04"
      },
      "source": [
        "# !pip install contractions"
      ],
      "execution_count": 2,
      "outputs": [
        {
          "output_type": "stream",
          "name": "stdout",
          "text": [
            "Collecting contractions\n",
            "  Downloading contractions-0.1.68-py2.py3-none-any.whl (8.1 kB)\n",
            "Collecting textsearch>=0.0.21\n",
            "  Downloading textsearch-0.0.21-py2.py3-none-any.whl (7.5 kB)\n",
            "Collecting anyascii\n",
            "  Downloading anyascii-0.3.1-py3-none-any.whl (287 kB)\n",
            "\u001b[K     |████████████████████████████████| 287 kB 5.1 MB/s \n",
            "\u001b[?25hCollecting pyahocorasick\n",
            "  Downloading pyahocorasick-1.4.4-cp37-cp37m-manylinux_2_17_x86_64.manylinux2014_x86_64.whl (106 kB)\n",
            "\u001b[K     |████████████████████████████████| 106 kB 35.8 MB/s \n",
            "\u001b[?25hInstalling collected packages: pyahocorasick, anyascii, textsearch, contractions\n",
            "Successfully installed anyascii-0.3.1 contractions-0.1.68 pyahocorasick-1.4.4 textsearch-0.0.21\n"
          ]
        }
      ]
    },
    {
      "cell_type": "code",
      "metadata": {
        "id": "MjSMlDx2bOpP",
        "colab": {
          "base_uri": "https://localhost:8080/"
        },
        "outputId": "84ed7558-c8e2-4c20-cc4a-86e0bbf43717"
      },
      "source": [
        "# !pip install -U pandas-profiling"
      ],
      "execution_count": 3,
      "outputs": [
        {
          "output_type": "stream",
          "name": "stdout",
          "text": [
            "Requirement already satisfied: pandas-profiling in /usr/local/lib/python3.7/dist-packages (1.4.1)\n",
            "Collecting pandas-profiling\n",
            "  Downloading pandas_profiling-3.1.0-py2.py3-none-any.whl (261 kB)\n",
            "\u001b[K     |████████████████████████████████| 261 kB 4.9 MB/s \n",
            "\u001b[?25hRequirement already satisfied: missingno>=0.4.2 in /usr/local/lib/python3.7/dist-packages (from pandas-profiling) (0.5.1)\n",
            "Collecting pydantic>=1.8.1\n",
            "  Downloading pydantic-1.9.0-cp37-cp37m-manylinux_2_17_x86_64.manylinux2014_x86_64.whl (10.9 MB)\n",
            "\u001b[K     |████████████████████████████████| 10.9 MB 43.4 MB/s \n",
            "\u001b[?25hCollecting visions[type_image_path]==0.7.4\n",
            "  Downloading visions-0.7.4-py3-none-any.whl (102 kB)\n",
            "\u001b[K     |████████████████████████████████| 102 kB 6.4 MB/s \n",
            "\u001b[?25hRequirement already satisfied: PyYAML>=5.0.0 in /usr/local/lib/python3.7/dist-packages (from pandas-profiling) (6.0)\n",
            "Requirement already satisfied: jinja2>=2.11.1 in /usr/local/lib/python3.7/dist-packages (from pandas-profiling) (2.11.3)\n",
            "Collecting htmlmin>=0.1.12\n",
            "  Downloading htmlmin-0.1.12.tar.gz (19 kB)\n",
            "Collecting phik>=0.11.1\n",
            "  Downloading phik-0.12.2-cp37-cp37m-manylinux_2_17_x86_64.manylinux2014_x86_64.whl (690 kB)\n",
            "\u001b[K     |████████████████████████████████| 690 kB 35.8 MB/s \n",
            "\u001b[?25hCollecting tangled-up-in-unicode==0.1.0\n",
            "  Downloading tangled_up_in_unicode-0.1.0-py3-none-any.whl (3.1 MB)\n",
            "\u001b[K     |████████████████████████████████| 3.1 MB 37.0 MB/s \n",
            "\u001b[?25hCollecting requests>=2.24.0\n",
            "  Downloading requests-2.27.1-py2.py3-none-any.whl (63 kB)\n",
            "\u001b[K     |████████████████████████████████| 63 kB 1.4 MB/s \n",
            "\u001b[?25hCollecting multimethod>=1.4\n",
            "  Downloading multimethod-1.8-py3-none-any.whl (9.8 kB)\n",
            "Requirement already satisfied: matplotlib>=3.2.0 in /usr/local/lib/python3.7/dist-packages (from pandas-profiling) (3.2.2)\n",
            "Requirement already satisfied: pandas!=1.0.0,!=1.0.1,!=1.0.2,!=1.1.0,>=0.25.3 in /usr/local/lib/python3.7/dist-packages (from pandas-profiling) (1.3.5)\n",
            "Collecting joblib~=1.0.1\n",
            "  Downloading joblib-1.0.1-py3-none-any.whl (303 kB)\n",
            "\u001b[K     |████████████████████████████████| 303 kB 42.1 MB/s \n",
            "\u001b[?25hRequirement already satisfied: numpy>=1.16.0 in /usr/local/lib/python3.7/dist-packages (from pandas-profiling) (1.21.6)\n",
            "Requirement already satisfied: scipy>=1.4.1 in /usr/local/lib/python3.7/dist-packages (from pandas-profiling) (1.4.1)\n",
            "Requirement already satisfied: seaborn>=0.10.1 in /usr/local/lib/python3.7/dist-packages (from pandas-profiling) (0.11.2)\n",
            "Requirement already satisfied: markupsafe~=2.0.1 in /usr/local/lib/python3.7/dist-packages (from pandas-profiling) (2.0.1)\n",
            "Requirement already satisfied: tqdm>=4.48.2 in /usr/local/lib/python3.7/dist-packages (from pandas-profiling) (4.64.0)\n",
            "Requirement already satisfied: networkx>=2.4 in /usr/local/lib/python3.7/dist-packages (from visions[type_image_path]==0.7.4->pandas-profiling) (2.6.3)\n",
            "Requirement already satisfied: attrs>=19.3.0 in /usr/local/lib/python3.7/dist-packages (from visions[type_image_path]==0.7.4->pandas-profiling) (21.4.0)\n",
            "Collecting imagehash\n",
            "  Downloading ImageHash-4.2.1.tar.gz (812 kB)\n",
            "\u001b[K     |████████████████████████████████| 812 kB 37.8 MB/s \n",
            "\u001b[?25hRequirement already satisfied: Pillow in /usr/local/lib/python3.7/dist-packages (from visions[type_image_path]==0.7.4->pandas-profiling) (7.1.2)\n",
            "Requirement already satisfied: python-dateutil>=2.1 in /usr/local/lib/python3.7/dist-packages (from matplotlib>=3.2.0->pandas-profiling) (2.8.2)\n",
            "Requirement already satisfied: kiwisolver>=1.0.1 in /usr/local/lib/python3.7/dist-packages (from matplotlib>=3.2.0->pandas-profiling) (1.4.2)\n",
            "Requirement already satisfied: cycler>=0.10 in /usr/local/lib/python3.7/dist-packages (from matplotlib>=3.2.0->pandas-profiling) (0.11.0)\n",
            "Requirement already satisfied: pyparsing!=2.0.4,!=2.1.2,!=2.1.6,>=2.0.1 in /usr/local/lib/python3.7/dist-packages (from matplotlib>=3.2.0->pandas-profiling) (3.0.8)\n",
            "Requirement already satisfied: typing-extensions in /usr/local/lib/python3.7/dist-packages (from kiwisolver>=1.0.1->matplotlib>=3.2.0->pandas-profiling) (4.1.1)\n",
            "Requirement already satisfied: pytz>=2017.3 in /usr/local/lib/python3.7/dist-packages (from pandas!=1.0.0,!=1.0.1,!=1.0.2,!=1.1.0,>=0.25.3->pandas-profiling) (2022.1)\n",
            "Collecting scipy>=1.4.1\n",
            "  Downloading scipy-1.7.3-cp37-cp37m-manylinux_2_12_x86_64.manylinux2010_x86_64.whl (38.1 MB)\n",
            "\u001b[K     |████████████████████████████████| 38.1 MB 2.9 MB/s \n",
            "\u001b[?25hRequirement already satisfied: six>=1.5 in /usr/local/lib/python3.7/dist-packages (from python-dateutil>=2.1->matplotlib>=3.2.0->pandas-profiling) (1.15.0)\n",
            "Requirement already satisfied: charset-normalizer~=2.0.0 in /usr/local/lib/python3.7/dist-packages (from requests>=2.24.0->pandas-profiling) (2.0.12)\n",
            "Requirement already satisfied: urllib3<1.27,>=1.21.1 in /usr/local/lib/python3.7/dist-packages (from requests>=2.24.0->pandas-profiling) (1.24.3)\n",
            "Requirement already satisfied: idna<4,>=2.5 in /usr/local/lib/python3.7/dist-packages (from requests>=2.24.0->pandas-profiling) (2.10)\n",
            "Requirement already satisfied: certifi>=2017.4.17 in /usr/local/lib/python3.7/dist-packages (from requests>=2.24.0->pandas-profiling) (2021.10.8)\n",
            "Requirement already satisfied: PyWavelets in /usr/local/lib/python3.7/dist-packages (from imagehash->visions[type_image_path]==0.7.4->pandas-profiling) (1.3.0)\n",
            "Building wheels for collected packages: htmlmin, imagehash\n",
            "  Building wheel for htmlmin (setup.py) ... \u001b[?25l\u001b[?25hdone\n",
            "  Created wheel for htmlmin: filename=htmlmin-0.1.12-py3-none-any.whl size=27098 sha256=2897fe94e6453475e7cdee423fe39c37243f5c00c1efe35fdb113f32c23951b6\n",
            "  Stored in directory: /root/.cache/pip/wheels/70/e1/52/5b14d250ba868768823940c3229e9950d201a26d0bd3ee8655\n",
            "  Building wheel for imagehash (setup.py) ... \u001b[?25l\u001b[?25hdone\n",
            "  Created wheel for imagehash: filename=ImageHash-4.2.1-py2.py3-none-any.whl size=295206 sha256=53251993d321cf79e6b392ba1e2708ae24063c85ffb9e7696034982d87fafa8d\n",
            "  Stored in directory: /root/.cache/pip/wheels/4c/d5/59/5e3e297533ddb09407769762985d134135064c6831e29a914e\n",
            "Successfully built htmlmin imagehash\n",
            "Installing collected packages: tangled-up-in-unicode, scipy, multimethod, visions, joblib, imagehash, requests, pydantic, phik, htmlmin, pandas-profiling\n",
            "  Attempting uninstall: scipy\n",
            "    Found existing installation: scipy 1.4.1\n",
            "    Uninstalling scipy-1.4.1:\n",
            "      Successfully uninstalled scipy-1.4.1\n",
            "  Attempting uninstall: joblib\n",
            "    Found existing installation: joblib 1.1.0\n",
            "    Uninstalling joblib-1.1.0:\n",
            "      Successfully uninstalled joblib-1.1.0\n",
            "  Attempting uninstall: requests\n",
            "    Found existing installation: requests 2.23.0\n",
            "    Uninstalling requests-2.23.0:\n",
            "      Successfully uninstalled requests-2.23.0\n",
            "  Attempting uninstall: pandas-profiling\n",
            "    Found existing installation: pandas-profiling 1.4.1\n",
            "    Uninstalling pandas-profiling-1.4.1:\n",
            "      Successfully uninstalled pandas-profiling-1.4.1\n",
            "\u001b[31mERROR: pip's dependency resolver does not currently take into account all the packages that are installed. This behaviour is the source of the following dependency conflicts.\n",
            "google-colab 1.0.0 requires requests~=2.23.0, but you have requests 2.27.1 which is incompatible.\n",
            "datascience 0.10.6 requires folium==0.2.1, but you have folium 0.8.3 which is incompatible.\n",
            "albumentations 0.1.12 requires imgaug<0.2.7,>=0.2.5, but you have imgaug 0.2.9 which is incompatible.\u001b[0m\n",
            "Successfully installed htmlmin-0.1.12 imagehash-4.2.1 joblib-1.0.1 multimethod-1.8 pandas-profiling-3.1.0 phik-0.12.2 pydantic-1.9.0 requests-2.27.1 scipy-1.7.3 tangled-up-in-unicode-0.1.0 visions-0.7.4\n"
          ]
        }
      ]
    },
    {
      "cell_type": "code",
      "metadata": {
        "id": "8vpDCDPrbRE4",
        "colab": {
          "base_uri": "https://localhost:8080/"
        },
        "outputId": "bbabd75b-ec26-48b0-b99c-61cf3b30a9eb"
      },
      "source": [
        "import pandas as pd\n",
        "import numpy as np\n",
        "import os\n",
        "import glob\n",
        "import matplotlib.pyplot as plt\n",
        "import seaborn as sns\n",
        "import re\n",
        "import string\n",
        "import wordcloud\n",
        "import nltk\n",
        "import unicodedata\n",
        "import contractions\n",
        "import pickle\n",
        "import urllib.request\n",
        "import requests\n",
        "import spacy\n",
        "import json\n",
        "%matplotlib inline\n",
        "\n",
        "from bs4 import BeautifulSoup\n",
        "from bs4.element import Comment\n",
        "from gensim.utils import simple_preprocess\n",
        "from gensim.models import CoherenceModel\n",
        "from collections import defaultdict\n",
        "from contractions import contractions_dict\n",
        "from wordcloud import WordCloud, STOPWORDS\n",
        "from transformers import pipeline\n",
        "\n",
        "from nltk.tokenize import word_tokenize\n",
        "from nltk.stem.wordnet import WordNetLemmatizer\n",
        "from nltk.tokenize.toktok import ToktokTokenizer\n",
        "from nltk.stem.porter import PorterStemmer\n",
        "from sentence_transformers import SentenceTransformer, util\n",
        "from gensim.corpora import Dictionary\n",
        "from gensim.models.ldamodel import LdaModel\n",
        "from spacy import displacy\n",
        "\n",
        "from sklearn.feature_extraction.text import TfidfVectorizer\n",
        "from sklearn.preprocessing import MinMaxScaler\n",
        "from sklearn.preprocessing import StandardScaler\n",
        "from sklearn.naive_bayes import MultinomialNB\n",
        "from sklearn.linear_model import LogisticRegression\n",
        "from sklearn.naive_bayes import GaussianNB\n",
        "from sklearn.ensemble import RandomForestClassifier\n",
        "from sklearn.svm import LinearSVC\n",
        "from sklearn.model_selection import train_test_split\n",
        "from sklearn.metrics import classification_report, confusion_matrix, accuracy_score\n",
        "from sklearn.model_selection import cross_val_score\n",
        "\n",
        "nltk.download('stopwords')\n",
        "nltk.download('averaged_perceptron_tagger')\n",
        "nltk.download('universal_tagset')\n",
        "nltk.download('wordnet')\n",
        "nltk.download('punkt')\n",
        "\n",
        "os.environ[\"CUDA_VISIBLE_DEVICES\"] = \"0\"\n",
        "\n",
        "from contractions import contractions_dict\n",
        "from scipy import stats\n",
        "from scipy import sparse\n",
        "\n",
        "import pyLDAvis\n",
        "\n",
        "# Visualize the topics\n",
        "pyLDAvis.enable_notebook()\n",
        "\n",
        "tokenizer = ToktokTokenizer()\n",
        "stopword_list = nltk.corpus.stopwords.words('english')\n",
        "scaler = MinMaxScaler()\n",
        "std_scaler = StandardScaler()\n",
        "stops = set(stopword_list)\n",
        "stemmer = nltk.stem.SnowballStemmer('english')\n",
        "wordlemmatizer = WordNetLemmatizer()\n",
        "tokenizer = nltk.word_tokenize"
      ],
      "execution_count": 4,
      "outputs": [
        {
          "output_type": "stream",
          "name": "stdout",
          "text": [
            "[nltk_data] Downloading package stopwords to /root/nltk_data...\n",
            "[nltk_data]   Unzipping corpora/stopwords.zip.\n",
            "[nltk_data] Downloading package averaged_perceptron_tagger to\n",
            "[nltk_data]     /root/nltk_data...\n",
            "[nltk_data]   Unzipping taggers/averaged_perceptron_tagger.zip.\n",
            "[nltk_data] Downloading package universal_tagset to /root/nltk_data...\n",
            "[nltk_data]   Unzipping taggers/universal_tagset.zip.\n",
            "[nltk_data] Downloading package wordnet to /root/nltk_data...\n",
            "[nltk_data]   Unzipping corpora/wordnet.zip.\n",
            "[nltk_data] Downloading package punkt to /root/nltk_data...\n",
            "[nltk_data]   Unzipping tokenizers/punkt.zip.\n"
          ]
        },
        {
          "output_type": "stream",
          "name": "stderr",
          "text": [
            "/usr/local/lib/python3.7/dist-packages/past/types/oldstr.py:5: DeprecationWarning: Using or importing the ABCs from 'collections' instead of from 'collections.abc' is deprecated since Python 3.3,and in 3.9 it will stop working\n",
            "  from collections import Iterable\n"
          ]
        }
      ]
    },
    {
      "cell_type": "markdown",
      "source": [
        "# NLP Data. Pick 2 poets, scrape 10 poems each . Put them in a json datastructure and save it under the poets name, in your team drive under folder 'DataSets'"
      ],
      "metadata": {
        "id": "6D_Gk07BYyVK"
      }
    },
    {
      "cell_type": "markdown",
      "metadata": {
        "id": "egcqOhvLbgN-"
      },
      "source": [
        "## Get Scraped Data"
      ]
    },
    {
      "cell_type": "code",
      "metadata": {
        "id": "4NSzUHrObssV",
        "colab": {
          "base_uri": "https://localhost:8080/"
        },
        "outputId": "fc575de1-b606-4adc-f74d-e7d616622604"
      },
      "source": [
        "from google.colab import drive\n",
        "drive.mount('/content/drive', force_remount=True)"
      ],
      "execution_count": 5,
      "outputs": [
        {
          "output_type": "stream",
          "name": "stdout",
          "text": [
            "Mounted at /content/drive\n"
          ]
        }
      ]
    },
    {
      "cell_type": "code",
      "metadata": {
        "id": "72SL8SR1ca2f"
      },
      "source": [
        "# df_john = pd.read_csv('/content/drive/MyDrive/DataSets/john_keats.csv', sep=';')\n",
        "lh_df = pd.read_csv('/content/drive/MyDrive/SJSU/CMPE 257: Machine Learning/NLP/Homework 9b/Datasets/langston_hughes.csv')"
      ],
      "execution_count": 11,
      "outputs": []
    },
    {
      "cell_type": "code",
      "metadata": {
        "id": "zeKo6oQ3vkil"
      },
      "source": [
        "lh_df.drop(columns='Unnamed: 0', inplace=True)\n"
      ],
      "execution_count": 8,
      "outputs": []
    },
    {
      "cell_type": "code",
      "metadata": {
        "id": "E5uLsDvzcdBu",
        "colab": {
          "base_uri": "https://localhost:8080/"
        },
        "outputId": "c2f45e89-613d-4929-c9a8-d50c183ef093"
      },
      "source": [
        "lh_df.info()"
      ],
      "execution_count": 9,
      "outputs": [
        {
          "output_type": "stream",
          "name": "stdout",
          "text": [
            "<class 'pandas.core.frame.DataFrame'>\n",
            "RangeIndex: 10 entries, 0 to 9\n",
            "Data columns (total 2 columns):\n",
            " #   Column  Non-Null Count  Dtype \n",
            "---  ------  --------------  ----- \n",
            " 0   Title   10 non-null     object\n",
            " 1   Poem    10 non-null     object\n",
            "dtypes: object(2)\n",
            "memory usage: 288.0+ bytes\n"
          ]
        }
      ]
    },
    {
      "cell_type": "code",
      "metadata": {
        "id": "6WNQiFZLce-m"
      },
      "source": [
        "# df_alfred = pd.read_csv('/content/drive/MyDrive/DataSets/alfred_tennyson.csv', sep=';')\n",
        "mjo_df = pd.read_csv('/content/drive/MyDrive/SJSU/CMPE 257: Machine Learning/NLP/Homework 9b/Datasets/mary_j_oliver.csv')"
      ],
      "execution_count": 12,
      "outputs": []
    },
    {
      "cell_type": "code",
      "metadata": {
        "id": "w_AD-ieOcg-2",
        "colab": {
          "base_uri": "https://localhost:8080/"
        },
        "outputId": "65eea47c-e8d7-4a8a-d245-3bf89243c7c1"
      },
      "source": [
        "mjo_df.info()"
      ],
      "execution_count": 13,
      "outputs": [
        {
          "output_type": "stream",
          "name": "stdout",
          "text": [
            "<class 'pandas.core.frame.DataFrame'>\n",
            "RangeIndex: 20 entries, 0 to 19\n",
            "Data columns (total 3 columns):\n",
            " #   Column      Non-Null Count  Dtype \n",
            "---  ------      --------------  ----- \n",
            " 0   Unnamed: 0  20 non-null     int64 \n",
            " 1   Title       20 non-null     object\n",
            " 2   Poem        20 non-null     object\n",
            "dtypes: int64(1), object(2)\n",
            "memory usage: 608.0+ bytes\n"
          ]
        }
      ]
    },
    {
      "cell_type": "markdown",
      "metadata": {
        "id": "pFbXiyq8ck5A"
      },
      "source": [
        "## JSON Conversion"
      ]
    },
    {
      "cell_type": "markdown",
      "source": [
        ""
      ],
      "metadata": {
        "id": "ll64T8GSZelt"
      }
    },
    {
      "cell_type": "code",
      "metadata": {
        "id": "3hs9sU4eckn_",
        "colab": {
          "base_uri": "https://localhost:8080/",
          "height": 156
        },
        "outputId": "67449775-dd5d-407f-fb6a-065ab38289bf"
      },
      "source": [
        "result_lh = lh_df.to_json(orient=\"index\")\n",
        "parsed_lh = json.loads(result_lh)\n",
        "json.dumps(parsed_lh, indent=4)"
      ],
      "execution_count": 18,
      "outputs": [
        {
          "output_type": "execute_result",
          "data": {
            "text/plain": [
              "'{\\n    \"0\": {\\n        \"Unnamed: 0\": 0,\\n        \"Title\": \"Mother To Son\",\\n        \"Poem\": \"well son will tell you life for me ai not been no crystal stair it had tacks in it and splinters and boards torn up and places with no carpet on the floor\\\\u2014 bare but all the time se been climbin on and reachin landin and turnin corners and sometimes goin in the dark where there ai not been no light so boy do not you turn back do not you set down on the steps cause you finds it kinder hard do not you fall now\\\\u2014 for se still goin honey se still climbin and life for me ai not been no crystal stair by owner provided at no charge for educational purposes\"\\n    },\\n    \"1\": {\\n        \"Unnamed: 0\": 1,\\n        \"Title\": \"The Ballad Of The Landlord\",\\n        \"Poem\": \"landlord landlord my roof has sprung leak do not you member told you about it way last week landlord landlord these steps is broken down when you come up yourself it wonder you do not fall down ten bucks you say owe you ten bucks you say is due well that ten bucks more pay you till you fix this house up new what you gonna get eviction orders you gonna cut off my heat you gonna take my furniture and throw it in the street um huh you talking high and mighty talk on till you get through you ai not gonna be able to say word if land my fist on you police police come and get this man he trying to ruin the government and overturn the land copper whistle patrol bell arrest precinct station iron cell headlines in press man threatens landlord tenant held no bail judge gives negro days in county jail from the langston hughes reader this poem by langston hughes grew out of conditions in new york city\\\\u2019s harlem in the \\\\u2019s in graphic terms it describes the escalation of anger and frustration that tenants experienced trying to get landlords to make basic repairs it is structured like an old time blues song until the final verse where the rhythm changes charley noble by owner provided at no charge for educational purposes\"\\n    },\\n    \"2\": {\\n        \"Unnamed: 0\": 2,\\n        \"Title\": \"I, Too.\",\\n        \"Poem\": \"too sing america am the darker brother they send me to eat in the kitchen when company comes but laugh and eat well and grow strong tomorrow will be at the table when company comes nobody will dare say to me eat in the kitchen then besides they will see how beautiful am and be ashamed\\\\u2014 too am america http www poetryarchive org poetryarchive singlepoem do poemid listen to langston hughes read this poem recorded in by owner provided at no charge for educational purposes\"\\n    },\\n    \"3\": {\\n        \"Unnamed: 0\": 3,\\n        \"Title\": \"As I Grew Older\",\\n        \"Poem\": \"it was long time ago have almost forgotten my dream but it was there then in front of me bright like sun\\\\u2014 my dream and then the wall rose rose slowly slowly between me and my dream rose until it touched the sky\\\\u2014 the wall shadow am black lie down in the shadow no longer the light of my dream before me above me only the thick wall only the shadow my hands my dark hands break through the wall find my dream help me to shatter this darkness to smash this night to break this shadow into thousand lights of sun into thousand whirling dreams of sun by owner provided at no charge for educational purposes\"\\n    },\\n    \"4\": {\\n        \"Unnamed: 0\": 4,\\n        \"Title\": \"The Negro Mother\",\\n        \"Poem\": \"children come back today to tell you story of the long dark way that had to climb that had to know in order that the race might live and grow look at my face dark as the night yet shining like the sun with love true light am the child they stole from the sand three hundred years ago in africa land am the dark girl who crossed the wide sea carrying in my body the seed of the free am the woman who worked in the field bringing the cotton and the corn to yield am the one who labored as slave beaten and mistreated for the work gave children sold away from me husband sold too no safety no love no respect was due three hundred years in the deepest south but god put song and prayer in my mouth god put dream like steel in my soul now through my children reaching the goal now through my children young and free realize the blessings deed to me could not read then could not write had nothing back there in the night sometimes the valley was filled with tears but kept trudging on through the lonely years sometimes the road was hot with the sun but had to keep on till my work was done had to keep on no stopping for me was the seed of the coming free nourished the dream that nothing could smother deep in my breast the negro mother had only hope then but now through you dark ones of today my dreams must come true all you dark children in the world out there remember my sweat my pain my despair remember my years heavy with sorrow and make of those years torch for tomorrow make of my pass road to the light out of the darkness the ignorance the night lift high my banner out of the dust stand like free men supporting my trust believe in the right let none push you back remember the whip and the slaver track remember how the strong in struggle and strife still bar you the way and deny you life but march ever forward breaking down bars look ever upward at the sun and the stars oh my dark children may my dreams and my prayers impel you forever up the great stairs for will be with you till no white brother dares keep down the children of the negro mother many on line versions have the alternate line realized the blessing denied to me by owner provided at no charge for educational purposes\"\\n    },\\n    \"5\": {\\n        \"Unnamed: 0\": 5,\\n        \"Title\": \"The Negro Speaks Of Rivers\",\\n        \"Poem\": \"have known rivers have known rivers ancient as the world and older than the flow of human blood in human veins my soul has grown deep like the rivers bathed in the euphrates when dawns were young built my hut near the congo and it lulled me to sleep looked upon the nile and raised the pyramids above it heard the singing of the mississippi when abe lincoln went down to new orleans and have seen its muddy bosom turn all golden in the sunset have known rivers ancient dusky rivers my soul has grown deep like the rivers http www poetryarchive org poetryarchive singlepoem do poemid recorded in langston hughes recites by owner provided at no charge for educational purposes\"\\n    },\\n    \"6\": {\\n        \"Unnamed: 0\": 6,\\n        \"Title\": \"Trumpet Player\",\\n        \"Poem\": \"the negro with the trumpet at his lips has dark moons of weariness beneath his eyes where the smoldering memory of slave ships blazed to the crack of whips about thighs the negro with the trumpet at his lips has head of vibrant hair tamed down patent leathered now until it gleams like jet\\\\u2014 were jet crown the music from the trumpet at his lips is honey mixed with liquid fire the rhythm from the trumpet at his lips is ecstasy distilled from old desire\\\\u2014 desire that is longing for the moon where the moonlight but spotlight in his eyes desire that is longing for the sea where the sea bar glass sucker size the negro with the trumpet at his lips whose jacket has fine one button roll does not know upon what riff the music slips it hypodermic needle to his soul but softly as the tune comes from his throat trouble mellows to golden note by owner provided at no charge for educational purposes\"\\n    },\\n    \"7\": {\\n        \"Unnamed: 0\": 7,\\n        \"Title\": \"Cross\",\\n        \"Poem\": \"my old man white old manand my old mother black if ever cursed my white old mani take my curses back if ever cursed my black old motherand wished she were in hell sorry for that evil wishand now wish her wellmy old man died in fine big house my ma died in shack wonder were going to die being neither white nor black by owner provided at no charge for educational purposes\"\\n    },\\n    \"8\": {\\n        \"Unnamed: 0\": 8,\\n        \"Title\": \"Madam and The Rent Man\",\\n        \"Poem\": \"the rent man knocked he said howdy do said what can do for you he said you know your rent is due said listen before pay go to hades and rot away the sink is broke the water do not run and you ai not done thing you promised to have done back window cracked kitchen floor squeaks there rats in the cellar and the attic leaks he said madam it not up to me just the agent do not you see said naturally you pass the buck if it money you want you are out of luck he said madam ai not pleased said neither am so we agrees this is one of number of madam poems by langston hughes that can be considered as linked series madam and the rent man http oldpoetry com opoem madam and the census man http oldpoetry com opoem show madam and her madam http oldpoetry com opoem madam and the phone bill http oldpoetry com opoem madam\\\\u2019s past history http oldpoetry com opoem this one is taken from the collected poems of langston hughes by langston hughes by the estate of langston hughes the header graphic is an illustration from the liberation news service the late by owner provided at no charge for educational purposes\"\\n    },\\n    \"9\": {\\n        \"Unnamed: 0\": 9,\\n        \"Title\": \"Dream Boogie\",\\n        \"Poem\": \"good morning daddy ai not you heard the boogie woogie rumble of dream deferred listen closely you will hear their feet beating out and beating out you think it happy beat listen to it closely ai not you heard something underneath like what did say sure happy take it away hey pop re bop mop hughes himself says that the book from which this comes montage of dream deferred should be viewed as complete poem in itself and not collection of short poems by owner provided at no charge for educational purposes\"\\n    }\\n}'"
            ],
            "application/vnd.google.colaboratory.intrinsic+json": {
              "type": "string"
            }
          },
          "metadata": {},
          "execution_count": 18
        }
      ]
    },
    {
      "cell_type": "code",
      "metadata": {
        "id": "fnJ1pDYPc06n"
      },
      "source": [
        "# with open('/content/drive/MyDrive/DataSets/john_keats_final.txt', 'w') as outfile:\n",
        "#     json.dump(result_john, outfile)\n",
        "with open('/content/drive/MyDrive/SJSU/CMPE 257: Machine Learning/NLP/Homework 9b/Datasets/langston_hughes.csv', 'w') as outfile:\n",
        "    json.dump(result_lh, outfile)"
      ],
      "execution_count": 19,
      "outputs": []
    },
    {
      "cell_type": "code",
      "metadata": {
        "id": "w6ArqW4Rc3dA",
        "colab": {
          "base_uri": "https://localhost:8080/",
          "height": 156
        },
        "outputId": "2c2fb51e-3ecb-4bea-99c2-8738d5eb5bf4"
      },
      "source": [
        "result_mjo = mjo_df.to_json(orient=\"index\")\n",
        "parsed_mjo = json.loads(result_mjo)\n",
        "json.dumps(parsed_mjo, indent=4)"
      ],
      "execution_count": 20,
      "outputs": [
        {
          "output_type": "execute_result",
          "data": {
            "text/plain": [
              "'{\\n    \"0\": {\\n        \"Unnamed: 0\": 0,\\n        \"Title\": \"Mother To Son\",\\n        \"Poem\": \"well son will tell you life for me ai not been no crystal stair it had tacks in it and splinters and boards torn up and places with no carpet on the floor\\\\u2014 bare but all the time se been climbin on and reachin landin and turnin corners and sometimes goin in the dark where there ai not been no light so boy do not you turn back do not you set down on the steps cause you finds it kinder hard do not you fall now\\\\u2014 for se still goin honey se still climbin and life for me ai not been no crystal stair by owner provided at no charge for educational purposes\"\\n    },\\n    \"1\": {\\n        \"Unnamed: 0\": 1,\\n        \"Title\": \"The Ballad Of The Landlord\",\\n        \"Poem\": \"landlord landlord my roof has sprung leak do not you member told you about it way last week landlord landlord these steps is broken down when you come up yourself it wonder you do not fall down ten bucks you say owe you ten bucks you say is due well that ten bucks more pay you till you fix this house up new what you gonna get eviction orders you gonna cut off my heat you gonna take my furniture and throw it in the street um huh you talking high and mighty talk on till you get through you ai not gonna be able to say word if land my fist on you police police come and get this man he trying to ruin the government and overturn the land copper whistle patrol bell arrest precinct station iron cell headlines in press man threatens landlord tenant held no bail judge gives negro days in county jail from the langston hughes reader this poem by langston hughes grew out of conditions in new york city\\\\u2019s harlem in the \\\\u2019s in graphic terms it describes the escalation of anger and frustration that tenants experienced trying to get landlords to make basic repairs it is structured like an old time blues song until the final verse where the rhythm changes charley noble by owner provided at no charge for educational purposes\"\\n    },\\n    \"2\": {\\n        \"Unnamed: 0\": 2,\\n        \"Title\": \"I, Too.\",\\n        \"Poem\": \"too sing america am the darker brother they send me to eat in the kitchen when company comes but laugh and eat well and grow strong tomorrow will be at the table when company comes nobody will dare say to me eat in the kitchen then besides they will see how beautiful am and be ashamed\\\\u2014 too am america http www poetryarchive org poetryarchive singlepoem do poemid listen to langston hughes read this poem recorded in by owner provided at no charge for educational purposes\"\\n    },\\n    \"3\": {\\n        \"Unnamed: 0\": 3,\\n        \"Title\": \"As I Grew Older\",\\n        \"Poem\": \"it was long time ago have almost forgotten my dream but it was there then in front of me bright like sun\\\\u2014 my dream and then the wall rose rose slowly slowly between me and my dream rose until it touched the sky\\\\u2014 the wall shadow am black lie down in the shadow no longer the light of my dream before me above me only the thick wall only the shadow my hands my dark hands break through the wall find my dream help me to shatter this darkness to smash this night to break this shadow into thousand lights of sun into thousand whirling dreams of sun by owner provided at no charge for educational purposes\"\\n    },\\n    \"4\": {\\n        \"Unnamed: 0\": 4,\\n        \"Title\": \"The Negro Mother\",\\n        \"Poem\": \"children come back today to tell you story of the long dark way that had to climb that had to know in order that the race might live and grow look at my face dark as the night yet shining like the sun with love true light am the child they stole from the sand three hundred years ago in africa land am the dark girl who crossed the wide sea carrying in my body the seed of the free am the woman who worked in the field bringing the cotton and the corn to yield am the one who labored as slave beaten and mistreated for the work gave children sold away from me husband sold too no safety no love no respect was due three hundred years in the deepest south but god put song and prayer in my mouth god put dream like steel in my soul now through my children reaching the goal now through my children young and free realize the blessings deed to me could not read then could not write had nothing back there in the night sometimes the valley was filled with tears but kept trudging on through the lonely years sometimes the road was hot with the sun but had to keep on till my work was done had to keep on no stopping for me was the seed of the coming free nourished the dream that nothing could smother deep in my breast the negro mother had only hope then but now through you dark ones of today my dreams must come true all you dark children in the world out there remember my sweat my pain my despair remember my years heavy with sorrow and make of those years torch for tomorrow make of my pass road to the light out of the darkness the ignorance the night lift high my banner out of the dust stand like free men supporting my trust believe in the right let none push you back remember the whip and the slaver track remember how the strong in struggle and strife still bar you the way and deny you life but march ever forward breaking down bars look ever upward at the sun and the stars oh my dark children may my dreams and my prayers impel you forever up the great stairs for will be with you till no white brother dares keep down the children of the negro mother many on line versions have the alternate line realized the blessing denied to me by owner provided at no charge for educational purposes\"\\n    },\\n    \"5\": {\\n        \"Unnamed: 0\": 5,\\n        \"Title\": \"The Negro Speaks Of Rivers\",\\n        \"Poem\": \"have known rivers have known rivers ancient as the world and older than the flow of human blood in human veins my soul has grown deep like the rivers bathed in the euphrates when dawns were young built my hut near the congo and it lulled me to sleep looked upon the nile and raised the pyramids above it heard the singing of the mississippi when abe lincoln went down to new orleans and have seen its muddy bosom turn all golden in the sunset have known rivers ancient dusky rivers my soul has grown deep like the rivers http www poetryarchive org poetryarchive singlepoem do poemid recorded in langston hughes recites by owner provided at no charge for educational purposes\"\\n    },\\n    \"6\": {\\n        \"Unnamed: 0\": 6,\\n        \"Title\": \"Trumpet Player\",\\n        \"Poem\": \"the negro with the trumpet at his lips has dark moons of weariness beneath his eyes where the smoldering memory of slave ships blazed to the crack of whips about thighs the negro with the trumpet at his lips has head of vibrant hair tamed down patent leathered now until it gleams like jet\\\\u2014 were jet crown the music from the trumpet at his lips is honey mixed with liquid fire the rhythm from the trumpet at his lips is ecstasy distilled from old desire\\\\u2014 desire that is longing for the moon where the moonlight but spotlight in his eyes desire that is longing for the sea where the sea bar glass sucker size the negro with the trumpet at his lips whose jacket has fine one button roll does not know upon what riff the music slips it hypodermic needle to his soul but softly as the tune comes from his throat trouble mellows to golden note by owner provided at no charge for educational purposes\"\\n    },\\n    \"7\": {\\n        \"Unnamed: 0\": 7,\\n        \"Title\": \"Cross\",\\n        \"Poem\": \"my old man white old manand my old mother black if ever cursed my white old mani take my curses back if ever cursed my black old motherand wished she were in hell sorry for that evil wishand now wish her wellmy old man died in fine big house my ma died in shack wonder were going to die being neither white nor black by owner provided at no charge for educational purposes\"\\n    },\\n    \"8\": {\\n        \"Unnamed: 0\": 8,\\n        \"Title\": \"Madam and The Rent Man\",\\n        \"Poem\": \"the rent man knocked he said howdy do said what can do for you he said you know your rent is due said listen before pay go to hades and rot away the sink is broke the water do not run and you ai not done thing you promised to have done back window cracked kitchen floor squeaks there rats in the cellar and the attic leaks he said madam it not up to me just the agent do not you see said naturally you pass the buck if it money you want you are out of luck he said madam ai not pleased said neither am so we agrees this is one of number of madam poems by langston hughes that can be considered as linked series madam and the rent man http oldpoetry com opoem madam and the census man http oldpoetry com opoem show madam and her madam http oldpoetry com opoem madam and the phone bill http oldpoetry com opoem madam\\\\u2019s past history http oldpoetry com opoem this one is taken from the collected poems of langston hughes by langston hughes by the estate of langston hughes the header graphic is an illustration from the liberation news service the late by owner provided at no charge for educational purposes\"\\n    },\\n    \"9\": {\\n        \"Unnamed: 0\": 9,\\n        \"Title\": \"Dream Boogie\",\\n        \"Poem\": \"good morning daddy ai not you heard the boogie woogie rumble of dream deferred listen closely you will hear their feet beating out and beating out you think it happy beat listen to it closely ai not you heard something underneath like what did say sure happy take it away hey pop re bop mop hughes himself says that the book from which this comes montage of dream deferred should be viewed as complete poem in itself and not collection of short poems by owner provided at no charge for educational purposes\"\\n    },\\n    \"10\": {\\n        \"Unnamed: 0\": 10,\\n        \"Title\": \"In Blackwater woods\",\\n        \"Poem\": \"look the trees are turning their own bodies into pillars of light are giving off the rich fragrance of cinnamon and fulfillment the long tapers of cattails are bursting and floating away over the blue shoulders of the ponds and every pond no matter what its name is is nameless now every year everything have ever learned in my lifetime leads back to this the fires and the black river of loss whose other side is salvation whose meaning none of us will ever know to live in this world you must be able to do three things to love what is mortal to hold it against your bones knowing your own life depends on it and when the time comes to let it go to let it go by owner provided at no charge for educational purposes\"\\n    },\\n    \"11\": {\\n        \"Unnamed: 0\": 11,\\n        \"Title\": \"The Journey\",\\n        \"Poem\": \"one day you finally knew what you had to do and began though the voices around you kept shouting their bad advice though the whole house began to tremble and you felt the old tug at your ankles mend my life each voice cried but you did not stop you knew what you had to do though the wind pried with its stiff fingers at the very foundations though their melancholy was terrible it was already late enough and wild night and the road full of fallen branches and stones but little by little as you left their voice behind the stars began to burn through the sheets of clouds and there was new voice which you slowly recognized as your own that kept you company as you strode deeper and deeper into the world determined to do the only thing you could do determined to save the only life that you could save by owner provided at no charge for educational purposes\"\\n    },\\n    \"12\": {\\n        \"Unnamed: 0\": 12,\\n        \"Title\": \"Wild geese\",\\n        \"Poem\": \"you do not have to be good you do not have to walk on your knees for hundred miles through the desert repenting you only have to let the soft animal of your body love what it loves tell me about despair yours and will tell you mine meanwhile the world goes on meanwhile the sun and the clear pebbles of the rain are moving across the landscapes over the prairies and the deep trees the mountains and the rivers meanwhile the wild geese high in the clean blue air are heading home again whoever you are no matter how lonely the world offers itself to your imagination calls to you like the wild geese harsh and exciting over and over announcing your place in the family of things by owner provided at no charge for educational purposes\"\\n    },\\n    \"13\": {\\n        \"Unnamed: 0\": 13,\\n        \"Title\": \"Yes! No!\",\\n        \"Poem\": \"how necessary it is to have opinions think the spotted trout lilies are satisfied standing few inches above the earth think serenity is not something you just find in the world like plum tree holding up its white petals the violets along the river are opening their blue faces like small dark lanterns the green mosses being so many are as good as brawny how important it is to walk along not in haste but slowly looking at everything and calling out yes no the swan for all his pomp his robes of grass and petals wants only to be allowed to live on the nameless pond the catbrier is without fault the water thrushes down among the sloppy rocks are going crazy with happiness imagination is better than sharp instrument to pay attention this is our endless and proper work by owner provided at no charge for educational purposes\"\\n    },\\n    \"14\": {\\n        \"Unnamed: 0\": 14,\\n        \"Title\": \"Happiness\",\\n        \"Poem\": \"in the afternoon watched the she bear she was looking for the secret bin of sweetness honey that the bees store in the trees\\\\u2019 soft caves black block of gloom she climbed down tree after tree and shuffled on through the woods and then she found it the honey house deep as heartwood and dipped into it among the swarming bees honey and comb she lipped and tongued and scooped out in her black nails until maybe she grew full or sleepy or maybe little drunk and sticky down the rugs of her arms and began to hum and sway saw her let go of the branches saw her lift her honeyed muzzle into the leaves and her thick arms as though she would fly an enormous bee all sweetness and wings down into the meadows the perfections of honeysuckle and roses and clover to float and sleep in the sheer nets swaying from flower to flower day after shining day by owner provided at no charge for educational purposes\"\\n    },\\n    \"15\": {\\n        \"Unnamed: 0\": 15,\\n        \"Title\": \"Next time\",\\n        \"Poem\": \"next time what do is look at the earth before saying anything stop just before going into house and be an emperor for minute and listen better to the wind or to the air being still when anyone talked to me whether blame or praise or just passing time watch the face how the mouth has to work and see any strain any sign of what lifted the voice and for all know more the earth bracing itself and soaring the air finding every leaf and feather over forest and water and for every person the body glowing inside the clothes like light by owner provided at no charge for educational purposes\"\\n    },\\n    \"16\": {\\n        \"Unnamed: 0\": 16,\\n        \"Title\": \"The summer day\",\\n        \"Poem\": \"who made the world who made the swan and the black bear who made the grasshopper this grasshopper mean the one who has flung herself out of the grass the one who is eating sugar out of my hand who is moving her jaws back and forth instead of up and down who is gazing around with her enormous and complicated eyes now she lifts her pale forearms and thoroughly washes her face now she snaps her wings open and floats away do not know exactly what prayer is do know how to pay attention how to fall down into the grass how to kneel in the grass how to be idle and blessed how to stroll through the fields which is what have been doing all day tell me what else should have done does not everything die at last and too soon tell me what is it you plan to do with your one wild and precious life by owner provided at no charge for educational purposes\"\\n    },\\n    \"17\": {\\n        \"Unnamed: 0\": 17,\\n        \"Title\": \"Where Does the Dance Begin, Where Does It End?\",\\n        \"Poem\": \"do not call this world adorable or useful that not it it frisky and theater for more than fair winds the eyelash of lightning is neither good nor evil the struck tree burns like pillar of gold but the blue rain sinks straight to the white feet of the trees whose mouths open does not the wind turning in circles invent the dance have not the flowers moved slowly across asia then europe until at last now they shine in your own yard do not call this world an explanation or even an education when the sufi poet whirled was he looking outward to the mountains so solidly there in white capped ring or was he looking to the center of everything the seed the egg the idea that was also there beautiful as thumb curved and touching the finger tenderly little love ring as he whirled oh jug of breath in the garden of dust by owner provided at no charge for educational purposes\"\\n    },\\n    \"18\": {\\n        \"Unnamed: 0\": 18,\\n        \"Title\": \"Breakage\",\\n        \"Poem\": \"go down to the edge of the sea how everything shines in the morning light the cusp of the whelk the broken cupboard of the clam the opened blue mussels moon snails pale pink and barnacle scarred\\\\u2014 and nothing at all whole or shut but tattered split dropped by the gulls onto the gray rocks and all the moisture gone it\\\\u2019s like schoolhouse of little words thousands of words first you figure out what each one means by itself the jingle the periwinkle the scallop full of moonlight then you begin slowly to read the whole story by owner provided at no charge for educational purposes\"\\n    },\\n    \"19\": {\\n        \"Unnamed: 0\": 19,\\n        \"Title\": \"Song for Autumn\",\\n        \"Poem\": \"don\\\\u2019t you imagine the leaves dream now how comfortable it will be to touch the earth instead of the nothingness of the air and the endless freshets of wind and don\\\\u2019t you think the trees especially those with mossy hollows are beginning to look for the birds that will come\\\\u2014six dozen\\\\u2014to sleep inside their bodies and don\\\\u2019t you hear the goldenrod whispering goodbye the everlasting being crowned with the first tuffets of snow the pond stiffens and the white field over which the fox runs so quickly brings out its long blue shadows the wind wags its many tails and in the evening the piled firewood shifts little longing to be on its way by owner provided at no charge for educational purposes\"\\n    }\\n}'"
            ],
            "application/vnd.google.colaboratory.intrinsic+json": {
              "type": "string"
            }
          },
          "metadata": {},
          "execution_count": 20
        }
      ]
    },
    {
      "cell_type": "code",
      "metadata": {
        "id": "n81I-1-3c5rI"
      },
      "source": [
        "# with open('/content/drive/MyDrive/DataSets/alfred_tennyson_final.txt', 'w') as outfile:\n",
        "#     json.dump(result_alfred, outfile)\n",
        "with open('/content/drive/MyDrive/SJSU/CMPE 257: Machine Learning/NLP/Homework 9b/Datasets/mary_j_oliver.csv', 'w') as outfile:\n",
        "    json.dump(result_mjo, outfile)"
      ],
      "execution_count": 21,
      "outputs": []
    },
    {
      "cell_type": "code",
      "metadata": {
        "id": "kZGBn_URc7w3",
        "colab": {
          "base_uri": "https://localhost:8080/"
        },
        "outputId": "7e13915a-6bfc-43d5-d158-27be9de76c9a"
      },
      "source": [
        "parsed_mjo[\"0\"]"
      ],
      "execution_count": 22,
      "outputs": [
        {
          "output_type": "execute_result",
          "data": {
            "text/plain": [
              "{'Poem': 'well son will tell you life for me ai not been no crystal stair it had tacks in it and splinters and boards torn up and places with no carpet on the floor— bare but all the time se been climbin on and reachin landin and turnin corners and sometimes goin in the dark where there ai not been no light so boy do not you turn back do not you set down on the steps cause you finds it kinder hard do not you fall now— for se still goin honey se still climbin and life for me ai not been no crystal stair by owner provided at no charge for educational purposes',\n",
              " 'Title': 'Mother To Son',\n",
              " 'Unnamed: 0': 0}"
            ]
          },
          "metadata": {},
          "execution_count": 22
        }
      ]
    },
    {
      "cell_type": "markdown",
      "metadata": {
        "id": "oRLnisPgc-xg"
      },
      "source": [
        "## Build JSON Structure"
      ]
    },
    {
      "cell_type": "code",
      "metadata": {
        "id": "DcgPLkxodC35"
      },
      "source": [
        "langston_hughes = {\n",
        "\n",
        "}\n",
        "\n",
        "mary_j_oliver = {\n",
        "\n",
        "}"
      ],
      "execution_count": 23,
      "outputs": []
    },
    {
      "cell_type": "markdown",
      "metadata": {
        "id": "gE51185-dHhg"
      },
      "source": [
        "## Data Cleaning"
      ]
    },
    {
      "cell_type": "code",
      "metadata": {
        "id": "WVm7HINDdK-v"
      },
      "source": [
        "def cleanPoemText(text):\n",
        "    \n",
        "\n",
        "    text = contractions.fix(text)\n",
        "    \n",
        "    text = text.strip().lower()\n",
        "    \n",
        "    text = re.sub(r\"'\", ' ', text)\n",
        "    \n",
        "    filters='!\"\\'#$%&()*+,-./:;<=>?@[\\\\]^_`{|}~\\t\\n'\n",
        "    translate_dict = dict((i, \" \") for i in filters)\n",
        "    translate_map = str.maketrans(translate_dict)\n",
        "    text = text.translate(translate_map)\n",
        "\n",
        "    text = ' '.join([w for w in text.split()])\n",
        "\n",
        "    # Replace multiple space with one space\n",
        "    text = re.sub(' +', ' ', text)\n",
        "    \n",
        "    text = ''.join(text)\n",
        "\n",
        "    return text"
      ],
      "execution_count": 24,
      "outputs": []
    },
    {
      "cell_type": "markdown",
      "metadata": {
        "id": "wIxqkmAfdUy_"
      },
      "source": [
        "## Clean Poem Text"
      ]
    },
    {
      "cell_type": "code",
      "metadata": {
        "id": "gxWyRjwRdSIw"
      },
      "source": [
        "embedding = ''\n",
        "def buildPoemArray(poet, data):\n",
        "  poems = []\n",
        "  for i in data:\n",
        "    poem = data[i][\"Poem\"]\n",
        "\n",
        "    clean_poem = cleanPoemText(poem)\n",
        "    idx = \"poem\" + str(i)\n",
        "    poet[idx] = clean_poem\n",
        "    poems.append(idx)\n",
        "  poet['poems_array'] = poems\n"
      ],
      "execution_count": 25,
      "outputs": []
    },
    {
      "cell_type": "code",
      "metadata": {
        "id": "Ol2fgkkida3Y"
      },
      "source": [
        "buildPoemArray(langston_hughes, parsed_lh)\n",
        "buildPoemArray(mary_j_oliver, parsed_mjo)"
      ],
      "execution_count": 26,
      "outputs": []
    },
    {
      "cell_type": "code",
      "metadata": {
        "id": "gW-WVzNedkug",
        "colab": {
          "base_uri": "https://localhost:8080/"
        },
        "outputId": "a756fc42-0449-4cad-89b8-7fa171b38835"
      },
      "source": [
        "langston_hughes"
      ],
      "execution_count": 27,
      "outputs": [
        {
          "output_type": "execute_result",
          "data": {
            "text/plain": [
              "{'poem0': 'well son will tell you life for me ai not been no crystal stair it had tacks in it and splinters and boards torn up and places with no carpet on the floor— bare but all the time se been climbin on and reachin landin and turnin corners and sometimes goin in the dark where there ai not been no light so boy do not you turn back do not you set down on the steps because you finds it kinder hard do not you fall now— for se still goin honey se still climbin and life for me ai not been no crystal stair by owner provided at no charge for educational purposes',\n",
              " 'poem1': 'landlord landlord my roof has sprung leak do not you member told you about it way last week landlord landlord these steps is broken down when you come up yourself it wonder you do not fall down ten bucks you say owe you ten bucks you say is due well that ten bucks more pay you till you fix this house up new what you going to get eviction orders you going to cut off my heat you going to take my furniture and throw it in the street um huh you talking high and mighty talk on till you get through you ai not going to be able to say word if land my fist on you police police come and get this man he trying to ruin the government and overturn the land copper whistle patrol bell arrest precinct station iron cell headlines in press man threatens landlord tenant held no bail judge gives negro days in county jail from the langston hughes reader this poem by langston hughes grew out of conditions in new york city’s harlem in the ’s in graphic terms it describes the escalation of anger and frustration that tenants experienced trying to get landlords to make basic repairs it is structured like an old time blues song until the final verse where the rhythm changes charley noble by owner provided at no charge for educational purposes',\n",
              " 'poem2': 'too sing america am the darker brother they send me to eat in the kitchen when company comes but laugh and eat well and grow strong tomorrow will be at the table when company comes nobody will dare say to me eat in the kitchen then besides they will see how beautiful am and be ashamed— too am america http www poetryarchive org poetryarchive singlepoem do poemid listen to langston hughes read this poem recorded in by owner provided at no charge for educational purposes',\n",
              " 'poem3': 'it was long time ago have almost forgotten my dream but it was there then in front of me bright like sun— my dream and then the wall rose rose slowly slowly between me and my dream rose until it touched the sky— the wall shadow am black lie down in the shadow no longer the light of my dream before me above me only the thick wall only the shadow my hands my dark hands break through the wall find my dream help me to shatter this darkness to smash this night to break this shadow into thousand lights of sun into thousand whirling dreams of sun by owner provided at no charge for educational purposes',\n",
              " 'poem4': 'children come back today to tell you story of the long dark way that had to climb that had to know in order that the race might live and grow look at my face dark as the night yet shining like the sun with love true light am the child they stole from the sand three hundred years ago in africa land am the dark girl who crossed the wide sea carrying in my body the seed of the free am the woman who worked in the field bringing the cotton and the corn to yield am the one who labored as slave beaten and mistreated for the work gave children sold away from me husband sold too no safety no love no respect was due three hundred years in the deepest south but god put song and prayer in my mouth god put dream like steel in my soul now through my children reaching the goal now through my children young and free realize the blessings deed to me could not read then could not write had nothing back there in the night sometimes the valley was filled with tears but kept trudging on through the lonely years sometimes the road was hot with the sun but had to keep on till my work was done had to keep on no stopping for me was the seed of the coming free nourished the dream that nothing could smother deep in my breast the negro mother had only hope then but now through you dark ones of today my dreams must come true all you dark children in the world out there remember my sweat my pain my despair remember my years heavy with sorrow and make of those years torch for tomorrow make of my pass road to the light out of the darkness the ignorance the night lift high my banner out of the dust stand like free men supporting my trust believe in the right let none push you back remember the whip and the slaver track remember how the strong in struggle and strife still bar you the way and deny you life but march ever forward breaking down bars look ever upward at the sun and the stars oh my dark children may my dreams and my prayers impel you forever up the great stairs for will be with you till no white brother dares keep down the children of the negro mother many on line versions have the alternate line realized the blessing denied to me by owner provided at no charge for educational purposes',\n",
              " 'poem5': 'have known rivers have known rivers ancient as the world and older than the flow of human blood in human veins my soul has grown deep like the rivers bathed in the euphrates when dawns were young built my hut near the congo and it lulled me to sleep looked upon the nile and raised the pyramids above it heard the singing of the mississippi when abe lincoln went down to new orleans and have seen its muddy bosom turn all golden in the sunset have known rivers ancient dusky rivers my soul has grown deep like the rivers http www poetryarchive org poetryarchive singlepoem do poemid recorded in langston hughes recites by owner provided at no charge for educational purposes',\n",
              " 'poem6': 'the negro with the trumpet at his lips has dark moons of weariness beneath his eyes where the smoldering memory of slave ships blazed to the crack of whips about thighs the negro with the trumpet at his lips has head of vibrant hair tamed down patent leathered now until it gleams like jet— were jet crown the music from the trumpet at his lips is honey mixed with liquid fire the rhythm from the trumpet at his lips is ecstasy distilled from old desire— desire that is longing for the moon where the moonlight but spotlight in his eyes desire that is longing for the sea where the sea bar glass sucker size the negro with the trumpet at his lips whose jacket has fine one button roll does not know upon what riff the music slips it hypodermic needle to his soul but softly as the tune comes from his throat trouble mellows to golden note by owner provided at no charge for educational purposes',\n",
              " 'poem7': 'my old man white old manand my old mother black if ever cursed my white old mani take my curses back if ever cursed my black old motherand wished she were in hell sorry for that evil wishand now wish her wellmy old man died in fine big house my ma died in shack wonder were going to die being neither white nor black by owner provided at no charge for educational purposes',\n",
              " 'poem8': 'the rent man knocked he said how do you do said what can do for you he said you know your rent is due said listen before pay go to hades and rot away the sink is broke the water do not run and you ai not done thing you promised to have done back window cracked kitchen floor squeaks there rats in the cellar and the attic leaks he said madam it not up to me just the agent do not you see said naturally you pass the buck if it money you want you are out of luck he said madam ai not pleased said neither am so we agrees this is one of number of madam poems by langston hughes that can be considered as linked series madam and the rent man http oldpoetry com opoem madam and the census man http oldpoetry com opoem show madam and her madam http oldpoetry com opoem madam and the phone bill http oldpoetry com opoem madam’s past history http oldpoetry com opoem this one is taken from the collected poems of langston hughes by langston hughes by the estate of langston hughes the header graphic is an illustration from the liberation news service the late by owner provided at no charge for educational purposes',\n",
              " 'poem9': 'good morning daddy ai not you heard the boogie woogie rumble of dream deferred listen closely you will hear their feet beating out and beating out you think it happy beat listen to it closely ai not you heard something underneath like what did say sure happy take it away hey pop re bop mop hughes himself says that the book from which this comes montage of dream deferred should be viewed as complete poem in itself and not collection of short poems by owner provided at no charge for educational purposes',\n",
              " 'poems_array': ['poem0',\n",
              "  'poem1',\n",
              "  'poem2',\n",
              "  'poem3',\n",
              "  'poem4',\n",
              "  'poem5',\n",
              "  'poem6',\n",
              "  'poem7',\n",
              "  'poem8',\n",
              "  'poem9']}"
            ]
          },
          "metadata": {},
          "execution_count": 27
        }
      ]
    },
    {
      "cell_type": "code",
      "metadata": {
        "id": "a1YnnpDJdjHw",
        "colab": {
          "base_uri": "https://localhost:8080/"
        },
        "outputId": "c8b45421-0da7-4d48-9b7b-9374abdba6ff"
      },
      "source": [
        "mary_j_oliver"
      ],
      "execution_count": 28,
      "outputs": [
        {
          "output_type": "execute_result",
          "data": {
            "text/plain": [
              "{'poem0': 'well son will tell you life for me ai not been no crystal stair it had tacks in it and splinters and boards torn up and places with no carpet on the floor— bare but all the time se been climbin on and reachin landin and turnin corners and sometimes goin in the dark where there ai not been no light so boy do not you turn back do not you set down on the steps because you finds it kinder hard do not you fall now— for se still goin honey se still climbin and life for me ai not been no crystal stair by owner provided at no charge for educational purposes',\n",
              " 'poem1': 'landlord landlord my roof has sprung leak do not you member told you about it way last week landlord landlord these steps is broken down when you come up yourself it wonder you do not fall down ten bucks you say owe you ten bucks you say is due well that ten bucks more pay you till you fix this house up new what you going to get eviction orders you going to cut off my heat you going to take my furniture and throw it in the street um huh you talking high and mighty talk on till you get through you ai not going to be able to say word if land my fist on you police police come and get this man he trying to ruin the government and overturn the land copper whistle patrol bell arrest precinct station iron cell headlines in press man threatens landlord tenant held no bail judge gives negro days in county jail from the langston hughes reader this poem by langston hughes grew out of conditions in new york city’s harlem in the ’s in graphic terms it describes the escalation of anger and frustration that tenants experienced trying to get landlords to make basic repairs it is structured like an old time blues song until the final verse where the rhythm changes charley noble by owner provided at no charge for educational purposes',\n",
              " 'poem10': 'look the trees are turning their own bodies into pillars of light are giving off the rich fragrance of cinnamon and fulfillment the long tapers of cattails are bursting and floating away over the blue shoulders of the ponds and every pond no matter what its name is is nameless now every year everything have ever learned in my lifetime leads back to this the fires and the black river of loss whose other side is salvation whose meaning none of us will ever know to live in this world you must be able to do three things to love what is mortal to hold it against your bones knowing your own life depends on it and when the time comes to let it go to let it go by owner provided at no charge for educational purposes',\n",
              " 'poem11': 'one day you finally knew what you had to do and began though the voices around you kept shouting their bad advice though the whole house began to tremble and you felt the old tug at your ankles mend my life each voice cried but you did not stop you knew what you had to do though the wind pried with its stiff fingers at the very foundations though their melancholy was terrible it was already late enough and wild night and the road full of fallen branches and stones but little by little as you left their voice behind the stars began to burn through the sheets of clouds and there was new voice which you slowly recognized as your own that kept you company as you strode deeper and deeper into the world determined to do the only thing you could do determined to save the only life that you could save by owner provided at no charge for educational purposes',\n",
              " 'poem12': 'you do not have to be good you do not have to walk on your knees for hundred miles through the desert repenting you only have to let the soft animal of your body love what it loves tell me about despair yours and will tell you mine meanwhile the world goes on meanwhile the sun and the clear pebbles of the rain are moving across the landscapes over the prairies and the deep trees the mountains and the rivers meanwhile the wild geese high in the clean blue air are heading home again whoever you are no matter how lonely the world offers itself to your imagination calls to you like the wild geese harsh and exciting over and over announcing your place in the family of things by owner provided at no charge for educational purposes',\n",
              " 'poem13': 'how necessary it is to have opinions think the spotted trout lilies are satisfied standing few inches above the earth think serenity is not something you just find in the world like plum tree holding up its white petals the violets along the river are opening their blue faces like small dark lanterns the green mosses being so many are as good as brawny how important it is to walk along not in haste but slowly looking at everything and calling out yes no the swan for all his pomp his robes of grass and petals wants only to be allowed to live on the nameless pond the catbrier is without fault the water thrushes down among the sloppy rocks are going crazy with happiness imagination is better than sharp instrument to pay attention this is our endless and proper work by owner provided at no charge for educational purposes',\n",
              " 'poem14': 'in the afternoon watched the she bear she was looking for the secret bin of sweetness honey that the bees store in the trees’ soft caves black block of gloom she climbed down tree after tree and shuffled on through the woods and then she found it the honey house deep as heartwood and dipped into it among the swarming bees honey and comb she lipped and tongued and scooped out in her black nails until maybe she grew full or sleepy or maybe little drunk and sticky down the rugs of her arms and began to hum and sway saw her let go of the branches saw her lift her honeyed muzzle into the leaves and her thick arms as though she would fly an enormous bee all sweetness and wings down into the meadows the perfections of honeysuckle and roses and clover to float and sleep in the sheer nets swaying from flower to flower day after shining day by owner provided at no charge for educational purposes',\n",
              " 'poem15': 'next time what do is look at the earth before saying anything stop just before going into house and be an emperor for minute and listen better to the wind or to the air being still when anyone talked to me whether blame or praise or just passing time watch the face how the mouth has to work and see any strain any sign of what lifted the voice and for all know more the earth bracing itself and soaring the air finding every leaf and feather over forest and water and for every person the body glowing inside the clothes like light by owner provided at no charge for educational purposes',\n",
              " 'poem16': 'who made the world who made the swan and the black bear who made the grasshopper this grasshopper mean the one who has flung herself out of the grass the one who is eating sugar out of my hand who is moving her jaws back and forth instead of up and down who is gazing around with her enormous and complicated eyes now she lifts her pale forearms and thoroughly washes her face now she snaps her wings open and floats away do not know exactly what prayer is do know how to pay attention how to fall down into the grass how to kneel in the grass how to be idle and blessed how to stroll through the fields which is what have been doing all day tell me what else should have done does not everything die at last and too soon tell me what is it you plan to do with your one wild and precious life by owner provided at no charge for educational purposes',\n",
              " 'poem17': 'do not call this world adorable or useful that not it it frisky and theater for more than fair winds the eyelash of lightning is neither good nor evil the struck tree burns like pillar of gold but the blue rain sinks straight to the white feet of the trees whose mouths open does not the wind turning in circles invent the dance have not the flowers moved slowly across asia then europe until at last now they shine in your own yard do not call this world an explanation or even an education when the sufi poet whirled was he looking outward to the mountains so solidly there in white capped ring or was he looking to the center of everything the seed the egg the idea that was also there beautiful as thumb curved and touching the finger tenderly little love ring as he whirled oh jug of breath in the garden of dust by owner provided at no charge for educational purposes',\n",
              " 'poem18': 'go down to the edge of the sea how everything shines in the morning light the cusp of the whelk the broken cupboard of the clam the opened blue mussels moon snails pale pink and barnacle scarred— and nothing at all whole or shut but tattered split dropped by the gulls onto the gray rocks and all the moisture gone it is like schoolhouse of little words thousands of words first you figure out what each one means by itself the jingle the periwinkle the scallop full of moonlight then you begin slowly to read the whole story by owner provided at no charge for educational purposes',\n",
              " 'poem19': 'do not you imagine the leaves dream now how comfortable it will be to touch the earth instead of the nothingness of the air and the endless freshets of wind and do not you think the trees especially those with mossy hollows are beginning to look for the birds that will come—six dozen—to sleep inside their bodies and do not you hear the goldenrod whispering goodbye the everlasting being crowned with the first tuffets of snow the pond stiffens and the white field over which the fox runs so quickly brings out its long blue shadows the wind wags its many tails and in the evening the piled firewood shifts little longing to be on its way by owner provided at no charge for educational purposes',\n",
              " 'poem2': 'too sing america am the darker brother they send me to eat in the kitchen when company comes but laugh and eat well and grow strong tomorrow will be at the table when company comes nobody will dare say to me eat in the kitchen then besides they will see how beautiful am and be ashamed— too am america http www poetryarchive org poetryarchive singlepoem do poemid listen to langston hughes read this poem recorded in by owner provided at no charge for educational purposes',\n",
              " 'poem3': 'it was long time ago have almost forgotten my dream but it was there then in front of me bright like sun— my dream and then the wall rose rose slowly slowly between me and my dream rose until it touched the sky— the wall shadow am black lie down in the shadow no longer the light of my dream before me above me only the thick wall only the shadow my hands my dark hands break through the wall find my dream help me to shatter this darkness to smash this night to break this shadow into thousand lights of sun into thousand whirling dreams of sun by owner provided at no charge for educational purposes',\n",
              " 'poem4': 'children come back today to tell you story of the long dark way that had to climb that had to know in order that the race might live and grow look at my face dark as the night yet shining like the sun with love true light am the child they stole from the sand three hundred years ago in africa land am the dark girl who crossed the wide sea carrying in my body the seed of the free am the woman who worked in the field bringing the cotton and the corn to yield am the one who labored as slave beaten and mistreated for the work gave children sold away from me husband sold too no safety no love no respect was due three hundred years in the deepest south but god put song and prayer in my mouth god put dream like steel in my soul now through my children reaching the goal now through my children young and free realize the blessings deed to me could not read then could not write had nothing back there in the night sometimes the valley was filled with tears but kept trudging on through the lonely years sometimes the road was hot with the sun but had to keep on till my work was done had to keep on no stopping for me was the seed of the coming free nourished the dream that nothing could smother deep in my breast the negro mother had only hope then but now through you dark ones of today my dreams must come true all you dark children in the world out there remember my sweat my pain my despair remember my years heavy with sorrow and make of those years torch for tomorrow make of my pass road to the light out of the darkness the ignorance the night lift high my banner out of the dust stand like free men supporting my trust believe in the right let none push you back remember the whip and the slaver track remember how the strong in struggle and strife still bar you the way and deny you life but march ever forward breaking down bars look ever upward at the sun and the stars oh my dark children may my dreams and my prayers impel you forever up the great stairs for will be with you till no white brother dares keep down the children of the negro mother many on line versions have the alternate line realized the blessing denied to me by owner provided at no charge for educational purposes',\n",
              " 'poem5': 'have known rivers have known rivers ancient as the world and older than the flow of human blood in human veins my soul has grown deep like the rivers bathed in the euphrates when dawns were young built my hut near the congo and it lulled me to sleep looked upon the nile and raised the pyramids above it heard the singing of the mississippi when abe lincoln went down to new orleans and have seen its muddy bosom turn all golden in the sunset have known rivers ancient dusky rivers my soul has grown deep like the rivers http www poetryarchive org poetryarchive singlepoem do poemid recorded in langston hughes recites by owner provided at no charge for educational purposes',\n",
              " 'poem6': 'the negro with the trumpet at his lips has dark moons of weariness beneath his eyes where the smoldering memory of slave ships blazed to the crack of whips about thighs the negro with the trumpet at his lips has head of vibrant hair tamed down patent leathered now until it gleams like jet— were jet crown the music from the trumpet at his lips is honey mixed with liquid fire the rhythm from the trumpet at his lips is ecstasy distilled from old desire— desire that is longing for the moon where the moonlight but spotlight in his eyes desire that is longing for the sea where the sea bar glass sucker size the negro with the trumpet at his lips whose jacket has fine one button roll does not know upon what riff the music slips it hypodermic needle to his soul but softly as the tune comes from his throat trouble mellows to golden note by owner provided at no charge for educational purposes',\n",
              " 'poem7': 'my old man white old manand my old mother black if ever cursed my white old mani take my curses back if ever cursed my black old motherand wished she were in hell sorry for that evil wishand now wish her wellmy old man died in fine big house my ma died in shack wonder were going to die being neither white nor black by owner provided at no charge for educational purposes',\n",
              " 'poem8': 'the rent man knocked he said how do you do said what can do for you he said you know your rent is due said listen before pay go to hades and rot away the sink is broke the water do not run and you ai not done thing you promised to have done back window cracked kitchen floor squeaks there rats in the cellar and the attic leaks he said madam it not up to me just the agent do not you see said naturally you pass the buck if it money you want you are out of luck he said madam ai not pleased said neither am so we agrees this is one of number of madam poems by langston hughes that can be considered as linked series madam and the rent man http oldpoetry com opoem madam and the census man http oldpoetry com opoem show madam and her madam http oldpoetry com opoem madam and the phone bill http oldpoetry com opoem madam’s past history http oldpoetry com opoem this one is taken from the collected poems of langston hughes by langston hughes by the estate of langston hughes the header graphic is an illustration from the liberation news service the late by owner provided at no charge for educational purposes',\n",
              " 'poem9': 'good morning daddy ai not you heard the boogie woogie rumble of dream deferred listen closely you will hear their feet beating out and beating out you think it happy beat listen to it closely ai not you heard something underneath like what did say sure happy take it away hey pop re bop mop hughes himself says that the book from which this comes montage of dream deferred should be viewed as complete poem in itself and not collection of short poems by owner provided at no charge for educational purposes',\n",
              " 'poems_array': ['poem0',\n",
              "  'poem1',\n",
              "  'poem2',\n",
              "  'poem3',\n",
              "  'poem4',\n",
              "  'poem5',\n",
              "  'poem6',\n",
              "  'poem7',\n",
              "  'poem8',\n",
              "  'poem9',\n",
              "  'poem10',\n",
              "  'poem11',\n",
              "  'poem12',\n",
              "  'poem13',\n",
              "  'poem14',\n",
              "  'poem15',\n",
              "  'poem16',\n",
              "  'poem17',\n",
              "  'poem18',\n",
              "  'poem19']}"
            ]
          },
          "metadata": {},
          "execution_count": 28
        }
      ]
    },
    {
      "cell_type": "code",
      "metadata": {
        "id": "GS2XXjIXXhnA"
      },
      "source": [
        "langston_hughes_poems = langston_hughes.copy()\n",
        "mary_j_oliver_poems = mary_j_oliver.copy()"
      ],
      "execution_count": 29,
      "outputs": []
    },
    {
      "cell_type": "markdown",
      "metadata": {
        "id": "STzqcZPUdnWp"
      },
      "source": [
        "# Run Part-Of-Speech, extract verbs, nouns and adjectives"
      ]
    },
    {
      "cell_type": "code",
      "metadata": {
        "id": "8Ty5NNaXdsQI"
      },
      "source": [
        "def getPOS(poet):\n",
        "  global_vrb= set()\n",
        "  global_nns= set()\n",
        "  global_adj= set()\n",
        "  for key in poet['poems_array']:\n",
        "    text = poet[key]\n",
        "    wrd_list = word_tokenize(text)\n",
        "    pos_val = nltk.pos_tag(wrd_list)\n",
        "    poet[\"pos_\"+key] = pos_val\n",
        "\n",
        "    vrb = set([word for (word, pos) in pos_val if (pos.startswith('VB'))])\n",
        "    nns = set([word for (word, pos) in pos_val if (pos.startswith('NN'))])\n",
        "    adj = set([word for (word, pos) in pos_val if (pos.startswith('JJ'))])\n",
        "\n",
        "    poet[\"verbs_\"+key] = list(vrb)\n",
        "    poet[\"adjectives_\"+key] = list(adj)\n",
        "    poet[\"nouns_\"+key] = list(nns)\n",
        "\n",
        "    global_vrb = set.union(global_vrb, vrb)\n",
        "    global_nns = set.union(global_nns, nns)\n",
        "    global_adj = set.union(global_adj, adj)\n",
        "\n",
        "  poet['all_verbs'] = list(global_vrb)\n",
        "  poet['all_nouns'] = list(global_nns)\n",
        "  poet['all_adjectives'] = list(global_adj)"
      ],
      "execution_count": 30,
      "outputs": []
    },
    {
      "cell_type": "code",
      "metadata": {
        "id": "5_zt9homdxTh"
      },
      "source": [
        "langston_hughes_pos = langston_hughes.copy()\n",
        "getPOS(langston_hughes_pos)\n",
        "langston_hughes_pos"
      ],
      "execution_count": null,
      "outputs": []
    },
    {
      "cell_type": "code",
      "metadata": {
        "id": "RNC9ffYSKLrZ",
        "colab": {
          "base_uri": "https://localhost:8080/"
        },
        "outputId": "969bc0bc-de00-4481-aeb1-c5aa3893be43"
      },
      "source": [
        "langston_hughes"
      ],
      "execution_count": 32,
      "outputs": [
        {
          "output_type": "execute_result",
          "data": {
            "text/plain": [
              "{'poem0': 'well son will tell you life for me ai not been no crystal stair it had tacks in it and splinters and boards torn up and places with no carpet on the floor— bare but all the time se been climbin on and reachin landin and turnin corners and sometimes goin in the dark where there ai not been no light so boy do not you turn back do not you set down on the steps because you finds it kinder hard do not you fall now— for se still goin honey se still climbin and life for me ai not been no crystal stair by owner provided at no charge for educational purposes',\n",
              " 'poem1': 'landlord landlord my roof has sprung leak do not you member told you about it way last week landlord landlord these steps is broken down when you come up yourself it wonder you do not fall down ten bucks you say owe you ten bucks you say is due well that ten bucks more pay you till you fix this house up new what you going to get eviction orders you going to cut off my heat you going to take my furniture and throw it in the street um huh you talking high and mighty talk on till you get through you ai not going to be able to say word if land my fist on you police police come and get this man he trying to ruin the government and overturn the land copper whistle patrol bell arrest precinct station iron cell headlines in press man threatens landlord tenant held no bail judge gives negro days in county jail from the langston hughes reader this poem by langston hughes grew out of conditions in new york city’s harlem in the ’s in graphic terms it describes the escalation of anger and frustration that tenants experienced trying to get landlords to make basic repairs it is structured like an old time blues song until the final verse where the rhythm changes charley noble by owner provided at no charge for educational purposes',\n",
              " 'poem2': 'too sing america am the darker brother they send me to eat in the kitchen when company comes but laugh and eat well and grow strong tomorrow will be at the table when company comes nobody will dare say to me eat in the kitchen then besides they will see how beautiful am and be ashamed— too am america http www poetryarchive org poetryarchive singlepoem do poemid listen to langston hughes read this poem recorded in by owner provided at no charge for educational purposes',\n",
              " 'poem3': 'it was long time ago have almost forgotten my dream but it was there then in front of me bright like sun— my dream and then the wall rose rose slowly slowly between me and my dream rose until it touched the sky— the wall shadow am black lie down in the shadow no longer the light of my dream before me above me only the thick wall only the shadow my hands my dark hands break through the wall find my dream help me to shatter this darkness to smash this night to break this shadow into thousand lights of sun into thousand whirling dreams of sun by owner provided at no charge for educational purposes',\n",
              " 'poem4': 'children come back today to tell you story of the long dark way that had to climb that had to know in order that the race might live and grow look at my face dark as the night yet shining like the sun with love true light am the child they stole from the sand three hundred years ago in africa land am the dark girl who crossed the wide sea carrying in my body the seed of the free am the woman who worked in the field bringing the cotton and the corn to yield am the one who labored as slave beaten and mistreated for the work gave children sold away from me husband sold too no safety no love no respect was due three hundred years in the deepest south but god put song and prayer in my mouth god put dream like steel in my soul now through my children reaching the goal now through my children young and free realize the blessings deed to me could not read then could not write had nothing back there in the night sometimes the valley was filled with tears but kept trudging on through the lonely years sometimes the road was hot with the sun but had to keep on till my work was done had to keep on no stopping for me was the seed of the coming free nourished the dream that nothing could smother deep in my breast the negro mother had only hope then but now through you dark ones of today my dreams must come true all you dark children in the world out there remember my sweat my pain my despair remember my years heavy with sorrow and make of those years torch for tomorrow make of my pass road to the light out of the darkness the ignorance the night lift high my banner out of the dust stand like free men supporting my trust believe in the right let none push you back remember the whip and the slaver track remember how the strong in struggle and strife still bar you the way and deny you life but march ever forward breaking down bars look ever upward at the sun and the stars oh my dark children may my dreams and my prayers impel you forever up the great stairs for will be with you till no white brother dares keep down the children of the negro mother many on line versions have the alternate line realized the blessing denied to me by owner provided at no charge for educational purposes',\n",
              " 'poem5': 'have known rivers have known rivers ancient as the world and older than the flow of human blood in human veins my soul has grown deep like the rivers bathed in the euphrates when dawns were young built my hut near the congo and it lulled me to sleep looked upon the nile and raised the pyramids above it heard the singing of the mississippi when abe lincoln went down to new orleans and have seen its muddy bosom turn all golden in the sunset have known rivers ancient dusky rivers my soul has grown deep like the rivers http www poetryarchive org poetryarchive singlepoem do poemid recorded in langston hughes recites by owner provided at no charge for educational purposes',\n",
              " 'poem6': 'the negro with the trumpet at his lips has dark moons of weariness beneath his eyes where the smoldering memory of slave ships blazed to the crack of whips about thighs the negro with the trumpet at his lips has head of vibrant hair tamed down patent leathered now until it gleams like jet— were jet crown the music from the trumpet at his lips is honey mixed with liquid fire the rhythm from the trumpet at his lips is ecstasy distilled from old desire— desire that is longing for the moon where the moonlight but spotlight in his eyes desire that is longing for the sea where the sea bar glass sucker size the negro with the trumpet at his lips whose jacket has fine one button roll does not know upon what riff the music slips it hypodermic needle to his soul but softly as the tune comes from his throat trouble mellows to golden note by owner provided at no charge for educational purposes',\n",
              " 'poem7': 'my old man white old manand my old mother black if ever cursed my white old mani take my curses back if ever cursed my black old motherand wished she were in hell sorry for that evil wishand now wish her wellmy old man died in fine big house my ma died in shack wonder were going to die being neither white nor black by owner provided at no charge for educational purposes',\n",
              " 'poem8': 'the rent man knocked he said how do you do said what can do for you he said you know your rent is due said listen before pay go to hades and rot away the sink is broke the water do not run and you ai not done thing you promised to have done back window cracked kitchen floor squeaks there rats in the cellar and the attic leaks he said madam it not up to me just the agent do not you see said naturally you pass the buck if it money you want you are out of luck he said madam ai not pleased said neither am so we agrees this is one of number of madam poems by langston hughes that can be considered as linked series madam and the rent man http oldpoetry com opoem madam and the census man http oldpoetry com opoem show madam and her madam http oldpoetry com opoem madam and the phone bill http oldpoetry com opoem madam’s past history http oldpoetry com opoem this one is taken from the collected poems of langston hughes by langston hughes by the estate of langston hughes the header graphic is an illustration from the liberation news service the late by owner provided at no charge for educational purposes',\n",
              " 'poem9': 'good morning daddy ai not you heard the boogie woogie rumble of dream deferred listen closely you will hear their feet beating out and beating out you think it happy beat listen to it closely ai not you heard something underneath like what did say sure happy take it away hey pop re bop mop hughes himself says that the book from which this comes montage of dream deferred should be viewed as complete poem in itself and not collection of short poems by owner provided at no charge for educational purposes',\n",
              " 'poems_array': ['poem0',\n",
              "  'poem1',\n",
              "  'poem2',\n",
              "  'poem3',\n",
              "  'poem4',\n",
              "  'poem5',\n",
              "  'poem6',\n",
              "  'poem7',\n",
              "  'poem8',\n",
              "  'poem9']}"
            ]
          },
          "metadata": {},
          "execution_count": 32
        }
      ]
    },
    {
      "cell_type": "code",
      "metadata": {
        "id": "ukh7Wwo-duvb"
      },
      "source": [
        "mary_j_oliver_pos = mary_j_oliver.copy()\n",
        "getPOS(mary_j_oliver_pos)\n",
        "mary_j_oliver_pos"
      ],
      "execution_count": null,
      "outputs": []
    },
    {
      "cell_type": "code",
      "metadata": {
        "id": "Z0WP1jVVJ2Gj",
        "colab": {
          "base_uri": "https://localhost:8080/"
        },
        "outputId": "fc793c2c-134b-44cf-a4b7-0438bb186c2a"
      },
      "source": [
        "mary_j_oliver"
      ],
      "execution_count": 34,
      "outputs": [
        {
          "output_type": "execute_result",
          "data": {
            "text/plain": [
              "{'poem0': 'well son will tell you life for me ai not been no crystal stair it had tacks in it and splinters and boards torn up and places with no carpet on the floor— bare but all the time se been climbin on and reachin landin and turnin corners and sometimes goin in the dark where there ai not been no light so boy do not you turn back do not you set down on the steps because you finds it kinder hard do not you fall now— for se still goin honey se still climbin and life for me ai not been no crystal stair by owner provided at no charge for educational purposes',\n",
              " 'poem1': 'landlord landlord my roof has sprung leak do not you member told you about it way last week landlord landlord these steps is broken down when you come up yourself it wonder you do not fall down ten bucks you say owe you ten bucks you say is due well that ten bucks more pay you till you fix this house up new what you going to get eviction orders you going to cut off my heat you going to take my furniture and throw it in the street um huh you talking high and mighty talk on till you get through you ai not going to be able to say word if land my fist on you police police come and get this man he trying to ruin the government and overturn the land copper whistle patrol bell arrest precinct station iron cell headlines in press man threatens landlord tenant held no bail judge gives negro days in county jail from the langston hughes reader this poem by langston hughes grew out of conditions in new york city’s harlem in the ’s in graphic terms it describes the escalation of anger and frustration that tenants experienced trying to get landlords to make basic repairs it is structured like an old time blues song until the final verse where the rhythm changes charley noble by owner provided at no charge for educational purposes',\n",
              " 'poem10': 'look the trees are turning their own bodies into pillars of light are giving off the rich fragrance of cinnamon and fulfillment the long tapers of cattails are bursting and floating away over the blue shoulders of the ponds and every pond no matter what its name is is nameless now every year everything have ever learned in my lifetime leads back to this the fires and the black river of loss whose other side is salvation whose meaning none of us will ever know to live in this world you must be able to do three things to love what is mortal to hold it against your bones knowing your own life depends on it and when the time comes to let it go to let it go by owner provided at no charge for educational purposes',\n",
              " 'poem11': 'one day you finally knew what you had to do and began though the voices around you kept shouting their bad advice though the whole house began to tremble and you felt the old tug at your ankles mend my life each voice cried but you did not stop you knew what you had to do though the wind pried with its stiff fingers at the very foundations though their melancholy was terrible it was already late enough and wild night and the road full of fallen branches and stones but little by little as you left their voice behind the stars began to burn through the sheets of clouds and there was new voice which you slowly recognized as your own that kept you company as you strode deeper and deeper into the world determined to do the only thing you could do determined to save the only life that you could save by owner provided at no charge for educational purposes',\n",
              " 'poem12': 'you do not have to be good you do not have to walk on your knees for hundred miles through the desert repenting you only have to let the soft animal of your body love what it loves tell me about despair yours and will tell you mine meanwhile the world goes on meanwhile the sun and the clear pebbles of the rain are moving across the landscapes over the prairies and the deep trees the mountains and the rivers meanwhile the wild geese high in the clean blue air are heading home again whoever you are no matter how lonely the world offers itself to your imagination calls to you like the wild geese harsh and exciting over and over announcing your place in the family of things by owner provided at no charge for educational purposes',\n",
              " 'poem13': 'how necessary it is to have opinions think the spotted trout lilies are satisfied standing few inches above the earth think serenity is not something you just find in the world like plum tree holding up its white petals the violets along the river are opening their blue faces like small dark lanterns the green mosses being so many are as good as brawny how important it is to walk along not in haste but slowly looking at everything and calling out yes no the swan for all his pomp his robes of grass and petals wants only to be allowed to live on the nameless pond the catbrier is without fault the water thrushes down among the sloppy rocks are going crazy with happiness imagination is better than sharp instrument to pay attention this is our endless and proper work by owner provided at no charge for educational purposes',\n",
              " 'poem14': 'in the afternoon watched the she bear she was looking for the secret bin of sweetness honey that the bees store in the trees’ soft caves black block of gloom she climbed down tree after tree and shuffled on through the woods and then she found it the honey house deep as heartwood and dipped into it among the swarming bees honey and comb she lipped and tongued and scooped out in her black nails until maybe she grew full or sleepy or maybe little drunk and sticky down the rugs of her arms and began to hum and sway saw her let go of the branches saw her lift her honeyed muzzle into the leaves and her thick arms as though she would fly an enormous bee all sweetness and wings down into the meadows the perfections of honeysuckle and roses and clover to float and sleep in the sheer nets swaying from flower to flower day after shining day by owner provided at no charge for educational purposes',\n",
              " 'poem15': 'next time what do is look at the earth before saying anything stop just before going into house and be an emperor for minute and listen better to the wind or to the air being still when anyone talked to me whether blame or praise or just passing time watch the face how the mouth has to work and see any strain any sign of what lifted the voice and for all know more the earth bracing itself and soaring the air finding every leaf and feather over forest and water and for every person the body glowing inside the clothes like light by owner provided at no charge for educational purposes',\n",
              " 'poem16': 'who made the world who made the swan and the black bear who made the grasshopper this grasshopper mean the one who has flung herself out of the grass the one who is eating sugar out of my hand who is moving her jaws back and forth instead of up and down who is gazing around with her enormous and complicated eyes now she lifts her pale forearms and thoroughly washes her face now she snaps her wings open and floats away do not know exactly what prayer is do know how to pay attention how to fall down into the grass how to kneel in the grass how to be idle and blessed how to stroll through the fields which is what have been doing all day tell me what else should have done does not everything die at last and too soon tell me what is it you plan to do with your one wild and precious life by owner provided at no charge for educational purposes',\n",
              " 'poem17': 'do not call this world adorable or useful that not it it frisky and theater for more than fair winds the eyelash of lightning is neither good nor evil the struck tree burns like pillar of gold but the blue rain sinks straight to the white feet of the trees whose mouths open does not the wind turning in circles invent the dance have not the flowers moved slowly across asia then europe until at last now they shine in your own yard do not call this world an explanation or even an education when the sufi poet whirled was he looking outward to the mountains so solidly there in white capped ring or was he looking to the center of everything the seed the egg the idea that was also there beautiful as thumb curved and touching the finger tenderly little love ring as he whirled oh jug of breath in the garden of dust by owner provided at no charge for educational purposes',\n",
              " 'poem18': 'go down to the edge of the sea how everything shines in the morning light the cusp of the whelk the broken cupboard of the clam the opened blue mussels moon snails pale pink and barnacle scarred— and nothing at all whole or shut but tattered split dropped by the gulls onto the gray rocks and all the moisture gone it is like schoolhouse of little words thousands of words first you figure out what each one means by itself the jingle the periwinkle the scallop full of moonlight then you begin slowly to read the whole story by owner provided at no charge for educational purposes',\n",
              " 'poem19': 'do not you imagine the leaves dream now how comfortable it will be to touch the earth instead of the nothingness of the air and the endless freshets of wind and do not you think the trees especially those with mossy hollows are beginning to look for the birds that will come—six dozen—to sleep inside their bodies and do not you hear the goldenrod whispering goodbye the everlasting being crowned with the first tuffets of snow the pond stiffens and the white field over which the fox runs so quickly brings out its long blue shadows the wind wags its many tails and in the evening the piled firewood shifts little longing to be on its way by owner provided at no charge for educational purposes',\n",
              " 'poem2': 'too sing america am the darker brother they send me to eat in the kitchen when company comes but laugh and eat well and grow strong tomorrow will be at the table when company comes nobody will dare say to me eat in the kitchen then besides they will see how beautiful am and be ashamed— too am america http www poetryarchive org poetryarchive singlepoem do poemid listen to langston hughes read this poem recorded in by owner provided at no charge for educational purposes',\n",
              " 'poem3': 'it was long time ago have almost forgotten my dream but it was there then in front of me bright like sun— my dream and then the wall rose rose slowly slowly between me and my dream rose until it touched the sky— the wall shadow am black lie down in the shadow no longer the light of my dream before me above me only the thick wall only the shadow my hands my dark hands break through the wall find my dream help me to shatter this darkness to smash this night to break this shadow into thousand lights of sun into thousand whirling dreams of sun by owner provided at no charge for educational purposes',\n",
              " 'poem4': 'children come back today to tell you story of the long dark way that had to climb that had to know in order that the race might live and grow look at my face dark as the night yet shining like the sun with love true light am the child they stole from the sand three hundred years ago in africa land am the dark girl who crossed the wide sea carrying in my body the seed of the free am the woman who worked in the field bringing the cotton and the corn to yield am the one who labored as slave beaten and mistreated for the work gave children sold away from me husband sold too no safety no love no respect was due three hundred years in the deepest south but god put song and prayer in my mouth god put dream like steel in my soul now through my children reaching the goal now through my children young and free realize the blessings deed to me could not read then could not write had nothing back there in the night sometimes the valley was filled with tears but kept trudging on through the lonely years sometimes the road was hot with the sun but had to keep on till my work was done had to keep on no stopping for me was the seed of the coming free nourished the dream that nothing could smother deep in my breast the negro mother had only hope then but now through you dark ones of today my dreams must come true all you dark children in the world out there remember my sweat my pain my despair remember my years heavy with sorrow and make of those years torch for tomorrow make of my pass road to the light out of the darkness the ignorance the night lift high my banner out of the dust stand like free men supporting my trust believe in the right let none push you back remember the whip and the slaver track remember how the strong in struggle and strife still bar you the way and deny you life but march ever forward breaking down bars look ever upward at the sun and the stars oh my dark children may my dreams and my prayers impel you forever up the great stairs for will be with you till no white brother dares keep down the children of the negro mother many on line versions have the alternate line realized the blessing denied to me by owner provided at no charge for educational purposes',\n",
              " 'poem5': 'have known rivers have known rivers ancient as the world and older than the flow of human blood in human veins my soul has grown deep like the rivers bathed in the euphrates when dawns were young built my hut near the congo and it lulled me to sleep looked upon the nile and raised the pyramids above it heard the singing of the mississippi when abe lincoln went down to new orleans and have seen its muddy bosom turn all golden in the sunset have known rivers ancient dusky rivers my soul has grown deep like the rivers http www poetryarchive org poetryarchive singlepoem do poemid recorded in langston hughes recites by owner provided at no charge for educational purposes',\n",
              " 'poem6': 'the negro with the trumpet at his lips has dark moons of weariness beneath his eyes where the smoldering memory of slave ships blazed to the crack of whips about thighs the negro with the trumpet at his lips has head of vibrant hair tamed down patent leathered now until it gleams like jet— were jet crown the music from the trumpet at his lips is honey mixed with liquid fire the rhythm from the trumpet at his lips is ecstasy distilled from old desire— desire that is longing for the moon where the moonlight but spotlight in his eyes desire that is longing for the sea where the sea bar glass sucker size the negro with the trumpet at his lips whose jacket has fine one button roll does not know upon what riff the music slips it hypodermic needle to his soul but softly as the tune comes from his throat trouble mellows to golden note by owner provided at no charge for educational purposes',\n",
              " 'poem7': 'my old man white old manand my old mother black if ever cursed my white old mani take my curses back if ever cursed my black old motherand wished she were in hell sorry for that evil wishand now wish her wellmy old man died in fine big house my ma died in shack wonder were going to die being neither white nor black by owner provided at no charge for educational purposes',\n",
              " 'poem8': 'the rent man knocked he said how do you do said what can do for you he said you know your rent is due said listen before pay go to hades and rot away the sink is broke the water do not run and you ai not done thing you promised to have done back window cracked kitchen floor squeaks there rats in the cellar and the attic leaks he said madam it not up to me just the agent do not you see said naturally you pass the buck if it money you want you are out of luck he said madam ai not pleased said neither am so we agrees this is one of number of madam poems by langston hughes that can be considered as linked series madam and the rent man http oldpoetry com opoem madam and the census man http oldpoetry com opoem show madam and her madam http oldpoetry com opoem madam and the phone bill http oldpoetry com opoem madam’s past history http oldpoetry com opoem this one is taken from the collected poems of langston hughes by langston hughes by the estate of langston hughes the header graphic is an illustration from the liberation news service the late by owner provided at no charge for educational purposes',\n",
              " 'poem9': 'good morning daddy ai not you heard the boogie woogie rumble of dream deferred listen closely you will hear their feet beating out and beating out you think it happy beat listen to it closely ai not you heard something underneath like what did say sure happy take it away hey pop re bop mop hughes himself says that the book from which this comes montage of dream deferred should be viewed as complete poem in itself and not collection of short poems by owner provided at no charge for educational purposes',\n",
              " 'poems_array': ['poem0',\n",
              "  'poem1',\n",
              "  'poem2',\n",
              "  'poem3',\n",
              "  'poem4',\n",
              "  'poem5',\n",
              "  'poem6',\n",
              "  'poem7',\n",
              "  'poem8',\n",
              "  'poem9',\n",
              "  'poem10',\n",
              "  'poem11',\n",
              "  'poem12',\n",
              "  'poem13',\n",
              "  'poem14',\n",
              "  'poem15',\n",
              "  'poem16',\n",
              "  'poem17',\n",
              "  'poem18',\n",
              "  'poem19']}"
            ]
          },
          "metadata": {},
          "execution_count": 34
        }
      ]
    },
    {
      "cell_type": "markdown",
      "metadata": {
        "id": "yTru-dPsWFv4"
      },
      "source": [
        "# Store the POS JSON Data to File"
      ]
    },
    {
      "cell_type": "code",
      "metadata": {
        "id": "GWURKKYVWDoJ"
      },
      "source": [
        "with open('/content/drive/MyDrive/SJSU/CMPE 257: Machine Learning/NLP/Homework 9b/Datasets/langston_hughes_pos_final.json', 'w') as outfile:\n",
        "    json.dump(langston_hughes_pos, outfile)"
      ],
      "execution_count": 35,
      "outputs": []
    },
    {
      "cell_type": "code",
      "metadata": {
        "id": "OFu2hF4_WE8n"
      },
      "source": [
        "with open('/content/drive/MyDrive/SJSU/CMPE 257: Machine Learning/NLP/Homework 9b/Datasets/mary_j_oliver_pos_final.json', 'w') as outfile:\n",
        "    json.dump(mary_j_oliver_pos, outfile)"
      ],
      "execution_count": 36,
      "outputs": []
    },
    {
      "cell_type": "markdown",
      "metadata": {
        "id": "UkEcC9_Nd3Sx"
      },
      "source": [
        "# Summarization using transformers"
      ]
    },
    {
      "cell_type": "code",
      "metadata": {
        "id": "mBwaKRCEd-wi"
      },
      "source": [
        "os.environ[\"CUDA_VISIBLE_DEVICES\"] = \"0\""
      ],
      "execution_count": 37,
      "outputs": []
    },
    {
      "cell_type": "code",
      "metadata": {
        "id": "DMQNMhUSeA25",
        "colab": {
          "base_uri": "https://localhost:8080/",
          "height": 81,
          "referenced_widgets": [
            "265e4b6596264dc1bc18c6b0ad71d431",
            "0bbcdb2323814c99adce18e2593e5332",
            "324c688879db4ab4993422b88168145e",
            "6adbea80065146fdb00fe92c25b53c2a",
            "18113f25f07b4016a74018746be42953",
            "c417615159674fe39469ac43bd149d3e",
            "939dbb8d607a47b180ba31a60cbba722",
            "885708941be64af2a3426eca155769fc",
            "eac490b785c64a95ae2c889ef22d9a67",
            "bd5e54f55252459dbad3bac9907f1978",
            "803b541e6b634e22abda40cfff99dbbd",
            "f7e642cb81be4288bef197e87233f4ae",
            "4babf76841eb46a993980f60c25b0fd6",
            "f10c06e6a0054970b0dc54d34885889a",
            "04591317a7944b399c54d144c6d98f1f",
            "27c66e4b87f6486488953a6579974339",
            "01530c4cf98047d99decdfb3df271324",
            "6b98503db72940a493600c9949f67071",
            "090f53c1b3504103818a7c9e1cde894f",
            "1847878cb43a4cbf801f87085ae1e3c5",
            "2274726c1ca8468fa851ac1099680358",
            "f40c97721a47472489d962bd7111a0b1"
          ]
        },
        "outputId": "1024994d-59d7-4cae-d9ac-e35686f92ddc"
      },
      "source": [
        "summarizer = pipeline(\"summarization\", model=\"t5-base\", tokenizer=\"t5-base\", framework=\"tf\")"
      ],
      "execution_count": null,
      "outputs": [
        {
          "output_type": "display_data",
          "data": {
            "text/plain": [
              "Downloading:   0%|          | 0.00/1.17k [00:00<?, ?B/s]"
            ],
            "application/vnd.jupyter.widget-view+json": {
              "version_major": 2,
              "version_minor": 0,
              "model_id": "265e4b6596264dc1bc18c6b0ad71d431"
            }
          },
          "metadata": {}
        },
        {
          "output_type": "display_data",
          "data": {
            "text/plain": [
              "Downloading:   0%|          | 0.00/851M [00:00<?, ?B/s]"
            ],
            "application/vnd.jupyter.widget-view+json": {
              "version_major": 2,
              "version_minor": 0,
              "model_id": "f7e642cb81be4288bef197e87233f4ae"
            }
          },
          "metadata": {}
        }
      ]
    },
    {
      "cell_type": "code",
      "metadata": {
        "id": "DmAgCLqReDf5"
      },
      "source": [
        "def getSummaryOfPoem(poet):\n",
        "  def removeQuotes(mydata):\n",
        "    new_data = mydata.strip('“”')\n",
        "    return new_data\n",
        "  count = 0\n",
        "  for key in poet['poems_array']:\n",
        "    count += 1;\n",
        "    text = poet[key] \n",
        "    text = removeQuotes(text)\n",
        "    summary_text = summarizer(text, max_length=512, min_length=5, do_sample=False)[0]['summary_text']\n",
        "    poet[\"summary_\"+key] = summary_text\n",
        "  \n",
        "  return poet"
      ],
      "execution_count": null,
      "outputs": []
    },
    {
      "cell_type": "code",
      "source": [
        "from time import gmtime, strftime\n",
        "print (strftime(\"%Y-%m-%d %H:%M:%S\", gmtime()))\n",
        "\n",
        "from time import gmtime, strftime\n",
        "print (strftime(\"%Y-%m-%d %H:%M:%S\", gmtime()))\n",
        "\n",
        "import timeit\n",
        "\n",
        "start = timeit.default_timer()"
      ],
      "metadata": {
        "id": "Tfm4B2obUiAN"
      },
      "execution_count": null,
      "outputs": []
    },
    {
      "cell_type": "code",
      "metadata": {
        "id": "fI2d-0LJeF5h"
      },
      "source": [
        "john_keats_sum = john_keats.copy()\n",
        "alfred_tennyson_sum = alfred_tennyson.copy()\n",
        "data_john_keats = getSummaryOfPoem(john_keats_sum)\n",
        "data_alfred_tennyson = getSummaryOfPoem(alfred_tennyson_sum)"
      ],
      "execution_count": null,
      "outputs": []
    },
    {
      "cell_type": "code",
      "source": [
        "\n",
        "\n",
        "#Your statements here\n",
        "\n",
        "stop = timeit.default_timer()\n",
        "\n",
        "print('Time: ', stop - start)  "
      ],
      "metadata": {
        "id": "SL752lNnUkwY"
      },
      "execution_count": null,
      "outputs": []
    },
    {
      "cell_type": "code",
      "metadata": {
        "id": "zYotiHzAvrag"
      },
      "source": [
        "data_alfred_tennyson"
      ],
      "execution_count": null,
      "outputs": []
    },
    {
      "cell_type": "code",
      "metadata": {
        "id": "m-1c0LCGeIkJ"
      },
      "source": [
        "alfred_tennyson_sum"
      ],
      "execution_count": null,
      "outputs": []
    },
    {
      "cell_type": "code",
      "metadata": {
        "id": "nuGabMI3eKp5"
      },
      "source": [
        "john_keats_sum"
      ],
      "execution_count": null,
      "outputs": []
    },
    {
      "cell_type": "markdown",
      "metadata": {
        "id": "Ie0nLFYvePBi"
      },
      "source": [
        "# Store the summarized JSON Data to File"
      ]
    },
    {
      "cell_type": "code",
      "metadata": {
        "id": "FyoZF3SUeN3E"
      },
      "source": [
        "with open('/content/drive/MyDrive/DataSets/john_keats_summary_final.json', 'w') as outfile:\n",
        "    json.dump(john_keats_sum, outfile)"
      ],
      "execution_count": null,
      "outputs": []
    },
    {
      "cell_type": "code",
      "metadata": {
        "id": "CIpHsLZyeWHW"
      },
      "source": [
        "with open('/content/drive/MyDrive/DataSets/alfred_tennyson_summary_final.json', 'w') as outfile:\n",
        "    json.dump(alfred_tennyson_sum, outfile)"
      ],
      "execution_count": null,
      "outputs": []
    },
    {
      "cell_type": "markdown",
      "metadata": {
        "id": "RXKu75VheZPh"
      },
      "source": [
        "# Interchange the Verbs and Adjectives for both the poets using transformer"
      ]
    },
    {
      "cell_type": "code",
      "metadata": {
        "id": "QIUiz_t_egzK"
      },
      "source": [
        "model = SentenceTransformer('stsb-roberta-large')"
      ],
      "execution_count": null,
      "outputs": []
    },
    {
      "cell_type": "code",
      "metadata": {
        "id": "e0PXvCGzeizB"
      },
      "source": [
        "def getSemanticSimilarity(p1,p2):\n",
        "  embedding1 = model.encode(p1, convert_to_tensor=True)\n",
        "  embedding2 = model.encode(p2, convert_to_tensor=True)\n",
        "  cosine_scores = util.pytorch_cos_sim(embedding1, embedding2)\n",
        "  print(cosine_scores) \n",
        "  similarity_score = cosine_scores.item()\n",
        "  return similarity_score"
      ],
      "execution_count": null,
      "outputs": []
    },
    {
      "cell_type": "code",
      "metadata": {
        "id": "FoVP7zT3ekoi"
      },
      "source": [
        "getSemanticSimilarity(john_keats_pos['all_verbs'][0],alfred_tennyson_pos[\"all_verbs\"][0])"
      ],
      "execution_count": null,
      "outputs": []
    },
    {
      "cell_type": "markdown",
      "metadata": {
        "id": "0HhOOh45e7w0"
      },
      "source": [
        "# Swapping the Verbs based on similarity score"
      ]
    },
    {
      "cell_type": "code",
      "metadata": {
        "id": "lO1ZylO3eo0a"
      },
      "source": [
        "\n",
        "def swapVerbs(p1,p2,text):\n",
        "    for v1 in p1:\n",
        "      for v2 in p2:\n",
        "        score = getSemanticSimilarity(v1,v2)\n",
        "        if score > 0.3:\n",
        "          text = text.replace(v1,v2)\n",
        "          print(\"verb\")\n",
        "          print(text)\n",
        "          break\n",
        "    return text"
      ],
      "execution_count": null,
      "outputs": []
    },
    {
      "cell_type": "markdown",
      "metadata": {
        "id": "A9TYbcUIe4fj"
      },
      "source": [
        "# Swapping the Adjectives based on similarity score"
      ]
    },
    {
      "cell_type": "code",
      "metadata": {
        "id": "DtazFwpUi2mD"
      },
      "source": [
        "def swapAdjectives(p1,p2, poem):\n",
        "  text = poem\n",
        "  for a1 in p1:\n",
        "    for a2 in p2:\n",
        "      print(\"inside loop 2\")\n",
        "      print(a1)\n",
        "      print(a2)\n",
        "      print(text)\n",
        "      score = getSemanticSimilarity(a1,a2)\n",
        "      if score > 0.3:\n",
        "        text = text.replace(a1,a2)\n",
        "        print(\"adjective\")\n",
        "        print(text)\n",
        "  return text"
      ],
      "execution_count": null,
      "outputs": []
    },
    {
      "cell_type": "code",
      "metadata": {
        "id": "Q9tNA0fUaPaP"
      },
      "source": [
        "def swapIteration(poet1, poet2, text):\n",
        "    p2_verbs = poet2[\"all_verbs\"]\n",
        "    p1_verbs = poet1[\"all_verbs\"]\n",
        "    p2_verbs = p2_verbs[0:2]\n",
        "    p1_verbs = p1_verbs[0:2]\n",
        "    print(p1_verbs)\n",
        "    print(p2_verbs)\n",
        "    new_text = swapVerbs(p1_verbs, p2_verbs, text)\n",
        "    print(\"new text verbs\")\n",
        "    print(new_text)\n",
        "    # print(text)\n",
        "    p2_adjectives = poet2[\"all_adjectives\"]\n",
        "    p1_adjectives = poet1[\"all_adjectives\"]\n",
        "    p2_adjectives = p2_adjectives[0:2]\n",
        "    p1_adjectives = p1_adjectives[0:2]\n",
        "    brand_new_text = swapAdjectives(p1_adjectives, p2_adjectives, new_text)\n",
        "    print(\"new text adjectives\")\n",
        "    print(brand_new_text)\n",
        "    return brand_new_text"
      ],
      "execution_count": null,
      "outputs": []
    },
    {
      "cell_type": "markdown",
      "metadata": {
        "id": "vo9rTPvOcgpo"
      },
      "source": [
        "John Poems Swapped Verbs and Adjectives of Alfred Tennyson Poems"
      ]
    },
    {
      "cell_type": "code",
      "metadata": {
        "id": "eHhrUpvpb8PU"
      },
      "source": [
        "john_keats_poems_2 = john_keats_poems.copy()\n",
        "john_keats_poems_2.pop('poems_array')\n",
        "john_keats_poems_swapped=[]\n",
        "for i in john_keats_poems:\n",
        "  print(\"poems:\")\n",
        "  print(i)\n",
        "  # inx = 'poem'+str(i);\n",
        "  poem_str = str(john_keats_poems[i]);\n",
        "  print(poem_str)\n",
        "\n",
        "  john_keats_poems_swapped.append(swapIteration(john_keats_pos, alfred_tennyson_pos, poem_str))\n"
      ],
      "execution_count": null,
      "outputs": []
    },
    {
      "cell_type": "markdown",
      "source": [
        "# Printing the new poems after swapping"
      ],
      "metadata": {
        "id": "Rn6xR_U4a3Vz"
      }
    },
    {
      "cell_type": "code",
      "metadata": {
        "id": "93K-jvkKTMT1"
      },
      "source": [
        "john_keats_poems_swapped"
      ],
      "execution_count": null,
      "outputs": []
    },
    {
      "cell_type": "code",
      "source": [
        ""
      ],
      "metadata": {
        "id": "UfY1tyAfYkVU"
      },
      "execution_count": null,
      "outputs": []
    },
    {
      "cell_type": "markdown",
      "source": [
        "## TODO: We need to format the poem in a human readable manner"
      ],
      "metadata": {
        "id": "6Tl4MTeJYlAx"
      }
    },
    {
      "cell_type": "markdown",
      "metadata": {
        "id": "Pm27KlV3c0WY"
      },
      "source": [
        " Alfred Tennyson Poems Swapped Verbs  and Adjectives of John Poems\n"
      ]
    },
    {
      "cell_type": "code",
      "metadata": {
        "id": "6VNs3KQ4TzRh"
      },
      "source": [
        "alfred_tennyson_poems_swapped = []\n",
        "alfred_tennyson_poems_2 = alfred_tennyson_poems.copy()\n",
        "alfred_tennyson_poems_2.pop('poems_array')\n",
        "for i in alfred_tennyson_poems:\n",
        "  print(\"poems:\")\n",
        "  print(i)\n",
        "  # inx = 'poem'+str(i);\n",
        "  poem_str_2 = str(alfred_tennyson_poems[i]);\n",
        "  print(poem_str_2)\n",
        "\n",
        "  alfred_tennyson_poems_swapped.append(swapIteration(john_keats_pos, alfred_tennyson_pos, poem_str_2))\n"
      ],
      "execution_count": null,
      "outputs": []
    },
    {
      "cell_type": "markdown",
      "source": [
        "# Printing the new poems after swapping"
      ],
      "metadata": {
        "id": "9SM1c3FqbAm4"
      }
    },
    {
      "cell_type": "code",
      "source": [
        "alfred_tennyson_poems_swapped"
      ],
      "metadata": {
        "id": "u16Vbh9Gat28"
      },
      "execution_count": null,
      "outputs": []
    },
    {
      "cell_type": "markdown",
      "metadata": {
        "id": "9NY5r9IF1iCi"
      },
      "source": [
        "# Swapped Poem"
      ]
    },
    {
      "cell_type": "code",
      "metadata": {
        "id": "pa_Ew-EueUDY"
      },
      "source": [
        "def buildSwappedPoemArray(poet,data):\n",
        "  poems = []\n",
        "  data_length = len(data)\n",
        "  for i in range(data_length):\n",
        "    poem = data[i]\n",
        "    #clean_poem = cleanPoemText(poem)\n",
        "    idx = \"poem\" + str(i)\n",
        "    poet[idx] = poem\n",
        "    poems.append(idx)\n",
        "  poet['poems_swapped_array'] = poems"
      ],
      "execution_count": null,
      "outputs": []
    },
    {
      "cell_type": "code",
      "metadata": {
        "id": "7pJJOMfSfjQw"
      },
      "source": [
        "john_keats_swapped = {\n",
        "\n",
        "}\n",
        "\n",
        "alfred_tennyson_swapped = {\n",
        "\n",
        "}\n"
      ],
      "execution_count": null,
      "outputs": []
    },
    {
      "cell_type": "code",
      "metadata": {
        "id": "TqhhHKnd0LSr"
      },
      "source": [
        "john_keats_poems_swapped\n"
      ],
      "execution_count": null,
      "outputs": []
    },
    {
      "cell_type": "code",
      "metadata": {
        "id": "7Z9D9nsoez8A"
      },
      "source": [
        "buildSwappedPoemArray(john_keats_swapped,john_keats_poems_swapped)\n",
        "buildSwappedPoemArray(alfred_tennyson_swapped,alfred_tennyson_poems_swapped)"
      ],
      "execution_count": null,
      "outputs": []
    },
    {
      "cell_type": "code",
      "metadata": {
        "id": "kq58_xnS3oFg"
      },
      "source": [
        "john_keats_swapped"
      ],
      "execution_count": null,
      "outputs": []
    },
    {
      "cell_type": "code",
      "metadata": {
        "id": "gDqZzu0I19uR"
      },
      "source": [
        "john_keats_swapped_to_json_file = john_keats_swapped.copy()\n",
        "john_keats_swapped_to_json_file.pop('poems_swapped_array')\n",
        "john_keats_swapped_to_json_file.pop('poem10')\n",
        "\n",
        "alfred_tennyson_swapped_to_json_file = alfred_tennyson_swapped.copy()\n",
        "alfred_tennyson_swapped_to_json_file.pop('poems_swapped_array')\n",
        "alfred_tennyson_swapped_to_json_file.pop('poem10')\n",
        "\n"
      ],
      "execution_count": null,
      "outputs": []
    },
    {
      "cell_type": "code",
      "metadata": {
        "id": "qN20R3J53To2"
      },
      "source": [
        "john_keats_swapped_to_json_file\n"
      ],
      "execution_count": null,
      "outputs": []
    },
    {
      "cell_type": "code",
      "metadata": {
        "id": "h6nrTRJ53bmm"
      },
      "source": [
        "alfred_tennyson_swapped_to_json_file"
      ],
      "execution_count": null,
      "outputs": []
    },
    {
      "cell_type": "code",
      "metadata": {
        "id": "gsPOLhgCgKyx"
      },
      "source": [
        "with open('/content/drive/MyDrive/DataSets/john_keats_swapped_to_json_file_final.json', 'w') as outfile:\n",
        "    json.dump(john_keats_swapped_to_json_file, outfile)"
      ],
      "execution_count": null,
      "outputs": []
    },
    {
      "cell_type": "code",
      "metadata": {
        "id": "weZrG3kUgMT4"
      },
      "source": [
        "with open('/content/drive/MyDrive/DataSets/alfred_tennyson_swapped_to_json_file_final.json', 'w') as outfile:\n",
        "    json.dump(alfred_tennyson_swapped_to_json_file, outfile)"
      ],
      "execution_count": null,
      "outputs": []
    },
    {
      "cell_type": "code",
      "metadata": {
        "id": "_CMquzz149ft"
      },
      "source": [
        "with open('/content/drive/MyDrive/DataSets/john_keats_swapped_to_txt_file_final.txt', 'w') as outfile:\n",
        "    json.dump(john_keats_swapped_to_json_file, outfile)"
      ],
      "execution_count": null,
      "outputs": []
    },
    {
      "cell_type": "code",
      "metadata": {
        "id": "xOJqbiCt4_1c"
      },
      "source": [
        "with open('/content/drive/MyDrive/DataSets/alfred_tennyson_swapped_to_txt_file_final.txt', 'w') as outfile:\n",
        "    json.dump(alfred_tennyson_swapped_to_json_file, outfile)"
      ],
      "execution_count": null,
      "outputs": []
    },
    {
      "cell_type": "code",
      "metadata": {
        "id": "F7iSM93070Fq"
      },
      "source": [
        "import pandas as pd\n",
        "import numpy as np\n",
        "import os\n",
        "import glob\n",
        "import matplotlib.pyplot as plt\n",
        "import seaborn as sns\n",
        "import re\n",
        "import string\n",
        "import wordcloud\n",
        "import nltk\n",
        "import unicodedata\n",
        "import contractions\n",
        "import pickle\n",
        "import urllib.request\n",
        "import requests\n",
        "import spacy\n",
        "import json\n",
        "%matplotlib inline\n",
        "\n",
        "from bs4 import BeautifulSoup\n",
        "from bs4.element import Comment\n",
        "from gensim.utils import simple_preprocess\n",
        "from gensim.models import CoherenceModel\n",
        "from collections import defaultdict\n",
        "from contractions import contractions_dict\n",
        "from wordcloud import WordCloud, STOPWORDS\n",
        "from transformers import pipeline\n",
        "\n",
        "from nltk.tokenize import word_tokenize\n",
        "from nltk.stem.wordnet import WordNetLemmatizer\n",
        "from nltk.tokenize.toktok import ToktokTokenizer\n",
        "from nltk.stem.porter import PorterStemmer\n",
        "from sentence_transformers import SentenceTransformer, util\n",
        "from gensim.corpora import Dictionary\n",
        "from gensim.models.ldamodel import LdaModel\n",
        "from spacy import displacy\n",
        "\n",
        "from sklearn.feature_extraction.text import TfidfVectorizer\n",
        "from sklearn.preprocessing import MinMaxScaler\n",
        "from sklearn.preprocessing import StandardScaler\n",
        "from sklearn.naive_bayes import MultinomialNB\n",
        "from sklearn.linear_model import LogisticRegression\n",
        "from sklearn.naive_bayes import GaussianNB\n",
        "from sklearn.ensemble import RandomForestClassifier\n",
        "from sklearn.svm import LinearSVC\n",
        "from sklearn.model_selection import train_test_split\n",
        "from sklearn.metrics import classification_report, confusion_matrix, accuracy_score\n",
        "from sklearn.model_selection import cross_val_score\n",
        "\n",
        "nltk.download('stopwords')\n",
        "nltk.download('averaged_perceptron_tagger')\n",
        "nltk.download('universal_tagset')\n",
        "nltk.download('wordnet')\n",
        "nltk.download('punkt')\n",
        "\n",
        "os.environ[\"CUDA_VISIBLE_DEVICES\"] = \"0\"\n",
        "\n",
        "from contractions import contractions_dict\n",
        "from scipy import stats\n",
        "from scipy import sparse\n",
        "\n",
        "import pyLDAvis\n",
        "\n",
        "# Visualize the topics\n",
        "pyLDAvis.enable_notebook()\n",
        "\n",
        "tokenizer = ToktokTokenizer()\n",
        "stopword_list = nltk.corpus.stopwords.words('english')\n",
        "scaler = MinMaxScaler()\n",
        "std_scaler = StandardScaler()\n",
        "stops = set(stopword_list)\n",
        "stemmer = nltk.stem.SnowballStemmer('english')\n",
        "wordlemmatizer = WordNetLemmatizer()\n",
        "tokenizer = nltk.word_tokenize"
      ],
      "execution_count": null,
      "outputs": []
    },
    {
      "cell_type": "code",
      "metadata": {
        "id": "BGEq0zlZ7IQG"
      },
      "source": [
        "import re\n",
        "import numpy as np\n",
        "import pandas as pd\n",
        "from pprint import pprint\n",
        "\n",
        "# Gensim\n",
        "import gensim\n",
        "import gensim.corpora as corpora\n",
        "from gensim.utils import simple_preprocess\n",
        "from gensim.models import CoherenceModel\n",
        "\n",
        "# spacy for lemmatization\n",
        "import spacy\n",
        "\n",
        "# Plotting tools\n",
        "import pyLDAvis\n",
        "import matplotlib.pyplot as plt\n",
        "%matplotlib inline\n",
        "\n",
        "# Enable logging for gensim - optional\n",
        "import logging\n",
        "logging.basicConfig(format='%(asctime)s : %(levelname)s : %(message)s', level=logging.ERROR)\n",
        "\n",
        "import warnings\n",
        "warnings.filterwarnings(\"ignore\",category=DeprecationWarning)\n"
      ],
      "execution_count": null,
      "outputs": []
    },
    {
      "cell_type": "code",
      "metadata": {
        "id": "eLNMBbrC9LCG"
      },
      "source": [
        "john_keats_choherence_input = john_keats.copy()\n",
        "john_keats_choherence_input.pop('poems_array')\n",
        "john_keats_choherence_input"
      ],
      "execution_count": null,
      "outputs": []
    },
    {
      "cell_type": "code",
      "metadata": {
        "id": "30zPEt_sXO9a"
      },
      "source": [
        "swapped_john_keats_choherence_input = john_keats_swapped.copy()\n",
        "swapped_john_keats_choherence_input.pop('poems_swapped_array')\n",
        "swapped_john_keats_choherence_input"
      ],
      "execution_count": null,
      "outputs": []
    },
    {
      "cell_type": "code",
      "metadata": {
        "id": "KHbkQ1Qd9OW-"
      },
      "source": [
        "coherence_perplexity_calculator = alfred_tennyson.copy()\n",
        "coherence_perplexity_calculator.pop('poems_array')\n",
        "coherence_perplexity_calculator"
      ],
      "execution_count": null,
      "outputs": []
    },
    {
      "cell_type": "code",
      "metadata": {
        "id": "gF0b2-5qXZPZ"
      },
      "source": [
        "swapped_coherence_perplexity_calculator = alfred_tennyson_swapped.copy()\n",
        "swapped_coherence_perplexity_calculator.pop('poems_swapped_array')\n",
        "swapped_coherence_perplexity_calculator"
      ],
      "execution_count": null,
      "outputs": []
    },
    {
      "cell_type": "code",
      "source": [
        "!pip install -upgrade gensim"
      ],
      "metadata": {
        "id": "Ruah_uokk8Jd"
      },
      "execution_count": null,
      "outputs": []
    },
    {
      "cell_type": "code",
      "source": [
        "!pip install pyLDAvis"
      ],
      "metadata": {
        "id": "AuOSJDAVs_ry"
      },
      "execution_count": null,
      "outputs": []
    },
    {
      "cell_type": "markdown",
      "source": [
        "# Run Topic Modelling on combined text"
      ],
      "metadata": {
        "id": "elmrguk-QUf2"
      }
    },
    {
      "cell_type": "code",
      "metadata": {
        "id": "tirZLm5zSWD6"
      },
      "source": [
        "import pyLDAvis\n",
        "import pyLDAvis.gensim_models as gensimvis\n",
        "def choherence_perplexity_calculator(poem_list):\n",
        "  def sent_to_words(sentences):\n",
        "      for sentence in sentences:\n",
        "          yield(gensim.utils.simple_preprocess(str(sentence), deacc=True))  # deacc=True removes punctuations\n",
        "\n",
        "  data_words = list(sent_to_words(poem_list))\n",
        "\n",
        "  print(data_words[:1])\n",
        "  # Build the bigram and trigram models\n",
        "  bigram = gensim.models.Phrases(data_words, min_count=5, threshold=100) # higher threshold fewer phrases.\n",
        "  trigram = gensim.models.Phrases(bigram[data_words], threshold=100)  \n",
        "\n",
        "  # Faster way to get a sentence clubbed as a trigram/bigram\n",
        "  bigram_mod = gensim.models.phrases.Phraser(bigram)\n",
        "  trigram_mod = gensim.models.phrases.Phraser(trigram)\n",
        "\n",
        "  # See trigram example\n",
        "  print(trigram_mod[bigram_mod[data_words[0]]])\n",
        "  # Define functions for stopwords, bigrams, trigrams and lemmatization\n",
        "  def remove_stopwords(texts):\n",
        "      return [[word for word in simple_preprocess(str(doc)) if word not in stop_words] for doc in texts]\n",
        "\n",
        "  def make_bigrams(texts):\n",
        "      return [bigram_mod[doc] for doc in texts]\n",
        "\n",
        "  def make_trigrams(texts):\n",
        "      return [trigram_mod[bigram_mod[doc]] for doc in texts]\n",
        "\n",
        "  def lemmatization(texts, allowed_postags=['NOUN', 'ADJ', 'VERB', 'ADV']):\n",
        "      \"\"\"https://spacy.io/api/annotation\"\"\"\n",
        "      texts_out = []\n",
        "      for sent in texts:\n",
        "          doc = nlp(\" \".join(sent)) \n",
        "          texts_out.append([token.lemma_ for token in doc if token.pos_ in allowed_postags])\n",
        "      return texts_out\n",
        "  # Remove Stop Words\n",
        "  #data_words_nostops = remove_stopwords(data_words)\n",
        "\n",
        "  # Form Bigrams\n",
        "  data_words_bigrams = make_bigrams(data_words)\n",
        "\n",
        "  # Initialize spacy 'en' model, keeping only tagger component (for efficiency)\n",
        "  # python3 -m spacy download en\n",
        "  nlp = spacy.load('en', disable=['parser', 'ner'])\n",
        "\n",
        "  # Do lemmatization keeping only noun, adj, vb, adv\n",
        "  data_lemmatized = lemmatization(data_words_bigrams, allowed_postags=['NOUN']) #, 'ADJ', 'VERB', 'ADV'\n",
        "\n",
        "  print(data_lemmatized[:1])\n",
        "  # Create Dictionary\n",
        "  id2word = corpora.Dictionary(data_lemmatized)\n",
        "\n",
        "  # Create Corpus\n",
        "  texts = data_lemmatized\n",
        "\n",
        "  # Term Document Frequency\n",
        "  corpus = [id2word.doc2bow(text) for text in texts]\n",
        "\n",
        "  # View\n",
        "  print(corpus[:1])\n",
        " \n",
        "  # lda_model = gensim.models.ldamodel.LdaModel(corpus=corpus,\n",
        "  #                                           id2word=id2word,\n",
        "  #                                           num_topics=10, \n",
        "  #                                           random_state=100,\n",
        "  #                                           update_every=1,\n",
        "  #                                           chunksize=100,\n",
        "  #                                           passes=10,\n",
        "  #                                           alpha='auto',\n",
        "  #                                           per_word_topics=True)\n",
        "  lda_model = gensim.models.LdaMulticore(corpus=corpus,\n",
        "                                       id2word=id2word,\n",
        "                                       num_topics=10, \n",
        "                                       random_state=100,\n",
        "                                       chunksize=100,\n",
        "                                       passes=10,\n",
        "                                       per_word_topics=True)\n",
        "  print(lda_model.print_topics())\n",
        "  # Visualize the topics\n",
        "  pyLDAvis.enable_notebook()\n",
        "  vis = gensimvis.prepare(lda_model, corpus, id2word)\n",
        "  # vis\n",
        "  # Compute Perplexity\n",
        "  print('\\nPerplexity: ', lda_model.log_perplexity(corpus))  # a measure of how good the model is. lower the better.\n",
        "\n",
        "  # Compute Coherence Score\n",
        "  coherence_model_lda = CoherenceModel(model=lda_model, texts=data_lemmatized, dictionary=id2word, coherence='c_v')\n",
        "  coherence_lda = coherence_model_lda.get_coherence()\n",
        "  print('\\nCoherence Score: ', coherence_lda)\n",
        "  return vis\n",
        "  "
      ],
      "execution_count": null,
      "outputs": []
    },
    {
      "cell_type": "code",
      "metadata": {
        "id": "yB-o8LE2TsxS"
      },
      "source": [
        "poem_count = len(john_keats_choherence_input)\n",
        "john_poem_list=[]\n",
        "for j in john_keats_choherence_input:\n",
        "  poem_index =  str(j)\n",
        "  print(poem_index)\n",
        "  print(john_keats_choherence_input[poem_index])\n",
        "  john_poem_list.append(john_keats_choherence_input[poem_index])\n",
        "print(john_poem_list)"
      ],
      "execution_count": null,
      "outputs": []
    },
    {
      "cell_type": "markdown",
      "metadata": {
        "id": "WBqLIyh9R0Xi"
      },
      "source": [
        "# Original John Keats Poem's perplexity and coherence score"
      ]
    },
    {
      "cell_type": "code",
      "source": [
        "pip install attrs==19.1.0"
      ],
      "metadata": {
        "id": "1pP5nvKM0Zyp"
      },
      "execution_count": null,
      "outputs": []
    },
    {
      "cell_type": "code",
      "source": [
        "!pip install pandas --upgrade\n",
        "# !pip install pandas==1.3.1"
      ],
      "metadata": {
        "id": "vFSru7mDwRuG"
      },
      "execution_count": null,
      "outputs": []
    },
    {
      "cell_type": "code",
      "metadata": {
        "id": "wmAJi77dVSED"
      },
      "source": [
        "vis = choherence_perplexity_calculator(john_poem_list)"
      ],
      "execution_count": null,
      "outputs": []
    },
    {
      "cell_type": "code",
      "source": [
        "vis"
      ],
      "metadata": {
        "id": "m4YuY16EUo0x"
      },
      "execution_count": null,
      "outputs": []
    },
    {
      "cell_type": "markdown",
      "metadata": {
        "id": "vpmyyIJT24Tv"
      },
      "source": [
        "# **Love** is the Topic Name from based on the LDA model topics from John Keats Poem's  (cheek,love,princess,letter,sister,child)"
      ]
    },
    {
      "cell_type": "code",
      "metadata": {
        "id": "XtK9FSesTqZS"
      },
      "source": [
        "poem_count = len(coherence_perplexity_calculator)\n",
        "alfred_poem_list=[]\n",
        "for j in coherence_perplexity_calculator:\n",
        "  poem_index =  str(j)\n",
        "  print(poem_index)\n",
        "  print(coherence_perplexity_calculator[poem_index])\n",
        "  alfred_poem_list.append(coherence_perplexity_calculator[poem_index])\n",
        "print(alfred_poem_list)"
      ],
      "execution_count": null,
      "outputs": []
    },
    {
      "cell_type": "markdown",
      "metadata": {
        "id": "liHlRcXwRrRJ"
      },
      "source": [
        "# Original Alfred Tennyson Poem's perplexity and coherence score"
      ]
    },
    {
      "cell_type": "code",
      "metadata": {
        "id": "wMJBhaJNT7SC"
      },
      "source": [
        "vis = choherence_perplexity_calculator(alfred_poem_list)"
      ],
      "execution_count": null,
      "outputs": []
    },
    {
      "cell_type": "code",
      "source": [
        "vis"
      ],
      "metadata": {
        "id": "1wUt05RsVgF1"
      },
      "execution_count": null,
      "outputs": []
    },
    {
      "cell_type": "markdown",
      "metadata": {
        "id": "CetsflNw3q5F"
      },
      "source": [
        "# **War** is the Topic Name from based on the LDA model topics from Alfred Tennyson Poem's  (war,colony,roman,fall,great,die)"
      ]
    },
    {
      "cell_type": "code",
      "metadata": {
        "id": "ZBKegZt3WeJz"
      },
      "source": [
        "swapped_john_poem_list=[]\n",
        "for j in swapped_john_keats_choherence_input:\n",
        "  swapped_poem_index =  str(j)\n",
        "  print(swapped_poem_index)\n",
        "  print(swapped_john_keats_choherence_input[swapped_poem_index])\n",
        "  swapped_john_poem_list.append(swapped_john_keats_choherence_input[swapped_poem_index])\n",
        "print(swapped_john_poem_list)"
      ],
      "execution_count": null,
      "outputs": []
    },
    {
      "cell_type": "markdown",
      "metadata": {
        "id": "Nz_PZ0ODV6Ez"
      },
      "source": [
        "# Swapped John Keats Poem's perplexity and coherence score"
      ]
    },
    {
      "cell_type": "code",
      "metadata": {
        "id": "_Isbw9Z4W3dC"
      },
      "source": [
        "vis = choherence_perplexity_calculator(swapped_john_poem_list)"
      ],
      "execution_count": null,
      "outputs": []
    },
    {
      "cell_type": "code",
      "metadata": {
        "id": "mf1nECd2WkLR"
      },
      "source": [
        "swapped_alfred_poem_list=[]\n",
        "for j in swapped_coherence_perplexity_calculator:\n",
        "  swapped_poem_index =  str(j)\n",
        "  print(swapped_poem_index)\n",
        "  print(swapped_coherence_perplexity_calculator[swapped_poem_index])\n",
        "  swapped_alfred_poem_list.append(swapped_coherence_perplexity_calculator[swapped_poem_index])\n",
        "print(swapped_alfred_poem_list)"
      ],
      "execution_count": null,
      "outputs": []
    },
    {
      "cell_type": "markdown",
      "metadata": {
        "id": "yE7PbjqUWS8S"
      },
      "source": [
        "# Swapped Alfred Tennyson Poem's perplexity and coherence score"
      ]
    },
    {
      "cell_type": "code",
      "metadata": {
        "id": "BB1rSERgbfXU"
      },
      "source": [
        "vis = choherence_perplexity_calculator(swapped_alfred_poem_list)"
      ],
      "execution_count": null,
      "outputs": []
    },
    {
      "cell_type": "code",
      "metadata": {
        "id": "VmF0td2puaIV"
      },
      "source": [
        "import numpy as np \n",
        "import pandas as pd\n",
        "\n",
        "from sklearn.feature_extraction import text\n",
        "from sklearn.feature_extraction.text import CountVectorizer, TfidfVectorizer\n",
        "from sklearn.decomposition import LatentDirichletAllocation\n",
        "\n",
        "import spacy\n",
        "\n",
        "from scipy.spatial.distance import jensenshannon\n",
        "\n",
        "import joblib\n",
        "\n",
        "from IPython.display import HTML, display\n",
        "\n",
        "from ipywidgets import interact, Layout, HBox, VBox, Box\n",
        "import ipywidgets as widgets\n",
        "from IPython.display import clear_output\n",
        "\n",
        "from tqdm import tqdm\n",
        "from os.path import isfile\n",
        "\n",
        "import seaborn as sb\n",
        "import matplotlib.pyplot as plt\n",
        "plt.style.use(\"dark_background\")"
      ],
      "execution_count": null,
      "outputs": []
    },
    {
      "cell_type": "code",
      "metadata": {
        "id": "JYfINliFvXGW"
      },
      "source": [
        "!python -m spacy download en_core_web_lg"
      ],
      "execution_count": null,
      "outputs": []
    },
    {
      "cell_type": "code",
      "metadata": {
        "id": "8dfP-eaYvHNs"
      },
      "source": [
        "import spacy\n",
        "from spacy import displacy\n",
        "nlp = spacy.load(\"en_core_web_sm\")\n",
        "nlp.max_length = 3000000\n"
      ],
      "execution_count": null,
      "outputs": []
    },
    {
      "cell_type": "code",
      "metadata": {
        "id": "9r42-_r6u7T8"
      },
      "source": [
        "def spacy_tokenizer(sentence):\n",
        "    return [word.lemma_ for word in nlp(sentence) if not (word.like_num or word.is_stop or word.is_punct or word.is_space or len(word)==1)]"
      ],
      "execution_count": null,
      "outputs": []
    },
    {
      "cell_type": "code",
      "metadata": {
        "id": "TbQZN4q7uoc8"
      },
      "source": [
        "vectorizer_john = CountVectorizer(tokenizer = spacy_tokenizer, min_df=2)\n",
        "vectorizer_alfred = CountVectorizer(tokenizer = spacy_tokenizer, min_df=2)\n",
        "\n",
        "data_vectorized_john = vectorizer_john.fit_transform(tqdm(john_poem_list))\n",
        "data_vectorized_alfred = vectorizer_alfred.fit_transform(tqdm(alfred_poem_list))"
      ],
      "execution_count": null,
      "outputs": []
    },
    {
      "cell_type": "markdown",
      "source": [
        "# Combine poems, Summarize using tansformer and Save in file"
      ],
      "metadata": {
        "id": "MHMCEc_zA6l7"
      }
    },
    {
      "cell_type": "code",
      "source": [
        "def combinePoems(poems, poet):\n",
        "    poems_ref = []\n",
        "    all_poems = []\n",
        "    c = 0\n",
        "    for i in poems:\n",
        "      c += 1\n",
        "      # print(i)\n",
        "      all_poems.append(i)\n",
        "      if c == 10:\n",
        "        break\n",
        "    p = {'all_poems':all_poems}\n",
        "    poems_ref.append(p)\n",
        "    po = {'poet': poet}\n",
        "    poems_ref.append(po)\n",
        "    return poems_ref"
      ],
      "metadata": {
        "id": "4R0TIxv_A5u_"
      },
      "execution_count": null,
      "outputs": []
    },
    {
      "cell_type": "code",
      "source": [
        "alfred_combined = swapped_alfred_poem_list.copy()\n",
        "alfred_combined = combinePoems(alfred_combined, 'Alfred Tennyson')\n",
        "alfred_combined"
      ],
      "metadata": {
        "id": "wkaqfKlxBGIc"
      },
      "execution_count": null,
      "outputs": []
    },
    {
      "cell_type": "code",
      "source": [
        "john_combined = swapped_john_poem_list.copy()\n",
        "john_combined = combinePoems(john_combined, 'John Keats')\n",
        "john_combined"
      ],
      "metadata": {
        "id": "gEzkb-EwECsF"
      },
      "execution_count": null,
      "outputs": []
    },
    {
      "cell_type": "code",
      "source": [
        "with open('/content/drive/MyDrive/DataSets/alfred_tennyson_swapped_combined_final.json', 'w') as outfile:\n",
        "    json.dump(alfred_combined, outfile)\n",
        "with open('/content/drive/MyDrive/DataSets/john_keats_swapped_combined_final.json', 'w') as outfile:\n",
        "    json.dump(john_combined, outfile)"
      ],
      "metadata": {
        "id": "j_638TCkEPMG"
      },
      "execution_count": null,
      "outputs": []
    },
    {
      "cell_type": "markdown",
      "metadata": {
        "id": "3yXtWeSJ5sGX"
      },
      "source": [
        "# Frequent words used in John Keats poems"
      ]
    },
    {
      "cell_type": "code",
      "metadata": {
        "id": "cdu8Js2kuzbH"
      },
      "source": [
        "word_count_john = pd.DataFrame({'word': vectorizer_john.get_feature_names(), 'count': np.asarray(data_vectorized_john.sum(axis=0))[0]})\n",
        "\n",
        "word_count_john.sort_values('count', ascending=False).set_index('word')[:10].sort_values('count', ascending=True).plot(kind='barh')"
      ],
      "execution_count": null,
      "outputs": []
    },
    {
      "cell_type": "markdown",
      "metadata": {
        "id": "Qrnpuif_5mL9"
      },
      "source": [
        "# Frequent words used in Alfred Tennyson poems"
      ]
    },
    {
      "cell_type": "code",
      "metadata": {
        "id": "OgAWJiW80mel"
      },
      "source": [
        "word_count_alfred = pd.DataFrame({'word': vectorizer_alfred.get_feature_names(), 'count': np.asarray(data_vectorized_alfred.sum(axis=0))[0]})\n",
        "\n",
        "word_count_alfred.sort_values('count', ascending=False).set_index('word')[:10].sort_values('count', ascending=True).plot(kind='barh')"
      ],
      "execution_count": null,
      "outputs": []
    },
    {
      "cell_type": "markdown",
      "source": [
        "#Name the Topics"
      ],
      "metadata": {
        "id": "-pDnFtFBRuo9"
      }
    },
    {
      "cell_type": "code",
      "source": [
        "def topicModeling(text1):\n",
        "  text1_list_orig = []\n",
        "  bigram_text1 = []\n",
        "  corpus_text1 = []\n",
        "\n",
        "  text1_list_orig = [gensim.utils.simple_preprocess(text1)]\n",
        "  bigram_text1 = gensim.models.Phrases(text1_list_orig) # higher threshold fewer phrases.\n",
        "  trigram_text1 = gensim.models.Phrases(bigram_text1[text1_list_orig])\n",
        "  #remove stop words\n",
        "  remove_stop_text1 = remove_stopwords(text1_list_orig)\n",
        "  # Form Bigrams\n",
        "  data_words_bigrams_text1 = make_bigrams(remove_stop_text1, bigram_text1)\n",
        "  # Do lemmatization keeping only noun, adj, vb, adv\n",
        "  data_lemmatized_text1 = lemmatization(data_words_bigrams_text1, allowed_postags=['NOUN']) # , 'ADJ', 'VERB', 'ADV'\n",
        "  id2word_text1 = corpora.Dictionary(data_lemmatized_text1)\n",
        "\n",
        "  # Term Document Frequency\n",
        "  corpus_text1 = [id2word_text1.doc2bow(text) for text in data_lemmatized_text1]\n",
        "  lda_model_text1 = gensim.models.LdaMulticore(corpus=corpus_text1,\n",
        "                                       id2word=id2word_text1,\n",
        "                                       num_topics=10, \n",
        "                                       random_state=100,\n",
        "                                       chunksize=100,\n",
        "                                       passes=10,\n",
        "                                       per_word_topics=True)\n",
        "  doc_lda_text1 = lda_model_text1[corpus_text1]\n",
        "  return lda_model_text1, corpus_text1, data_lemmatized_text1, id2word_text1\n",
        "\n"
      ],
      "metadata": {
        "id": "njTfbJZARzl0"
      },
      "execution_count": null,
      "outputs": []
    },
    {
      "cell_type": "markdown",
      "metadata": {
        "id": "HNkA2PT44Lcg"
      },
      "source": [
        "# **Conclusion**\n",
        "Based on the frequency count of words, below are the top 3 topic names for both the poets:   \n",
        "**John Keats:**   \n",
        "1. little \n",
        "2. purpose \n",
        "3. letter  \n",
        "**Alfred Tennyson:**\n",
        "1. hear  \n",
        "2. die\n",
        "3. blow\n",
        "\n",
        "Based on the LDA weights, below are the top 3 topic names for both the poets:      \n",
        "**John Keats:** \n",
        "1. ape \n",
        "2. letter \n",
        "3. sister  \n",
        "\n",
        "**Alfred Tennyson:**\n",
        "1. colony \n",
        "2. war \n",
        "3. charge\n"
      ]
    },
    {
      "cell_type": "markdown",
      "source": [
        "# References\n",
        "\n",
        "\n",
        "1. https://github.com/aarsanjani/nlp-poets\n",
        "2. https://www.machinelearningplus.com/nlp/topic-modeling-gensim-python/\n",
        "3. https://sjsu.instructure.com/courses/1465859/assignments/5992374\n"
      ],
      "metadata": {
        "id": "1Ud6pB9Y9Vuy"
      }
    }
  ]
}