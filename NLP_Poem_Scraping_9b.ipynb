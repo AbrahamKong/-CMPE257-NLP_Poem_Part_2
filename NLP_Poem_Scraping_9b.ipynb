{
  "nbformat": 4,
  "nbformat_minor": 0,
  "metadata": {
    "colab": {
      "name": "NLP Poem Scraping - 9b",
      "provenance": [],
      "collapsed_sections": [],
      "include_colab_link": true
    },
    "kernelspec": {
      "name": "python3",
      "display_name": "Python 3"
    },
    "language_info": {
      "name": "python"
    },
    "accelerator": "GPU",
    "widgets": {
      "application/vnd.jupyter.widget-state+json": {
        "55a0b206588e421ebba7598b7879b585": {
          "model_module": "@jupyter-widgets/controls",
          "model_name": "HBoxModel",
          "model_module_version": "1.5.0",
          "state": {
            "_dom_classes": [],
            "_model_module": "@jupyter-widgets/controls",
            "_model_module_version": "1.5.0",
            "_model_name": "HBoxModel",
            "_view_count": null,
            "_view_module": "@jupyter-widgets/controls",
            "_view_module_version": "1.5.0",
            "_view_name": "HBoxView",
            "box_style": "",
            "children": [
              "IPY_MODEL_e819b2bbe54549a08f0ee12adfef1911",
              "IPY_MODEL_ebf1f95bc74a4c34a4e49555c6c9d80d",
              "IPY_MODEL_3c352eb0503c4bee864f3cb8c723a0b2"
            ],
            "layout": "IPY_MODEL_2afbdc07d97c4426830f9755279f5369"
          }
        },
        "e819b2bbe54549a08f0ee12adfef1911": {
          "model_module": "@jupyter-widgets/controls",
          "model_name": "HTMLModel",
          "model_module_version": "1.5.0",
          "state": {
            "_dom_classes": [],
            "_model_module": "@jupyter-widgets/controls",
            "_model_module_version": "1.5.0",
            "_model_name": "HTMLModel",
            "_view_count": null,
            "_view_module": "@jupyter-widgets/controls",
            "_view_module_version": "1.5.0",
            "_view_name": "HTMLView",
            "description": "",
            "description_tooltip": null,
            "layout": "IPY_MODEL_72a6a651ac72478ab138d0d62cd41962",
            "placeholder": "​",
            "style": "IPY_MODEL_a67326bf6bc443c29800cde410b97f31",
            "value": "Downloading: 100%"
          }
        },
        "ebf1f95bc74a4c34a4e49555c6c9d80d": {
          "model_module": "@jupyter-widgets/controls",
          "model_name": "FloatProgressModel",
          "model_module_version": "1.5.0",
          "state": {
            "_dom_classes": [],
            "_model_module": "@jupyter-widgets/controls",
            "_model_module_version": "1.5.0",
            "_model_name": "FloatProgressModel",
            "_view_count": null,
            "_view_module": "@jupyter-widgets/controls",
            "_view_module_version": "1.5.0",
            "_view_name": "ProgressView",
            "bar_style": "success",
            "description": "",
            "description_tooltip": null,
            "layout": "IPY_MODEL_6c4b98c204b5414e974d596a8488bc38",
            "max": 748,
            "min": 0,
            "orientation": "horizontal",
            "style": "IPY_MODEL_227847c936b24c169edef5ee8f832247",
            "value": 748
          }
        },
        "3c352eb0503c4bee864f3cb8c723a0b2": {
          "model_module": "@jupyter-widgets/controls",
          "model_name": "HTMLModel",
          "model_module_version": "1.5.0",
          "state": {
            "_dom_classes": [],
            "_model_module": "@jupyter-widgets/controls",
            "_model_module_version": "1.5.0",
            "_model_name": "HTMLModel",
            "_view_count": null,
            "_view_module": "@jupyter-widgets/controls",
            "_view_module_version": "1.5.0",
            "_view_name": "HTMLView",
            "description": "",
            "description_tooltip": null,
            "layout": "IPY_MODEL_48ae9d4da8fd47b0aa05c69f801a4367",
            "placeholder": "​",
            "style": "IPY_MODEL_fc0039c8cda64759926d5b33b9abfa4d",
            "value": " 748/748 [00:00&lt;00:00, 20.3kB/s]"
          }
        },
        "2afbdc07d97c4426830f9755279f5369": {
          "model_module": "@jupyter-widgets/base",
          "model_name": "LayoutModel",
          "model_module_version": "1.2.0",
          "state": {
            "_model_module": "@jupyter-widgets/base",
            "_model_module_version": "1.2.0",
            "_model_name": "LayoutModel",
            "_view_count": null,
            "_view_module": "@jupyter-widgets/base",
            "_view_module_version": "1.2.0",
            "_view_name": "LayoutView",
            "align_content": null,
            "align_items": null,
            "align_self": null,
            "border": null,
            "bottom": null,
            "display": null,
            "flex": null,
            "flex_flow": null,
            "grid_area": null,
            "grid_auto_columns": null,
            "grid_auto_flow": null,
            "grid_auto_rows": null,
            "grid_column": null,
            "grid_gap": null,
            "grid_row": null,
            "grid_template_areas": null,
            "grid_template_columns": null,
            "grid_template_rows": null,
            "height": null,
            "justify_content": null,
            "justify_items": null,
            "left": null,
            "margin": null,
            "max_height": null,
            "max_width": null,
            "min_height": null,
            "min_width": null,
            "object_fit": null,
            "object_position": null,
            "order": null,
            "overflow": null,
            "overflow_x": null,
            "overflow_y": null,
            "padding": null,
            "right": null,
            "top": null,
            "visibility": null,
            "width": null
          }
        },
        "72a6a651ac72478ab138d0d62cd41962": {
          "model_module": "@jupyter-widgets/base",
          "model_name": "LayoutModel",
          "model_module_version": "1.2.0",
          "state": {
            "_model_module": "@jupyter-widgets/base",
            "_model_module_version": "1.2.0",
            "_model_name": "LayoutModel",
            "_view_count": null,
            "_view_module": "@jupyter-widgets/base",
            "_view_module_version": "1.2.0",
            "_view_name": "LayoutView",
            "align_content": null,
            "align_items": null,
            "align_self": null,
            "border": null,
            "bottom": null,
            "display": null,
            "flex": null,
            "flex_flow": null,
            "grid_area": null,
            "grid_auto_columns": null,
            "grid_auto_flow": null,
            "grid_auto_rows": null,
            "grid_column": null,
            "grid_gap": null,
            "grid_row": null,
            "grid_template_areas": null,
            "grid_template_columns": null,
            "grid_template_rows": null,
            "height": null,
            "justify_content": null,
            "justify_items": null,
            "left": null,
            "margin": null,
            "max_height": null,
            "max_width": null,
            "min_height": null,
            "min_width": null,
            "object_fit": null,
            "object_position": null,
            "order": null,
            "overflow": null,
            "overflow_x": null,
            "overflow_y": null,
            "padding": null,
            "right": null,
            "top": null,
            "visibility": null,
            "width": null
          }
        },
        "a67326bf6bc443c29800cde410b97f31": {
          "model_module": "@jupyter-widgets/controls",
          "model_name": "DescriptionStyleModel",
          "model_module_version": "1.5.0",
          "state": {
            "_model_module": "@jupyter-widgets/controls",
            "_model_module_version": "1.5.0",
            "_model_name": "DescriptionStyleModel",
            "_view_count": null,
            "_view_module": "@jupyter-widgets/base",
            "_view_module_version": "1.2.0",
            "_view_name": "StyleView",
            "description_width": ""
          }
        },
        "6c4b98c204b5414e974d596a8488bc38": {
          "model_module": "@jupyter-widgets/base",
          "model_name": "LayoutModel",
          "model_module_version": "1.2.0",
          "state": {
            "_model_module": "@jupyter-widgets/base",
            "_model_module_version": "1.2.0",
            "_model_name": "LayoutModel",
            "_view_count": null,
            "_view_module": "@jupyter-widgets/base",
            "_view_module_version": "1.2.0",
            "_view_name": "LayoutView",
            "align_content": null,
            "align_items": null,
            "align_self": null,
            "border": null,
            "bottom": null,
            "display": null,
            "flex": null,
            "flex_flow": null,
            "grid_area": null,
            "grid_auto_columns": null,
            "grid_auto_flow": null,
            "grid_auto_rows": null,
            "grid_column": null,
            "grid_gap": null,
            "grid_row": null,
            "grid_template_areas": null,
            "grid_template_columns": null,
            "grid_template_rows": null,
            "height": null,
            "justify_content": null,
            "justify_items": null,
            "left": null,
            "margin": null,
            "max_height": null,
            "max_width": null,
            "min_height": null,
            "min_width": null,
            "object_fit": null,
            "object_position": null,
            "order": null,
            "overflow": null,
            "overflow_x": null,
            "overflow_y": null,
            "padding": null,
            "right": null,
            "top": null,
            "visibility": null,
            "width": null
          }
        },
        "227847c936b24c169edef5ee8f832247": {
          "model_module": "@jupyter-widgets/controls",
          "model_name": "ProgressStyleModel",
          "model_module_version": "1.5.0",
          "state": {
            "_model_module": "@jupyter-widgets/controls",
            "_model_module_version": "1.5.0",
            "_model_name": "ProgressStyleModel",
            "_view_count": null,
            "_view_module": "@jupyter-widgets/base",
            "_view_module_version": "1.2.0",
            "_view_name": "StyleView",
            "bar_color": null,
            "description_width": ""
          }
        },
        "48ae9d4da8fd47b0aa05c69f801a4367": {
          "model_module": "@jupyter-widgets/base",
          "model_name": "LayoutModel",
          "model_module_version": "1.2.0",
          "state": {
            "_model_module": "@jupyter-widgets/base",
            "_model_module_version": "1.2.0",
            "_model_name": "LayoutModel",
            "_view_count": null,
            "_view_module": "@jupyter-widgets/base",
            "_view_module_version": "1.2.0",
            "_view_name": "LayoutView",
            "align_content": null,
            "align_items": null,
            "align_self": null,
            "border": null,
            "bottom": null,
            "display": null,
            "flex": null,
            "flex_flow": null,
            "grid_area": null,
            "grid_auto_columns": null,
            "grid_auto_flow": null,
            "grid_auto_rows": null,
            "grid_column": null,
            "grid_gap": null,
            "grid_row": null,
            "grid_template_areas": null,
            "grid_template_columns": null,
            "grid_template_rows": null,
            "height": null,
            "justify_content": null,
            "justify_items": null,
            "left": null,
            "margin": null,
            "max_height": null,
            "max_width": null,
            "min_height": null,
            "min_width": null,
            "object_fit": null,
            "object_position": null,
            "order": null,
            "overflow": null,
            "overflow_x": null,
            "overflow_y": null,
            "padding": null,
            "right": null,
            "top": null,
            "visibility": null,
            "width": null
          }
        },
        "fc0039c8cda64759926d5b33b9abfa4d": {
          "model_module": "@jupyter-widgets/controls",
          "model_name": "DescriptionStyleModel",
          "model_module_version": "1.5.0",
          "state": {
            "_model_module": "@jupyter-widgets/controls",
            "_model_module_version": "1.5.0",
            "_model_name": "DescriptionStyleModel",
            "_view_count": null,
            "_view_module": "@jupyter-widgets/base",
            "_view_module_version": "1.2.0",
            "_view_name": "StyleView",
            "description_width": ""
          }
        },
        "3cef07b51d9c423fa6b59b538b86a822": {
          "model_module": "@jupyter-widgets/controls",
          "model_name": "HBoxModel",
          "model_module_version": "1.5.0",
          "state": {
            "_dom_classes": [],
            "_model_module": "@jupyter-widgets/controls",
            "_model_module_version": "1.5.0",
            "_model_name": "HBoxModel",
            "_view_count": null,
            "_view_module": "@jupyter-widgets/controls",
            "_view_module_version": "1.5.0",
            "_view_name": "HBoxView",
            "box_style": "",
            "children": [
              "IPY_MODEL_cf1d9d6cacac4330bba35ee984863bfa",
              "IPY_MODEL_b344c09d21aa40bb9a88ba69c396cfe8",
              "IPY_MODEL_dc36ca95ca2145aabeed25110c71df02"
            ],
            "layout": "IPY_MODEL_a3644a22e0374874aa1104739a96e9cb"
          }
        },
        "cf1d9d6cacac4330bba35ee984863bfa": {
          "model_module": "@jupyter-widgets/controls",
          "model_name": "HTMLModel",
          "model_module_version": "1.5.0",
          "state": {
            "_dom_classes": [],
            "_model_module": "@jupyter-widgets/controls",
            "_model_module_version": "1.5.0",
            "_model_name": "HTMLModel",
            "_view_count": null,
            "_view_module": "@jupyter-widgets/controls",
            "_view_module_version": "1.5.0",
            "_view_name": "HTMLView",
            "description": "",
            "description_tooltip": null,
            "layout": "IPY_MODEL_015a51152ce3406eb1b0cba168b68a01",
            "placeholder": "​",
            "style": "IPY_MODEL_67c24140145045debd363a55fb89d36f",
            "value": "Downloading: 100%"
          }
        },
        "b344c09d21aa40bb9a88ba69c396cfe8": {
          "model_module": "@jupyter-widgets/controls",
          "model_name": "FloatProgressModel",
          "model_module_version": "1.5.0",
          "state": {
            "_dom_classes": [],
            "_model_module": "@jupyter-widgets/controls",
            "_model_module_version": "1.5.0",
            "_model_name": "FloatProgressModel",
            "_view_count": null,
            "_view_module": "@jupyter-widgets/controls",
            "_view_module_version": "1.5.0",
            "_view_name": "ProgressView",
            "bar_style": "success",
            "description": "",
            "description_tooltip": null,
            "layout": "IPY_MODEL_a258b1015bb843fca9eb56eda928661d",
            "max": 191,
            "min": 0,
            "orientation": "horizontal",
            "style": "IPY_MODEL_97996dd11ca64782ae85749bacd31e23",
            "value": 191
          }
        },
        "dc36ca95ca2145aabeed25110c71df02": {
          "model_module": "@jupyter-widgets/controls",
          "model_name": "HTMLModel",
          "model_module_version": "1.5.0",
          "state": {
            "_dom_classes": [],
            "_model_module": "@jupyter-widgets/controls",
            "_model_module_version": "1.5.0",
            "_model_name": "HTMLModel",
            "_view_count": null,
            "_view_module": "@jupyter-widgets/controls",
            "_view_module_version": "1.5.0",
            "_view_name": "HTMLView",
            "description": "",
            "description_tooltip": null,
            "layout": "IPY_MODEL_428ba58350c8464e900813710b3c3e87",
            "placeholder": "​",
            "style": "IPY_MODEL_a98b8562c86e40788b5c7c93b0bab2c0",
            "value": " 191/191 [00:00&lt;00:00, 5.79kB/s]"
          }
        },
        "a3644a22e0374874aa1104739a96e9cb": {
          "model_module": "@jupyter-widgets/base",
          "model_name": "LayoutModel",
          "model_module_version": "1.2.0",
          "state": {
            "_model_module": "@jupyter-widgets/base",
            "_model_module_version": "1.2.0",
            "_model_name": "LayoutModel",
            "_view_count": null,
            "_view_module": "@jupyter-widgets/base",
            "_view_module_version": "1.2.0",
            "_view_name": "LayoutView",
            "align_content": null,
            "align_items": null,
            "align_self": null,
            "border": null,
            "bottom": null,
            "display": null,
            "flex": null,
            "flex_flow": null,
            "grid_area": null,
            "grid_auto_columns": null,
            "grid_auto_flow": null,
            "grid_auto_rows": null,
            "grid_column": null,
            "grid_gap": null,
            "grid_row": null,
            "grid_template_areas": null,
            "grid_template_columns": null,
            "grid_template_rows": null,
            "height": null,
            "justify_content": null,
            "justify_items": null,
            "left": null,
            "margin": null,
            "max_height": null,
            "max_width": null,
            "min_height": null,
            "min_width": null,
            "object_fit": null,
            "object_position": null,
            "order": null,
            "overflow": null,
            "overflow_x": null,
            "overflow_y": null,
            "padding": null,
            "right": null,
            "top": null,
            "visibility": null,
            "width": null
          }
        },
        "015a51152ce3406eb1b0cba168b68a01": {
          "model_module": "@jupyter-widgets/base",
          "model_name": "LayoutModel",
          "model_module_version": "1.2.0",
          "state": {
            "_model_module": "@jupyter-widgets/base",
            "_model_module_version": "1.2.0",
            "_model_name": "LayoutModel",
            "_view_count": null,
            "_view_module": "@jupyter-widgets/base",
            "_view_module_version": "1.2.0",
            "_view_name": "LayoutView",
            "align_content": null,
            "align_items": null,
            "align_self": null,
            "border": null,
            "bottom": null,
            "display": null,
            "flex": null,
            "flex_flow": null,
            "grid_area": null,
            "grid_auto_columns": null,
            "grid_auto_flow": null,
            "grid_auto_rows": null,
            "grid_column": null,
            "grid_gap": null,
            "grid_row": null,
            "grid_template_areas": null,
            "grid_template_columns": null,
            "grid_template_rows": null,
            "height": null,
            "justify_content": null,
            "justify_items": null,
            "left": null,
            "margin": null,
            "max_height": null,
            "max_width": null,
            "min_height": null,
            "min_width": null,
            "object_fit": null,
            "object_position": null,
            "order": null,
            "overflow": null,
            "overflow_x": null,
            "overflow_y": null,
            "padding": null,
            "right": null,
            "top": null,
            "visibility": null,
            "width": null
          }
        },
        "67c24140145045debd363a55fb89d36f": {
          "model_module": "@jupyter-widgets/controls",
          "model_name": "DescriptionStyleModel",
          "model_module_version": "1.5.0",
          "state": {
            "_model_module": "@jupyter-widgets/controls",
            "_model_module_version": "1.5.0",
            "_model_name": "DescriptionStyleModel",
            "_view_count": null,
            "_view_module": "@jupyter-widgets/base",
            "_view_module_version": "1.2.0",
            "_view_name": "StyleView",
            "description_width": ""
          }
        },
        "a258b1015bb843fca9eb56eda928661d": {
          "model_module": "@jupyter-widgets/base",
          "model_name": "LayoutModel",
          "model_module_version": "1.2.0",
          "state": {
            "_model_module": "@jupyter-widgets/base",
            "_model_module_version": "1.2.0",
            "_model_name": "LayoutModel",
            "_view_count": null,
            "_view_module": "@jupyter-widgets/base",
            "_view_module_version": "1.2.0",
            "_view_name": "LayoutView",
            "align_content": null,
            "align_items": null,
            "align_self": null,
            "border": null,
            "bottom": null,
            "display": null,
            "flex": null,
            "flex_flow": null,
            "grid_area": null,
            "grid_auto_columns": null,
            "grid_auto_flow": null,
            "grid_auto_rows": null,
            "grid_column": null,
            "grid_gap": null,
            "grid_row": null,
            "grid_template_areas": null,
            "grid_template_columns": null,
            "grid_template_rows": null,
            "height": null,
            "justify_content": null,
            "justify_items": null,
            "left": null,
            "margin": null,
            "max_height": null,
            "max_width": null,
            "min_height": null,
            "min_width": null,
            "object_fit": null,
            "object_position": null,
            "order": null,
            "overflow": null,
            "overflow_x": null,
            "overflow_y": null,
            "padding": null,
            "right": null,
            "top": null,
            "visibility": null,
            "width": null
          }
        },
        "97996dd11ca64782ae85749bacd31e23": {
          "model_module": "@jupyter-widgets/controls",
          "model_name": "ProgressStyleModel",
          "model_module_version": "1.5.0",
          "state": {
            "_model_module": "@jupyter-widgets/controls",
            "_model_module_version": "1.5.0",
            "_model_name": "ProgressStyleModel",
            "_view_count": null,
            "_view_module": "@jupyter-widgets/base",
            "_view_module_version": "1.2.0",
            "_view_name": "StyleView",
            "bar_color": null,
            "description_width": ""
          }
        },
        "428ba58350c8464e900813710b3c3e87": {
          "model_module": "@jupyter-widgets/base",
          "model_name": "LayoutModel",
          "model_module_version": "1.2.0",
          "state": {
            "_model_module": "@jupyter-widgets/base",
            "_model_module_version": "1.2.0",
            "_model_name": "LayoutModel",
            "_view_count": null,
            "_view_module": "@jupyter-widgets/base",
            "_view_module_version": "1.2.0",
            "_view_name": "LayoutView",
            "align_content": null,
            "align_items": null,
            "align_self": null,
            "border": null,
            "bottom": null,
            "display": null,
            "flex": null,
            "flex_flow": null,
            "grid_area": null,
            "grid_auto_columns": null,
            "grid_auto_flow": null,
            "grid_auto_rows": null,
            "grid_column": null,
            "grid_gap": null,
            "grid_row": null,
            "grid_template_areas": null,
            "grid_template_columns": null,
            "grid_template_rows": null,
            "height": null,
            "justify_content": null,
            "justify_items": null,
            "left": null,
            "margin": null,
            "max_height": null,
            "max_width": null,
            "min_height": null,
            "min_width": null,
            "object_fit": null,
            "object_position": null,
            "order": null,
            "overflow": null,
            "overflow_x": null,
            "overflow_y": null,
            "padding": null,
            "right": null,
            "top": null,
            "visibility": null,
            "width": null
          }
        },
        "a98b8562c86e40788b5c7c93b0bab2c0": {
          "model_module": "@jupyter-widgets/controls",
          "model_name": "DescriptionStyleModel",
          "model_module_version": "1.5.0",
          "state": {
            "_model_module": "@jupyter-widgets/controls",
            "_model_module_version": "1.5.0",
            "_model_name": "DescriptionStyleModel",
            "_view_count": null,
            "_view_module": "@jupyter-widgets/base",
            "_view_module_version": "1.2.0",
            "_view_name": "StyleView",
            "description_width": ""
          }
        },
        "62191b8ac79042ad882978d916374093": {
          "model_module": "@jupyter-widgets/controls",
          "model_name": "HBoxModel",
          "model_module_version": "1.5.0",
          "state": {
            "_dom_classes": [],
            "_model_module": "@jupyter-widgets/controls",
            "_model_module_version": "1.5.0",
            "_model_name": "HBoxModel",
            "_view_count": null,
            "_view_module": "@jupyter-widgets/controls",
            "_view_module_version": "1.5.0",
            "_view_name": "HBoxView",
            "box_style": "",
            "children": [
              "IPY_MODEL_ad5fbad6b75547cf95eec698f7104cf0",
              "IPY_MODEL_31e066dcd4ea48838f762280652030b3",
              "IPY_MODEL_9d6da3e0bb3b4ce0871cda5cfc7f0427"
            ],
            "layout": "IPY_MODEL_0d12b387982c4fbd8de070615726dd83"
          }
        },
        "ad5fbad6b75547cf95eec698f7104cf0": {
          "model_module": "@jupyter-widgets/controls",
          "model_name": "HTMLModel",
          "model_module_version": "1.5.0",
          "state": {
            "_dom_classes": [],
            "_model_module": "@jupyter-widgets/controls",
            "_model_module_version": "1.5.0",
            "_model_name": "HTMLModel",
            "_view_count": null,
            "_view_module": "@jupyter-widgets/controls",
            "_view_module_version": "1.5.0",
            "_view_name": "HTMLView",
            "description": "",
            "description_tooltip": null,
            "layout": "IPY_MODEL_4fbab3ed9f7a45a2a1bd223b4cd9f24b",
            "placeholder": "​",
            "style": "IPY_MODEL_77085a808fd14825afc857fd730c80ce",
            "value": "Downloading: 100%"
          }
        },
        "31e066dcd4ea48838f762280652030b3": {
          "model_module": "@jupyter-widgets/controls",
          "model_name": "FloatProgressModel",
          "model_module_version": "1.5.0",
          "state": {
            "_dom_classes": [],
            "_model_module": "@jupyter-widgets/controls",
            "_model_module_version": "1.5.0",
            "_model_name": "FloatProgressModel",
            "_view_count": null,
            "_view_module": "@jupyter-widgets/controls",
            "_view_module_version": "1.5.0",
            "_view_name": "ProgressView",
            "bar_style": "success",
            "description": "",
            "description_tooltip": null,
            "layout": "IPY_MODEL_d3e5c603cd3f4e6c8fd5cddbe1eb9630",
            "max": 3922,
            "min": 0,
            "orientation": "horizontal",
            "style": "IPY_MODEL_d5dd492d4c9848dda62bde883829e764",
            "value": 3922
          }
        },
        "9d6da3e0bb3b4ce0871cda5cfc7f0427": {
          "model_module": "@jupyter-widgets/controls",
          "model_name": "HTMLModel",
          "model_module_version": "1.5.0",
          "state": {
            "_dom_classes": [],
            "_model_module": "@jupyter-widgets/controls",
            "_model_module_version": "1.5.0",
            "_model_name": "HTMLModel",
            "_view_count": null,
            "_view_module": "@jupyter-widgets/controls",
            "_view_module_version": "1.5.0",
            "_view_name": "HTMLView",
            "description": "",
            "description_tooltip": null,
            "layout": "IPY_MODEL_f74fd0b30c5b4847a0e4a1aa3fdda399",
            "placeholder": "​",
            "style": "IPY_MODEL_78a6ea8d52b54572b201d99aa785b17e",
            "value": " 3.92k/3.92k [00:00&lt;00:00, 118kB/s]"
          }
        },
        "0d12b387982c4fbd8de070615726dd83": {
          "model_module": "@jupyter-widgets/base",
          "model_name": "LayoutModel",
          "model_module_version": "1.2.0",
          "state": {
            "_model_module": "@jupyter-widgets/base",
            "_model_module_version": "1.2.0",
            "_model_name": "LayoutModel",
            "_view_count": null,
            "_view_module": "@jupyter-widgets/base",
            "_view_module_version": "1.2.0",
            "_view_name": "LayoutView",
            "align_content": null,
            "align_items": null,
            "align_self": null,
            "border": null,
            "bottom": null,
            "display": null,
            "flex": null,
            "flex_flow": null,
            "grid_area": null,
            "grid_auto_columns": null,
            "grid_auto_flow": null,
            "grid_auto_rows": null,
            "grid_column": null,
            "grid_gap": null,
            "grid_row": null,
            "grid_template_areas": null,
            "grid_template_columns": null,
            "grid_template_rows": null,
            "height": null,
            "justify_content": null,
            "justify_items": null,
            "left": null,
            "margin": null,
            "max_height": null,
            "max_width": null,
            "min_height": null,
            "min_width": null,
            "object_fit": null,
            "object_position": null,
            "order": null,
            "overflow": null,
            "overflow_x": null,
            "overflow_y": null,
            "padding": null,
            "right": null,
            "top": null,
            "visibility": null,
            "width": null
          }
        },
        "4fbab3ed9f7a45a2a1bd223b4cd9f24b": {
          "model_module": "@jupyter-widgets/base",
          "model_name": "LayoutModel",
          "model_module_version": "1.2.0",
          "state": {
            "_model_module": "@jupyter-widgets/base",
            "_model_module_version": "1.2.0",
            "_model_name": "LayoutModel",
            "_view_count": null,
            "_view_module": "@jupyter-widgets/base",
            "_view_module_version": "1.2.0",
            "_view_name": "LayoutView",
            "align_content": null,
            "align_items": null,
            "align_self": null,
            "border": null,
            "bottom": null,
            "display": null,
            "flex": null,
            "flex_flow": null,
            "grid_area": null,
            "grid_auto_columns": null,
            "grid_auto_flow": null,
            "grid_auto_rows": null,
            "grid_column": null,
            "grid_gap": null,
            "grid_row": null,
            "grid_template_areas": null,
            "grid_template_columns": null,
            "grid_template_rows": null,
            "height": null,
            "justify_content": null,
            "justify_items": null,
            "left": null,
            "margin": null,
            "max_height": null,
            "max_width": null,
            "min_height": null,
            "min_width": null,
            "object_fit": null,
            "object_position": null,
            "order": null,
            "overflow": null,
            "overflow_x": null,
            "overflow_y": null,
            "padding": null,
            "right": null,
            "top": null,
            "visibility": null,
            "width": null
          }
        },
        "77085a808fd14825afc857fd730c80ce": {
          "model_module": "@jupyter-widgets/controls",
          "model_name": "DescriptionStyleModel",
          "model_module_version": "1.5.0",
          "state": {
            "_model_module": "@jupyter-widgets/controls",
            "_model_module_version": "1.5.0",
            "_model_name": "DescriptionStyleModel",
            "_view_count": null,
            "_view_module": "@jupyter-widgets/base",
            "_view_module_version": "1.2.0",
            "_view_name": "StyleView",
            "description_width": ""
          }
        },
        "d3e5c603cd3f4e6c8fd5cddbe1eb9630": {
          "model_module": "@jupyter-widgets/base",
          "model_name": "LayoutModel",
          "model_module_version": "1.2.0",
          "state": {
            "_model_module": "@jupyter-widgets/base",
            "_model_module_version": "1.2.0",
            "_model_name": "LayoutModel",
            "_view_count": null,
            "_view_module": "@jupyter-widgets/base",
            "_view_module_version": "1.2.0",
            "_view_name": "LayoutView",
            "align_content": null,
            "align_items": null,
            "align_self": null,
            "border": null,
            "bottom": null,
            "display": null,
            "flex": null,
            "flex_flow": null,
            "grid_area": null,
            "grid_auto_columns": null,
            "grid_auto_flow": null,
            "grid_auto_rows": null,
            "grid_column": null,
            "grid_gap": null,
            "grid_row": null,
            "grid_template_areas": null,
            "grid_template_columns": null,
            "grid_template_rows": null,
            "height": null,
            "justify_content": null,
            "justify_items": null,
            "left": null,
            "margin": null,
            "max_height": null,
            "max_width": null,
            "min_height": null,
            "min_width": null,
            "object_fit": null,
            "object_position": null,
            "order": null,
            "overflow": null,
            "overflow_x": null,
            "overflow_y": null,
            "padding": null,
            "right": null,
            "top": null,
            "visibility": null,
            "width": null
          }
        },
        "d5dd492d4c9848dda62bde883829e764": {
          "model_module": "@jupyter-widgets/controls",
          "model_name": "ProgressStyleModel",
          "model_module_version": "1.5.0",
          "state": {
            "_model_module": "@jupyter-widgets/controls",
            "_model_module_version": "1.5.0",
            "_model_name": "ProgressStyleModel",
            "_view_count": null,
            "_view_module": "@jupyter-widgets/base",
            "_view_module_version": "1.2.0",
            "_view_name": "StyleView",
            "bar_color": null,
            "description_width": ""
          }
        },
        "f74fd0b30c5b4847a0e4a1aa3fdda399": {
          "model_module": "@jupyter-widgets/base",
          "model_name": "LayoutModel",
          "model_module_version": "1.2.0",
          "state": {
            "_model_module": "@jupyter-widgets/base",
            "_model_module_version": "1.2.0",
            "_model_name": "LayoutModel",
            "_view_count": null,
            "_view_module": "@jupyter-widgets/base",
            "_view_module_version": "1.2.0",
            "_view_name": "LayoutView",
            "align_content": null,
            "align_items": null,
            "align_self": null,
            "border": null,
            "bottom": null,
            "display": null,
            "flex": null,
            "flex_flow": null,
            "grid_area": null,
            "grid_auto_columns": null,
            "grid_auto_flow": null,
            "grid_auto_rows": null,
            "grid_column": null,
            "grid_gap": null,
            "grid_row": null,
            "grid_template_areas": null,
            "grid_template_columns": null,
            "grid_template_rows": null,
            "height": null,
            "justify_content": null,
            "justify_items": null,
            "left": null,
            "margin": null,
            "max_height": null,
            "max_width": null,
            "min_height": null,
            "min_width": null,
            "object_fit": null,
            "object_position": null,
            "order": null,
            "overflow": null,
            "overflow_x": null,
            "overflow_y": null,
            "padding": null,
            "right": null,
            "top": null,
            "visibility": null,
            "width": null
          }
        },
        "78a6ea8d52b54572b201d99aa785b17e": {
          "model_module": "@jupyter-widgets/controls",
          "model_name": "DescriptionStyleModel",
          "model_module_version": "1.5.0",
          "state": {
            "_model_module": "@jupyter-widgets/controls",
            "_model_module_version": "1.5.0",
            "_model_name": "DescriptionStyleModel",
            "_view_count": null,
            "_view_module": "@jupyter-widgets/base",
            "_view_module_version": "1.2.0",
            "_view_name": "StyleView",
            "description_width": ""
          }
        },
        "80a299d4590a40c1bed287bf98c665b6": {
          "model_module": "@jupyter-widgets/controls",
          "model_name": "HBoxModel",
          "model_module_version": "1.5.0",
          "state": {
            "_dom_classes": [],
            "_model_module": "@jupyter-widgets/controls",
            "_model_module_version": "1.5.0",
            "_model_name": "HBoxModel",
            "_view_count": null,
            "_view_module": "@jupyter-widgets/controls",
            "_view_module_version": "1.5.0",
            "_view_name": "HBoxView",
            "box_style": "",
            "children": [
              "IPY_MODEL_9ab2286c359e408bb37037ccc1e27bcd",
              "IPY_MODEL_4a68ae3078934ae6891e5f6de0ced3cf",
              "IPY_MODEL_49b36590cc7548fdbd4b8c70124adf2d"
            ],
            "layout": "IPY_MODEL_661d695c3e5849d4b50ce45e0ec9f357"
          }
        },
        "9ab2286c359e408bb37037ccc1e27bcd": {
          "model_module": "@jupyter-widgets/controls",
          "model_name": "HTMLModel",
          "model_module_version": "1.5.0",
          "state": {
            "_dom_classes": [],
            "_model_module": "@jupyter-widgets/controls",
            "_model_module_version": "1.5.0",
            "_model_name": "HTMLModel",
            "_view_count": null,
            "_view_module": "@jupyter-widgets/controls",
            "_view_module_version": "1.5.0",
            "_view_name": "HTMLView",
            "description": "",
            "description_tooltip": null,
            "layout": "IPY_MODEL_d14ad481a1e44279a25259afbcd92526",
            "placeholder": "​",
            "style": "IPY_MODEL_476918c5208b4f6a9c76a3fa29b13f51",
            "value": "Downloading: 100%"
          }
        },
        "4a68ae3078934ae6891e5f6de0ced3cf": {
          "model_module": "@jupyter-widgets/controls",
          "model_name": "FloatProgressModel",
          "model_module_version": "1.5.0",
          "state": {
            "_dom_classes": [],
            "_model_module": "@jupyter-widgets/controls",
            "_model_module_version": "1.5.0",
            "_model_name": "FloatProgressModel",
            "_view_count": null,
            "_view_module": "@jupyter-widgets/controls",
            "_view_module_version": "1.5.0",
            "_view_name": "ProgressView",
            "bar_style": "success",
            "description": "",
            "description_tooltip": null,
            "layout": "IPY_MODEL_b6188dc6258e47ea89d6bf03d0594796",
            "max": 2,
            "min": 0,
            "orientation": "horizontal",
            "style": "IPY_MODEL_1ca662369e704571b3283ac516010fc6",
            "value": 2
          }
        },
        "49b36590cc7548fdbd4b8c70124adf2d": {
          "model_module": "@jupyter-widgets/controls",
          "model_name": "HTMLModel",
          "model_module_version": "1.5.0",
          "state": {
            "_dom_classes": [],
            "_model_module": "@jupyter-widgets/controls",
            "_model_module_version": "1.5.0",
            "_model_name": "HTMLModel",
            "_view_count": null,
            "_view_module": "@jupyter-widgets/controls",
            "_view_module_version": "1.5.0",
            "_view_name": "HTMLView",
            "description": "",
            "description_tooltip": null,
            "layout": "IPY_MODEL_fd228cfa68cf4e9b879cfd97e6079682",
            "placeholder": "​",
            "style": "IPY_MODEL_e7f25508b6ff41f28ec46ad4103c9260",
            "value": " 2.00/2.00 [00:00&lt;00:00, 58.5B/s]"
          }
        },
        "661d695c3e5849d4b50ce45e0ec9f357": {
          "model_module": "@jupyter-widgets/base",
          "model_name": "LayoutModel",
          "model_module_version": "1.2.0",
          "state": {
            "_model_module": "@jupyter-widgets/base",
            "_model_module_version": "1.2.0",
            "_model_name": "LayoutModel",
            "_view_count": null,
            "_view_module": "@jupyter-widgets/base",
            "_view_module_version": "1.2.0",
            "_view_name": "LayoutView",
            "align_content": null,
            "align_items": null,
            "align_self": null,
            "border": null,
            "bottom": null,
            "display": null,
            "flex": null,
            "flex_flow": null,
            "grid_area": null,
            "grid_auto_columns": null,
            "grid_auto_flow": null,
            "grid_auto_rows": null,
            "grid_column": null,
            "grid_gap": null,
            "grid_row": null,
            "grid_template_areas": null,
            "grid_template_columns": null,
            "grid_template_rows": null,
            "height": null,
            "justify_content": null,
            "justify_items": null,
            "left": null,
            "margin": null,
            "max_height": null,
            "max_width": null,
            "min_height": null,
            "min_width": null,
            "object_fit": null,
            "object_position": null,
            "order": null,
            "overflow": null,
            "overflow_x": null,
            "overflow_y": null,
            "padding": null,
            "right": null,
            "top": null,
            "visibility": null,
            "width": null
          }
        },
        "d14ad481a1e44279a25259afbcd92526": {
          "model_module": "@jupyter-widgets/base",
          "model_name": "LayoutModel",
          "model_module_version": "1.2.0",
          "state": {
            "_model_module": "@jupyter-widgets/base",
            "_model_module_version": "1.2.0",
            "_model_name": "LayoutModel",
            "_view_count": null,
            "_view_module": "@jupyter-widgets/base",
            "_view_module_version": "1.2.0",
            "_view_name": "LayoutView",
            "align_content": null,
            "align_items": null,
            "align_self": null,
            "border": null,
            "bottom": null,
            "display": null,
            "flex": null,
            "flex_flow": null,
            "grid_area": null,
            "grid_auto_columns": null,
            "grid_auto_flow": null,
            "grid_auto_rows": null,
            "grid_column": null,
            "grid_gap": null,
            "grid_row": null,
            "grid_template_areas": null,
            "grid_template_columns": null,
            "grid_template_rows": null,
            "height": null,
            "justify_content": null,
            "justify_items": null,
            "left": null,
            "margin": null,
            "max_height": null,
            "max_width": null,
            "min_height": null,
            "min_width": null,
            "object_fit": null,
            "object_position": null,
            "order": null,
            "overflow": null,
            "overflow_x": null,
            "overflow_y": null,
            "padding": null,
            "right": null,
            "top": null,
            "visibility": null,
            "width": null
          }
        },
        "476918c5208b4f6a9c76a3fa29b13f51": {
          "model_module": "@jupyter-widgets/controls",
          "model_name": "DescriptionStyleModel",
          "model_module_version": "1.5.0",
          "state": {
            "_model_module": "@jupyter-widgets/controls",
            "_model_module_version": "1.5.0",
            "_model_name": "DescriptionStyleModel",
            "_view_count": null,
            "_view_module": "@jupyter-widgets/base",
            "_view_module_version": "1.2.0",
            "_view_name": "StyleView",
            "description_width": ""
          }
        },
        "b6188dc6258e47ea89d6bf03d0594796": {
          "model_module": "@jupyter-widgets/base",
          "model_name": "LayoutModel",
          "model_module_version": "1.2.0",
          "state": {
            "_model_module": "@jupyter-widgets/base",
            "_model_module_version": "1.2.0",
            "_model_name": "LayoutModel",
            "_view_count": null,
            "_view_module": "@jupyter-widgets/base",
            "_view_module_version": "1.2.0",
            "_view_name": "LayoutView",
            "align_content": null,
            "align_items": null,
            "align_self": null,
            "border": null,
            "bottom": null,
            "display": null,
            "flex": null,
            "flex_flow": null,
            "grid_area": null,
            "grid_auto_columns": null,
            "grid_auto_flow": null,
            "grid_auto_rows": null,
            "grid_column": null,
            "grid_gap": null,
            "grid_row": null,
            "grid_template_areas": null,
            "grid_template_columns": null,
            "grid_template_rows": null,
            "height": null,
            "justify_content": null,
            "justify_items": null,
            "left": null,
            "margin": null,
            "max_height": null,
            "max_width": null,
            "min_height": null,
            "min_width": null,
            "object_fit": null,
            "object_position": null,
            "order": null,
            "overflow": null,
            "overflow_x": null,
            "overflow_y": null,
            "padding": null,
            "right": null,
            "top": null,
            "visibility": null,
            "width": null
          }
        },
        "1ca662369e704571b3283ac516010fc6": {
          "model_module": "@jupyter-widgets/controls",
          "model_name": "ProgressStyleModel",
          "model_module_version": "1.5.0",
          "state": {
            "_model_module": "@jupyter-widgets/controls",
            "_model_module_version": "1.5.0",
            "_model_name": "ProgressStyleModel",
            "_view_count": null,
            "_view_module": "@jupyter-widgets/base",
            "_view_module_version": "1.2.0",
            "_view_name": "StyleView",
            "bar_color": null,
            "description_width": ""
          }
        },
        "fd228cfa68cf4e9b879cfd97e6079682": {
          "model_module": "@jupyter-widgets/base",
          "model_name": "LayoutModel",
          "model_module_version": "1.2.0",
          "state": {
            "_model_module": "@jupyter-widgets/base",
            "_model_module_version": "1.2.0",
            "_model_name": "LayoutModel",
            "_view_count": null,
            "_view_module": "@jupyter-widgets/base",
            "_view_module_version": "1.2.0",
            "_view_name": "LayoutView",
            "align_content": null,
            "align_items": null,
            "align_self": null,
            "border": null,
            "bottom": null,
            "display": null,
            "flex": null,
            "flex_flow": null,
            "grid_area": null,
            "grid_auto_columns": null,
            "grid_auto_flow": null,
            "grid_auto_rows": null,
            "grid_column": null,
            "grid_gap": null,
            "grid_row": null,
            "grid_template_areas": null,
            "grid_template_columns": null,
            "grid_template_rows": null,
            "height": null,
            "justify_content": null,
            "justify_items": null,
            "left": null,
            "margin": null,
            "max_height": null,
            "max_width": null,
            "min_height": null,
            "min_width": null,
            "object_fit": null,
            "object_position": null,
            "order": null,
            "overflow": null,
            "overflow_x": null,
            "overflow_y": null,
            "padding": null,
            "right": null,
            "top": null,
            "visibility": null,
            "width": null
          }
        },
        "e7f25508b6ff41f28ec46ad4103c9260": {
          "model_module": "@jupyter-widgets/controls",
          "model_name": "DescriptionStyleModel",
          "model_module_version": "1.5.0",
          "state": {
            "_model_module": "@jupyter-widgets/controls",
            "_model_module_version": "1.5.0",
            "_model_name": "DescriptionStyleModel",
            "_view_count": null,
            "_view_module": "@jupyter-widgets/base",
            "_view_module_version": "1.2.0",
            "_view_name": "StyleView",
            "description_width": ""
          }
        },
        "c8bac458a6454245af894bfc8f5dfaab": {
          "model_module": "@jupyter-widgets/controls",
          "model_name": "HBoxModel",
          "model_module_version": "1.5.0",
          "state": {
            "_dom_classes": [],
            "_model_module": "@jupyter-widgets/controls",
            "_model_module_version": "1.5.0",
            "_model_name": "HBoxModel",
            "_view_count": null,
            "_view_module": "@jupyter-widgets/controls",
            "_view_module_version": "1.5.0",
            "_view_name": "HBoxView",
            "box_style": "",
            "children": [
              "IPY_MODEL_92f0e080ab11429a83df3a1ec053a862",
              "IPY_MODEL_6ca0d79f309047fab1379d20692ce2f9",
              "IPY_MODEL_d4007e58362b4490aa0eef8fae027c99"
            ],
            "layout": "IPY_MODEL_355ac887d4314d899cf057595ffca874"
          }
        },
        "92f0e080ab11429a83df3a1ec053a862": {
          "model_module": "@jupyter-widgets/controls",
          "model_name": "HTMLModel",
          "model_module_version": "1.5.0",
          "state": {
            "_dom_classes": [],
            "_model_module": "@jupyter-widgets/controls",
            "_model_module_version": "1.5.0",
            "_model_name": "HTMLModel",
            "_view_count": null,
            "_view_module": "@jupyter-widgets/controls",
            "_view_module_version": "1.5.0",
            "_view_name": "HTMLView",
            "description": "",
            "description_tooltip": null,
            "layout": "IPY_MODEL_44d89038f64346289f466534905b44c1",
            "placeholder": "​",
            "style": "IPY_MODEL_f5e7bd94d13b4bec84d4dd2d23ed5b3d",
            "value": "Downloading: 100%"
          }
        },
        "6ca0d79f309047fab1379d20692ce2f9": {
          "model_module": "@jupyter-widgets/controls",
          "model_name": "FloatProgressModel",
          "model_module_version": "1.5.0",
          "state": {
            "_dom_classes": [],
            "_model_module": "@jupyter-widgets/controls",
            "_model_module_version": "1.5.0",
            "_model_name": "FloatProgressModel",
            "_view_count": null,
            "_view_module": "@jupyter-widgets/controls",
            "_view_module_version": "1.5.0",
            "_view_name": "ProgressView",
            "bar_style": "success",
            "description": "",
            "description_tooltip": null,
            "layout": "IPY_MODEL_4d9c5a89d3bd43fe88329e94d4f12d16",
            "max": 674,
            "min": 0,
            "orientation": "horizontal",
            "style": "IPY_MODEL_be3d9d48274841149a426d079b057a0e",
            "value": 674
          }
        },
        "d4007e58362b4490aa0eef8fae027c99": {
          "model_module": "@jupyter-widgets/controls",
          "model_name": "HTMLModel",
          "model_module_version": "1.5.0",
          "state": {
            "_dom_classes": [],
            "_model_module": "@jupyter-widgets/controls",
            "_model_module_version": "1.5.0",
            "_model_name": "HTMLModel",
            "_view_count": null,
            "_view_module": "@jupyter-widgets/controls",
            "_view_module_version": "1.5.0",
            "_view_name": "HTMLView",
            "description": "",
            "description_tooltip": null,
            "layout": "IPY_MODEL_23c6b258fadb44628e2d41e189c3aa06",
            "placeholder": "​",
            "style": "IPY_MODEL_dcf29e6a30a24eaba777d170cea81a9b",
            "value": " 674/674 [00:00&lt;00:00, 19.3kB/s]"
          }
        },
        "355ac887d4314d899cf057595ffca874": {
          "model_module": "@jupyter-widgets/base",
          "model_name": "LayoutModel",
          "model_module_version": "1.2.0",
          "state": {
            "_model_module": "@jupyter-widgets/base",
            "_model_module_version": "1.2.0",
            "_model_name": "LayoutModel",
            "_view_count": null,
            "_view_module": "@jupyter-widgets/base",
            "_view_module_version": "1.2.0",
            "_view_name": "LayoutView",
            "align_content": null,
            "align_items": null,
            "align_self": null,
            "border": null,
            "bottom": null,
            "display": null,
            "flex": null,
            "flex_flow": null,
            "grid_area": null,
            "grid_auto_columns": null,
            "grid_auto_flow": null,
            "grid_auto_rows": null,
            "grid_column": null,
            "grid_gap": null,
            "grid_row": null,
            "grid_template_areas": null,
            "grid_template_columns": null,
            "grid_template_rows": null,
            "height": null,
            "justify_content": null,
            "justify_items": null,
            "left": null,
            "margin": null,
            "max_height": null,
            "max_width": null,
            "min_height": null,
            "min_width": null,
            "object_fit": null,
            "object_position": null,
            "order": null,
            "overflow": null,
            "overflow_x": null,
            "overflow_y": null,
            "padding": null,
            "right": null,
            "top": null,
            "visibility": null,
            "width": null
          }
        },
        "44d89038f64346289f466534905b44c1": {
          "model_module": "@jupyter-widgets/base",
          "model_name": "LayoutModel",
          "model_module_version": "1.2.0",
          "state": {
            "_model_module": "@jupyter-widgets/base",
            "_model_module_version": "1.2.0",
            "_model_name": "LayoutModel",
            "_view_count": null,
            "_view_module": "@jupyter-widgets/base",
            "_view_module_version": "1.2.0",
            "_view_name": "LayoutView",
            "align_content": null,
            "align_items": null,
            "align_self": null,
            "border": null,
            "bottom": null,
            "display": null,
            "flex": null,
            "flex_flow": null,
            "grid_area": null,
            "grid_auto_columns": null,
            "grid_auto_flow": null,
            "grid_auto_rows": null,
            "grid_column": null,
            "grid_gap": null,
            "grid_row": null,
            "grid_template_areas": null,
            "grid_template_columns": null,
            "grid_template_rows": null,
            "height": null,
            "justify_content": null,
            "justify_items": null,
            "left": null,
            "margin": null,
            "max_height": null,
            "max_width": null,
            "min_height": null,
            "min_width": null,
            "object_fit": null,
            "object_position": null,
            "order": null,
            "overflow": null,
            "overflow_x": null,
            "overflow_y": null,
            "padding": null,
            "right": null,
            "top": null,
            "visibility": null,
            "width": null
          }
        },
        "f5e7bd94d13b4bec84d4dd2d23ed5b3d": {
          "model_module": "@jupyter-widgets/controls",
          "model_name": "DescriptionStyleModel",
          "model_module_version": "1.5.0",
          "state": {
            "_model_module": "@jupyter-widgets/controls",
            "_model_module_version": "1.5.0",
            "_model_name": "DescriptionStyleModel",
            "_view_count": null,
            "_view_module": "@jupyter-widgets/base",
            "_view_module_version": "1.2.0",
            "_view_name": "StyleView",
            "description_width": ""
          }
        },
        "4d9c5a89d3bd43fe88329e94d4f12d16": {
          "model_module": "@jupyter-widgets/base",
          "model_name": "LayoutModel",
          "model_module_version": "1.2.0",
          "state": {
            "_model_module": "@jupyter-widgets/base",
            "_model_module_version": "1.2.0",
            "_model_name": "LayoutModel",
            "_view_count": null,
            "_view_module": "@jupyter-widgets/base",
            "_view_module_version": "1.2.0",
            "_view_name": "LayoutView",
            "align_content": null,
            "align_items": null,
            "align_self": null,
            "border": null,
            "bottom": null,
            "display": null,
            "flex": null,
            "flex_flow": null,
            "grid_area": null,
            "grid_auto_columns": null,
            "grid_auto_flow": null,
            "grid_auto_rows": null,
            "grid_column": null,
            "grid_gap": null,
            "grid_row": null,
            "grid_template_areas": null,
            "grid_template_columns": null,
            "grid_template_rows": null,
            "height": null,
            "justify_content": null,
            "justify_items": null,
            "left": null,
            "margin": null,
            "max_height": null,
            "max_width": null,
            "min_height": null,
            "min_width": null,
            "object_fit": null,
            "object_position": null,
            "order": null,
            "overflow": null,
            "overflow_x": null,
            "overflow_y": null,
            "padding": null,
            "right": null,
            "top": null,
            "visibility": null,
            "width": null
          }
        },
        "be3d9d48274841149a426d079b057a0e": {
          "model_module": "@jupyter-widgets/controls",
          "model_name": "ProgressStyleModel",
          "model_module_version": "1.5.0",
          "state": {
            "_model_module": "@jupyter-widgets/controls",
            "_model_module_version": "1.5.0",
            "_model_name": "ProgressStyleModel",
            "_view_count": null,
            "_view_module": "@jupyter-widgets/base",
            "_view_module_version": "1.2.0",
            "_view_name": "StyleView",
            "bar_color": null,
            "description_width": ""
          }
        },
        "23c6b258fadb44628e2d41e189c3aa06": {
          "model_module": "@jupyter-widgets/base",
          "model_name": "LayoutModel",
          "model_module_version": "1.2.0",
          "state": {
            "_model_module": "@jupyter-widgets/base",
            "_model_module_version": "1.2.0",
            "_model_name": "LayoutModel",
            "_view_count": null,
            "_view_module": "@jupyter-widgets/base",
            "_view_module_version": "1.2.0",
            "_view_name": "LayoutView",
            "align_content": null,
            "align_items": null,
            "align_self": null,
            "border": null,
            "bottom": null,
            "display": null,
            "flex": null,
            "flex_flow": null,
            "grid_area": null,
            "grid_auto_columns": null,
            "grid_auto_flow": null,
            "grid_auto_rows": null,
            "grid_column": null,
            "grid_gap": null,
            "grid_row": null,
            "grid_template_areas": null,
            "grid_template_columns": null,
            "grid_template_rows": null,
            "height": null,
            "justify_content": null,
            "justify_items": null,
            "left": null,
            "margin": null,
            "max_height": null,
            "max_width": null,
            "min_height": null,
            "min_width": null,
            "object_fit": null,
            "object_position": null,
            "order": null,
            "overflow": null,
            "overflow_x": null,
            "overflow_y": null,
            "padding": null,
            "right": null,
            "top": null,
            "visibility": null,
            "width": null
          }
        },
        "dcf29e6a30a24eaba777d170cea81a9b": {
          "model_module": "@jupyter-widgets/controls",
          "model_name": "DescriptionStyleModel",
          "model_module_version": "1.5.0",
          "state": {
            "_model_module": "@jupyter-widgets/controls",
            "_model_module_version": "1.5.0",
            "_model_name": "DescriptionStyleModel",
            "_view_count": null,
            "_view_module": "@jupyter-widgets/base",
            "_view_module_version": "1.2.0",
            "_view_name": "StyleView",
            "description_width": ""
          }
        },
        "80ca674a1d994ac5a863850634d6bd1f": {
          "model_module": "@jupyter-widgets/controls",
          "model_name": "HBoxModel",
          "model_module_version": "1.5.0",
          "state": {
            "_dom_classes": [],
            "_model_module": "@jupyter-widgets/controls",
            "_model_module_version": "1.5.0",
            "_model_name": "HBoxModel",
            "_view_count": null,
            "_view_module": "@jupyter-widgets/controls",
            "_view_module_version": "1.5.0",
            "_view_name": "HBoxView",
            "box_style": "",
            "children": [
              "IPY_MODEL_3617069d0cf14ab48163475fe4fa0e04",
              "IPY_MODEL_f81fc9e37f80436189b439f05f900d81",
              "IPY_MODEL_0b5ade70e1fb4029a99dd732907e9456"
            ],
            "layout": "IPY_MODEL_3aa70ef795024214b6ed04a22b3afb74"
          }
        },
        "3617069d0cf14ab48163475fe4fa0e04": {
          "model_module": "@jupyter-widgets/controls",
          "model_name": "HTMLModel",
          "model_module_version": "1.5.0",
          "state": {
            "_dom_classes": [],
            "_model_module": "@jupyter-widgets/controls",
            "_model_module_version": "1.5.0",
            "_model_name": "HTMLModel",
            "_view_count": null,
            "_view_module": "@jupyter-widgets/controls",
            "_view_module_version": "1.5.0",
            "_view_name": "HTMLView",
            "description": "",
            "description_tooltip": null,
            "layout": "IPY_MODEL_fbb2dfc1f3774764a9d2e0c5c532352f",
            "placeholder": "​",
            "style": "IPY_MODEL_05982b163585450ab43290dfbc257379",
            "value": "Downloading: 100%"
          }
        },
        "f81fc9e37f80436189b439f05f900d81": {
          "model_module": "@jupyter-widgets/controls",
          "model_name": "FloatProgressModel",
          "model_module_version": "1.5.0",
          "state": {
            "_dom_classes": [],
            "_model_module": "@jupyter-widgets/controls",
            "_model_module_version": "1.5.0",
            "_model_name": "FloatProgressModel",
            "_view_count": null,
            "_view_module": "@jupyter-widgets/controls",
            "_view_module_version": "1.5.0",
            "_view_name": "ProgressView",
            "bar_style": "success",
            "description": "",
            "description_tooltip": null,
            "layout": "IPY_MODEL_532130246920443da6af2eeaf64655ff",
            "max": 122,
            "min": 0,
            "orientation": "horizontal",
            "style": "IPY_MODEL_c6a9d1b9d81d4a38888420231c927c92",
            "value": 122
          }
        },
        "0b5ade70e1fb4029a99dd732907e9456": {
          "model_module": "@jupyter-widgets/controls",
          "model_name": "HTMLModel",
          "model_module_version": "1.5.0",
          "state": {
            "_dom_classes": [],
            "_model_module": "@jupyter-widgets/controls",
            "_model_module_version": "1.5.0",
            "_model_name": "HTMLModel",
            "_view_count": null,
            "_view_module": "@jupyter-widgets/controls",
            "_view_module_version": "1.5.0",
            "_view_name": "HTMLView",
            "description": "",
            "description_tooltip": null,
            "layout": "IPY_MODEL_0ef4b5c6f1c14c2d98f66a1ad301b81a",
            "placeholder": "​",
            "style": "IPY_MODEL_9e02f5e8b3014d0384cffb21c275e247",
            "value": " 122/122 [00:00&lt;00:00, 3.90kB/s]"
          }
        },
        "3aa70ef795024214b6ed04a22b3afb74": {
          "model_module": "@jupyter-widgets/base",
          "model_name": "LayoutModel",
          "model_module_version": "1.2.0",
          "state": {
            "_model_module": "@jupyter-widgets/base",
            "_model_module_version": "1.2.0",
            "_model_name": "LayoutModel",
            "_view_count": null,
            "_view_module": "@jupyter-widgets/base",
            "_view_module_version": "1.2.0",
            "_view_name": "LayoutView",
            "align_content": null,
            "align_items": null,
            "align_self": null,
            "border": null,
            "bottom": null,
            "display": null,
            "flex": null,
            "flex_flow": null,
            "grid_area": null,
            "grid_auto_columns": null,
            "grid_auto_flow": null,
            "grid_auto_rows": null,
            "grid_column": null,
            "grid_gap": null,
            "grid_row": null,
            "grid_template_areas": null,
            "grid_template_columns": null,
            "grid_template_rows": null,
            "height": null,
            "justify_content": null,
            "justify_items": null,
            "left": null,
            "margin": null,
            "max_height": null,
            "max_width": null,
            "min_height": null,
            "min_width": null,
            "object_fit": null,
            "object_position": null,
            "order": null,
            "overflow": null,
            "overflow_x": null,
            "overflow_y": null,
            "padding": null,
            "right": null,
            "top": null,
            "visibility": null,
            "width": null
          }
        },
        "fbb2dfc1f3774764a9d2e0c5c532352f": {
          "model_module": "@jupyter-widgets/base",
          "model_name": "LayoutModel",
          "model_module_version": "1.2.0",
          "state": {
            "_model_module": "@jupyter-widgets/base",
            "_model_module_version": "1.2.0",
            "_model_name": "LayoutModel",
            "_view_count": null,
            "_view_module": "@jupyter-widgets/base",
            "_view_module_version": "1.2.0",
            "_view_name": "LayoutView",
            "align_content": null,
            "align_items": null,
            "align_self": null,
            "border": null,
            "bottom": null,
            "display": null,
            "flex": null,
            "flex_flow": null,
            "grid_area": null,
            "grid_auto_columns": null,
            "grid_auto_flow": null,
            "grid_auto_rows": null,
            "grid_column": null,
            "grid_gap": null,
            "grid_row": null,
            "grid_template_areas": null,
            "grid_template_columns": null,
            "grid_template_rows": null,
            "height": null,
            "justify_content": null,
            "justify_items": null,
            "left": null,
            "margin": null,
            "max_height": null,
            "max_width": null,
            "min_height": null,
            "min_width": null,
            "object_fit": null,
            "object_position": null,
            "order": null,
            "overflow": null,
            "overflow_x": null,
            "overflow_y": null,
            "padding": null,
            "right": null,
            "top": null,
            "visibility": null,
            "width": null
          }
        },
        "05982b163585450ab43290dfbc257379": {
          "model_module": "@jupyter-widgets/controls",
          "model_name": "DescriptionStyleModel",
          "model_module_version": "1.5.0",
          "state": {
            "_model_module": "@jupyter-widgets/controls",
            "_model_module_version": "1.5.0",
            "_model_name": "DescriptionStyleModel",
            "_view_count": null,
            "_view_module": "@jupyter-widgets/base",
            "_view_module_version": "1.2.0",
            "_view_name": "StyleView",
            "description_width": ""
          }
        },
        "532130246920443da6af2eeaf64655ff": {
          "model_module": "@jupyter-widgets/base",
          "model_name": "LayoutModel",
          "model_module_version": "1.2.0",
          "state": {
            "_model_module": "@jupyter-widgets/base",
            "_model_module_version": "1.2.0",
            "_model_name": "LayoutModel",
            "_view_count": null,
            "_view_module": "@jupyter-widgets/base",
            "_view_module_version": "1.2.0",
            "_view_name": "LayoutView",
            "align_content": null,
            "align_items": null,
            "align_self": null,
            "border": null,
            "bottom": null,
            "display": null,
            "flex": null,
            "flex_flow": null,
            "grid_area": null,
            "grid_auto_columns": null,
            "grid_auto_flow": null,
            "grid_auto_rows": null,
            "grid_column": null,
            "grid_gap": null,
            "grid_row": null,
            "grid_template_areas": null,
            "grid_template_columns": null,
            "grid_template_rows": null,
            "height": null,
            "justify_content": null,
            "justify_items": null,
            "left": null,
            "margin": null,
            "max_height": null,
            "max_width": null,
            "min_height": null,
            "min_width": null,
            "object_fit": null,
            "object_position": null,
            "order": null,
            "overflow": null,
            "overflow_x": null,
            "overflow_y": null,
            "padding": null,
            "right": null,
            "top": null,
            "visibility": null,
            "width": null
          }
        },
        "c6a9d1b9d81d4a38888420231c927c92": {
          "model_module": "@jupyter-widgets/controls",
          "model_name": "ProgressStyleModel",
          "model_module_version": "1.5.0",
          "state": {
            "_model_module": "@jupyter-widgets/controls",
            "_model_module_version": "1.5.0",
            "_model_name": "ProgressStyleModel",
            "_view_count": null,
            "_view_module": "@jupyter-widgets/base",
            "_view_module_version": "1.2.0",
            "_view_name": "StyleView",
            "bar_color": null,
            "description_width": ""
          }
        },
        "0ef4b5c6f1c14c2d98f66a1ad301b81a": {
          "model_module": "@jupyter-widgets/base",
          "model_name": "LayoutModel",
          "model_module_version": "1.2.0",
          "state": {
            "_model_module": "@jupyter-widgets/base",
            "_model_module_version": "1.2.0",
            "_model_name": "LayoutModel",
            "_view_count": null,
            "_view_module": "@jupyter-widgets/base",
            "_view_module_version": "1.2.0",
            "_view_name": "LayoutView",
            "align_content": null,
            "align_items": null,
            "align_self": null,
            "border": null,
            "bottom": null,
            "display": null,
            "flex": null,
            "flex_flow": null,
            "grid_area": null,
            "grid_auto_columns": null,
            "grid_auto_flow": null,
            "grid_auto_rows": null,
            "grid_column": null,
            "grid_gap": null,
            "grid_row": null,
            "grid_template_areas": null,
            "grid_template_columns": null,
            "grid_template_rows": null,
            "height": null,
            "justify_content": null,
            "justify_items": null,
            "left": null,
            "margin": null,
            "max_height": null,
            "max_width": null,
            "min_height": null,
            "min_width": null,
            "object_fit": null,
            "object_position": null,
            "order": null,
            "overflow": null,
            "overflow_x": null,
            "overflow_y": null,
            "padding": null,
            "right": null,
            "top": null,
            "visibility": null,
            "width": null
          }
        },
        "9e02f5e8b3014d0384cffb21c275e247": {
          "model_module": "@jupyter-widgets/controls",
          "model_name": "DescriptionStyleModel",
          "model_module_version": "1.5.0",
          "state": {
            "_model_module": "@jupyter-widgets/controls",
            "_model_module_version": "1.5.0",
            "_model_name": "DescriptionStyleModel",
            "_view_count": null,
            "_view_module": "@jupyter-widgets/base",
            "_view_module_version": "1.2.0",
            "_view_name": "StyleView",
            "description_width": ""
          }
        },
        "fa00313e06434666949b95998b330d5d": {
          "model_module": "@jupyter-widgets/controls",
          "model_name": "HBoxModel",
          "model_module_version": "1.5.0",
          "state": {
            "_dom_classes": [],
            "_model_module": "@jupyter-widgets/controls",
            "_model_module_version": "1.5.0",
            "_model_name": "HBoxModel",
            "_view_count": null,
            "_view_module": "@jupyter-widgets/controls",
            "_view_module_version": "1.5.0",
            "_view_name": "HBoxView",
            "box_style": "",
            "children": [
              "IPY_MODEL_70453cdc48354ae9b6cf405cf96384c7",
              "IPY_MODEL_c79cbaea284a4ddcb7ec62b4ec9984cc",
              "IPY_MODEL_3c43cf5dd5d54ff68fb7ed2cac02dbf7"
            ],
            "layout": "IPY_MODEL_7b0c90669a0c4c0cb5627a74c371f4c8"
          }
        },
        "70453cdc48354ae9b6cf405cf96384c7": {
          "model_module": "@jupyter-widgets/controls",
          "model_name": "HTMLModel",
          "model_module_version": "1.5.0",
          "state": {
            "_dom_classes": [],
            "_model_module": "@jupyter-widgets/controls",
            "_model_module_version": "1.5.0",
            "_model_name": "HTMLModel",
            "_view_count": null,
            "_view_module": "@jupyter-widgets/controls",
            "_view_module_version": "1.5.0",
            "_view_name": "HTMLView",
            "description": "",
            "description_tooltip": null,
            "layout": "IPY_MODEL_fed9eaa31b784c4994cebf59dddc1ea4",
            "placeholder": "​",
            "style": "IPY_MODEL_0172d5ce30fa4470ba86c7c5326bc587",
            "value": "Downloading: 100%"
          }
        },
        "c79cbaea284a4ddcb7ec62b4ec9984cc": {
          "model_module": "@jupyter-widgets/controls",
          "model_name": "FloatProgressModel",
          "model_module_version": "1.5.0",
          "state": {
            "_dom_classes": [],
            "_model_module": "@jupyter-widgets/controls",
            "_model_module_version": "1.5.0",
            "_model_name": "FloatProgressModel",
            "_view_count": null,
            "_view_module": "@jupyter-widgets/controls",
            "_view_module_version": "1.5.0",
            "_view_name": "ProgressView",
            "bar_style": "success",
            "description": "",
            "description_tooltip": null,
            "layout": "IPY_MODEL_45d8693aec7149649f2d400e543632ec",
            "max": 456356,
            "min": 0,
            "orientation": "horizontal",
            "style": "IPY_MODEL_0a579d067fbc4a7ab0ee7d6344ba7901",
            "value": 456356
          }
        },
        "3c43cf5dd5d54ff68fb7ed2cac02dbf7": {
          "model_module": "@jupyter-widgets/controls",
          "model_name": "HTMLModel",
          "model_module_version": "1.5.0",
          "state": {
            "_dom_classes": [],
            "_model_module": "@jupyter-widgets/controls",
            "_model_module_version": "1.5.0",
            "_model_name": "HTMLModel",
            "_view_count": null,
            "_view_module": "@jupyter-widgets/controls",
            "_view_module_version": "1.5.0",
            "_view_name": "HTMLView",
            "description": "",
            "description_tooltip": null,
            "layout": "IPY_MODEL_c894dff2333f4ddb8178db874e150d2d",
            "placeholder": "​",
            "style": "IPY_MODEL_305b5b39423c45478ebc1327f14701c5",
            "value": " 456k/456k [00:01&lt;00:00, 540kB/s]"
          }
        },
        "7b0c90669a0c4c0cb5627a74c371f4c8": {
          "model_module": "@jupyter-widgets/base",
          "model_name": "LayoutModel",
          "model_module_version": "1.2.0",
          "state": {
            "_model_module": "@jupyter-widgets/base",
            "_model_module_version": "1.2.0",
            "_model_name": "LayoutModel",
            "_view_count": null,
            "_view_module": "@jupyter-widgets/base",
            "_view_module_version": "1.2.0",
            "_view_name": "LayoutView",
            "align_content": null,
            "align_items": null,
            "align_self": null,
            "border": null,
            "bottom": null,
            "display": null,
            "flex": null,
            "flex_flow": null,
            "grid_area": null,
            "grid_auto_columns": null,
            "grid_auto_flow": null,
            "grid_auto_rows": null,
            "grid_column": null,
            "grid_gap": null,
            "grid_row": null,
            "grid_template_areas": null,
            "grid_template_columns": null,
            "grid_template_rows": null,
            "height": null,
            "justify_content": null,
            "justify_items": null,
            "left": null,
            "margin": null,
            "max_height": null,
            "max_width": null,
            "min_height": null,
            "min_width": null,
            "object_fit": null,
            "object_position": null,
            "order": null,
            "overflow": null,
            "overflow_x": null,
            "overflow_y": null,
            "padding": null,
            "right": null,
            "top": null,
            "visibility": null,
            "width": null
          }
        },
        "fed9eaa31b784c4994cebf59dddc1ea4": {
          "model_module": "@jupyter-widgets/base",
          "model_name": "LayoutModel",
          "model_module_version": "1.2.0",
          "state": {
            "_model_module": "@jupyter-widgets/base",
            "_model_module_version": "1.2.0",
            "_model_name": "LayoutModel",
            "_view_count": null,
            "_view_module": "@jupyter-widgets/base",
            "_view_module_version": "1.2.0",
            "_view_name": "LayoutView",
            "align_content": null,
            "align_items": null,
            "align_self": null,
            "border": null,
            "bottom": null,
            "display": null,
            "flex": null,
            "flex_flow": null,
            "grid_area": null,
            "grid_auto_columns": null,
            "grid_auto_flow": null,
            "grid_auto_rows": null,
            "grid_column": null,
            "grid_gap": null,
            "grid_row": null,
            "grid_template_areas": null,
            "grid_template_columns": null,
            "grid_template_rows": null,
            "height": null,
            "justify_content": null,
            "justify_items": null,
            "left": null,
            "margin": null,
            "max_height": null,
            "max_width": null,
            "min_height": null,
            "min_width": null,
            "object_fit": null,
            "object_position": null,
            "order": null,
            "overflow": null,
            "overflow_x": null,
            "overflow_y": null,
            "padding": null,
            "right": null,
            "top": null,
            "visibility": null,
            "width": null
          }
        },
        "0172d5ce30fa4470ba86c7c5326bc587": {
          "model_module": "@jupyter-widgets/controls",
          "model_name": "DescriptionStyleModel",
          "model_module_version": "1.5.0",
          "state": {
            "_model_module": "@jupyter-widgets/controls",
            "_model_module_version": "1.5.0",
            "_model_name": "DescriptionStyleModel",
            "_view_count": null,
            "_view_module": "@jupyter-widgets/base",
            "_view_module_version": "1.2.0",
            "_view_name": "StyleView",
            "description_width": ""
          }
        },
        "45d8693aec7149649f2d400e543632ec": {
          "model_module": "@jupyter-widgets/base",
          "model_name": "LayoutModel",
          "model_module_version": "1.2.0",
          "state": {
            "_model_module": "@jupyter-widgets/base",
            "_model_module_version": "1.2.0",
            "_model_name": "LayoutModel",
            "_view_count": null,
            "_view_module": "@jupyter-widgets/base",
            "_view_module_version": "1.2.0",
            "_view_name": "LayoutView",
            "align_content": null,
            "align_items": null,
            "align_self": null,
            "border": null,
            "bottom": null,
            "display": null,
            "flex": null,
            "flex_flow": null,
            "grid_area": null,
            "grid_auto_columns": null,
            "grid_auto_flow": null,
            "grid_auto_rows": null,
            "grid_column": null,
            "grid_gap": null,
            "grid_row": null,
            "grid_template_areas": null,
            "grid_template_columns": null,
            "grid_template_rows": null,
            "height": null,
            "justify_content": null,
            "justify_items": null,
            "left": null,
            "margin": null,
            "max_height": null,
            "max_width": null,
            "min_height": null,
            "min_width": null,
            "object_fit": null,
            "object_position": null,
            "order": null,
            "overflow": null,
            "overflow_x": null,
            "overflow_y": null,
            "padding": null,
            "right": null,
            "top": null,
            "visibility": null,
            "width": null
          }
        },
        "0a579d067fbc4a7ab0ee7d6344ba7901": {
          "model_module": "@jupyter-widgets/controls",
          "model_name": "ProgressStyleModel",
          "model_module_version": "1.5.0",
          "state": {
            "_model_module": "@jupyter-widgets/controls",
            "_model_module_version": "1.5.0",
            "_model_name": "ProgressStyleModel",
            "_view_count": null,
            "_view_module": "@jupyter-widgets/base",
            "_view_module_version": "1.2.0",
            "_view_name": "StyleView",
            "bar_color": null,
            "description_width": ""
          }
        },
        "c894dff2333f4ddb8178db874e150d2d": {
          "model_module": "@jupyter-widgets/base",
          "model_name": "LayoutModel",
          "model_module_version": "1.2.0",
          "state": {
            "_model_module": "@jupyter-widgets/base",
            "_model_module_version": "1.2.0",
            "_model_name": "LayoutModel",
            "_view_count": null,
            "_view_module": "@jupyter-widgets/base",
            "_view_module_version": "1.2.0",
            "_view_name": "LayoutView",
            "align_content": null,
            "align_items": null,
            "align_self": null,
            "border": null,
            "bottom": null,
            "display": null,
            "flex": null,
            "flex_flow": null,
            "grid_area": null,
            "grid_auto_columns": null,
            "grid_auto_flow": null,
            "grid_auto_rows": null,
            "grid_column": null,
            "grid_gap": null,
            "grid_row": null,
            "grid_template_areas": null,
            "grid_template_columns": null,
            "grid_template_rows": null,
            "height": null,
            "justify_content": null,
            "justify_items": null,
            "left": null,
            "margin": null,
            "max_height": null,
            "max_width": null,
            "min_height": null,
            "min_width": null,
            "object_fit": null,
            "object_position": null,
            "order": null,
            "overflow": null,
            "overflow_x": null,
            "overflow_y": null,
            "padding": null,
            "right": null,
            "top": null,
            "visibility": null,
            "width": null
          }
        },
        "305b5b39423c45478ebc1327f14701c5": {
          "model_module": "@jupyter-widgets/controls",
          "model_name": "DescriptionStyleModel",
          "model_module_version": "1.5.0",
          "state": {
            "_model_module": "@jupyter-widgets/controls",
            "_model_module_version": "1.5.0",
            "_model_name": "DescriptionStyleModel",
            "_view_count": null,
            "_view_module": "@jupyter-widgets/base",
            "_view_module_version": "1.2.0",
            "_view_name": "StyleView",
            "description_width": ""
          }
        },
        "512111d6fccf477183556e44bbb07d17": {
          "model_module": "@jupyter-widgets/controls",
          "model_name": "HBoxModel",
          "model_module_version": "1.5.0",
          "state": {
            "_dom_classes": [],
            "_model_module": "@jupyter-widgets/controls",
            "_model_module_version": "1.5.0",
            "_model_name": "HBoxModel",
            "_view_count": null,
            "_view_module": "@jupyter-widgets/controls",
            "_view_module_version": "1.5.0",
            "_view_name": "HBoxView",
            "box_style": "",
            "children": [
              "IPY_MODEL_bc4413339b1e47df91b26a180dd59d1a",
              "IPY_MODEL_8d97981ef7a44d9bab0fbd052a66a1a3",
              "IPY_MODEL_58893ef6ee89492ea26b8beb8ea2c612"
            ],
            "layout": "IPY_MODEL_c9874f0f10e24bbbb538f8f6f4ea1853"
          }
        },
        "bc4413339b1e47df91b26a180dd59d1a": {
          "model_module": "@jupyter-widgets/controls",
          "model_name": "HTMLModel",
          "model_module_version": "1.5.0",
          "state": {
            "_dom_classes": [],
            "_model_module": "@jupyter-widgets/controls",
            "_model_module_version": "1.5.0",
            "_model_name": "HTMLModel",
            "_view_count": null,
            "_view_module": "@jupyter-widgets/controls",
            "_view_module_version": "1.5.0",
            "_view_name": "HTMLView",
            "description": "",
            "description_tooltip": null,
            "layout": "IPY_MODEL_7b7f77eff0d0483e975c239b78ff7c2a",
            "placeholder": "​",
            "style": "IPY_MODEL_ce814c9222cd4d42b2d49d1775f965cf",
            "value": "Downloading: 100%"
          }
        },
        "8d97981ef7a44d9bab0fbd052a66a1a3": {
          "model_module": "@jupyter-widgets/controls",
          "model_name": "FloatProgressModel",
          "model_module_version": "1.5.0",
          "state": {
            "_dom_classes": [],
            "_model_module": "@jupyter-widgets/controls",
            "_model_module_version": "1.5.0",
            "_model_name": "FloatProgressModel",
            "_view_count": null,
            "_view_module": "@jupyter-widgets/controls",
            "_view_module_version": "1.5.0",
            "_view_name": "ProgressView",
            "bar_style": "success",
            "description": "",
            "description_tooltip": null,
            "layout": "IPY_MODEL_1f2d4977c2c74091bce04ba9b4dd900c",
            "max": 229,
            "min": 0,
            "orientation": "horizontal",
            "style": "IPY_MODEL_cd1177bd0e6e4e02aef12f1d1e29ae83",
            "value": 229
          }
        },
        "58893ef6ee89492ea26b8beb8ea2c612": {
          "model_module": "@jupyter-widgets/controls",
          "model_name": "HTMLModel",
          "model_module_version": "1.5.0",
          "state": {
            "_dom_classes": [],
            "_model_module": "@jupyter-widgets/controls",
            "_model_module_version": "1.5.0",
            "_model_name": "HTMLModel",
            "_view_count": null,
            "_view_module": "@jupyter-widgets/controls",
            "_view_module_version": "1.5.0",
            "_view_name": "HTMLView",
            "description": "",
            "description_tooltip": null,
            "layout": "IPY_MODEL_4d706ef37b9449999c949b2ad133a738",
            "placeholder": "​",
            "style": "IPY_MODEL_eec616f2be0f4e09b3696473af711fde",
            "value": " 229/229 [00:00&lt;00:00, 7.17kB/s]"
          }
        },
        "c9874f0f10e24bbbb538f8f6f4ea1853": {
          "model_module": "@jupyter-widgets/base",
          "model_name": "LayoutModel",
          "model_module_version": "1.2.0",
          "state": {
            "_model_module": "@jupyter-widgets/base",
            "_model_module_version": "1.2.0",
            "_model_name": "LayoutModel",
            "_view_count": null,
            "_view_module": "@jupyter-widgets/base",
            "_view_module_version": "1.2.0",
            "_view_name": "LayoutView",
            "align_content": null,
            "align_items": null,
            "align_self": null,
            "border": null,
            "bottom": null,
            "display": null,
            "flex": null,
            "flex_flow": null,
            "grid_area": null,
            "grid_auto_columns": null,
            "grid_auto_flow": null,
            "grid_auto_rows": null,
            "grid_column": null,
            "grid_gap": null,
            "grid_row": null,
            "grid_template_areas": null,
            "grid_template_columns": null,
            "grid_template_rows": null,
            "height": null,
            "justify_content": null,
            "justify_items": null,
            "left": null,
            "margin": null,
            "max_height": null,
            "max_width": null,
            "min_height": null,
            "min_width": null,
            "object_fit": null,
            "object_position": null,
            "order": null,
            "overflow": null,
            "overflow_x": null,
            "overflow_y": null,
            "padding": null,
            "right": null,
            "top": null,
            "visibility": null,
            "width": null
          }
        },
        "7b7f77eff0d0483e975c239b78ff7c2a": {
          "model_module": "@jupyter-widgets/base",
          "model_name": "LayoutModel",
          "model_module_version": "1.2.0",
          "state": {
            "_model_module": "@jupyter-widgets/base",
            "_model_module_version": "1.2.0",
            "_model_name": "LayoutModel",
            "_view_count": null,
            "_view_module": "@jupyter-widgets/base",
            "_view_module_version": "1.2.0",
            "_view_name": "LayoutView",
            "align_content": null,
            "align_items": null,
            "align_self": null,
            "border": null,
            "bottom": null,
            "display": null,
            "flex": null,
            "flex_flow": null,
            "grid_area": null,
            "grid_auto_columns": null,
            "grid_auto_flow": null,
            "grid_auto_rows": null,
            "grid_column": null,
            "grid_gap": null,
            "grid_row": null,
            "grid_template_areas": null,
            "grid_template_columns": null,
            "grid_template_rows": null,
            "height": null,
            "justify_content": null,
            "justify_items": null,
            "left": null,
            "margin": null,
            "max_height": null,
            "max_width": null,
            "min_height": null,
            "min_width": null,
            "object_fit": null,
            "object_position": null,
            "order": null,
            "overflow": null,
            "overflow_x": null,
            "overflow_y": null,
            "padding": null,
            "right": null,
            "top": null,
            "visibility": null,
            "width": null
          }
        },
        "ce814c9222cd4d42b2d49d1775f965cf": {
          "model_module": "@jupyter-widgets/controls",
          "model_name": "DescriptionStyleModel",
          "model_module_version": "1.5.0",
          "state": {
            "_model_module": "@jupyter-widgets/controls",
            "_model_module_version": "1.5.0",
            "_model_name": "DescriptionStyleModel",
            "_view_count": null,
            "_view_module": "@jupyter-widgets/base",
            "_view_module_version": "1.2.0",
            "_view_name": "StyleView",
            "description_width": ""
          }
        },
        "1f2d4977c2c74091bce04ba9b4dd900c": {
          "model_module": "@jupyter-widgets/base",
          "model_name": "LayoutModel",
          "model_module_version": "1.2.0",
          "state": {
            "_model_module": "@jupyter-widgets/base",
            "_model_module_version": "1.2.0",
            "_model_name": "LayoutModel",
            "_view_count": null,
            "_view_module": "@jupyter-widgets/base",
            "_view_module_version": "1.2.0",
            "_view_name": "LayoutView",
            "align_content": null,
            "align_items": null,
            "align_self": null,
            "border": null,
            "bottom": null,
            "display": null,
            "flex": null,
            "flex_flow": null,
            "grid_area": null,
            "grid_auto_columns": null,
            "grid_auto_flow": null,
            "grid_auto_rows": null,
            "grid_column": null,
            "grid_gap": null,
            "grid_row": null,
            "grid_template_areas": null,
            "grid_template_columns": null,
            "grid_template_rows": null,
            "height": null,
            "justify_content": null,
            "justify_items": null,
            "left": null,
            "margin": null,
            "max_height": null,
            "max_width": null,
            "min_height": null,
            "min_width": null,
            "object_fit": null,
            "object_position": null,
            "order": null,
            "overflow": null,
            "overflow_x": null,
            "overflow_y": null,
            "padding": null,
            "right": null,
            "top": null,
            "visibility": null,
            "width": null
          }
        },
        "cd1177bd0e6e4e02aef12f1d1e29ae83": {
          "model_module": "@jupyter-widgets/controls",
          "model_name": "ProgressStyleModel",
          "model_module_version": "1.5.0",
          "state": {
            "_model_module": "@jupyter-widgets/controls",
            "_model_module_version": "1.5.0",
            "_model_name": "ProgressStyleModel",
            "_view_count": null,
            "_view_module": "@jupyter-widgets/base",
            "_view_module_version": "1.2.0",
            "_view_name": "StyleView",
            "bar_color": null,
            "description_width": ""
          }
        },
        "4d706ef37b9449999c949b2ad133a738": {
          "model_module": "@jupyter-widgets/base",
          "model_name": "LayoutModel",
          "model_module_version": "1.2.0",
          "state": {
            "_model_module": "@jupyter-widgets/base",
            "_model_module_version": "1.2.0",
            "_model_name": "LayoutModel",
            "_view_count": null,
            "_view_module": "@jupyter-widgets/base",
            "_view_module_version": "1.2.0",
            "_view_name": "LayoutView",
            "align_content": null,
            "align_items": null,
            "align_self": null,
            "border": null,
            "bottom": null,
            "display": null,
            "flex": null,
            "flex_flow": null,
            "grid_area": null,
            "grid_auto_columns": null,
            "grid_auto_flow": null,
            "grid_auto_rows": null,
            "grid_column": null,
            "grid_gap": null,
            "grid_row": null,
            "grid_template_areas": null,
            "grid_template_columns": null,
            "grid_template_rows": null,
            "height": null,
            "justify_content": null,
            "justify_items": null,
            "left": null,
            "margin": null,
            "max_height": null,
            "max_width": null,
            "min_height": null,
            "min_width": null,
            "object_fit": null,
            "object_position": null,
            "order": null,
            "overflow": null,
            "overflow_x": null,
            "overflow_y": null,
            "padding": null,
            "right": null,
            "top": null,
            "visibility": null,
            "width": null
          }
        },
        "eec616f2be0f4e09b3696473af711fde": {
          "model_module": "@jupyter-widgets/controls",
          "model_name": "DescriptionStyleModel",
          "model_module_version": "1.5.0",
          "state": {
            "_model_module": "@jupyter-widgets/controls",
            "_model_module_version": "1.5.0",
            "_model_name": "DescriptionStyleModel",
            "_view_count": null,
            "_view_module": "@jupyter-widgets/base",
            "_view_module_version": "1.2.0",
            "_view_name": "StyleView",
            "description_width": ""
          }
        },
        "cd49c375d14144608ed10c8fe3f6ba58": {
          "model_module": "@jupyter-widgets/controls",
          "model_name": "HBoxModel",
          "model_module_version": "1.5.0",
          "state": {
            "_dom_classes": [],
            "_model_module": "@jupyter-widgets/controls",
            "_model_module_version": "1.5.0",
            "_model_name": "HBoxModel",
            "_view_count": null,
            "_view_module": "@jupyter-widgets/controls",
            "_view_module_version": "1.5.0",
            "_view_name": "HBoxView",
            "box_style": "",
            "children": [
              "IPY_MODEL_1d3e5a134036420bb92e8183a0e98c3b",
              "IPY_MODEL_5dda9adbfb594ce594ed03dc2464be69",
              "IPY_MODEL_b0913105e6ff4dddbe65f92475bb0d6b"
            ],
            "layout": "IPY_MODEL_70824b88c5d747fe80824836fd8a7a8c"
          }
        },
        "1d3e5a134036420bb92e8183a0e98c3b": {
          "model_module": "@jupyter-widgets/controls",
          "model_name": "HTMLModel",
          "model_module_version": "1.5.0",
          "state": {
            "_dom_classes": [],
            "_model_module": "@jupyter-widgets/controls",
            "_model_module_version": "1.5.0",
            "_model_name": "HTMLModel",
            "_view_count": null,
            "_view_module": "@jupyter-widgets/controls",
            "_view_module_version": "1.5.0",
            "_view_name": "HTMLView",
            "description": "",
            "description_tooltip": null,
            "layout": "IPY_MODEL_1f3f0a7884c04decb1c7278461aa887f",
            "placeholder": "​",
            "style": "IPY_MODEL_3c79e30622e343d5ae58610a597fc55b",
            "value": "Downloading: 100%"
          }
        },
        "5dda9adbfb594ce594ed03dc2464be69": {
          "model_module": "@jupyter-widgets/controls",
          "model_name": "FloatProgressModel",
          "model_module_version": "1.5.0",
          "state": {
            "_dom_classes": [],
            "_model_module": "@jupyter-widgets/controls",
            "_model_module_version": "1.5.0",
            "_model_name": "FloatProgressModel",
            "_view_count": null,
            "_view_module": "@jupyter-widgets/controls",
            "_view_module_version": "1.5.0",
            "_view_name": "ProgressView",
            "bar_style": "success",
            "description": "",
            "description_tooltip": null,
            "layout": "IPY_MODEL_7a6e567b90c64ea3bdaa0ab7bba62329",
            "max": 1421590449,
            "min": 0,
            "orientation": "horizontal",
            "style": "IPY_MODEL_f49f9c7507264607bdb9238fcb73002f",
            "value": 1421590449
          }
        },
        "b0913105e6ff4dddbe65f92475bb0d6b": {
          "model_module": "@jupyter-widgets/controls",
          "model_name": "HTMLModel",
          "model_module_version": "1.5.0",
          "state": {
            "_dom_classes": [],
            "_model_module": "@jupyter-widgets/controls",
            "_model_module_version": "1.5.0",
            "_model_name": "HTMLModel",
            "_view_count": null,
            "_view_module": "@jupyter-widgets/controls",
            "_view_module_version": "1.5.0",
            "_view_name": "HTMLView",
            "description": "",
            "description_tooltip": null,
            "layout": "IPY_MODEL_fcefe7f222ff487596cb132f5d931ed7",
            "placeholder": "​",
            "style": "IPY_MODEL_3a9457c957c94416b9c24854201b3627",
            "value": " 1.42G/1.42G [00:51&lt;00:00, 15.5MB/s]"
          }
        },
        "70824b88c5d747fe80824836fd8a7a8c": {
          "model_module": "@jupyter-widgets/base",
          "model_name": "LayoutModel",
          "model_module_version": "1.2.0",
          "state": {
            "_model_module": "@jupyter-widgets/base",
            "_model_module_version": "1.2.0",
            "_model_name": "LayoutModel",
            "_view_count": null,
            "_view_module": "@jupyter-widgets/base",
            "_view_module_version": "1.2.0",
            "_view_name": "LayoutView",
            "align_content": null,
            "align_items": null,
            "align_self": null,
            "border": null,
            "bottom": null,
            "display": null,
            "flex": null,
            "flex_flow": null,
            "grid_area": null,
            "grid_auto_columns": null,
            "grid_auto_flow": null,
            "grid_auto_rows": null,
            "grid_column": null,
            "grid_gap": null,
            "grid_row": null,
            "grid_template_areas": null,
            "grid_template_columns": null,
            "grid_template_rows": null,
            "height": null,
            "justify_content": null,
            "justify_items": null,
            "left": null,
            "margin": null,
            "max_height": null,
            "max_width": null,
            "min_height": null,
            "min_width": null,
            "object_fit": null,
            "object_position": null,
            "order": null,
            "overflow": null,
            "overflow_x": null,
            "overflow_y": null,
            "padding": null,
            "right": null,
            "top": null,
            "visibility": null,
            "width": null
          }
        },
        "1f3f0a7884c04decb1c7278461aa887f": {
          "model_module": "@jupyter-widgets/base",
          "model_name": "LayoutModel",
          "model_module_version": "1.2.0",
          "state": {
            "_model_module": "@jupyter-widgets/base",
            "_model_module_version": "1.2.0",
            "_model_name": "LayoutModel",
            "_view_count": null,
            "_view_module": "@jupyter-widgets/base",
            "_view_module_version": "1.2.0",
            "_view_name": "LayoutView",
            "align_content": null,
            "align_items": null,
            "align_self": null,
            "border": null,
            "bottom": null,
            "display": null,
            "flex": null,
            "flex_flow": null,
            "grid_area": null,
            "grid_auto_columns": null,
            "grid_auto_flow": null,
            "grid_auto_rows": null,
            "grid_column": null,
            "grid_gap": null,
            "grid_row": null,
            "grid_template_areas": null,
            "grid_template_columns": null,
            "grid_template_rows": null,
            "height": null,
            "justify_content": null,
            "justify_items": null,
            "left": null,
            "margin": null,
            "max_height": null,
            "max_width": null,
            "min_height": null,
            "min_width": null,
            "object_fit": null,
            "object_position": null,
            "order": null,
            "overflow": null,
            "overflow_x": null,
            "overflow_y": null,
            "padding": null,
            "right": null,
            "top": null,
            "visibility": null,
            "width": null
          }
        },
        "3c79e30622e343d5ae58610a597fc55b": {
          "model_module": "@jupyter-widgets/controls",
          "model_name": "DescriptionStyleModel",
          "model_module_version": "1.5.0",
          "state": {
            "_model_module": "@jupyter-widgets/controls",
            "_model_module_version": "1.5.0",
            "_model_name": "DescriptionStyleModel",
            "_view_count": null,
            "_view_module": "@jupyter-widgets/base",
            "_view_module_version": "1.2.0",
            "_view_name": "StyleView",
            "description_width": ""
          }
        },
        "7a6e567b90c64ea3bdaa0ab7bba62329": {
          "model_module": "@jupyter-widgets/base",
          "model_name": "LayoutModel",
          "model_module_version": "1.2.0",
          "state": {
            "_model_module": "@jupyter-widgets/base",
            "_model_module_version": "1.2.0",
            "_model_name": "LayoutModel",
            "_view_count": null,
            "_view_module": "@jupyter-widgets/base",
            "_view_module_version": "1.2.0",
            "_view_name": "LayoutView",
            "align_content": null,
            "align_items": null,
            "align_self": null,
            "border": null,
            "bottom": null,
            "display": null,
            "flex": null,
            "flex_flow": null,
            "grid_area": null,
            "grid_auto_columns": null,
            "grid_auto_flow": null,
            "grid_auto_rows": null,
            "grid_column": null,
            "grid_gap": null,
            "grid_row": null,
            "grid_template_areas": null,
            "grid_template_columns": null,
            "grid_template_rows": null,
            "height": null,
            "justify_content": null,
            "justify_items": null,
            "left": null,
            "margin": null,
            "max_height": null,
            "max_width": null,
            "min_height": null,
            "min_width": null,
            "object_fit": null,
            "object_position": null,
            "order": null,
            "overflow": null,
            "overflow_x": null,
            "overflow_y": null,
            "padding": null,
            "right": null,
            "top": null,
            "visibility": null,
            "width": null
          }
        },
        "f49f9c7507264607bdb9238fcb73002f": {
          "model_module": "@jupyter-widgets/controls",
          "model_name": "ProgressStyleModel",
          "model_module_version": "1.5.0",
          "state": {
            "_model_module": "@jupyter-widgets/controls",
            "_model_module_version": "1.5.0",
            "_model_name": "ProgressStyleModel",
            "_view_count": null,
            "_view_module": "@jupyter-widgets/base",
            "_view_module_version": "1.2.0",
            "_view_name": "StyleView",
            "bar_color": null,
            "description_width": ""
          }
        },
        "fcefe7f222ff487596cb132f5d931ed7": {
          "model_module": "@jupyter-widgets/base",
          "model_name": "LayoutModel",
          "model_module_version": "1.2.0",
          "state": {
            "_model_module": "@jupyter-widgets/base",
            "_model_module_version": "1.2.0",
            "_model_name": "LayoutModel",
            "_view_count": null,
            "_view_module": "@jupyter-widgets/base",
            "_view_module_version": "1.2.0",
            "_view_name": "LayoutView",
            "align_content": null,
            "align_items": null,
            "align_self": null,
            "border": null,
            "bottom": null,
            "display": null,
            "flex": null,
            "flex_flow": null,
            "grid_area": null,
            "grid_auto_columns": null,
            "grid_auto_flow": null,
            "grid_auto_rows": null,
            "grid_column": null,
            "grid_gap": null,
            "grid_row": null,
            "grid_template_areas": null,
            "grid_template_columns": null,
            "grid_template_rows": null,
            "height": null,
            "justify_content": null,
            "justify_items": null,
            "left": null,
            "margin": null,
            "max_height": null,
            "max_width": null,
            "min_height": null,
            "min_width": null,
            "object_fit": null,
            "object_position": null,
            "order": null,
            "overflow": null,
            "overflow_x": null,
            "overflow_y": null,
            "padding": null,
            "right": null,
            "top": null,
            "visibility": null,
            "width": null
          }
        },
        "3a9457c957c94416b9c24854201b3627": {
          "model_module": "@jupyter-widgets/controls",
          "model_name": "DescriptionStyleModel",
          "model_module_version": "1.5.0",
          "state": {
            "_model_module": "@jupyter-widgets/controls",
            "_model_module_version": "1.5.0",
            "_model_name": "DescriptionStyleModel",
            "_view_count": null,
            "_view_module": "@jupyter-widgets/base",
            "_view_module_version": "1.2.0",
            "_view_name": "StyleView",
            "description_width": ""
          }
        },
        "00c71ee3d2694d27b5bbd490fb35efcc": {
          "model_module": "@jupyter-widgets/controls",
          "model_name": "HBoxModel",
          "model_module_version": "1.5.0",
          "state": {
            "_dom_classes": [],
            "_model_module": "@jupyter-widgets/controls",
            "_model_module_version": "1.5.0",
            "_model_name": "HBoxModel",
            "_view_count": null,
            "_view_module": "@jupyter-widgets/controls",
            "_view_module_version": "1.5.0",
            "_view_name": "HBoxView",
            "box_style": "",
            "children": [
              "IPY_MODEL_30e5c9abecf6460eaa4f951638c13fbd",
              "IPY_MODEL_d3a08751e2ca408abc6ae07378e921d2",
              "IPY_MODEL_de2091ae750c4544ba75f3deb44aa209"
            ],
            "layout": "IPY_MODEL_2f470175666145848a8c94bab35fb8bc"
          }
        },
        "30e5c9abecf6460eaa4f951638c13fbd": {
          "model_module": "@jupyter-widgets/controls",
          "model_name": "HTMLModel",
          "model_module_version": "1.5.0",
          "state": {
            "_dom_classes": [],
            "_model_module": "@jupyter-widgets/controls",
            "_model_module_version": "1.5.0",
            "_model_name": "HTMLModel",
            "_view_count": null,
            "_view_module": "@jupyter-widgets/controls",
            "_view_module_version": "1.5.0",
            "_view_name": "HTMLView",
            "description": "",
            "description_tooltip": null,
            "layout": "IPY_MODEL_dd12432630854361b969f604735691dd",
            "placeholder": "​",
            "style": "IPY_MODEL_9c4ea7936b754cfa91e2727fda89eff8",
            "value": "Downloading: 100%"
          }
        },
        "d3a08751e2ca408abc6ae07378e921d2": {
          "model_module": "@jupyter-widgets/controls",
          "model_name": "FloatProgressModel",
          "model_module_version": "1.5.0",
          "state": {
            "_dom_classes": [],
            "_model_module": "@jupyter-widgets/controls",
            "_model_module_version": "1.5.0",
            "_model_name": "FloatProgressModel",
            "_view_count": null,
            "_view_module": "@jupyter-widgets/controls",
            "_view_module_version": "1.5.0",
            "_view_name": "ProgressView",
            "bar_style": "success",
            "description": "",
            "description_tooltip": null,
            "layout": "IPY_MODEL_fe74b428d5f4441b960b9da580588b82",
            "max": 52,
            "min": 0,
            "orientation": "horizontal",
            "style": "IPY_MODEL_f0b01b332d0542e2bc37482d380debec",
            "value": 52
          }
        },
        "de2091ae750c4544ba75f3deb44aa209": {
          "model_module": "@jupyter-widgets/controls",
          "model_name": "HTMLModel",
          "model_module_version": "1.5.0",
          "state": {
            "_dom_classes": [],
            "_model_module": "@jupyter-widgets/controls",
            "_model_module_version": "1.5.0",
            "_model_name": "HTMLModel",
            "_view_count": null,
            "_view_module": "@jupyter-widgets/controls",
            "_view_module_version": "1.5.0",
            "_view_name": "HTMLView",
            "description": "",
            "description_tooltip": null,
            "layout": "IPY_MODEL_d71b0771bc8140efab849d750cb483a3",
            "placeholder": "​",
            "style": "IPY_MODEL_dab40bf208914103ab76daa431a7272a",
            "value": " 52.0/52.0 [00:00&lt;00:00, 1.58kB/s]"
          }
        },
        "2f470175666145848a8c94bab35fb8bc": {
          "model_module": "@jupyter-widgets/base",
          "model_name": "LayoutModel",
          "model_module_version": "1.2.0",
          "state": {
            "_model_module": "@jupyter-widgets/base",
            "_model_module_version": "1.2.0",
            "_model_name": "LayoutModel",
            "_view_count": null,
            "_view_module": "@jupyter-widgets/base",
            "_view_module_version": "1.2.0",
            "_view_name": "LayoutView",
            "align_content": null,
            "align_items": null,
            "align_self": null,
            "border": null,
            "bottom": null,
            "display": null,
            "flex": null,
            "flex_flow": null,
            "grid_area": null,
            "grid_auto_columns": null,
            "grid_auto_flow": null,
            "grid_auto_rows": null,
            "grid_column": null,
            "grid_gap": null,
            "grid_row": null,
            "grid_template_areas": null,
            "grid_template_columns": null,
            "grid_template_rows": null,
            "height": null,
            "justify_content": null,
            "justify_items": null,
            "left": null,
            "margin": null,
            "max_height": null,
            "max_width": null,
            "min_height": null,
            "min_width": null,
            "object_fit": null,
            "object_position": null,
            "order": null,
            "overflow": null,
            "overflow_x": null,
            "overflow_y": null,
            "padding": null,
            "right": null,
            "top": null,
            "visibility": null,
            "width": null
          }
        },
        "dd12432630854361b969f604735691dd": {
          "model_module": "@jupyter-widgets/base",
          "model_name": "LayoutModel",
          "model_module_version": "1.2.0",
          "state": {
            "_model_module": "@jupyter-widgets/base",
            "_model_module_version": "1.2.0",
            "_model_name": "LayoutModel",
            "_view_count": null,
            "_view_module": "@jupyter-widgets/base",
            "_view_module_version": "1.2.0",
            "_view_name": "LayoutView",
            "align_content": null,
            "align_items": null,
            "align_self": null,
            "border": null,
            "bottom": null,
            "display": null,
            "flex": null,
            "flex_flow": null,
            "grid_area": null,
            "grid_auto_columns": null,
            "grid_auto_flow": null,
            "grid_auto_rows": null,
            "grid_column": null,
            "grid_gap": null,
            "grid_row": null,
            "grid_template_areas": null,
            "grid_template_columns": null,
            "grid_template_rows": null,
            "height": null,
            "justify_content": null,
            "justify_items": null,
            "left": null,
            "margin": null,
            "max_height": null,
            "max_width": null,
            "min_height": null,
            "min_width": null,
            "object_fit": null,
            "object_position": null,
            "order": null,
            "overflow": null,
            "overflow_x": null,
            "overflow_y": null,
            "padding": null,
            "right": null,
            "top": null,
            "visibility": null,
            "width": null
          }
        },
        "9c4ea7936b754cfa91e2727fda89eff8": {
          "model_module": "@jupyter-widgets/controls",
          "model_name": "DescriptionStyleModel",
          "model_module_version": "1.5.0",
          "state": {
            "_model_module": "@jupyter-widgets/controls",
            "_model_module_version": "1.5.0",
            "_model_name": "DescriptionStyleModel",
            "_view_count": null,
            "_view_module": "@jupyter-widgets/base",
            "_view_module_version": "1.2.0",
            "_view_name": "StyleView",
            "description_width": ""
          }
        },
        "fe74b428d5f4441b960b9da580588b82": {
          "model_module": "@jupyter-widgets/base",
          "model_name": "LayoutModel",
          "model_module_version": "1.2.0",
          "state": {
            "_model_module": "@jupyter-widgets/base",
            "_model_module_version": "1.2.0",
            "_model_name": "LayoutModel",
            "_view_count": null,
            "_view_module": "@jupyter-widgets/base",
            "_view_module_version": "1.2.0",
            "_view_name": "LayoutView",
            "align_content": null,
            "align_items": null,
            "align_self": null,
            "border": null,
            "bottom": null,
            "display": null,
            "flex": null,
            "flex_flow": null,
            "grid_area": null,
            "grid_auto_columns": null,
            "grid_auto_flow": null,
            "grid_auto_rows": null,
            "grid_column": null,
            "grid_gap": null,
            "grid_row": null,
            "grid_template_areas": null,
            "grid_template_columns": null,
            "grid_template_rows": null,
            "height": null,
            "justify_content": null,
            "justify_items": null,
            "left": null,
            "margin": null,
            "max_height": null,
            "max_width": null,
            "min_height": null,
            "min_width": null,
            "object_fit": null,
            "object_position": null,
            "order": null,
            "overflow": null,
            "overflow_x": null,
            "overflow_y": null,
            "padding": null,
            "right": null,
            "top": null,
            "visibility": null,
            "width": null
          }
        },
        "f0b01b332d0542e2bc37482d380debec": {
          "model_module": "@jupyter-widgets/controls",
          "model_name": "ProgressStyleModel",
          "model_module_version": "1.5.0",
          "state": {
            "_model_module": "@jupyter-widgets/controls",
            "_model_module_version": "1.5.0",
            "_model_name": "ProgressStyleModel",
            "_view_count": null,
            "_view_module": "@jupyter-widgets/base",
            "_view_module_version": "1.2.0",
            "_view_name": "StyleView",
            "bar_color": null,
            "description_width": ""
          }
        },
        "d71b0771bc8140efab849d750cb483a3": {
          "model_module": "@jupyter-widgets/base",
          "model_name": "LayoutModel",
          "model_module_version": "1.2.0",
          "state": {
            "_model_module": "@jupyter-widgets/base",
            "_model_module_version": "1.2.0",
            "_model_name": "LayoutModel",
            "_view_count": null,
            "_view_module": "@jupyter-widgets/base",
            "_view_module_version": "1.2.0",
            "_view_name": "LayoutView",
            "align_content": null,
            "align_items": null,
            "align_self": null,
            "border": null,
            "bottom": null,
            "display": null,
            "flex": null,
            "flex_flow": null,
            "grid_area": null,
            "grid_auto_columns": null,
            "grid_auto_flow": null,
            "grid_auto_rows": null,
            "grid_column": null,
            "grid_gap": null,
            "grid_row": null,
            "grid_template_areas": null,
            "grid_template_columns": null,
            "grid_template_rows": null,
            "height": null,
            "justify_content": null,
            "justify_items": null,
            "left": null,
            "margin": null,
            "max_height": null,
            "max_width": null,
            "min_height": null,
            "min_width": null,
            "object_fit": null,
            "object_position": null,
            "order": null,
            "overflow": null,
            "overflow_x": null,
            "overflow_y": null,
            "padding": null,
            "right": null,
            "top": null,
            "visibility": null,
            "width": null
          }
        },
        "dab40bf208914103ab76daa431a7272a": {
          "model_module": "@jupyter-widgets/controls",
          "model_name": "DescriptionStyleModel",
          "model_module_version": "1.5.0",
          "state": {
            "_model_module": "@jupyter-widgets/controls",
            "_model_module_version": "1.5.0",
            "_model_name": "DescriptionStyleModel",
            "_view_count": null,
            "_view_module": "@jupyter-widgets/base",
            "_view_module_version": "1.2.0",
            "_view_name": "StyleView",
            "description_width": ""
          }
        },
        "2d8fb4c04a544110b613ff084a6b51fc": {
          "model_module": "@jupyter-widgets/controls",
          "model_name": "HBoxModel",
          "model_module_version": "1.5.0",
          "state": {
            "_dom_classes": [],
            "_model_module": "@jupyter-widgets/controls",
            "_model_module_version": "1.5.0",
            "_model_name": "HBoxModel",
            "_view_count": null,
            "_view_module": "@jupyter-widgets/controls",
            "_view_module_version": "1.5.0",
            "_view_name": "HBoxView",
            "box_style": "",
            "children": [
              "IPY_MODEL_5f84e350e91f4b239ed878f46e805bd9",
              "IPY_MODEL_e743501be7f84cb5bbeb875fcc1552ec",
              "IPY_MODEL_c73ad25986a645c992b17b1510faeb14"
            ],
            "layout": "IPY_MODEL_93bb57f93c674ac6b464601a87a9ae25"
          }
        },
        "5f84e350e91f4b239ed878f46e805bd9": {
          "model_module": "@jupyter-widgets/controls",
          "model_name": "HTMLModel",
          "model_module_version": "1.5.0",
          "state": {
            "_dom_classes": [],
            "_model_module": "@jupyter-widgets/controls",
            "_model_module_version": "1.5.0",
            "_model_name": "HTMLModel",
            "_view_count": null,
            "_view_module": "@jupyter-widgets/controls",
            "_view_module_version": "1.5.0",
            "_view_name": "HTMLView",
            "description": "",
            "description_tooltip": null,
            "layout": "IPY_MODEL_b6958d04e3b04dbd85ad3d962fe6289b",
            "placeholder": "​",
            "style": "IPY_MODEL_8516401c7b054a50ad5a9143d82bebaf",
            "value": "Downloading: 100%"
          }
        },
        "e743501be7f84cb5bbeb875fcc1552ec": {
          "model_module": "@jupyter-widgets/controls",
          "model_name": "FloatProgressModel",
          "model_module_version": "1.5.0",
          "state": {
            "_dom_classes": [],
            "_model_module": "@jupyter-widgets/controls",
            "_model_module_version": "1.5.0",
            "_model_name": "FloatProgressModel",
            "_view_count": null,
            "_view_module": "@jupyter-widgets/controls",
            "_view_module_version": "1.5.0",
            "_view_name": "ProgressView",
            "bar_style": "success",
            "description": "",
            "description_tooltip": null,
            "layout": "IPY_MODEL_60496e1d10234041bf485c7b7b2f7f63",
            "max": 239,
            "min": 0,
            "orientation": "horizontal",
            "style": "IPY_MODEL_711127df0eb6420aa0c3a85f6ce11583",
            "value": 239
          }
        },
        "c73ad25986a645c992b17b1510faeb14": {
          "model_module": "@jupyter-widgets/controls",
          "model_name": "HTMLModel",
          "model_module_version": "1.5.0",
          "state": {
            "_dom_classes": [],
            "_model_module": "@jupyter-widgets/controls",
            "_model_module_version": "1.5.0",
            "_model_name": "HTMLModel",
            "_view_count": null,
            "_view_module": "@jupyter-widgets/controls",
            "_view_module_version": "1.5.0",
            "_view_name": "HTMLView",
            "description": "",
            "description_tooltip": null,
            "layout": "IPY_MODEL_45a260a443154aef99d3d87ad577e6e3",
            "placeholder": "​",
            "style": "IPY_MODEL_14e9f151190a4387985d995a5be82b69",
            "value": " 239/239 [00:00&lt;00:00, 7.15kB/s]"
          }
        },
        "93bb57f93c674ac6b464601a87a9ae25": {
          "model_module": "@jupyter-widgets/base",
          "model_name": "LayoutModel",
          "model_module_version": "1.2.0",
          "state": {
            "_model_module": "@jupyter-widgets/base",
            "_model_module_version": "1.2.0",
            "_model_name": "LayoutModel",
            "_view_count": null,
            "_view_module": "@jupyter-widgets/base",
            "_view_module_version": "1.2.0",
            "_view_name": "LayoutView",
            "align_content": null,
            "align_items": null,
            "align_self": null,
            "border": null,
            "bottom": null,
            "display": null,
            "flex": null,
            "flex_flow": null,
            "grid_area": null,
            "grid_auto_columns": null,
            "grid_auto_flow": null,
            "grid_auto_rows": null,
            "grid_column": null,
            "grid_gap": null,
            "grid_row": null,
            "grid_template_areas": null,
            "grid_template_columns": null,
            "grid_template_rows": null,
            "height": null,
            "justify_content": null,
            "justify_items": null,
            "left": null,
            "margin": null,
            "max_height": null,
            "max_width": null,
            "min_height": null,
            "min_width": null,
            "object_fit": null,
            "object_position": null,
            "order": null,
            "overflow": null,
            "overflow_x": null,
            "overflow_y": null,
            "padding": null,
            "right": null,
            "top": null,
            "visibility": null,
            "width": null
          }
        },
        "b6958d04e3b04dbd85ad3d962fe6289b": {
          "model_module": "@jupyter-widgets/base",
          "model_name": "LayoutModel",
          "model_module_version": "1.2.0",
          "state": {
            "_model_module": "@jupyter-widgets/base",
            "_model_module_version": "1.2.0",
            "_model_name": "LayoutModel",
            "_view_count": null,
            "_view_module": "@jupyter-widgets/base",
            "_view_module_version": "1.2.0",
            "_view_name": "LayoutView",
            "align_content": null,
            "align_items": null,
            "align_self": null,
            "border": null,
            "bottom": null,
            "display": null,
            "flex": null,
            "flex_flow": null,
            "grid_area": null,
            "grid_auto_columns": null,
            "grid_auto_flow": null,
            "grid_auto_rows": null,
            "grid_column": null,
            "grid_gap": null,
            "grid_row": null,
            "grid_template_areas": null,
            "grid_template_columns": null,
            "grid_template_rows": null,
            "height": null,
            "justify_content": null,
            "justify_items": null,
            "left": null,
            "margin": null,
            "max_height": null,
            "max_width": null,
            "min_height": null,
            "min_width": null,
            "object_fit": null,
            "object_position": null,
            "order": null,
            "overflow": null,
            "overflow_x": null,
            "overflow_y": null,
            "padding": null,
            "right": null,
            "top": null,
            "visibility": null,
            "width": null
          }
        },
        "8516401c7b054a50ad5a9143d82bebaf": {
          "model_module": "@jupyter-widgets/controls",
          "model_name": "DescriptionStyleModel",
          "model_module_version": "1.5.0",
          "state": {
            "_model_module": "@jupyter-widgets/controls",
            "_model_module_version": "1.5.0",
            "_model_name": "DescriptionStyleModel",
            "_view_count": null,
            "_view_module": "@jupyter-widgets/base",
            "_view_module_version": "1.2.0",
            "_view_name": "StyleView",
            "description_width": ""
          }
        },
        "60496e1d10234041bf485c7b7b2f7f63": {
          "model_module": "@jupyter-widgets/base",
          "model_name": "LayoutModel",
          "model_module_version": "1.2.0",
          "state": {
            "_model_module": "@jupyter-widgets/base",
            "_model_module_version": "1.2.0",
            "_model_name": "LayoutModel",
            "_view_count": null,
            "_view_module": "@jupyter-widgets/base",
            "_view_module_version": "1.2.0",
            "_view_name": "LayoutView",
            "align_content": null,
            "align_items": null,
            "align_self": null,
            "border": null,
            "bottom": null,
            "display": null,
            "flex": null,
            "flex_flow": null,
            "grid_area": null,
            "grid_auto_columns": null,
            "grid_auto_flow": null,
            "grid_auto_rows": null,
            "grid_column": null,
            "grid_gap": null,
            "grid_row": null,
            "grid_template_areas": null,
            "grid_template_columns": null,
            "grid_template_rows": null,
            "height": null,
            "justify_content": null,
            "justify_items": null,
            "left": null,
            "margin": null,
            "max_height": null,
            "max_width": null,
            "min_height": null,
            "min_width": null,
            "object_fit": null,
            "object_position": null,
            "order": null,
            "overflow": null,
            "overflow_x": null,
            "overflow_y": null,
            "padding": null,
            "right": null,
            "top": null,
            "visibility": null,
            "width": null
          }
        },
        "711127df0eb6420aa0c3a85f6ce11583": {
          "model_module": "@jupyter-widgets/controls",
          "model_name": "ProgressStyleModel",
          "model_module_version": "1.5.0",
          "state": {
            "_model_module": "@jupyter-widgets/controls",
            "_model_module_version": "1.5.0",
            "_model_name": "ProgressStyleModel",
            "_view_count": null,
            "_view_module": "@jupyter-widgets/base",
            "_view_module_version": "1.2.0",
            "_view_name": "StyleView",
            "bar_color": null,
            "description_width": ""
          }
        },
        "45a260a443154aef99d3d87ad577e6e3": {
          "model_module": "@jupyter-widgets/base",
          "model_name": "LayoutModel",
          "model_module_version": "1.2.0",
          "state": {
            "_model_module": "@jupyter-widgets/base",
            "_model_module_version": "1.2.0",
            "_model_name": "LayoutModel",
            "_view_count": null,
            "_view_module": "@jupyter-widgets/base",
            "_view_module_version": "1.2.0",
            "_view_name": "LayoutView",
            "align_content": null,
            "align_items": null,
            "align_self": null,
            "border": null,
            "bottom": null,
            "display": null,
            "flex": null,
            "flex_flow": null,
            "grid_area": null,
            "grid_auto_columns": null,
            "grid_auto_flow": null,
            "grid_auto_rows": null,
            "grid_column": null,
            "grid_gap": null,
            "grid_row": null,
            "grid_template_areas": null,
            "grid_template_columns": null,
            "grid_template_rows": null,
            "height": null,
            "justify_content": null,
            "justify_items": null,
            "left": null,
            "margin": null,
            "max_height": null,
            "max_width": null,
            "min_height": null,
            "min_width": null,
            "object_fit": null,
            "object_position": null,
            "order": null,
            "overflow": null,
            "overflow_x": null,
            "overflow_y": null,
            "padding": null,
            "right": null,
            "top": null,
            "visibility": null,
            "width": null
          }
        },
        "14e9f151190a4387985d995a5be82b69": {
          "model_module": "@jupyter-widgets/controls",
          "model_name": "DescriptionStyleModel",
          "model_module_version": "1.5.0",
          "state": {
            "_model_module": "@jupyter-widgets/controls",
            "_model_module_version": "1.5.0",
            "_model_name": "DescriptionStyleModel",
            "_view_count": null,
            "_view_module": "@jupyter-widgets/base",
            "_view_module_version": "1.2.0",
            "_view_name": "StyleView",
            "description_width": ""
          }
        },
        "ab3e327b4cc9432ba6ab694e2df135b4": {
          "model_module": "@jupyter-widgets/controls",
          "model_name": "HBoxModel",
          "model_module_version": "1.5.0",
          "state": {
            "_dom_classes": [],
            "_model_module": "@jupyter-widgets/controls",
            "_model_module_version": "1.5.0",
            "_model_name": "HBoxModel",
            "_view_count": null,
            "_view_module": "@jupyter-widgets/controls",
            "_view_module_version": "1.5.0",
            "_view_name": "HBoxView",
            "box_style": "",
            "children": [
              "IPY_MODEL_ad5c117b6ecf473ba283f514e529191c",
              "IPY_MODEL_fb954699a0594a70a2766492d3464176",
              "IPY_MODEL_889c21d11ab348a8906cd1818bbf4ccb"
            ],
            "layout": "IPY_MODEL_b50c45d437bb4a3888b7b7a3b283245f"
          }
        },
        "ad5c117b6ecf473ba283f514e529191c": {
          "model_module": "@jupyter-widgets/controls",
          "model_name": "HTMLModel",
          "model_module_version": "1.5.0",
          "state": {
            "_dom_classes": [],
            "_model_module": "@jupyter-widgets/controls",
            "_model_module_version": "1.5.0",
            "_model_name": "HTMLModel",
            "_view_count": null,
            "_view_module": "@jupyter-widgets/controls",
            "_view_module_version": "1.5.0",
            "_view_name": "HTMLView",
            "description": "",
            "description_tooltip": null,
            "layout": "IPY_MODEL_59e9f0bc6cbb43f2aeac9fad9747c854",
            "placeholder": "​",
            "style": "IPY_MODEL_ab1a3b3fb3014358b60edd30d062b391",
            "value": "Downloading: 100%"
          }
        },
        "fb954699a0594a70a2766492d3464176": {
          "model_module": "@jupyter-widgets/controls",
          "model_name": "FloatProgressModel",
          "model_module_version": "1.5.0",
          "state": {
            "_dom_classes": [],
            "_model_module": "@jupyter-widgets/controls",
            "_model_module_version": "1.5.0",
            "_model_name": "FloatProgressModel",
            "_view_count": null,
            "_view_module": "@jupyter-widgets/controls",
            "_view_module_version": "1.5.0",
            "_view_name": "ProgressView",
            "bar_style": "success",
            "description": "",
            "description_tooltip": null,
            "layout": "IPY_MODEL_7c0e1c35e9494682a6b7b7c56946ad60",
            "max": 1355881,
            "min": 0,
            "orientation": "horizontal",
            "style": "IPY_MODEL_aede78f0d70c48baaeaa4f6dda7e901b",
            "value": 1355881
          }
        },
        "889c21d11ab348a8906cd1818bbf4ccb": {
          "model_module": "@jupyter-widgets/controls",
          "model_name": "HTMLModel",
          "model_module_version": "1.5.0",
          "state": {
            "_dom_classes": [],
            "_model_module": "@jupyter-widgets/controls",
            "_model_module_version": "1.5.0",
            "_model_name": "HTMLModel",
            "_view_count": null,
            "_view_module": "@jupyter-widgets/controls",
            "_view_module_version": "1.5.0",
            "_view_name": "HTMLView",
            "description": "",
            "description_tooltip": null,
            "layout": "IPY_MODEL_ee6a4a1174b04402bb7e0b962e924820",
            "placeholder": "​",
            "style": "IPY_MODEL_3ecead9fad924f168214a38039c7bad4",
            "value": " 1.36M/1.36M [00:01&lt;00:00, 1.04MB/s]"
          }
        },
        "b50c45d437bb4a3888b7b7a3b283245f": {
          "model_module": "@jupyter-widgets/base",
          "model_name": "LayoutModel",
          "model_module_version": "1.2.0",
          "state": {
            "_model_module": "@jupyter-widgets/base",
            "_model_module_version": "1.2.0",
            "_model_name": "LayoutModel",
            "_view_count": null,
            "_view_module": "@jupyter-widgets/base",
            "_view_module_version": "1.2.0",
            "_view_name": "LayoutView",
            "align_content": null,
            "align_items": null,
            "align_self": null,
            "border": null,
            "bottom": null,
            "display": null,
            "flex": null,
            "flex_flow": null,
            "grid_area": null,
            "grid_auto_columns": null,
            "grid_auto_flow": null,
            "grid_auto_rows": null,
            "grid_column": null,
            "grid_gap": null,
            "grid_row": null,
            "grid_template_areas": null,
            "grid_template_columns": null,
            "grid_template_rows": null,
            "height": null,
            "justify_content": null,
            "justify_items": null,
            "left": null,
            "margin": null,
            "max_height": null,
            "max_width": null,
            "min_height": null,
            "min_width": null,
            "object_fit": null,
            "object_position": null,
            "order": null,
            "overflow": null,
            "overflow_x": null,
            "overflow_y": null,
            "padding": null,
            "right": null,
            "top": null,
            "visibility": null,
            "width": null
          }
        },
        "59e9f0bc6cbb43f2aeac9fad9747c854": {
          "model_module": "@jupyter-widgets/base",
          "model_name": "LayoutModel",
          "model_module_version": "1.2.0",
          "state": {
            "_model_module": "@jupyter-widgets/base",
            "_model_module_version": "1.2.0",
            "_model_name": "LayoutModel",
            "_view_count": null,
            "_view_module": "@jupyter-widgets/base",
            "_view_module_version": "1.2.0",
            "_view_name": "LayoutView",
            "align_content": null,
            "align_items": null,
            "align_self": null,
            "border": null,
            "bottom": null,
            "display": null,
            "flex": null,
            "flex_flow": null,
            "grid_area": null,
            "grid_auto_columns": null,
            "grid_auto_flow": null,
            "grid_auto_rows": null,
            "grid_column": null,
            "grid_gap": null,
            "grid_row": null,
            "grid_template_areas": null,
            "grid_template_columns": null,
            "grid_template_rows": null,
            "height": null,
            "justify_content": null,
            "justify_items": null,
            "left": null,
            "margin": null,
            "max_height": null,
            "max_width": null,
            "min_height": null,
            "min_width": null,
            "object_fit": null,
            "object_position": null,
            "order": null,
            "overflow": null,
            "overflow_x": null,
            "overflow_y": null,
            "padding": null,
            "right": null,
            "top": null,
            "visibility": null,
            "width": null
          }
        },
        "ab1a3b3fb3014358b60edd30d062b391": {
          "model_module": "@jupyter-widgets/controls",
          "model_name": "DescriptionStyleModel",
          "model_module_version": "1.5.0",
          "state": {
            "_model_module": "@jupyter-widgets/controls",
            "_model_module_version": "1.5.0",
            "_model_name": "DescriptionStyleModel",
            "_view_count": null,
            "_view_module": "@jupyter-widgets/base",
            "_view_module_version": "1.2.0",
            "_view_name": "StyleView",
            "description_width": ""
          }
        },
        "7c0e1c35e9494682a6b7b7c56946ad60": {
          "model_module": "@jupyter-widgets/base",
          "model_name": "LayoutModel",
          "model_module_version": "1.2.0",
          "state": {
            "_model_module": "@jupyter-widgets/base",
            "_model_module_version": "1.2.0",
            "_model_name": "LayoutModel",
            "_view_count": null,
            "_view_module": "@jupyter-widgets/base",
            "_view_module_version": "1.2.0",
            "_view_name": "LayoutView",
            "align_content": null,
            "align_items": null,
            "align_self": null,
            "border": null,
            "bottom": null,
            "display": null,
            "flex": null,
            "flex_flow": null,
            "grid_area": null,
            "grid_auto_columns": null,
            "grid_auto_flow": null,
            "grid_auto_rows": null,
            "grid_column": null,
            "grid_gap": null,
            "grid_row": null,
            "grid_template_areas": null,
            "grid_template_columns": null,
            "grid_template_rows": null,
            "height": null,
            "justify_content": null,
            "justify_items": null,
            "left": null,
            "margin": null,
            "max_height": null,
            "max_width": null,
            "min_height": null,
            "min_width": null,
            "object_fit": null,
            "object_position": null,
            "order": null,
            "overflow": null,
            "overflow_x": null,
            "overflow_y": null,
            "padding": null,
            "right": null,
            "top": null,
            "visibility": null,
            "width": null
          }
        },
        "aede78f0d70c48baaeaa4f6dda7e901b": {
          "model_module": "@jupyter-widgets/controls",
          "model_name": "ProgressStyleModel",
          "model_module_version": "1.5.0",
          "state": {
            "_model_module": "@jupyter-widgets/controls",
            "_model_module_version": "1.5.0",
            "_model_name": "ProgressStyleModel",
            "_view_count": null,
            "_view_module": "@jupyter-widgets/base",
            "_view_module_version": "1.2.0",
            "_view_name": "StyleView",
            "bar_color": null,
            "description_width": ""
          }
        },
        "ee6a4a1174b04402bb7e0b962e924820": {
          "model_module": "@jupyter-widgets/base",
          "model_name": "LayoutModel",
          "model_module_version": "1.2.0",
          "state": {
            "_model_module": "@jupyter-widgets/base",
            "_model_module_version": "1.2.0",
            "_model_name": "LayoutModel",
            "_view_count": null,
            "_view_module": "@jupyter-widgets/base",
            "_view_module_version": "1.2.0",
            "_view_name": "LayoutView",
            "align_content": null,
            "align_items": null,
            "align_self": null,
            "border": null,
            "bottom": null,
            "display": null,
            "flex": null,
            "flex_flow": null,
            "grid_area": null,
            "grid_auto_columns": null,
            "grid_auto_flow": null,
            "grid_auto_rows": null,
            "grid_column": null,
            "grid_gap": null,
            "grid_row": null,
            "grid_template_areas": null,
            "grid_template_columns": null,
            "grid_template_rows": null,
            "height": null,
            "justify_content": null,
            "justify_items": null,
            "left": null,
            "margin": null,
            "max_height": null,
            "max_width": null,
            "min_height": null,
            "min_width": null,
            "object_fit": null,
            "object_position": null,
            "order": null,
            "overflow": null,
            "overflow_x": null,
            "overflow_y": null,
            "padding": null,
            "right": null,
            "top": null,
            "visibility": null,
            "width": null
          }
        },
        "3ecead9fad924f168214a38039c7bad4": {
          "model_module": "@jupyter-widgets/controls",
          "model_name": "DescriptionStyleModel",
          "model_module_version": "1.5.0",
          "state": {
            "_model_module": "@jupyter-widgets/controls",
            "_model_module_version": "1.5.0",
            "_model_name": "DescriptionStyleModel",
            "_view_count": null,
            "_view_module": "@jupyter-widgets/base",
            "_view_module_version": "1.2.0",
            "_view_name": "StyleView",
            "description_width": ""
          }
        },
        "6bc9cc1bb9ff4e82bc696c940f43f006": {
          "model_module": "@jupyter-widgets/controls",
          "model_name": "HBoxModel",
          "model_module_version": "1.5.0",
          "state": {
            "_dom_classes": [],
            "_model_module": "@jupyter-widgets/controls",
            "_model_module_version": "1.5.0",
            "_model_name": "HBoxModel",
            "_view_count": null,
            "_view_module": "@jupyter-widgets/controls",
            "_view_module_version": "1.5.0",
            "_view_name": "HBoxView",
            "box_style": "",
            "children": [
              "IPY_MODEL_f4b1764bcb46437babb41281cd4a153a",
              "IPY_MODEL_42391d44f37d49f4bc111057a1972252",
              "IPY_MODEL_7ae181475d494b8aac42ae30096d6c7e"
            ],
            "layout": "IPY_MODEL_48521abe23214862b85036dd9a146708"
          }
        },
        "f4b1764bcb46437babb41281cd4a153a": {
          "model_module": "@jupyter-widgets/controls",
          "model_name": "HTMLModel",
          "model_module_version": "1.5.0",
          "state": {
            "_dom_classes": [],
            "_model_module": "@jupyter-widgets/controls",
            "_model_module_version": "1.5.0",
            "_model_name": "HTMLModel",
            "_view_count": null,
            "_view_module": "@jupyter-widgets/controls",
            "_view_module_version": "1.5.0",
            "_view_name": "HTMLView",
            "description": "",
            "description_tooltip": null,
            "layout": "IPY_MODEL_86b6f07b0db44f21b7c4bcf512678bec",
            "placeholder": "​",
            "style": "IPY_MODEL_ae17ea187f224cfa92ccca3c82eb6f43",
            "value": "Downloading: 100%"
          }
        },
        "42391d44f37d49f4bc111057a1972252": {
          "model_module": "@jupyter-widgets/controls",
          "model_name": "FloatProgressModel",
          "model_module_version": "1.5.0",
          "state": {
            "_dom_classes": [],
            "_model_module": "@jupyter-widgets/controls",
            "_model_module_version": "1.5.0",
            "_model_name": "FloatProgressModel",
            "_view_count": null,
            "_view_module": "@jupyter-widgets/controls",
            "_view_module_version": "1.5.0",
            "_view_name": "ProgressView",
            "bar_style": "success",
            "description": "",
            "description_tooltip": null,
            "layout": "IPY_MODEL_a332caa1ea6e4fe1a9e5f05896314f67",
            "max": 1174,
            "min": 0,
            "orientation": "horizontal",
            "style": "IPY_MODEL_dbb53723f5d6439d9ee167ece8cbf8d3",
            "value": 1174
          }
        },
        "7ae181475d494b8aac42ae30096d6c7e": {
          "model_module": "@jupyter-widgets/controls",
          "model_name": "HTMLModel",
          "model_module_version": "1.5.0",
          "state": {
            "_dom_classes": [],
            "_model_module": "@jupyter-widgets/controls",
            "_model_module_version": "1.5.0",
            "_model_name": "HTMLModel",
            "_view_count": null,
            "_view_module": "@jupyter-widgets/controls",
            "_view_module_version": "1.5.0",
            "_view_name": "HTMLView",
            "description": "",
            "description_tooltip": null,
            "layout": "IPY_MODEL_c4f4df6a98f04ee7ad645c589d0e3c59",
            "placeholder": "​",
            "style": "IPY_MODEL_b64b730d93ba4c4eabb32f8fee9291c2",
            "value": " 1.17k/1.17k [00:00&lt;00:00, 34.8kB/s]"
          }
        },
        "48521abe23214862b85036dd9a146708": {
          "model_module": "@jupyter-widgets/base",
          "model_name": "LayoutModel",
          "model_module_version": "1.2.0",
          "state": {
            "_model_module": "@jupyter-widgets/base",
            "_model_module_version": "1.2.0",
            "_model_name": "LayoutModel",
            "_view_count": null,
            "_view_module": "@jupyter-widgets/base",
            "_view_module_version": "1.2.0",
            "_view_name": "LayoutView",
            "align_content": null,
            "align_items": null,
            "align_self": null,
            "border": null,
            "bottom": null,
            "display": null,
            "flex": null,
            "flex_flow": null,
            "grid_area": null,
            "grid_auto_columns": null,
            "grid_auto_flow": null,
            "grid_auto_rows": null,
            "grid_column": null,
            "grid_gap": null,
            "grid_row": null,
            "grid_template_areas": null,
            "grid_template_columns": null,
            "grid_template_rows": null,
            "height": null,
            "justify_content": null,
            "justify_items": null,
            "left": null,
            "margin": null,
            "max_height": null,
            "max_width": null,
            "min_height": null,
            "min_width": null,
            "object_fit": null,
            "object_position": null,
            "order": null,
            "overflow": null,
            "overflow_x": null,
            "overflow_y": null,
            "padding": null,
            "right": null,
            "top": null,
            "visibility": null,
            "width": null
          }
        },
        "86b6f07b0db44f21b7c4bcf512678bec": {
          "model_module": "@jupyter-widgets/base",
          "model_name": "LayoutModel",
          "model_module_version": "1.2.0",
          "state": {
            "_model_module": "@jupyter-widgets/base",
            "_model_module_version": "1.2.0",
            "_model_name": "LayoutModel",
            "_view_count": null,
            "_view_module": "@jupyter-widgets/base",
            "_view_module_version": "1.2.0",
            "_view_name": "LayoutView",
            "align_content": null,
            "align_items": null,
            "align_self": null,
            "border": null,
            "bottom": null,
            "display": null,
            "flex": null,
            "flex_flow": null,
            "grid_area": null,
            "grid_auto_columns": null,
            "grid_auto_flow": null,
            "grid_auto_rows": null,
            "grid_column": null,
            "grid_gap": null,
            "grid_row": null,
            "grid_template_areas": null,
            "grid_template_columns": null,
            "grid_template_rows": null,
            "height": null,
            "justify_content": null,
            "justify_items": null,
            "left": null,
            "margin": null,
            "max_height": null,
            "max_width": null,
            "min_height": null,
            "min_width": null,
            "object_fit": null,
            "object_position": null,
            "order": null,
            "overflow": null,
            "overflow_x": null,
            "overflow_y": null,
            "padding": null,
            "right": null,
            "top": null,
            "visibility": null,
            "width": null
          }
        },
        "ae17ea187f224cfa92ccca3c82eb6f43": {
          "model_module": "@jupyter-widgets/controls",
          "model_name": "DescriptionStyleModel",
          "model_module_version": "1.5.0",
          "state": {
            "_model_module": "@jupyter-widgets/controls",
            "_model_module_version": "1.5.0",
            "_model_name": "DescriptionStyleModel",
            "_view_count": null,
            "_view_module": "@jupyter-widgets/base",
            "_view_module_version": "1.2.0",
            "_view_name": "StyleView",
            "description_width": ""
          }
        },
        "a332caa1ea6e4fe1a9e5f05896314f67": {
          "model_module": "@jupyter-widgets/base",
          "model_name": "LayoutModel",
          "model_module_version": "1.2.0",
          "state": {
            "_model_module": "@jupyter-widgets/base",
            "_model_module_version": "1.2.0",
            "_model_name": "LayoutModel",
            "_view_count": null,
            "_view_module": "@jupyter-widgets/base",
            "_view_module_version": "1.2.0",
            "_view_name": "LayoutView",
            "align_content": null,
            "align_items": null,
            "align_self": null,
            "border": null,
            "bottom": null,
            "display": null,
            "flex": null,
            "flex_flow": null,
            "grid_area": null,
            "grid_auto_columns": null,
            "grid_auto_flow": null,
            "grid_auto_rows": null,
            "grid_column": null,
            "grid_gap": null,
            "grid_row": null,
            "grid_template_areas": null,
            "grid_template_columns": null,
            "grid_template_rows": null,
            "height": null,
            "justify_content": null,
            "justify_items": null,
            "left": null,
            "margin": null,
            "max_height": null,
            "max_width": null,
            "min_height": null,
            "min_width": null,
            "object_fit": null,
            "object_position": null,
            "order": null,
            "overflow": null,
            "overflow_x": null,
            "overflow_y": null,
            "padding": null,
            "right": null,
            "top": null,
            "visibility": null,
            "width": null
          }
        },
        "dbb53723f5d6439d9ee167ece8cbf8d3": {
          "model_module": "@jupyter-widgets/controls",
          "model_name": "ProgressStyleModel",
          "model_module_version": "1.5.0",
          "state": {
            "_model_module": "@jupyter-widgets/controls",
            "_model_module_version": "1.5.0",
            "_model_name": "ProgressStyleModel",
            "_view_count": null,
            "_view_module": "@jupyter-widgets/base",
            "_view_module_version": "1.2.0",
            "_view_name": "StyleView",
            "bar_color": null,
            "description_width": ""
          }
        },
        "c4f4df6a98f04ee7ad645c589d0e3c59": {
          "model_module": "@jupyter-widgets/base",
          "model_name": "LayoutModel",
          "model_module_version": "1.2.0",
          "state": {
            "_model_module": "@jupyter-widgets/base",
            "_model_module_version": "1.2.0",
            "_model_name": "LayoutModel",
            "_view_count": null,
            "_view_module": "@jupyter-widgets/base",
            "_view_module_version": "1.2.0",
            "_view_name": "LayoutView",
            "align_content": null,
            "align_items": null,
            "align_self": null,
            "border": null,
            "bottom": null,
            "display": null,
            "flex": null,
            "flex_flow": null,
            "grid_area": null,
            "grid_auto_columns": null,
            "grid_auto_flow": null,
            "grid_auto_rows": null,
            "grid_column": null,
            "grid_gap": null,
            "grid_row": null,
            "grid_template_areas": null,
            "grid_template_columns": null,
            "grid_template_rows": null,
            "height": null,
            "justify_content": null,
            "justify_items": null,
            "left": null,
            "margin": null,
            "max_height": null,
            "max_width": null,
            "min_height": null,
            "min_width": null,
            "object_fit": null,
            "object_position": null,
            "order": null,
            "overflow": null,
            "overflow_x": null,
            "overflow_y": null,
            "padding": null,
            "right": null,
            "top": null,
            "visibility": null,
            "width": null
          }
        },
        "b64b730d93ba4c4eabb32f8fee9291c2": {
          "model_module": "@jupyter-widgets/controls",
          "model_name": "DescriptionStyleModel",
          "model_module_version": "1.5.0",
          "state": {
            "_model_module": "@jupyter-widgets/controls",
            "_model_module_version": "1.5.0",
            "_model_name": "DescriptionStyleModel",
            "_view_count": null,
            "_view_module": "@jupyter-widgets/base",
            "_view_module_version": "1.2.0",
            "_view_name": "StyleView",
            "description_width": ""
          }
        },
        "d44f0d194e864863a269633d67888267": {
          "model_module": "@jupyter-widgets/controls",
          "model_name": "HBoxModel",
          "model_module_version": "1.5.0",
          "state": {
            "_dom_classes": [],
            "_model_module": "@jupyter-widgets/controls",
            "_model_module_version": "1.5.0",
            "_model_name": "HBoxModel",
            "_view_count": null,
            "_view_module": "@jupyter-widgets/controls",
            "_view_module_version": "1.5.0",
            "_view_name": "HBoxView",
            "box_style": "",
            "children": [
              "IPY_MODEL_16d5a1d479f64105b7cbe18b526e4682",
              "IPY_MODEL_3d5fcc7507d94d9b997b0afede950736",
              "IPY_MODEL_20c1aecfd0be4cada87f4b9074f867a8"
            ],
            "layout": "IPY_MODEL_b9a4c846e00340d69554f1959150088e"
          }
        },
        "16d5a1d479f64105b7cbe18b526e4682": {
          "model_module": "@jupyter-widgets/controls",
          "model_name": "HTMLModel",
          "model_module_version": "1.5.0",
          "state": {
            "_dom_classes": [],
            "_model_module": "@jupyter-widgets/controls",
            "_model_module_version": "1.5.0",
            "_model_name": "HTMLModel",
            "_view_count": null,
            "_view_module": "@jupyter-widgets/controls",
            "_view_module_version": "1.5.0",
            "_view_name": "HTMLView",
            "description": "",
            "description_tooltip": null,
            "layout": "IPY_MODEL_4350f7b7608b4745bd3f22d66f0cb11b",
            "placeholder": "​",
            "style": "IPY_MODEL_daedb65cdc774151aaefe1b2bd33e878",
            "value": "Downloading: 100%"
          }
        },
        "3d5fcc7507d94d9b997b0afede950736": {
          "model_module": "@jupyter-widgets/controls",
          "model_name": "FloatProgressModel",
          "model_module_version": "1.5.0",
          "state": {
            "_dom_classes": [],
            "_model_module": "@jupyter-widgets/controls",
            "_model_module_version": "1.5.0",
            "_model_name": "FloatProgressModel",
            "_view_count": null,
            "_view_module": "@jupyter-widgets/controls",
            "_view_module_version": "1.5.0",
            "_view_name": "ProgressView",
            "bar_style": "success",
            "description": "",
            "description_tooltip": null,
            "layout": "IPY_MODEL_5d62a4d5bccb42a4a6b36f08ff068e6b",
            "max": 798293,
            "min": 0,
            "orientation": "horizontal",
            "style": "IPY_MODEL_7d0546d9117e402886e16b6ba80610da",
            "value": 798293
          }
        },
        "20c1aecfd0be4cada87f4b9074f867a8": {
          "model_module": "@jupyter-widgets/controls",
          "model_name": "HTMLModel",
          "model_module_version": "1.5.0",
          "state": {
            "_dom_classes": [],
            "_model_module": "@jupyter-widgets/controls",
            "_model_module_version": "1.5.0",
            "_model_name": "HTMLModel",
            "_view_count": null,
            "_view_module": "@jupyter-widgets/controls",
            "_view_module_version": "1.5.0",
            "_view_name": "HTMLView",
            "description": "",
            "description_tooltip": null,
            "layout": "IPY_MODEL_688d95f0b570440baf60237bfe117948",
            "placeholder": "​",
            "style": "IPY_MODEL_751effd28fa64400818b2b851a0f254f",
            "value": " 798k/798k [00:01&lt;00:00, 620kB/s]"
          }
        },
        "b9a4c846e00340d69554f1959150088e": {
          "model_module": "@jupyter-widgets/base",
          "model_name": "LayoutModel",
          "model_module_version": "1.2.0",
          "state": {
            "_model_module": "@jupyter-widgets/base",
            "_model_module_version": "1.2.0",
            "_model_name": "LayoutModel",
            "_view_count": null,
            "_view_module": "@jupyter-widgets/base",
            "_view_module_version": "1.2.0",
            "_view_name": "LayoutView",
            "align_content": null,
            "align_items": null,
            "align_self": null,
            "border": null,
            "bottom": null,
            "display": null,
            "flex": null,
            "flex_flow": null,
            "grid_area": null,
            "grid_auto_columns": null,
            "grid_auto_flow": null,
            "grid_auto_rows": null,
            "grid_column": null,
            "grid_gap": null,
            "grid_row": null,
            "grid_template_areas": null,
            "grid_template_columns": null,
            "grid_template_rows": null,
            "height": null,
            "justify_content": null,
            "justify_items": null,
            "left": null,
            "margin": null,
            "max_height": null,
            "max_width": null,
            "min_height": null,
            "min_width": null,
            "object_fit": null,
            "object_position": null,
            "order": null,
            "overflow": null,
            "overflow_x": null,
            "overflow_y": null,
            "padding": null,
            "right": null,
            "top": null,
            "visibility": null,
            "width": null
          }
        },
        "4350f7b7608b4745bd3f22d66f0cb11b": {
          "model_module": "@jupyter-widgets/base",
          "model_name": "LayoutModel",
          "model_module_version": "1.2.0",
          "state": {
            "_model_module": "@jupyter-widgets/base",
            "_model_module_version": "1.2.0",
            "_model_name": "LayoutModel",
            "_view_count": null,
            "_view_module": "@jupyter-widgets/base",
            "_view_module_version": "1.2.0",
            "_view_name": "LayoutView",
            "align_content": null,
            "align_items": null,
            "align_self": null,
            "border": null,
            "bottom": null,
            "display": null,
            "flex": null,
            "flex_flow": null,
            "grid_area": null,
            "grid_auto_columns": null,
            "grid_auto_flow": null,
            "grid_auto_rows": null,
            "grid_column": null,
            "grid_gap": null,
            "grid_row": null,
            "grid_template_areas": null,
            "grid_template_columns": null,
            "grid_template_rows": null,
            "height": null,
            "justify_content": null,
            "justify_items": null,
            "left": null,
            "margin": null,
            "max_height": null,
            "max_width": null,
            "min_height": null,
            "min_width": null,
            "object_fit": null,
            "object_position": null,
            "order": null,
            "overflow": null,
            "overflow_x": null,
            "overflow_y": null,
            "padding": null,
            "right": null,
            "top": null,
            "visibility": null,
            "width": null
          }
        },
        "daedb65cdc774151aaefe1b2bd33e878": {
          "model_module": "@jupyter-widgets/controls",
          "model_name": "DescriptionStyleModel",
          "model_module_version": "1.5.0",
          "state": {
            "_model_module": "@jupyter-widgets/controls",
            "_model_module_version": "1.5.0",
            "_model_name": "DescriptionStyleModel",
            "_view_count": null,
            "_view_module": "@jupyter-widgets/base",
            "_view_module_version": "1.2.0",
            "_view_name": "StyleView",
            "description_width": ""
          }
        },
        "5d62a4d5bccb42a4a6b36f08ff068e6b": {
          "model_module": "@jupyter-widgets/base",
          "model_name": "LayoutModel",
          "model_module_version": "1.2.0",
          "state": {
            "_model_module": "@jupyter-widgets/base",
            "_model_module_version": "1.2.0",
            "_model_name": "LayoutModel",
            "_view_count": null,
            "_view_module": "@jupyter-widgets/base",
            "_view_module_version": "1.2.0",
            "_view_name": "LayoutView",
            "align_content": null,
            "align_items": null,
            "align_self": null,
            "border": null,
            "bottom": null,
            "display": null,
            "flex": null,
            "flex_flow": null,
            "grid_area": null,
            "grid_auto_columns": null,
            "grid_auto_flow": null,
            "grid_auto_rows": null,
            "grid_column": null,
            "grid_gap": null,
            "grid_row": null,
            "grid_template_areas": null,
            "grid_template_columns": null,
            "grid_template_rows": null,
            "height": null,
            "justify_content": null,
            "justify_items": null,
            "left": null,
            "margin": null,
            "max_height": null,
            "max_width": null,
            "min_height": null,
            "min_width": null,
            "object_fit": null,
            "object_position": null,
            "order": null,
            "overflow": null,
            "overflow_x": null,
            "overflow_y": null,
            "padding": null,
            "right": null,
            "top": null,
            "visibility": null,
            "width": null
          }
        },
        "7d0546d9117e402886e16b6ba80610da": {
          "model_module": "@jupyter-widgets/controls",
          "model_name": "ProgressStyleModel",
          "model_module_version": "1.5.0",
          "state": {
            "_model_module": "@jupyter-widgets/controls",
            "_model_module_version": "1.5.0",
            "_model_name": "ProgressStyleModel",
            "_view_count": null,
            "_view_module": "@jupyter-widgets/base",
            "_view_module_version": "1.2.0",
            "_view_name": "StyleView",
            "bar_color": null,
            "description_width": ""
          }
        },
        "688d95f0b570440baf60237bfe117948": {
          "model_module": "@jupyter-widgets/base",
          "model_name": "LayoutModel",
          "model_module_version": "1.2.0",
          "state": {
            "_model_module": "@jupyter-widgets/base",
            "_model_module_version": "1.2.0",
            "_model_name": "LayoutModel",
            "_view_count": null,
            "_view_module": "@jupyter-widgets/base",
            "_view_module_version": "1.2.0",
            "_view_name": "LayoutView",
            "align_content": null,
            "align_items": null,
            "align_self": null,
            "border": null,
            "bottom": null,
            "display": null,
            "flex": null,
            "flex_flow": null,
            "grid_area": null,
            "grid_auto_columns": null,
            "grid_auto_flow": null,
            "grid_auto_rows": null,
            "grid_column": null,
            "grid_gap": null,
            "grid_row": null,
            "grid_template_areas": null,
            "grid_template_columns": null,
            "grid_template_rows": null,
            "height": null,
            "justify_content": null,
            "justify_items": null,
            "left": null,
            "margin": null,
            "max_height": null,
            "max_width": null,
            "min_height": null,
            "min_width": null,
            "object_fit": null,
            "object_position": null,
            "order": null,
            "overflow": null,
            "overflow_x": null,
            "overflow_y": null,
            "padding": null,
            "right": null,
            "top": null,
            "visibility": null,
            "width": null
          }
        },
        "751effd28fa64400818b2b851a0f254f": {
          "model_module": "@jupyter-widgets/controls",
          "model_name": "DescriptionStyleModel",
          "model_module_version": "1.5.0",
          "state": {
            "_model_module": "@jupyter-widgets/controls",
            "_model_module_version": "1.5.0",
            "_model_name": "DescriptionStyleModel",
            "_view_count": null,
            "_view_module": "@jupyter-widgets/base",
            "_view_module_version": "1.2.0",
            "_view_name": "StyleView",
            "description_width": ""
          }
        }
      }
    }
  },
  "cells": [
    {
      "cell_type": "markdown",
      "metadata": {
        "id": "view-in-github",
        "colab_type": "text"
      },
      "source": [
        "<a href=\"https://colab.research.google.com/github/AbrahamKong/-CMPE257-NLP_Poem_Part_2/blob/main/NLP_Poem_Scraping_9b.ipynb\" target=\"_parent\"><img src=\"https://colab.research.google.com/assets/colab-badge.svg\" alt=\"Open In Colab\"/></a>"
      ]
    },
    {
      "cell_type": "markdown",
      "metadata": {
        "id": "0zVzMVJSaP4q"
      },
      "source": [
        " \n",
        "\n",
        "#NLP Part 1 : Poetry Analysis\n",
        "\n",
        "*   NLP Basics\n",
        "*   NER, POS, vectorization / embeddings\n",
        "*   Word2Vec, Glove, Cove, FastText, etc.\n",
        "*.  Similarity of words, context\n",
        "\n",
        "\n",
        "\n",
        "\n",
        "1. NLP Data. Pick 2 poets, scrape 10 poems each . Put them in a json datastructure and save it under the poets name, in your team drive under folder 'DataSets' in the drive shared with you. \n",
        "\n",
        "2. CLAIM YOUR POETS!!! Note: your team has  to claim their 2 poets by entering in their names in this spreadsheet with a timestamp of when you entered this: no duplicate poets allowed !\n",
        "https://docs.google.com/spreadsheets/d/1-KQVrGrbz5PvLhJNXhWm55WPIpmJPvsQQ2r9U-ZieGw/edit#gid=0\n",
        "\n",
        "---for each poem of each poet:\n",
        "3. Run POS and extract verbs, nouns and adjectives (use notebook given as an example)\n",
        "\n",
        "4. Summarize each poem \n",
        "\n",
        "5. Store the summary, POS data in your json poet data structure and save to disk.\n",
        "\n",
        "6. Interchange the verbs and adjectives of the two poets based on similar words in the other poets vocabulary of verbs and adjectives\n",
        "\n",
        "6. a. save the data structure for the new poems:  poet1-poet2-poem1.json (replace poet1 adjectives and verbs with poet2's ) and poet2-poet1-poem1.json \n",
        "\n",
        "6. b. print out the new poems and save them to disk poet1-poet2.txt and poet2-poet1.txt [these files will contain 10 poems each)].\n",
        "remember to measure and compare the cohesion and perplexity of the original poems and the new poems you generate !!\n",
        "\n",
        "7. Combine poet1's and poet2's poem text and summarize it using the transformer\n",
        "\n",
        "8. Run topic modeling on the combined text of each poet: what are the top 5 topics they are writing about?\n",
        "\n",
        "9. Name the topics: use the new notebook : name_your_topic_background.ipynb (Links to an external site.) , to try and find the closest word that describes topic 0, topic 1, topic 2 : instead of topic 0, what is the closest word in that cluster that describes the topic?"
      ]
    },
    {
      "cell_type": "markdown",
      "source": [
        "# Claim 2 poets and Scrape 10 poems each\n",
        "John Keats\n",
        "Alfred Tennyson    \n",
        "\n",
        "Scraping example colab: https://colab.research.google.com/drive/1Px_UggyRiQJzrIxvLtitz-Es0aZ5Au8b?authuser=3#scrollTo=3aTGAo7rMvjN&uniqifier=1\n",
        "\n"
      ],
      "metadata": {
        "id": "GRKtsLxDZAxR"
      }
    },
    {
      "cell_type": "code",
      "metadata": {
        "id": "gWzkVGilbE7A",
        "colab": {
          "base_uri": "https://localhost:8080/"
        },
        "outputId": "bbe23fdc-fc80-4d79-8657-07072a60f245"
      },
      "source": [
        "!pip install nltk\n",
        "!pip install gensim\n",
        "!pip install transformers\n",
        "!pip install sentence-transformers\n",
        "!pip install pyLDAvis\n",
        "!pip install spacy\n",
        "!pip install contractions\n",
        "!pip install -U pandas-profiling"
      ],
      "execution_count": 1,
      "outputs": [
        {
          "output_type": "stream",
          "name": "stdout",
          "text": [
            "Requirement already satisfied: nltk in /usr/local/lib/python3.7/dist-packages (3.2.5)\n",
            "Requirement already satisfied: six in /usr/local/lib/python3.7/dist-packages (from nltk) (1.15.0)\n",
            "Requirement already satisfied: gensim in /usr/local/lib/python3.7/dist-packages (3.6.0)\n",
            "Requirement already satisfied: smart-open>=1.2.1 in /usr/local/lib/python3.7/dist-packages (from gensim) (5.2.1)\n",
            "Requirement already satisfied: numpy>=1.11.3 in /usr/local/lib/python3.7/dist-packages (from gensim) (1.21.6)\n",
            "Requirement already satisfied: six>=1.5.0 in /usr/local/lib/python3.7/dist-packages (from gensim) (1.15.0)\n",
            "Requirement already satisfied: scipy>=0.18.1 in /usr/local/lib/python3.7/dist-packages (from gensim) (1.7.3)\n",
            "Requirement already satisfied: transformers in /usr/local/lib/python3.7/dist-packages (4.18.0)\n",
            "Requirement already satisfied: tqdm>=4.27 in /usr/local/lib/python3.7/dist-packages (from transformers) (4.64.0)\n",
            "Requirement already satisfied: tokenizers!=0.11.3,<0.13,>=0.11.1 in /usr/local/lib/python3.7/dist-packages (from transformers) (0.12.1)\n",
            "Requirement already satisfied: sacremoses in /usr/local/lib/python3.7/dist-packages (from transformers) (0.0.49)\n",
            "Requirement already satisfied: pyyaml>=5.1 in /usr/local/lib/python3.7/dist-packages (from transformers) (6.0)\n",
            "Requirement already satisfied: requests in /usr/local/lib/python3.7/dist-packages (from transformers) (2.27.1)\n",
            "Requirement already satisfied: regex!=2019.12.17 in /usr/local/lib/python3.7/dist-packages (from transformers) (2019.12.20)\n",
            "Requirement already satisfied: numpy>=1.17 in /usr/local/lib/python3.7/dist-packages (from transformers) (1.21.6)\n",
            "Requirement already satisfied: packaging>=20.0 in /usr/local/lib/python3.7/dist-packages (from transformers) (21.3)\n",
            "Requirement already satisfied: importlib-metadata in /usr/local/lib/python3.7/dist-packages (from transformers) (4.11.3)\n",
            "Requirement already satisfied: filelock in /usr/local/lib/python3.7/dist-packages (from transformers) (3.6.0)\n",
            "Requirement already satisfied: huggingface-hub<1.0,>=0.1.0 in /usr/local/lib/python3.7/dist-packages (from transformers) (0.5.1)\n",
            "Requirement already satisfied: typing-extensions>=3.7.4.3 in /usr/local/lib/python3.7/dist-packages (from huggingface-hub<1.0,>=0.1.0->transformers) (4.1.1)\n",
            "Requirement already satisfied: pyparsing!=3.0.5,>=2.0.2 in /usr/local/lib/python3.7/dist-packages (from packaging>=20.0->transformers) (3.0.8)\n",
            "Requirement already satisfied: zipp>=0.5 in /usr/local/lib/python3.7/dist-packages (from importlib-metadata->transformers) (3.8.0)\n",
            "Requirement already satisfied: charset-normalizer~=2.0.0 in /usr/local/lib/python3.7/dist-packages (from requests->transformers) (2.0.12)\n",
            "Requirement already satisfied: idna<4,>=2.5 in /usr/local/lib/python3.7/dist-packages (from requests->transformers) (2.10)\n",
            "Requirement already satisfied: certifi>=2017.4.17 in /usr/local/lib/python3.7/dist-packages (from requests->transformers) (2021.10.8)\n",
            "Requirement already satisfied: urllib3<1.27,>=1.21.1 in /usr/local/lib/python3.7/dist-packages (from requests->transformers) (1.24.3)\n",
            "Requirement already satisfied: click in /usr/local/lib/python3.7/dist-packages (from sacremoses->transformers) (7.1.2)\n",
            "Requirement already satisfied: joblib in /usr/local/lib/python3.7/dist-packages (from sacremoses->transformers) (1.0.1)\n",
            "Requirement already satisfied: six in /usr/local/lib/python3.7/dist-packages (from sacremoses->transformers) (1.15.0)\n",
            "Requirement already satisfied: sentence-transformers in /usr/local/lib/python3.7/dist-packages (2.2.0)\n",
            "Requirement already satisfied: torch>=1.6.0 in /usr/local/lib/python3.7/dist-packages (from sentence-transformers) (1.10.0+cu111)\n",
            "Requirement already satisfied: tqdm in /usr/local/lib/python3.7/dist-packages (from sentence-transformers) (4.64.0)\n",
            "Requirement already satisfied: torchvision in /usr/local/lib/python3.7/dist-packages (from sentence-transformers) (0.11.1+cu111)\n",
            "Requirement already satisfied: scikit-learn in /usr/local/lib/python3.7/dist-packages (from sentence-transformers) (1.0.2)\n",
            "Requirement already satisfied: nltk in /usr/local/lib/python3.7/dist-packages (from sentence-transformers) (3.2.5)\n",
            "Requirement already satisfied: scipy in /usr/local/lib/python3.7/dist-packages (from sentence-transformers) (1.7.3)\n",
            "Requirement already satisfied: numpy in /usr/local/lib/python3.7/dist-packages (from sentence-transformers) (1.21.6)\n",
            "Requirement already satisfied: huggingface-hub in /usr/local/lib/python3.7/dist-packages (from sentence-transformers) (0.5.1)\n",
            "Requirement already satisfied: transformers<5.0.0,>=4.6.0 in /usr/local/lib/python3.7/dist-packages (from sentence-transformers) (4.18.0)\n",
            "Requirement already satisfied: sentencepiece in /usr/local/lib/python3.7/dist-packages (from sentence-transformers) (0.1.96)\n",
            "Requirement already satisfied: typing-extensions in /usr/local/lib/python3.7/dist-packages (from torch>=1.6.0->sentence-transformers) (4.1.1)\n",
            "Requirement already satisfied: requests in /usr/local/lib/python3.7/dist-packages (from transformers<5.0.0,>=4.6.0->sentence-transformers) (2.27.1)\n",
            "Requirement already satisfied: importlib-metadata in /usr/local/lib/python3.7/dist-packages (from transformers<5.0.0,>=4.6.0->sentence-transformers) (4.11.3)\n",
            "Requirement already satisfied: sacremoses in /usr/local/lib/python3.7/dist-packages (from transformers<5.0.0,>=4.6.0->sentence-transformers) (0.0.49)\n",
            "Requirement already satisfied: regex!=2019.12.17 in /usr/local/lib/python3.7/dist-packages (from transformers<5.0.0,>=4.6.0->sentence-transformers) (2019.12.20)\n",
            "Requirement already satisfied: packaging>=20.0 in /usr/local/lib/python3.7/dist-packages (from transformers<5.0.0,>=4.6.0->sentence-transformers) (21.3)\n",
            "Requirement already satisfied: pyyaml>=5.1 in /usr/local/lib/python3.7/dist-packages (from transformers<5.0.0,>=4.6.0->sentence-transformers) (6.0)\n",
            "Requirement already satisfied: filelock in /usr/local/lib/python3.7/dist-packages (from transformers<5.0.0,>=4.6.0->sentence-transformers) (3.6.0)\n",
            "Requirement already satisfied: tokenizers!=0.11.3,<0.13,>=0.11.1 in /usr/local/lib/python3.7/dist-packages (from transformers<5.0.0,>=4.6.0->sentence-transformers) (0.12.1)\n",
            "Requirement already satisfied: pyparsing!=3.0.5,>=2.0.2 in /usr/local/lib/python3.7/dist-packages (from packaging>=20.0->transformers<5.0.0,>=4.6.0->sentence-transformers) (3.0.8)\n",
            "Requirement already satisfied: zipp>=0.5 in /usr/local/lib/python3.7/dist-packages (from importlib-metadata->transformers<5.0.0,>=4.6.0->sentence-transformers) (3.8.0)\n",
            "Requirement already satisfied: six in /usr/local/lib/python3.7/dist-packages (from nltk->sentence-transformers) (1.15.0)\n",
            "Requirement already satisfied: idna<4,>=2.5 in /usr/local/lib/python3.7/dist-packages (from requests->transformers<5.0.0,>=4.6.0->sentence-transformers) (2.10)\n",
            "Requirement already satisfied: charset-normalizer~=2.0.0 in /usr/local/lib/python3.7/dist-packages (from requests->transformers<5.0.0,>=4.6.0->sentence-transformers) (2.0.12)\n",
            "Requirement already satisfied: certifi>=2017.4.17 in /usr/local/lib/python3.7/dist-packages (from requests->transformers<5.0.0,>=4.6.0->sentence-transformers) (2021.10.8)\n",
            "Requirement already satisfied: urllib3<1.27,>=1.21.1 in /usr/local/lib/python3.7/dist-packages (from requests->transformers<5.0.0,>=4.6.0->sentence-transformers) (1.24.3)\n",
            "Requirement already satisfied: click in /usr/local/lib/python3.7/dist-packages (from sacremoses->transformers<5.0.0,>=4.6.0->sentence-transformers) (7.1.2)\n",
            "Requirement already satisfied: joblib in /usr/local/lib/python3.7/dist-packages (from sacremoses->transformers<5.0.0,>=4.6.0->sentence-transformers) (1.0.1)\n",
            "Requirement already satisfied: threadpoolctl>=2.0.0 in /usr/local/lib/python3.7/dist-packages (from scikit-learn->sentence-transformers) (3.1.0)\n",
            "Requirement already satisfied: pillow!=8.3.0,>=5.3.0 in /usr/local/lib/python3.7/dist-packages (from torchvision->sentence-transformers) (7.1.2)\n",
            "Requirement already satisfied: pyLDAvis in /usr/local/lib/python3.7/dist-packages (3.3.1)\n",
            "Requirement already satisfied: scikit-learn in /usr/local/lib/python3.7/dist-packages (from pyLDAvis) (1.0.2)\n",
            "Requirement already satisfied: gensim in /usr/local/lib/python3.7/dist-packages (from pyLDAvis) (3.6.0)\n",
            "Requirement already satisfied: numpy>=1.20.0 in /usr/local/lib/python3.7/dist-packages (from pyLDAvis) (1.21.6)\n",
            "Requirement already satisfied: sklearn in /usr/local/lib/python3.7/dist-packages (from pyLDAvis) (0.0)\n",
            "Requirement already satisfied: funcy in /usr/local/lib/python3.7/dist-packages (from pyLDAvis) (1.17)\n",
            "Requirement already satisfied: joblib in /usr/local/lib/python3.7/dist-packages (from pyLDAvis) (1.0.1)\n",
            "Requirement already satisfied: jinja2 in /usr/local/lib/python3.7/dist-packages (from pyLDAvis) (2.11.3)\n",
            "Requirement already satisfied: scipy in /usr/local/lib/python3.7/dist-packages (from pyLDAvis) (1.7.3)\n",
            "Requirement already satisfied: pandas>=1.2.0 in /usr/local/lib/python3.7/dist-packages (from pyLDAvis) (1.3.5)\n",
            "Requirement already satisfied: future in /usr/local/lib/python3.7/dist-packages (from pyLDAvis) (0.16.0)\n",
            "Requirement already satisfied: numexpr in /usr/local/lib/python3.7/dist-packages (from pyLDAvis) (2.8.1)\n",
            "Requirement already satisfied: setuptools in /usr/local/lib/python3.7/dist-packages (from pyLDAvis) (57.4.0)\n",
            "Requirement already satisfied: python-dateutil>=2.7.3 in /usr/local/lib/python3.7/dist-packages (from pandas>=1.2.0->pyLDAvis) (2.8.2)\n",
            "Requirement already satisfied: pytz>=2017.3 in /usr/local/lib/python3.7/dist-packages (from pandas>=1.2.0->pyLDAvis) (2022.1)\n",
            "Requirement already satisfied: six>=1.5 in /usr/local/lib/python3.7/dist-packages (from python-dateutil>=2.7.3->pandas>=1.2.0->pyLDAvis) (1.15.0)\n",
            "Requirement already satisfied: smart-open>=1.2.1 in /usr/local/lib/python3.7/dist-packages (from gensim->pyLDAvis) (5.2.1)\n",
            "Requirement already satisfied: MarkupSafe>=0.23 in /usr/local/lib/python3.7/dist-packages (from jinja2->pyLDAvis) (2.0.1)\n",
            "Requirement already satisfied: packaging in /usr/local/lib/python3.7/dist-packages (from numexpr->pyLDAvis) (21.3)\n",
            "Requirement already satisfied: pyparsing!=3.0.5,>=2.0.2 in /usr/local/lib/python3.7/dist-packages (from packaging->numexpr->pyLDAvis) (3.0.8)\n",
            "Requirement already satisfied: threadpoolctl>=2.0.0 in /usr/local/lib/python3.7/dist-packages (from scikit-learn->pyLDAvis) (3.1.0)\n",
            "Requirement already satisfied: spacy in /usr/local/lib/python3.7/dist-packages (2.2.4)\n",
            "Requirement already satisfied: tqdm<5.0.0,>=4.38.0 in /usr/local/lib/python3.7/dist-packages (from spacy) (4.64.0)\n",
            "Requirement already satisfied: cymem<2.1.0,>=2.0.2 in /usr/local/lib/python3.7/dist-packages (from spacy) (2.0.6)\n",
            "Requirement already satisfied: plac<1.2.0,>=0.9.6 in /usr/local/lib/python3.7/dist-packages (from spacy) (1.1.3)\n",
            "Requirement already satisfied: murmurhash<1.1.0,>=0.28.0 in /usr/local/lib/python3.7/dist-packages (from spacy) (1.0.6)\n",
            "Requirement already satisfied: catalogue<1.1.0,>=0.0.7 in /usr/local/lib/python3.7/dist-packages (from spacy) (1.0.0)\n",
            "Requirement already satisfied: requests<3.0.0,>=2.13.0 in /usr/local/lib/python3.7/dist-packages (from spacy) (2.27.1)\n",
            "Requirement already satisfied: blis<0.5.0,>=0.4.0 in /usr/local/lib/python3.7/dist-packages (from spacy) (0.4.1)\n",
            "Requirement already satisfied: setuptools in /usr/local/lib/python3.7/dist-packages (from spacy) (57.4.0)\n",
            "Requirement already satisfied: wasabi<1.1.0,>=0.4.0 in /usr/local/lib/python3.7/dist-packages (from spacy) (0.9.1)\n",
            "Requirement already satisfied: numpy>=1.15.0 in /usr/local/lib/python3.7/dist-packages (from spacy) (1.21.6)\n",
            "Requirement already satisfied: preshed<3.1.0,>=3.0.2 in /usr/local/lib/python3.7/dist-packages (from spacy) (3.0.6)\n",
            "Requirement already satisfied: srsly<1.1.0,>=1.0.2 in /usr/local/lib/python3.7/dist-packages (from spacy) (1.0.5)\n",
            "Requirement already satisfied: thinc==7.4.0 in /usr/local/lib/python3.7/dist-packages (from spacy) (7.4.0)\n",
            "Requirement already satisfied: importlib-metadata>=0.20 in /usr/local/lib/python3.7/dist-packages (from catalogue<1.1.0,>=0.0.7->spacy) (4.11.3)\n",
            "Requirement already satisfied: typing-extensions>=3.6.4 in /usr/local/lib/python3.7/dist-packages (from importlib-metadata>=0.20->catalogue<1.1.0,>=0.0.7->spacy) (4.1.1)\n",
            "Requirement already satisfied: zipp>=0.5 in /usr/local/lib/python3.7/dist-packages (from importlib-metadata>=0.20->catalogue<1.1.0,>=0.0.7->spacy) (3.8.0)\n",
            "Requirement already satisfied: urllib3<1.27,>=1.21.1 in /usr/local/lib/python3.7/dist-packages (from requests<3.0.0,>=2.13.0->spacy) (1.24.3)\n",
            "Requirement already satisfied: charset-normalizer~=2.0.0 in /usr/local/lib/python3.7/dist-packages (from requests<3.0.0,>=2.13.0->spacy) (2.0.12)\n",
            "Requirement already satisfied: certifi>=2017.4.17 in /usr/local/lib/python3.7/dist-packages (from requests<3.0.0,>=2.13.0->spacy) (2021.10.8)\n",
            "Requirement already satisfied: idna<4,>=2.5 in /usr/local/lib/python3.7/dist-packages (from requests<3.0.0,>=2.13.0->spacy) (2.10)\n",
            "Requirement already satisfied: contractions in /usr/local/lib/python3.7/dist-packages (0.1.68)\n",
            "Requirement already satisfied: textsearch>=0.0.21 in /usr/local/lib/python3.7/dist-packages (from contractions) (0.0.21)\n",
            "Requirement already satisfied: pyahocorasick in /usr/local/lib/python3.7/dist-packages (from textsearch>=0.0.21->contractions) (1.4.4)\n",
            "Requirement already satisfied: anyascii in /usr/local/lib/python3.7/dist-packages (from textsearch>=0.0.21->contractions) (0.3.1)\n",
            "Requirement already satisfied: pandas-profiling in /usr/local/lib/python3.7/dist-packages (3.1.0)\n",
            "Requirement already satisfied: matplotlib>=3.2.0 in /usr/local/lib/python3.7/dist-packages (from pandas-profiling) (3.2.2)\n",
            "Requirement already satisfied: PyYAML>=5.0.0 in /usr/local/lib/python3.7/dist-packages (from pandas-profiling) (6.0)\n",
            "Requirement already satisfied: seaborn>=0.10.1 in /usr/local/lib/python3.7/dist-packages (from pandas-profiling) (0.11.2)\n",
            "Requirement already satisfied: tangled-up-in-unicode==0.1.0 in /usr/local/lib/python3.7/dist-packages (from pandas-profiling) (0.1.0)\n",
            "Requirement already satisfied: visions[type_image_path]==0.7.4 in /usr/local/lib/python3.7/dist-packages (from pandas-profiling) (0.7.4)\n",
            "Requirement already satisfied: missingno>=0.4.2 in /usr/local/lib/python3.7/dist-packages (from pandas-profiling) (0.5.1)\n",
            "Requirement already satisfied: jinja2>=2.11.1 in /usr/local/lib/python3.7/dist-packages (from pandas-profiling) (2.11.3)\n",
            "Requirement already satisfied: tqdm>=4.48.2 in /usr/local/lib/python3.7/dist-packages (from pandas-profiling) (4.64.0)\n",
            "Requirement already satisfied: pydantic>=1.8.1 in /usr/local/lib/python3.7/dist-packages (from pandas-profiling) (1.9.0)\n",
            "Requirement already satisfied: scipy>=1.4.1 in /usr/local/lib/python3.7/dist-packages (from pandas-profiling) (1.7.3)\n",
            "Requirement already satisfied: markupsafe~=2.0.1 in /usr/local/lib/python3.7/dist-packages (from pandas-profiling) (2.0.1)\n",
            "Requirement already satisfied: htmlmin>=0.1.12 in /usr/local/lib/python3.7/dist-packages (from pandas-profiling) (0.1.12)\n",
            "Requirement already satisfied: joblib~=1.0.1 in /usr/local/lib/python3.7/dist-packages (from pandas-profiling) (1.0.1)\n",
            "Requirement already satisfied: phik>=0.11.1 in /usr/local/lib/python3.7/dist-packages (from pandas-profiling) (0.12.2)\n",
            "Requirement already satisfied: requests>=2.24.0 in /usr/local/lib/python3.7/dist-packages (from pandas-profiling) (2.27.1)\n",
            "Requirement already satisfied: multimethod>=1.4 in /usr/local/lib/python3.7/dist-packages (from pandas-profiling) (1.8)\n",
            "Requirement already satisfied: pandas!=1.0.0,!=1.0.1,!=1.0.2,!=1.1.0,>=0.25.3 in /usr/local/lib/python3.7/dist-packages (from pandas-profiling) (1.3.5)\n",
            "Requirement already satisfied: numpy>=1.16.0 in /usr/local/lib/python3.7/dist-packages (from pandas-profiling) (1.21.6)\n",
            "Requirement already satisfied: attrs>=19.3.0 in /usr/local/lib/python3.7/dist-packages (from visions[type_image_path]==0.7.4->pandas-profiling) (21.4.0)\n",
            "Requirement already satisfied: networkx>=2.4 in /usr/local/lib/python3.7/dist-packages (from visions[type_image_path]==0.7.4->pandas-profiling) (2.6.3)\n",
            "Requirement already satisfied: Pillow in /usr/local/lib/python3.7/dist-packages (from visions[type_image_path]==0.7.4->pandas-profiling) (7.1.2)\n",
            "Requirement already satisfied: imagehash in /usr/local/lib/python3.7/dist-packages (from visions[type_image_path]==0.7.4->pandas-profiling) (4.2.1)\n",
            "Requirement already satisfied: pyparsing!=2.0.4,!=2.1.2,!=2.1.6,>=2.0.1 in /usr/local/lib/python3.7/dist-packages (from matplotlib>=3.2.0->pandas-profiling) (3.0.8)\n",
            "Requirement already satisfied: python-dateutil>=2.1 in /usr/local/lib/python3.7/dist-packages (from matplotlib>=3.2.0->pandas-profiling) (2.8.2)\n",
            "Requirement already satisfied: kiwisolver>=1.0.1 in /usr/local/lib/python3.7/dist-packages (from matplotlib>=3.2.0->pandas-profiling) (1.4.2)\n",
            "Requirement already satisfied: cycler>=0.10 in /usr/local/lib/python3.7/dist-packages (from matplotlib>=3.2.0->pandas-profiling) (0.11.0)\n",
            "Requirement already satisfied: typing-extensions in /usr/local/lib/python3.7/dist-packages (from kiwisolver>=1.0.1->matplotlib>=3.2.0->pandas-profiling) (4.1.1)\n",
            "Requirement already satisfied: pytz>=2017.3 in /usr/local/lib/python3.7/dist-packages (from pandas!=1.0.0,!=1.0.1,!=1.0.2,!=1.1.0,>=0.25.3->pandas-profiling) (2022.1)\n",
            "Requirement already satisfied: six>=1.5 in /usr/local/lib/python3.7/dist-packages (from python-dateutil>=2.1->matplotlib>=3.2.0->pandas-profiling) (1.15.0)\n",
            "Requirement already satisfied: certifi>=2017.4.17 in /usr/local/lib/python3.7/dist-packages (from requests>=2.24.0->pandas-profiling) (2021.10.8)\n",
            "Requirement already satisfied: charset-normalizer~=2.0.0 in /usr/local/lib/python3.7/dist-packages (from requests>=2.24.0->pandas-profiling) (2.0.12)\n",
            "Requirement already satisfied: urllib3<1.27,>=1.21.1 in /usr/local/lib/python3.7/dist-packages (from requests>=2.24.0->pandas-profiling) (1.24.3)\n",
            "Requirement already satisfied: idna<4,>=2.5 in /usr/local/lib/python3.7/dist-packages (from requests>=2.24.0->pandas-profiling) (2.10)\n",
            "Requirement already satisfied: PyWavelets in /usr/local/lib/python3.7/dist-packages (from imagehash->visions[type_image_path]==0.7.4->pandas-profiling) (1.3.0)\n"
          ]
        }
      ]
    },
    {
      "cell_type": "code",
      "metadata": {
        "id": "8vpDCDPrbRE4",
        "colab": {
          "base_uri": "https://localhost:8080/"
        },
        "outputId": "d9c13ffb-691d-40f4-f80c-a87ee27dc3b5"
      },
      "source": [
        "import pandas as pd\n",
        "import numpy as np\n",
        "import os\n",
        "import glob\n",
        "import matplotlib.pyplot as plt\n",
        "import seaborn as sns\n",
        "import re\n",
        "import string\n",
        "import wordcloud\n",
        "import nltk\n",
        "import unicodedata\n",
        "import contractions\n",
        "import pickle\n",
        "import urllib.request\n",
        "import requests\n",
        "import spacy\n",
        "import json\n",
        "%matplotlib inline\n",
        "\n",
        "from bs4 import BeautifulSoup\n",
        "from bs4.element import Comment\n",
        "from gensim.utils import simple_preprocess\n",
        "from gensim.models import CoherenceModel\n",
        "from collections import defaultdict\n",
        "from contractions import contractions_dict\n",
        "from wordcloud import WordCloud, STOPWORDS\n",
        "from transformers import pipeline\n",
        "\n",
        "from nltk.tokenize import word_tokenize\n",
        "from nltk.stem.wordnet import WordNetLemmatizer\n",
        "from nltk.tokenize.toktok import ToktokTokenizer\n",
        "from nltk.stem.porter import PorterStemmer\n",
        "from sentence_transformers import SentenceTransformer, util\n",
        "from gensim.corpora import Dictionary\n",
        "from gensim.models.ldamodel import LdaModel\n",
        "from spacy import displacy\n",
        "\n",
        "from sklearn.feature_extraction.text import TfidfVectorizer\n",
        "from sklearn.preprocessing import MinMaxScaler\n",
        "from sklearn.preprocessing import StandardScaler\n",
        "from sklearn.naive_bayes import MultinomialNB\n",
        "from sklearn.linear_model import LogisticRegression\n",
        "from sklearn.naive_bayes import GaussianNB\n",
        "from sklearn.ensemble import RandomForestClassifier\n",
        "from sklearn.svm import LinearSVC\n",
        "from sklearn.model_selection import train_test_split\n",
        "from sklearn.metrics import classification_report, confusion_matrix, accuracy_score\n",
        "from sklearn.model_selection import cross_val_score\n",
        "\n",
        "nltk.download('stopwords')\n",
        "nltk.download('averaged_perceptron_tagger')\n",
        "nltk.download('universal_tagset')\n",
        "nltk.download('wordnet')\n",
        "nltk.download('punkt')\n",
        "\n",
        "os.environ[\"CUDA_VISIBLE_DEVICES\"] = \"0\"\n",
        "\n",
        "from contractions import contractions_dict\n",
        "from scipy import stats\n",
        "from scipy import sparse\n",
        "\n",
        "import pyLDAvis\n",
        "\n",
        "# Visualize the topics\n",
        "pyLDAvis.enable_notebook()\n",
        "\n",
        "tokenizer = ToktokTokenizer()\n",
        "stopword_list = nltk.corpus.stopwords.words('english')\n",
        "scaler = MinMaxScaler()\n",
        "std_scaler = StandardScaler()\n",
        "stops = set(stopword_list)\n",
        "stemmer = nltk.stem.SnowballStemmer('english')\n",
        "wordlemmatizer = WordNetLemmatizer()\n",
        "tokenizer = nltk.word_tokenize"
      ],
      "execution_count": 2,
      "outputs": [
        {
          "output_type": "stream",
          "name": "stdout",
          "text": [
            "[nltk_data] Downloading package stopwords to /root/nltk_data...\n",
            "[nltk_data]   Package stopwords is already up-to-date!\n",
            "[nltk_data] Downloading package averaged_perceptron_tagger to\n",
            "[nltk_data]     /root/nltk_data...\n",
            "[nltk_data]   Package averaged_perceptron_tagger is already up-to-\n",
            "[nltk_data]       date!\n",
            "[nltk_data] Downloading package universal_tagset to /root/nltk_data...\n",
            "[nltk_data]   Package universal_tagset is already up-to-date!\n",
            "[nltk_data] Downloading package wordnet to /root/nltk_data...\n",
            "[nltk_data]   Package wordnet is already up-to-date!\n",
            "[nltk_data] Downloading package punkt to /root/nltk_data...\n",
            "[nltk_data]   Package punkt is already up-to-date!\n"
          ]
        },
        {
          "output_type": "stream",
          "name": "stderr",
          "text": [
            "/usr/local/lib/python3.7/dist-packages/past/types/oldstr.py:5: DeprecationWarning: Using or importing the ABCs from 'collections' instead of from 'collections.abc' is deprecated since Python 3.3,and in 3.9 it will stop working\n",
            "  from collections import Iterable\n"
          ]
        }
      ]
    },
    {
      "cell_type": "markdown",
      "source": [
        "# NLP Data. Pick 2 poets, scrape 10 poems each . Put them in a json datastructure and save it under the poets name, in your team drive under folder 'DataSets'"
      ],
      "metadata": {
        "id": "6D_Gk07BYyVK"
      }
    },
    {
      "cell_type": "markdown",
      "metadata": {
        "id": "egcqOhvLbgN-"
      },
      "source": [
        "## Get Scraped Data"
      ]
    },
    {
      "cell_type": "code",
      "metadata": {
        "id": "4NSzUHrObssV",
        "colab": {
          "base_uri": "https://localhost:8080/"
        },
        "outputId": "929aee8d-0265-4b26-edc7-3fc3e418e80a"
      },
      "source": [
        "from google.colab import drive\n",
        "drive.mount('/content/drive', force_remount=True)"
      ],
      "execution_count": 3,
      "outputs": [
        {
          "output_type": "stream",
          "name": "stdout",
          "text": [
            "Mounted at /content/drive\n"
          ]
        }
      ]
    },
    {
      "cell_type": "markdown",
      "source": [
        "Please change the file path in order for the code to run"
      ],
      "metadata": {
        "id": "Z69EwZyswnph"
      }
    },
    {
      "cell_type": "code",
      "source": [
        "# filepath = '/content/drive/MyDrive/DataSets/'\n",
        "filepath = '/content/drive/MyDrive/SJSU/CMPE 257: Machine Learning/NLP/Homework 9b/Datasets/'"
      ],
      "metadata": {
        "id": "bDui-Ys-wPXs"
      },
      "execution_count": 4,
      "outputs": []
    },
    {
      "cell_type": "code",
      "metadata": {
        "id": "72SL8SR1ca2f"
      },
      "source": [
        "lh_df = pd.read_csv('https://raw.githubusercontent.com/AbrahamKong/-CMPE257-NLP_Poem_Part_2/main/langston_hughes.csv')"
      ],
      "execution_count": 5,
      "outputs": []
    },
    {
      "cell_type": "code",
      "metadata": {
        "id": "E5uLsDvzcdBu",
        "colab": {
          "base_uri": "https://localhost:8080/"
        },
        "outputId": "1a11fae2-c643-46a4-c425-f4973aff84ac"
      },
      "source": [
        "lh_df.info()"
      ],
      "execution_count": 6,
      "outputs": [
        {
          "output_type": "stream",
          "name": "stdout",
          "text": [
            "<class 'pandas.core.frame.DataFrame'>\n",
            "RangeIndex: 10 entries, 0 to 9\n",
            "Data columns (total 2 columns):\n",
            " #   Column  Non-Null Count  Dtype \n",
            "---  ------  --------------  ----- \n",
            " 0   Title   10 non-null     object\n",
            " 1   Poem    10 non-null     object\n",
            "dtypes: object(2)\n",
            "memory usage: 288.0+ bytes\n"
          ]
        }
      ]
    },
    {
      "cell_type": "code",
      "metadata": {
        "id": "6WNQiFZLce-m"
      },
      "source": [
        "mjo_df = pd.read_csv('https://raw.githubusercontent.com/AbrahamKong/-CMPE257-NLP_Poem_Part_2/main/mary_j_oliver.csv')"
      ],
      "execution_count": 7,
      "outputs": []
    },
    {
      "cell_type": "code",
      "metadata": {
        "id": "w_AD-ieOcg-2",
        "colab": {
          "base_uri": "https://localhost:8080/"
        },
        "outputId": "6a0cb046-a528-45d2-9793-3705a8ff0aee"
      },
      "source": [
        "mjo_df.info()"
      ],
      "execution_count": 8,
      "outputs": [
        {
          "output_type": "stream",
          "name": "stdout",
          "text": [
            "<class 'pandas.core.frame.DataFrame'>\n",
            "RangeIndex: 10 entries, 0 to 9\n",
            "Data columns (total 2 columns):\n",
            " #   Column  Non-Null Count  Dtype \n",
            "---  ------  --------------  ----- \n",
            " 0   Title   10 non-null     object\n",
            " 1   Poem    10 non-null     object\n",
            "dtypes: object(2)\n",
            "memory usage: 288.0+ bytes\n"
          ]
        }
      ]
    },
    {
      "cell_type": "markdown",
      "metadata": {
        "id": "pFbXiyq8ck5A"
      },
      "source": [
        "## JSON Conversion"
      ]
    },
    {
      "cell_type": "markdown",
      "source": [
        ""
      ],
      "metadata": {
        "id": "ll64T8GSZelt"
      }
    },
    {
      "cell_type": "code",
      "metadata": {
        "id": "3hs9sU4eckn_",
        "colab": {
          "base_uri": "https://localhost:8080/",
          "height": 142
        },
        "outputId": "97ecd1a9-f2e3-488f-958a-a13102515df1"
      },
      "source": [
        "result_lh = lh_df.to_json(orient=\"index\")\n",
        "parsed_lh = json.loads(result_lh)\n",
        "json.dumps(parsed_lh, indent=4)"
      ],
      "execution_count": 9,
      "outputs": [
        {
          "output_type": "execute_result",
          "data": {
            "text/plain": [
              "'{\\n    \"0\": {\\n        \"Title\": \"Mother To Son\",\\n        \"Poem\": \"well son will tell you life for me ai not been no crystal stair it had tacks in it and splinters and boards torn up and places with no carpet on the floor\\\\u2014 bare but all the time se been climbin on and reachin landin and turnin corners and sometimes goin in the dark where there ai not been no light so boy do not you turn back do not you set down on the steps cause you finds it kinder hard do not you fall now\\\\u2014 for se still goin honey se still climbin and life for me ai not been no crystal stair by owner provided at no charge for educational purposes\"\\n    },\\n    \"1\": {\\n        \"Title\": \"The Ballad Of The Landlord\",\\n        \"Poem\": \"landlord landlord my roof has sprung leak do not you member told you about it way last week landlord landlord these steps is broken down when you come up yourself it wonder you do not fall down ten bucks you say owe you ten bucks you say is due well that ten bucks more pay you till you fix this house up new what you gonna get eviction orders you gonna cut off my heat you gonna take my furniture and throw it in the street um huh you talking high and mighty talk on till you get through you ai not gonna be able to say word if land my fist on you police police come and get this man he trying to ruin the government and overturn the land copper whistle patrol bell arrest precinct station iron cell headlines in press man threatens landlord tenant held no bail judge gives negro days in county jail from the langston hughes reader this poem by langston hughes grew out of conditions in new york city\\\\u2019s harlem in the \\\\u2019s in graphic terms it describes the escalation of anger and frustration that tenants experienced trying to get landlords to make basic repairs it is structured like an old time blues song until the final verse where the rhythm changes charley noble by owner provided at no charge for educational purposes\"\\n    },\\n    \"2\": {\\n        \"Title\": \"I, Too.\",\\n        \"Poem\": \"too sing america am the darker brother they send me to eat in the kitchen when company comes but laugh and eat well and grow strong tomorrow will be at the table when company comes nobody will dare say to me eat in the kitchen then besides they will see how beautiful am and be ashamed\\\\u2014 too am america http www poetryarchive org poetryarchive singlepoem do poemid listen to langston hughes read this poem recorded in by owner provided at no charge for educational purposes\"\\n    },\\n    \"3\": {\\n        \"Title\": \"As I Grew Older\",\\n        \"Poem\": \"it was long time ago have almost forgotten my dream but it was there then in front of me bright like sun\\\\u2014 my dream and then the wall rose rose slowly slowly between me and my dream rose until it touched the sky\\\\u2014 the wall shadow am black lie down in the shadow no longer the light of my dream before me above me only the thick wall only the shadow my hands my dark hands break through the wall find my dream help me to shatter this darkness to smash this night to break this shadow into thousand lights of sun into thousand whirling dreams of sun by owner provided at no charge for educational purposes\"\\n    },\\n    \"4\": {\\n        \"Title\": \"The Negro Mother\",\\n        \"Poem\": \"children come back today to tell you story of the long dark way that had to climb that had to know in order that the race might live and grow look at my face dark as the night yet shining like the sun with love true light am the child they stole from the sand three hundred years ago in africa land am the dark girl who crossed the wide sea carrying in my body the seed of the free am the woman who worked in the field bringing the cotton and the corn to yield am the one who labored as slave beaten and mistreated for the work gave children sold away from me husband sold too no safety no love no respect was due three hundred years in the deepest south but god put song and prayer in my mouth god put dream like steel in my soul now through my children reaching the goal now through my children young and free realize the blessings deed to me could not read then could not write had nothing back there in the night sometimes the valley was filled with tears but kept trudging on through the lonely years sometimes the road was hot with the sun but had to keep on till my work was done had to keep on no stopping for me was the seed of the coming free nourished the dream that nothing could smother deep in my breast the negro mother had only hope then but now through you dark ones of today my dreams must come true all you dark children in the world out there remember my sweat my pain my despair remember my years heavy with sorrow and make of those years torch for tomorrow make of my pass road to the light out of the darkness the ignorance the night lift high my banner out of the dust stand like free men supporting my trust believe in the right let none push you back remember the whip and the slaver track remember how the strong in struggle and strife still bar you the way and deny you life but march ever forward breaking down bars look ever upward at the sun and the stars oh my dark children may my dreams and my prayers impel you forever up the great stairs for will be with you till no white brother dares keep down the children of the negro mother many on line versions have the alternate line realized the blessing denied to me by owner provided at no charge for educational purposes\"\\n    },\\n    \"5\": {\\n        \"Title\": \"The Negro Speaks Of Rivers\",\\n        \"Poem\": \"have known rivers have known rivers ancient as the world and older than the flow of human blood in human veins my soul has grown deep like the rivers bathed in the euphrates when dawns were young built my hut near the congo and it lulled me to sleep looked upon the nile and raised the pyramids above it heard the singing of the mississippi when abe lincoln went down to new orleans and have seen its muddy bosom turn all golden in the sunset have known rivers ancient dusky rivers my soul has grown deep like the rivers http www poetryarchive org poetryarchive singlepoem do poemid recorded in langston hughes recites by owner provided at no charge for educational purposes\"\\n    },\\n    \"6\": {\\n        \"Title\": \"Trumpet Player\",\\n        \"Poem\": \"the negro with the trumpet at his lips has dark moons of weariness beneath his eyes where the smoldering memory of slave ships blazed to the crack of whips about thighs the negro with the trumpet at his lips has head of vibrant hair tamed down patent leathered now until it gleams like jet\\\\u2014 were jet crown the music from the trumpet at his lips is honey mixed with liquid fire the rhythm from the trumpet at his lips is ecstasy distilled from old desire\\\\u2014 desire that is longing for the moon where the moonlight but spotlight in his eyes desire that is longing for the sea where the sea bar glass sucker size the negro with the trumpet at his lips whose jacket has fine one button roll does not know upon what riff the music slips it hypodermic needle to his soul but softly as the tune comes from his throat trouble mellows to golden note by owner provided at no charge for educational purposes\"\\n    },\\n    \"7\": {\\n        \"Title\": \"Cross\",\\n        \"Poem\": \"my old man white old manand my old mother black if ever cursed my white old mani take my curses back if ever cursed my black old motherand wished she were in hell sorry for that evil wishand now wish her wellmy old man died in fine big house my ma died in shack wonder were going to die being neither white nor black by owner provided at no charge for educational purposes\"\\n    },\\n    \"8\": {\\n        \"Title\": \"Madam and The Rent Man\",\\n        \"Poem\": \"the rent man knocked he said howdy do said what can do for you he said you know your rent is due said listen before pay go to hades and rot away the sink is broke the water do not run and you ai not done thing you promised to have done back window cracked kitchen floor squeaks there rats in the cellar and the attic leaks he said madam it not up to me just the agent do not you see said naturally you pass the buck if it money you want you are out of luck he said madam ai not pleased said neither am so we agrees this is one of number of madam poems by langston hughes that can be considered as linked series madam and the rent man http oldpoetry com opoem madam and the census man http oldpoetry com opoem show madam and her madam http oldpoetry com opoem madam and the phone bill http oldpoetry com opoem madam\\\\u2019s past history http oldpoetry com opoem this one is taken from the collected poems of langston hughes by langston hughes by the estate of langston hughes the header graphic is an illustration from the liberation news service the late by owner provided at no charge for educational purposes\"\\n    },\\n    \"9\": {\\n        \"Title\": \"Dream Boogie\",\\n        \"Poem\": \"good morning daddy ai not you heard the boogie woogie rumble of dream deferred listen closely you will hear their feet beating out and beating out you think it happy beat listen to it closely ai not you heard something underneath like what did say sure happy take it away hey pop re bop mop hughes himself says that the book from which this comes montage of dream deferred should be viewed as complete poem in itself and not collection of short poems by owner provided at no charge for educational purposes\"\\n    }\\n}'"
            ],
            "application/vnd.google.colaboratory.intrinsic+json": {
              "type": "string"
            }
          },
          "metadata": {},
          "execution_count": 9
        }
      ]
    },
    {
      "cell_type": "code",
      "metadata": {
        "id": "fnJ1pDYPc06n"
      },
      "source": [
        "with open((filepath + 'langston_hughes.csv'), 'w') as outfile:\n",
        "    json.dump(result_lh, outfile)"
      ],
      "execution_count": 10,
      "outputs": []
    },
    {
      "cell_type": "code",
      "metadata": {
        "id": "w6ArqW4Rc3dA",
        "colab": {
          "base_uri": "https://localhost:8080/",
          "height": 142
        },
        "outputId": "140f15f8-dd2f-4007-ebb8-cb80869ebca1"
      },
      "source": [
        "result_mjo = mjo_df.to_json(orient=\"index\")\n",
        "parsed_mjo = json.loads(result_mjo)\n",
        "json.dumps(parsed_mjo, indent=4)"
      ],
      "execution_count": 11,
      "outputs": [
        {
          "output_type": "execute_result",
          "data": {
            "text/plain": [
              "'{\\n    \"0\": {\\n        \"Title\": \"In Blackwater woods\",\\n        \"Poem\": \"look the trees are turning their own bodies into pillars of light are giving off the rich fragrance of cinnamon and fulfillment the long tapers of cattails are bursting and floating away over the blue shoulders of the ponds and every pond no matter what its name is is nameless now every year everything have ever learned in my lifetime leads back to this the fires and the black river of loss whose other side is salvation whose meaning none of us will ever know to live in this world you must be able to do three things to love what is mortal to hold it against your bones knowing your own life depends on it and when the time comes to let it go to let it go by owner provided at no charge for educational purposes\"\\n    },\\n    \"1\": {\\n        \"Title\": \"The Journey\",\\n        \"Poem\": \"one day you finally knew what you had to do and began though the voices around you kept shouting their bad advice though the whole house began to tremble and you felt the old tug at your ankles mend my life each voice cried but you did not stop you knew what you had to do though the wind pried with its stiff fingers at the very foundations though their melancholy was terrible it was already late enough and wild night and the road full of fallen branches and stones but little by little as you left their voice behind the stars began to burn through the sheets of clouds and there was new voice which you slowly recognized as your own that kept you company as you strode deeper and deeper into the world determined to do the only thing you could do determined to save the only life that you could save by owner provided at no charge for educational purposes\"\\n    },\\n    \"2\": {\\n        \"Title\": \"Wild geese\",\\n        \"Poem\": \"you do not have to be good you do not have to walk on your knees for hundred miles through the desert repenting you only have to let the soft animal of your body love what it loves tell me about despair yours and will tell you mine meanwhile the world goes on meanwhile the sun and the clear pebbles of the rain are moving across the landscapes over the prairies and the deep trees the mountains and the rivers meanwhile the wild geese high in the clean blue air are heading home again whoever you are no matter how lonely the world offers itself to your imagination calls to you like the wild geese harsh and exciting over and over announcing your place in the family of things by owner provided at no charge for educational purposes\"\\n    },\\n    \"3\": {\\n        \"Title\": \"Yes! No!\",\\n        \"Poem\": \"how necessary it is to have opinions think the spotted trout lilies are satisfied standing few inches above the earth think serenity is not something you just find in the world like plum tree holding up its white petals the violets along the river are opening their blue faces like small dark lanterns the green mosses being so many are as good as brawny how important it is to walk along not in haste but slowly looking at everything and calling out yes no the swan for all his pomp his robes of grass and petals wants only to be allowed to live on the nameless pond the catbrier is without fault the water thrushes down among the sloppy rocks are going crazy with happiness imagination is better than sharp instrument to pay attention this is our endless and proper work by owner provided at no charge for educational purposes\"\\n    },\\n    \"4\": {\\n        \"Title\": \"Happiness\",\\n        \"Poem\": \"in the afternoon watched the she bear she was looking for the secret bin of sweetness honey that the bees store in the trees\\\\u2019 soft caves black block of gloom she climbed down tree after tree and shuffled on through the woods and then she found it the honey house deep as heartwood and dipped into it among the swarming bees honey and comb she lipped and tongued and scooped out in her black nails until maybe she grew full or sleepy or maybe little drunk and sticky down the rugs of her arms and began to hum and sway saw her let go of the branches saw her lift her honeyed muzzle into the leaves and her thick arms as though she would fly an enormous bee all sweetness and wings down into the meadows the perfections of honeysuckle and roses and clover to float and sleep in the sheer nets swaying from flower to flower day after shining day by owner provided at no charge for educational purposes\"\\n    },\\n    \"5\": {\\n        \"Title\": \"Next time\",\\n        \"Poem\": \"next time what do is look at the earth before saying anything stop just before going into house and be an emperor for minute and listen better to the wind or to the air being still when anyone talked to me whether blame or praise or just passing time watch the face how the mouth has to work and see any strain any sign of what lifted the voice and for all know more the earth bracing itself and soaring the air finding every leaf and feather over forest and water and for every person the body glowing inside the clothes like light by owner provided at no charge for educational purposes\"\\n    },\\n    \"6\": {\\n        \"Title\": \"The summer day\",\\n        \"Poem\": \"who made the world who made the swan and the black bear who made the grasshopper this grasshopper mean the one who has flung herself out of the grass the one who is eating sugar out of my hand who is moving her jaws back and forth instead of up and down who is gazing around with her enormous and complicated eyes now she lifts her pale forearms and thoroughly washes her face now she snaps her wings open and floats away do not know exactly what prayer is do know how to pay attention how to fall down into the grass how to kneel in the grass how to be idle and blessed how to stroll through the fields which is what have been doing all day tell me what else should have done does not everything die at last and too soon tell me what is it you plan to do with your one wild and precious life by owner provided at no charge for educational purposes\"\\n    },\\n    \"7\": {\\n        \"Title\": \"Where Does the Dance Begin, Where Does It End?\",\\n        \"Poem\": \"do not call this world adorable or useful that not it it frisky and theater for more than fair winds the eyelash of lightning is neither good nor evil the struck tree burns like pillar of gold but the blue rain sinks straight to the white feet of the trees whose mouths open does not the wind turning in circles invent the dance have not the flowers moved slowly across asia then europe until at last now they shine in your own yard do not call this world an explanation or even an education when the sufi poet whirled was he looking outward to the mountains so solidly there in white capped ring or was he looking to the center of everything the seed the egg the idea that was also there beautiful as thumb curved and touching the finger tenderly little love ring as he whirled oh jug of breath in the garden of dust by owner provided at no charge for educational purposes\"\\n    },\\n    \"8\": {\\n        \"Title\": \"Breakage\",\\n        \"Poem\": \"go down to the edge of the sea how everything shines in the morning light the cusp of the whelk the broken cupboard of the clam the opened blue mussels moon snails pale pink and barnacle scarred\\\\u2014 and nothing at all whole or shut but tattered split dropped by the gulls onto the gray rocks and all the moisture gone it\\\\u2019s like schoolhouse of little words thousands of words first you figure out what each one means by itself the jingle the periwinkle the scallop full of moonlight then you begin slowly to read the whole story by owner provided at no charge for educational purposes\"\\n    },\\n    \"9\": {\\n        \"Title\": \"Song for Autumn\",\\n        \"Poem\": \"don\\\\u2019t you imagine the leaves dream now how comfortable it will be to touch the earth instead of the nothingness of the air and the endless freshets of wind and don\\\\u2019t you think the trees especially those with mossy hollows are beginning to look for the birds that will come\\\\u2014six dozen\\\\u2014to sleep inside their bodies and don\\\\u2019t you hear the goldenrod whispering goodbye the everlasting being crowned with the first tuffets of snow the pond stiffens and the white field over which the fox runs so quickly brings out its long blue shadows the wind wags its many tails and in the evening the piled firewood shifts little longing to be on its way by owner provided at no charge for educational purposes\"\\n    }\\n}'"
            ],
            "application/vnd.google.colaboratory.intrinsic+json": {
              "type": "string"
            }
          },
          "metadata": {},
          "execution_count": 11
        }
      ]
    },
    {
      "cell_type": "code",
      "metadata": {
        "id": "n81I-1-3c5rI"
      },
      "source": [
        "with open((filepath + 'mary_j_oliver.csv'), 'w') as outfile:\n",
        "    json.dump(result_mjo, outfile)"
      ],
      "execution_count": 12,
      "outputs": []
    },
    {
      "cell_type": "code",
      "metadata": {
        "id": "kZGBn_URc7w3",
        "colab": {
          "base_uri": "https://localhost:8080/"
        },
        "outputId": "fe62e644-308e-4db1-a3d7-a45761e9e9e4"
      },
      "source": [
        "parsed_mjo[\"0\"]"
      ],
      "execution_count": 13,
      "outputs": [
        {
          "output_type": "execute_result",
          "data": {
            "text/plain": [
              "{'Poem': 'look the trees are turning their own bodies into pillars of light are giving off the rich fragrance of cinnamon and fulfillment the long tapers of cattails are bursting and floating away over the blue shoulders of the ponds and every pond no matter what its name is is nameless now every year everything have ever learned in my lifetime leads back to this the fires and the black river of loss whose other side is salvation whose meaning none of us will ever know to live in this world you must be able to do three things to love what is mortal to hold it against your bones knowing your own life depends on it and when the time comes to let it go to let it go by owner provided at no charge for educational purposes',\n",
              " 'Title': 'In Blackwater woods'}"
            ]
          },
          "metadata": {},
          "execution_count": 13
        }
      ]
    },
    {
      "cell_type": "markdown",
      "metadata": {
        "id": "oRLnisPgc-xg"
      },
      "source": [
        "## Build JSON Structure"
      ]
    },
    {
      "cell_type": "code",
      "metadata": {
        "id": "DcgPLkxodC35"
      },
      "source": [
        "langston_hughes = {\n",
        "\n",
        "}\n",
        "\n",
        "mary_j_oliver = {\n",
        "\n",
        "}"
      ],
      "execution_count": 14,
      "outputs": []
    },
    {
      "cell_type": "markdown",
      "metadata": {
        "id": "gE51185-dHhg"
      },
      "source": [
        "## Data Cleaning"
      ]
    },
    {
      "cell_type": "code",
      "metadata": {
        "id": "WVm7HINDdK-v"
      },
      "source": [
        "def cleanPoemText(text):\n",
        "    \n",
        "\n",
        "    text = contractions.fix(text)\n",
        "    \n",
        "    text = text.strip().lower()\n",
        "    \n",
        "    text = re.sub(r\"'\", ' ', text)\n",
        "    \n",
        "    filters='!\"\\'#$%&()*+,-./:;<=>?@[\\\\]^_`{|}~\\t\\n'\n",
        "    translate_dict = dict((i, \" \") for i in filters)\n",
        "    translate_map = str.maketrans(translate_dict)\n",
        "    text = text.translate(translate_map)\n",
        "\n",
        "    text = ' '.join([w for w in text.split()])\n",
        "\n",
        "    # Replace multiple space with one space\n",
        "    text = re.sub(' +', ' ', text)\n",
        "    \n",
        "    text = ''.join(text)\n",
        "\n",
        "    return text"
      ],
      "execution_count": 15,
      "outputs": []
    },
    {
      "cell_type": "markdown",
      "metadata": {
        "id": "wIxqkmAfdUy_"
      },
      "source": [
        "## Clean Poem Text"
      ]
    },
    {
      "cell_type": "code",
      "metadata": {
        "id": "gxWyRjwRdSIw"
      },
      "source": [
        "embedding = ''\n",
        "def buildPoemArray(poet, data):\n",
        "  poems = []\n",
        "  for i in data:\n",
        "    poem = data[i][\"Poem\"]\n",
        "\n",
        "    clean_poem = cleanPoemText(poem)\n",
        "    idx = \"poem\" + str(i)\n",
        "    poet[idx] = clean_poem\n",
        "    poems.append(idx)\n",
        "  poet['poems_array'] = poems\n"
      ],
      "execution_count": 16,
      "outputs": []
    },
    {
      "cell_type": "code",
      "metadata": {
        "id": "Ol2fgkkida3Y"
      },
      "source": [
        "buildPoemArray(langston_hughes, parsed_lh)\n",
        "buildPoemArray(mary_j_oliver, parsed_mjo)"
      ],
      "execution_count": 17,
      "outputs": []
    },
    {
      "cell_type": "code",
      "metadata": {
        "id": "gW-WVzNedkug",
        "colab": {
          "base_uri": "https://localhost:8080/"
        },
        "outputId": "31bc14f8-9610-456f-d061-26d92b2e6948"
      },
      "source": [
        "langston_hughes"
      ],
      "execution_count": 18,
      "outputs": [
        {
          "output_type": "execute_result",
          "data": {
            "text/plain": [
              "{'poem0': 'well son will tell you life for me ai not been no crystal stair it had tacks in it and splinters and boards torn up and places with no carpet on the floor— bare but all the time se been climbin on and reachin landin and turnin corners and sometimes goin in the dark where there ai not been no light so boy do not you turn back do not you set down on the steps because you finds it kinder hard do not you fall now— for se still goin honey se still climbin and life for me ai not been no crystal stair by owner provided at no charge for educational purposes',\n",
              " 'poem1': 'landlord landlord my roof has sprung leak do not you member told you about it way last week landlord landlord these steps is broken down when you come up yourself it wonder you do not fall down ten bucks you say owe you ten bucks you say is due well that ten bucks more pay you till you fix this house up new what you going to get eviction orders you going to cut off my heat you going to take my furniture and throw it in the street um huh you talking high and mighty talk on till you get through you ai not going to be able to say word if land my fist on you police police come and get this man he trying to ruin the government and overturn the land copper whistle patrol bell arrest precinct station iron cell headlines in press man threatens landlord tenant held no bail judge gives negro days in county jail from the langston hughes reader this poem by langston hughes grew out of conditions in new york city’s harlem in the ’s in graphic terms it describes the escalation of anger and frustration that tenants experienced trying to get landlords to make basic repairs it is structured like an old time blues song until the final verse where the rhythm changes charley noble by owner provided at no charge for educational purposes',\n",
              " 'poem2': 'too sing america am the darker brother they send me to eat in the kitchen when company comes but laugh and eat well and grow strong tomorrow will be at the table when company comes nobody will dare say to me eat in the kitchen then besides they will see how beautiful am and be ashamed— too am america http www poetryarchive org poetryarchive singlepoem do poemid listen to langston hughes read this poem recorded in by owner provided at no charge for educational purposes',\n",
              " 'poem3': 'it was long time ago have almost forgotten my dream but it was there then in front of me bright like sun— my dream and then the wall rose rose slowly slowly between me and my dream rose until it touched the sky— the wall shadow am black lie down in the shadow no longer the light of my dream before me above me only the thick wall only the shadow my hands my dark hands break through the wall find my dream help me to shatter this darkness to smash this night to break this shadow into thousand lights of sun into thousand whirling dreams of sun by owner provided at no charge for educational purposes',\n",
              " 'poem4': 'children come back today to tell you story of the long dark way that had to climb that had to know in order that the race might live and grow look at my face dark as the night yet shining like the sun with love true light am the child they stole from the sand three hundred years ago in africa land am the dark girl who crossed the wide sea carrying in my body the seed of the free am the woman who worked in the field bringing the cotton and the corn to yield am the one who labored as slave beaten and mistreated for the work gave children sold away from me husband sold too no safety no love no respect was due three hundred years in the deepest south but god put song and prayer in my mouth god put dream like steel in my soul now through my children reaching the goal now through my children young and free realize the blessings deed to me could not read then could not write had nothing back there in the night sometimes the valley was filled with tears but kept trudging on through the lonely years sometimes the road was hot with the sun but had to keep on till my work was done had to keep on no stopping for me was the seed of the coming free nourished the dream that nothing could smother deep in my breast the negro mother had only hope then but now through you dark ones of today my dreams must come true all you dark children in the world out there remember my sweat my pain my despair remember my years heavy with sorrow and make of those years torch for tomorrow make of my pass road to the light out of the darkness the ignorance the night lift high my banner out of the dust stand like free men supporting my trust believe in the right let none push you back remember the whip and the slaver track remember how the strong in struggle and strife still bar you the way and deny you life but march ever forward breaking down bars look ever upward at the sun and the stars oh my dark children may my dreams and my prayers impel you forever up the great stairs for will be with you till no white brother dares keep down the children of the negro mother many on line versions have the alternate line realized the blessing denied to me by owner provided at no charge for educational purposes',\n",
              " 'poem5': 'have known rivers have known rivers ancient as the world and older than the flow of human blood in human veins my soul has grown deep like the rivers bathed in the euphrates when dawns were young built my hut near the congo and it lulled me to sleep looked upon the nile and raised the pyramids above it heard the singing of the mississippi when abe lincoln went down to new orleans and have seen its muddy bosom turn all golden in the sunset have known rivers ancient dusky rivers my soul has grown deep like the rivers http www poetryarchive org poetryarchive singlepoem do poemid recorded in langston hughes recites by owner provided at no charge for educational purposes',\n",
              " 'poem6': 'the negro with the trumpet at his lips has dark moons of weariness beneath his eyes where the smoldering memory of slave ships blazed to the crack of whips about thighs the negro with the trumpet at his lips has head of vibrant hair tamed down patent leathered now until it gleams like jet— were jet crown the music from the trumpet at his lips is honey mixed with liquid fire the rhythm from the trumpet at his lips is ecstasy distilled from old desire— desire that is longing for the moon where the moonlight but spotlight in his eyes desire that is longing for the sea where the sea bar glass sucker size the negro with the trumpet at his lips whose jacket has fine one button roll does not know upon what riff the music slips it hypodermic needle to his soul but softly as the tune comes from his throat trouble mellows to golden note by owner provided at no charge for educational purposes',\n",
              " 'poem7': 'my old man white old manand my old mother black if ever cursed my white old mani take my curses back if ever cursed my black old motherand wished she were in hell sorry for that evil wishand now wish her wellmy old man died in fine big house my ma died in shack wonder were going to die being neither white nor black by owner provided at no charge for educational purposes',\n",
              " 'poem8': 'the rent man knocked he said how do you do said what can do for you he said you know your rent is due said listen before pay go to hades and rot away the sink is broke the water do not run and you ai not done thing you promised to have done back window cracked kitchen floor squeaks there rats in the cellar and the attic leaks he said madam it not up to me just the agent do not you see said naturally you pass the buck if it money you want you are out of luck he said madam ai not pleased said neither am so we agrees this is one of number of madam poems by langston hughes that can be considered as linked series madam and the rent man http oldpoetry com opoem madam and the census man http oldpoetry com opoem show madam and her madam http oldpoetry com opoem madam and the phone bill http oldpoetry com opoem madam’s past history http oldpoetry com opoem this one is taken from the collected poems of langston hughes by langston hughes by the estate of langston hughes the header graphic is an illustration from the liberation news service the late by owner provided at no charge for educational purposes',\n",
              " 'poem9': 'good morning daddy ai not you heard the boogie woogie rumble of dream deferred listen closely you will hear their feet beating out and beating out you think it happy beat listen to it closely ai not you heard something underneath like what did say sure happy take it away hey pop re bop mop hughes himself says that the book from which this comes montage of dream deferred should be viewed as complete poem in itself and not collection of short poems by owner provided at no charge for educational purposes',\n",
              " 'poems_array': ['poem0',\n",
              "  'poem1',\n",
              "  'poem2',\n",
              "  'poem3',\n",
              "  'poem4',\n",
              "  'poem5',\n",
              "  'poem6',\n",
              "  'poem7',\n",
              "  'poem8',\n",
              "  'poem9']}"
            ]
          },
          "metadata": {},
          "execution_count": 18
        }
      ]
    },
    {
      "cell_type": "code",
      "metadata": {
        "id": "a1YnnpDJdjHw",
        "colab": {
          "base_uri": "https://localhost:8080/"
        },
        "outputId": "cd36a9eb-ac21-421f-ad20-e9e697f9dc20"
      },
      "source": [
        "mary_j_oliver"
      ],
      "execution_count": 19,
      "outputs": [
        {
          "output_type": "execute_result",
          "data": {
            "text/plain": [
              "{'poem0': 'look the trees are turning their own bodies into pillars of light are giving off the rich fragrance of cinnamon and fulfillment the long tapers of cattails are bursting and floating away over the blue shoulders of the ponds and every pond no matter what its name is is nameless now every year everything have ever learned in my lifetime leads back to this the fires and the black river of loss whose other side is salvation whose meaning none of us will ever know to live in this world you must be able to do three things to love what is mortal to hold it against your bones knowing your own life depends on it and when the time comes to let it go to let it go by owner provided at no charge for educational purposes',\n",
              " 'poem1': 'one day you finally knew what you had to do and began though the voices around you kept shouting their bad advice though the whole house began to tremble and you felt the old tug at your ankles mend my life each voice cried but you did not stop you knew what you had to do though the wind pried with its stiff fingers at the very foundations though their melancholy was terrible it was already late enough and wild night and the road full of fallen branches and stones but little by little as you left their voice behind the stars began to burn through the sheets of clouds and there was new voice which you slowly recognized as your own that kept you company as you strode deeper and deeper into the world determined to do the only thing you could do determined to save the only life that you could save by owner provided at no charge for educational purposes',\n",
              " 'poem2': 'you do not have to be good you do not have to walk on your knees for hundred miles through the desert repenting you only have to let the soft animal of your body love what it loves tell me about despair yours and will tell you mine meanwhile the world goes on meanwhile the sun and the clear pebbles of the rain are moving across the landscapes over the prairies and the deep trees the mountains and the rivers meanwhile the wild geese high in the clean blue air are heading home again whoever you are no matter how lonely the world offers itself to your imagination calls to you like the wild geese harsh and exciting over and over announcing your place in the family of things by owner provided at no charge for educational purposes',\n",
              " 'poem3': 'how necessary it is to have opinions think the spotted trout lilies are satisfied standing few inches above the earth think serenity is not something you just find in the world like plum tree holding up its white petals the violets along the river are opening their blue faces like small dark lanterns the green mosses being so many are as good as brawny how important it is to walk along not in haste but slowly looking at everything and calling out yes no the swan for all his pomp his robes of grass and petals wants only to be allowed to live on the nameless pond the catbrier is without fault the water thrushes down among the sloppy rocks are going crazy with happiness imagination is better than sharp instrument to pay attention this is our endless and proper work by owner provided at no charge for educational purposes',\n",
              " 'poem4': 'in the afternoon watched the she bear she was looking for the secret bin of sweetness honey that the bees store in the trees’ soft caves black block of gloom she climbed down tree after tree and shuffled on through the woods and then she found it the honey house deep as heartwood and dipped into it among the swarming bees honey and comb she lipped and tongued and scooped out in her black nails until maybe she grew full or sleepy or maybe little drunk and sticky down the rugs of her arms and began to hum and sway saw her let go of the branches saw her lift her honeyed muzzle into the leaves and her thick arms as though she would fly an enormous bee all sweetness and wings down into the meadows the perfections of honeysuckle and roses and clover to float and sleep in the sheer nets swaying from flower to flower day after shining day by owner provided at no charge for educational purposes',\n",
              " 'poem5': 'next time what do is look at the earth before saying anything stop just before going into house and be an emperor for minute and listen better to the wind or to the air being still when anyone talked to me whether blame or praise or just passing time watch the face how the mouth has to work and see any strain any sign of what lifted the voice and for all know more the earth bracing itself and soaring the air finding every leaf and feather over forest and water and for every person the body glowing inside the clothes like light by owner provided at no charge for educational purposes',\n",
              " 'poem6': 'who made the world who made the swan and the black bear who made the grasshopper this grasshopper mean the one who has flung herself out of the grass the one who is eating sugar out of my hand who is moving her jaws back and forth instead of up and down who is gazing around with her enormous and complicated eyes now she lifts her pale forearms and thoroughly washes her face now she snaps her wings open and floats away do not know exactly what prayer is do know how to pay attention how to fall down into the grass how to kneel in the grass how to be idle and blessed how to stroll through the fields which is what have been doing all day tell me what else should have done does not everything die at last and too soon tell me what is it you plan to do with your one wild and precious life by owner provided at no charge for educational purposes',\n",
              " 'poem7': 'do not call this world adorable or useful that not it it frisky and theater for more than fair winds the eyelash of lightning is neither good nor evil the struck tree burns like pillar of gold but the blue rain sinks straight to the white feet of the trees whose mouths open does not the wind turning in circles invent the dance have not the flowers moved slowly across asia then europe until at last now they shine in your own yard do not call this world an explanation or even an education when the sufi poet whirled was he looking outward to the mountains so solidly there in white capped ring or was he looking to the center of everything the seed the egg the idea that was also there beautiful as thumb curved and touching the finger tenderly little love ring as he whirled oh jug of breath in the garden of dust by owner provided at no charge for educational purposes',\n",
              " 'poem8': 'go down to the edge of the sea how everything shines in the morning light the cusp of the whelk the broken cupboard of the clam the opened blue mussels moon snails pale pink and barnacle scarred— and nothing at all whole or shut but tattered split dropped by the gulls onto the gray rocks and all the moisture gone it is like schoolhouse of little words thousands of words first you figure out what each one means by itself the jingle the periwinkle the scallop full of moonlight then you begin slowly to read the whole story by owner provided at no charge for educational purposes',\n",
              " 'poem9': 'do not you imagine the leaves dream now how comfortable it will be to touch the earth instead of the nothingness of the air and the endless freshets of wind and do not you think the trees especially those with mossy hollows are beginning to look for the birds that will come—six dozen—to sleep inside their bodies and do not you hear the goldenrod whispering goodbye the everlasting being crowned with the first tuffets of snow the pond stiffens and the white field over which the fox runs so quickly brings out its long blue shadows the wind wags its many tails and in the evening the piled firewood shifts little longing to be on its way by owner provided at no charge for educational purposes',\n",
              " 'poems_array': ['poem0',\n",
              "  'poem1',\n",
              "  'poem2',\n",
              "  'poem3',\n",
              "  'poem4',\n",
              "  'poem5',\n",
              "  'poem6',\n",
              "  'poem7',\n",
              "  'poem8',\n",
              "  'poem9']}"
            ]
          },
          "metadata": {},
          "execution_count": 19
        }
      ]
    },
    {
      "cell_type": "code",
      "metadata": {
        "id": "GS2XXjIXXhnA"
      },
      "source": [
        "langston_hughes_poems = langston_hughes.copy()\n",
        "mary_j_oliver_poems = mary_j_oliver.copy()"
      ],
      "execution_count": 20,
      "outputs": []
    },
    {
      "cell_type": "markdown",
      "metadata": {
        "id": "STzqcZPUdnWp"
      },
      "source": [
        "# Run Part-Of-Speech, extract verbs, nouns and adjectives"
      ]
    },
    {
      "cell_type": "code",
      "metadata": {
        "id": "8Ty5NNaXdsQI"
      },
      "source": [
        "def getPOS(poet):\n",
        "  global_vrb= set()\n",
        "  global_nns= set()\n",
        "  global_adj= set()\n",
        "  for key in poet['poems_array']:\n",
        "    text = poet[key]\n",
        "    wrd_list = word_tokenize(text)\n",
        "    pos_val = nltk.pos_tag(wrd_list)\n",
        "    poet[\"pos_\"+key] = pos_val\n",
        "\n",
        "    vrb = set([word for (word, pos) in pos_val if (pos.startswith('VB'))])\n",
        "    nns = set([word for (word, pos) in pos_val if (pos.startswith('NN'))])\n",
        "    adj = set([word for (word, pos) in pos_val if (pos.startswith('JJ'))])\n",
        "\n",
        "    poet[\"verbs_\"+key] = list(vrb)\n",
        "    poet[\"adjectives_\"+key] = list(adj)\n",
        "    poet[\"nouns_\"+key] = list(nns)\n",
        "\n",
        "    global_vrb = set.union(global_vrb, vrb)\n",
        "    global_nns = set.union(global_nns, nns)\n",
        "    global_adj = set.union(global_adj, adj)\n",
        "\n",
        "  poet['all_verbs'] = list(global_vrb)\n",
        "  poet['all_nouns'] = list(global_nns)\n",
        "  poet['all_adjectives'] = list(global_adj)"
      ],
      "execution_count": 21,
      "outputs": []
    },
    {
      "cell_type": "code",
      "metadata": {
        "id": "5_zt9homdxTh"
      },
      "source": [
        "langston_hughes_pos = langston_hughes.copy()\n",
        "getPOS(langston_hughes_pos)\n",
        "# langston_hughes_pos"
      ],
      "execution_count": 22,
      "outputs": []
    },
    {
      "cell_type": "code",
      "metadata": {
        "id": "RNC9ffYSKLrZ",
        "colab": {
          "base_uri": "https://localhost:8080/"
        },
        "outputId": "3d3c8d44-5178-4626-9741-9ea085ce3108"
      },
      "source": [
        "langston_hughes"
      ],
      "execution_count": 23,
      "outputs": [
        {
          "output_type": "execute_result",
          "data": {
            "text/plain": [
              "{'poem0': 'well son will tell you life for me ai not been no crystal stair it had tacks in it and splinters and boards torn up and places with no carpet on the floor— bare but all the time se been climbin on and reachin landin and turnin corners and sometimes goin in the dark where there ai not been no light so boy do not you turn back do not you set down on the steps because you finds it kinder hard do not you fall now— for se still goin honey se still climbin and life for me ai not been no crystal stair by owner provided at no charge for educational purposes',\n",
              " 'poem1': 'landlord landlord my roof has sprung leak do not you member told you about it way last week landlord landlord these steps is broken down when you come up yourself it wonder you do not fall down ten bucks you say owe you ten bucks you say is due well that ten bucks more pay you till you fix this house up new what you going to get eviction orders you going to cut off my heat you going to take my furniture and throw it in the street um huh you talking high and mighty talk on till you get through you ai not going to be able to say word if land my fist on you police police come and get this man he trying to ruin the government and overturn the land copper whistle patrol bell arrest precinct station iron cell headlines in press man threatens landlord tenant held no bail judge gives negro days in county jail from the langston hughes reader this poem by langston hughes grew out of conditions in new york city’s harlem in the ’s in graphic terms it describes the escalation of anger and frustration that tenants experienced trying to get landlords to make basic repairs it is structured like an old time blues song until the final verse where the rhythm changes charley noble by owner provided at no charge for educational purposes',\n",
              " 'poem2': 'too sing america am the darker brother they send me to eat in the kitchen when company comes but laugh and eat well and grow strong tomorrow will be at the table when company comes nobody will dare say to me eat in the kitchen then besides they will see how beautiful am and be ashamed— too am america http www poetryarchive org poetryarchive singlepoem do poemid listen to langston hughes read this poem recorded in by owner provided at no charge for educational purposes',\n",
              " 'poem3': 'it was long time ago have almost forgotten my dream but it was there then in front of me bright like sun— my dream and then the wall rose rose slowly slowly between me and my dream rose until it touched the sky— the wall shadow am black lie down in the shadow no longer the light of my dream before me above me only the thick wall only the shadow my hands my dark hands break through the wall find my dream help me to shatter this darkness to smash this night to break this shadow into thousand lights of sun into thousand whirling dreams of sun by owner provided at no charge for educational purposes',\n",
              " 'poem4': 'children come back today to tell you story of the long dark way that had to climb that had to know in order that the race might live and grow look at my face dark as the night yet shining like the sun with love true light am the child they stole from the sand three hundred years ago in africa land am the dark girl who crossed the wide sea carrying in my body the seed of the free am the woman who worked in the field bringing the cotton and the corn to yield am the one who labored as slave beaten and mistreated for the work gave children sold away from me husband sold too no safety no love no respect was due three hundred years in the deepest south but god put song and prayer in my mouth god put dream like steel in my soul now through my children reaching the goal now through my children young and free realize the blessings deed to me could not read then could not write had nothing back there in the night sometimes the valley was filled with tears but kept trudging on through the lonely years sometimes the road was hot with the sun but had to keep on till my work was done had to keep on no stopping for me was the seed of the coming free nourished the dream that nothing could smother deep in my breast the negro mother had only hope then but now through you dark ones of today my dreams must come true all you dark children in the world out there remember my sweat my pain my despair remember my years heavy with sorrow and make of those years torch for tomorrow make of my pass road to the light out of the darkness the ignorance the night lift high my banner out of the dust stand like free men supporting my trust believe in the right let none push you back remember the whip and the slaver track remember how the strong in struggle and strife still bar you the way and deny you life but march ever forward breaking down bars look ever upward at the sun and the stars oh my dark children may my dreams and my prayers impel you forever up the great stairs for will be with you till no white brother dares keep down the children of the negro mother many on line versions have the alternate line realized the blessing denied to me by owner provided at no charge for educational purposes',\n",
              " 'poem5': 'have known rivers have known rivers ancient as the world and older than the flow of human blood in human veins my soul has grown deep like the rivers bathed in the euphrates when dawns were young built my hut near the congo and it lulled me to sleep looked upon the nile and raised the pyramids above it heard the singing of the mississippi when abe lincoln went down to new orleans and have seen its muddy bosom turn all golden in the sunset have known rivers ancient dusky rivers my soul has grown deep like the rivers http www poetryarchive org poetryarchive singlepoem do poemid recorded in langston hughes recites by owner provided at no charge for educational purposes',\n",
              " 'poem6': 'the negro with the trumpet at his lips has dark moons of weariness beneath his eyes where the smoldering memory of slave ships blazed to the crack of whips about thighs the negro with the trumpet at his lips has head of vibrant hair tamed down patent leathered now until it gleams like jet— were jet crown the music from the trumpet at his lips is honey mixed with liquid fire the rhythm from the trumpet at his lips is ecstasy distilled from old desire— desire that is longing for the moon where the moonlight but spotlight in his eyes desire that is longing for the sea where the sea bar glass sucker size the negro with the trumpet at his lips whose jacket has fine one button roll does not know upon what riff the music slips it hypodermic needle to his soul but softly as the tune comes from his throat trouble mellows to golden note by owner provided at no charge for educational purposes',\n",
              " 'poem7': 'my old man white old manand my old mother black if ever cursed my white old mani take my curses back if ever cursed my black old motherand wished she were in hell sorry for that evil wishand now wish her wellmy old man died in fine big house my ma died in shack wonder were going to die being neither white nor black by owner provided at no charge for educational purposes',\n",
              " 'poem8': 'the rent man knocked he said how do you do said what can do for you he said you know your rent is due said listen before pay go to hades and rot away the sink is broke the water do not run and you ai not done thing you promised to have done back window cracked kitchen floor squeaks there rats in the cellar and the attic leaks he said madam it not up to me just the agent do not you see said naturally you pass the buck if it money you want you are out of luck he said madam ai not pleased said neither am so we agrees this is one of number of madam poems by langston hughes that can be considered as linked series madam and the rent man http oldpoetry com opoem madam and the census man http oldpoetry com opoem show madam and her madam http oldpoetry com opoem madam and the phone bill http oldpoetry com opoem madam’s past history http oldpoetry com opoem this one is taken from the collected poems of langston hughes by langston hughes by the estate of langston hughes the header graphic is an illustration from the liberation news service the late by owner provided at no charge for educational purposes',\n",
              " 'poem9': 'good morning daddy ai not you heard the boogie woogie rumble of dream deferred listen closely you will hear their feet beating out and beating out you think it happy beat listen to it closely ai not you heard something underneath like what did say sure happy take it away hey pop re bop mop hughes himself says that the book from which this comes montage of dream deferred should be viewed as complete poem in itself and not collection of short poems by owner provided at no charge for educational purposes',\n",
              " 'poems_array': ['poem0',\n",
              "  'poem1',\n",
              "  'poem2',\n",
              "  'poem3',\n",
              "  'poem4',\n",
              "  'poem5',\n",
              "  'poem6',\n",
              "  'poem7',\n",
              "  'poem8',\n",
              "  'poem9']}"
            ]
          },
          "metadata": {},
          "execution_count": 23
        }
      ]
    },
    {
      "cell_type": "code",
      "metadata": {
        "id": "ukh7Wwo-duvb"
      },
      "source": [
        "mary_j_oliver_pos = mary_j_oliver.copy()\n",
        "getPOS(mary_j_oliver_pos)\n",
        "# mary_j_oliver_pos"
      ],
      "execution_count": 24,
      "outputs": []
    },
    {
      "cell_type": "code",
      "metadata": {
        "id": "Z0WP1jVVJ2Gj",
        "colab": {
          "base_uri": "https://localhost:8080/"
        },
        "outputId": "f7b42445-8445-4ac4-c821-e02d178e3e13"
      },
      "source": [
        "mary_j_oliver"
      ],
      "execution_count": 25,
      "outputs": [
        {
          "output_type": "execute_result",
          "data": {
            "text/plain": [
              "{'poem0': 'look the trees are turning their own bodies into pillars of light are giving off the rich fragrance of cinnamon and fulfillment the long tapers of cattails are bursting and floating away over the blue shoulders of the ponds and every pond no matter what its name is is nameless now every year everything have ever learned in my lifetime leads back to this the fires and the black river of loss whose other side is salvation whose meaning none of us will ever know to live in this world you must be able to do three things to love what is mortal to hold it against your bones knowing your own life depends on it and when the time comes to let it go to let it go by owner provided at no charge for educational purposes',\n",
              " 'poem1': 'one day you finally knew what you had to do and began though the voices around you kept shouting their bad advice though the whole house began to tremble and you felt the old tug at your ankles mend my life each voice cried but you did not stop you knew what you had to do though the wind pried with its stiff fingers at the very foundations though their melancholy was terrible it was already late enough and wild night and the road full of fallen branches and stones but little by little as you left their voice behind the stars began to burn through the sheets of clouds and there was new voice which you slowly recognized as your own that kept you company as you strode deeper and deeper into the world determined to do the only thing you could do determined to save the only life that you could save by owner provided at no charge for educational purposes',\n",
              " 'poem2': 'you do not have to be good you do not have to walk on your knees for hundred miles through the desert repenting you only have to let the soft animal of your body love what it loves tell me about despair yours and will tell you mine meanwhile the world goes on meanwhile the sun and the clear pebbles of the rain are moving across the landscapes over the prairies and the deep trees the mountains and the rivers meanwhile the wild geese high in the clean blue air are heading home again whoever you are no matter how lonely the world offers itself to your imagination calls to you like the wild geese harsh and exciting over and over announcing your place in the family of things by owner provided at no charge for educational purposes',\n",
              " 'poem3': 'how necessary it is to have opinions think the spotted trout lilies are satisfied standing few inches above the earth think serenity is not something you just find in the world like plum tree holding up its white petals the violets along the river are opening their blue faces like small dark lanterns the green mosses being so many are as good as brawny how important it is to walk along not in haste but slowly looking at everything and calling out yes no the swan for all his pomp his robes of grass and petals wants only to be allowed to live on the nameless pond the catbrier is without fault the water thrushes down among the sloppy rocks are going crazy with happiness imagination is better than sharp instrument to pay attention this is our endless and proper work by owner provided at no charge for educational purposes',\n",
              " 'poem4': 'in the afternoon watched the she bear she was looking for the secret bin of sweetness honey that the bees store in the trees’ soft caves black block of gloom she climbed down tree after tree and shuffled on through the woods and then she found it the honey house deep as heartwood and dipped into it among the swarming bees honey and comb she lipped and tongued and scooped out in her black nails until maybe she grew full or sleepy or maybe little drunk and sticky down the rugs of her arms and began to hum and sway saw her let go of the branches saw her lift her honeyed muzzle into the leaves and her thick arms as though she would fly an enormous bee all sweetness and wings down into the meadows the perfections of honeysuckle and roses and clover to float and sleep in the sheer nets swaying from flower to flower day after shining day by owner provided at no charge for educational purposes',\n",
              " 'poem5': 'next time what do is look at the earth before saying anything stop just before going into house and be an emperor for minute and listen better to the wind or to the air being still when anyone talked to me whether blame or praise or just passing time watch the face how the mouth has to work and see any strain any sign of what lifted the voice and for all know more the earth bracing itself and soaring the air finding every leaf and feather over forest and water and for every person the body glowing inside the clothes like light by owner provided at no charge for educational purposes',\n",
              " 'poem6': 'who made the world who made the swan and the black bear who made the grasshopper this grasshopper mean the one who has flung herself out of the grass the one who is eating sugar out of my hand who is moving her jaws back and forth instead of up and down who is gazing around with her enormous and complicated eyes now she lifts her pale forearms and thoroughly washes her face now she snaps her wings open and floats away do not know exactly what prayer is do know how to pay attention how to fall down into the grass how to kneel in the grass how to be idle and blessed how to stroll through the fields which is what have been doing all day tell me what else should have done does not everything die at last and too soon tell me what is it you plan to do with your one wild and precious life by owner provided at no charge for educational purposes',\n",
              " 'poem7': 'do not call this world adorable or useful that not it it frisky and theater for more than fair winds the eyelash of lightning is neither good nor evil the struck tree burns like pillar of gold but the blue rain sinks straight to the white feet of the trees whose mouths open does not the wind turning in circles invent the dance have not the flowers moved slowly across asia then europe until at last now they shine in your own yard do not call this world an explanation or even an education when the sufi poet whirled was he looking outward to the mountains so solidly there in white capped ring or was he looking to the center of everything the seed the egg the idea that was also there beautiful as thumb curved and touching the finger tenderly little love ring as he whirled oh jug of breath in the garden of dust by owner provided at no charge for educational purposes',\n",
              " 'poem8': 'go down to the edge of the sea how everything shines in the morning light the cusp of the whelk the broken cupboard of the clam the opened blue mussels moon snails pale pink and barnacle scarred— and nothing at all whole or shut but tattered split dropped by the gulls onto the gray rocks and all the moisture gone it is like schoolhouse of little words thousands of words first you figure out what each one means by itself the jingle the periwinkle the scallop full of moonlight then you begin slowly to read the whole story by owner provided at no charge for educational purposes',\n",
              " 'poem9': 'do not you imagine the leaves dream now how comfortable it will be to touch the earth instead of the nothingness of the air and the endless freshets of wind and do not you think the trees especially those with mossy hollows are beginning to look for the birds that will come—six dozen—to sleep inside their bodies and do not you hear the goldenrod whispering goodbye the everlasting being crowned with the first tuffets of snow the pond stiffens and the white field over which the fox runs so quickly brings out its long blue shadows the wind wags its many tails and in the evening the piled firewood shifts little longing to be on its way by owner provided at no charge for educational purposes',\n",
              " 'poems_array': ['poem0',\n",
              "  'poem1',\n",
              "  'poem2',\n",
              "  'poem3',\n",
              "  'poem4',\n",
              "  'poem5',\n",
              "  'poem6',\n",
              "  'poem7',\n",
              "  'poem8',\n",
              "  'poem9']}"
            ]
          },
          "metadata": {},
          "execution_count": 25
        }
      ]
    },
    {
      "cell_type": "markdown",
      "metadata": {
        "id": "yTru-dPsWFv4"
      },
      "source": [
        "# Store the POS JSON Data to File"
      ]
    },
    {
      "cell_type": "code",
      "metadata": {
        "id": "GWURKKYVWDoJ"
      },
      "source": [
        "with open((filepath + 'langston_hughes_pos_final.json'), 'w') as outfile:\n",
        "    json.dump(langston_hughes_pos, outfile)"
      ],
      "execution_count": 26,
      "outputs": []
    },
    {
      "cell_type": "code",
      "metadata": {
        "id": "OFu2hF4_WE8n"
      },
      "source": [
        "with open((filepath + 'mary_j_oliver_pos_final.json'), 'w') as outfile:\n",
        "    json.dump(mary_j_oliver_pos, outfile)"
      ],
      "execution_count": 27,
      "outputs": []
    },
    {
      "cell_type": "markdown",
      "metadata": {
        "id": "UkEcC9_Nd3Sx"
      },
      "source": [
        "# Summarization using transformers"
      ]
    },
    {
      "cell_type": "code",
      "metadata": {
        "id": "mBwaKRCEd-wi"
      },
      "source": [
        "os.environ[\"CUDA_VISIBLE_DEVICES\"] = \"0\""
      ],
      "execution_count": 28,
      "outputs": []
    },
    {
      "cell_type": "code",
      "metadata": {
        "id": "DMQNMhUSeA25",
        "colab": {
          "base_uri": "https://localhost:8080/"
        },
        "outputId": "79175d18-8d7c-4274-8123-e712b78d4a19"
      },
      "source": [
        "summarizer = pipeline(\"summarization\", model=\"t5-base\", tokenizer=\"t5-base\", framework=\"tf\")"
      ],
      "execution_count": 29,
      "outputs": [
        {
          "output_type": "stream",
          "name": "stderr",
          "text": [
            "All model checkpoint layers were used when initializing TFT5ForConditionalGeneration.\n",
            "\n",
            "All the layers of TFT5ForConditionalGeneration were initialized from the model checkpoint at t5-base.\n",
            "If your task is similar to the task the model of the checkpoint was trained on, you can already use TFT5ForConditionalGeneration for predictions without further training.\n"
          ]
        }
      ]
    },
    {
      "cell_type": "code",
      "metadata": {
        "id": "DmAgCLqReDf5"
      },
      "source": [
        "def getSummaryOfPoem(poet):\n",
        "  def removeQuotes(mydata):\n",
        "    new_data = mydata.strip('“”')\n",
        "    return new_data\n",
        "  count = 0\n",
        "  for key in poet['poems_array']:\n",
        "    count += 1;\n",
        "    text = poet[key] \n",
        "    text = removeQuotes(text)\n",
        "    summary_text = summarizer(text, max_length=512, min_length=5, do_sample=False)[0]['summary_text']\n",
        "    poet[\"summary_\"+key] = summary_text\n",
        "  \n",
        "  return poet"
      ],
      "execution_count": 30,
      "outputs": []
    },
    {
      "cell_type": "code",
      "source": [
        "from time import gmtime, strftime\n",
        "print (strftime(\"%Y-%m-%d %H:%M:%S\", gmtime()))\n",
        "\n",
        "from time import gmtime, strftime\n",
        "print (strftime(\"%Y-%m-%d %H:%M:%S\", gmtime()))\n",
        "\n",
        "import timeit\n",
        "\n",
        "start = timeit.default_timer()"
      ],
      "metadata": {
        "id": "Tfm4B2obUiAN",
        "colab": {
          "base_uri": "https://localhost:8080/"
        },
        "outputId": "aa804ee0-8e93-4d02-c54a-6876ee36c270"
      },
      "execution_count": 31,
      "outputs": [
        {
          "output_type": "stream",
          "name": "stdout",
          "text": [
            "2022-04-21 02:03:36\n",
            "2022-04-21 02:03:36\n"
          ]
        }
      ]
    },
    {
      "cell_type": "code",
      "metadata": {
        "id": "fI2d-0LJeF5h",
        "colab": {
          "base_uri": "https://localhost:8080/"
        },
        "outputId": "1dedfd1c-e2f7-4ca1-c1d9-e37e5f874082"
      },
      "source": [
        "langston_hughes_sum = langston_hughes.copy()\n",
        "mary_j_oliver_sum = mary_j_oliver.copy()\n",
        "data_langston_hughes = getSummaryOfPoem(langston_hughes_sum)\n",
        "data_mary_j_oliver = getSummaryOfPoem(mary_j_oliver_sum)"
      ],
      "execution_count": 32,
      "outputs": [
        {
          "output_type": "stream",
          "name": "stderr",
          "text": [
            "Your max_length is set to 512, but you input_length is only 144. You might consider decreasing max_length manually, e.g. summarizer('...', max_length=72)\n",
            "Your max_length is set to 512, but you input_length is only 284. You might consider decreasing max_length manually, e.g. summarizer('...', max_length=142)\n",
            "Your max_length is set to 512, but you input_length is only 110. You might consider decreasing max_length manually, e.g. summarizer('...', max_length=55)\n",
            "Your max_length is set to 512, but you input_length is only 126. You might consider decreasing max_length manually, e.g. summarizer('...', max_length=63)\n",
            "Your max_length is set to 512, but you input_length is only 466. You might consider decreasing max_length manually, e.g. summarizer('...', max_length=233)\n",
            "Your max_length is set to 512, but you input_length is only 170. You might consider decreasing max_length manually, e.g. summarizer('...', max_length=85)\n",
            "Your max_length is set to 512, but you input_length is only 218. You might consider decreasing max_length manually, e.g. summarizer('...', max_length=109)\n",
            "Your max_length is set to 512, but you input_length is only 89. You might consider decreasing max_length manually, e.g. summarizer('...', max_length=44)\n",
            "Your max_length is set to 512, but you input_length is only 314. You might consider decreasing max_length manually, e.g. summarizer('...', max_length=157)\n",
            "Your max_length is set to 512, but you input_length is only 119. You might consider decreasing max_length manually, e.g. summarizer('...', max_length=59)\n",
            "Your max_length is set to 512, but you input_length is only 155. You might consider decreasing max_length manually, e.g. summarizer('...', max_length=77)\n",
            "Your max_length is set to 512, but you input_length is only 181. You might consider decreasing max_length manually, e.g. summarizer('...', max_length=90)\n",
            "Your max_length is set to 512, but you input_length is only 161. You might consider decreasing max_length manually, e.g. summarizer('...', max_length=80)\n",
            "Your max_length is set to 512, but you input_length is only 183. You might consider decreasing max_length manually, e.g. summarizer('...', max_length=91)\n",
            "Your max_length is set to 512, but you input_length is only 222. You might consider decreasing max_length manually, e.g. summarizer('...', max_length=111)\n",
            "Your max_length is set to 512, but you input_length is only 121. You might consider decreasing max_length manually, e.g. summarizer('...', max_length=60)\n",
            "Your max_length is set to 512, but you input_length is only 200. You might consider decreasing max_length manually, e.g. summarizer('...', max_length=100)\n",
            "Your max_length is set to 512, but you input_length is only 137. You might consider decreasing max_length manually, e.g. summarizer('...', max_length=68)\n",
            "Your max_length is set to 512, but you input_length is only 163. You might consider decreasing max_length manually, e.g. summarizer('...', max_length=81)\n"
          ]
        }
      ]
    },
    {
      "cell_type": "code",
      "source": [
        "\n",
        "\n",
        "#Your statements here\n",
        "\n",
        "stop = timeit.default_timer()\n",
        "\n",
        "print('Time: ', stop - start)  "
      ],
      "metadata": {
        "id": "SL752lNnUkwY",
        "colab": {
          "base_uri": "https://localhost:8080/"
        },
        "outputId": "adae29df-fdc3-406c-ac09-7b32b6b40d00"
      },
      "execution_count": 33,
      "outputs": [
        {
          "output_type": "stream",
          "name": "stdout",
          "text": [
            "Time:  1085.069640041\n"
          ]
        }
      ]
    },
    {
      "cell_type": "code",
      "metadata": {
        "id": "nuGabMI3eKp5",
        "colab": {
          "base_uri": "https://localhost:8080/"
        },
        "outputId": "8bd86ba7-d437-4a79-8128-e9255b565344"
      },
      "source": [
        "langston_hughes_sum"
      ],
      "execution_count": 34,
      "outputs": [
        {
          "output_type": "execute_result",
          "data": {
            "text/plain": [
              "{'poem0': 'well son will tell you life for me ai not been no crystal stair it had tacks in it and splinters and boards torn up and places with no carpet on the floor— bare but all the time se been climbin on and reachin landin and turnin corners and sometimes goin in the dark where there ai not been no light so boy do not you turn back do not you set down on the steps because you finds it kinder hard do not you fall now— for se still goin honey se still climbin and life for me ai not been no crystal stair by owner provided at no charge for educational purposes',\n",
              " 'poem1': 'landlord landlord my roof has sprung leak do not you member told you about it way last week landlord landlord these steps is broken down when you come up yourself it wonder you do not fall down ten bucks you say owe you ten bucks you say is due well that ten bucks more pay you till you fix this house up new what you going to get eviction orders you going to cut off my heat you going to take my furniture and throw it in the street um huh you talking high and mighty talk on till you get through you ai not going to be able to say word if land my fist on you police police come and get this man he trying to ruin the government and overturn the land copper whistle patrol bell arrest precinct station iron cell headlines in press man threatens landlord tenant held no bail judge gives negro days in county jail from the langston hughes reader this poem by langston hughes grew out of conditions in new york city’s harlem in the ’s in graphic terms it describes the escalation of anger and frustration that tenants experienced trying to get landlords to make basic repairs it is structured like an old time blues song until the final verse where the rhythm changes charley noble by owner provided at no charge for educational purposes',\n",
              " 'poem2': 'too sing america am the darker brother they send me to eat in the kitchen when company comes but laugh and eat well and grow strong tomorrow will be at the table when company comes nobody will dare say to me eat in the kitchen then besides they will see how beautiful am and be ashamed— too am america http www poetryarchive org poetryarchive singlepoem do poemid listen to langston hughes read this poem recorded in by owner provided at no charge for educational purposes',\n",
              " 'poem3': 'it was long time ago have almost forgotten my dream but it was there then in front of me bright like sun— my dream and then the wall rose rose slowly slowly between me and my dream rose until it touched the sky— the wall shadow am black lie down in the shadow no longer the light of my dream before me above me only the thick wall only the shadow my hands my dark hands break through the wall find my dream help me to shatter this darkness to smash this night to break this shadow into thousand lights of sun into thousand whirling dreams of sun by owner provided at no charge for educational purposes',\n",
              " 'poem4': 'children come back today to tell you story of the long dark way that had to climb that had to know in order that the race might live and grow look at my face dark as the night yet shining like the sun with love true light am the child they stole from the sand three hundred years ago in africa land am the dark girl who crossed the wide sea carrying in my body the seed of the free am the woman who worked in the field bringing the cotton and the corn to yield am the one who labored as slave beaten and mistreated for the work gave children sold away from me husband sold too no safety no love no respect was due three hundred years in the deepest south but god put song and prayer in my mouth god put dream like steel in my soul now through my children reaching the goal now through my children young and free realize the blessings deed to me could not read then could not write had nothing back there in the night sometimes the valley was filled with tears but kept trudging on through the lonely years sometimes the road was hot with the sun but had to keep on till my work was done had to keep on no stopping for me was the seed of the coming free nourished the dream that nothing could smother deep in my breast the negro mother had only hope then but now through you dark ones of today my dreams must come true all you dark children in the world out there remember my sweat my pain my despair remember my years heavy with sorrow and make of those years torch for tomorrow make of my pass road to the light out of the darkness the ignorance the night lift high my banner out of the dust stand like free men supporting my trust believe in the right let none push you back remember the whip and the slaver track remember how the strong in struggle and strife still bar you the way and deny you life but march ever forward breaking down bars look ever upward at the sun and the stars oh my dark children may my dreams and my prayers impel you forever up the great stairs for will be with you till no white brother dares keep down the children of the negro mother many on line versions have the alternate line realized the blessing denied to me by owner provided at no charge for educational purposes',\n",
              " 'poem5': 'have known rivers have known rivers ancient as the world and older than the flow of human blood in human veins my soul has grown deep like the rivers bathed in the euphrates when dawns were young built my hut near the congo and it lulled me to sleep looked upon the nile and raised the pyramids above it heard the singing of the mississippi when abe lincoln went down to new orleans and have seen its muddy bosom turn all golden in the sunset have known rivers ancient dusky rivers my soul has grown deep like the rivers http www poetryarchive org poetryarchive singlepoem do poemid recorded in langston hughes recites by owner provided at no charge for educational purposes',\n",
              " 'poem6': 'the negro with the trumpet at his lips has dark moons of weariness beneath his eyes where the smoldering memory of slave ships blazed to the crack of whips about thighs the negro with the trumpet at his lips has head of vibrant hair tamed down patent leathered now until it gleams like jet— were jet crown the music from the trumpet at his lips is honey mixed with liquid fire the rhythm from the trumpet at his lips is ecstasy distilled from old desire— desire that is longing for the moon where the moonlight but spotlight in his eyes desire that is longing for the sea where the sea bar glass sucker size the negro with the trumpet at his lips whose jacket has fine one button roll does not know upon what riff the music slips it hypodermic needle to his soul but softly as the tune comes from his throat trouble mellows to golden note by owner provided at no charge for educational purposes',\n",
              " 'poem7': 'my old man white old manand my old mother black if ever cursed my white old mani take my curses back if ever cursed my black old motherand wished she were in hell sorry for that evil wishand now wish her wellmy old man died in fine big house my ma died in shack wonder were going to die being neither white nor black by owner provided at no charge for educational purposes',\n",
              " 'poem8': 'the rent man knocked he said how do you do said what can do for you he said you know your rent is due said listen before pay go to hades and rot away the sink is broke the water do not run and you ai not done thing you promised to have done back window cracked kitchen floor squeaks there rats in the cellar and the attic leaks he said madam it not up to me just the agent do not you see said naturally you pass the buck if it money you want you are out of luck he said madam ai not pleased said neither am so we agrees this is one of number of madam poems by langston hughes that can be considered as linked series madam and the rent man http oldpoetry com opoem madam and the census man http oldpoetry com opoem show madam and her madam http oldpoetry com opoem madam and the phone bill http oldpoetry com opoem madam’s past history http oldpoetry com opoem this one is taken from the collected poems of langston hughes by langston hughes by the estate of langston hughes the header graphic is an illustration from the liberation news service the late by owner provided at no charge for educational purposes',\n",
              " 'poem9': 'good morning daddy ai not you heard the boogie woogie rumble of dream deferred listen closely you will hear their feet beating out and beating out you think it happy beat listen to it closely ai not you heard something underneath like what did say sure happy take it away hey pop re bop mop hughes himself says that the book from which this comes montage of dream deferred should be viewed as complete poem in itself and not collection of short poems by owner provided at no charge for educational purposes',\n",
              " 'poems_array': ['poem0',\n",
              "  'poem1',\n",
              "  'poem2',\n",
              "  'poem3',\n",
              "  'poem4',\n",
              "  'poem5',\n",
              "  'poem6',\n",
              "  'poem7',\n",
              "  'poem8',\n",
              "  'poem9'],\n",
              " 'summary_poem0': 'life for me ai not been no crystal stair it had tacks in it and splinters and boards torn up and places with no carpet on the floor— bare but all the time se been climbin on and reachin landin and turnin corners and sometimes goin in the dark .',\n",
              " 'summary_poem1': 'landlord landlord my roof has sprung leak do not you member told you about it way last week landlord landlord these steps is broken down when you come up yourself it wonder you do not fall down ten bucks you say owe you ten dollars more pay you till you fix this house up new what you going to get eviction orders you go to cut off my heat you going threw my furniture in the street um huh you talking high and mighty talk on till you get through you ai not going to be able to say',\n",
              " 'summary_poem2': 'too sing america am the darker brother they send me to eat in the kitchen when company comes but laugh and eat well and grow strong tomorrow will be at the table .',\n",
              " 'summary_poem3': 'the wall rose slowly slowly between me and my dream rose until it touched the sky . the wall shadow am black lie down in the shadow my dark hands break through the wall find my dream help me to break this shadow into thousand lights of sun into thousand whirling dreams of sun .',\n",
              " 'summary_poem4': 'children come back today to tell you story of the long dark way that had to climb . am the child they stole from the sand three hundred years ago in africa land am the dark girl who crossed the wide sea carrying in her body the seed of the free am the woman who labored as slave beaten and mistreated for the work gave children sold away from me husband sold too no safety no love no respect was due .',\n",
              " 'summary_poem5': 'my soul has grown deep like the rivers bathed in the euphrates when dawns were young built my hut near the congo and it lulled me to sleep looked upon the nile and raised the pyramids above it heard the singing of the mississippi when abe lincoln went down to new orleans .',\n",
              " 'summary_poem6': 'the negro with the trumpet at his lips has dark moons of weariness beneath his eyes where the smoldering memory of slave ships blazed to the crack of whips about thighs . the rhythm from his lips is ecstasy distilled from old desire desire that is longing for the moon where the moonlight but spotlight in his eyes desire that he longs for the sea where the sea bar glass sucker size',\n",
              " 'summary_poem7': 'my old man white old mani take my curses back if ever cursed my black old motherand now wish her wellmy old man died in fine big house my ma died in shack wonder were going to die .',\n",
              " 'summary_poem8': 'this is one of number of madam poems by langston hughes that can be considered as linked series madam and the rent man . http://www.oldpoetry.com/op-em-madam/ .',\n",
              " 'summary_poem9': 'montage of dream deferred should be viewed as complete poem in itself and not collection of short poems by owner provided at no charge for educational purposes .'}"
            ]
          },
          "metadata": {},
          "execution_count": 34
        }
      ]
    },
    {
      "cell_type": "code",
      "metadata": {
        "id": "m-1c0LCGeIkJ",
        "colab": {
          "base_uri": "https://localhost:8080/"
        },
        "outputId": "57c570cd-4554-40bb-c714-b5321718d1de"
      },
      "source": [
        "mary_j_oliver_sum"
      ],
      "execution_count": 35,
      "outputs": [
        {
          "output_type": "execute_result",
          "data": {
            "text/plain": [
              "{'poem0': 'look the trees are turning their own bodies into pillars of light are giving off the rich fragrance of cinnamon and fulfillment the long tapers of cattails are bursting and floating away over the blue shoulders of the ponds and every pond no matter what its name is is nameless now every year everything have ever learned in my lifetime leads back to this the fires and the black river of loss whose other side is salvation whose meaning none of us will ever know to live in this world you must be able to do three things to love what is mortal to hold it against your bones knowing your own life depends on it and when the time comes to let it go to let it go by owner provided at no charge for educational purposes',\n",
              " 'poem1': 'one day you finally knew what you had to do and began though the voices around you kept shouting their bad advice though the whole house began to tremble and you felt the old tug at your ankles mend my life each voice cried but you did not stop you knew what you had to do though the wind pried with its stiff fingers at the very foundations though their melancholy was terrible it was already late enough and wild night and the road full of fallen branches and stones but little by little as you left their voice behind the stars began to burn through the sheets of clouds and there was new voice which you slowly recognized as your own that kept you company as you strode deeper and deeper into the world determined to do the only thing you could do determined to save the only life that you could save by owner provided at no charge for educational purposes',\n",
              " 'poem2': 'you do not have to be good you do not have to walk on your knees for hundred miles through the desert repenting you only have to let the soft animal of your body love what it loves tell me about despair yours and will tell you mine meanwhile the world goes on meanwhile the sun and the clear pebbles of the rain are moving across the landscapes over the prairies and the deep trees the mountains and the rivers meanwhile the wild geese high in the clean blue air are heading home again whoever you are no matter how lonely the world offers itself to your imagination calls to you like the wild geese harsh and exciting over and over announcing your place in the family of things by owner provided at no charge for educational purposes',\n",
              " 'poem3': 'how necessary it is to have opinions think the spotted trout lilies are satisfied standing few inches above the earth think serenity is not something you just find in the world like plum tree holding up its white petals the violets along the river are opening their blue faces like small dark lanterns the green mosses being so many are as good as brawny how important it is to walk along not in haste but slowly looking at everything and calling out yes no the swan for all his pomp his robes of grass and petals wants only to be allowed to live on the nameless pond the catbrier is without fault the water thrushes down among the sloppy rocks are going crazy with happiness imagination is better than sharp instrument to pay attention this is our endless and proper work by owner provided at no charge for educational purposes',\n",
              " 'poem4': 'in the afternoon watched the she bear she was looking for the secret bin of sweetness honey that the bees store in the trees’ soft caves black block of gloom she climbed down tree after tree and shuffled on through the woods and then she found it the honey house deep as heartwood and dipped into it among the swarming bees honey and comb she lipped and tongued and scooped out in her black nails until maybe she grew full or sleepy or maybe little drunk and sticky down the rugs of her arms and began to hum and sway saw her let go of the branches saw her lift her honeyed muzzle into the leaves and her thick arms as though she would fly an enormous bee all sweetness and wings down into the meadows the perfections of honeysuckle and roses and clover to float and sleep in the sheer nets swaying from flower to flower day after shining day by owner provided at no charge for educational purposes',\n",
              " 'poem5': 'next time what do is look at the earth before saying anything stop just before going into house and be an emperor for minute and listen better to the wind or to the air being still when anyone talked to me whether blame or praise or just passing time watch the face how the mouth has to work and see any strain any sign of what lifted the voice and for all know more the earth bracing itself and soaring the air finding every leaf and feather over forest and water and for every person the body glowing inside the clothes like light by owner provided at no charge for educational purposes',\n",
              " 'poem6': 'who made the world who made the swan and the black bear who made the grasshopper this grasshopper mean the one who has flung herself out of the grass the one who is eating sugar out of my hand who is moving her jaws back and forth instead of up and down who is gazing around with her enormous and complicated eyes now she lifts her pale forearms and thoroughly washes her face now she snaps her wings open and floats away do not know exactly what prayer is do know how to pay attention how to fall down into the grass how to kneel in the grass how to be idle and blessed how to stroll through the fields which is what have been doing all day tell me what else should have done does not everything die at last and too soon tell me what is it you plan to do with your one wild and precious life by owner provided at no charge for educational purposes',\n",
              " 'poem7': 'do not call this world adorable or useful that not it it frisky and theater for more than fair winds the eyelash of lightning is neither good nor evil the struck tree burns like pillar of gold but the blue rain sinks straight to the white feet of the trees whose mouths open does not the wind turning in circles invent the dance have not the flowers moved slowly across asia then europe until at last now they shine in your own yard do not call this world an explanation or even an education when the sufi poet whirled was he looking outward to the mountains so solidly there in white capped ring or was he looking to the center of everything the seed the egg the idea that was also there beautiful as thumb curved and touching the finger tenderly little love ring as he whirled oh jug of breath in the garden of dust by owner provided at no charge for educational purposes',\n",
              " 'poem8': 'go down to the edge of the sea how everything shines in the morning light the cusp of the whelk the broken cupboard of the clam the opened blue mussels moon snails pale pink and barnacle scarred— and nothing at all whole or shut but tattered split dropped by the gulls onto the gray rocks and all the moisture gone it is like schoolhouse of little words thousands of words first you figure out what each one means by itself the jingle the periwinkle the scallop full of moonlight then you begin slowly to read the whole story by owner provided at no charge for educational purposes',\n",
              " 'poem9': 'do not you imagine the leaves dream now how comfortable it will be to touch the earth instead of the nothingness of the air and the endless freshets of wind and do not you think the trees especially those with mossy hollows are beginning to look for the birds that will come—six dozen—to sleep inside their bodies and do not you hear the goldenrod whispering goodbye the everlasting being crowned with the first tuffets of snow the pond stiffens and the white field over which the fox runs so quickly brings out its long blue shadows the wind wags its many tails and in the evening the piled firewood shifts little longing to be on its way by owner provided at no charge for educational purposes',\n",
              " 'poems_array': ['poem0',\n",
              "  'poem1',\n",
              "  'poem2',\n",
              "  'poem3',\n",
              "  'poem4',\n",
              "  'poem5',\n",
              "  'poem6',\n",
              "  'poem7',\n",
              "  'poem8',\n",
              "  'poem9'],\n",
              " 'summary_poem0': 'the fires and the black river of loss whose other side is salvation whose meaning none of us will ever know to live in this world you must be able to do three things to love what is mortal to hold it against your bones knowing your own life depends on it .',\n",
              " 'summary_poem1': 'one day you finally knew what you had to do determined to save the only life that you could save by owner provided at no charge for educational purposes .',\n",
              " 'summary_poem2': 'the wild geese are heading back to the prairies and the deep trees the mountains and the rivers meanwhile the sun and the clear pebbles of the rain are moving across the landscapes . you do not have to be good you only have to let the soft animal of your body love what it loves .',\n",
              " 'summary_poem3': 'spotted trout lilies are satisfied standing few inches above the earth like plum tree holding up its white petals the violets along the river are opening their blue faces like small dark lanterns .',\n",
              " 'summary_poem4': 'the honey house is a secret bin of honey that the bees store in the trees’ soft caves black block of gloom . she climbed down tree after tree and shuffled on through the woods and found it . honey and comb she lipped and tongued and scooped out in her black nails until maybe she grew full or sleepy or maybe little drunk and sticky down the rugs of her arms and began to hum and sway saw her lift her honeyed muzzle',\n",
              " 'summary_poem5': 'the earth is bracing itself and soaring the air finding every leaf and feather over forest and water . the body glowing inside the clothes like light provided at no charge for educational purposes .',\n",
              " 'summary_poem6': 'the swan and the black bear who made the grasshopper this grasshopper mean the one who has flung herself out of the grass now she snaps her wings open and floats away do not know exactly what prayer is do know how to fall down into the grass how to kneel in the grass and be idle and blessed how to stroll through the fields .',\n",
              " 'summary_poem7': 'the sufi poet whirled was he looking outwards to the mountains so solidly there in white capped ring or was it looking to the center of everything the seed the egg the idea that was also there beautiful as thumb curved and touching the finger tenderly little love ring as he wriggled oh jug of breath in the garden of dust by owner provided at no charge for educational purposes .',\n",
              " 'summary_poem8': 'the periwinkle the scallop full of moonlight is a free educational book . the book is provided at no charge for educational purposes . if you are interested in learning more about the story, please contact the author .',\n",
              " 'summary_poem9': 'do not imagine the leaves dream now how comfortable it will be to touch the earth instead of the nothingness of the air and the endless freshets of wind . do not you think the trees especially those with mossy hollows are beginning to look for the birds that will come—six dozen—to sleep inside their bodies .'}"
            ]
          },
          "metadata": {},
          "execution_count": 35
        }
      ]
    },
    {
      "cell_type": "code",
      "metadata": {
        "id": "zYotiHzAvrag",
        "colab": {
          "base_uri": "https://localhost:8080/"
        },
        "outputId": "c265bac9-2fe1-4aaa-df5f-fec7d805891f"
      },
      "source": [
        "data_mary_j_oliver"
      ],
      "execution_count": 36,
      "outputs": [
        {
          "output_type": "execute_result",
          "data": {
            "text/plain": [
              "{'poem0': 'look the trees are turning their own bodies into pillars of light are giving off the rich fragrance of cinnamon and fulfillment the long tapers of cattails are bursting and floating away over the blue shoulders of the ponds and every pond no matter what its name is is nameless now every year everything have ever learned in my lifetime leads back to this the fires and the black river of loss whose other side is salvation whose meaning none of us will ever know to live in this world you must be able to do three things to love what is mortal to hold it against your bones knowing your own life depends on it and when the time comes to let it go to let it go by owner provided at no charge for educational purposes',\n",
              " 'poem1': 'one day you finally knew what you had to do and began though the voices around you kept shouting their bad advice though the whole house began to tremble and you felt the old tug at your ankles mend my life each voice cried but you did not stop you knew what you had to do though the wind pried with its stiff fingers at the very foundations though their melancholy was terrible it was already late enough and wild night and the road full of fallen branches and stones but little by little as you left their voice behind the stars began to burn through the sheets of clouds and there was new voice which you slowly recognized as your own that kept you company as you strode deeper and deeper into the world determined to do the only thing you could do determined to save the only life that you could save by owner provided at no charge for educational purposes',\n",
              " 'poem2': 'you do not have to be good you do not have to walk on your knees for hundred miles through the desert repenting you only have to let the soft animal of your body love what it loves tell me about despair yours and will tell you mine meanwhile the world goes on meanwhile the sun and the clear pebbles of the rain are moving across the landscapes over the prairies and the deep trees the mountains and the rivers meanwhile the wild geese high in the clean blue air are heading home again whoever you are no matter how lonely the world offers itself to your imagination calls to you like the wild geese harsh and exciting over and over announcing your place in the family of things by owner provided at no charge for educational purposes',\n",
              " 'poem3': 'how necessary it is to have opinions think the spotted trout lilies are satisfied standing few inches above the earth think serenity is not something you just find in the world like plum tree holding up its white petals the violets along the river are opening their blue faces like small dark lanterns the green mosses being so many are as good as brawny how important it is to walk along not in haste but slowly looking at everything and calling out yes no the swan for all his pomp his robes of grass and petals wants only to be allowed to live on the nameless pond the catbrier is without fault the water thrushes down among the sloppy rocks are going crazy with happiness imagination is better than sharp instrument to pay attention this is our endless and proper work by owner provided at no charge for educational purposes',\n",
              " 'poem4': 'in the afternoon watched the she bear she was looking for the secret bin of sweetness honey that the bees store in the trees’ soft caves black block of gloom she climbed down tree after tree and shuffled on through the woods and then she found it the honey house deep as heartwood and dipped into it among the swarming bees honey and comb she lipped and tongued and scooped out in her black nails until maybe she grew full or sleepy or maybe little drunk and sticky down the rugs of her arms and began to hum and sway saw her let go of the branches saw her lift her honeyed muzzle into the leaves and her thick arms as though she would fly an enormous bee all sweetness and wings down into the meadows the perfections of honeysuckle and roses and clover to float and sleep in the sheer nets swaying from flower to flower day after shining day by owner provided at no charge for educational purposes',\n",
              " 'poem5': 'next time what do is look at the earth before saying anything stop just before going into house and be an emperor for minute and listen better to the wind or to the air being still when anyone talked to me whether blame or praise or just passing time watch the face how the mouth has to work and see any strain any sign of what lifted the voice and for all know more the earth bracing itself and soaring the air finding every leaf and feather over forest and water and for every person the body glowing inside the clothes like light by owner provided at no charge for educational purposes',\n",
              " 'poem6': 'who made the world who made the swan and the black bear who made the grasshopper this grasshopper mean the one who has flung herself out of the grass the one who is eating sugar out of my hand who is moving her jaws back and forth instead of up and down who is gazing around with her enormous and complicated eyes now she lifts her pale forearms and thoroughly washes her face now she snaps her wings open and floats away do not know exactly what prayer is do know how to pay attention how to fall down into the grass how to kneel in the grass how to be idle and blessed how to stroll through the fields which is what have been doing all day tell me what else should have done does not everything die at last and too soon tell me what is it you plan to do with your one wild and precious life by owner provided at no charge for educational purposes',\n",
              " 'poem7': 'do not call this world adorable or useful that not it it frisky and theater for more than fair winds the eyelash of lightning is neither good nor evil the struck tree burns like pillar of gold but the blue rain sinks straight to the white feet of the trees whose mouths open does not the wind turning in circles invent the dance have not the flowers moved slowly across asia then europe until at last now they shine in your own yard do not call this world an explanation or even an education when the sufi poet whirled was he looking outward to the mountains so solidly there in white capped ring or was he looking to the center of everything the seed the egg the idea that was also there beautiful as thumb curved and touching the finger tenderly little love ring as he whirled oh jug of breath in the garden of dust by owner provided at no charge for educational purposes',\n",
              " 'poem8': 'go down to the edge of the sea how everything shines in the morning light the cusp of the whelk the broken cupboard of the clam the opened blue mussels moon snails pale pink and barnacle scarred— and nothing at all whole or shut but tattered split dropped by the gulls onto the gray rocks and all the moisture gone it is like schoolhouse of little words thousands of words first you figure out what each one means by itself the jingle the periwinkle the scallop full of moonlight then you begin slowly to read the whole story by owner provided at no charge for educational purposes',\n",
              " 'poem9': 'do not you imagine the leaves dream now how comfortable it will be to touch the earth instead of the nothingness of the air and the endless freshets of wind and do not you think the trees especially those with mossy hollows are beginning to look for the birds that will come—six dozen—to sleep inside their bodies and do not you hear the goldenrod whispering goodbye the everlasting being crowned with the first tuffets of snow the pond stiffens and the white field over which the fox runs so quickly brings out its long blue shadows the wind wags its many tails and in the evening the piled firewood shifts little longing to be on its way by owner provided at no charge for educational purposes',\n",
              " 'poems_array': ['poem0',\n",
              "  'poem1',\n",
              "  'poem2',\n",
              "  'poem3',\n",
              "  'poem4',\n",
              "  'poem5',\n",
              "  'poem6',\n",
              "  'poem7',\n",
              "  'poem8',\n",
              "  'poem9'],\n",
              " 'summary_poem0': 'the fires and the black river of loss whose other side is salvation whose meaning none of us will ever know to live in this world you must be able to do three things to love what is mortal to hold it against your bones knowing your own life depends on it .',\n",
              " 'summary_poem1': 'one day you finally knew what you had to do determined to save the only life that you could save by owner provided at no charge for educational purposes .',\n",
              " 'summary_poem2': 'the wild geese are heading back to the prairies and the deep trees the mountains and the rivers meanwhile the sun and the clear pebbles of the rain are moving across the landscapes . you do not have to be good you only have to let the soft animal of your body love what it loves .',\n",
              " 'summary_poem3': 'spotted trout lilies are satisfied standing few inches above the earth like plum tree holding up its white petals the violets along the river are opening their blue faces like small dark lanterns .',\n",
              " 'summary_poem4': 'the honey house is a secret bin of honey that the bees store in the trees’ soft caves black block of gloom . she climbed down tree after tree and shuffled on through the woods and found it . honey and comb she lipped and tongued and scooped out in her black nails until maybe she grew full or sleepy or maybe little drunk and sticky down the rugs of her arms and began to hum and sway saw her lift her honeyed muzzle',\n",
              " 'summary_poem5': 'the earth is bracing itself and soaring the air finding every leaf and feather over forest and water . the body glowing inside the clothes like light provided at no charge for educational purposes .',\n",
              " 'summary_poem6': 'the swan and the black bear who made the grasshopper this grasshopper mean the one who has flung herself out of the grass now she snaps her wings open and floats away do not know exactly what prayer is do know how to fall down into the grass how to kneel in the grass and be idle and blessed how to stroll through the fields .',\n",
              " 'summary_poem7': 'the sufi poet whirled was he looking outwards to the mountains so solidly there in white capped ring or was it looking to the center of everything the seed the egg the idea that was also there beautiful as thumb curved and touching the finger tenderly little love ring as he wriggled oh jug of breath in the garden of dust by owner provided at no charge for educational purposes .',\n",
              " 'summary_poem8': 'the periwinkle the scallop full of moonlight is a free educational book . the book is provided at no charge for educational purposes . if you are interested in learning more about the story, please contact the author .',\n",
              " 'summary_poem9': 'do not imagine the leaves dream now how comfortable it will be to touch the earth instead of the nothingness of the air and the endless freshets of wind . do not you think the trees especially those with mossy hollows are beginning to look for the birds that will come—six dozen—to sleep inside their bodies .'}"
            ]
          },
          "metadata": {},
          "execution_count": 36
        }
      ]
    },
    {
      "cell_type": "markdown",
      "metadata": {
        "id": "Ie0nLFYvePBi"
      },
      "source": [
        "# Store the summarized JSON Data to File"
      ]
    },
    {
      "cell_type": "code",
      "metadata": {
        "id": "FyoZF3SUeN3E"
      },
      "source": [
        "with open((filepath + 'langston_hughes_summary_final.json'), 'w') as outfile:\n",
        "    json.dump(langston_hughes_sum, outfile)"
      ],
      "execution_count": 37,
      "outputs": []
    },
    {
      "cell_type": "code",
      "metadata": {
        "id": "CIpHsLZyeWHW"
      },
      "source": [
        "with open((filepath + 'mary_j_oliver_summary_final.json'), 'w') as outfile:\n",
        "    json.dump(mary_j_oliver_sum, outfile)"
      ],
      "execution_count": 38,
      "outputs": []
    },
    {
      "cell_type": "markdown",
      "metadata": {
        "id": "RXKu75VheZPh"
      },
      "source": [
        "# Interchange the Verbs and Adjectives for both the poets using transformer"
      ]
    },
    {
      "cell_type": "code",
      "metadata": {
        "id": "QIUiz_t_egzK",
        "colab": {
          "base_uri": "https://localhost:8080/",
          "height": 465,
          "referenced_widgets": [
            "55a0b206588e421ebba7598b7879b585",
            "e819b2bbe54549a08f0ee12adfef1911",
            "ebf1f95bc74a4c34a4e49555c6c9d80d",
            "3c352eb0503c4bee864f3cb8c723a0b2",
            "2afbdc07d97c4426830f9755279f5369",
            "72a6a651ac72478ab138d0d62cd41962",
            "a67326bf6bc443c29800cde410b97f31",
            "6c4b98c204b5414e974d596a8488bc38",
            "227847c936b24c169edef5ee8f832247",
            "48ae9d4da8fd47b0aa05c69f801a4367",
            "fc0039c8cda64759926d5b33b9abfa4d",
            "3cef07b51d9c423fa6b59b538b86a822",
            "cf1d9d6cacac4330bba35ee984863bfa",
            "b344c09d21aa40bb9a88ba69c396cfe8",
            "dc36ca95ca2145aabeed25110c71df02",
            "a3644a22e0374874aa1104739a96e9cb",
            "015a51152ce3406eb1b0cba168b68a01",
            "67c24140145045debd363a55fb89d36f",
            "a258b1015bb843fca9eb56eda928661d",
            "97996dd11ca64782ae85749bacd31e23",
            "428ba58350c8464e900813710b3c3e87",
            "a98b8562c86e40788b5c7c93b0bab2c0",
            "62191b8ac79042ad882978d916374093",
            "ad5fbad6b75547cf95eec698f7104cf0",
            "31e066dcd4ea48838f762280652030b3",
            "9d6da3e0bb3b4ce0871cda5cfc7f0427",
            "0d12b387982c4fbd8de070615726dd83",
            "4fbab3ed9f7a45a2a1bd223b4cd9f24b",
            "77085a808fd14825afc857fd730c80ce",
            "d3e5c603cd3f4e6c8fd5cddbe1eb9630",
            "d5dd492d4c9848dda62bde883829e764",
            "f74fd0b30c5b4847a0e4a1aa3fdda399",
            "78a6ea8d52b54572b201d99aa785b17e",
            "80a299d4590a40c1bed287bf98c665b6",
            "9ab2286c359e408bb37037ccc1e27bcd",
            "4a68ae3078934ae6891e5f6de0ced3cf",
            "49b36590cc7548fdbd4b8c70124adf2d",
            "661d695c3e5849d4b50ce45e0ec9f357",
            "d14ad481a1e44279a25259afbcd92526",
            "476918c5208b4f6a9c76a3fa29b13f51",
            "b6188dc6258e47ea89d6bf03d0594796",
            "1ca662369e704571b3283ac516010fc6",
            "fd228cfa68cf4e9b879cfd97e6079682",
            "e7f25508b6ff41f28ec46ad4103c9260",
            "c8bac458a6454245af894bfc8f5dfaab",
            "92f0e080ab11429a83df3a1ec053a862",
            "6ca0d79f309047fab1379d20692ce2f9",
            "d4007e58362b4490aa0eef8fae027c99",
            "355ac887d4314d899cf057595ffca874",
            "44d89038f64346289f466534905b44c1",
            "f5e7bd94d13b4bec84d4dd2d23ed5b3d",
            "4d9c5a89d3bd43fe88329e94d4f12d16",
            "be3d9d48274841149a426d079b057a0e",
            "23c6b258fadb44628e2d41e189c3aa06",
            "dcf29e6a30a24eaba777d170cea81a9b",
            "80ca674a1d994ac5a863850634d6bd1f",
            "3617069d0cf14ab48163475fe4fa0e04",
            "f81fc9e37f80436189b439f05f900d81",
            "0b5ade70e1fb4029a99dd732907e9456",
            "3aa70ef795024214b6ed04a22b3afb74",
            "fbb2dfc1f3774764a9d2e0c5c532352f",
            "05982b163585450ab43290dfbc257379",
            "532130246920443da6af2eeaf64655ff",
            "c6a9d1b9d81d4a38888420231c927c92",
            "0ef4b5c6f1c14c2d98f66a1ad301b81a",
            "9e02f5e8b3014d0384cffb21c275e247",
            "fa00313e06434666949b95998b330d5d",
            "70453cdc48354ae9b6cf405cf96384c7",
            "c79cbaea284a4ddcb7ec62b4ec9984cc",
            "3c43cf5dd5d54ff68fb7ed2cac02dbf7",
            "7b0c90669a0c4c0cb5627a74c371f4c8",
            "fed9eaa31b784c4994cebf59dddc1ea4",
            "0172d5ce30fa4470ba86c7c5326bc587",
            "45d8693aec7149649f2d400e543632ec",
            "0a579d067fbc4a7ab0ee7d6344ba7901",
            "c894dff2333f4ddb8178db874e150d2d",
            "305b5b39423c45478ebc1327f14701c5",
            "512111d6fccf477183556e44bbb07d17",
            "bc4413339b1e47df91b26a180dd59d1a",
            "8d97981ef7a44d9bab0fbd052a66a1a3",
            "58893ef6ee89492ea26b8beb8ea2c612",
            "c9874f0f10e24bbbb538f8f6f4ea1853",
            "7b7f77eff0d0483e975c239b78ff7c2a",
            "ce814c9222cd4d42b2d49d1775f965cf",
            "1f2d4977c2c74091bce04ba9b4dd900c",
            "cd1177bd0e6e4e02aef12f1d1e29ae83",
            "4d706ef37b9449999c949b2ad133a738",
            "eec616f2be0f4e09b3696473af711fde",
            "cd49c375d14144608ed10c8fe3f6ba58",
            "1d3e5a134036420bb92e8183a0e98c3b",
            "5dda9adbfb594ce594ed03dc2464be69",
            "b0913105e6ff4dddbe65f92475bb0d6b",
            "70824b88c5d747fe80824836fd8a7a8c",
            "1f3f0a7884c04decb1c7278461aa887f",
            "3c79e30622e343d5ae58610a597fc55b",
            "7a6e567b90c64ea3bdaa0ab7bba62329",
            "f49f9c7507264607bdb9238fcb73002f",
            "fcefe7f222ff487596cb132f5d931ed7",
            "3a9457c957c94416b9c24854201b3627",
            "00c71ee3d2694d27b5bbd490fb35efcc",
            "30e5c9abecf6460eaa4f951638c13fbd",
            "d3a08751e2ca408abc6ae07378e921d2",
            "de2091ae750c4544ba75f3deb44aa209",
            "2f470175666145848a8c94bab35fb8bc",
            "dd12432630854361b969f604735691dd",
            "9c4ea7936b754cfa91e2727fda89eff8",
            "fe74b428d5f4441b960b9da580588b82",
            "f0b01b332d0542e2bc37482d380debec",
            "d71b0771bc8140efab849d750cb483a3",
            "dab40bf208914103ab76daa431a7272a",
            "2d8fb4c04a544110b613ff084a6b51fc",
            "5f84e350e91f4b239ed878f46e805bd9",
            "e743501be7f84cb5bbeb875fcc1552ec",
            "c73ad25986a645c992b17b1510faeb14",
            "93bb57f93c674ac6b464601a87a9ae25",
            "b6958d04e3b04dbd85ad3d962fe6289b",
            "8516401c7b054a50ad5a9143d82bebaf",
            "60496e1d10234041bf485c7b7b2f7f63",
            "711127df0eb6420aa0c3a85f6ce11583",
            "45a260a443154aef99d3d87ad577e6e3",
            "14e9f151190a4387985d995a5be82b69",
            "ab3e327b4cc9432ba6ab694e2df135b4",
            "ad5c117b6ecf473ba283f514e529191c",
            "fb954699a0594a70a2766492d3464176",
            "889c21d11ab348a8906cd1818bbf4ccb",
            "b50c45d437bb4a3888b7b7a3b283245f",
            "59e9f0bc6cbb43f2aeac9fad9747c854",
            "ab1a3b3fb3014358b60edd30d062b391",
            "7c0e1c35e9494682a6b7b7c56946ad60",
            "aede78f0d70c48baaeaa4f6dda7e901b",
            "ee6a4a1174b04402bb7e0b962e924820",
            "3ecead9fad924f168214a38039c7bad4",
            "6bc9cc1bb9ff4e82bc696c940f43f006",
            "f4b1764bcb46437babb41281cd4a153a",
            "42391d44f37d49f4bc111057a1972252",
            "7ae181475d494b8aac42ae30096d6c7e",
            "48521abe23214862b85036dd9a146708",
            "86b6f07b0db44f21b7c4bcf512678bec",
            "ae17ea187f224cfa92ccca3c82eb6f43",
            "a332caa1ea6e4fe1a9e5f05896314f67",
            "dbb53723f5d6439d9ee167ece8cbf8d3",
            "c4f4df6a98f04ee7ad645c589d0e3c59",
            "b64b730d93ba4c4eabb32f8fee9291c2",
            "d44f0d194e864863a269633d67888267",
            "16d5a1d479f64105b7cbe18b526e4682",
            "3d5fcc7507d94d9b997b0afede950736",
            "20c1aecfd0be4cada87f4b9074f867a8",
            "b9a4c846e00340d69554f1959150088e",
            "4350f7b7608b4745bd3f22d66f0cb11b",
            "daedb65cdc774151aaefe1b2bd33e878",
            "5d62a4d5bccb42a4a6b36f08ff068e6b",
            "7d0546d9117e402886e16b6ba80610da",
            "688d95f0b570440baf60237bfe117948",
            "751effd28fa64400818b2b851a0f254f"
          ]
        },
        "outputId": "dd7e806c-3592-4794-c424-10615238f5a4"
      },
      "source": [
        "model = SentenceTransformer('stsb-roberta-large')"
      ],
      "execution_count": 39,
      "outputs": [
        {
          "output_type": "display_data",
          "data": {
            "text/plain": [
              "Downloading:   0%|          | 0.00/748 [00:00<?, ?B/s]"
            ],
            "application/vnd.jupyter.widget-view+json": {
              "version_major": 2,
              "version_minor": 0,
              "model_id": "55a0b206588e421ebba7598b7879b585"
            }
          },
          "metadata": {}
        },
        {
          "output_type": "display_data",
          "data": {
            "text/plain": [
              "Downloading:   0%|          | 0.00/191 [00:00<?, ?B/s]"
            ],
            "application/vnd.jupyter.widget-view+json": {
              "version_major": 2,
              "version_minor": 0,
              "model_id": "3cef07b51d9c423fa6b59b538b86a822"
            }
          },
          "metadata": {}
        },
        {
          "output_type": "display_data",
          "data": {
            "text/plain": [
              "Downloading:   0%|          | 0.00/3.92k [00:00<?, ?B/s]"
            ],
            "application/vnd.jupyter.widget-view+json": {
              "version_major": 2,
              "version_minor": 0,
              "model_id": "62191b8ac79042ad882978d916374093"
            }
          },
          "metadata": {}
        },
        {
          "output_type": "display_data",
          "data": {
            "text/plain": [
              "Downloading:   0%|          | 0.00/2.00 [00:00<?, ?B/s]"
            ],
            "application/vnd.jupyter.widget-view+json": {
              "version_major": 2,
              "version_minor": 0,
              "model_id": "80a299d4590a40c1bed287bf98c665b6"
            }
          },
          "metadata": {}
        },
        {
          "output_type": "display_data",
          "data": {
            "text/plain": [
              "Downloading:   0%|          | 0.00/674 [00:00<?, ?B/s]"
            ],
            "application/vnd.jupyter.widget-view+json": {
              "version_major": 2,
              "version_minor": 0,
              "model_id": "c8bac458a6454245af894bfc8f5dfaab"
            }
          },
          "metadata": {}
        },
        {
          "output_type": "display_data",
          "data": {
            "text/plain": [
              "Downloading:   0%|          | 0.00/122 [00:00<?, ?B/s]"
            ],
            "application/vnd.jupyter.widget-view+json": {
              "version_major": 2,
              "version_minor": 0,
              "model_id": "80ca674a1d994ac5a863850634d6bd1f"
            }
          },
          "metadata": {}
        },
        {
          "output_type": "display_data",
          "data": {
            "text/plain": [
              "Downloading:   0%|          | 0.00/456k [00:00<?, ?B/s]"
            ],
            "application/vnd.jupyter.widget-view+json": {
              "version_major": 2,
              "version_minor": 0,
              "model_id": "fa00313e06434666949b95998b330d5d"
            }
          },
          "metadata": {}
        },
        {
          "output_type": "display_data",
          "data": {
            "text/plain": [
              "Downloading:   0%|          | 0.00/229 [00:00<?, ?B/s]"
            ],
            "application/vnd.jupyter.widget-view+json": {
              "version_major": 2,
              "version_minor": 0,
              "model_id": "512111d6fccf477183556e44bbb07d17"
            }
          },
          "metadata": {}
        },
        {
          "output_type": "display_data",
          "data": {
            "text/plain": [
              "Downloading:   0%|          | 0.00/1.42G [00:00<?, ?B/s]"
            ],
            "application/vnd.jupyter.widget-view+json": {
              "version_major": 2,
              "version_minor": 0,
              "model_id": "cd49c375d14144608ed10c8fe3f6ba58"
            }
          },
          "metadata": {}
        },
        {
          "output_type": "display_data",
          "data": {
            "text/plain": [
              "Downloading:   0%|          | 0.00/52.0 [00:00<?, ?B/s]"
            ],
            "application/vnd.jupyter.widget-view+json": {
              "version_major": 2,
              "version_minor": 0,
              "model_id": "00c71ee3d2694d27b5bbd490fb35efcc"
            }
          },
          "metadata": {}
        },
        {
          "output_type": "display_data",
          "data": {
            "text/plain": [
              "Downloading:   0%|          | 0.00/239 [00:00<?, ?B/s]"
            ],
            "application/vnd.jupyter.widget-view+json": {
              "version_major": 2,
              "version_minor": 0,
              "model_id": "2d8fb4c04a544110b613ff084a6b51fc"
            }
          },
          "metadata": {}
        },
        {
          "output_type": "display_data",
          "data": {
            "text/plain": [
              "Downloading:   0%|          | 0.00/1.36M [00:00<?, ?B/s]"
            ],
            "application/vnd.jupyter.widget-view+json": {
              "version_major": 2,
              "version_minor": 0,
              "model_id": "ab3e327b4cc9432ba6ab694e2df135b4"
            }
          },
          "metadata": {}
        },
        {
          "output_type": "display_data",
          "data": {
            "text/plain": [
              "Downloading:   0%|          | 0.00/1.17k [00:00<?, ?B/s]"
            ],
            "application/vnd.jupyter.widget-view+json": {
              "version_major": 2,
              "version_minor": 0,
              "model_id": "6bc9cc1bb9ff4e82bc696c940f43f006"
            }
          },
          "metadata": {}
        },
        {
          "output_type": "display_data",
          "data": {
            "text/plain": [
              "Downloading:   0%|          | 0.00/798k [00:00<?, ?B/s]"
            ],
            "application/vnd.jupyter.widget-view+json": {
              "version_major": 2,
              "version_minor": 0,
              "model_id": "d44f0d194e864863a269633d67888267"
            }
          },
          "metadata": {}
        }
      ]
    },
    {
      "cell_type": "code",
      "metadata": {
        "id": "e0PXvCGzeizB"
      },
      "source": [
        "def getSemanticSimilarity(p1,p2):\n",
        "  embedding1 = model.encode(p1, convert_to_tensor=True)\n",
        "  embedding2 = model.encode(p2, convert_to_tensor=True)\n",
        "  cosine_scores = util.pytorch_cos_sim(embedding1, embedding2)\n",
        "  print(cosine_scores) \n",
        "  similarity_score = cosine_scores.item()\n",
        "  return similarity_score"
      ],
      "execution_count": 40,
      "outputs": []
    },
    {
      "cell_type": "code",
      "metadata": {
        "id": "FoVP7zT3ekoi",
        "colab": {
          "base_uri": "https://localhost:8080/"
        },
        "outputId": "88caaada-4d81-4f2c-b88b-fd18990d2ed8"
      },
      "source": [
        "getSemanticSimilarity(langston_hughes_pos['all_verbs'][0],mary_j_oliver_pos[\"all_verbs\"][0])"
      ],
      "execution_count": 41,
      "outputs": [
        {
          "output_type": "stream",
          "name": "stdout",
          "text": [
            "tensor([[0.2962]], device='cuda:0')\n"
          ]
        },
        {
          "output_type": "execute_result",
          "data": {
            "text/plain": [
              "0.29617851972579956"
            ]
          },
          "metadata": {},
          "execution_count": 41
        }
      ]
    },
    {
      "cell_type": "markdown",
      "metadata": {
        "id": "0HhOOh45e7w0"
      },
      "source": [
        "# Swapping the Verbs based on similarity score"
      ]
    },
    {
      "cell_type": "code",
      "metadata": {
        "id": "lO1ZylO3eo0a"
      },
      "source": [
        "\n",
        "def swapVerbs(p1,p2,text):\n",
        "    for v1 in p1:\n",
        "      for v2 in p2:\n",
        "        score = getSemanticSimilarity(v1,v2)\n",
        "        if score > 0.3:\n",
        "          text = text.replace(v1,v2)\n",
        "          print(\"verb\")\n",
        "          print(text)\n",
        "          break\n",
        "    return text"
      ],
      "execution_count": 42,
      "outputs": []
    },
    {
      "cell_type": "markdown",
      "metadata": {
        "id": "A9TYbcUIe4fj"
      },
      "source": [
        "# Swapping the Adjectives based on similarity score"
      ]
    },
    {
      "cell_type": "code",
      "metadata": {
        "id": "DtazFwpUi2mD"
      },
      "source": [
        "def swapAdjectives(p1,p2, poem):\n",
        "  text = poem\n",
        "  for a1 in p1:\n",
        "    for a2 in p2:\n",
        "      print(\"inside loop 2\")\n",
        "      print(a1)\n",
        "      print(a2)\n",
        "      print(text)\n",
        "      score = getSemanticSimilarity(a1,a2)\n",
        "      if score > 0.3:\n",
        "        text = text.replace(a1,a2)\n",
        "        print(\"adjective\")\n",
        "        print(text)\n",
        "  return text"
      ],
      "execution_count": 43,
      "outputs": []
    },
    {
      "cell_type": "code",
      "metadata": {
        "id": "Q9tNA0fUaPaP"
      },
      "source": [
        "def swapIteration(poet1, poet2, text):\n",
        "    p2_verbs = poet2[\"all_verbs\"]\n",
        "    p1_verbs = poet1[\"all_verbs\"]\n",
        "    p2_verbs = p2_verbs[0:2]\n",
        "    p1_verbs = p1_verbs[0:2]\n",
        "    print(p1_verbs)\n",
        "    print(p2_verbs)\n",
        "    new_text = swapVerbs(p1_verbs, p2_verbs, text)\n",
        "    print(\"new text verbs\")\n",
        "    print(new_text)\n",
        "    # print(text)\n",
        "    p2_adjectives = poet2[\"all_adjectives\"]\n",
        "    p1_adjectives = poet1[\"all_adjectives\"]\n",
        "    p2_adjectives = p2_adjectives[0:2]\n",
        "    p1_adjectives = p1_adjectives[0:2]\n",
        "    brand_new_text = swapAdjectives(p1_adjectives, p2_adjectives, new_text)\n",
        "    print(\"new text adjectives\")\n",
        "    print(brand_new_text)\n",
        "    return brand_new_text"
      ],
      "execution_count": 44,
      "outputs": []
    },
    {
      "cell_type": "markdown",
      "metadata": {
        "id": "vo9rTPvOcgpo"
      },
      "source": [
        "John Poems Swapped Verbs and Adjectives of Alfred Tennyson Poems"
      ]
    },
    {
      "cell_type": "code",
      "metadata": {
        "id": "eHhrUpvpb8PU",
        "colab": {
          "base_uri": "https://localhost:8080/"
        },
        "outputId": "c6ab7d05-ef33-43e5-80d6-c48a4a3c5729"
      },
      "source": [
        "langston_hughes_poems_2 = langston_hughes_poems.copy()\n",
        "langston_hughes_poems_2.pop('poems_array')\n",
        "langston_hughes_poems_swapped=[]\n",
        "for i in langston_hughes_poems:\n",
        "  print(\"poems:\")\n",
        "  print(i)\n",
        "  # inx = 'poem'+str(i);\n",
        "  poem_str = str(langston_hughes_poems[i]);\n",
        "  print(poem_str)\n",
        "\n",
        "  langston_hughes_poems_swapped.append(swapIteration(langston_hughes_pos, mary_j_oliver_pos, poem_str))\n"
      ],
      "execution_count": 45,
      "outputs": [
        {
          "output_type": "stream",
          "name": "stdout",
          "text": [
            "poems:\n",
            "poem0\n",
            "well son will tell you life for me ai not been no crystal stair it had tacks in it and splinters and boards torn up and places with no carpet on the floor— bare but all the time se been climbin on and reachin landin and turnin corners and sometimes goin in the dark where there ai not been no light so boy do not you turn back do not you set down on the steps because you finds it kinder hard do not you fall now— for se still goin honey se still climbin and life for me ai not been no crystal stair by owner provided at no charge for educational purposes\n",
            "['help', 'take']\n",
            "['walk', 'gone']\n",
            "tensor([[0.2962]], device='cuda:0')\n",
            "tensor([[0.3433]], device='cuda:0')\n",
            "verb\n",
            "well son will tell you life for me ai not been no crystal stair it had tacks in it and splinters and boards torn up and places with no carpet on the floor— bare but all the time se been climbin on and reachin landin and turnin corners and sometimes goin in the dark where there ai not been no light so boy do not you turn back do not you set down on the steps because you finds it kinder hard do not you fall now— for se still goin honey se still climbin and life for me ai not been no crystal stair by owner provided at no charge for educational purposes\n",
            "tensor([[0.3713]], device='cuda:0')\n",
            "verb\n",
            "well son will tell you life for me ai not been no crystal stair it had tacks in it and splinters and boards torn up and places with no carpet on the floor— bare but all the time se been climbin on and reachin landin and turnin corners and sometimes goin in the dark where there ai not been no light so boy do not you turn back do not you set down on the steps because you finds it kinder hard do not you fall now— for se still goin honey se still climbin and life for me ai not been no crystal stair by owner provided at no charge for educational purposes\n",
            "new text verbs\n",
            "well son will tell you life for me ai not been no crystal stair it had tacks in it and splinters and boards torn up and places with no carpet on the floor— bare but all the time se been climbin on and reachin landin and turnin corners and sometimes goin in the dark where there ai not been no light so boy do not you turn back do not you set down on the steps because you finds it kinder hard do not you fall now— for se still goin honey se still climbin and life for me ai not been no crystal stair by owner provided at no charge for educational purposes\n",
            "inside loop 2\n",
            "great\n",
            "sleep\n",
            "well son will tell you life for me ai not been no crystal stair it had tacks in it and splinters and boards torn up and places with no carpet on the floor— bare but all the time se been climbin on and reachin landin and turnin corners and sometimes goin in the dark where there ai not been no light so boy do not you turn back do not you set down on the steps because you finds it kinder hard do not you fall now— for se still goin honey se still climbin and life for me ai not been no crystal stair by owner provided at no charge for educational purposes\n",
            "tensor([[0.3667]], device='cuda:0')\n",
            "adjective\n",
            "well son will tell you life for me ai not been no crystal stair it had tacks in it and splinters and boards torn up and places with no carpet on the floor— bare but all the time se been climbin on and reachin landin and turnin corners and sometimes goin in the dark where there ai not been no light so boy do not you turn back do not you set down on the steps because you finds it kinder hard do not you fall now— for se still goin honey se still climbin and life for me ai not been no crystal stair by owner provided at no charge for educational purposes\n",
            "inside loop 2\n",
            "great\n",
            "terrible\n",
            "well son will tell you life for me ai not been no crystal stair it had tacks in it and splinters and boards torn up and places with no carpet on the floor— bare but all the time se been climbin on and reachin landin and turnin corners and sometimes goin in the dark where there ai not been no light so boy do not you turn back do not you set down on the steps because you finds it kinder hard do not you fall now— for se still goin honey se still climbin and life for me ai not been no crystal stair by owner provided at no charge for educational purposes\n",
            "tensor([[0.3648]], device='cuda:0')\n",
            "adjective\n",
            "well son will tell you life for me ai not been no crystal stair it had tacks in it and splinters and boards torn up and places with no carpet on the floor— bare but all the time se been climbin on and reachin landin and turnin corners and sometimes goin in the dark where there ai not been no light so boy do not you turn back do not you set down on the steps because you finds it kinder hard do not you fall now— for se still goin honey se still climbin and life for me ai not been no crystal stair by owner provided at no charge for educational purposes\n",
            "inside loop 2\n",
            "young\n",
            "sleep\n",
            "well son will tell you life for me ai not been no crystal stair it had tacks in it and splinters and boards torn up and places with no carpet on the floor— bare but all the time se been climbin on and reachin landin and turnin corners and sometimes goin in the dark where there ai not been no light so boy do not you turn back do not you set down on the steps because you finds it kinder hard do not you fall now— for se still goin honey se still climbin and life for me ai not been no crystal stair by owner provided at no charge for educational purposes\n",
            "tensor([[0.0781]], device='cuda:0')\n",
            "inside loop 2\n",
            "young\n",
            "terrible\n",
            "well son will tell you life for me ai not been no crystal stair it had tacks in it and splinters and boards torn up and places with no carpet on the floor— bare but all the time se been climbin on and reachin landin and turnin corners and sometimes goin in the dark where there ai not been no light so boy do not you turn back do not you set down on the steps because you finds it kinder hard do not you fall now— for se still goin honey se still climbin and life for me ai not been no crystal stair by owner provided at no charge for educational purposes\n",
            "tensor([[0.1842]], device='cuda:0')\n",
            "new text adjectives\n",
            "well son will tell you life for me ai not been no crystal stair it had tacks in it and splinters and boards torn up and places with no carpet on the floor— bare but all the time se been climbin on and reachin landin and turnin corners and sometimes goin in the dark where there ai not been no light so boy do not you turn back do not you set down on the steps because you finds it kinder hard do not you fall now— for se still goin honey se still climbin and life for me ai not been no crystal stair by owner provided at no charge for educational purposes\n",
            "poems:\n",
            "poem1\n",
            "landlord landlord my roof has sprung leak do not you member told you about it way last week landlord landlord these steps is broken down when you come up yourself it wonder you do not fall down ten bucks you say owe you ten bucks you say is due well that ten bucks more pay you till you fix this house up new what you going to get eviction orders you going to cut off my heat you going to take my furniture and throw it in the street um huh you talking high and mighty talk on till you get through you ai not going to be able to say word if land my fist on you police police come and get this man he trying to ruin the government and overturn the land copper whistle patrol bell arrest precinct station iron cell headlines in press man threatens landlord tenant held no bail judge gives negro days in county jail from the langston hughes reader this poem by langston hughes grew out of conditions in new york city’s harlem in the ’s in graphic terms it describes the escalation of anger and frustration that tenants experienced trying to get landlords to make basic repairs it is structured like an old time blues song until the final verse where the rhythm changes charley noble by owner provided at no charge for educational purposes\n",
            "['help', 'take']\n",
            "['walk', 'gone']\n",
            "tensor([[0.2962]], device='cuda:0')\n",
            "tensor([[0.3433]], device='cuda:0')\n",
            "verb\n",
            "landlord landlord my roof has sprung leak do not you member told you about it way last week landlord landlord these steps is broken down when you come up yourself it wonder you do not fall down ten bucks you say owe you ten bucks you say is due well that ten bucks more pay you till you fix this house up new what you going to get eviction orders you going to cut off my heat you going to take my furniture and throw it in the street um huh you talking high and mighty talk on till you get through you ai not going to be able to say word if land my fist on you police police come and get this man he trying to ruin the government and overturn the land copper whistle patrol bell arrest precinct station iron cell headlines in press man threatens landlord tenant held no bail judge gives negro days in county jail from the langston hughes reader this poem by langston hughes grew out of conditions in new york city’s harlem in the ’s in graphic terms it describes the escalation of anger and frustration that tenants experienced trying to get landlords to make basic repairs it is structured like an old time blues song until the final verse where the rhythm changes charley noble by owner provided at no charge for educational purposes\n",
            "tensor([[0.3713]], device='cuda:0')\n",
            "verb\n",
            "landlord landlord my roof has sprung leak do not you member told you about it way last week landlord landlord these steps is broken down when you come up yourself it wonder you do not fall down ten bucks you say owe you ten bucks you say is due well that ten bucks more pay you till you fix this house up new what you going to get eviction orders you going to cut off my heat you going to walk my furniture and throw it in the street um huh you talking high and mighty talk on till you get through you ai not going to be able to say word if land my fist on you police police come and get this man he trying to ruin the government and overturn the land copper whistle patrol bell arrest precinct station iron cell headlines in press man threatens landlord tenant held no bail judge gives negro days in county jail from the langston hughes reader this poem by langston hughes grew out of conditions in new york city’s harlem in the ’s in graphic terms it describes the escalation of anger and frustration that tenants experienced trying to get landlords to make basic repairs it is structured like an old time blues song until the final verse where the rhythm changes charley noble by owner provided at no charge for educational purposes\n",
            "new text verbs\n",
            "landlord landlord my roof has sprung leak do not you member told you about it way last week landlord landlord these steps is broken down when you come up yourself it wonder you do not fall down ten bucks you say owe you ten bucks you say is due well that ten bucks more pay you till you fix this house up new what you going to get eviction orders you going to cut off my heat you going to walk my furniture and throw it in the street um huh you talking high and mighty talk on till you get through you ai not going to be able to say word if land my fist on you police police come and get this man he trying to ruin the government and overturn the land copper whistle patrol bell arrest precinct station iron cell headlines in press man threatens landlord tenant held no bail judge gives negro days in county jail from the langston hughes reader this poem by langston hughes grew out of conditions in new york city’s harlem in the ’s in graphic terms it describes the escalation of anger and frustration that tenants experienced trying to get landlords to make basic repairs it is structured like an old time blues song until the final verse where the rhythm changes charley noble by owner provided at no charge for educational purposes\n",
            "inside loop 2\n",
            "great\n",
            "sleep\n",
            "landlord landlord my roof has sprung leak do not you member told you about it way last week landlord landlord these steps is broken down when you come up yourself it wonder you do not fall down ten bucks you say owe you ten bucks you say is due well that ten bucks more pay you till you fix this house up new what you going to get eviction orders you going to cut off my heat you going to walk my furniture and throw it in the street um huh you talking high and mighty talk on till you get through you ai not going to be able to say word if land my fist on you police police come and get this man he trying to ruin the government and overturn the land copper whistle patrol bell arrest precinct station iron cell headlines in press man threatens landlord tenant held no bail judge gives negro days in county jail from the langston hughes reader this poem by langston hughes grew out of conditions in new york city’s harlem in the ’s in graphic terms it describes the escalation of anger and frustration that tenants experienced trying to get landlords to make basic repairs it is structured like an old time blues song until the final verse where the rhythm changes charley noble by owner provided at no charge for educational purposes\n",
            "tensor([[0.3667]], device='cuda:0')\n",
            "adjective\n",
            "landlord landlord my roof has sprung leak do not you member told you about it way last week landlord landlord these steps is broken down when you come up yourself it wonder you do not fall down ten bucks you say owe you ten bucks you say is due well that ten bucks more pay you till you fix this house up new what you going to get eviction orders you going to cut off my heat you going to walk my furniture and throw it in the street um huh you talking high and mighty talk on till you get through you ai not going to be able to say word if land my fist on you police police come and get this man he trying to ruin the government and overturn the land copper whistle patrol bell arrest precinct station iron cell headlines in press man threatens landlord tenant held no bail judge gives negro days in county jail from the langston hughes reader this poem by langston hughes grew out of conditions in new york city’s harlem in the ’s in graphic terms it describes the escalation of anger and frustration that tenants experienced trying to get landlords to make basic repairs it is structured like an old time blues song until the final verse where the rhythm changes charley noble by owner provided at no charge for educational purposes\n",
            "inside loop 2\n",
            "great\n",
            "terrible\n",
            "landlord landlord my roof has sprung leak do not you member told you about it way last week landlord landlord these steps is broken down when you come up yourself it wonder you do not fall down ten bucks you say owe you ten bucks you say is due well that ten bucks more pay you till you fix this house up new what you going to get eviction orders you going to cut off my heat you going to walk my furniture and throw it in the street um huh you talking high and mighty talk on till you get through you ai not going to be able to say word if land my fist on you police police come and get this man he trying to ruin the government and overturn the land copper whistle patrol bell arrest precinct station iron cell headlines in press man threatens landlord tenant held no bail judge gives negro days in county jail from the langston hughes reader this poem by langston hughes grew out of conditions in new york city’s harlem in the ’s in graphic terms it describes the escalation of anger and frustration that tenants experienced trying to get landlords to make basic repairs it is structured like an old time blues song until the final verse where the rhythm changes charley noble by owner provided at no charge for educational purposes\n",
            "tensor([[0.3648]], device='cuda:0')\n",
            "adjective\n",
            "landlord landlord my roof has sprung leak do not you member told you about it way last week landlord landlord these steps is broken down when you come up yourself it wonder you do not fall down ten bucks you say owe you ten bucks you say is due well that ten bucks more pay you till you fix this house up new what you going to get eviction orders you going to cut off my heat you going to walk my furniture and throw it in the street um huh you talking high and mighty talk on till you get through you ai not going to be able to say word if land my fist on you police police come and get this man he trying to ruin the government and overturn the land copper whistle patrol bell arrest precinct station iron cell headlines in press man threatens landlord tenant held no bail judge gives negro days in county jail from the langston hughes reader this poem by langston hughes grew out of conditions in new york city’s harlem in the ’s in graphic terms it describes the escalation of anger and frustration that tenants experienced trying to get landlords to make basic repairs it is structured like an old time blues song until the final verse where the rhythm changes charley noble by owner provided at no charge for educational purposes\n",
            "inside loop 2\n",
            "young\n",
            "sleep\n",
            "landlord landlord my roof has sprung leak do not you member told you about it way last week landlord landlord these steps is broken down when you come up yourself it wonder you do not fall down ten bucks you say owe you ten bucks you say is due well that ten bucks more pay you till you fix this house up new what you going to get eviction orders you going to cut off my heat you going to walk my furniture and throw it in the street um huh you talking high and mighty talk on till you get through you ai not going to be able to say word if land my fist on you police police come and get this man he trying to ruin the government and overturn the land copper whistle patrol bell arrest precinct station iron cell headlines in press man threatens landlord tenant held no bail judge gives negro days in county jail from the langston hughes reader this poem by langston hughes grew out of conditions in new york city’s harlem in the ’s in graphic terms it describes the escalation of anger and frustration that tenants experienced trying to get landlords to make basic repairs it is structured like an old time blues song until the final verse where the rhythm changes charley noble by owner provided at no charge for educational purposes\n",
            "tensor([[0.0781]], device='cuda:0')\n",
            "inside loop 2\n",
            "young\n",
            "terrible\n",
            "landlord landlord my roof has sprung leak do not you member told you about it way last week landlord landlord these steps is broken down when you come up yourself it wonder you do not fall down ten bucks you say owe you ten bucks you say is due well that ten bucks more pay you till you fix this house up new what you going to get eviction orders you going to cut off my heat you going to walk my furniture and throw it in the street um huh you talking high and mighty talk on till you get through you ai not going to be able to say word if land my fist on you police police come and get this man he trying to ruin the government and overturn the land copper whistle patrol bell arrest precinct station iron cell headlines in press man threatens landlord tenant held no bail judge gives negro days in county jail from the langston hughes reader this poem by langston hughes grew out of conditions in new york city’s harlem in the ’s in graphic terms it describes the escalation of anger and frustration that tenants experienced trying to get landlords to make basic repairs it is structured like an old time blues song until the final verse where the rhythm changes charley noble by owner provided at no charge for educational purposes\n",
            "tensor([[0.1842]], device='cuda:0')\n",
            "new text adjectives\n",
            "landlord landlord my roof has sprung leak do not you member told you about it way last week landlord landlord these steps is broken down when you come up yourself it wonder you do not fall down ten bucks you say owe you ten bucks you say is due well that ten bucks more pay you till you fix this house up new what you going to get eviction orders you going to cut off my heat you going to walk my furniture and throw it in the street um huh you talking high and mighty talk on till you get through you ai not going to be able to say word if land my fist on you police police come and get this man he trying to ruin the government and overturn the land copper whistle patrol bell arrest precinct station iron cell headlines in press man threatens landlord tenant held no bail judge gives negro days in county jail from the langston hughes reader this poem by langston hughes grew out of conditions in new york city’s harlem in the ’s in graphic terms it describes the escalation of anger and frustration that tenants experienced trying to get landlords to make basic repairs it is structured like an old time blues song until the final verse where the rhythm changes charley noble by owner provided at no charge for educational purposes\n",
            "poems:\n",
            "poem2\n",
            "too sing america am the darker brother they send me to eat in the kitchen when company comes but laugh and eat well and grow strong tomorrow will be at the table when company comes nobody will dare say to me eat in the kitchen then besides they will see how beautiful am and be ashamed— too am america http www poetryarchive org poetryarchive singlepoem do poemid listen to langston hughes read this poem recorded in by owner provided at no charge for educational purposes\n",
            "['help', 'take']\n",
            "['walk', 'gone']\n",
            "tensor([[0.2962]], device='cuda:0')\n",
            "tensor([[0.3433]], device='cuda:0')\n",
            "verb\n",
            "too sing america am the darker brother they send me to eat in the kitchen when company comes but laugh and eat well and grow strong tomorrow will be at the table when company comes nobody will dare say to me eat in the kitchen then besides they will see how beautiful am and be ashamed— too am america http www poetryarchive org poetryarchive singlepoem do poemid listen to langston hughes read this poem recorded in by owner provided at no charge for educational purposes\n",
            "tensor([[0.3713]], device='cuda:0')\n",
            "verb\n",
            "too sing america am the darker brother they send me to eat in the kitchen when company comes but laugh and eat well and grow strong tomorrow will be at the table when company comes nobody will dare say to me eat in the kitchen then besides they will see how beautiful am and be ashamed— too am america http www poetryarchive org poetryarchive singlepoem do poemid listen to langston hughes read this poem recorded in by owner provided at no charge for educational purposes\n",
            "new text verbs\n",
            "too sing america am the darker brother they send me to eat in the kitchen when company comes but laugh and eat well and grow strong tomorrow will be at the table when company comes nobody will dare say to me eat in the kitchen then besides they will see how beautiful am and be ashamed— too am america http www poetryarchive org poetryarchive singlepoem do poemid listen to langston hughes read this poem recorded in by owner provided at no charge for educational purposes\n",
            "inside loop 2\n",
            "great\n",
            "sleep\n",
            "too sing america am the darker brother they send me to eat in the kitchen when company comes but laugh and eat well and grow strong tomorrow will be at the table when company comes nobody will dare say to me eat in the kitchen then besides they will see how beautiful am and be ashamed— too am america http www poetryarchive org poetryarchive singlepoem do poemid listen to langston hughes read this poem recorded in by owner provided at no charge for educational purposes\n",
            "tensor([[0.3667]], device='cuda:0')\n",
            "adjective\n",
            "too sing america am the darker brother they send me to eat in the kitchen when company comes but laugh and eat well and grow strong tomorrow will be at the table when company comes nobody will dare say to me eat in the kitchen then besides they will see how beautiful am and be ashamed— too am america http www poetryarchive org poetryarchive singlepoem do poemid listen to langston hughes read this poem recorded in by owner provided at no charge for educational purposes\n",
            "inside loop 2\n",
            "great\n",
            "terrible\n",
            "too sing america am the darker brother they send me to eat in the kitchen when company comes but laugh and eat well and grow strong tomorrow will be at the table when company comes nobody will dare say to me eat in the kitchen then besides they will see how beautiful am and be ashamed— too am america http www poetryarchive org poetryarchive singlepoem do poemid listen to langston hughes read this poem recorded in by owner provided at no charge for educational purposes\n",
            "tensor([[0.3648]], device='cuda:0')\n",
            "adjective\n",
            "too sing america am the darker brother they send me to eat in the kitchen when company comes but laugh and eat well and grow strong tomorrow will be at the table when company comes nobody will dare say to me eat in the kitchen then besides they will see how beautiful am and be ashamed— too am america http www poetryarchive org poetryarchive singlepoem do poemid listen to langston hughes read this poem recorded in by owner provided at no charge for educational purposes\n",
            "inside loop 2\n",
            "young\n",
            "sleep\n",
            "too sing america am the darker brother they send me to eat in the kitchen when company comes but laugh and eat well and grow strong tomorrow will be at the table when company comes nobody will dare say to me eat in the kitchen then besides they will see how beautiful am and be ashamed— too am america http www poetryarchive org poetryarchive singlepoem do poemid listen to langston hughes read this poem recorded in by owner provided at no charge for educational purposes\n",
            "tensor([[0.0781]], device='cuda:0')\n",
            "inside loop 2\n",
            "young\n",
            "terrible\n",
            "too sing america am the darker brother they send me to eat in the kitchen when company comes but laugh and eat well and grow strong tomorrow will be at the table when company comes nobody will dare say to me eat in the kitchen then besides they will see how beautiful am and be ashamed— too am america http www poetryarchive org poetryarchive singlepoem do poemid listen to langston hughes read this poem recorded in by owner provided at no charge for educational purposes\n",
            "tensor([[0.1842]], device='cuda:0')\n",
            "new text adjectives\n",
            "too sing america am the darker brother they send me to eat in the kitchen when company comes but laugh and eat well and grow strong tomorrow will be at the table when company comes nobody will dare say to me eat in the kitchen then besides they will see how beautiful am and be ashamed— too am america http www poetryarchive org poetryarchive singlepoem do poemid listen to langston hughes read this poem recorded in by owner provided at no charge for educational purposes\n",
            "poems:\n",
            "poem3\n",
            "it was long time ago have almost forgotten my dream but it was there then in front of me bright like sun— my dream and then the wall rose rose slowly slowly between me and my dream rose until it touched the sky— the wall shadow am black lie down in the shadow no longer the light of my dream before me above me only the thick wall only the shadow my hands my dark hands break through the wall find my dream help me to shatter this darkness to smash this night to break this shadow into thousand lights of sun into thousand whirling dreams of sun by owner provided at no charge for educational purposes\n",
            "['help', 'take']\n",
            "['walk', 'gone']\n",
            "tensor([[0.2962]], device='cuda:0')\n",
            "tensor([[0.3433]], device='cuda:0')\n",
            "verb\n",
            "it was long time ago have almost forgotten my dream but it was there then in front of me bright like sun— my dream and then the wall rose rose slowly slowly between me and my dream rose until it touched the sky— the wall shadow am black lie down in the shadow no longer the light of my dream before me above me only the thick wall only the shadow my hands my dark hands break through the wall find my dream gone me to shatter this darkness to smash this night to break this shadow into thousand lights of sun into thousand whirling dreams of sun by owner provided at no charge for educational purposes\n",
            "tensor([[0.3713]], device='cuda:0')\n",
            "verb\n",
            "it was long time ago have almost forgotten my dream but it was there then in front of me bright like sun— my dream and then the wall rose rose slowly slowly between me and my dream rose until it touched the sky— the wall shadow am black lie down in the shadow no longer the light of my dream before me above me only the thick wall only the shadow my hands my dark hands break through the wall find my dream gone me to shatter this darkness to smash this night to break this shadow into thousand lights of sun into thousand whirling dreams of sun by owner provided at no charge for educational purposes\n",
            "new text verbs\n",
            "it was long time ago have almost forgotten my dream but it was there then in front of me bright like sun— my dream and then the wall rose rose slowly slowly between me and my dream rose until it touched the sky— the wall shadow am black lie down in the shadow no longer the light of my dream before me above me only the thick wall only the shadow my hands my dark hands break through the wall find my dream gone me to shatter this darkness to smash this night to break this shadow into thousand lights of sun into thousand whirling dreams of sun by owner provided at no charge for educational purposes\n",
            "inside loop 2\n",
            "great\n",
            "sleep\n",
            "it was long time ago have almost forgotten my dream but it was there then in front of me bright like sun— my dream and then the wall rose rose slowly slowly between me and my dream rose until it touched the sky— the wall shadow am black lie down in the shadow no longer the light of my dream before me above me only the thick wall only the shadow my hands my dark hands break through the wall find my dream gone me to shatter this darkness to smash this night to break this shadow into thousand lights of sun into thousand whirling dreams of sun by owner provided at no charge for educational purposes\n",
            "tensor([[0.3667]], device='cuda:0')\n",
            "adjective\n",
            "it was long time ago have almost forgotten my dream but it was there then in front of me bright like sun— my dream and then the wall rose rose slowly slowly between me and my dream rose until it touched the sky— the wall shadow am black lie down in the shadow no longer the light of my dream before me above me only the thick wall only the shadow my hands my dark hands break through the wall find my dream gone me to shatter this darkness to smash this night to break this shadow into thousand lights of sun into thousand whirling dreams of sun by owner provided at no charge for educational purposes\n",
            "inside loop 2\n",
            "great\n",
            "terrible\n",
            "it was long time ago have almost forgotten my dream but it was there then in front of me bright like sun— my dream and then the wall rose rose slowly slowly between me and my dream rose until it touched the sky— the wall shadow am black lie down in the shadow no longer the light of my dream before me above me only the thick wall only the shadow my hands my dark hands break through the wall find my dream gone me to shatter this darkness to smash this night to break this shadow into thousand lights of sun into thousand whirling dreams of sun by owner provided at no charge for educational purposes\n",
            "tensor([[0.3648]], device='cuda:0')\n",
            "adjective\n",
            "it was long time ago have almost forgotten my dream but it was there then in front of me bright like sun— my dream and then the wall rose rose slowly slowly between me and my dream rose until it touched the sky— the wall shadow am black lie down in the shadow no longer the light of my dream before me above me only the thick wall only the shadow my hands my dark hands break through the wall find my dream gone me to shatter this darkness to smash this night to break this shadow into thousand lights of sun into thousand whirling dreams of sun by owner provided at no charge for educational purposes\n",
            "inside loop 2\n",
            "young\n",
            "sleep\n",
            "it was long time ago have almost forgotten my dream but it was there then in front of me bright like sun— my dream and then the wall rose rose slowly slowly between me and my dream rose until it touched the sky— the wall shadow am black lie down in the shadow no longer the light of my dream before me above me only the thick wall only the shadow my hands my dark hands break through the wall find my dream gone me to shatter this darkness to smash this night to break this shadow into thousand lights of sun into thousand whirling dreams of sun by owner provided at no charge for educational purposes\n",
            "tensor([[0.0781]], device='cuda:0')\n",
            "inside loop 2\n",
            "young\n",
            "terrible\n",
            "it was long time ago have almost forgotten my dream but it was there then in front of me bright like sun— my dream and then the wall rose rose slowly slowly between me and my dream rose until it touched the sky— the wall shadow am black lie down in the shadow no longer the light of my dream before me above me only the thick wall only the shadow my hands my dark hands break through the wall find my dream gone me to shatter this darkness to smash this night to break this shadow into thousand lights of sun into thousand whirling dreams of sun by owner provided at no charge for educational purposes\n",
            "tensor([[0.1842]], device='cuda:0')\n",
            "new text adjectives\n",
            "it was long time ago have almost forgotten my dream but it was there then in front of me bright like sun— my dream and then the wall rose rose slowly slowly between me and my dream rose until it touched the sky— the wall shadow am black lie down in the shadow no longer the light of my dream before me above me only the thick wall only the shadow my hands my dark hands break through the wall find my dream gone me to shatter this darkness to smash this night to break this shadow into thousand lights of sun into thousand whirling dreams of sun by owner provided at no charge for educational purposes\n",
            "poems:\n",
            "poem4\n",
            "children come back today to tell you story of the long dark way that had to climb that had to know in order that the race might live and grow look at my face dark as the night yet shining like the sun with love true light am the child they stole from the sand three hundred years ago in africa land am the dark girl who crossed the wide sea carrying in my body the seed of the free am the woman who worked in the field bringing the cotton and the corn to yield am the one who labored as slave beaten and mistreated for the work gave children sold away from me husband sold too no safety no love no respect was due three hundred years in the deepest south but god put song and prayer in my mouth god put dream like steel in my soul now through my children reaching the goal now through my children young and free realize the blessings deed to me could not read then could not write had nothing back there in the night sometimes the valley was filled with tears but kept trudging on through the lonely years sometimes the road was hot with the sun but had to keep on till my work was done had to keep on no stopping for me was the seed of the coming free nourished the dream that nothing could smother deep in my breast the negro mother had only hope then but now through you dark ones of today my dreams must come true all you dark children in the world out there remember my sweat my pain my despair remember my years heavy with sorrow and make of those years torch for tomorrow make of my pass road to the light out of the darkness the ignorance the night lift high my banner out of the dust stand like free men supporting my trust believe in the right let none push you back remember the whip and the slaver track remember how the strong in struggle and strife still bar you the way and deny you life but march ever forward breaking down bars look ever upward at the sun and the stars oh my dark children may my dreams and my prayers impel you forever up the great stairs for will be with you till no white brother dares keep down the children of the negro mother many on line versions have the alternate line realized the blessing denied to me by owner provided at no charge for educational purposes\n",
            "['help', 'take']\n",
            "['walk', 'gone']\n",
            "tensor([[0.2962]], device='cuda:0')\n",
            "tensor([[0.3433]], device='cuda:0')\n",
            "verb\n",
            "children come back today to tell you story of the long dark way that had to climb that had to know in order that the race might live and grow look at my face dark as the night yet shining like the sun with love true light am the child they stole from the sand three hundred years ago in africa land am the dark girl who crossed the wide sea carrying in my body the seed of the free am the woman who worked in the field bringing the cotton and the corn to yield am the one who labored as slave beaten and mistreated for the work gave children sold away from me husband sold too no safety no love no respect was due three hundred years in the deepest south but god put song and prayer in my mouth god put dream like steel in my soul now through my children reaching the goal now through my children young and free realize the blessings deed to me could not read then could not write had nothing back there in the night sometimes the valley was filled with tears but kept trudging on through the lonely years sometimes the road was hot with the sun but had to keep on till my work was done had to keep on no stopping for me was the seed of the coming free nourished the dream that nothing could smother deep in my breast the negro mother had only hope then but now through you dark ones of today my dreams must come true all you dark children in the world out there remember my sweat my pain my despair remember my years heavy with sorrow and make of those years torch for tomorrow make of my pass road to the light out of the darkness the ignorance the night lift high my banner out of the dust stand like free men supporting my trust believe in the right let none push you back remember the whip and the slaver track remember how the strong in struggle and strife still bar you the way and deny you life but march ever forward breaking down bars look ever upward at the sun and the stars oh my dark children may my dreams and my prayers impel you forever up the great stairs for will be with you till no white brother dares keep down the children of the negro mother many on line versions have the alternate line realized the blessing denied to me by owner provided at no charge for educational purposes\n",
            "tensor([[0.3713]], device='cuda:0')\n",
            "verb\n",
            "children come back today to tell you story of the long dark way that had to climb that had to know in order that the race might live and grow look at my face dark as the night yet shining like the sun with love true light am the child they stole from the sand three hundred years ago in africa land am the dark girl who crossed the wide sea carrying in my body the seed of the free am the woman who worked in the field bringing the cotton and the corn to yield am the one who labored as slave beaten and mistreated for the work gave children sold away from me husband sold too no safety no love no respect was due three hundred years in the deepest south but god put song and prayer in my mouth god put dream like steel in my soul now through my children reaching the goal now through my children young and free realize the blessings deed to me could not read then could not write had nothing back there in the night sometimes the valley was filled with tears but kept trudging on through the lonely years sometimes the road was hot with the sun but had to keep on till my work was done had to keep on no stopping for me was the seed of the coming free nourished the dream that nothing could smother deep in my breast the negro mother had only hope then but now through you dark ones of today my dreams must come true all you dark children in the world out there remember my sweat my pain my despair remember my years heavy with sorrow and make of those years torch for tomorrow make of my pass road to the light out of the darkness the ignorance the night lift high my banner out of the dust stand like free men supporting my trust believe in the right let none push you back remember the whip and the slaver track remember how the strong in struggle and strife still bar you the way and deny you life but march ever forward breaking down bars look ever upward at the sun and the stars oh my dark children may my dreams and my prayers impel you forever up the great stairs for will be with you till no white brother dares keep down the children of the negro mother many on line versions have the alternate line realized the blessing denied to me by owner provided at no charge for educational purposes\n",
            "new text verbs\n",
            "children come back today to tell you story of the long dark way that had to climb that had to know in order that the race might live and grow look at my face dark as the night yet shining like the sun with love true light am the child they stole from the sand three hundred years ago in africa land am the dark girl who crossed the wide sea carrying in my body the seed of the free am the woman who worked in the field bringing the cotton and the corn to yield am the one who labored as slave beaten and mistreated for the work gave children sold away from me husband sold too no safety no love no respect was due three hundred years in the deepest south but god put song and prayer in my mouth god put dream like steel in my soul now through my children reaching the goal now through my children young and free realize the blessings deed to me could not read then could not write had nothing back there in the night sometimes the valley was filled with tears but kept trudging on through the lonely years sometimes the road was hot with the sun but had to keep on till my work was done had to keep on no stopping for me was the seed of the coming free nourished the dream that nothing could smother deep in my breast the negro mother had only hope then but now through you dark ones of today my dreams must come true all you dark children in the world out there remember my sweat my pain my despair remember my years heavy with sorrow and make of those years torch for tomorrow make of my pass road to the light out of the darkness the ignorance the night lift high my banner out of the dust stand like free men supporting my trust believe in the right let none push you back remember the whip and the slaver track remember how the strong in struggle and strife still bar you the way and deny you life but march ever forward breaking down bars look ever upward at the sun and the stars oh my dark children may my dreams and my prayers impel you forever up the great stairs for will be with you till no white brother dares keep down the children of the negro mother many on line versions have the alternate line realized the blessing denied to me by owner provided at no charge for educational purposes\n",
            "inside loop 2\n",
            "great\n",
            "sleep\n",
            "children come back today to tell you story of the long dark way that had to climb that had to know in order that the race might live and grow look at my face dark as the night yet shining like the sun with love true light am the child they stole from the sand three hundred years ago in africa land am the dark girl who crossed the wide sea carrying in my body the seed of the free am the woman who worked in the field bringing the cotton and the corn to yield am the one who labored as slave beaten and mistreated for the work gave children sold away from me husband sold too no safety no love no respect was due three hundred years in the deepest south but god put song and prayer in my mouth god put dream like steel in my soul now through my children reaching the goal now through my children young and free realize the blessings deed to me could not read then could not write had nothing back there in the night sometimes the valley was filled with tears but kept trudging on through the lonely years sometimes the road was hot with the sun but had to keep on till my work was done had to keep on no stopping for me was the seed of the coming free nourished the dream that nothing could smother deep in my breast the negro mother had only hope then but now through you dark ones of today my dreams must come true all you dark children in the world out there remember my sweat my pain my despair remember my years heavy with sorrow and make of those years torch for tomorrow make of my pass road to the light out of the darkness the ignorance the night lift high my banner out of the dust stand like free men supporting my trust believe in the right let none push you back remember the whip and the slaver track remember how the strong in struggle and strife still bar you the way and deny you life but march ever forward breaking down bars look ever upward at the sun and the stars oh my dark children may my dreams and my prayers impel you forever up the great stairs for will be with you till no white brother dares keep down the children of the negro mother many on line versions have the alternate line realized the blessing denied to me by owner provided at no charge for educational purposes\n",
            "tensor([[0.3667]], device='cuda:0')\n",
            "adjective\n",
            "children come back today to tell you story of the long dark way that had to climb that had to know in order that the race might live and grow look at my face dark as the night yet shining like the sun with love true light am the child they stole from the sand three hundred years ago in africa land am the dark girl who crossed the wide sea carrying in my body the seed of the free am the woman who worked in the field bringing the cotton and the corn to yield am the one who labored as slave beaten and mistreated for the work gave children sold away from me husband sold too no safety no love no respect was due three hundred years in the deepest south but god put song and prayer in my mouth god put dream like steel in my soul now through my children reaching the goal now through my children young and free realize the blessings deed to me could not read then could not write had nothing back there in the night sometimes the valley was filled with tears but kept trudging on through the lonely years sometimes the road was hot with the sun but had to keep on till my work was done had to keep on no stopping for me was the seed of the coming free nourished the dream that nothing could smother deep in my breast the negro mother had only hope then but now through you dark ones of today my dreams must come true all you dark children in the world out there remember my sweat my pain my despair remember my years heavy with sorrow and make of those years torch for tomorrow make of my pass road to the light out of the darkness the ignorance the night lift high my banner out of the dust stand like free men supporting my trust believe in the right let none push you back remember the whip and the slaver track remember how the strong in struggle and strife still bar you the way and deny you life but march ever forward breaking down bars look ever upward at the sun and the stars oh my dark children may my dreams and my prayers impel you forever up the sleep stairs for will be with you till no white brother dares keep down the children of the negro mother many on line versions have the alternate line realized the blessing denied to me by owner provided at no charge for educational purposes\n",
            "inside loop 2\n",
            "great\n",
            "terrible\n",
            "children come back today to tell you story of the long dark way that had to climb that had to know in order that the race might live and grow look at my face dark as the night yet shining like the sun with love true light am the child they stole from the sand three hundred years ago in africa land am the dark girl who crossed the wide sea carrying in my body the seed of the free am the woman who worked in the field bringing the cotton and the corn to yield am the one who labored as slave beaten and mistreated for the work gave children sold away from me husband sold too no safety no love no respect was due three hundred years in the deepest south but god put song and prayer in my mouth god put dream like steel in my soul now through my children reaching the goal now through my children young and free realize the blessings deed to me could not read then could not write had nothing back there in the night sometimes the valley was filled with tears but kept trudging on through the lonely years sometimes the road was hot with the sun but had to keep on till my work was done had to keep on no stopping for me was the seed of the coming free nourished the dream that nothing could smother deep in my breast the negro mother had only hope then but now through you dark ones of today my dreams must come true all you dark children in the world out there remember my sweat my pain my despair remember my years heavy with sorrow and make of those years torch for tomorrow make of my pass road to the light out of the darkness the ignorance the night lift high my banner out of the dust stand like free men supporting my trust believe in the right let none push you back remember the whip and the slaver track remember how the strong in struggle and strife still bar you the way and deny you life but march ever forward breaking down bars look ever upward at the sun and the stars oh my dark children may my dreams and my prayers impel you forever up the sleep stairs for will be with you till no white brother dares keep down the children of the negro mother many on line versions have the alternate line realized the blessing denied to me by owner provided at no charge for educational purposes\n",
            "tensor([[0.3648]], device='cuda:0')\n",
            "adjective\n",
            "children come back today to tell you story of the long dark way that had to climb that had to know in order that the race might live and grow look at my face dark as the night yet shining like the sun with love true light am the child they stole from the sand three hundred years ago in africa land am the dark girl who crossed the wide sea carrying in my body the seed of the free am the woman who worked in the field bringing the cotton and the corn to yield am the one who labored as slave beaten and mistreated for the work gave children sold away from me husband sold too no safety no love no respect was due three hundred years in the deepest south but god put song and prayer in my mouth god put dream like steel in my soul now through my children reaching the goal now through my children young and free realize the blessings deed to me could not read then could not write had nothing back there in the night sometimes the valley was filled with tears but kept trudging on through the lonely years sometimes the road was hot with the sun but had to keep on till my work was done had to keep on no stopping for me was the seed of the coming free nourished the dream that nothing could smother deep in my breast the negro mother had only hope then but now through you dark ones of today my dreams must come true all you dark children in the world out there remember my sweat my pain my despair remember my years heavy with sorrow and make of those years torch for tomorrow make of my pass road to the light out of the darkness the ignorance the night lift high my banner out of the dust stand like free men supporting my trust believe in the right let none push you back remember the whip and the slaver track remember how the strong in struggle and strife still bar you the way and deny you life but march ever forward breaking down bars look ever upward at the sun and the stars oh my dark children may my dreams and my prayers impel you forever up the sleep stairs for will be with you till no white brother dares keep down the children of the negro mother many on line versions have the alternate line realized the blessing denied to me by owner provided at no charge for educational purposes\n",
            "inside loop 2\n",
            "young\n",
            "sleep\n",
            "children come back today to tell you story of the long dark way that had to climb that had to know in order that the race might live and grow look at my face dark as the night yet shining like the sun with love true light am the child they stole from the sand three hundred years ago in africa land am the dark girl who crossed the wide sea carrying in my body the seed of the free am the woman who worked in the field bringing the cotton and the corn to yield am the one who labored as slave beaten and mistreated for the work gave children sold away from me husband sold too no safety no love no respect was due three hundred years in the deepest south but god put song and prayer in my mouth god put dream like steel in my soul now through my children reaching the goal now through my children young and free realize the blessings deed to me could not read then could not write had nothing back there in the night sometimes the valley was filled with tears but kept trudging on through the lonely years sometimes the road was hot with the sun but had to keep on till my work was done had to keep on no stopping for me was the seed of the coming free nourished the dream that nothing could smother deep in my breast the negro mother had only hope then but now through you dark ones of today my dreams must come true all you dark children in the world out there remember my sweat my pain my despair remember my years heavy with sorrow and make of those years torch for tomorrow make of my pass road to the light out of the darkness the ignorance the night lift high my banner out of the dust stand like free men supporting my trust believe in the right let none push you back remember the whip and the slaver track remember how the strong in struggle and strife still bar you the way and deny you life but march ever forward breaking down bars look ever upward at the sun and the stars oh my dark children may my dreams and my prayers impel you forever up the sleep stairs for will be with you till no white brother dares keep down the children of the negro mother many on line versions have the alternate line realized the blessing denied to me by owner provided at no charge for educational purposes\n",
            "tensor([[0.0781]], device='cuda:0')\n",
            "inside loop 2\n",
            "young\n",
            "terrible\n",
            "children come back today to tell you story of the long dark way that had to climb that had to know in order that the race might live and grow look at my face dark as the night yet shining like the sun with love true light am the child they stole from the sand three hundred years ago in africa land am the dark girl who crossed the wide sea carrying in my body the seed of the free am the woman who worked in the field bringing the cotton and the corn to yield am the one who labored as slave beaten and mistreated for the work gave children sold away from me husband sold too no safety no love no respect was due three hundred years in the deepest south but god put song and prayer in my mouth god put dream like steel in my soul now through my children reaching the goal now through my children young and free realize the blessings deed to me could not read then could not write had nothing back there in the night sometimes the valley was filled with tears but kept trudging on through the lonely years sometimes the road was hot with the sun but had to keep on till my work was done had to keep on no stopping for me was the seed of the coming free nourished the dream that nothing could smother deep in my breast the negro mother had only hope then but now through you dark ones of today my dreams must come true all you dark children in the world out there remember my sweat my pain my despair remember my years heavy with sorrow and make of those years torch for tomorrow make of my pass road to the light out of the darkness the ignorance the night lift high my banner out of the dust stand like free men supporting my trust believe in the right let none push you back remember the whip and the slaver track remember how the strong in struggle and strife still bar you the way and deny you life but march ever forward breaking down bars look ever upward at the sun and the stars oh my dark children may my dreams and my prayers impel you forever up the sleep stairs for will be with you till no white brother dares keep down the children of the negro mother many on line versions have the alternate line realized the blessing denied to me by owner provided at no charge for educational purposes\n",
            "tensor([[0.1842]], device='cuda:0')\n",
            "new text adjectives\n",
            "children come back today to tell you story of the long dark way that had to climb that had to know in order that the race might live and grow look at my face dark as the night yet shining like the sun with love true light am the child they stole from the sand three hundred years ago in africa land am the dark girl who crossed the wide sea carrying in my body the seed of the free am the woman who worked in the field bringing the cotton and the corn to yield am the one who labored as slave beaten and mistreated for the work gave children sold away from me husband sold too no safety no love no respect was due three hundred years in the deepest south but god put song and prayer in my mouth god put dream like steel in my soul now through my children reaching the goal now through my children young and free realize the blessings deed to me could not read then could not write had nothing back there in the night sometimes the valley was filled with tears but kept trudging on through the lonely years sometimes the road was hot with the sun but had to keep on till my work was done had to keep on no stopping for me was the seed of the coming free nourished the dream that nothing could smother deep in my breast the negro mother had only hope then but now through you dark ones of today my dreams must come true all you dark children in the world out there remember my sweat my pain my despair remember my years heavy with sorrow and make of those years torch for tomorrow make of my pass road to the light out of the darkness the ignorance the night lift high my banner out of the dust stand like free men supporting my trust believe in the right let none push you back remember the whip and the slaver track remember how the strong in struggle and strife still bar you the way and deny you life but march ever forward breaking down bars look ever upward at the sun and the stars oh my dark children may my dreams and my prayers impel you forever up the sleep stairs for will be with you till no white brother dares keep down the children of the negro mother many on line versions have the alternate line realized the blessing denied to me by owner provided at no charge for educational purposes\n",
            "poems:\n",
            "poem5\n",
            "have known rivers have known rivers ancient as the world and older than the flow of human blood in human veins my soul has grown deep like the rivers bathed in the euphrates when dawns were young built my hut near the congo and it lulled me to sleep looked upon the nile and raised the pyramids above it heard the singing of the mississippi when abe lincoln went down to new orleans and have seen its muddy bosom turn all golden in the sunset have known rivers ancient dusky rivers my soul has grown deep like the rivers http www poetryarchive org poetryarchive singlepoem do poemid recorded in langston hughes recites by owner provided at no charge for educational purposes\n",
            "['help', 'take']\n",
            "['walk', 'gone']\n",
            "tensor([[0.2962]], device='cuda:0')\n",
            "tensor([[0.3433]], device='cuda:0')\n",
            "verb\n",
            "have known rivers have known rivers ancient as the world and older than the flow of human blood in human veins my soul has grown deep like the rivers bathed in the euphrates when dawns were young built my hut near the congo and it lulled me to sleep looked upon the nile and raised the pyramids above it heard the singing of the mississippi when abe lincoln went down to new orleans and have seen its muddy bosom turn all golden in the sunset have known rivers ancient dusky rivers my soul has grown deep like the rivers http www poetryarchive org poetryarchive singlepoem do poemid recorded in langston hughes recites by owner provided at no charge for educational purposes\n",
            "tensor([[0.3713]], device='cuda:0')\n",
            "verb\n",
            "have known rivers have known rivers ancient as the world and older than the flow of human blood in human veins my soul has grown deep like the rivers bathed in the euphrates when dawns were young built my hut near the congo and it lulled me to sleep looked upon the nile and raised the pyramids above it heard the singing of the mississippi when abe lincoln went down to new orleans and have seen its muddy bosom turn all golden in the sunset have known rivers ancient dusky rivers my soul has grown deep like the rivers http www poetryarchive org poetryarchive singlepoem do poemid recorded in langston hughes recites by owner provided at no charge for educational purposes\n",
            "new text verbs\n",
            "have known rivers have known rivers ancient as the world and older than the flow of human blood in human veins my soul has grown deep like the rivers bathed in the euphrates when dawns were young built my hut near the congo and it lulled me to sleep looked upon the nile and raised the pyramids above it heard the singing of the mississippi when abe lincoln went down to new orleans and have seen its muddy bosom turn all golden in the sunset have known rivers ancient dusky rivers my soul has grown deep like the rivers http www poetryarchive org poetryarchive singlepoem do poemid recorded in langston hughes recites by owner provided at no charge for educational purposes\n",
            "inside loop 2\n",
            "great\n",
            "sleep\n",
            "have known rivers have known rivers ancient as the world and older than the flow of human blood in human veins my soul has grown deep like the rivers bathed in the euphrates when dawns were young built my hut near the congo and it lulled me to sleep looked upon the nile and raised the pyramids above it heard the singing of the mississippi when abe lincoln went down to new orleans and have seen its muddy bosom turn all golden in the sunset have known rivers ancient dusky rivers my soul has grown deep like the rivers http www poetryarchive org poetryarchive singlepoem do poemid recorded in langston hughes recites by owner provided at no charge for educational purposes\n",
            "tensor([[0.3667]], device='cuda:0')\n",
            "adjective\n",
            "have known rivers have known rivers ancient as the world and older than the flow of human blood in human veins my soul has grown deep like the rivers bathed in the euphrates when dawns were young built my hut near the congo and it lulled me to sleep looked upon the nile and raised the pyramids above it heard the singing of the mississippi when abe lincoln went down to new orleans and have seen its muddy bosom turn all golden in the sunset have known rivers ancient dusky rivers my soul has grown deep like the rivers http www poetryarchive org poetryarchive singlepoem do poemid recorded in langston hughes recites by owner provided at no charge for educational purposes\n",
            "inside loop 2\n",
            "great\n",
            "terrible\n",
            "have known rivers have known rivers ancient as the world and older than the flow of human blood in human veins my soul has grown deep like the rivers bathed in the euphrates when dawns were young built my hut near the congo and it lulled me to sleep looked upon the nile and raised the pyramids above it heard the singing of the mississippi when abe lincoln went down to new orleans and have seen its muddy bosom turn all golden in the sunset have known rivers ancient dusky rivers my soul has grown deep like the rivers http www poetryarchive org poetryarchive singlepoem do poemid recorded in langston hughes recites by owner provided at no charge for educational purposes\n",
            "tensor([[0.3648]], device='cuda:0')\n",
            "adjective\n",
            "have known rivers have known rivers ancient as the world and older than the flow of human blood in human veins my soul has grown deep like the rivers bathed in the euphrates when dawns were young built my hut near the congo and it lulled me to sleep looked upon the nile and raised the pyramids above it heard the singing of the mississippi when abe lincoln went down to new orleans and have seen its muddy bosom turn all golden in the sunset have known rivers ancient dusky rivers my soul has grown deep like the rivers http www poetryarchive org poetryarchive singlepoem do poemid recorded in langston hughes recites by owner provided at no charge for educational purposes\n",
            "inside loop 2\n",
            "young\n",
            "sleep\n",
            "have known rivers have known rivers ancient as the world and older than the flow of human blood in human veins my soul has grown deep like the rivers bathed in the euphrates when dawns were young built my hut near the congo and it lulled me to sleep looked upon the nile and raised the pyramids above it heard the singing of the mississippi when abe lincoln went down to new orleans and have seen its muddy bosom turn all golden in the sunset have known rivers ancient dusky rivers my soul has grown deep like the rivers http www poetryarchive org poetryarchive singlepoem do poemid recorded in langston hughes recites by owner provided at no charge for educational purposes\n",
            "tensor([[0.0781]], device='cuda:0')\n",
            "inside loop 2\n",
            "young\n",
            "terrible\n",
            "have known rivers have known rivers ancient as the world and older than the flow of human blood in human veins my soul has grown deep like the rivers bathed in the euphrates when dawns were young built my hut near the congo and it lulled me to sleep looked upon the nile and raised the pyramids above it heard the singing of the mississippi when abe lincoln went down to new orleans and have seen its muddy bosom turn all golden in the sunset have known rivers ancient dusky rivers my soul has grown deep like the rivers http www poetryarchive org poetryarchive singlepoem do poemid recorded in langston hughes recites by owner provided at no charge for educational purposes\n",
            "tensor([[0.1842]], device='cuda:0')\n",
            "new text adjectives\n",
            "have known rivers have known rivers ancient as the world and older than the flow of human blood in human veins my soul has grown deep like the rivers bathed in the euphrates when dawns were young built my hut near the congo and it lulled me to sleep looked upon the nile and raised the pyramids above it heard the singing of the mississippi when abe lincoln went down to new orleans and have seen its muddy bosom turn all golden in the sunset have known rivers ancient dusky rivers my soul has grown deep like the rivers http www poetryarchive org poetryarchive singlepoem do poemid recorded in langston hughes recites by owner provided at no charge for educational purposes\n",
            "poems:\n",
            "poem6\n",
            "the negro with the trumpet at his lips has dark moons of weariness beneath his eyes where the smoldering memory of slave ships blazed to the crack of whips about thighs the negro with the trumpet at his lips has head of vibrant hair tamed down patent leathered now until it gleams like jet— were jet crown the music from the trumpet at his lips is honey mixed with liquid fire the rhythm from the trumpet at his lips is ecstasy distilled from old desire— desire that is longing for the moon where the moonlight but spotlight in his eyes desire that is longing for the sea where the sea bar glass sucker size the negro with the trumpet at his lips whose jacket has fine one button roll does not know upon what riff the music slips it hypodermic needle to his soul but softly as the tune comes from his throat trouble mellows to golden note by owner provided at no charge for educational purposes\n",
            "['help', 'take']\n",
            "['walk', 'gone']\n",
            "tensor([[0.2962]], device='cuda:0')\n",
            "tensor([[0.3433]], device='cuda:0')\n",
            "verb\n",
            "the negro with the trumpet at his lips has dark moons of weariness beneath his eyes where the smoldering memory of slave ships blazed to the crack of whips about thighs the negro with the trumpet at his lips has head of vibrant hair tamed down patent leathered now until it gleams like jet— were jet crown the music from the trumpet at his lips is honey mixed with liquid fire the rhythm from the trumpet at his lips is ecstasy distilled from old desire— desire that is longing for the moon where the moonlight but spotlight in his eyes desire that is longing for the sea where the sea bar glass sucker size the negro with the trumpet at his lips whose jacket has fine one button roll does not know upon what riff the music slips it hypodermic needle to his soul but softly as the tune comes from his throat trouble mellows to golden note by owner provided at no charge for educational purposes\n",
            "tensor([[0.3713]], device='cuda:0')\n",
            "verb\n",
            "the negro with the trumpet at his lips has dark moons of weariness beneath his eyes where the smoldering memory of slave ships blazed to the crack of whips about thighs the negro with the trumpet at his lips has head of vibrant hair tamed down patent leathered now until it gleams like jet— were jet crown the music from the trumpet at his lips is honey mixed with liquid fire the rhythm from the trumpet at his lips is ecstasy distilled from old desire— desire that is longing for the moon where the moonlight but spotlight in his eyes desire that is longing for the sea where the sea bar glass sucker size the negro with the trumpet at his lips whose jacket has fine one button roll does not know upon what riff the music slips it hypodermic needle to his soul but softly as the tune comes from his throat trouble mellows to golden note by owner provided at no charge for educational purposes\n",
            "new text verbs\n",
            "the negro with the trumpet at his lips has dark moons of weariness beneath his eyes where the smoldering memory of slave ships blazed to the crack of whips about thighs the negro with the trumpet at his lips has head of vibrant hair tamed down patent leathered now until it gleams like jet— were jet crown the music from the trumpet at his lips is honey mixed with liquid fire the rhythm from the trumpet at his lips is ecstasy distilled from old desire— desire that is longing for the moon where the moonlight but spotlight in his eyes desire that is longing for the sea where the sea bar glass sucker size the negro with the trumpet at his lips whose jacket has fine one button roll does not know upon what riff the music slips it hypodermic needle to his soul but softly as the tune comes from his throat trouble mellows to golden note by owner provided at no charge for educational purposes\n",
            "inside loop 2\n",
            "great\n",
            "sleep\n",
            "the negro with the trumpet at his lips has dark moons of weariness beneath his eyes where the smoldering memory of slave ships blazed to the crack of whips about thighs the negro with the trumpet at his lips has head of vibrant hair tamed down patent leathered now until it gleams like jet— were jet crown the music from the trumpet at his lips is honey mixed with liquid fire the rhythm from the trumpet at his lips is ecstasy distilled from old desire— desire that is longing for the moon where the moonlight but spotlight in his eyes desire that is longing for the sea where the sea bar glass sucker size the negro with the trumpet at his lips whose jacket has fine one button roll does not know upon what riff the music slips it hypodermic needle to his soul but softly as the tune comes from his throat trouble mellows to golden note by owner provided at no charge for educational purposes\n",
            "tensor([[0.3667]], device='cuda:0')\n",
            "adjective\n",
            "the negro with the trumpet at his lips has dark moons of weariness beneath his eyes where the smoldering memory of slave ships blazed to the crack of whips about thighs the negro with the trumpet at his lips has head of vibrant hair tamed down patent leathered now until it gleams like jet— were jet crown the music from the trumpet at his lips is honey mixed with liquid fire the rhythm from the trumpet at his lips is ecstasy distilled from old desire— desire that is longing for the moon where the moonlight but spotlight in his eyes desire that is longing for the sea where the sea bar glass sucker size the negro with the trumpet at his lips whose jacket has fine one button roll does not know upon what riff the music slips it hypodermic needle to his soul but softly as the tune comes from his throat trouble mellows to golden note by owner provided at no charge for educational purposes\n",
            "inside loop 2\n",
            "great\n",
            "terrible\n",
            "the negro with the trumpet at his lips has dark moons of weariness beneath his eyes where the smoldering memory of slave ships blazed to the crack of whips about thighs the negro with the trumpet at his lips has head of vibrant hair tamed down patent leathered now until it gleams like jet— were jet crown the music from the trumpet at his lips is honey mixed with liquid fire the rhythm from the trumpet at his lips is ecstasy distilled from old desire— desire that is longing for the moon where the moonlight but spotlight in his eyes desire that is longing for the sea where the sea bar glass sucker size the negro with the trumpet at his lips whose jacket has fine one button roll does not know upon what riff the music slips it hypodermic needle to his soul but softly as the tune comes from his throat trouble mellows to golden note by owner provided at no charge for educational purposes\n",
            "tensor([[0.3648]], device='cuda:0')\n",
            "adjective\n",
            "the negro with the trumpet at his lips has dark moons of weariness beneath his eyes where the smoldering memory of slave ships blazed to the crack of whips about thighs the negro with the trumpet at his lips has head of vibrant hair tamed down patent leathered now until it gleams like jet— were jet crown the music from the trumpet at his lips is honey mixed with liquid fire the rhythm from the trumpet at his lips is ecstasy distilled from old desire— desire that is longing for the moon where the moonlight but spotlight in his eyes desire that is longing for the sea where the sea bar glass sucker size the negro with the trumpet at his lips whose jacket has fine one button roll does not know upon what riff the music slips it hypodermic needle to his soul but softly as the tune comes from his throat trouble mellows to golden note by owner provided at no charge for educational purposes\n",
            "inside loop 2\n",
            "young\n",
            "sleep\n",
            "the negro with the trumpet at his lips has dark moons of weariness beneath his eyes where the smoldering memory of slave ships blazed to the crack of whips about thighs the negro with the trumpet at his lips has head of vibrant hair tamed down patent leathered now until it gleams like jet— were jet crown the music from the trumpet at his lips is honey mixed with liquid fire the rhythm from the trumpet at his lips is ecstasy distilled from old desire— desire that is longing for the moon where the moonlight but spotlight in his eyes desire that is longing for the sea where the sea bar glass sucker size the negro with the trumpet at his lips whose jacket has fine one button roll does not know upon what riff the music slips it hypodermic needle to his soul but softly as the tune comes from his throat trouble mellows to golden note by owner provided at no charge for educational purposes\n",
            "tensor([[0.0781]], device='cuda:0')\n",
            "inside loop 2\n",
            "young\n",
            "terrible\n",
            "the negro with the trumpet at his lips has dark moons of weariness beneath his eyes where the smoldering memory of slave ships blazed to the crack of whips about thighs the negro with the trumpet at his lips has head of vibrant hair tamed down patent leathered now until it gleams like jet— were jet crown the music from the trumpet at his lips is honey mixed with liquid fire the rhythm from the trumpet at his lips is ecstasy distilled from old desire— desire that is longing for the moon where the moonlight but spotlight in his eyes desire that is longing for the sea where the sea bar glass sucker size the negro with the trumpet at his lips whose jacket has fine one button roll does not know upon what riff the music slips it hypodermic needle to his soul but softly as the tune comes from his throat trouble mellows to golden note by owner provided at no charge for educational purposes\n",
            "tensor([[0.1842]], device='cuda:0')\n",
            "new text adjectives\n",
            "the negro with the trumpet at his lips has dark moons of weariness beneath his eyes where the smoldering memory of slave ships blazed to the crack of whips about thighs the negro with the trumpet at his lips has head of vibrant hair tamed down patent leathered now until it gleams like jet— were jet crown the music from the trumpet at his lips is honey mixed with liquid fire the rhythm from the trumpet at his lips is ecstasy distilled from old desire— desire that is longing for the moon where the moonlight but spotlight in his eyes desire that is longing for the sea where the sea bar glass sucker size the negro with the trumpet at his lips whose jacket has fine one button roll does not know upon what riff the music slips it hypodermic needle to his soul but softly as the tune comes from his throat trouble mellows to golden note by owner provided at no charge for educational purposes\n",
            "poems:\n",
            "poem7\n",
            "my old man white old manand my old mother black if ever cursed my white old mani take my curses back if ever cursed my black old motherand wished she were in hell sorry for that evil wishand now wish her wellmy old man died in fine big house my ma died in shack wonder were going to die being neither white nor black by owner provided at no charge for educational purposes\n",
            "['help', 'take']\n",
            "['walk', 'gone']\n",
            "tensor([[0.2962]], device='cuda:0')\n",
            "tensor([[0.3433]], device='cuda:0')\n",
            "verb\n",
            "my old man white old manand my old mother black if ever cursed my white old mani take my curses back if ever cursed my black old motherand wished she were in hell sorry for that evil wishand now wish her wellmy old man died in fine big house my ma died in shack wonder were going to die being neither white nor black by owner provided at no charge for educational purposes\n",
            "tensor([[0.3713]], device='cuda:0')\n",
            "verb\n",
            "my old man white old manand my old mother black if ever cursed my white old mani walk my curses back if ever cursed my black old motherand wished she were in hell sorry for that evil wishand now wish her wellmy old man died in fine big house my ma died in shack wonder were going to die being neither white nor black by owner provided at no charge for educational purposes\n",
            "new text verbs\n",
            "my old man white old manand my old mother black if ever cursed my white old mani walk my curses back if ever cursed my black old motherand wished she were in hell sorry for that evil wishand now wish her wellmy old man died in fine big house my ma died in shack wonder were going to die being neither white nor black by owner provided at no charge for educational purposes\n",
            "inside loop 2\n",
            "great\n",
            "sleep\n",
            "my old man white old manand my old mother black if ever cursed my white old mani walk my curses back if ever cursed my black old motherand wished she were in hell sorry for that evil wishand now wish her wellmy old man died in fine big house my ma died in shack wonder were going to die being neither white nor black by owner provided at no charge for educational purposes\n",
            "tensor([[0.3667]], device='cuda:0')\n",
            "adjective\n",
            "my old man white old manand my old mother black if ever cursed my white old mani walk my curses back if ever cursed my black old motherand wished she were in hell sorry for that evil wishand now wish her wellmy old man died in fine big house my ma died in shack wonder were going to die being neither white nor black by owner provided at no charge for educational purposes\n",
            "inside loop 2\n",
            "great\n",
            "terrible\n",
            "my old man white old manand my old mother black if ever cursed my white old mani walk my curses back if ever cursed my black old motherand wished she were in hell sorry for that evil wishand now wish her wellmy old man died in fine big house my ma died in shack wonder were going to die being neither white nor black by owner provided at no charge for educational purposes\n",
            "tensor([[0.3648]], device='cuda:0')\n",
            "adjective\n",
            "my old man white old manand my old mother black if ever cursed my white old mani walk my curses back if ever cursed my black old motherand wished she were in hell sorry for that evil wishand now wish her wellmy old man died in fine big house my ma died in shack wonder were going to die being neither white nor black by owner provided at no charge for educational purposes\n",
            "inside loop 2\n",
            "young\n",
            "sleep\n",
            "my old man white old manand my old mother black if ever cursed my white old mani walk my curses back if ever cursed my black old motherand wished she were in hell sorry for that evil wishand now wish her wellmy old man died in fine big house my ma died in shack wonder were going to die being neither white nor black by owner provided at no charge for educational purposes\n",
            "tensor([[0.0781]], device='cuda:0')\n",
            "inside loop 2\n",
            "young\n",
            "terrible\n",
            "my old man white old manand my old mother black if ever cursed my white old mani walk my curses back if ever cursed my black old motherand wished she were in hell sorry for that evil wishand now wish her wellmy old man died in fine big house my ma died in shack wonder were going to die being neither white nor black by owner provided at no charge for educational purposes\n",
            "tensor([[0.1842]], device='cuda:0')\n",
            "new text adjectives\n",
            "my old man white old manand my old mother black if ever cursed my white old mani walk my curses back if ever cursed my black old motherand wished she were in hell sorry for that evil wishand now wish her wellmy old man died in fine big house my ma died in shack wonder were going to die being neither white nor black by owner provided at no charge for educational purposes\n",
            "poems:\n",
            "poem8\n",
            "the rent man knocked he said how do you do said what can do for you he said you know your rent is due said listen before pay go to hades and rot away the sink is broke the water do not run and you ai not done thing you promised to have done back window cracked kitchen floor squeaks there rats in the cellar and the attic leaks he said madam it not up to me just the agent do not you see said naturally you pass the buck if it money you want you are out of luck he said madam ai not pleased said neither am so we agrees this is one of number of madam poems by langston hughes that can be considered as linked series madam and the rent man http oldpoetry com opoem madam and the census man http oldpoetry com opoem show madam and her madam http oldpoetry com opoem madam and the phone bill http oldpoetry com opoem madam’s past history http oldpoetry com opoem this one is taken from the collected poems of langston hughes by langston hughes by the estate of langston hughes the header graphic is an illustration from the liberation news service the late by owner provided at no charge for educational purposes\n",
            "['help', 'take']\n",
            "['walk', 'gone']\n",
            "tensor([[0.2962]], device='cuda:0')\n",
            "tensor([[0.3433]], device='cuda:0')\n",
            "verb\n",
            "the rent man knocked he said how do you do said what can do for you he said you know your rent is due said listen before pay go to hades and rot away the sink is broke the water do not run and you ai not done thing you promised to have done back window cracked kitchen floor squeaks there rats in the cellar and the attic leaks he said madam it not up to me just the agent do not you see said naturally you pass the buck if it money you want you are out of luck he said madam ai not pleased said neither am so we agrees this is one of number of madam poems by langston hughes that can be considered as linked series madam and the rent man http oldpoetry com opoem madam and the census man http oldpoetry com opoem show madam and her madam http oldpoetry com opoem madam and the phone bill http oldpoetry com opoem madam’s past history http oldpoetry com opoem this one is taken from the collected poems of langston hughes by langston hughes by the estate of langston hughes the header graphic is an illustration from the liberation news service the late by owner provided at no charge for educational purposes\n",
            "tensor([[0.3713]], device='cuda:0')\n",
            "verb\n",
            "the rent man knocked he said how do you do said what can do for you he said you know your rent is due said listen before pay go to hades and rot away the sink is broke the water do not run and you ai not done thing you promised to have done back window cracked kitchen floor squeaks there rats in the cellar and the attic leaks he said madam it not up to me just the agent do not you see said naturally you pass the buck if it money you want you are out of luck he said madam ai not pleased said neither am so we agrees this is one of number of madam poems by langston hughes that can be considered as linked series madam and the rent man http oldpoetry com opoem madam and the census man http oldpoetry com opoem show madam and her madam http oldpoetry com opoem madam and the phone bill http oldpoetry com opoem madam’s past history http oldpoetry com opoem this one is walkn from the collected poems of langston hughes by langston hughes by the estate of langston hughes the header graphic is an illustration from the liberation news service the late by owner provided at no charge for educational purposes\n",
            "new text verbs\n",
            "the rent man knocked he said how do you do said what can do for you he said you know your rent is due said listen before pay go to hades and rot away the sink is broke the water do not run and you ai not done thing you promised to have done back window cracked kitchen floor squeaks there rats in the cellar and the attic leaks he said madam it not up to me just the agent do not you see said naturally you pass the buck if it money you want you are out of luck he said madam ai not pleased said neither am so we agrees this is one of number of madam poems by langston hughes that can be considered as linked series madam and the rent man http oldpoetry com opoem madam and the census man http oldpoetry com opoem show madam and her madam http oldpoetry com opoem madam and the phone bill http oldpoetry com opoem madam’s past history http oldpoetry com opoem this one is walkn from the collected poems of langston hughes by langston hughes by the estate of langston hughes the header graphic is an illustration from the liberation news service the late by owner provided at no charge for educational purposes\n",
            "inside loop 2\n",
            "great\n",
            "sleep\n",
            "the rent man knocked he said how do you do said what can do for you he said you know your rent is due said listen before pay go to hades and rot away the sink is broke the water do not run and you ai not done thing you promised to have done back window cracked kitchen floor squeaks there rats in the cellar and the attic leaks he said madam it not up to me just the agent do not you see said naturally you pass the buck if it money you want you are out of luck he said madam ai not pleased said neither am so we agrees this is one of number of madam poems by langston hughes that can be considered as linked series madam and the rent man http oldpoetry com opoem madam and the census man http oldpoetry com opoem show madam and her madam http oldpoetry com opoem madam and the phone bill http oldpoetry com opoem madam’s past history http oldpoetry com opoem this one is walkn from the collected poems of langston hughes by langston hughes by the estate of langston hughes the header graphic is an illustration from the liberation news service the late by owner provided at no charge for educational purposes\n",
            "tensor([[0.3667]], device='cuda:0')\n",
            "adjective\n",
            "the rent man knocked he said how do you do said what can do for you he said you know your rent is due said listen before pay go to hades and rot away the sink is broke the water do not run and you ai not done thing you promised to have done back window cracked kitchen floor squeaks there rats in the cellar and the attic leaks he said madam it not up to me just the agent do not you see said naturally you pass the buck if it money you want you are out of luck he said madam ai not pleased said neither am so we agrees this is one of number of madam poems by langston hughes that can be considered as linked series madam and the rent man http oldpoetry com opoem madam and the census man http oldpoetry com opoem show madam and her madam http oldpoetry com opoem madam and the phone bill http oldpoetry com opoem madam’s past history http oldpoetry com opoem this one is walkn from the collected poems of langston hughes by langston hughes by the estate of langston hughes the header graphic is an illustration from the liberation news service the late by owner provided at no charge for educational purposes\n",
            "inside loop 2\n",
            "great\n",
            "terrible\n",
            "the rent man knocked he said how do you do said what can do for you he said you know your rent is due said listen before pay go to hades and rot away the sink is broke the water do not run and you ai not done thing you promised to have done back window cracked kitchen floor squeaks there rats in the cellar and the attic leaks he said madam it not up to me just the agent do not you see said naturally you pass the buck if it money you want you are out of luck he said madam ai not pleased said neither am so we agrees this is one of number of madam poems by langston hughes that can be considered as linked series madam and the rent man http oldpoetry com opoem madam and the census man http oldpoetry com opoem show madam and her madam http oldpoetry com opoem madam and the phone bill http oldpoetry com opoem madam’s past history http oldpoetry com opoem this one is walkn from the collected poems of langston hughes by langston hughes by the estate of langston hughes the header graphic is an illustration from the liberation news service the late by owner provided at no charge for educational purposes\n",
            "tensor([[0.3648]], device='cuda:0')\n",
            "adjective\n",
            "the rent man knocked he said how do you do said what can do for you he said you know your rent is due said listen before pay go to hades and rot away the sink is broke the water do not run and you ai not done thing you promised to have done back window cracked kitchen floor squeaks there rats in the cellar and the attic leaks he said madam it not up to me just the agent do not you see said naturally you pass the buck if it money you want you are out of luck he said madam ai not pleased said neither am so we agrees this is one of number of madam poems by langston hughes that can be considered as linked series madam and the rent man http oldpoetry com opoem madam and the census man http oldpoetry com opoem show madam and her madam http oldpoetry com opoem madam and the phone bill http oldpoetry com opoem madam’s past history http oldpoetry com opoem this one is walkn from the collected poems of langston hughes by langston hughes by the estate of langston hughes the header graphic is an illustration from the liberation news service the late by owner provided at no charge for educational purposes\n",
            "inside loop 2\n",
            "young\n",
            "sleep\n",
            "the rent man knocked he said how do you do said what can do for you he said you know your rent is due said listen before pay go to hades and rot away the sink is broke the water do not run and you ai not done thing you promised to have done back window cracked kitchen floor squeaks there rats in the cellar and the attic leaks he said madam it not up to me just the agent do not you see said naturally you pass the buck if it money you want you are out of luck he said madam ai not pleased said neither am so we agrees this is one of number of madam poems by langston hughes that can be considered as linked series madam and the rent man http oldpoetry com opoem madam and the census man http oldpoetry com opoem show madam and her madam http oldpoetry com opoem madam and the phone bill http oldpoetry com opoem madam’s past history http oldpoetry com opoem this one is walkn from the collected poems of langston hughes by langston hughes by the estate of langston hughes the header graphic is an illustration from the liberation news service the late by owner provided at no charge for educational purposes\n",
            "tensor([[0.0781]], device='cuda:0')\n",
            "inside loop 2\n",
            "young\n",
            "terrible\n",
            "the rent man knocked he said how do you do said what can do for you he said you know your rent is due said listen before pay go to hades and rot away the sink is broke the water do not run and you ai not done thing you promised to have done back window cracked kitchen floor squeaks there rats in the cellar and the attic leaks he said madam it not up to me just the agent do not you see said naturally you pass the buck if it money you want you are out of luck he said madam ai not pleased said neither am so we agrees this is one of number of madam poems by langston hughes that can be considered as linked series madam and the rent man http oldpoetry com opoem madam and the census man http oldpoetry com opoem show madam and her madam http oldpoetry com opoem madam and the phone bill http oldpoetry com opoem madam’s past history http oldpoetry com opoem this one is walkn from the collected poems of langston hughes by langston hughes by the estate of langston hughes the header graphic is an illustration from the liberation news service the late by owner provided at no charge for educational purposes\n",
            "tensor([[0.1842]], device='cuda:0')\n",
            "new text adjectives\n",
            "the rent man knocked he said how do you do said what can do for you he said you know your rent is due said listen before pay go to hades and rot away the sink is broke the water do not run and you ai not done thing you promised to have done back window cracked kitchen floor squeaks there rats in the cellar and the attic leaks he said madam it not up to me just the agent do not you see said naturally you pass the buck if it money you want you are out of luck he said madam ai not pleased said neither am so we agrees this is one of number of madam poems by langston hughes that can be considered as linked series madam and the rent man http oldpoetry com opoem madam and the census man http oldpoetry com opoem show madam and her madam http oldpoetry com opoem madam and the phone bill http oldpoetry com opoem madam’s past history http oldpoetry com opoem this one is walkn from the collected poems of langston hughes by langston hughes by the estate of langston hughes the header graphic is an illustration from the liberation news service the late by owner provided at no charge for educational purposes\n",
            "poems:\n",
            "poem9\n",
            "good morning daddy ai not you heard the boogie woogie rumble of dream deferred listen closely you will hear their feet beating out and beating out you think it happy beat listen to it closely ai not you heard something underneath like what did say sure happy take it away hey pop re bop mop hughes himself says that the book from which this comes montage of dream deferred should be viewed as complete poem in itself and not collection of short poems by owner provided at no charge for educational purposes\n",
            "['help', 'take']\n",
            "['walk', 'gone']\n",
            "tensor([[0.2962]], device='cuda:0')\n",
            "tensor([[0.3433]], device='cuda:0')\n",
            "verb\n",
            "good morning daddy ai not you heard the boogie woogie rumble of dream deferred listen closely you will hear their feet beating out and beating out you think it happy beat listen to it closely ai not you heard something underneath like what did say sure happy take it away hey pop re bop mop hughes himself says that the book from which this comes montage of dream deferred should be viewed as complete poem in itself and not collection of short poems by owner provided at no charge for educational purposes\n",
            "tensor([[0.3713]], device='cuda:0')\n",
            "verb\n",
            "good morning daddy ai not you heard the boogie woogie rumble of dream deferred listen closely you will hear their feet beating out and beating out you think it happy beat listen to it closely ai not you heard something underneath like what did say sure happy walk it away hey pop re bop mop hughes himself says that the book from which this comes montage of dream deferred should be viewed as complete poem in itself and not collection of short poems by owner provided at no charge for educational purposes\n",
            "new text verbs\n",
            "good morning daddy ai not you heard the boogie woogie rumble of dream deferred listen closely you will hear their feet beating out and beating out you think it happy beat listen to it closely ai not you heard something underneath like what did say sure happy walk it away hey pop re bop mop hughes himself says that the book from which this comes montage of dream deferred should be viewed as complete poem in itself and not collection of short poems by owner provided at no charge for educational purposes\n",
            "inside loop 2\n",
            "great\n",
            "sleep\n",
            "good morning daddy ai not you heard the boogie woogie rumble of dream deferred listen closely you will hear their feet beating out and beating out you think it happy beat listen to it closely ai not you heard something underneath like what did say sure happy walk it away hey pop re bop mop hughes himself says that the book from which this comes montage of dream deferred should be viewed as complete poem in itself and not collection of short poems by owner provided at no charge for educational purposes\n",
            "tensor([[0.3667]], device='cuda:0')\n",
            "adjective\n",
            "good morning daddy ai not you heard the boogie woogie rumble of dream deferred listen closely you will hear their feet beating out and beating out you think it happy beat listen to it closely ai not you heard something underneath like what did say sure happy walk it away hey pop re bop mop hughes himself says that the book from which this comes montage of dream deferred should be viewed as complete poem in itself and not collection of short poems by owner provided at no charge for educational purposes\n",
            "inside loop 2\n",
            "great\n",
            "terrible\n",
            "good morning daddy ai not you heard the boogie woogie rumble of dream deferred listen closely you will hear their feet beating out and beating out you think it happy beat listen to it closely ai not you heard something underneath like what did say sure happy walk it away hey pop re bop mop hughes himself says that the book from which this comes montage of dream deferred should be viewed as complete poem in itself and not collection of short poems by owner provided at no charge for educational purposes\n",
            "tensor([[0.3648]], device='cuda:0')\n",
            "adjective\n",
            "good morning daddy ai not you heard the boogie woogie rumble of dream deferred listen closely you will hear their feet beating out and beating out you think it happy beat listen to it closely ai not you heard something underneath like what did say sure happy walk it away hey pop re bop mop hughes himself says that the book from which this comes montage of dream deferred should be viewed as complete poem in itself and not collection of short poems by owner provided at no charge for educational purposes\n",
            "inside loop 2\n",
            "young\n",
            "sleep\n",
            "good morning daddy ai not you heard the boogie woogie rumble of dream deferred listen closely you will hear their feet beating out and beating out you think it happy beat listen to it closely ai not you heard something underneath like what did say sure happy walk it away hey pop re bop mop hughes himself says that the book from which this comes montage of dream deferred should be viewed as complete poem in itself and not collection of short poems by owner provided at no charge for educational purposes\n",
            "tensor([[0.0781]], device='cuda:0')\n",
            "inside loop 2\n",
            "young\n",
            "terrible\n",
            "good morning daddy ai not you heard the boogie woogie rumble of dream deferred listen closely you will hear their feet beating out and beating out you think it happy beat listen to it closely ai not you heard something underneath like what did say sure happy walk it away hey pop re bop mop hughes himself says that the book from which this comes montage of dream deferred should be viewed as complete poem in itself and not collection of short poems by owner provided at no charge for educational purposes\n",
            "tensor([[0.1842]], device='cuda:0')\n",
            "new text adjectives\n",
            "good morning daddy ai not you heard the boogie woogie rumble of dream deferred listen closely you will hear their feet beating out and beating out you think it happy beat listen to it closely ai not you heard something underneath like what did say sure happy walk it away hey pop re bop mop hughes himself says that the book from which this comes montage of dream deferred should be viewed as complete poem in itself and not collection of short poems by owner provided at no charge for educational purposes\n",
            "poems:\n",
            "poems_array\n",
            "['poem0', 'poem1', 'poem2', 'poem3', 'poem4', 'poem5', 'poem6', 'poem7', 'poem8', 'poem9']\n",
            "['help', 'take']\n",
            "['walk', 'gone']\n",
            "tensor([[0.2962]], device='cuda:0')\n",
            "tensor([[0.3433]], device='cuda:0')\n",
            "verb\n",
            "['poem0', 'poem1', 'poem2', 'poem3', 'poem4', 'poem5', 'poem6', 'poem7', 'poem8', 'poem9']\n",
            "tensor([[0.3713]], device='cuda:0')\n",
            "verb\n",
            "['poem0', 'poem1', 'poem2', 'poem3', 'poem4', 'poem5', 'poem6', 'poem7', 'poem8', 'poem9']\n",
            "new text verbs\n",
            "['poem0', 'poem1', 'poem2', 'poem3', 'poem4', 'poem5', 'poem6', 'poem7', 'poem8', 'poem9']\n",
            "inside loop 2\n",
            "great\n",
            "sleep\n",
            "['poem0', 'poem1', 'poem2', 'poem3', 'poem4', 'poem5', 'poem6', 'poem7', 'poem8', 'poem9']\n",
            "tensor([[0.3667]], device='cuda:0')\n",
            "adjective\n",
            "['poem0', 'poem1', 'poem2', 'poem3', 'poem4', 'poem5', 'poem6', 'poem7', 'poem8', 'poem9']\n",
            "inside loop 2\n",
            "great\n",
            "terrible\n",
            "['poem0', 'poem1', 'poem2', 'poem3', 'poem4', 'poem5', 'poem6', 'poem7', 'poem8', 'poem9']\n",
            "tensor([[0.3648]], device='cuda:0')\n",
            "adjective\n",
            "['poem0', 'poem1', 'poem2', 'poem3', 'poem4', 'poem5', 'poem6', 'poem7', 'poem8', 'poem9']\n",
            "inside loop 2\n",
            "young\n",
            "sleep\n",
            "['poem0', 'poem1', 'poem2', 'poem3', 'poem4', 'poem5', 'poem6', 'poem7', 'poem8', 'poem9']\n",
            "tensor([[0.0781]], device='cuda:0')\n",
            "inside loop 2\n",
            "young\n",
            "terrible\n",
            "['poem0', 'poem1', 'poem2', 'poem3', 'poem4', 'poem5', 'poem6', 'poem7', 'poem8', 'poem9']\n",
            "tensor([[0.1842]], device='cuda:0')\n",
            "new text adjectives\n",
            "['poem0', 'poem1', 'poem2', 'poem3', 'poem4', 'poem5', 'poem6', 'poem7', 'poem8', 'poem9']\n"
          ]
        }
      ]
    },
    {
      "cell_type": "markdown",
      "source": [
        "# Printing the new poems after swapping"
      ],
      "metadata": {
        "id": "Rn6xR_U4a3Vz"
      }
    },
    {
      "cell_type": "code",
      "metadata": {
        "id": "93K-jvkKTMT1",
        "colab": {
          "base_uri": "https://localhost:8080/"
        },
        "outputId": "15757567-d7c5-47b7-8035-1b13b952ec89"
      },
      "source": [
        "langston_hughes_poems_swapped"
      ],
      "execution_count": 46,
      "outputs": [
        {
          "output_type": "execute_result",
          "data": {
            "text/plain": [
              "['well son will tell you life for me ai not been no crystal stair it had tacks in it and splinters and boards torn up and places with no carpet on the floor— bare but all the time se been climbin on and reachin landin and turnin corners and sometimes goin in the dark where there ai not been no light so boy do not you turn back do not you set down on the steps because you finds it kinder hard do not you fall now— for se still goin honey se still climbin and life for me ai not been no crystal stair by owner provided at no charge for educational purposes',\n",
              " 'landlord landlord my roof has sprung leak do not you member told you about it way last week landlord landlord these steps is broken down when you come up yourself it wonder you do not fall down ten bucks you say owe you ten bucks you say is due well that ten bucks more pay you till you fix this house up new what you going to get eviction orders you going to cut off my heat you going to walk my furniture and throw it in the street um huh you talking high and mighty talk on till you get through you ai not going to be able to say word if land my fist on you police police come and get this man he trying to ruin the government and overturn the land copper whistle patrol bell arrest precinct station iron cell headlines in press man threatens landlord tenant held no bail judge gives negro days in county jail from the langston hughes reader this poem by langston hughes grew out of conditions in new york city’s harlem in the ’s in graphic terms it describes the escalation of anger and frustration that tenants experienced trying to get landlords to make basic repairs it is structured like an old time blues song until the final verse where the rhythm changes charley noble by owner provided at no charge for educational purposes',\n",
              " 'too sing america am the darker brother they send me to eat in the kitchen when company comes but laugh and eat well and grow strong tomorrow will be at the table when company comes nobody will dare say to me eat in the kitchen then besides they will see how beautiful am and be ashamed— too am america http www poetryarchive org poetryarchive singlepoem do poemid listen to langston hughes read this poem recorded in by owner provided at no charge for educational purposes',\n",
              " 'it was long time ago have almost forgotten my dream but it was there then in front of me bright like sun— my dream and then the wall rose rose slowly slowly between me and my dream rose until it touched the sky— the wall shadow am black lie down in the shadow no longer the light of my dream before me above me only the thick wall only the shadow my hands my dark hands break through the wall find my dream gone me to shatter this darkness to smash this night to break this shadow into thousand lights of sun into thousand whirling dreams of sun by owner provided at no charge for educational purposes',\n",
              " 'children come back today to tell you story of the long dark way that had to climb that had to know in order that the race might live and grow look at my face dark as the night yet shining like the sun with love true light am the child they stole from the sand three hundred years ago in africa land am the dark girl who crossed the wide sea carrying in my body the seed of the free am the woman who worked in the field bringing the cotton and the corn to yield am the one who labored as slave beaten and mistreated for the work gave children sold away from me husband sold too no safety no love no respect was due three hundred years in the deepest south but god put song and prayer in my mouth god put dream like steel in my soul now through my children reaching the goal now through my children young and free realize the blessings deed to me could not read then could not write had nothing back there in the night sometimes the valley was filled with tears but kept trudging on through the lonely years sometimes the road was hot with the sun but had to keep on till my work was done had to keep on no stopping for me was the seed of the coming free nourished the dream that nothing could smother deep in my breast the negro mother had only hope then but now through you dark ones of today my dreams must come true all you dark children in the world out there remember my sweat my pain my despair remember my years heavy with sorrow and make of those years torch for tomorrow make of my pass road to the light out of the darkness the ignorance the night lift high my banner out of the dust stand like free men supporting my trust believe in the right let none push you back remember the whip and the slaver track remember how the strong in struggle and strife still bar you the way and deny you life but march ever forward breaking down bars look ever upward at the sun and the stars oh my dark children may my dreams and my prayers impel you forever up the sleep stairs for will be with you till no white brother dares keep down the children of the negro mother many on line versions have the alternate line realized the blessing denied to me by owner provided at no charge for educational purposes',\n",
              " 'have known rivers have known rivers ancient as the world and older than the flow of human blood in human veins my soul has grown deep like the rivers bathed in the euphrates when dawns were young built my hut near the congo and it lulled me to sleep looked upon the nile and raised the pyramids above it heard the singing of the mississippi when abe lincoln went down to new orleans and have seen its muddy bosom turn all golden in the sunset have known rivers ancient dusky rivers my soul has grown deep like the rivers http www poetryarchive org poetryarchive singlepoem do poemid recorded in langston hughes recites by owner provided at no charge for educational purposes',\n",
              " 'the negro with the trumpet at his lips has dark moons of weariness beneath his eyes where the smoldering memory of slave ships blazed to the crack of whips about thighs the negro with the trumpet at his lips has head of vibrant hair tamed down patent leathered now until it gleams like jet— were jet crown the music from the trumpet at his lips is honey mixed with liquid fire the rhythm from the trumpet at his lips is ecstasy distilled from old desire— desire that is longing for the moon where the moonlight but spotlight in his eyes desire that is longing for the sea where the sea bar glass sucker size the negro with the trumpet at his lips whose jacket has fine one button roll does not know upon what riff the music slips it hypodermic needle to his soul but softly as the tune comes from his throat trouble mellows to golden note by owner provided at no charge for educational purposes',\n",
              " 'my old man white old manand my old mother black if ever cursed my white old mani walk my curses back if ever cursed my black old motherand wished she were in hell sorry for that evil wishand now wish her wellmy old man died in fine big house my ma died in shack wonder were going to die being neither white nor black by owner provided at no charge for educational purposes',\n",
              " 'the rent man knocked he said how do you do said what can do for you he said you know your rent is due said listen before pay go to hades and rot away the sink is broke the water do not run and you ai not done thing you promised to have done back window cracked kitchen floor squeaks there rats in the cellar and the attic leaks he said madam it not up to me just the agent do not you see said naturally you pass the buck if it money you want you are out of luck he said madam ai not pleased said neither am so we agrees this is one of number of madam poems by langston hughes that can be considered as linked series madam and the rent man http oldpoetry com opoem madam and the census man http oldpoetry com opoem show madam and her madam http oldpoetry com opoem madam and the phone bill http oldpoetry com opoem madam’s past history http oldpoetry com opoem this one is walkn from the collected poems of langston hughes by langston hughes by the estate of langston hughes the header graphic is an illustration from the liberation news service the late by owner provided at no charge for educational purposes',\n",
              " 'good morning daddy ai not you heard the boogie woogie rumble of dream deferred listen closely you will hear their feet beating out and beating out you think it happy beat listen to it closely ai not you heard something underneath like what did say sure happy walk it away hey pop re bop mop hughes himself says that the book from which this comes montage of dream deferred should be viewed as complete poem in itself and not collection of short poems by owner provided at no charge for educational purposes',\n",
              " \"['poem0', 'poem1', 'poem2', 'poem3', 'poem4', 'poem5', 'poem6', 'poem7', 'poem8', 'poem9']\"]"
            ]
          },
          "metadata": {},
          "execution_count": 46
        }
      ]
    },
    {
      "cell_type": "markdown",
      "source": [
        "## TODO: We need to format the poem in a human readable manner"
      ],
      "metadata": {
        "id": "6Tl4MTeJYlAx"
      }
    },
    {
      "cell_type": "markdown",
      "metadata": {
        "id": "Pm27KlV3c0WY"
      },
      "source": [
        " Alfred Tennyson Poems Swapped Verbs  and Adjectives of John Poems\n"
      ]
    },
    {
      "cell_type": "code",
      "metadata": {
        "id": "6VNs3KQ4TzRh",
        "colab": {
          "base_uri": "https://localhost:8080/"
        },
        "outputId": "8991dd78-37f1-4350-8125-56ea5d972315"
      },
      "source": [
        "mary_j_oliver_poems_swapped = []\n",
        "mary_j_oliver_poems_2 = mary_j_oliver_poems.copy()\n",
        "mary_j_oliver_poems_2.pop('poems_array')\n",
        "for i in mary_j_oliver_poems:\n",
        "  print(\"poems:\")\n",
        "  print(i)\n",
        "  # inx = 'poem'+str(i);\n",
        "  poem_str_2 = str(mary_j_oliver_poems[i]);\n",
        "  print(poem_str_2)\n",
        "\n",
        "  mary_j_oliver_poems_swapped.append(swapIteration(langston_hughes_pos, mary_j_oliver_pos, poem_str_2))\n"
      ],
      "execution_count": 47,
      "outputs": [
        {
          "output_type": "stream",
          "name": "stdout",
          "text": [
            "poems:\n",
            "poem0\n",
            "look the trees are turning their own bodies into pillars of light are giving off the rich fragrance of cinnamon and fulfillment the long tapers of cattails are bursting and floating away over the blue shoulders of the ponds and every pond no matter what its name is is nameless now every year everything have ever learned in my lifetime leads back to this the fires and the black river of loss whose other side is salvation whose meaning none of us will ever know to live in this world you must be able to do three things to love what is mortal to hold it against your bones knowing your own life depends on it and when the time comes to let it go to let it go by owner provided at no charge for educational purposes\n",
            "['help', 'take']\n",
            "['walk', 'gone']\n",
            "tensor([[0.2962]], device='cuda:0')\n",
            "tensor([[0.3433]], device='cuda:0')\n",
            "verb\n",
            "look the trees are turning their own bodies into pillars of light are giving off the rich fragrance of cinnamon and fulfillment the long tapers of cattails are bursting and floating away over the blue shoulders of the ponds and every pond no matter what its name is is nameless now every year everything have ever learned in my lifetime leads back to this the fires and the black river of loss whose other side is salvation whose meaning none of us will ever know to live in this world you must be able to do three things to love what is mortal to hold it against your bones knowing your own life depends on it and when the time comes to let it go to let it go by owner provided at no charge for educational purposes\n",
            "tensor([[0.3713]], device='cuda:0')\n",
            "verb\n",
            "look the trees are turning their own bodies into pillars of light are giving off the rich fragrance of cinnamon and fulfillment the long tapers of cattails are bursting and floating away over the blue shoulders of the ponds and every pond no matter what its name is is nameless now every year everything have ever learned in my lifetime leads back to this the fires and the black river of loss whose other side is salvation whose meaning none of us will ever know to live in this world you must be able to do three things to love what is mortal to hold it against your bones knowing your own life depends on it and when the time comes to let it go to let it go by owner provided at no charge for educational purposes\n",
            "new text verbs\n",
            "look the trees are turning their own bodies into pillars of light are giving off the rich fragrance of cinnamon and fulfillment the long tapers of cattails are bursting and floating away over the blue shoulders of the ponds and every pond no matter what its name is is nameless now every year everything have ever learned in my lifetime leads back to this the fires and the black river of loss whose other side is salvation whose meaning none of us will ever know to live in this world you must be able to do three things to love what is mortal to hold it against your bones knowing your own life depends on it and when the time comes to let it go to let it go by owner provided at no charge for educational purposes\n",
            "inside loop 2\n",
            "great\n",
            "sleep\n",
            "look the trees are turning their own bodies into pillars of light are giving off the rich fragrance of cinnamon and fulfillment the long tapers of cattails are bursting and floating away over the blue shoulders of the ponds and every pond no matter what its name is is nameless now every year everything have ever learned in my lifetime leads back to this the fires and the black river of loss whose other side is salvation whose meaning none of us will ever know to live in this world you must be able to do three things to love what is mortal to hold it against your bones knowing your own life depends on it and when the time comes to let it go to let it go by owner provided at no charge for educational purposes\n",
            "tensor([[0.3667]], device='cuda:0')\n",
            "adjective\n",
            "look the trees are turning their own bodies into pillars of light are giving off the rich fragrance of cinnamon and fulfillment the long tapers of cattails are bursting and floating away over the blue shoulders of the ponds and every pond no matter what its name is is nameless now every year everything have ever learned in my lifetime leads back to this the fires and the black river of loss whose other side is salvation whose meaning none of us will ever know to live in this world you must be able to do three things to love what is mortal to hold it against your bones knowing your own life depends on it and when the time comes to let it go to let it go by owner provided at no charge for educational purposes\n",
            "inside loop 2\n",
            "great\n",
            "terrible\n",
            "look the trees are turning their own bodies into pillars of light are giving off the rich fragrance of cinnamon and fulfillment the long tapers of cattails are bursting and floating away over the blue shoulders of the ponds and every pond no matter what its name is is nameless now every year everything have ever learned in my lifetime leads back to this the fires and the black river of loss whose other side is salvation whose meaning none of us will ever know to live in this world you must be able to do three things to love what is mortal to hold it against your bones knowing your own life depends on it and when the time comes to let it go to let it go by owner provided at no charge for educational purposes\n",
            "tensor([[0.3648]], device='cuda:0')\n",
            "adjective\n",
            "look the trees are turning their own bodies into pillars of light are giving off the rich fragrance of cinnamon and fulfillment the long tapers of cattails are bursting and floating away over the blue shoulders of the ponds and every pond no matter what its name is is nameless now every year everything have ever learned in my lifetime leads back to this the fires and the black river of loss whose other side is salvation whose meaning none of us will ever know to live in this world you must be able to do three things to love what is mortal to hold it against your bones knowing your own life depends on it and when the time comes to let it go to let it go by owner provided at no charge for educational purposes\n",
            "inside loop 2\n",
            "young\n",
            "sleep\n",
            "look the trees are turning their own bodies into pillars of light are giving off the rich fragrance of cinnamon and fulfillment the long tapers of cattails are bursting and floating away over the blue shoulders of the ponds and every pond no matter what its name is is nameless now every year everything have ever learned in my lifetime leads back to this the fires and the black river of loss whose other side is salvation whose meaning none of us will ever know to live in this world you must be able to do three things to love what is mortal to hold it against your bones knowing your own life depends on it and when the time comes to let it go to let it go by owner provided at no charge for educational purposes\n",
            "tensor([[0.0781]], device='cuda:0')\n",
            "inside loop 2\n",
            "young\n",
            "terrible\n",
            "look the trees are turning their own bodies into pillars of light are giving off the rich fragrance of cinnamon and fulfillment the long tapers of cattails are bursting and floating away over the blue shoulders of the ponds and every pond no matter what its name is is nameless now every year everything have ever learned in my lifetime leads back to this the fires and the black river of loss whose other side is salvation whose meaning none of us will ever know to live in this world you must be able to do three things to love what is mortal to hold it against your bones knowing your own life depends on it and when the time comes to let it go to let it go by owner provided at no charge for educational purposes\n",
            "tensor([[0.1842]], device='cuda:0')\n",
            "new text adjectives\n",
            "look the trees are turning their own bodies into pillars of light are giving off the rich fragrance of cinnamon and fulfillment the long tapers of cattails are bursting and floating away over the blue shoulders of the ponds and every pond no matter what its name is is nameless now every year everything have ever learned in my lifetime leads back to this the fires and the black river of loss whose other side is salvation whose meaning none of us will ever know to live in this world you must be able to do three things to love what is mortal to hold it against your bones knowing your own life depends on it and when the time comes to let it go to let it go by owner provided at no charge for educational purposes\n",
            "poems:\n",
            "poem1\n",
            "one day you finally knew what you had to do and began though the voices around you kept shouting their bad advice though the whole house began to tremble and you felt the old tug at your ankles mend my life each voice cried but you did not stop you knew what you had to do though the wind pried with its stiff fingers at the very foundations though their melancholy was terrible it was already late enough and wild night and the road full of fallen branches and stones but little by little as you left their voice behind the stars began to burn through the sheets of clouds and there was new voice which you slowly recognized as your own that kept you company as you strode deeper and deeper into the world determined to do the only thing you could do determined to save the only life that you could save by owner provided at no charge for educational purposes\n",
            "['help', 'take']\n",
            "['walk', 'gone']\n",
            "tensor([[0.2962]], device='cuda:0')\n",
            "tensor([[0.3433]], device='cuda:0')\n",
            "verb\n",
            "one day you finally knew what you had to do and began though the voices around you kept shouting their bad advice though the whole house began to tremble and you felt the old tug at your ankles mend my life each voice cried but you did not stop you knew what you had to do though the wind pried with its stiff fingers at the very foundations though their melancholy was terrible it was already late enough and wild night and the road full of fallen branches and stones but little by little as you left their voice behind the stars began to burn through the sheets of clouds and there was new voice which you slowly recognized as your own that kept you company as you strode deeper and deeper into the world determined to do the only thing you could do determined to save the only life that you could save by owner provided at no charge for educational purposes\n",
            "tensor([[0.3713]], device='cuda:0')\n",
            "verb\n",
            "one day you finally knew what you had to do and began though the voices around you kept shouting their bad advice though the whole house began to tremble and you felt the old tug at your ankles mend my life each voice cried but you did not stop you knew what you had to do though the wind pried with its stiff fingers at the very foundations though their melancholy was terrible it was already late enough and wild night and the road full of fallen branches and stones but little by little as you left their voice behind the stars began to burn through the sheets of clouds and there was new voice which you slowly recognized as your own that kept you company as you strode deeper and deeper into the world determined to do the only thing you could do determined to save the only life that you could save by owner provided at no charge for educational purposes\n",
            "new text verbs\n",
            "one day you finally knew what you had to do and began though the voices around you kept shouting their bad advice though the whole house began to tremble and you felt the old tug at your ankles mend my life each voice cried but you did not stop you knew what you had to do though the wind pried with its stiff fingers at the very foundations though their melancholy was terrible it was already late enough and wild night and the road full of fallen branches and stones but little by little as you left their voice behind the stars began to burn through the sheets of clouds and there was new voice which you slowly recognized as your own that kept you company as you strode deeper and deeper into the world determined to do the only thing you could do determined to save the only life that you could save by owner provided at no charge for educational purposes\n",
            "inside loop 2\n",
            "great\n",
            "sleep\n",
            "one day you finally knew what you had to do and began though the voices around you kept shouting their bad advice though the whole house began to tremble and you felt the old tug at your ankles mend my life each voice cried but you did not stop you knew what you had to do though the wind pried with its stiff fingers at the very foundations though their melancholy was terrible it was already late enough and wild night and the road full of fallen branches and stones but little by little as you left their voice behind the stars began to burn through the sheets of clouds and there was new voice which you slowly recognized as your own that kept you company as you strode deeper and deeper into the world determined to do the only thing you could do determined to save the only life that you could save by owner provided at no charge for educational purposes\n",
            "tensor([[0.3667]], device='cuda:0')\n",
            "adjective\n",
            "one day you finally knew what you had to do and began though the voices around you kept shouting their bad advice though the whole house began to tremble and you felt the old tug at your ankles mend my life each voice cried but you did not stop you knew what you had to do though the wind pried with its stiff fingers at the very foundations though their melancholy was terrible it was already late enough and wild night and the road full of fallen branches and stones but little by little as you left their voice behind the stars began to burn through the sheets of clouds and there was new voice which you slowly recognized as your own that kept you company as you strode deeper and deeper into the world determined to do the only thing you could do determined to save the only life that you could save by owner provided at no charge for educational purposes\n",
            "inside loop 2\n",
            "great\n",
            "terrible\n",
            "one day you finally knew what you had to do and began though the voices around you kept shouting their bad advice though the whole house began to tremble and you felt the old tug at your ankles mend my life each voice cried but you did not stop you knew what you had to do though the wind pried with its stiff fingers at the very foundations though their melancholy was terrible it was already late enough and wild night and the road full of fallen branches and stones but little by little as you left their voice behind the stars began to burn through the sheets of clouds and there was new voice which you slowly recognized as your own that kept you company as you strode deeper and deeper into the world determined to do the only thing you could do determined to save the only life that you could save by owner provided at no charge for educational purposes\n",
            "tensor([[0.3648]], device='cuda:0')\n",
            "adjective\n",
            "one day you finally knew what you had to do and began though the voices around you kept shouting their bad advice though the whole house began to tremble and you felt the old tug at your ankles mend my life each voice cried but you did not stop you knew what you had to do though the wind pried with its stiff fingers at the very foundations though their melancholy was terrible it was already late enough and wild night and the road full of fallen branches and stones but little by little as you left their voice behind the stars began to burn through the sheets of clouds and there was new voice which you slowly recognized as your own that kept you company as you strode deeper and deeper into the world determined to do the only thing you could do determined to save the only life that you could save by owner provided at no charge for educational purposes\n",
            "inside loop 2\n",
            "young\n",
            "sleep\n",
            "one day you finally knew what you had to do and began though the voices around you kept shouting their bad advice though the whole house began to tremble and you felt the old tug at your ankles mend my life each voice cried but you did not stop you knew what you had to do though the wind pried with its stiff fingers at the very foundations though their melancholy was terrible it was already late enough and wild night and the road full of fallen branches and stones but little by little as you left their voice behind the stars began to burn through the sheets of clouds and there was new voice which you slowly recognized as your own that kept you company as you strode deeper and deeper into the world determined to do the only thing you could do determined to save the only life that you could save by owner provided at no charge for educational purposes\n",
            "tensor([[0.0781]], device='cuda:0')\n",
            "inside loop 2\n",
            "young\n",
            "terrible\n",
            "one day you finally knew what you had to do and began though the voices around you kept shouting their bad advice though the whole house began to tremble and you felt the old tug at your ankles mend my life each voice cried but you did not stop you knew what you had to do though the wind pried with its stiff fingers at the very foundations though their melancholy was terrible it was already late enough and wild night and the road full of fallen branches and stones but little by little as you left their voice behind the stars began to burn through the sheets of clouds and there was new voice which you slowly recognized as your own that kept you company as you strode deeper and deeper into the world determined to do the only thing you could do determined to save the only life that you could save by owner provided at no charge for educational purposes\n",
            "tensor([[0.1842]], device='cuda:0')\n",
            "new text adjectives\n",
            "one day you finally knew what you had to do and began though the voices around you kept shouting their bad advice though the whole house began to tremble and you felt the old tug at your ankles mend my life each voice cried but you did not stop you knew what you had to do though the wind pried with its stiff fingers at the very foundations though their melancholy was terrible it was already late enough and wild night and the road full of fallen branches and stones but little by little as you left their voice behind the stars began to burn through the sheets of clouds and there was new voice which you slowly recognized as your own that kept you company as you strode deeper and deeper into the world determined to do the only thing you could do determined to save the only life that you could save by owner provided at no charge for educational purposes\n",
            "poems:\n",
            "poem2\n",
            "you do not have to be good you do not have to walk on your knees for hundred miles through the desert repenting you only have to let the soft animal of your body love what it loves tell me about despair yours and will tell you mine meanwhile the world goes on meanwhile the sun and the clear pebbles of the rain are moving across the landscapes over the prairies and the deep trees the mountains and the rivers meanwhile the wild geese high in the clean blue air are heading home again whoever you are no matter how lonely the world offers itself to your imagination calls to you like the wild geese harsh and exciting over and over announcing your place in the family of things by owner provided at no charge for educational purposes\n",
            "['help', 'take']\n",
            "['walk', 'gone']\n",
            "tensor([[0.2962]], device='cuda:0')\n",
            "tensor([[0.3433]], device='cuda:0')\n",
            "verb\n",
            "you do not have to be good you do not have to walk on your knees for hundred miles through the desert repenting you only have to let the soft animal of your body love what it loves tell me about despair yours and will tell you mine meanwhile the world goes on meanwhile the sun and the clear pebbles of the rain are moving across the landscapes over the prairies and the deep trees the mountains and the rivers meanwhile the wild geese high in the clean blue air are heading home again whoever you are no matter how lonely the world offers itself to your imagination calls to you like the wild geese harsh and exciting over and over announcing your place in the family of things by owner provided at no charge for educational purposes\n",
            "tensor([[0.3713]], device='cuda:0')\n",
            "verb\n",
            "you do not have to be good you do not have to walk on your knees for hundred miles through the desert repenting you only have to let the soft animal of your body love what it loves tell me about despair yours and will tell you mine meanwhile the world goes on meanwhile the sun and the clear pebbles of the rain are moving across the landscapes over the prairies and the deep trees the mountains and the rivers meanwhile the wild geese high in the clean blue air are heading home again whoever you are no matter how lonely the world offers itself to your imagination calls to you like the wild geese harsh and exciting over and over announcing your place in the family of things by owner provided at no charge for educational purposes\n",
            "new text verbs\n",
            "you do not have to be good you do not have to walk on your knees for hundred miles through the desert repenting you only have to let the soft animal of your body love what it loves tell me about despair yours and will tell you mine meanwhile the world goes on meanwhile the sun and the clear pebbles of the rain are moving across the landscapes over the prairies and the deep trees the mountains and the rivers meanwhile the wild geese high in the clean blue air are heading home again whoever you are no matter how lonely the world offers itself to your imagination calls to you like the wild geese harsh and exciting over and over announcing your place in the family of things by owner provided at no charge for educational purposes\n",
            "inside loop 2\n",
            "great\n",
            "sleep\n",
            "you do not have to be good you do not have to walk on your knees for hundred miles through the desert repenting you only have to let the soft animal of your body love what it loves tell me about despair yours and will tell you mine meanwhile the world goes on meanwhile the sun and the clear pebbles of the rain are moving across the landscapes over the prairies and the deep trees the mountains and the rivers meanwhile the wild geese high in the clean blue air are heading home again whoever you are no matter how lonely the world offers itself to your imagination calls to you like the wild geese harsh and exciting over and over announcing your place in the family of things by owner provided at no charge for educational purposes\n",
            "tensor([[0.3667]], device='cuda:0')\n",
            "adjective\n",
            "you do not have to be good you do not have to walk on your knees for hundred miles through the desert repenting you only have to let the soft animal of your body love what it loves tell me about despair yours and will tell you mine meanwhile the world goes on meanwhile the sun and the clear pebbles of the rain are moving across the landscapes over the prairies and the deep trees the mountains and the rivers meanwhile the wild geese high in the clean blue air are heading home again whoever you are no matter how lonely the world offers itself to your imagination calls to you like the wild geese harsh and exciting over and over announcing your place in the family of things by owner provided at no charge for educational purposes\n",
            "inside loop 2\n",
            "great\n",
            "terrible\n",
            "you do not have to be good you do not have to walk on your knees for hundred miles through the desert repenting you only have to let the soft animal of your body love what it loves tell me about despair yours and will tell you mine meanwhile the world goes on meanwhile the sun and the clear pebbles of the rain are moving across the landscapes over the prairies and the deep trees the mountains and the rivers meanwhile the wild geese high in the clean blue air are heading home again whoever you are no matter how lonely the world offers itself to your imagination calls to you like the wild geese harsh and exciting over and over announcing your place in the family of things by owner provided at no charge for educational purposes\n",
            "tensor([[0.3648]], device='cuda:0')\n",
            "adjective\n",
            "you do not have to be good you do not have to walk on your knees for hundred miles through the desert repenting you only have to let the soft animal of your body love what it loves tell me about despair yours and will tell you mine meanwhile the world goes on meanwhile the sun and the clear pebbles of the rain are moving across the landscapes over the prairies and the deep trees the mountains and the rivers meanwhile the wild geese high in the clean blue air are heading home again whoever you are no matter how lonely the world offers itself to your imagination calls to you like the wild geese harsh and exciting over and over announcing your place in the family of things by owner provided at no charge for educational purposes\n",
            "inside loop 2\n",
            "young\n",
            "sleep\n",
            "you do not have to be good you do not have to walk on your knees for hundred miles through the desert repenting you only have to let the soft animal of your body love what it loves tell me about despair yours and will tell you mine meanwhile the world goes on meanwhile the sun and the clear pebbles of the rain are moving across the landscapes over the prairies and the deep trees the mountains and the rivers meanwhile the wild geese high in the clean blue air are heading home again whoever you are no matter how lonely the world offers itself to your imagination calls to you like the wild geese harsh and exciting over and over announcing your place in the family of things by owner provided at no charge for educational purposes\n",
            "tensor([[0.0781]], device='cuda:0')\n",
            "inside loop 2\n",
            "young\n",
            "terrible\n",
            "you do not have to be good you do not have to walk on your knees for hundred miles through the desert repenting you only have to let the soft animal of your body love what it loves tell me about despair yours and will tell you mine meanwhile the world goes on meanwhile the sun and the clear pebbles of the rain are moving across the landscapes over the prairies and the deep trees the mountains and the rivers meanwhile the wild geese high in the clean blue air are heading home again whoever you are no matter how lonely the world offers itself to your imagination calls to you like the wild geese harsh and exciting over and over announcing your place in the family of things by owner provided at no charge for educational purposes\n",
            "tensor([[0.1842]], device='cuda:0')\n",
            "new text adjectives\n",
            "you do not have to be good you do not have to walk on your knees for hundred miles through the desert repenting you only have to let the soft animal of your body love what it loves tell me about despair yours and will tell you mine meanwhile the world goes on meanwhile the sun and the clear pebbles of the rain are moving across the landscapes over the prairies and the deep trees the mountains and the rivers meanwhile the wild geese high in the clean blue air are heading home again whoever you are no matter how lonely the world offers itself to your imagination calls to you like the wild geese harsh and exciting over and over announcing your place in the family of things by owner provided at no charge for educational purposes\n",
            "poems:\n",
            "poem3\n",
            "how necessary it is to have opinions think the spotted trout lilies are satisfied standing few inches above the earth think serenity is not something you just find in the world like plum tree holding up its white petals the violets along the river are opening their blue faces like small dark lanterns the green mosses being so many are as good as brawny how important it is to walk along not in haste but slowly looking at everything and calling out yes no the swan for all his pomp his robes of grass and petals wants only to be allowed to live on the nameless pond the catbrier is without fault the water thrushes down among the sloppy rocks are going crazy with happiness imagination is better than sharp instrument to pay attention this is our endless and proper work by owner provided at no charge for educational purposes\n",
            "['help', 'take']\n",
            "['walk', 'gone']\n",
            "tensor([[0.2962]], device='cuda:0')\n",
            "tensor([[0.3433]], device='cuda:0')\n",
            "verb\n",
            "how necessary it is to have opinions think the spotted trout lilies are satisfied standing few inches above the earth think serenity is not something you just find in the world like plum tree holding up its white petals the violets along the river are opening their blue faces like small dark lanterns the green mosses being so many are as good as brawny how important it is to walk along not in haste but slowly looking at everything and calling out yes no the swan for all his pomp his robes of grass and petals wants only to be allowed to live on the nameless pond the catbrier is without fault the water thrushes down among the sloppy rocks are going crazy with happiness imagination is better than sharp instrument to pay attention this is our endless and proper work by owner provided at no charge for educational purposes\n",
            "tensor([[0.3713]], device='cuda:0')\n",
            "verb\n",
            "how necessary it is to have opinions think the spotted trout lilies are satisfied standing few inches above the earth think serenity is not something you just find in the world like plum tree holding up its white petals the violets along the river are opening their blue faces like small dark lanterns the green mosses being so many are as good as brawny how important it is to walk along not in haste but slowly looking at everything and calling out yes no the swan for all his pomp his robes of grass and petals wants only to be allowed to live on the nameless pond the catbrier is without fault the water thrushes down among the sloppy rocks are going crazy with happiness imagination is better than sharp instrument to pay attention this is our endless and proper work by owner provided at no charge for educational purposes\n",
            "new text verbs\n",
            "how necessary it is to have opinions think the spotted trout lilies are satisfied standing few inches above the earth think serenity is not something you just find in the world like plum tree holding up its white petals the violets along the river are opening their blue faces like small dark lanterns the green mosses being so many are as good as brawny how important it is to walk along not in haste but slowly looking at everything and calling out yes no the swan for all his pomp his robes of grass and petals wants only to be allowed to live on the nameless pond the catbrier is without fault the water thrushes down among the sloppy rocks are going crazy with happiness imagination is better than sharp instrument to pay attention this is our endless and proper work by owner provided at no charge for educational purposes\n",
            "inside loop 2\n",
            "great\n",
            "sleep\n",
            "how necessary it is to have opinions think the spotted trout lilies are satisfied standing few inches above the earth think serenity is not something you just find in the world like plum tree holding up its white petals the violets along the river are opening their blue faces like small dark lanterns the green mosses being so many are as good as brawny how important it is to walk along not in haste but slowly looking at everything and calling out yes no the swan for all his pomp his robes of grass and petals wants only to be allowed to live on the nameless pond the catbrier is without fault the water thrushes down among the sloppy rocks are going crazy with happiness imagination is better than sharp instrument to pay attention this is our endless and proper work by owner provided at no charge for educational purposes\n",
            "tensor([[0.3667]], device='cuda:0')\n",
            "adjective\n",
            "how necessary it is to have opinions think the spotted trout lilies are satisfied standing few inches above the earth think serenity is not something you just find in the world like plum tree holding up its white petals the violets along the river are opening their blue faces like small dark lanterns the green mosses being so many are as good as brawny how important it is to walk along not in haste but slowly looking at everything and calling out yes no the swan for all his pomp his robes of grass and petals wants only to be allowed to live on the nameless pond the catbrier is without fault the water thrushes down among the sloppy rocks are going crazy with happiness imagination is better than sharp instrument to pay attention this is our endless and proper work by owner provided at no charge for educational purposes\n",
            "inside loop 2\n",
            "great\n",
            "terrible\n",
            "how necessary it is to have opinions think the spotted trout lilies are satisfied standing few inches above the earth think serenity is not something you just find in the world like plum tree holding up its white petals the violets along the river are opening their blue faces like small dark lanterns the green mosses being so many are as good as brawny how important it is to walk along not in haste but slowly looking at everything and calling out yes no the swan for all his pomp his robes of grass and petals wants only to be allowed to live on the nameless pond the catbrier is without fault the water thrushes down among the sloppy rocks are going crazy with happiness imagination is better than sharp instrument to pay attention this is our endless and proper work by owner provided at no charge for educational purposes\n",
            "tensor([[0.3648]], device='cuda:0')\n",
            "adjective\n",
            "how necessary it is to have opinions think the spotted trout lilies are satisfied standing few inches above the earth think serenity is not something you just find in the world like plum tree holding up its white petals the violets along the river are opening their blue faces like small dark lanterns the green mosses being so many are as good as brawny how important it is to walk along not in haste but slowly looking at everything and calling out yes no the swan for all his pomp his robes of grass and petals wants only to be allowed to live on the nameless pond the catbrier is without fault the water thrushes down among the sloppy rocks are going crazy with happiness imagination is better than sharp instrument to pay attention this is our endless and proper work by owner provided at no charge for educational purposes\n",
            "inside loop 2\n",
            "young\n",
            "sleep\n",
            "how necessary it is to have opinions think the spotted trout lilies are satisfied standing few inches above the earth think serenity is not something you just find in the world like plum tree holding up its white petals the violets along the river are opening their blue faces like small dark lanterns the green mosses being so many are as good as brawny how important it is to walk along not in haste but slowly looking at everything and calling out yes no the swan for all his pomp his robes of grass and petals wants only to be allowed to live on the nameless pond the catbrier is without fault the water thrushes down among the sloppy rocks are going crazy with happiness imagination is better than sharp instrument to pay attention this is our endless and proper work by owner provided at no charge for educational purposes\n",
            "tensor([[0.0781]], device='cuda:0')\n",
            "inside loop 2\n",
            "young\n",
            "terrible\n",
            "how necessary it is to have opinions think the spotted trout lilies are satisfied standing few inches above the earth think serenity is not something you just find in the world like plum tree holding up its white petals the violets along the river are opening their blue faces like small dark lanterns the green mosses being so many are as good as brawny how important it is to walk along not in haste but slowly looking at everything and calling out yes no the swan for all his pomp his robes of grass and petals wants only to be allowed to live on the nameless pond the catbrier is without fault the water thrushes down among the sloppy rocks are going crazy with happiness imagination is better than sharp instrument to pay attention this is our endless and proper work by owner provided at no charge for educational purposes\n",
            "tensor([[0.1842]], device='cuda:0')\n",
            "new text adjectives\n",
            "how necessary it is to have opinions think the spotted trout lilies are satisfied standing few inches above the earth think serenity is not something you just find in the world like plum tree holding up its white petals the violets along the river are opening their blue faces like small dark lanterns the green mosses being so many are as good as brawny how important it is to walk along not in haste but slowly looking at everything and calling out yes no the swan for all his pomp his robes of grass and petals wants only to be allowed to live on the nameless pond the catbrier is without fault the water thrushes down among the sloppy rocks are going crazy with happiness imagination is better than sharp instrument to pay attention this is our endless and proper work by owner provided at no charge for educational purposes\n",
            "poems:\n",
            "poem4\n",
            "in the afternoon watched the she bear she was looking for the secret bin of sweetness honey that the bees store in the trees’ soft caves black block of gloom she climbed down tree after tree and shuffled on through the woods and then she found it the honey house deep as heartwood and dipped into it among the swarming bees honey and comb she lipped and tongued and scooped out in her black nails until maybe she grew full or sleepy or maybe little drunk and sticky down the rugs of her arms and began to hum and sway saw her let go of the branches saw her lift her honeyed muzzle into the leaves and her thick arms as though she would fly an enormous bee all sweetness and wings down into the meadows the perfections of honeysuckle and roses and clover to float and sleep in the sheer nets swaying from flower to flower day after shining day by owner provided at no charge for educational purposes\n",
            "['help', 'take']\n",
            "['walk', 'gone']\n",
            "tensor([[0.2962]], device='cuda:0')\n",
            "tensor([[0.3433]], device='cuda:0')\n",
            "verb\n",
            "in the afternoon watched the she bear she was looking for the secret bin of sweetness honey that the bees store in the trees’ soft caves black block of gloom she climbed down tree after tree and shuffled on through the woods and then she found it the honey house deep as heartwood and dipped into it among the swarming bees honey and comb she lipped and tongued and scooped out in her black nails until maybe she grew full or sleepy or maybe little drunk and sticky down the rugs of her arms and began to hum and sway saw her let go of the branches saw her lift her honeyed muzzle into the leaves and her thick arms as though she would fly an enormous bee all sweetness and wings down into the meadows the perfections of honeysuckle and roses and clover to float and sleep in the sheer nets swaying from flower to flower day after shining day by owner provided at no charge for educational purposes\n",
            "tensor([[0.3713]], device='cuda:0')\n",
            "verb\n",
            "in the afternoon watched the she bear she was looking for the secret bin of sweetness honey that the bees store in the trees’ soft caves black block of gloom she climbed down tree after tree and shuffled on through the woods and then she found it the honey house deep as heartwood and dipped into it among the swarming bees honey and comb she lipped and tongued and scooped out in her black nails until maybe she grew full or sleepy or maybe little drunk and sticky down the rugs of her arms and began to hum and sway saw her let go of the branches saw her lift her honeyed muzzle into the leaves and her thick arms as though she would fly an enormous bee all sweetness and wings down into the meadows the perfections of honeysuckle and roses and clover to float and sleep in the sheer nets swaying from flower to flower day after shining day by owner provided at no charge for educational purposes\n",
            "new text verbs\n",
            "in the afternoon watched the she bear she was looking for the secret bin of sweetness honey that the bees store in the trees’ soft caves black block of gloom she climbed down tree after tree and shuffled on through the woods and then she found it the honey house deep as heartwood and dipped into it among the swarming bees honey and comb she lipped and tongued and scooped out in her black nails until maybe she grew full or sleepy or maybe little drunk and sticky down the rugs of her arms and began to hum and sway saw her let go of the branches saw her lift her honeyed muzzle into the leaves and her thick arms as though she would fly an enormous bee all sweetness and wings down into the meadows the perfections of honeysuckle and roses and clover to float and sleep in the sheer nets swaying from flower to flower day after shining day by owner provided at no charge for educational purposes\n",
            "inside loop 2\n",
            "great\n",
            "sleep\n",
            "in the afternoon watched the she bear she was looking for the secret bin of sweetness honey that the bees store in the trees’ soft caves black block of gloom she climbed down tree after tree and shuffled on through the woods and then she found it the honey house deep as heartwood and dipped into it among the swarming bees honey and comb she lipped and tongued and scooped out in her black nails until maybe she grew full or sleepy or maybe little drunk and sticky down the rugs of her arms and began to hum and sway saw her let go of the branches saw her lift her honeyed muzzle into the leaves and her thick arms as though she would fly an enormous bee all sweetness and wings down into the meadows the perfections of honeysuckle and roses and clover to float and sleep in the sheer nets swaying from flower to flower day after shining day by owner provided at no charge for educational purposes\n",
            "tensor([[0.3667]], device='cuda:0')\n",
            "adjective\n",
            "in the afternoon watched the she bear she was looking for the secret bin of sweetness honey that the bees store in the trees’ soft caves black block of gloom she climbed down tree after tree and shuffled on through the woods and then she found it the honey house deep as heartwood and dipped into it among the swarming bees honey and comb she lipped and tongued and scooped out in her black nails until maybe she grew full or sleepy or maybe little drunk and sticky down the rugs of her arms and began to hum and sway saw her let go of the branches saw her lift her honeyed muzzle into the leaves and her thick arms as though she would fly an enormous bee all sweetness and wings down into the meadows the perfections of honeysuckle and roses and clover to float and sleep in the sheer nets swaying from flower to flower day after shining day by owner provided at no charge for educational purposes\n",
            "inside loop 2\n",
            "great\n",
            "terrible\n",
            "in the afternoon watched the she bear she was looking for the secret bin of sweetness honey that the bees store in the trees’ soft caves black block of gloom she climbed down tree after tree and shuffled on through the woods and then she found it the honey house deep as heartwood and dipped into it among the swarming bees honey and comb she lipped and tongued and scooped out in her black nails until maybe she grew full or sleepy or maybe little drunk and sticky down the rugs of her arms and began to hum and sway saw her let go of the branches saw her lift her honeyed muzzle into the leaves and her thick arms as though she would fly an enormous bee all sweetness and wings down into the meadows the perfections of honeysuckle and roses and clover to float and sleep in the sheer nets swaying from flower to flower day after shining day by owner provided at no charge for educational purposes\n",
            "tensor([[0.3648]], device='cuda:0')\n",
            "adjective\n",
            "in the afternoon watched the she bear she was looking for the secret bin of sweetness honey that the bees store in the trees’ soft caves black block of gloom she climbed down tree after tree and shuffled on through the woods and then she found it the honey house deep as heartwood and dipped into it among the swarming bees honey and comb she lipped and tongued and scooped out in her black nails until maybe she grew full or sleepy or maybe little drunk and sticky down the rugs of her arms and began to hum and sway saw her let go of the branches saw her lift her honeyed muzzle into the leaves and her thick arms as though she would fly an enormous bee all sweetness and wings down into the meadows the perfections of honeysuckle and roses and clover to float and sleep in the sheer nets swaying from flower to flower day after shining day by owner provided at no charge for educational purposes\n",
            "inside loop 2\n",
            "young\n",
            "sleep\n",
            "in the afternoon watched the she bear she was looking for the secret bin of sweetness honey that the bees store in the trees’ soft caves black block of gloom she climbed down tree after tree and shuffled on through the woods and then she found it the honey house deep as heartwood and dipped into it among the swarming bees honey and comb she lipped and tongued and scooped out in her black nails until maybe she grew full or sleepy or maybe little drunk and sticky down the rugs of her arms and began to hum and sway saw her let go of the branches saw her lift her honeyed muzzle into the leaves and her thick arms as though she would fly an enormous bee all sweetness and wings down into the meadows the perfections of honeysuckle and roses and clover to float and sleep in the sheer nets swaying from flower to flower day after shining day by owner provided at no charge for educational purposes\n",
            "tensor([[0.0781]], device='cuda:0')\n",
            "inside loop 2\n",
            "young\n",
            "terrible\n",
            "in the afternoon watched the she bear she was looking for the secret bin of sweetness honey that the bees store in the trees’ soft caves black block of gloom she climbed down tree after tree and shuffled on through the woods and then she found it the honey house deep as heartwood and dipped into it among the swarming bees honey and comb she lipped and tongued and scooped out in her black nails until maybe she grew full or sleepy or maybe little drunk and sticky down the rugs of her arms and began to hum and sway saw her let go of the branches saw her lift her honeyed muzzle into the leaves and her thick arms as though she would fly an enormous bee all sweetness and wings down into the meadows the perfections of honeysuckle and roses and clover to float and sleep in the sheer nets swaying from flower to flower day after shining day by owner provided at no charge for educational purposes\n",
            "tensor([[0.1842]], device='cuda:0')\n",
            "new text adjectives\n",
            "in the afternoon watched the she bear she was looking for the secret bin of sweetness honey that the bees store in the trees’ soft caves black block of gloom she climbed down tree after tree and shuffled on through the woods and then she found it the honey house deep as heartwood and dipped into it among the swarming bees honey and comb she lipped and tongued and scooped out in her black nails until maybe she grew full or sleepy or maybe little drunk and sticky down the rugs of her arms and began to hum and sway saw her let go of the branches saw her lift her honeyed muzzle into the leaves and her thick arms as though she would fly an enormous bee all sweetness and wings down into the meadows the perfections of honeysuckle and roses and clover to float and sleep in the sheer nets swaying from flower to flower day after shining day by owner provided at no charge for educational purposes\n",
            "poems:\n",
            "poem5\n",
            "next time what do is look at the earth before saying anything stop just before going into house and be an emperor for minute and listen better to the wind or to the air being still when anyone talked to me whether blame or praise or just passing time watch the face how the mouth has to work and see any strain any sign of what lifted the voice and for all know more the earth bracing itself and soaring the air finding every leaf and feather over forest and water and for every person the body glowing inside the clothes like light by owner provided at no charge for educational purposes\n",
            "['help', 'take']\n",
            "['walk', 'gone']\n",
            "tensor([[0.2962]], device='cuda:0')\n",
            "tensor([[0.3433]], device='cuda:0')\n",
            "verb\n",
            "next time what do is look at the earth before saying anything stop just before going into house and be an emperor for minute and listen better to the wind or to the air being still when anyone talked to me whether blame or praise or just passing time watch the face how the mouth has to work and see any strain any sign of what lifted the voice and for all know more the earth bracing itself and soaring the air finding every leaf and feather over forest and water and for every person the body glowing inside the clothes like light by owner provided at no charge for educational purposes\n",
            "tensor([[0.3713]], device='cuda:0')\n",
            "verb\n",
            "next time what do is look at the earth before saying anything stop just before going into house and be an emperor for minute and listen better to the wind or to the air being still when anyone talked to me whether blame or praise or just passing time watch the face how the mouth has to work and see any strain any sign of what lifted the voice and for all know more the earth bracing itself and soaring the air finding every leaf and feather over forest and water and for every person the body glowing inside the clothes like light by owner provided at no charge for educational purposes\n",
            "new text verbs\n",
            "next time what do is look at the earth before saying anything stop just before going into house and be an emperor for minute and listen better to the wind or to the air being still when anyone talked to me whether blame or praise or just passing time watch the face how the mouth has to work and see any strain any sign of what lifted the voice and for all know more the earth bracing itself and soaring the air finding every leaf and feather over forest and water and for every person the body glowing inside the clothes like light by owner provided at no charge for educational purposes\n",
            "inside loop 2\n",
            "great\n",
            "sleep\n",
            "next time what do is look at the earth before saying anything stop just before going into house and be an emperor for minute and listen better to the wind or to the air being still when anyone talked to me whether blame or praise or just passing time watch the face how the mouth has to work and see any strain any sign of what lifted the voice and for all know more the earth bracing itself and soaring the air finding every leaf and feather over forest and water and for every person the body glowing inside the clothes like light by owner provided at no charge for educational purposes\n",
            "tensor([[0.3667]], device='cuda:0')\n",
            "adjective\n",
            "next time what do is look at the earth before saying anything stop just before going into house and be an emperor for minute and listen better to the wind or to the air being still when anyone talked to me whether blame or praise or just passing time watch the face how the mouth has to work and see any strain any sign of what lifted the voice and for all know more the earth bracing itself and soaring the air finding every leaf and feather over forest and water and for every person the body glowing inside the clothes like light by owner provided at no charge for educational purposes\n",
            "inside loop 2\n",
            "great\n",
            "terrible\n",
            "next time what do is look at the earth before saying anything stop just before going into house and be an emperor for minute and listen better to the wind or to the air being still when anyone talked to me whether blame or praise or just passing time watch the face how the mouth has to work and see any strain any sign of what lifted the voice and for all know more the earth bracing itself and soaring the air finding every leaf and feather over forest and water and for every person the body glowing inside the clothes like light by owner provided at no charge for educational purposes\n",
            "tensor([[0.3648]], device='cuda:0')\n",
            "adjective\n",
            "next time what do is look at the earth before saying anything stop just before going into house and be an emperor for minute and listen better to the wind or to the air being still when anyone talked to me whether blame or praise or just passing time watch the face how the mouth has to work and see any strain any sign of what lifted the voice and for all know more the earth bracing itself and soaring the air finding every leaf and feather over forest and water and for every person the body glowing inside the clothes like light by owner provided at no charge for educational purposes\n",
            "inside loop 2\n",
            "young\n",
            "sleep\n",
            "next time what do is look at the earth before saying anything stop just before going into house and be an emperor for minute and listen better to the wind or to the air being still when anyone talked to me whether blame or praise or just passing time watch the face how the mouth has to work and see any strain any sign of what lifted the voice and for all know more the earth bracing itself and soaring the air finding every leaf and feather over forest and water and for every person the body glowing inside the clothes like light by owner provided at no charge for educational purposes\n",
            "tensor([[0.0781]], device='cuda:0')\n",
            "inside loop 2\n",
            "young\n",
            "terrible\n",
            "next time what do is look at the earth before saying anything stop just before going into house and be an emperor for minute and listen better to the wind or to the air being still when anyone talked to me whether blame or praise or just passing time watch the face how the mouth has to work and see any strain any sign of what lifted the voice and for all know more the earth bracing itself and soaring the air finding every leaf and feather over forest and water and for every person the body glowing inside the clothes like light by owner provided at no charge for educational purposes\n",
            "tensor([[0.1842]], device='cuda:0')\n",
            "new text adjectives\n",
            "next time what do is look at the earth before saying anything stop just before going into house and be an emperor for minute and listen better to the wind or to the air being still when anyone talked to me whether blame or praise or just passing time watch the face how the mouth has to work and see any strain any sign of what lifted the voice and for all know more the earth bracing itself and soaring the air finding every leaf and feather over forest and water and for every person the body glowing inside the clothes like light by owner provided at no charge for educational purposes\n",
            "poems:\n",
            "poem6\n",
            "who made the world who made the swan and the black bear who made the grasshopper this grasshopper mean the one who has flung herself out of the grass the one who is eating sugar out of my hand who is moving her jaws back and forth instead of up and down who is gazing around with her enormous and complicated eyes now she lifts her pale forearms and thoroughly washes her face now she snaps her wings open and floats away do not know exactly what prayer is do know how to pay attention how to fall down into the grass how to kneel in the grass how to be idle and blessed how to stroll through the fields which is what have been doing all day tell me what else should have done does not everything die at last and too soon tell me what is it you plan to do with your one wild and precious life by owner provided at no charge for educational purposes\n",
            "['help', 'take']\n",
            "['walk', 'gone']\n",
            "tensor([[0.2962]], device='cuda:0')\n",
            "tensor([[0.3433]], device='cuda:0')\n",
            "verb\n",
            "who made the world who made the swan and the black bear who made the grasshopper this grasshopper mean the one who has flung herself out of the grass the one who is eating sugar out of my hand who is moving her jaws back and forth instead of up and down who is gazing around with her enormous and complicated eyes now she lifts her pale forearms and thoroughly washes her face now she snaps her wings open and floats away do not know exactly what prayer is do know how to pay attention how to fall down into the grass how to kneel in the grass how to be idle and blessed how to stroll through the fields which is what have been doing all day tell me what else should have done does not everything die at last and too soon tell me what is it you plan to do with your one wild and precious life by owner provided at no charge for educational purposes\n",
            "tensor([[0.3713]], device='cuda:0')\n",
            "verb\n",
            "who made the world who made the swan and the black bear who made the grasshopper this grasshopper mean the one who has flung herself out of the grass the one who is eating sugar out of my hand who is moving her jaws back and forth instead of up and down who is gazing around with her enormous and complicated eyes now she lifts her pale forearms and thoroughly washes her face now she snaps her wings open and floats away do not know exactly what prayer is do know how to pay attention how to fall down into the grass how to kneel in the grass how to be idle and blessed how to stroll through the fields which is what have been doing all day tell me what else should have done does not everything die at last and too soon tell me what is it you plan to do with your one wild and precious life by owner provided at no charge for educational purposes\n",
            "new text verbs\n",
            "who made the world who made the swan and the black bear who made the grasshopper this grasshopper mean the one who has flung herself out of the grass the one who is eating sugar out of my hand who is moving her jaws back and forth instead of up and down who is gazing around with her enormous and complicated eyes now she lifts her pale forearms and thoroughly washes her face now she snaps her wings open and floats away do not know exactly what prayer is do know how to pay attention how to fall down into the grass how to kneel in the grass how to be idle and blessed how to stroll through the fields which is what have been doing all day tell me what else should have done does not everything die at last and too soon tell me what is it you plan to do with your one wild and precious life by owner provided at no charge for educational purposes\n",
            "inside loop 2\n",
            "great\n",
            "sleep\n",
            "who made the world who made the swan and the black bear who made the grasshopper this grasshopper mean the one who has flung herself out of the grass the one who is eating sugar out of my hand who is moving her jaws back and forth instead of up and down who is gazing around with her enormous and complicated eyes now she lifts her pale forearms and thoroughly washes her face now she snaps her wings open and floats away do not know exactly what prayer is do know how to pay attention how to fall down into the grass how to kneel in the grass how to be idle and blessed how to stroll through the fields which is what have been doing all day tell me what else should have done does not everything die at last and too soon tell me what is it you plan to do with your one wild and precious life by owner provided at no charge for educational purposes\n",
            "tensor([[0.3667]], device='cuda:0')\n",
            "adjective\n",
            "who made the world who made the swan and the black bear who made the grasshopper this grasshopper mean the one who has flung herself out of the grass the one who is eating sugar out of my hand who is moving her jaws back and forth instead of up and down who is gazing around with her enormous and complicated eyes now she lifts her pale forearms and thoroughly washes her face now she snaps her wings open and floats away do not know exactly what prayer is do know how to pay attention how to fall down into the grass how to kneel in the grass how to be idle and blessed how to stroll through the fields which is what have been doing all day tell me what else should have done does not everything die at last and too soon tell me what is it you plan to do with your one wild and precious life by owner provided at no charge for educational purposes\n",
            "inside loop 2\n",
            "great\n",
            "terrible\n",
            "who made the world who made the swan and the black bear who made the grasshopper this grasshopper mean the one who has flung herself out of the grass the one who is eating sugar out of my hand who is moving her jaws back and forth instead of up and down who is gazing around with her enormous and complicated eyes now she lifts her pale forearms and thoroughly washes her face now she snaps her wings open and floats away do not know exactly what prayer is do know how to pay attention how to fall down into the grass how to kneel in the grass how to be idle and blessed how to stroll through the fields which is what have been doing all day tell me what else should have done does not everything die at last and too soon tell me what is it you plan to do with your one wild and precious life by owner provided at no charge for educational purposes\n",
            "tensor([[0.3648]], device='cuda:0')\n",
            "adjective\n",
            "who made the world who made the swan and the black bear who made the grasshopper this grasshopper mean the one who has flung herself out of the grass the one who is eating sugar out of my hand who is moving her jaws back and forth instead of up and down who is gazing around with her enormous and complicated eyes now she lifts her pale forearms and thoroughly washes her face now she snaps her wings open and floats away do not know exactly what prayer is do know how to pay attention how to fall down into the grass how to kneel in the grass how to be idle and blessed how to stroll through the fields which is what have been doing all day tell me what else should have done does not everything die at last and too soon tell me what is it you plan to do with your one wild and precious life by owner provided at no charge for educational purposes\n",
            "inside loop 2\n",
            "young\n",
            "sleep\n",
            "who made the world who made the swan and the black bear who made the grasshopper this grasshopper mean the one who has flung herself out of the grass the one who is eating sugar out of my hand who is moving her jaws back and forth instead of up and down who is gazing around with her enormous and complicated eyes now she lifts her pale forearms and thoroughly washes her face now she snaps her wings open and floats away do not know exactly what prayer is do know how to pay attention how to fall down into the grass how to kneel in the grass how to be idle and blessed how to stroll through the fields which is what have been doing all day tell me what else should have done does not everything die at last and too soon tell me what is it you plan to do with your one wild and precious life by owner provided at no charge for educational purposes\n",
            "tensor([[0.0781]], device='cuda:0')\n",
            "inside loop 2\n",
            "young\n",
            "terrible\n",
            "who made the world who made the swan and the black bear who made the grasshopper this grasshopper mean the one who has flung herself out of the grass the one who is eating sugar out of my hand who is moving her jaws back and forth instead of up and down who is gazing around with her enormous and complicated eyes now she lifts her pale forearms and thoroughly washes her face now she snaps her wings open and floats away do not know exactly what prayer is do know how to pay attention how to fall down into the grass how to kneel in the grass how to be idle and blessed how to stroll through the fields which is what have been doing all day tell me what else should have done does not everything die at last and too soon tell me what is it you plan to do with your one wild and precious life by owner provided at no charge for educational purposes\n",
            "tensor([[0.1842]], device='cuda:0')\n",
            "new text adjectives\n",
            "who made the world who made the swan and the black bear who made the grasshopper this grasshopper mean the one who has flung herself out of the grass the one who is eating sugar out of my hand who is moving her jaws back and forth instead of up and down who is gazing around with her enormous and complicated eyes now she lifts her pale forearms and thoroughly washes her face now she snaps her wings open and floats away do not know exactly what prayer is do know how to pay attention how to fall down into the grass how to kneel in the grass how to be idle and blessed how to stroll through the fields which is what have been doing all day tell me what else should have done does not everything die at last and too soon tell me what is it you plan to do with your one wild and precious life by owner provided at no charge for educational purposes\n",
            "poems:\n",
            "poem7\n",
            "do not call this world adorable or useful that not it it frisky and theater for more than fair winds the eyelash of lightning is neither good nor evil the struck tree burns like pillar of gold but the blue rain sinks straight to the white feet of the trees whose mouths open does not the wind turning in circles invent the dance have not the flowers moved slowly across asia then europe until at last now they shine in your own yard do not call this world an explanation or even an education when the sufi poet whirled was he looking outward to the mountains so solidly there in white capped ring or was he looking to the center of everything the seed the egg the idea that was also there beautiful as thumb curved and touching the finger tenderly little love ring as he whirled oh jug of breath in the garden of dust by owner provided at no charge for educational purposes\n",
            "['help', 'take']\n",
            "['walk', 'gone']\n",
            "tensor([[0.2962]], device='cuda:0')\n",
            "tensor([[0.3433]], device='cuda:0')\n",
            "verb\n",
            "do not call this world adorable or useful that not it it frisky and theater for more than fair winds the eyelash of lightning is neither good nor evil the struck tree burns like pillar of gold but the blue rain sinks straight to the white feet of the trees whose mouths open does not the wind turning in circles invent the dance have not the flowers moved slowly across asia then europe until at last now they shine in your own yard do not call this world an explanation or even an education when the sufi poet whirled was he looking outward to the mountains so solidly there in white capped ring or was he looking to the center of everything the seed the egg the idea that was also there beautiful as thumb curved and touching the finger tenderly little love ring as he whirled oh jug of breath in the garden of dust by owner provided at no charge for educational purposes\n",
            "tensor([[0.3713]], device='cuda:0')\n",
            "verb\n",
            "do not call this world adorable or useful that not it it frisky and theater for more than fair winds the eyelash of lightning is neither good nor evil the struck tree burns like pillar of gold but the blue rain sinks straight to the white feet of the trees whose mouths open does not the wind turning in circles invent the dance have not the flowers moved slowly across asia then europe until at last now they shine in your own yard do not call this world an explanation or even an education when the sufi poet whirled was he looking outward to the mountains so solidly there in white capped ring or was he looking to the center of everything the seed the egg the idea that was also there beautiful as thumb curved and touching the finger tenderly little love ring as he whirled oh jug of breath in the garden of dust by owner provided at no charge for educational purposes\n",
            "new text verbs\n",
            "do not call this world adorable or useful that not it it frisky and theater for more than fair winds the eyelash of lightning is neither good nor evil the struck tree burns like pillar of gold but the blue rain sinks straight to the white feet of the trees whose mouths open does not the wind turning in circles invent the dance have not the flowers moved slowly across asia then europe until at last now they shine in your own yard do not call this world an explanation or even an education when the sufi poet whirled was he looking outward to the mountains so solidly there in white capped ring or was he looking to the center of everything the seed the egg the idea that was also there beautiful as thumb curved and touching the finger tenderly little love ring as he whirled oh jug of breath in the garden of dust by owner provided at no charge for educational purposes\n",
            "inside loop 2\n",
            "great\n",
            "sleep\n",
            "do not call this world adorable or useful that not it it frisky and theater for more than fair winds the eyelash of lightning is neither good nor evil the struck tree burns like pillar of gold but the blue rain sinks straight to the white feet of the trees whose mouths open does not the wind turning in circles invent the dance have not the flowers moved slowly across asia then europe until at last now they shine in your own yard do not call this world an explanation or even an education when the sufi poet whirled was he looking outward to the mountains so solidly there in white capped ring or was he looking to the center of everything the seed the egg the idea that was also there beautiful as thumb curved and touching the finger tenderly little love ring as he whirled oh jug of breath in the garden of dust by owner provided at no charge for educational purposes\n",
            "tensor([[0.3667]], device='cuda:0')\n",
            "adjective\n",
            "do not call this world adorable or useful that not it it frisky and theater for more than fair winds the eyelash of lightning is neither good nor evil the struck tree burns like pillar of gold but the blue rain sinks straight to the white feet of the trees whose mouths open does not the wind turning in circles invent the dance have not the flowers moved slowly across asia then europe until at last now they shine in your own yard do not call this world an explanation or even an education when the sufi poet whirled was he looking outward to the mountains so solidly there in white capped ring or was he looking to the center of everything the seed the egg the idea that was also there beautiful as thumb curved and touching the finger tenderly little love ring as he whirled oh jug of breath in the garden of dust by owner provided at no charge for educational purposes\n",
            "inside loop 2\n",
            "great\n",
            "terrible\n",
            "do not call this world adorable or useful that not it it frisky and theater for more than fair winds the eyelash of lightning is neither good nor evil the struck tree burns like pillar of gold but the blue rain sinks straight to the white feet of the trees whose mouths open does not the wind turning in circles invent the dance have not the flowers moved slowly across asia then europe until at last now they shine in your own yard do not call this world an explanation or even an education when the sufi poet whirled was he looking outward to the mountains so solidly there in white capped ring or was he looking to the center of everything the seed the egg the idea that was also there beautiful as thumb curved and touching the finger tenderly little love ring as he whirled oh jug of breath in the garden of dust by owner provided at no charge for educational purposes\n",
            "tensor([[0.3648]], device='cuda:0')\n",
            "adjective\n",
            "do not call this world adorable or useful that not it it frisky and theater for more than fair winds the eyelash of lightning is neither good nor evil the struck tree burns like pillar of gold but the blue rain sinks straight to the white feet of the trees whose mouths open does not the wind turning in circles invent the dance have not the flowers moved slowly across asia then europe until at last now they shine in your own yard do not call this world an explanation or even an education when the sufi poet whirled was he looking outward to the mountains so solidly there in white capped ring or was he looking to the center of everything the seed the egg the idea that was also there beautiful as thumb curved and touching the finger tenderly little love ring as he whirled oh jug of breath in the garden of dust by owner provided at no charge for educational purposes\n",
            "inside loop 2\n",
            "young\n",
            "sleep\n",
            "do not call this world adorable or useful that not it it frisky and theater for more than fair winds the eyelash of lightning is neither good nor evil the struck tree burns like pillar of gold but the blue rain sinks straight to the white feet of the trees whose mouths open does not the wind turning in circles invent the dance have not the flowers moved slowly across asia then europe until at last now they shine in your own yard do not call this world an explanation or even an education when the sufi poet whirled was he looking outward to the mountains so solidly there in white capped ring or was he looking to the center of everything the seed the egg the idea that was also there beautiful as thumb curved and touching the finger tenderly little love ring as he whirled oh jug of breath in the garden of dust by owner provided at no charge for educational purposes\n",
            "tensor([[0.0781]], device='cuda:0')\n",
            "inside loop 2\n",
            "young\n",
            "terrible\n",
            "do not call this world adorable or useful that not it it frisky and theater for more than fair winds the eyelash of lightning is neither good nor evil the struck tree burns like pillar of gold but the blue rain sinks straight to the white feet of the trees whose mouths open does not the wind turning in circles invent the dance have not the flowers moved slowly across asia then europe until at last now they shine in your own yard do not call this world an explanation or even an education when the sufi poet whirled was he looking outward to the mountains so solidly there in white capped ring or was he looking to the center of everything the seed the egg the idea that was also there beautiful as thumb curved and touching the finger tenderly little love ring as he whirled oh jug of breath in the garden of dust by owner provided at no charge for educational purposes\n",
            "tensor([[0.1842]], device='cuda:0')\n",
            "new text adjectives\n",
            "do not call this world adorable or useful that not it it frisky and theater for more than fair winds the eyelash of lightning is neither good nor evil the struck tree burns like pillar of gold but the blue rain sinks straight to the white feet of the trees whose mouths open does not the wind turning in circles invent the dance have not the flowers moved slowly across asia then europe until at last now they shine in your own yard do not call this world an explanation or even an education when the sufi poet whirled was he looking outward to the mountains so solidly there in white capped ring or was he looking to the center of everything the seed the egg the idea that was also there beautiful as thumb curved and touching the finger tenderly little love ring as he whirled oh jug of breath in the garden of dust by owner provided at no charge for educational purposes\n",
            "poems:\n",
            "poem8\n",
            "go down to the edge of the sea how everything shines in the morning light the cusp of the whelk the broken cupboard of the clam the opened blue mussels moon snails pale pink and barnacle scarred— and nothing at all whole or shut but tattered split dropped by the gulls onto the gray rocks and all the moisture gone it is like schoolhouse of little words thousands of words first you figure out what each one means by itself the jingle the periwinkle the scallop full of moonlight then you begin slowly to read the whole story by owner provided at no charge for educational purposes\n",
            "['help', 'take']\n",
            "['walk', 'gone']\n",
            "tensor([[0.2962]], device='cuda:0')\n",
            "tensor([[0.3433]], device='cuda:0')\n",
            "verb\n",
            "go down to the edge of the sea how everything shines in the morning light the cusp of the whelk the broken cupboard of the clam the opened blue mussels moon snails pale pink and barnacle scarred— and nothing at all whole or shut but tattered split dropped by the gulls onto the gray rocks and all the moisture gone it is like schoolhouse of little words thousands of words first you figure out what each one means by itself the jingle the periwinkle the scallop full of moonlight then you begin slowly to read the whole story by owner provided at no charge for educational purposes\n",
            "tensor([[0.3713]], device='cuda:0')\n",
            "verb\n",
            "go down to the edge of the sea how everything shines in the morning light the cusp of the whelk the broken cupboard of the clam the opened blue mussels moon snails pale pink and barnacle scarred— and nothing at all whole or shut but tattered split dropped by the gulls onto the gray rocks and all the moisture gone it is like schoolhouse of little words thousands of words first you figure out what each one means by itself the jingle the periwinkle the scallop full of moonlight then you begin slowly to read the whole story by owner provided at no charge for educational purposes\n",
            "new text verbs\n",
            "go down to the edge of the sea how everything shines in the morning light the cusp of the whelk the broken cupboard of the clam the opened blue mussels moon snails pale pink and barnacle scarred— and nothing at all whole or shut but tattered split dropped by the gulls onto the gray rocks and all the moisture gone it is like schoolhouse of little words thousands of words first you figure out what each one means by itself the jingle the periwinkle the scallop full of moonlight then you begin slowly to read the whole story by owner provided at no charge for educational purposes\n",
            "inside loop 2\n",
            "great\n",
            "sleep\n",
            "go down to the edge of the sea how everything shines in the morning light the cusp of the whelk the broken cupboard of the clam the opened blue mussels moon snails pale pink and barnacle scarred— and nothing at all whole or shut but tattered split dropped by the gulls onto the gray rocks and all the moisture gone it is like schoolhouse of little words thousands of words first you figure out what each one means by itself the jingle the periwinkle the scallop full of moonlight then you begin slowly to read the whole story by owner provided at no charge for educational purposes\n",
            "tensor([[0.3667]], device='cuda:0')\n",
            "adjective\n",
            "go down to the edge of the sea how everything shines in the morning light the cusp of the whelk the broken cupboard of the clam the opened blue mussels moon snails pale pink and barnacle scarred— and nothing at all whole or shut but tattered split dropped by the gulls onto the gray rocks and all the moisture gone it is like schoolhouse of little words thousands of words first you figure out what each one means by itself the jingle the periwinkle the scallop full of moonlight then you begin slowly to read the whole story by owner provided at no charge for educational purposes\n",
            "inside loop 2\n",
            "great\n",
            "terrible\n",
            "go down to the edge of the sea how everything shines in the morning light the cusp of the whelk the broken cupboard of the clam the opened blue mussels moon snails pale pink and barnacle scarred— and nothing at all whole or shut but tattered split dropped by the gulls onto the gray rocks and all the moisture gone it is like schoolhouse of little words thousands of words first you figure out what each one means by itself the jingle the periwinkle the scallop full of moonlight then you begin slowly to read the whole story by owner provided at no charge for educational purposes\n",
            "tensor([[0.3648]], device='cuda:0')\n",
            "adjective\n",
            "go down to the edge of the sea how everything shines in the morning light the cusp of the whelk the broken cupboard of the clam the opened blue mussels moon snails pale pink and barnacle scarred— and nothing at all whole or shut but tattered split dropped by the gulls onto the gray rocks and all the moisture gone it is like schoolhouse of little words thousands of words first you figure out what each one means by itself the jingle the periwinkle the scallop full of moonlight then you begin slowly to read the whole story by owner provided at no charge for educational purposes\n",
            "inside loop 2\n",
            "young\n",
            "sleep\n",
            "go down to the edge of the sea how everything shines in the morning light the cusp of the whelk the broken cupboard of the clam the opened blue mussels moon snails pale pink and barnacle scarred— and nothing at all whole or shut but tattered split dropped by the gulls onto the gray rocks and all the moisture gone it is like schoolhouse of little words thousands of words first you figure out what each one means by itself the jingle the periwinkle the scallop full of moonlight then you begin slowly to read the whole story by owner provided at no charge for educational purposes\n",
            "tensor([[0.0781]], device='cuda:0')\n",
            "inside loop 2\n",
            "young\n",
            "terrible\n",
            "go down to the edge of the sea how everything shines in the morning light the cusp of the whelk the broken cupboard of the clam the opened blue mussels moon snails pale pink and barnacle scarred— and nothing at all whole or shut but tattered split dropped by the gulls onto the gray rocks and all the moisture gone it is like schoolhouse of little words thousands of words first you figure out what each one means by itself the jingle the periwinkle the scallop full of moonlight then you begin slowly to read the whole story by owner provided at no charge for educational purposes\n",
            "tensor([[0.1842]], device='cuda:0')\n",
            "new text adjectives\n",
            "go down to the edge of the sea how everything shines in the morning light the cusp of the whelk the broken cupboard of the clam the opened blue mussels moon snails pale pink and barnacle scarred— and nothing at all whole or shut but tattered split dropped by the gulls onto the gray rocks and all the moisture gone it is like schoolhouse of little words thousands of words first you figure out what each one means by itself the jingle the periwinkle the scallop full of moonlight then you begin slowly to read the whole story by owner provided at no charge for educational purposes\n",
            "poems:\n",
            "poem9\n",
            "do not you imagine the leaves dream now how comfortable it will be to touch the earth instead of the nothingness of the air and the endless freshets of wind and do not you think the trees especially those with mossy hollows are beginning to look for the birds that will come—six dozen—to sleep inside their bodies and do not you hear the goldenrod whispering goodbye the everlasting being crowned with the first tuffets of snow the pond stiffens and the white field over which the fox runs so quickly brings out its long blue shadows the wind wags its many tails and in the evening the piled firewood shifts little longing to be on its way by owner provided at no charge for educational purposes\n",
            "['help', 'take']\n",
            "['walk', 'gone']\n",
            "tensor([[0.2962]], device='cuda:0')\n",
            "tensor([[0.3433]], device='cuda:0')\n",
            "verb\n",
            "do not you imagine the leaves dream now how comfortable it will be to touch the earth instead of the nothingness of the air and the endless freshets of wind and do not you think the trees especially those with mossy hollows are beginning to look for the birds that will come—six dozen—to sleep inside their bodies and do not you hear the goldenrod whispering goodbye the everlasting being crowned with the first tuffets of snow the pond stiffens and the white field over which the fox runs so quickly brings out its long blue shadows the wind wags its many tails and in the evening the piled firewood shifts little longing to be on its way by owner provided at no charge for educational purposes\n",
            "tensor([[0.3713]], device='cuda:0')\n",
            "verb\n",
            "do not you imagine the leaves dream now how comfortable it will be to touch the earth instead of the nothingness of the air and the endless freshets of wind and do not you think the trees especially those with mossy hollows are beginning to look for the birds that will come—six dozen—to sleep inside their bodies and do not you hear the goldenrod whispering goodbye the everlasting being crowned with the first tuffets of snow the pond stiffens and the white field over which the fox runs so quickly brings out its long blue shadows the wind wags its many tails and in the evening the piled firewood shifts little longing to be on its way by owner provided at no charge for educational purposes\n",
            "new text verbs\n",
            "do not you imagine the leaves dream now how comfortable it will be to touch the earth instead of the nothingness of the air and the endless freshets of wind and do not you think the trees especially those with mossy hollows are beginning to look for the birds that will come—six dozen—to sleep inside their bodies and do not you hear the goldenrod whispering goodbye the everlasting being crowned with the first tuffets of snow the pond stiffens and the white field over which the fox runs so quickly brings out its long blue shadows the wind wags its many tails and in the evening the piled firewood shifts little longing to be on its way by owner provided at no charge for educational purposes\n",
            "inside loop 2\n",
            "great\n",
            "sleep\n",
            "do not you imagine the leaves dream now how comfortable it will be to touch the earth instead of the nothingness of the air and the endless freshets of wind and do not you think the trees especially those with mossy hollows are beginning to look for the birds that will come—six dozen—to sleep inside their bodies and do not you hear the goldenrod whispering goodbye the everlasting being crowned with the first tuffets of snow the pond stiffens and the white field over which the fox runs so quickly brings out its long blue shadows the wind wags its many tails and in the evening the piled firewood shifts little longing to be on its way by owner provided at no charge for educational purposes\n",
            "tensor([[0.3667]], device='cuda:0')\n",
            "adjective\n",
            "do not you imagine the leaves dream now how comfortable it will be to touch the earth instead of the nothingness of the air and the endless freshets of wind and do not you think the trees especially those with mossy hollows are beginning to look for the birds that will come—six dozen—to sleep inside their bodies and do not you hear the goldenrod whispering goodbye the everlasting being crowned with the first tuffets of snow the pond stiffens and the white field over which the fox runs so quickly brings out its long blue shadows the wind wags its many tails and in the evening the piled firewood shifts little longing to be on its way by owner provided at no charge for educational purposes\n",
            "inside loop 2\n",
            "great\n",
            "terrible\n",
            "do not you imagine the leaves dream now how comfortable it will be to touch the earth instead of the nothingness of the air and the endless freshets of wind and do not you think the trees especially those with mossy hollows are beginning to look for the birds that will come—six dozen—to sleep inside their bodies and do not you hear the goldenrod whispering goodbye the everlasting being crowned with the first tuffets of snow the pond stiffens and the white field over which the fox runs so quickly brings out its long blue shadows the wind wags its many tails and in the evening the piled firewood shifts little longing to be on its way by owner provided at no charge for educational purposes\n",
            "tensor([[0.3648]], device='cuda:0')\n",
            "adjective\n",
            "do not you imagine the leaves dream now how comfortable it will be to touch the earth instead of the nothingness of the air and the endless freshets of wind and do not you think the trees especially those with mossy hollows are beginning to look for the birds that will come—six dozen—to sleep inside their bodies and do not you hear the goldenrod whispering goodbye the everlasting being crowned with the first tuffets of snow the pond stiffens and the white field over which the fox runs so quickly brings out its long blue shadows the wind wags its many tails and in the evening the piled firewood shifts little longing to be on its way by owner provided at no charge for educational purposes\n",
            "inside loop 2\n",
            "young\n",
            "sleep\n",
            "do not you imagine the leaves dream now how comfortable it will be to touch the earth instead of the nothingness of the air and the endless freshets of wind and do not you think the trees especially those with mossy hollows are beginning to look for the birds that will come—six dozen—to sleep inside their bodies and do not you hear the goldenrod whispering goodbye the everlasting being crowned with the first tuffets of snow the pond stiffens and the white field over which the fox runs so quickly brings out its long blue shadows the wind wags its many tails and in the evening the piled firewood shifts little longing to be on its way by owner provided at no charge for educational purposes\n",
            "tensor([[0.0781]], device='cuda:0')\n",
            "inside loop 2\n",
            "young\n",
            "terrible\n",
            "do not you imagine the leaves dream now how comfortable it will be to touch the earth instead of the nothingness of the air and the endless freshets of wind and do not you think the trees especially those with mossy hollows are beginning to look for the birds that will come—six dozen—to sleep inside their bodies and do not you hear the goldenrod whispering goodbye the everlasting being crowned with the first tuffets of snow the pond stiffens and the white field over which the fox runs so quickly brings out its long blue shadows the wind wags its many tails and in the evening the piled firewood shifts little longing to be on its way by owner provided at no charge for educational purposes\n",
            "tensor([[0.1842]], device='cuda:0')\n",
            "new text adjectives\n",
            "do not you imagine the leaves dream now how comfortable it will be to touch the earth instead of the nothingness of the air and the endless freshets of wind and do not you think the trees especially those with mossy hollows are beginning to look for the birds that will come—six dozen—to sleep inside their bodies and do not you hear the goldenrod whispering goodbye the everlasting being crowned with the first tuffets of snow the pond stiffens and the white field over which the fox runs so quickly brings out its long blue shadows the wind wags its many tails and in the evening the piled firewood shifts little longing to be on its way by owner provided at no charge for educational purposes\n",
            "poems:\n",
            "poems_array\n",
            "['poem0', 'poem1', 'poem2', 'poem3', 'poem4', 'poem5', 'poem6', 'poem7', 'poem8', 'poem9']\n",
            "['help', 'take']\n",
            "['walk', 'gone']\n",
            "tensor([[0.2962]], device='cuda:0')\n",
            "tensor([[0.3433]], device='cuda:0')\n",
            "verb\n",
            "['poem0', 'poem1', 'poem2', 'poem3', 'poem4', 'poem5', 'poem6', 'poem7', 'poem8', 'poem9']\n",
            "tensor([[0.3713]], device='cuda:0')\n",
            "verb\n",
            "['poem0', 'poem1', 'poem2', 'poem3', 'poem4', 'poem5', 'poem6', 'poem7', 'poem8', 'poem9']\n",
            "new text verbs\n",
            "['poem0', 'poem1', 'poem2', 'poem3', 'poem4', 'poem5', 'poem6', 'poem7', 'poem8', 'poem9']\n",
            "inside loop 2\n",
            "great\n",
            "sleep\n",
            "['poem0', 'poem1', 'poem2', 'poem3', 'poem4', 'poem5', 'poem6', 'poem7', 'poem8', 'poem9']\n",
            "tensor([[0.3667]], device='cuda:0')\n",
            "adjective\n",
            "['poem0', 'poem1', 'poem2', 'poem3', 'poem4', 'poem5', 'poem6', 'poem7', 'poem8', 'poem9']\n",
            "inside loop 2\n",
            "great\n",
            "terrible\n",
            "['poem0', 'poem1', 'poem2', 'poem3', 'poem4', 'poem5', 'poem6', 'poem7', 'poem8', 'poem9']\n",
            "tensor([[0.3648]], device='cuda:0')\n",
            "adjective\n",
            "['poem0', 'poem1', 'poem2', 'poem3', 'poem4', 'poem5', 'poem6', 'poem7', 'poem8', 'poem9']\n",
            "inside loop 2\n",
            "young\n",
            "sleep\n",
            "['poem0', 'poem1', 'poem2', 'poem3', 'poem4', 'poem5', 'poem6', 'poem7', 'poem8', 'poem9']\n",
            "tensor([[0.0781]], device='cuda:0')\n",
            "inside loop 2\n",
            "young\n",
            "terrible\n",
            "['poem0', 'poem1', 'poem2', 'poem3', 'poem4', 'poem5', 'poem6', 'poem7', 'poem8', 'poem9']\n",
            "tensor([[0.1842]], device='cuda:0')\n",
            "new text adjectives\n",
            "['poem0', 'poem1', 'poem2', 'poem3', 'poem4', 'poem5', 'poem6', 'poem7', 'poem8', 'poem9']\n"
          ]
        }
      ]
    },
    {
      "cell_type": "markdown",
      "source": [
        "# Printing the new poems after swapping"
      ],
      "metadata": {
        "id": "9SM1c3FqbAm4"
      }
    },
    {
      "cell_type": "code",
      "source": [
        "mary_j_oliver_poems_swapped"
      ],
      "metadata": {
        "id": "u16Vbh9Gat28",
        "colab": {
          "base_uri": "https://localhost:8080/"
        },
        "outputId": "2c4d205d-70fe-4b40-8f89-5c73be073859"
      },
      "execution_count": 48,
      "outputs": [
        {
          "output_type": "execute_result",
          "data": {
            "text/plain": [
              "['look the trees are turning their own bodies into pillars of light are giving off the rich fragrance of cinnamon and fulfillment the long tapers of cattails are bursting and floating away over the blue shoulders of the ponds and every pond no matter what its name is is nameless now every year everything have ever learned in my lifetime leads back to this the fires and the black river of loss whose other side is salvation whose meaning none of us will ever know to live in this world you must be able to do three things to love what is mortal to hold it against your bones knowing your own life depends on it and when the time comes to let it go to let it go by owner provided at no charge for educational purposes',\n",
              " 'one day you finally knew what you had to do and began though the voices around you kept shouting their bad advice though the whole house began to tremble and you felt the old tug at your ankles mend my life each voice cried but you did not stop you knew what you had to do though the wind pried with its stiff fingers at the very foundations though their melancholy was terrible it was already late enough and wild night and the road full of fallen branches and stones but little by little as you left their voice behind the stars began to burn through the sheets of clouds and there was new voice which you slowly recognized as your own that kept you company as you strode deeper and deeper into the world determined to do the only thing you could do determined to save the only life that you could save by owner provided at no charge for educational purposes',\n",
              " 'you do not have to be good you do not have to walk on your knees for hundred miles through the desert repenting you only have to let the soft animal of your body love what it loves tell me about despair yours and will tell you mine meanwhile the world goes on meanwhile the sun and the clear pebbles of the rain are moving across the landscapes over the prairies and the deep trees the mountains and the rivers meanwhile the wild geese high in the clean blue air are heading home again whoever you are no matter how lonely the world offers itself to your imagination calls to you like the wild geese harsh and exciting over and over announcing your place in the family of things by owner provided at no charge for educational purposes',\n",
              " 'how necessary it is to have opinions think the spotted trout lilies are satisfied standing few inches above the earth think serenity is not something you just find in the world like plum tree holding up its white petals the violets along the river are opening their blue faces like small dark lanterns the green mosses being so many are as good as brawny how important it is to walk along not in haste but slowly looking at everything and calling out yes no the swan for all his pomp his robes of grass and petals wants only to be allowed to live on the nameless pond the catbrier is without fault the water thrushes down among the sloppy rocks are going crazy with happiness imagination is better than sharp instrument to pay attention this is our endless and proper work by owner provided at no charge for educational purposes',\n",
              " 'in the afternoon watched the she bear she was looking for the secret bin of sweetness honey that the bees store in the trees’ soft caves black block of gloom she climbed down tree after tree and shuffled on through the woods and then she found it the honey house deep as heartwood and dipped into it among the swarming bees honey and comb she lipped and tongued and scooped out in her black nails until maybe she grew full or sleepy or maybe little drunk and sticky down the rugs of her arms and began to hum and sway saw her let go of the branches saw her lift her honeyed muzzle into the leaves and her thick arms as though she would fly an enormous bee all sweetness and wings down into the meadows the perfections of honeysuckle and roses and clover to float and sleep in the sheer nets swaying from flower to flower day after shining day by owner provided at no charge for educational purposes',\n",
              " 'next time what do is look at the earth before saying anything stop just before going into house and be an emperor for minute and listen better to the wind or to the air being still when anyone talked to me whether blame or praise or just passing time watch the face how the mouth has to work and see any strain any sign of what lifted the voice and for all know more the earth bracing itself and soaring the air finding every leaf and feather over forest and water and for every person the body glowing inside the clothes like light by owner provided at no charge for educational purposes',\n",
              " 'who made the world who made the swan and the black bear who made the grasshopper this grasshopper mean the one who has flung herself out of the grass the one who is eating sugar out of my hand who is moving her jaws back and forth instead of up and down who is gazing around with her enormous and complicated eyes now she lifts her pale forearms and thoroughly washes her face now she snaps her wings open and floats away do not know exactly what prayer is do know how to pay attention how to fall down into the grass how to kneel in the grass how to be idle and blessed how to stroll through the fields which is what have been doing all day tell me what else should have done does not everything die at last and too soon tell me what is it you plan to do with your one wild and precious life by owner provided at no charge for educational purposes',\n",
              " 'do not call this world adorable or useful that not it it frisky and theater for more than fair winds the eyelash of lightning is neither good nor evil the struck tree burns like pillar of gold but the blue rain sinks straight to the white feet of the trees whose mouths open does not the wind turning in circles invent the dance have not the flowers moved slowly across asia then europe until at last now they shine in your own yard do not call this world an explanation or even an education when the sufi poet whirled was he looking outward to the mountains so solidly there in white capped ring or was he looking to the center of everything the seed the egg the idea that was also there beautiful as thumb curved and touching the finger tenderly little love ring as he whirled oh jug of breath in the garden of dust by owner provided at no charge for educational purposes',\n",
              " 'go down to the edge of the sea how everything shines in the morning light the cusp of the whelk the broken cupboard of the clam the opened blue mussels moon snails pale pink and barnacle scarred— and nothing at all whole or shut but tattered split dropped by the gulls onto the gray rocks and all the moisture gone it is like schoolhouse of little words thousands of words first you figure out what each one means by itself the jingle the periwinkle the scallop full of moonlight then you begin slowly to read the whole story by owner provided at no charge for educational purposes',\n",
              " 'do not you imagine the leaves dream now how comfortable it will be to touch the earth instead of the nothingness of the air and the endless freshets of wind and do not you think the trees especially those with mossy hollows are beginning to look for the birds that will come—six dozen—to sleep inside their bodies and do not you hear the goldenrod whispering goodbye the everlasting being crowned with the first tuffets of snow the pond stiffens and the white field over which the fox runs so quickly brings out its long blue shadows the wind wags its many tails and in the evening the piled firewood shifts little longing to be on its way by owner provided at no charge for educational purposes',\n",
              " \"['poem0', 'poem1', 'poem2', 'poem3', 'poem4', 'poem5', 'poem6', 'poem7', 'poem8', 'poem9']\"]"
            ]
          },
          "metadata": {},
          "execution_count": 48
        }
      ]
    },
    {
      "cell_type": "markdown",
      "metadata": {
        "id": "9NY5r9IF1iCi"
      },
      "source": [
        "# Swapped Poem"
      ]
    },
    {
      "cell_type": "code",
      "metadata": {
        "id": "pa_Ew-EueUDY"
      },
      "source": [
        "def buildSwappedPoemArray(poet,data):\n",
        "  poems = []\n",
        "  data_length = len(data)\n",
        "  for i in range(data_length):\n",
        "    poem = data[i]\n",
        "    #clean_poem = cleanPoemText(poem)\n",
        "    idx = \"poem\" + str(i)\n",
        "    poet[idx] = poem\n",
        "    poems.append(idx)\n",
        "  poet['poems_swapped_array'] = poems"
      ],
      "execution_count": 49,
      "outputs": []
    },
    {
      "cell_type": "code",
      "metadata": {
        "id": "7pJJOMfSfjQw"
      },
      "source": [
        "langston_hughes_swapped = {\n",
        "\n",
        "}\n",
        "\n",
        "mary_j_oliver_swapped = {\n",
        "\n",
        "}\n"
      ],
      "execution_count": 50,
      "outputs": []
    },
    {
      "cell_type": "code",
      "metadata": {
        "id": "TqhhHKnd0LSr",
        "colab": {
          "base_uri": "https://localhost:8080/"
        },
        "outputId": "fef98bd3-2783-4116-ba37-b74084a0973e"
      },
      "source": [
        "langston_hughes_poems_swapped\n"
      ],
      "execution_count": 51,
      "outputs": [
        {
          "output_type": "execute_result",
          "data": {
            "text/plain": [
              "['well son will tell you life for me ai not been no crystal stair it had tacks in it and splinters and boards torn up and places with no carpet on the floor— bare but all the time se been climbin on and reachin landin and turnin corners and sometimes goin in the dark where there ai not been no light so boy do not you turn back do not you set down on the steps because you finds it kinder hard do not you fall now— for se still goin honey se still climbin and life for me ai not been no crystal stair by owner provided at no charge for educational purposes',\n",
              " 'landlord landlord my roof has sprung leak do not you member told you about it way last week landlord landlord these steps is broken down when you come up yourself it wonder you do not fall down ten bucks you say owe you ten bucks you say is due well that ten bucks more pay you till you fix this house up new what you going to get eviction orders you going to cut off my heat you going to walk my furniture and throw it in the street um huh you talking high and mighty talk on till you get through you ai not going to be able to say word if land my fist on you police police come and get this man he trying to ruin the government and overturn the land copper whistle patrol bell arrest precinct station iron cell headlines in press man threatens landlord tenant held no bail judge gives negro days in county jail from the langston hughes reader this poem by langston hughes grew out of conditions in new york city’s harlem in the ’s in graphic terms it describes the escalation of anger and frustration that tenants experienced trying to get landlords to make basic repairs it is structured like an old time blues song until the final verse where the rhythm changes charley noble by owner provided at no charge for educational purposes',\n",
              " 'too sing america am the darker brother they send me to eat in the kitchen when company comes but laugh and eat well and grow strong tomorrow will be at the table when company comes nobody will dare say to me eat in the kitchen then besides they will see how beautiful am and be ashamed— too am america http www poetryarchive org poetryarchive singlepoem do poemid listen to langston hughes read this poem recorded in by owner provided at no charge for educational purposes',\n",
              " 'it was long time ago have almost forgotten my dream but it was there then in front of me bright like sun— my dream and then the wall rose rose slowly slowly between me and my dream rose until it touched the sky— the wall shadow am black lie down in the shadow no longer the light of my dream before me above me only the thick wall only the shadow my hands my dark hands break through the wall find my dream gone me to shatter this darkness to smash this night to break this shadow into thousand lights of sun into thousand whirling dreams of sun by owner provided at no charge for educational purposes',\n",
              " 'children come back today to tell you story of the long dark way that had to climb that had to know in order that the race might live and grow look at my face dark as the night yet shining like the sun with love true light am the child they stole from the sand three hundred years ago in africa land am the dark girl who crossed the wide sea carrying in my body the seed of the free am the woman who worked in the field bringing the cotton and the corn to yield am the one who labored as slave beaten and mistreated for the work gave children sold away from me husband sold too no safety no love no respect was due three hundred years in the deepest south but god put song and prayer in my mouth god put dream like steel in my soul now through my children reaching the goal now through my children young and free realize the blessings deed to me could not read then could not write had nothing back there in the night sometimes the valley was filled with tears but kept trudging on through the lonely years sometimes the road was hot with the sun but had to keep on till my work was done had to keep on no stopping for me was the seed of the coming free nourished the dream that nothing could smother deep in my breast the negro mother had only hope then but now through you dark ones of today my dreams must come true all you dark children in the world out there remember my sweat my pain my despair remember my years heavy with sorrow and make of those years torch for tomorrow make of my pass road to the light out of the darkness the ignorance the night lift high my banner out of the dust stand like free men supporting my trust believe in the right let none push you back remember the whip and the slaver track remember how the strong in struggle and strife still bar you the way and deny you life but march ever forward breaking down bars look ever upward at the sun and the stars oh my dark children may my dreams and my prayers impel you forever up the sleep stairs for will be with you till no white brother dares keep down the children of the negro mother many on line versions have the alternate line realized the blessing denied to me by owner provided at no charge for educational purposes',\n",
              " 'have known rivers have known rivers ancient as the world and older than the flow of human blood in human veins my soul has grown deep like the rivers bathed in the euphrates when dawns were young built my hut near the congo and it lulled me to sleep looked upon the nile and raised the pyramids above it heard the singing of the mississippi when abe lincoln went down to new orleans and have seen its muddy bosom turn all golden in the sunset have known rivers ancient dusky rivers my soul has grown deep like the rivers http www poetryarchive org poetryarchive singlepoem do poemid recorded in langston hughes recites by owner provided at no charge for educational purposes',\n",
              " 'the negro with the trumpet at his lips has dark moons of weariness beneath his eyes where the smoldering memory of slave ships blazed to the crack of whips about thighs the negro with the trumpet at his lips has head of vibrant hair tamed down patent leathered now until it gleams like jet— were jet crown the music from the trumpet at his lips is honey mixed with liquid fire the rhythm from the trumpet at his lips is ecstasy distilled from old desire— desire that is longing for the moon where the moonlight but spotlight in his eyes desire that is longing for the sea where the sea bar glass sucker size the negro with the trumpet at his lips whose jacket has fine one button roll does not know upon what riff the music slips it hypodermic needle to his soul but softly as the tune comes from his throat trouble mellows to golden note by owner provided at no charge for educational purposes',\n",
              " 'my old man white old manand my old mother black if ever cursed my white old mani walk my curses back if ever cursed my black old motherand wished she were in hell sorry for that evil wishand now wish her wellmy old man died in fine big house my ma died in shack wonder were going to die being neither white nor black by owner provided at no charge for educational purposes',\n",
              " 'the rent man knocked he said how do you do said what can do for you he said you know your rent is due said listen before pay go to hades and rot away the sink is broke the water do not run and you ai not done thing you promised to have done back window cracked kitchen floor squeaks there rats in the cellar and the attic leaks he said madam it not up to me just the agent do not you see said naturally you pass the buck if it money you want you are out of luck he said madam ai not pleased said neither am so we agrees this is one of number of madam poems by langston hughes that can be considered as linked series madam and the rent man http oldpoetry com opoem madam and the census man http oldpoetry com opoem show madam and her madam http oldpoetry com opoem madam and the phone bill http oldpoetry com opoem madam’s past history http oldpoetry com opoem this one is walkn from the collected poems of langston hughes by langston hughes by the estate of langston hughes the header graphic is an illustration from the liberation news service the late by owner provided at no charge for educational purposes',\n",
              " 'good morning daddy ai not you heard the boogie woogie rumble of dream deferred listen closely you will hear their feet beating out and beating out you think it happy beat listen to it closely ai not you heard something underneath like what did say sure happy walk it away hey pop re bop mop hughes himself says that the book from which this comes montage of dream deferred should be viewed as complete poem in itself and not collection of short poems by owner provided at no charge for educational purposes',\n",
              " \"['poem0', 'poem1', 'poem2', 'poem3', 'poem4', 'poem5', 'poem6', 'poem7', 'poem8', 'poem9']\"]"
            ]
          },
          "metadata": {},
          "execution_count": 51
        }
      ]
    },
    {
      "cell_type": "code",
      "metadata": {
        "id": "7Z9D9nsoez8A"
      },
      "source": [
        "buildSwappedPoemArray(langston_hughes_swapped,langston_hughes_poems_swapped)\n",
        "buildSwappedPoemArray(mary_j_oliver_swapped,mary_j_oliver_poems_swapped)"
      ],
      "execution_count": 52,
      "outputs": []
    },
    {
      "cell_type": "code",
      "metadata": {
        "id": "kq58_xnS3oFg",
        "colab": {
          "base_uri": "https://localhost:8080/"
        },
        "outputId": "c6230be3-8d3a-4230-da0c-5abcbef46561"
      },
      "source": [
        "langston_hughes_swapped"
      ],
      "execution_count": 53,
      "outputs": [
        {
          "output_type": "execute_result",
          "data": {
            "text/plain": [
              "{'poem0': 'well son will tell you life for me ai not been no crystal stair it had tacks in it and splinters and boards torn up and places with no carpet on the floor— bare but all the time se been climbin on and reachin landin and turnin corners and sometimes goin in the dark where there ai not been no light so boy do not you turn back do not you set down on the steps because you finds it kinder hard do not you fall now— for se still goin honey se still climbin and life for me ai not been no crystal stair by owner provided at no charge for educational purposes',\n",
              " 'poem1': 'landlord landlord my roof has sprung leak do not you member told you about it way last week landlord landlord these steps is broken down when you come up yourself it wonder you do not fall down ten bucks you say owe you ten bucks you say is due well that ten bucks more pay you till you fix this house up new what you going to get eviction orders you going to cut off my heat you going to walk my furniture and throw it in the street um huh you talking high and mighty talk on till you get through you ai not going to be able to say word if land my fist on you police police come and get this man he trying to ruin the government and overturn the land copper whistle patrol bell arrest precinct station iron cell headlines in press man threatens landlord tenant held no bail judge gives negro days in county jail from the langston hughes reader this poem by langston hughes grew out of conditions in new york city’s harlem in the ’s in graphic terms it describes the escalation of anger and frustration that tenants experienced trying to get landlords to make basic repairs it is structured like an old time blues song until the final verse where the rhythm changes charley noble by owner provided at no charge for educational purposes',\n",
              " 'poem10': \"['poem0', 'poem1', 'poem2', 'poem3', 'poem4', 'poem5', 'poem6', 'poem7', 'poem8', 'poem9']\",\n",
              " 'poem2': 'too sing america am the darker brother they send me to eat in the kitchen when company comes but laugh and eat well and grow strong tomorrow will be at the table when company comes nobody will dare say to me eat in the kitchen then besides they will see how beautiful am and be ashamed— too am america http www poetryarchive org poetryarchive singlepoem do poemid listen to langston hughes read this poem recorded in by owner provided at no charge for educational purposes',\n",
              " 'poem3': 'it was long time ago have almost forgotten my dream but it was there then in front of me bright like sun— my dream and then the wall rose rose slowly slowly between me and my dream rose until it touched the sky— the wall shadow am black lie down in the shadow no longer the light of my dream before me above me only the thick wall only the shadow my hands my dark hands break through the wall find my dream gone me to shatter this darkness to smash this night to break this shadow into thousand lights of sun into thousand whirling dreams of sun by owner provided at no charge for educational purposes',\n",
              " 'poem4': 'children come back today to tell you story of the long dark way that had to climb that had to know in order that the race might live and grow look at my face dark as the night yet shining like the sun with love true light am the child they stole from the sand three hundred years ago in africa land am the dark girl who crossed the wide sea carrying in my body the seed of the free am the woman who worked in the field bringing the cotton and the corn to yield am the one who labored as slave beaten and mistreated for the work gave children sold away from me husband sold too no safety no love no respect was due three hundred years in the deepest south but god put song and prayer in my mouth god put dream like steel in my soul now through my children reaching the goal now through my children young and free realize the blessings deed to me could not read then could not write had nothing back there in the night sometimes the valley was filled with tears but kept trudging on through the lonely years sometimes the road was hot with the sun but had to keep on till my work was done had to keep on no stopping for me was the seed of the coming free nourished the dream that nothing could smother deep in my breast the negro mother had only hope then but now through you dark ones of today my dreams must come true all you dark children in the world out there remember my sweat my pain my despair remember my years heavy with sorrow and make of those years torch for tomorrow make of my pass road to the light out of the darkness the ignorance the night lift high my banner out of the dust stand like free men supporting my trust believe in the right let none push you back remember the whip and the slaver track remember how the strong in struggle and strife still bar you the way and deny you life but march ever forward breaking down bars look ever upward at the sun and the stars oh my dark children may my dreams and my prayers impel you forever up the sleep stairs for will be with you till no white brother dares keep down the children of the negro mother many on line versions have the alternate line realized the blessing denied to me by owner provided at no charge for educational purposes',\n",
              " 'poem5': 'have known rivers have known rivers ancient as the world and older than the flow of human blood in human veins my soul has grown deep like the rivers bathed in the euphrates when dawns were young built my hut near the congo and it lulled me to sleep looked upon the nile and raised the pyramids above it heard the singing of the mississippi when abe lincoln went down to new orleans and have seen its muddy bosom turn all golden in the sunset have known rivers ancient dusky rivers my soul has grown deep like the rivers http www poetryarchive org poetryarchive singlepoem do poemid recorded in langston hughes recites by owner provided at no charge for educational purposes',\n",
              " 'poem6': 'the negro with the trumpet at his lips has dark moons of weariness beneath his eyes where the smoldering memory of slave ships blazed to the crack of whips about thighs the negro with the trumpet at his lips has head of vibrant hair tamed down patent leathered now until it gleams like jet— were jet crown the music from the trumpet at his lips is honey mixed with liquid fire the rhythm from the trumpet at his lips is ecstasy distilled from old desire— desire that is longing for the moon where the moonlight but spotlight in his eyes desire that is longing for the sea where the sea bar glass sucker size the negro with the trumpet at his lips whose jacket has fine one button roll does not know upon what riff the music slips it hypodermic needle to his soul but softly as the tune comes from his throat trouble mellows to golden note by owner provided at no charge for educational purposes',\n",
              " 'poem7': 'my old man white old manand my old mother black if ever cursed my white old mani walk my curses back if ever cursed my black old motherand wished she were in hell sorry for that evil wishand now wish her wellmy old man died in fine big house my ma died in shack wonder were going to die being neither white nor black by owner provided at no charge for educational purposes',\n",
              " 'poem8': 'the rent man knocked he said how do you do said what can do for you he said you know your rent is due said listen before pay go to hades and rot away the sink is broke the water do not run and you ai not done thing you promised to have done back window cracked kitchen floor squeaks there rats in the cellar and the attic leaks he said madam it not up to me just the agent do not you see said naturally you pass the buck if it money you want you are out of luck he said madam ai not pleased said neither am so we agrees this is one of number of madam poems by langston hughes that can be considered as linked series madam and the rent man http oldpoetry com opoem madam and the census man http oldpoetry com opoem show madam and her madam http oldpoetry com opoem madam and the phone bill http oldpoetry com opoem madam’s past history http oldpoetry com opoem this one is walkn from the collected poems of langston hughes by langston hughes by the estate of langston hughes the header graphic is an illustration from the liberation news service the late by owner provided at no charge for educational purposes',\n",
              " 'poem9': 'good morning daddy ai not you heard the boogie woogie rumble of dream deferred listen closely you will hear their feet beating out and beating out you think it happy beat listen to it closely ai not you heard something underneath like what did say sure happy walk it away hey pop re bop mop hughes himself says that the book from which this comes montage of dream deferred should be viewed as complete poem in itself and not collection of short poems by owner provided at no charge for educational purposes',\n",
              " 'poems_swapped_array': ['poem0',\n",
              "  'poem1',\n",
              "  'poem2',\n",
              "  'poem3',\n",
              "  'poem4',\n",
              "  'poem5',\n",
              "  'poem6',\n",
              "  'poem7',\n",
              "  'poem8',\n",
              "  'poem9',\n",
              "  'poem10']}"
            ]
          },
          "metadata": {},
          "execution_count": 53
        }
      ]
    },
    {
      "cell_type": "code",
      "metadata": {
        "id": "gDqZzu0I19uR",
        "colab": {
          "base_uri": "https://localhost:8080/",
          "height": 35
        },
        "outputId": "56192c35-198b-4f3e-e38b-785e47865fc9"
      },
      "source": [
        "langston_hughes_swapped_to_json_file = langston_hughes_swapped.copy()\n",
        "langston_hughes_swapped_to_json_file.pop('poems_swapped_array')\n",
        "langston_hughes_swapped_to_json_file.pop('poem10')\n",
        "\n",
        "mary_j_oliver_swapped_to_json_file = mary_j_oliver_swapped.copy()\n",
        "mary_j_oliver_swapped_to_json_file.pop('poems_swapped_array')\n",
        "mary_j_oliver_swapped_to_json_file.pop('poem10')\n",
        "\n"
      ],
      "execution_count": 54,
      "outputs": [
        {
          "output_type": "execute_result",
          "data": {
            "text/plain": [
              "\"['poem0', 'poem1', 'poem2', 'poem3', 'poem4', 'poem5', 'poem6', 'poem7', 'poem8', 'poem9']\""
            ],
            "application/vnd.google.colaboratory.intrinsic+json": {
              "type": "string"
            }
          },
          "metadata": {},
          "execution_count": 54
        }
      ]
    },
    {
      "cell_type": "code",
      "metadata": {
        "id": "qN20R3J53To2",
        "colab": {
          "base_uri": "https://localhost:8080/"
        },
        "outputId": "ab27629f-d3dc-4852-c632-ef08fc21ce75"
      },
      "source": [
        "langston_hughes_swapped_to_json_file\n"
      ],
      "execution_count": 55,
      "outputs": [
        {
          "output_type": "execute_result",
          "data": {
            "text/plain": [
              "{'poem0': 'well son will tell you life for me ai not been no crystal stair it had tacks in it and splinters and boards torn up and places with no carpet on the floor— bare but all the time se been climbin on and reachin landin and turnin corners and sometimes goin in the dark where there ai not been no light so boy do not you turn back do not you set down on the steps because you finds it kinder hard do not you fall now— for se still goin honey se still climbin and life for me ai not been no crystal stair by owner provided at no charge for educational purposes',\n",
              " 'poem1': 'landlord landlord my roof has sprung leak do not you member told you about it way last week landlord landlord these steps is broken down when you come up yourself it wonder you do not fall down ten bucks you say owe you ten bucks you say is due well that ten bucks more pay you till you fix this house up new what you going to get eviction orders you going to cut off my heat you going to walk my furniture and throw it in the street um huh you talking high and mighty talk on till you get through you ai not going to be able to say word if land my fist on you police police come and get this man he trying to ruin the government and overturn the land copper whistle patrol bell arrest precinct station iron cell headlines in press man threatens landlord tenant held no bail judge gives negro days in county jail from the langston hughes reader this poem by langston hughes grew out of conditions in new york city’s harlem in the ’s in graphic terms it describes the escalation of anger and frustration that tenants experienced trying to get landlords to make basic repairs it is structured like an old time blues song until the final verse where the rhythm changes charley noble by owner provided at no charge for educational purposes',\n",
              " 'poem2': 'too sing america am the darker brother they send me to eat in the kitchen when company comes but laugh and eat well and grow strong tomorrow will be at the table when company comes nobody will dare say to me eat in the kitchen then besides they will see how beautiful am and be ashamed— too am america http www poetryarchive org poetryarchive singlepoem do poemid listen to langston hughes read this poem recorded in by owner provided at no charge for educational purposes',\n",
              " 'poem3': 'it was long time ago have almost forgotten my dream but it was there then in front of me bright like sun— my dream and then the wall rose rose slowly slowly between me and my dream rose until it touched the sky— the wall shadow am black lie down in the shadow no longer the light of my dream before me above me only the thick wall only the shadow my hands my dark hands break through the wall find my dream gone me to shatter this darkness to smash this night to break this shadow into thousand lights of sun into thousand whirling dreams of sun by owner provided at no charge for educational purposes',\n",
              " 'poem4': 'children come back today to tell you story of the long dark way that had to climb that had to know in order that the race might live and grow look at my face dark as the night yet shining like the sun with love true light am the child they stole from the sand three hundred years ago in africa land am the dark girl who crossed the wide sea carrying in my body the seed of the free am the woman who worked in the field bringing the cotton and the corn to yield am the one who labored as slave beaten and mistreated for the work gave children sold away from me husband sold too no safety no love no respect was due three hundred years in the deepest south but god put song and prayer in my mouth god put dream like steel in my soul now through my children reaching the goal now through my children young and free realize the blessings deed to me could not read then could not write had nothing back there in the night sometimes the valley was filled with tears but kept trudging on through the lonely years sometimes the road was hot with the sun but had to keep on till my work was done had to keep on no stopping for me was the seed of the coming free nourished the dream that nothing could smother deep in my breast the negro mother had only hope then but now through you dark ones of today my dreams must come true all you dark children in the world out there remember my sweat my pain my despair remember my years heavy with sorrow and make of those years torch for tomorrow make of my pass road to the light out of the darkness the ignorance the night lift high my banner out of the dust stand like free men supporting my trust believe in the right let none push you back remember the whip and the slaver track remember how the strong in struggle and strife still bar you the way and deny you life but march ever forward breaking down bars look ever upward at the sun and the stars oh my dark children may my dreams and my prayers impel you forever up the sleep stairs for will be with you till no white brother dares keep down the children of the negro mother many on line versions have the alternate line realized the blessing denied to me by owner provided at no charge for educational purposes',\n",
              " 'poem5': 'have known rivers have known rivers ancient as the world and older than the flow of human blood in human veins my soul has grown deep like the rivers bathed in the euphrates when dawns were young built my hut near the congo and it lulled me to sleep looked upon the nile and raised the pyramids above it heard the singing of the mississippi when abe lincoln went down to new orleans and have seen its muddy bosom turn all golden in the sunset have known rivers ancient dusky rivers my soul has grown deep like the rivers http www poetryarchive org poetryarchive singlepoem do poemid recorded in langston hughes recites by owner provided at no charge for educational purposes',\n",
              " 'poem6': 'the negro with the trumpet at his lips has dark moons of weariness beneath his eyes where the smoldering memory of slave ships blazed to the crack of whips about thighs the negro with the trumpet at his lips has head of vibrant hair tamed down patent leathered now until it gleams like jet— were jet crown the music from the trumpet at his lips is honey mixed with liquid fire the rhythm from the trumpet at his lips is ecstasy distilled from old desire— desire that is longing for the moon where the moonlight but spotlight in his eyes desire that is longing for the sea where the sea bar glass sucker size the negro with the trumpet at his lips whose jacket has fine one button roll does not know upon what riff the music slips it hypodermic needle to his soul but softly as the tune comes from his throat trouble mellows to golden note by owner provided at no charge for educational purposes',\n",
              " 'poem7': 'my old man white old manand my old mother black if ever cursed my white old mani walk my curses back if ever cursed my black old motherand wished she were in hell sorry for that evil wishand now wish her wellmy old man died in fine big house my ma died in shack wonder were going to die being neither white nor black by owner provided at no charge for educational purposes',\n",
              " 'poem8': 'the rent man knocked he said how do you do said what can do for you he said you know your rent is due said listen before pay go to hades and rot away the sink is broke the water do not run and you ai not done thing you promised to have done back window cracked kitchen floor squeaks there rats in the cellar and the attic leaks he said madam it not up to me just the agent do not you see said naturally you pass the buck if it money you want you are out of luck he said madam ai not pleased said neither am so we agrees this is one of number of madam poems by langston hughes that can be considered as linked series madam and the rent man http oldpoetry com opoem madam and the census man http oldpoetry com opoem show madam and her madam http oldpoetry com opoem madam and the phone bill http oldpoetry com opoem madam’s past history http oldpoetry com opoem this one is walkn from the collected poems of langston hughes by langston hughes by the estate of langston hughes the header graphic is an illustration from the liberation news service the late by owner provided at no charge for educational purposes',\n",
              " 'poem9': 'good morning daddy ai not you heard the boogie woogie rumble of dream deferred listen closely you will hear their feet beating out and beating out you think it happy beat listen to it closely ai not you heard something underneath like what did say sure happy walk it away hey pop re bop mop hughes himself says that the book from which this comes montage of dream deferred should be viewed as complete poem in itself and not collection of short poems by owner provided at no charge for educational purposes'}"
            ]
          },
          "metadata": {},
          "execution_count": 55
        }
      ]
    },
    {
      "cell_type": "code",
      "metadata": {
        "id": "h6nrTRJ53bmm",
        "colab": {
          "base_uri": "https://localhost:8080/"
        },
        "outputId": "8ad9b427-4411-43e1-b766-d7a827593496"
      },
      "source": [
        "mary_j_oliver_swapped_to_json_file"
      ],
      "execution_count": 56,
      "outputs": [
        {
          "output_type": "execute_result",
          "data": {
            "text/plain": [
              "{'poem0': 'look the trees are turning their own bodies into pillars of light are giving off the rich fragrance of cinnamon and fulfillment the long tapers of cattails are bursting and floating away over the blue shoulders of the ponds and every pond no matter what its name is is nameless now every year everything have ever learned in my lifetime leads back to this the fires and the black river of loss whose other side is salvation whose meaning none of us will ever know to live in this world you must be able to do three things to love what is mortal to hold it against your bones knowing your own life depends on it and when the time comes to let it go to let it go by owner provided at no charge for educational purposes',\n",
              " 'poem1': 'one day you finally knew what you had to do and began though the voices around you kept shouting their bad advice though the whole house began to tremble and you felt the old tug at your ankles mend my life each voice cried but you did not stop you knew what you had to do though the wind pried with its stiff fingers at the very foundations though their melancholy was terrible it was already late enough and wild night and the road full of fallen branches and stones but little by little as you left their voice behind the stars began to burn through the sheets of clouds and there was new voice which you slowly recognized as your own that kept you company as you strode deeper and deeper into the world determined to do the only thing you could do determined to save the only life that you could save by owner provided at no charge for educational purposes',\n",
              " 'poem2': 'you do not have to be good you do not have to walk on your knees for hundred miles through the desert repenting you only have to let the soft animal of your body love what it loves tell me about despair yours and will tell you mine meanwhile the world goes on meanwhile the sun and the clear pebbles of the rain are moving across the landscapes over the prairies and the deep trees the mountains and the rivers meanwhile the wild geese high in the clean blue air are heading home again whoever you are no matter how lonely the world offers itself to your imagination calls to you like the wild geese harsh and exciting over and over announcing your place in the family of things by owner provided at no charge for educational purposes',\n",
              " 'poem3': 'how necessary it is to have opinions think the spotted trout lilies are satisfied standing few inches above the earth think serenity is not something you just find in the world like plum tree holding up its white petals the violets along the river are opening their blue faces like small dark lanterns the green mosses being so many are as good as brawny how important it is to walk along not in haste but slowly looking at everything and calling out yes no the swan for all his pomp his robes of grass and petals wants only to be allowed to live on the nameless pond the catbrier is without fault the water thrushes down among the sloppy rocks are going crazy with happiness imagination is better than sharp instrument to pay attention this is our endless and proper work by owner provided at no charge for educational purposes',\n",
              " 'poem4': 'in the afternoon watched the she bear she was looking for the secret bin of sweetness honey that the bees store in the trees’ soft caves black block of gloom she climbed down tree after tree and shuffled on through the woods and then she found it the honey house deep as heartwood and dipped into it among the swarming bees honey and comb she lipped and tongued and scooped out in her black nails until maybe she grew full or sleepy or maybe little drunk and sticky down the rugs of her arms and began to hum and sway saw her let go of the branches saw her lift her honeyed muzzle into the leaves and her thick arms as though she would fly an enormous bee all sweetness and wings down into the meadows the perfections of honeysuckle and roses and clover to float and sleep in the sheer nets swaying from flower to flower day after shining day by owner provided at no charge for educational purposes',\n",
              " 'poem5': 'next time what do is look at the earth before saying anything stop just before going into house and be an emperor for minute and listen better to the wind or to the air being still when anyone talked to me whether blame or praise or just passing time watch the face how the mouth has to work and see any strain any sign of what lifted the voice and for all know more the earth bracing itself and soaring the air finding every leaf and feather over forest and water and for every person the body glowing inside the clothes like light by owner provided at no charge for educational purposes',\n",
              " 'poem6': 'who made the world who made the swan and the black bear who made the grasshopper this grasshopper mean the one who has flung herself out of the grass the one who is eating sugar out of my hand who is moving her jaws back and forth instead of up and down who is gazing around with her enormous and complicated eyes now she lifts her pale forearms and thoroughly washes her face now she snaps her wings open and floats away do not know exactly what prayer is do know how to pay attention how to fall down into the grass how to kneel in the grass how to be idle and blessed how to stroll through the fields which is what have been doing all day tell me what else should have done does not everything die at last and too soon tell me what is it you plan to do with your one wild and precious life by owner provided at no charge for educational purposes',\n",
              " 'poem7': 'do not call this world adorable or useful that not it it frisky and theater for more than fair winds the eyelash of lightning is neither good nor evil the struck tree burns like pillar of gold but the blue rain sinks straight to the white feet of the trees whose mouths open does not the wind turning in circles invent the dance have not the flowers moved slowly across asia then europe until at last now they shine in your own yard do not call this world an explanation or even an education when the sufi poet whirled was he looking outward to the mountains so solidly there in white capped ring or was he looking to the center of everything the seed the egg the idea that was also there beautiful as thumb curved and touching the finger tenderly little love ring as he whirled oh jug of breath in the garden of dust by owner provided at no charge for educational purposes',\n",
              " 'poem8': 'go down to the edge of the sea how everything shines in the morning light the cusp of the whelk the broken cupboard of the clam the opened blue mussels moon snails pale pink and barnacle scarred— and nothing at all whole or shut but tattered split dropped by the gulls onto the gray rocks and all the moisture gone it is like schoolhouse of little words thousands of words first you figure out what each one means by itself the jingle the periwinkle the scallop full of moonlight then you begin slowly to read the whole story by owner provided at no charge for educational purposes',\n",
              " 'poem9': 'do not you imagine the leaves dream now how comfortable it will be to touch the earth instead of the nothingness of the air and the endless freshets of wind and do not you think the trees especially those with mossy hollows are beginning to look for the birds that will come—six dozen—to sleep inside their bodies and do not you hear the goldenrod whispering goodbye the everlasting being crowned with the first tuffets of snow the pond stiffens and the white field over which the fox runs so quickly brings out its long blue shadows the wind wags its many tails and in the evening the piled firewood shifts little longing to be on its way by owner provided at no charge for educational purposes'}"
            ]
          },
          "metadata": {},
          "execution_count": 56
        }
      ]
    },
    {
      "cell_type": "code",
      "metadata": {
        "id": "gsPOLhgCgKyx"
      },
      "source": [
        "with open((filepath + 'langston_hughes_swapped_to_json_file_final.json'), 'w') as outfile:\n",
        "    json.dump(langston_hughes_swapped_to_json_file, outfile)"
      ],
      "execution_count": 57,
      "outputs": []
    },
    {
      "cell_type": "code",
      "metadata": {
        "id": "weZrG3kUgMT4"
      },
      "source": [
        "with open((filepath + 'mary_j_oliver_swapped_to_json_file_final.json'), 'w') as outfile:\n",
        "    json.dump(mary_j_oliver_swapped_to_json_file, outfile)"
      ],
      "execution_count": 58,
      "outputs": []
    },
    {
      "cell_type": "code",
      "metadata": {
        "id": "_CMquzz149ft"
      },
      "source": [
        "with open((filepath + 'langston_hughes_swapped_to_txt_file_final.txt'), 'w') as outfile:\n",
        "    json.dump(langston_hughes_swapped_to_json_file, outfile)"
      ],
      "execution_count": 59,
      "outputs": []
    },
    {
      "cell_type": "code",
      "metadata": {
        "id": "xOJqbiCt4_1c"
      },
      "source": [
        "with open((filepath + 'mary_j_oliver_swapped_to_txt_file_final.txt'), 'w') as outfile:\n",
        "    json.dump(mary_j_oliver_swapped_to_json_file, outfile)"
      ],
      "execution_count": 60,
      "outputs": []
    },
    {
      "cell_type": "code",
      "metadata": {
        "id": "F7iSM93070Fq",
        "colab": {
          "base_uri": "https://localhost:8080/"
        },
        "outputId": "54c92120-1da6-49a8-c5a1-a32917a8dfbe"
      },
      "source": [
        "import pandas as pd\n",
        "import numpy as np\n",
        "import os\n",
        "import glob\n",
        "import matplotlib.pyplot as plt\n",
        "import seaborn as sns\n",
        "import re\n",
        "import string\n",
        "import wordcloud\n",
        "import nltk\n",
        "import unicodedata\n",
        "import contractions\n",
        "import pickle\n",
        "import urllib.request\n",
        "import requests\n",
        "import spacy\n",
        "import json\n",
        "%matplotlib inline\n",
        "\n",
        "from bs4 import BeautifulSoup\n",
        "from bs4.element import Comment\n",
        "from gensim.utils import simple_preprocess\n",
        "from gensim.models import CoherenceModel\n",
        "from collections import defaultdict\n",
        "from contractions import contractions_dict\n",
        "from wordcloud import WordCloud, STOPWORDS\n",
        "from transformers import pipeline\n",
        "\n",
        "from nltk.tokenize import word_tokenize\n",
        "from nltk.stem.wordnet import WordNetLemmatizer\n",
        "from nltk.tokenize.toktok import ToktokTokenizer\n",
        "from nltk.stem.porter import PorterStemmer\n",
        "from sentence_transformers import SentenceTransformer, util\n",
        "from gensim.corpora import Dictionary\n",
        "from gensim.models.ldamodel import LdaModel\n",
        "from spacy import displacy\n",
        "\n",
        "from sklearn.feature_extraction.text import TfidfVectorizer\n",
        "from sklearn.preprocessing import MinMaxScaler\n",
        "from sklearn.preprocessing import StandardScaler\n",
        "from sklearn.naive_bayes import MultinomialNB\n",
        "from sklearn.linear_model import LogisticRegression\n",
        "from sklearn.naive_bayes import GaussianNB\n",
        "from sklearn.ensemble import RandomForestClassifier\n",
        "from sklearn.svm import LinearSVC\n",
        "from sklearn.model_selection import train_test_split\n",
        "from sklearn.metrics import classification_report, confusion_matrix, accuracy_score\n",
        "from sklearn.model_selection import cross_val_score\n",
        "\n",
        "nltk.download('stopwords')\n",
        "nltk.download('averaged_perceptron_tagger')\n",
        "nltk.download('universal_tagset')\n",
        "nltk.download('wordnet')\n",
        "nltk.download('punkt')\n",
        "\n",
        "os.environ[\"CUDA_VISIBLE_DEVICES\"] = \"0\"\n",
        "\n",
        "from contractions import contractions_dict\n",
        "from scipy import stats\n",
        "from scipy import sparse\n",
        "\n",
        "import pyLDAvis\n",
        "\n",
        "# Visualize the topics\n",
        "pyLDAvis.enable_notebook()\n",
        "\n",
        "tokenizer = ToktokTokenizer()\n",
        "stopword_list = nltk.corpus.stopwords.words('english')\n",
        "scaler = MinMaxScaler()\n",
        "std_scaler = StandardScaler()\n",
        "stops = set(stopword_list)\n",
        "stemmer = nltk.stem.SnowballStemmer('english')\n",
        "wordlemmatizer = WordNetLemmatizer()\n",
        "tokenizer = nltk.word_tokenize"
      ],
      "execution_count": 61,
      "outputs": [
        {
          "output_type": "stream",
          "name": "stdout",
          "text": [
            "[nltk_data] Downloading package stopwords to /root/nltk_data...\n",
            "[nltk_data]   Package stopwords is already up-to-date!\n",
            "[nltk_data] Downloading package averaged_perceptron_tagger to\n",
            "[nltk_data]     /root/nltk_data...\n",
            "[nltk_data]   Package averaged_perceptron_tagger is already up-to-\n",
            "[nltk_data]       date!\n",
            "[nltk_data] Downloading package universal_tagset to /root/nltk_data...\n",
            "[nltk_data]   Package universal_tagset is already up-to-date!\n",
            "[nltk_data] Downloading package wordnet to /root/nltk_data...\n",
            "[nltk_data]   Package wordnet is already up-to-date!\n",
            "[nltk_data] Downloading package punkt to /root/nltk_data...\n",
            "[nltk_data]   Package punkt is already up-to-date!\n"
          ]
        }
      ]
    },
    {
      "cell_type": "code",
      "metadata": {
        "id": "BGEq0zlZ7IQG"
      },
      "source": [
        "import re\n",
        "import numpy as np\n",
        "import pandas as pd\n",
        "from pprint import pprint\n",
        "\n",
        "# Gensim\n",
        "import gensim\n",
        "import gensim.corpora as corpora\n",
        "from gensim.utils import simple_preprocess\n",
        "from gensim.models import CoherenceModel\n",
        "\n",
        "# spacy for lemmatization\n",
        "import spacy\n",
        "\n",
        "# Plotting tools\n",
        "import pyLDAvis\n",
        "import matplotlib.pyplot as plt\n",
        "%matplotlib inline\n",
        "\n",
        "# Enable logging for gensim - optional\n",
        "import logging\n",
        "logging.basicConfig(format='%(asctime)s : %(levelname)s : %(message)s', level=logging.ERROR)\n",
        "\n",
        "import warnings\n",
        "warnings.filterwarnings(\"ignore\",category=DeprecationWarning)\n"
      ],
      "execution_count": 62,
      "outputs": []
    },
    {
      "cell_type": "code",
      "metadata": {
        "id": "eLNMBbrC9LCG",
        "colab": {
          "base_uri": "https://localhost:8080/"
        },
        "outputId": "a6ea8924-ddaf-45d2-b9df-6d9448de8bed"
      },
      "source": [
        "langston_hughes_choherence_input = langston_hughes.copy()\n",
        "langston_hughes_choherence_input.pop('poems_array')\n",
        "langston_hughes_choherence_input"
      ],
      "execution_count": 63,
      "outputs": [
        {
          "output_type": "execute_result",
          "data": {
            "text/plain": [
              "{'poem0': 'well son will tell you life for me ai not been no crystal stair it had tacks in it and splinters and boards torn up and places with no carpet on the floor— bare but all the time se been climbin on and reachin landin and turnin corners and sometimes goin in the dark where there ai not been no light so boy do not you turn back do not you set down on the steps because you finds it kinder hard do not you fall now— for se still goin honey se still climbin and life for me ai not been no crystal stair by owner provided at no charge for educational purposes',\n",
              " 'poem1': 'landlord landlord my roof has sprung leak do not you member told you about it way last week landlord landlord these steps is broken down when you come up yourself it wonder you do not fall down ten bucks you say owe you ten bucks you say is due well that ten bucks more pay you till you fix this house up new what you going to get eviction orders you going to cut off my heat you going to take my furniture and throw it in the street um huh you talking high and mighty talk on till you get through you ai not going to be able to say word if land my fist on you police police come and get this man he trying to ruin the government and overturn the land copper whistle patrol bell arrest precinct station iron cell headlines in press man threatens landlord tenant held no bail judge gives negro days in county jail from the langston hughes reader this poem by langston hughes grew out of conditions in new york city’s harlem in the ’s in graphic terms it describes the escalation of anger and frustration that tenants experienced trying to get landlords to make basic repairs it is structured like an old time blues song until the final verse where the rhythm changes charley noble by owner provided at no charge for educational purposes',\n",
              " 'poem2': 'too sing america am the darker brother they send me to eat in the kitchen when company comes but laugh and eat well and grow strong tomorrow will be at the table when company comes nobody will dare say to me eat in the kitchen then besides they will see how beautiful am and be ashamed— too am america http www poetryarchive org poetryarchive singlepoem do poemid listen to langston hughes read this poem recorded in by owner provided at no charge for educational purposes',\n",
              " 'poem3': 'it was long time ago have almost forgotten my dream but it was there then in front of me bright like sun— my dream and then the wall rose rose slowly slowly between me and my dream rose until it touched the sky— the wall shadow am black lie down in the shadow no longer the light of my dream before me above me only the thick wall only the shadow my hands my dark hands break through the wall find my dream help me to shatter this darkness to smash this night to break this shadow into thousand lights of sun into thousand whirling dreams of sun by owner provided at no charge for educational purposes',\n",
              " 'poem4': 'children come back today to tell you story of the long dark way that had to climb that had to know in order that the race might live and grow look at my face dark as the night yet shining like the sun with love true light am the child they stole from the sand three hundred years ago in africa land am the dark girl who crossed the wide sea carrying in my body the seed of the free am the woman who worked in the field bringing the cotton and the corn to yield am the one who labored as slave beaten and mistreated for the work gave children sold away from me husband sold too no safety no love no respect was due three hundred years in the deepest south but god put song and prayer in my mouth god put dream like steel in my soul now through my children reaching the goal now through my children young and free realize the blessings deed to me could not read then could not write had nothing back there in the night sometimes the valley was filled with tears but kept trudging on through the lonely years sometimes the road was hot with the sun but had to keep on till my work was done had to keep on no stopping for me was the seed of the coming free nourished the dream that nothing could smother deep in my breast the negro mother had only hope then but now through you dark ones of today my dreams must come true all you dark children in the world out there remember my sweat my pain my despair remember my years heavy with sorrow and make of those years torch for tomorrow make of my pass road to the light out of the darkness the ignorance the night lift high my banner out of the dust stand like free men supporting my trust believe in the right let none push you back remember the whip and the slaver track remember how the strong in struggle and strife still bar you the way and deny you life but march ever forward breaking down bars look ever upward at the sun and the stars oh my dark children may my dreams and my prayers impel you forever up the great stairs for will be with you till no white brother dares keep down the children of the negro mother many on line versions have the alternate line realized the blessing denied to me by owner provided at no charge for educational purposes',\n",
              " 'poem5': 'have known rivers have known rivers ancient as the world and older than the flow of human blood in human veins my soul has grown deep like the rivers bathed in the euphrates when dawns were young built my hut near the congo and it lulled me to sleep looked upon the nile and raised the pyramids above it heard the singing of the mississippi when abe lincoln went down to new orleans and have seen its muddy bosom turn all golden in the sunset have known rivers ancient dusky rivers my soul has grown deep like the rivers http www poetryarchive org poetryarchive singlepoem do poemid recorded in langston hughes recites by owner provided at no charge for educational purposes',\n",
              " 'poem6': 'the negro with the trumpet at his lips has dark moons of weariness beneath his eyes where the smoldering memory of slave ships blazed to the crack of whips about thighs the negro with the trumpet at his lips has head of vibrant hair tamed down patent leathered now until it gleams like jet— were jet crown the music from the trumpet at his lips is honey mixed with liquid fire the rhythm from the trumpet at his lips is ecstasy distilled from old desire— desire that is longing for the moon where the moonlight but spotlight in his eyes desire that is longing for the sea where the sea bar glass sucker size the negro with the trumpet at his lips whose jacket has fine one button roll does not know upon what riff the music slips it hypodermic needle to his soul but softly as the tune comes from his throat trouble mellows to golden note by owner provided at no charge for educational purposes',\n",
              " 'poem7': 'my old man white old manand my old mother black if ever cursed my white old mani take my curses back if ever cursed my black old motherand wished she were in hell sorry for that evil wishand now wish her wellmy old man died in fine big house my ma died in shack wonder were going to die being neither white nor black by owner provided at no charge for educational purposes',\n",
              " 'poem8': 'the rent man knocked he said how do you do said what can do for you he said you know your rent is due said listen before pay go to hades and rot away the sink is broke the water do not run and you ai not done thing you promised to have done back window cracked kitchen floor squeaks there rats in the cellar and the attic leaks he said madam it not up to me just the agent do not you see said naturally you pass the buck if it money you want you are out of luck he said madam ai not pleased said neither am so we agrees this is one of number of madam poems by langston hughes that can be considered as linked series madam and the rent man http oldpoetry com opoem madam and the census man http oldpoetry com opoem show madam and her madam http oldpoetry com opoem madam and the phone bill http oldpoetry com opoem madam’s past history http oldpoetry com opoem this one is taken from the collected poems of langston hughes by langston hughes by the estate of langston hughes the header graphic is an illustration from the liberation news service the late by owner provided at no charge for educational purposes',\n",
              " 'poem9': 'good morning daddy ai not you heard the boogie woogie rumble of dream deferred listen closely you will hear their feet beating out and beating out you think it happy beat listen to it closely ai not you heard something underneath like what did say sure happy take it away hey pop re bop mop hughes himself says that the book from which this comes montage of dream deferred should be viewed as complete poem in itself and not collection of short poems by owner provided at no charge for educational purposes'}"
            ]
          },
          "metadata": {},
          "execution_count": 63
        }
      ]
    },
    {
      "cell_type": "code",
      "metadata": {
        "id": "30zPEt_sXO9a",
        "colab": {
          "base_uri": "https://localhost:8080/"
        },
        "outputId": "fee7db69-c279-4d31-9f41-626f077c9467"
      },
      "source": [
        "swapped_langston_hughes_choherence_input = langston_hughes_swapped.copy()\n",
        "swapped_langston_hughes_choherence_input.pop('poems_swapped_array')\n",
        "swapped_langston_hughes_choherence_input"
      ],
      "execution_count": 64,
      "outputs": [
        {
          "output_type": "execute_result",
          "data": {
            "text/plain": [
              "{'poem0': 'well son will tell you life for me ai not been no crystal stair it had tacks in it and splinters and boards torn up and places with no carpet on the floor— bare but all the time se been climbin on and reachin landin and turnin corners and sometimes goin in the dark where there ai not been no light so boy do not you turn back do not you set down on the steps because you finds it kinder hard do not you fall now— for se still goin honey se still climbin and life for me ai not been no crystal stair by owner provided at no charge for educational purposes',\n",
              " 'poem1': 'landlord landlord my roof has sprung leak do not you member told you about it way last week landlord landlord these steps is broken down when you come up yourself it wonder you do not fall down ten bucks you say owe you ten bucks you say is due well that ten bucks more pay you till you fix this house up new what you going to get eviction orders you going to cut off my heat you going to walk my furniture and throw it in the street um huh you talking high and mighty talk on till you get through you ai not going to be able to say word if land my fist on you police police come and get this man he trying to ruin the government and overturn the land copper whistle patrol bell arrest precinct station iron cell headlines in press man threatens landlord tenant held no bail judge gives negro days in county jail from the langston hughes reader this poem by langston hughes grew out of conditions in new york city’s harlem in the ’s in graphic terms it describes the escalation of anger and frustration that tenants experienced trying to get landlords to make basic repairs it is structured like an old time blues song until the final verse where the rhythm changes charley noble by owner provided at no charge for educational purposes',\n",
              " 'poem10': \"['poem0', 'poem1', 'poem2', 'poem3', 'poem4', 'poem5', 'poem6', 'poem7', 'poem8', 'poem9']\",\n",
              " 'poem2': 'too sing america am the darker brother they send me to eat in the kitchen when company comes but laugh and eat well and grow strong tomorrow will be at the table when company comes nobody will dare say to me eat in the kitchen then besides they will see how beautiful am and be ashamed— too am america http www poetryarchive org poetryarchive singlepoem do poemid listen to langston hughes read this poem recorded in by owner provided at no charge for educational purposes',\n",
              " 'poem3': 'it was long time ago have almost forgotten my dream but it was there then in front of me bright like sun— my dream and then the wall rose rose slowly slowly between me and my dream rose until it touched the sky— the wall shadow am black lie down in the shadow no longer the light of my dream before me above me only the thick wall only the shadow my hands my dark hands break through the wall find my dream gone me to shatter this darkness to smash this night to break this shadow into thousand lights of sun into thousand whirling dreams of sun by owner provided at no charge for educational purposes',\n",
              " 'poem4': 'children come back today to tell you story of the long dark way that had to climb that had to know in order that the race might live and grow look at my face dark as the night yet shining like the sun with love true light am the child they stole from the sand three hundred years ago in africa land am the dark girl who crossed the wide sea carrying in my body the seed of the free am the woman who worked in the field bringing the cotton and the corn to yield am the one who labored as slave beaten and mistreated for the work gave children sold away from me husband sold too no safety no love no respect was due three hundred years in the deepest south but god put song and prayer in my mouth god put dream like steel in my soul now through my children reaching the goal now through my children young and free realize the blessings deed to me could not read then could not write had nothing back there in the night sometimes the valley was filled with tears but kept trudging on through the lonely years sometimes the road was hot with the sun but had to keep on till my work was done had to keep on no stopping for me was the seed of the coming free nourished the dream that nothing could smother deep in my breast the negro mother had only hope then but now through you dark ones of today my dreams must come true all you dark children in the world out there remember my sweat my pain my despair remember my years heavy with sorrow and make of those years torch for tomorrow make of my pass road to the light out of the darkness the ignorance the night lift high my banner out of the dust stand like free men supporting my trust believe in the right let none push you back remember the whip and the slaver track remember how the strong in struggle and strife still bar you the way and deny you life but march ever forward breaking down bars look ever upward at the sun and the stars oh my dark children may my dreams and my prayers impel you forever up the sleep stairs for will be with you till no white brother dares keep down the children of the negro mother many on line versions have the alternate line realized the blessing denied to me by owner provided at no charge for educational purposes',\n",
              " 'poem5': 'have known rivers have known rivers ancient as the world and older than the flow of human blood in human veins my soul has grown deep like the rivers bathed in the euphrates when dawns were young built my hut near the congo and it lulled me to sleep looked upon the nile and raised the pyramids above it heard the singing of the mississippi when abe lincoln went down to new orleans and have seen its muddy bosom turn all golden in the sunset have known rivers ancient dusky rivers my soul has grown deep like the rivers http www poetryarchive org poetryarchive singlepoem do poemid recorded in langston hughes recites by owner provided at no charge for educational purposes',\n",
              " 'poem6': 'the negro with the trumpet at his lips has dark moons of weariness beneath his eyes where the smoldering memory of slave ships blazed to the crack of whips about thighs the negro with the trumpet at his lips has head of vibrant hair tamed down patent leathered now until it gleams like jet— were jet crown the music from the trumpet at his lips is honey mixed with liquid fire the rhythm from the trumpet at his lips is ecstasy distilled from old desire— desire that is longing for the moon where the moonlight but spotlight in his eyes desire that is longing for the sea where the sea bar glass sucker size the negro with the trumpet at his lips whose jacket has fine one button roll does not know upon what riff the music slips it hypodermic needle to his soul but softly as the tune comes from his throat trouble mellows to golden note by owner provided at no charge for educational purposes',\n",
              " 'poem7': 'my old man white old manand my old mother black if ever cursed my white old mani walk my curses back if ever cursed my black old motherand wished she were in hell sorry for that evil wishand now wish her wellmy old man died in fine big house my ma died in shack wonder were going to die being neither white nor black by owner provided at no charge for educational purposes',\n",
              " 'poem8': 'the rent man knocked he said how do you do said what can do for you he said you know your rent is due said listen before pay go to hades and rot away the sink is broke the water do not run and you ai not done thing you promised to have done back window cracked kitchen floor squeaks there rats in the cellar and the attic leaks he said madam it not up to me just the agent do not you see said naturally you pass the buck if it money you want you are out of luck he said madam ai not pleased said neither am so we agrees this is one of number of madam poems by langston hughes that can be considered as linked series madam and the rent man http oldpoetry com opoem madam and the census man http oldpoetry com opoem show madam and her madam http oldpoetry com opoem madam and the phone bill http oldpoetry com opoem madam’s past history http oldpoetry com opoem this one is walkn from the collected poems of langston hughes by langston hughes by the estate of langston hughes the header graphic is an illustration from the liberation news service the late by owner provided at no charge for educational purposes',\n",
              " 'poem9': 'good morning daddy ai not you heard the boogie woogie rumble of dream deferred listen closely you will hear their feet beating out and beating out you think it happy beat listen to it closely ai not you heard something underneath like what did say sure happy walk it away hey pop re bop mop hughes himself says that the book from which this comes montage of dream deferred should be viewed as complete poem in itself and not collection of short poems by owner provided at no charge for educational purposes'}"
            ]
          },
          "metadata": {},
          "execution_count": 64
        }
      ]
    },
    {
      "cell_type": "code",
      "metadata": {
        "id": "KHbkQ1Qd9OW-",
        "colab": {
          "base_uri": "https://localhost:8080/"
        },
        "outputId": "262faf1f-fa00-4806-dfc3-de0c7e3889b9"
      },
      "source": [
        "coherence_perplexity_calculator = mary_j_oliver.copy()\n",
        "coherence_perplexity_calculator.pop('poems_array')\n",
        "coherence_perplexity_calculator"
      ],
      "execution_count": 65,
      "outputs": [
        {
          "output_type": "execute_result",
          "data": {
            "text/plain": [
              "{'poem0': 'look the trees are turning their own bodies into pillars of light are giving off the rich fragrance of cinnamon and fulfillment the long tapers of cattails are bursting and floating away over the blue shoulders of the ponds and every pond no matter what its name is is nameless now every year everything have ever learned in my lifetime leads back to this the fires and the black river of loss whose other side is salvation whose meaning none of us will ever know to live in this world you must be able to do three things to love what is mortal to hold it against your bones knowing your own life depends on it and when the time comes to let it go to let it go by owner provided at no charge for educational purposes',\n",
              " 'poem1': 'one day you finally knew what you had to do and began though the voices around you kept shouting their bad advice though the whole house began to tremble and you felt the old tug at your ankles mend my life each voice cried but you did not stop you knew what you had to do though the wind pried with its stiff fingers at the very foundations though their melancholy was terrible it was already late enough and wild night and the road full of fallen branches and stones but little by little as you left their voice behind the stars began to burn through the sheets of clouds and there was new voice which you slowly recognized as your own that kept you company as you strode deeper and deeper into the world determined to do the only thing you could do determined to save the only life that you could save by owner provided at no charge for educational purposes',\n",
              " 'poem2': 'you do not have to be good you do not have to walk on your knees for hundred miles through the desert repenting you only have to let the soft animal of your body love what it loves tell me about despair yours and will tell you mine meanwhile the world goes on meanwhile the sun and the clear pebbles of the rain are moving across the landscapes over the prairies and the deep trees the mountains and the rivers meanwhile the wild geese high in the clean blue air are heading home again whoever you are no matter how lonely the world offers itself to your imagination calls to you like the wild geese harsh and exciting over and over announcing your place in the family of things by owner provided at no charge for educational purposes',\n",
              " 'poem3': 'how necessary it is to have opinions think the spotted trout lilies are satisfied standing few inches above the earth think serenity is not something you just find in the world like plum tree holding up its white petals the violets along the river are opening their blue faces like small dark lanterns the green mosses being so many are as good as brawny how important it is to walk along not in haste but slowly looking at everything and calling out yes no the swan for all his pomp his robes of grass and petals wants only to be allowed to live on the nameless pond the catbrier is without fault the water thrushes down among the sloppy rocks are going crazy with happiness imagination is better than sharp instrument to pay attention this is our endless and proper work by owner provided at no charge for educational purposes',\n",
              " 'poem4': 'in the afternoon watched the she bear she was looking for the secret bin of sweetness honey that the bees store in the trees’ soft caves black block of gloom she climbed down tree after tree and shuffled on through the woods and then she found it the honey house deep as heartwood and dipped into it among the swarming bees honey and comb she lipped and tongued and scooped out in her black nails until maybe she grew full or sleepy or maybe little drunk and sticky down the rugs of her arms and began to hum and sway saw her let go of the branches saw her lift her honeyed muzzle into the leaves and her thick arms as though she would fly an enormous bee all sweetness and wings down into the meadows the perfections of honeysuckle and roses and clover to float and sleep in the sheer nets swaying from flower to flower day after shining day by owner provided at no charge for educational purposes',\n",
              " 'poem5': 'next time what do is look at the earth before saying anything stop just before going into house and be an emperor for minute and listen better to the wind or to the air being still when anyone talked to me whether blame or praise or just passing time watch the face how the mouth has to work and see any strain any sign of what lifted the voice and for all know more the earth bracing itself and soaring the air finding every leaf and feather over forest and water and for every person the body glowing inside the clothes like light by owner provided at no charge for educational purposes',\n",
              " 'poem6': 'who made the world who made the swan and the black bear who made the grasshopper this grasshopper mean the one who has flung herself out of the grass the one who is eating sugar out of my hand who is moving her jaws back and forth instead of up and down who is gazing around with her enormous and complicated eyes now she lifts her pale forearms and thoroughly washes her face now she snaps her wings open and floats away do not know exactly what prayer is do know how to pay attention how to fall down into the grass how to kneel in the grass how to be idle and blessed how to stroll through the fields which is what have been doing all day tell me what else should have done does not everything die at last and too soon tell me what is it you plan to do with your one wild and precious life by owner provided at no charge for educational purposes',\n",
              " 'poem7': 'do not call this world adorable or useful that not it it frisky and theater for more than fair winds the eyelash of lightning is neither good nor evil the struck tree burns like pillar of gold but the blue rain sinks straight to the white feet of the trees whose mouths open does not the wind turning in circles invent the dance have not the flowers moved slowly across asia then europe until at last now they shine in your own yard do not call this world an explanation or even an education when the sufi poet whirled was he looking outward to the mountains so solidly there in white capped ring or was he looking to the center of everything the seed the egg the idea that was also there beautiful as thumb curved and touching the finger tenderly little love ring as he whirled oh jug of breath in the garden of dust by owner provided at no charge for educational purposes',\n",
              " 'poem8': 'go down to the edge of the sea how everything shines in the morning light the cusp of the whelk the broken cupboard of the clam the opened blue mussels moon snails pale pink and barnacle scarred— and nothing at all whole or shut but tattered split dropped by the gulls onto the gray rocks and all the moisture gone it is like schoolhouse of little words thousands of words first you figure out what each one means by itself the jingle the periwinkle the scallop full of moonlight then you begin slowly to read the whole story by owner provided at no charge for educational purposes',\n",
              " 'poem9': 'do not you imagine the leaves dream now how comfortable it will be to touch the earth instead of the nothingness of the air and the endless freshets of wind and do not you think the trees especially those with mossy hollows are beginning to look for the birds that will come—six dozen—to sleep inside their bodies and do not you hear the goldenrod whispering goodbye the everlasting being crowned with the first tuffets of snow the pond stiffens and the white field over which the fox runs so quickly brings out its long blue shadows the wind wags its many tails and in the evening the piled firewood shifts little longing to be on its way by owner provided at no charge for educational purposes'}"
            ]
          },
          "metadata": {},
          "execution_count": 65
        }
      ]
    },
    {
      "cell_type": "code",
      "metadata": {
        "id": "gF0b2-5qXZPZ",
        "colab": {
          "base_uri": "https://localhost:8080/"
        },
        "outputId": "7fff37cc-1761-4445-fd71-ba00ee6939a3"
      },
      "source": [
        "swapped_coherence_perplexity_calculator = mary_j_oliver_swapped.copy()\n",
        "swapped_coherence_perplexity_calculator.pop('poems_swapped_array')\n",
        "swapped_coherence_perplexity_calculator"
      ],
      "execution_count": 66,
      "outputs": [
        {
          "output_type": "execute_result",
          "data": {
            "text/plain": [
              "{'poem0': 'look the trees are turning their own bodies into pillars of light are giving off the rich fragrance of cinnamon and fulfillment the long tapers of cattails are bursting and floating away over the blue shoulders of the ponds and every pond no matter what its name is is nameless now every year everything have ever learned in my lifetime leads back to this the fires and the black river of loss whose other side is salvation whose meaning none of us will ever know to live in this world you must be able to do three things to love what is mortal to hold it against your bones knowing your own life depends on it and when the time comes to let it go to let it go by owner provided at no charge for educational purposes',\n",
              " 'poem1': 'one day you finally knew what you had to do and began though the voices around you kept shouting their bad advice though the whole house began to tremble and you felt the old tug at your ankles mend my life each voice cried but you did not stop you knew what you had to do though the wind pried with its stiff fingers at the very foundations though their melancholy was terrible it was already late enough and wild night and the road full of fallen branches and stones but little by little as you left their voice behind the stars began to burn through the sheets of clouds and there was new voice which you slowly recognized as your own that kept you company as you strode deeper and deeper into the world determined to do the only thing you could do determined to save the only life that you could save by owner provided at no charge for educational purposes',\n",
              " 'poem10': \"['poem0', 'poem1', 'poem2', 'poem3', 'poem4', 'poem5', 'poem6', 'poem7', 'poem8', 'poem9']\",\n",
              " 'poem2': 'you do not have to be good you do not have to walk on your knees for hundred miles through the desert repenting you only have to let the soft animal of your body love what it loves tell me about despair yours and will tell you mine meanwhile the world goes on meanwhile the sun and the clear pebbles of the rain are moving across the landscapes over the prairies and the deep trees the mountains and the rivers meanwhile the wild geese high in the clean blue air are heading home again whoever you are no matter how lonely the world offers itself to your imagination calls to you like the wild geese harsh and exciting over and over announcing your place in the family of things by owner provided at no charge for educational purposes',\n",
              " 'poem3': 'how necessary it is to have opinions think the spotted trout lilies are satisfied standing few inches above the earth think serenity is not something you just find in the world like plum tree holding up its white petals the violets along the river are opening their blue faces like small dark lanterns the green mosses being so many are as good as brawny how important it is to walk along not in haste but slowly looking at everything and calling out yes no the swan for all his pomp his robes of grass and petals wants only to be allowed to live on the nameless pond the catbrier is without fault the water thrushes down among the sloppy rocks are going crazy with happiness imagination is better than sharp instrument to pay attention this is our endless and proper work by owner provided at no charge for educational purposes',\n",
              " 'poem4': 'in the afternoon watched the she bear she was looking for the secret bin of sweetness honey that the bees store in the trees’ soft caves black block of gloom she climbed down tree after tree and shuffled on through the woods and then she found it the honey house deep as heartwood and dipped into it among the swarming bees honey and comb she lipped and tongued and scooped out in her black nails until maybe she grew full or sleepy or maybe little drunk and sticky down the rugs of her arms and began to hum and sway saw her let go of the branches saw her lift her honeyed muzzle into the leaves and her thick arms as though she would fly an enormous bee all sweetness and wings down into the meadows the perfections of honeysuckle and roses and clover to float and sleep in the sheer nets swaying from flower to flower day after shining day by owner provided at no charge for educational purposes',\n",
              " 'poem5': 'next time what do is look at the earth before saying anything stop just before going into house and be an emperor for minute and listen better to the wind or to the air being still when anyone talked to me whether blame or praise or just passing time watch the face how the mouth has to work and see any strain any sign of what lifted the voice and for all know more the earth bracing itself and soaring the air finding every leaf and feather over forest and water and for every person the body glowing inside the clothes like light by owner provided at no charge for educational purposes',\n",
              " 'poem6': 'who made the world who made the swan and the black bear who made the grasshopper this grasshopper mean the one who has flung herself out of the grass the one who is eating sugar out of my hand who is moving her jaws back and forth instead of up and down who is gazing around with her enormous and complicated eyes now she lifts her pale forearms and thoroughly washes her face now she snaps her wings open and floats away do not know exactly what prayer is do know how to pay attention how to fall down into the grass how to kneel in the grass how to be idle and blessed how to stroll through the fields which is what have been doing all day tell me what else should have done does not everything die at last and too soon tell me what is it you plan to do with your one wild and precious life by owner provided at no charge for educational purposes',\n",
              " 'poem7': 'do not call this world adorable or useful that not it it frisky and theater for more than fair winds the eyelash of lightning is neither good nor evil the struck tree burns like pillar of gold but the blue rain sinks straight to the white feet of the trees whose mouths open does not the wind turning in circles invent the dance have not the flowers moved slowly across asia then europe until at last now they shine in your own yard do not call this world an explanation or even an education when the sufi poet whirled was he looking outward to the mountains so solidly there in white capped ring or was he looking to the center of everything the seed the egg the idea that was also there beautiful as thumb curved and touching the finger tenderly little love ring as he whirled oh jug of breath in the garden of dust by owner provided at no charge for educational purposes',\n",
              " 'poem8': 'go down to the edge of the sea how everything shines in the morning light the cusp of the whelk the broken cupboard of the clam the opened blue mussels moon snails pale pink and barnacle scarred— and nothing at all whole or shut but tattered split dropped by the gulls onto the gray rocks and all the moisture gone it is like schoolhouse of little words thousands of words first you figure out what each one means by itself the jingle the periwinkle the scallop full of moonlight then you begin slowly to read the whole story by owner provided at no charge for educational purposes',\n",
              " 'poem9': 'do not you imagine the leaves dream now how comfortable it will be to touch the earth instead of the nothingness of the air and the endless freshets of wind and do not you think the trees especially those with mossy hollows are beginning to look for the birds that will come—six dozen—to sleep inside their bodies and do not you hear the goldenrod whispering goodbye the everlasting being crowned with the first tuffets of snow the pond stiffens and the white field over which the fox runs so quickly brings out its long blue shadows the wind wags its many tails and in the evening the piled firewood shifts little longing to be on its way by owner provided at no charge for educational purposes'}"
            ]
          },
          "metadata": {},
          "execution_count": 66
        }
      ]
    },
    {
      "cell_type": "code",
      "source": [
        "!pip install -upgrade gensim"
      ],
      "metadata": {
        "id": "Ruah_uokk8Jd",
        "colab": {
          "base_uri": "https://localhost:8080/"
        },
        "outputId": "1744a7d8-cefd-4bc1-9b90-9d7e61598564"
      },
      "execution_count": 67,
      "outputs": [
        {
          "output_type": "stream",
          "name": "stdout",
          "text": [
            "\n",
            "Usage:   \n",
            "  pip3 install [options] <requirement specifier> [package-index-options] ...\n",
            "  pip3 install [options] -r <requirements file> [package-index-options] ...\n",
            "  pip3 install [options] [-e] <vcs project url> ...\n",
            "  pip3 install [options] [-e] <local project path> ...\n",
            "  pip3 install [options] <archive url/path> ...\n",
            "\n",
            "no such option: -u\n"
          ]
        }
      ]
    },
    {
      "cell_type": "code",
      "source": [
        "!pip install pyLDAvis"
      ],
      "metadata": {
        "id": "AuOSJDAVs_ry",
        "colab": {
          "base_uri": "https://localhost:8080/"
        },
        "outputId": "0ad5f3fd-ea38-4ca3-c28d-66215906177a"
      },
      "execution_count": 68,
      "outputs": [
        {
          "output_type": "stream",
          "name": "stdout",
          "text": [
            "Requirement already satisfied: pyLDAvis in /usr/local/lib/python3.7/dist-packages (3.3.1)\n",
            "Requirement already satisfied: joblib in /usr/local/lib/python3.7/dist-packages (from pyLDAvis) (1.0.1)\n",
            "Requirement already satisfied: future in /usr/local/lib/python3.7/dist-packages (from pyLDAvis) (0.16.0)\n",
            "Requirement already satisfied: scikit-learn in /usr/local/lib/python3.7/dist-packages (from pyLDAvis) (1.0.2)\n",
            "Requirement already satisfied: pandas>=1.2.0 in /usr/local/lib/python3.7/dist-packages (from pyLDAvis) (1.3.5)\n",
            "Requirement already satisfied: jinja2 in /usr/local/lib/python3.7/dist-packages (from pyLDAvis) (2.11.3)\n",
            "Requirement already satisfied: sklearn in /usr/local/lib/python3.7/dist-packages (from pyLDAvis) (0.0)\n",
            "Requirement already satisfied: scipy in /usr/local/lib/python3.7/dist-packages (from pyLDAvis) (1.7.3)\n",
            "Requirement already satisfied: numexpr in /usr/local/lib/python3.7/dist-packages (from pyLDAvis) (2.8.1)\n",
            "Requirement already satisfied: funcy in /usr/local/lib/python3.7/dist-packages (from pyLDAvis) (1.17)\n",
            "Requirement already satisfied: numpy>=1.20.0 in /usr/local/lib/python3.7/dist-packages (from pyLDAvis) (1.21.6)\n",
            "Requirement already satisfied: gensim in /usr/local/lib/python3.7/dist-packages (from pyLDAvis) (3.6.0)\n",
            "Requirement already satisfied: setuptools in /usr/local/lib/python3.7/dist-packages (from pyLDAvis) (57.4.0)\n",
            "Requirement already satisfied: pytz>=2017.3 in /usr/local/lib/python3.7/dist-packages (from pandas>=1.2.0->pyLDAvis) (2022.1)\n",
            "Requirement already satisfied: python-dateutil>=2.7.3 in /usr/local/lib/python3.7/dist-packages (from pandas>=1.2.0->pyLDAvis) (2.8.2)\n",
            "Requirement already satisfied: six>=1.5 in /usr/local/lib/python3.7/dist-packages (from python-dateutil>=2.7.3->pandas>=1.2.0->pyLDAvis) (1.15.0)\n",
            "Requirement already satisfied: smart-open>=1.2.1 in /usr/local/lib/python3.7/dist-packages (from gensim->pyLDAvis) (5.2.1)\n",
            "Requirement already satisfied: MarkupSafe>=0.23 in /usr/local/lib/python3.7/dist-packages (from jinja2->pyLDAvis) (2.0.1)\n",
            "Requirement already satisfied: packaging in /usr/local/lib/python3.7/dist-packages (from numexpr->pyLDAvis) (21.3)\n",
            "Requirement already satisfied: pyparsing!=3.0.5,>=2.0.2 in /usr/local/lib/python3.7/dist-packages (from packaging->numexpr->pyLDAvis) (3.0.8)\n",
            "Requirement already satisfied: threadpoolctl>=2.0.0 in /usr/local/lib/python3.7/dist-packages (from scikit-learn->pyLDAvis) (3.1.0)\n"
          ]
        }
      ]
    },
    {
      "cell_type": "markdown",
      "source": [
        "# Run Topic Modelling on combined text"
      ],
      "metadata": {
        "id": "elmrguk-QUf2"
      }
    },
    {
      "cell_type": "code",
      "metadata": {
        "id": "tirZLm5zSWD6"
      },
      "source": [
        "import pyLDAvis\n",
        "import pyLDAvis.gensim_models as gensimvis\n",
        "def choherence_perplexity_calculator(poem_list):\n",
        "  def sent_to_words(sentences):\n",
        "      for sentence in sentences:\n",
        "          yield(gensim.utils.simple_preprocess(str(sentence), deacc=True))  # deacc=True removes punctuations\n",
        "\n",
        "  data_words = list(sent_to_words(poem_list))\n",
        "\n",
        "  print(data_words[:1])\n",
        "  # Build the bigram and trigram models\n",
        "  bigram = gensim.models.Phrases(data_words, min_count=5, threshold=100) # higher threshold fewer phrases.\n",
        "  trigram = gensim.models.Phrases(bigram[data_words], threshold=100)  \n",
        "\n",
        "  # Faster way to get a sentence clubbed as a trigram/bigram\n",
        "  bigram_mod = gensim.models.phrases.Phraser(bigram)\n",
        "  trigram_mod = gensim.models.phrases.Phraser(trigram)\n",
        "\n",
        "  # See trigram example\n",
        "  print(trigram_mod[bigram_mod[data_words[0]]])\n",
        "  # Define functions for stopwords, bigrams, trigrams and lemmatization\n",
        "  def remove_stopwords(texts):\n",
        "      return [[word for word in simple_preprocess(str(doc)) if word not in stop_words] for doc in texts]\n",
        "\n",
        "  def make_bigrams(texts):\n",
        "      return [bigram_mod[doc] for doc in texts]\n",
        "\n",
        "  def make_trigrams(texts):\n",
        "      return [trigram_mod[bigram_mod[doc]] for doc in texts]\n",
        "\n",
        "  def lemmatization(texts, allowed_postags=['NOUN', 'ADJ', 'VERB', 'ADV']):\n",
        "      \"\"\"https://spacy.io/api/annotation\"\"\"\n",
        "      texts_out = []\n",
        "      for sent in texts:\n",
        "          doc = nlp(\" \".join(sent)) \n",
        "          texts_out.append([token.lemma_ for token in doc if token.pos_ in allowed_postags])\n",
        "      return texts_out\n",
        "  # Remove Stop Words\n",
        "  #data_words_nostops = remove_stopwords(data_words)\n",
        "\n",
        "  # Form Bigrams\n",
        "  data_words_bigrams = make_bigrams(data_words)\n",
        "\n",
        "  # Initialize spacy 'en' model, keeping only tagger component (for efficiency)\n",
        "  # python3 -m spacy download en\n",
        "  nlp = spacy.load('en', disable=['parser', 'ner'])\n",
        "\n",
        "  # Do lemmatization keeping only noun, adj, vb, adv\n",
        "  data_lemmatized = lemmatization(data_words_bigrams, allowed_postags=['NOUN']) #, 'ADJ', 'VERB', 'ADV'\n",
        "\n",
        "  print(data_lemmatized[:1])\n",
        "  # Create Dictionary\n",
        "  id2word = corpora.Dictionary(data_lemmatized)\n",
        "\n",
        "  # Create Corpus\n",
        "  texts = data_lemmatized\n",
        "\n",
        "  # Term Document Frequency\n",
        "  corpus = [id2word.doc2bow(text) for text in texts]\n",
        "\n",
        "  # View\n",
        "  print(corpus[:1])\n",
        " \n",
        "  # lda_model = gensim.models.ldamodel.LdaModel(corpus=corpus,\n",
        "  #                                           id2word=id2word,\n",
        "  #                                           num_topics=10, \n",
        "  #                                           random_state=100,\n",
        "  #                                           update_every=1,\n",
        "  #                                           chunksize=100,\n",
        "  #                                           passes=10,\n",
        "  #                                           alpha='auto',\n",
        "  #                                           per_word_topics=True)\n",
        "  lda_model = gensim.models.LdaMulticore(corpus=corpus,\n",
        "                                       id2word=id2word,\n",
        "                                       num_topics=10, \n",
        "                                       random_state=100,\n",
        "                                       chunksize=100,\n",
        "                                       passes=10,\n",
        "                                       per_word_topics=True)\n",
        "  print(lda_model.print_topics())\n",
        "  # Visualize the topics\n",
        "  pyLDAvis.enable_notebook()\n",
        "  vis = gensimvis.prepare(lda_model, corpus, id2word)\n",
        "  # vis\n",
        "  # Compute Perplexity\n",
        "  print('\\nPerplexity: ', lda_model.log_perplexity(corpus))  # a measure of how good the model is. lower the better.\n",
        "\n",
        "  # Compute Coherence Score\n",
        "  coherence_model_lda = CoherenceModel(model=lda_model, texts=data_lemmatized, dictionary=id2word, coherence='c_v')\n",
        "  coherence_lda = coherence_model_lda.get_coherence()\n",
        "  print('\\nCoherence Score: ', coherence_lda)\n",
        "  return vis\n",
        "  "
      ],
      "execution_count": 69,
      "outputs": []
    },
    {
      "cell_type": "code",
      "metadata": {
        "id": "yB-o8LE2TsxS",
        "colab": {
          "base_uri": "https://localhost:8080/"
        },
        "outputId": "9e20cf05-4d64-4f5f-f451-e84cca0d41ec"
      },
      "source": [
        "poem_count = len(langston_hughes_choherence_input)\n",
        "langston_poem_list=[]\n",
        "for j in langston_hughes_choherence_input:\n",
        "  poem_index =  str(j)\n",
        "  print(poem_index)\n",
        "  print(langston_hughes_choherence_input[poem_index])\n",
        "  langston_poem_list.append(langston_hughes_choherence_input[poem_index])\n",
        "print(langston_poem_list)"
      ],
      "execution_count": 70,
      "outputs": [
        {
          "output_type": "stream",
          "name": "stdout",
          "text": [
            "poem0\n",
            "well son will tell you life for me ai not been no crystal stair it had tacks in it and splinters and boards torn up and places with no carpet on the floor— bare but all the time se been climbin on and reachin landin and turnin corners and sometimes goin in the dark where there ai not been no light so boy do not you turn back do not you set down on the steps because you finds it kinder hard do not you fall now— for se still goin honey se still climbin and life for me ai not been no crystal stair by owner provided at no charge for educational purposes\n",
            "poem1\n",
            "landlord landlord my roof has sprung leak do not you member told you about it way last week landlord landlord these steps is broken down when you come up yourself it wonder you do not fall down ten bucks you say owe you ten bucks you say is due well that ten bucks more pay you till you fix this house up new what you going to get eviction orders you going to cut off my heat you going to take my furniture and throw it in the street um huh you talking high and mighty talk on till you get through you ai not going to be able to say word if land my fist on you police police come and get this man he trying to ruin the government and overturn the land copper whistle patrol bell arrest precinct station iron cell headlines in press man threatens landlord tenant held no bail judge gives negro days in county jail from the langston hughes reader this poem by langston hughes grew out of conditions in new york city’s harlem in the ’s in graphic terms it describes the escalation of anger and frustration that tenants experienced trying to get landlords to make basic repairs it is structured like an old time blues song until the final verse where the rhythm changes charley noble by owner provided at no charge for educational purposes\n",
            "poem2\n",
            "too sing america am the darker brother they send me to eat in the kitchen when company comes but laugh and eat well and grow strong tomorrow will be at the table when company comes nobody will dare say to me eat in the kitchen then besides they will see how beautiful am and be ashamed— too am america http www poetryarchive org poetryarchive singlepoem do poemid listen to langston hughes read this poem recorded in by owner provided at no charge for educational purposes\n",
            "poem3\n",
            "it was long time ago have almost forgotten my dream but it was there then in front of me bright like sun— my dream and then the wall rose rose slowly slowly between me and my dream rose until it touched the sky— the wall shadow am black lie down in the shadow no longer the light of my dream before me above me only the thick wall only the shadow my hands my dark hands break through the wall find my dream help me to shatter this darkness to smash this night to break this shadow into thousand lights of sun into thousand whirling dreams of sun by owner provided at no charge for educational purposes\n",
            "poem4\n",
            "children come back today to tell you story of the long dark way that had to climb that had to know in order that the race might live and grow look at my face dark as the night yet shining like the sun with love true light am the child they stole from the sand three hundred years ago in africa land am the dark girl who crossed the wide sea carrying in my body the seed of the free am the woman who worked in the field bringing the cotton and the corn to yield am the one who labored as slave beaten and mistreated for the work gave children sold away from me husband sold too no safety no love no respect was due three hundred years in the deepest south but god put song and prayer in my mouth god put dream like steel in my soul now through my children reaching the goal now through my children young and free realize the blessings deed to me could not read then could not write had nothing back there in the night sometimes the valley was filled with tears but kept trudging on through the lonely years sometimes the road was hot with the sun but had to keep on till my work was done had to keep on no stopping for me was the seed of the coming free nourished the dream that nothing could smother deep in my breast the negro mother had only hope then but now through you dark ones of today my dreams must come true all you dark children in the world out there remember my sweat my pain my despair remember my years heavy with sorrow and make of those years torch for tomorrow make of my pass road to the light out of the darkness the ignorance the night lift high my banner out of the dust stand like free men supporting my trust believe in the right let none push you back remember the whip and the slaver track remember how the strong in struggle and strife still bar you the way and deny you life but march ever forward breaking down bars look ever upward at the sun and the stars oh my dark children may my dreams and my prayers impel you forever up the great stairs for will be with you till no white brother dares keep down the children of the negro mother many on line versions have the alternate line realized the blessing denied to me by owner provided at no charge for educational purposes\n",
            "poem5\n",
            "have known rivers have known rivers ancient as the world and older than the flow of human blood in human veins my soul has grown deep like the rivers bathed in the euphrates when dawns were young built my hut near the congo and it lulled me to sleep looked upon the nile and raised the pyramids above it heard the singing of the mississippi when abe lincoln went down to new orleans and have seen its muddy bosom turn all golden in the sunset have known rivers ancient dusky rivers my soul has grown deep like the rivers http www poetryarchive org poetryarchive singlepoem do poemid recorded in langston hughes recites by owner provided at no charge for educational purposes\n",
            "poem6\n",
            "the negro with the trumpet at his lips has dark moons of weariness beneath his eyes where the smoldering memory of slave ships blazed to the crack of whips about thighs the negro with the trumpet at his lips has head of vibrant hair tamed down patent leathered now until it gleams like jet— were jet crown the music from the trumpet at his lips is honey mixed with liquid fire the rhythm from the trumpet at his lips is ecstasy distilled from old desire— desire that is longing for the moon where the moonlight but spotlight in his eyes desire that is longing for the sea where the sea bar glass sucker size the negro with the trumpet at his lips whose jacket has fine one button roll does not know upon what riff the music slips it hypodermic needle to his soul but softly as the tune comes from his throat trouble mellows to golden note by owner provided at no charge for educational purposes\n",
            "poem7\n",
            "my old man white old manand my old mother black if ever cursed my white old mani take my curses back if ever cursed my black old motherand wished she were in hell sorry for that evil wishand now wish her wellmy old man died in fine big house my ma died in shack wonder were going to die being neither white nor black by owner provided at no charge for educational purposes\n",
            "poem8\n",
            "the rent man knocked he said how do you do said what can do for you he said you know your rent is due said listen before pay go to hades and rot away the sink is broke the water do not run and you ai not done thing you promised to have done back window cracked kitchen floor squeaks there rats in the cellar and the attic leaks he said madam it not up to me just the agent do not you see said naturally you pass the buck if it money you want you are out of luck he said madam ai not pleased said neither am so we agrees this is one of number of madam poems by langston hughes that can be considered as linked series madam and the rent man http oldpoetry com opoem madam and the census man http oldpoetry com opoem show madam and her madam http oldpoetry com opoem madam and the phone bill http oldpoetry com opoem madam’s past history http oldpoetry com opoem this one is taken from the collected poems of langston hughes by langston hughes by the estate of langston hughes the header graphic is an illustration from the liberation news service the late by owner provided at no charge for educational purposes\n",
            "poem9\n",
            "good morning daddy ai not you heard the boogie woogie rumble of dream deferred listen closely you will hear their feet beating out and beating out you think it happy beat listen to it closely ai not you heard something underneath like what did say sure happy take it away hey pop re bop mop hughes himself says that the book from which this comes montage of dream deferred should be viewed as complete poem in itself and not collection of short poems by owner provided at no charge for educational purposes\n",
            "['well son will tell you life for me ai not been no crystal stair it had tacks in it and splinters and boards torn up and places with no carpet on the floor— bare but all the time se been climbin on and reachin landin and turnin corners and sometimes goin in the dark where there ai not been no light so boy do not you turn back do not you set down on the steps because you finds it kinder hard do not you fall now— for se still goin honey se still climbin and life for me ai not been no crystal stair by owner provided at no charge for educational purposes', 'landlord landlord my roof has sprung leak do not you member told you about it way last week landlord landlord these steps is broken down when you come up yourself it wonder you do not fall down ten bucks you say owe you ten bucks you say is due well that ten bucks more pay you till you fix this house up new what you going to get eviction orders you going to cut off my heat you going to take my furniture and throw it in the street um huh you talking high and mighty talk on till you get through you ai not going to be able to say word if land my fist on you police police come and get this man he trying to ruin the government and overturn the land copper whistle patrol bell arrest precinct station iron cell headlines in press man threatens landlord tenant held no bail judge gives negro days in county jail from the langston hughes reader this poem by langston hughes grew out of conditions in new york city’s harlem in the ’s in graphic terms it describes the escalation of anger and frustration that tenants experienced trying to get landlords to make basic repairs it is structured like an old time blues song until the final verse where the rhythm changes charley noble by owner provided at no charge for educational purposes', 'too sing america am the darker brother they send me to eat in the kitchen when company comes but laugh and eat well and grow strong tomorrow will be at the table when company comes nobody will dare say to me eat in the kitchen then besides they will see how beautiful am and be ashamed— too am america http www poetryarchive org poetryarchive singlepoem do poemid listen to langston hughes read this poem recorded in by owner provided at no charge for educational purposes', 'it was long time ago have almost forgotten my dream but it was there then in front of me bright like sun— my dream and then the wall rose rose slowly slowly between me and my dream rose until it touched the sky— the wall shadow am black lie down in the shadow no longer the light of my dream before me above me only the thick wall only the shadow my hands my dark hands break through the wall find my dream help me to shatter this darkness to smash this night to break this shadow into thousand lights of sun into thousand whirling dreams of sun by owner provided at no charge for educational purposes', 'children come back today to tell you story of the long dark way that had to climb that had to know in order that the race might live and grow look at my face dark as the night yet shining like the sun with love true light am the child they stole from the sand three hundred years ago in africa land am the dark girl who crossed the wide sea carrying in my body the seed of the free am the woman who worked in the field bringing the cotton and the corn to yield am the one who labored as slave beaten and mistreated for the work gave children sold away from me husband sold too no safety no love no respect was due three hundred years in the deepest south but god put song and prayer in my mouth god put dream like steel in my soul now through my children reaching the goal now through my children young and free realize the blessings deed to me could not read then could not write had nothing back there in the night sometimes the valley was filled with tears but kept trudging on through the lonely years sometimes the road was hot with the sun but had to keep on till my work was done had to keep on no stopping for me was the seed of the coming free nourished the dream that nothing could smother deep in my breast the negro mother had only hope then but now through you dark ones of today my dreams must come true all you dark children in the world out there remember my sweat my pain my despair remember my years heavy with sorrow and make of those years torch for tomorrow make of my pass road to the light out of the darkness the ignorance the night lift high my banner out of the dust stand like free men supporting my trust believe in the right let none push you back remember the whip and the slaver track remember how the strong in struggle and strife still bar you the way and deny you life but march ever forward breaking down bars look ever upward at the sun and the stars oh my dark children may my dreams and my prayers impel you forever up the great stairs for will be with you till no white brother dares keep down the children of the negro mother many on line versions have the alternate line realized the blessing denied to me by owner provided at no charge for educational purposes', 'have known rivers have known rivers ancient as the world and older than the flow of human blood in human veins my soul has grown deep like the rivers bathed in the euphrates when dawns were young built my hut near the congo and it lulled me to sleep looked upon the nile and raised the pyramids above it heard the singing of the mississippi when abe lincoln went down to new orleans and have seen its muddy bosom turn all golden in the sunset have known rivers ancient dusky rivers my soul has grown deep like the rivers http www poetryarchive org poetryarchive singlepoem do poemid recorded in langston hughes recites by owner provided at no charge for educational purposes', 'the negro with the trumpet at his lips has dark moons of weariness beneath his eyes where the smoldering memory of slave ships blazed to the crack of whips about thighs the negro with the trumpet at his lips has head of vibrant hair tamed down patent leathered now until it gleams like jet— were jet crown the music from the trumpet at his lips is honey mixed with liquid fire the rhythm from the trumpet at his lips is ecstasy distilled from old desire— desire that is longing for the moon where the moonlight but spotlight in his eyes desire that is longing for the sea where the sea bar glass sucker size the negro with the trumpet at his lips whose jacket has fine one button roll does not know upon what riff the music slips it hypodermic needle to his soul but softly as the tune comes from his throat trouble mellows to golden note by owner provided at no charge for educational purposes', 'my old man white old manand my old mother black if ever cursed my white old mani take my curses back if ever cursed my black old motherand wished she were in hell sorry for that evil wishand now wish her wellmy old man died in fine big house my ma died in shack wonder were going to die being neither white nor black by owner provided at no charge for educational purposes', 'the rent man knocked he said how do you do said what can do for you he said you know your rent is due said listen before pay go to hades and rot away the sink is broke the water do not run and you ai not done thing you promised to have done back window cracked kitchen floor squeaks there rats in the cellar and the attic leaks he said madam it not up to me just the agent do not you see said naturally you pass the buck if it money you want you are out of luck he said madam ai not pleased said neither am so we agrees this is one of number of madam poems by langston hughes that can be considered as linked series madam and the rent man http oldpoetry com opoem madam and the census man http oldpoetry com opoem show madam and her madam http oldpoetry com opoem madam and the phone bill http oldpoetry com opoem madam’s past history http oldpoetry com opoem this one is taken from the collected poems of langston hughes by langston hughes by the estate of langston hughes the header graphic is an illustration from the liberation news service the late by owner provided at no charge for educational purposes', 'good morning daddy ai not you heard the boogie woogie rumble of dream deferred listen closely you will hear their feet beating out and beating out you think it happy beat listen to it closely ai not you heard something underneath like what did say sure happy take it away hey pop re bop mop hughes himself says that the book from which this comes montage of dream deferred should be viewed as complete poem in itself and not collection of short poems by owner provided at no charge for educational purposes']\n"
          ]
        }
      ]
    },
    {
      "cell_type": "markdown",
      "metadata": {
        "id": "WBqLIyh9R0Xi"
      },
      "source": [
        "# Original Langston Hughes Poem's perplexity and coherence score"
      ]
    },
    {
      "cell_type": "code",
      "source": [
        "pip install attrs==19.1.0"
      ],
      "metadata": {
        "id": "1pP5nvKM0Zyp",
        "colab": {
          "base_uri": "https://localhost:8080/",
          "height": 321
        },
        "outputId": "eeee8321-b915-42e0-fbb0-b6035c09f6f3"
      },
      "execution_count": 71,
      "outputs": [
        {
          "output_type": "stream",
          "name": "stdout",
          "text": [
            "Collecting attrs==19.1.0\n",
            "  Downloading attrs-19.1.0-py2.py3-none-any.whl (35 kB)\n",
            "Installing collected packages: attrs\n",
            "  Attempting uninstall: attrs\n",
            "    Found existing installation: attrs 21.4.0\n",
            "    Uninstalling attrs-21.4.0:\n",
            "      Successfully uninstalled attrs-21.4.0\n",
            "\u001b[31mERROR: pip's dependency resolver does not currently take into account all the packages that are installed. This behaviour is the source of the following dependency conflicts.\n",
            "visions 0.7.4 requires attrs>=19.3.0, but you have attrs 19.1.0 which is incompatible.\n",
            "datascience 0.10.6 requires folium==0.2.1, but you have folium 0.8.3 which is incompatible.\u001b[0m\n",
            "Successfully installed attrs-19.1.0\n"
          ]
        },
        {
          "output_type": "display_data",
          "data": {
            "application/vnd.colab-display-data+json": {
              "pip_warning": {
                "packages": [
                  "attr"
                ]
              }
            }
          },
          "metadata": {}
        }
      ]
    },
    {
      "cell_type": "code",
      "source": [
        "!pip install pandas --upgrade\n",
        "# !pip install pandas==1.3.1"
      ],
      "metadata": {
        "id": "vFSru7mDwRuG",
        "colab": {
          "base_uri": "https://localhost:8080/"
        },
        "outputId": "9ebcb4f5-7eab-485f-cabe-9b06e68cd9df"
      },
      "execution_count": 72,
      "outputs": [
        {
          "output_type": "stream",
          "name": "stdout",
          "text": [
            "Requirement already satisfied: pandas in /usr/local/lib/python3.7/dist-packages (1.3.5)\n",
            "Requirement already satisfied: pytz>=2017.3 in /usr/local/lib/python3.7/dist-packages (from pandas) (2022.1)\n",
            "Requirement already satisfied: numpy>=1.17.3 in /usr/local/lib/python3.7/dist-packages (from pandas) (1.21.6)\n",
            "Requirement already satisfied: python-dateutil>=2.7.3 in /usr/local/lib/python3.7/dist-packages (from pandas) (2.8.2)\n",
            "Requirement already satisfied: six>=1.5 in /usr/local/lib/python3.7/dist-packages (from python-dateutil>=2.7.3->pandas) (1.15.0)\n"
          ]
        }
      ]
    },
    {
      "cell_type": "code",
      "metadata": {
        "id": "wmAJi77dVSED",
        "colab": {
          "base_uri": "https://localhost:8080/"
        },
        "outputId": "9614fdfb-46b6-4fda-fa58-8668e70dbfd2"
      },
      "source": [
        "vis = choherence_perplexity_calculator(langston_poem_list)"
      ],
      "execution_count": 73,
      "outputs": [
        {
          "output_type": "stream",
          "name": "stdout",
          "text": [
            "[['well', 'son', 'will', 'tell', 'you', 'life', 'for', 'me', 'ai', 'not', 'been', 'no', 'crystal', 'stair', 'it', 'had', 'tacks', 'in', 'it', 'and', 'splinters', 'and', 'boards', 'torn', 'up', 'and', 'places', 'with', 'no', 'carpet', 'on', 'the', 'floor', 'bare', 'but', 'all', 'the', 'time', 'se', 'been', 'climbin', 'on', 'and', 'reachin', 'landin', 'and', 'turnin', 'corners', 'and', 'sometimes', 'goin', 'in', 'the', 'dark', 'where', 'there', 'ai', 'not', 'been', 'no', 'light', 'so', 'boy', 'do', 'not', 'you', 'turn', 'back', 'do', 'not', 'you', 'set', 'down', 'on', 'the', 'steps', 'because', 'you', 'finds', 'it', 'kinder', 'hard', 'do', 'not', 'you', 'fall', 'now', 'for', 'se', 'still', 'goin', 'honey', 'se', 'still', 'climbin', 'and', 'life', 'for', 'me', 'ai', 'not', 'been', 'no', 'crystal', 'stair', 'by', 'owner', 'provided', 'at', 'no', 'charge', 'for', 'educational', 'purposes']]\n",
            "['well', 'son', 'will', 'tell', 'you', 'life', 'for', 'me', 'ai', 'not', 'been', 'no', 'crystal', 'stair', 'it', 'had', 'tacks', 'in', 'it', 'and', 'splinters', 'and', 'boards', 'torn', 'up', 'and', 'places', 'with', 'no', 'carpet', 'on', 'the', 'floor', 'bare', 'but', 'all', 'the', 'time', 'se', 'been', 'climbin', 'on', 'and', 'reachin', 'landin', 'and', 'turnin', 'corners', 'and', 'sometimes', 'goin', 'in', 'the', 'dark', 'where', 'there', 'ai', 'not', 'been', 'no', 'light', 'so', 'boy', 'do', 'not', 'you', 'turn', 'back', 'do', 'not', 'you', 'set', 'down', 'on', 'the', 'steps', 'because', 'you', 'finds', 'it', 'kinder', 'hard', 'do', 'not', 'you', 'fall', 'now', 'for', 'se', 'still', 'goin', 'honey', 'se', 'still', 'climbin', 'and', 'life', 'for', 'me', 'ai', 'not', 'been', 'no', 'crystal', 'stair', 'by', 'owner', 'provided', 'at', 'no', 'charge', 'for', 'educational', 'purposes']\n"
          ]
        },
        {
          "output_type": "stream",
          "name": "stderr",
          "text": [
            "/usr/local/lib/python3.7/dist-packages/gensim/models/phrases.py:598: UserWarning: For a faster implementation, use the gensim.models.phrases.Phraser class\n",
            "  warnings.warn(\"For a faster implementation, use the gensim.models.phrases.Phraser class\")\n"
          ]
        },
        {
          "output_type": "stream",
          "name": "stdout",
          "text": [
            "[['life', 'crystal', 'stair', 'tack', 'splinter', 'board', 'place', 'carpet', 'floor', 'time', 'landin', 'turnin', 'corner', 'dark', 'light', 'boy', 'step', 'honey', 'life', 'crystal', 'stair', 'owner', 'charge', 'purpose']]\n",
            "[[(0, 1), (1, 1), (2, 1), (3, 1), (4, 1), (5, 2), (6, 1), (7, 1), (8, 1), (9, 1), (10, 2), (11, 1), (12, 1), (13, 1), (14, 1), (15, 1), (16, 2), (17, 1), (18, 1), (19, 1), (20, 1)]]\n",
            "[(0, '0.040*\"lip\" + 0.040*\"trumpet\" + 0.040*\"com\" + 0.024*\"oldpoetry\" + 0.024*\"man\" + 0.024*\"rent\" + 0.024*\"opoem\" + 0.016*\"jet\" + 0.016*\"negro\" + 0.016*\"music\"'), (1, '0.004*\"kitchen\" + 0.004*\"company\" + 0.004*\"poemid\" + 0.004*\"poem\" + 0.004*\"table\" + 0.004*\"brother\" + 0.004*\"charge\" + 0.004*\"purpose\" + 0.004*\"owner\" + 0.004*\"singlepoem\"'), (2, '0.004*\"child\" + 0.004*\"year\" + 0.004*\"dream\" + 0.004*\"sun\" + 0.004*\"prayer\" + 0.004*\"road\" + 0.004*\"blessing\" + 0.004*\"today\" + 0.004*\"night\" + 0.004*\"love\"'), (3, '0.098*\"river\" + 0.034*\"company\" + 0.034*\"kitchen\" + 0.034*\"owner\" + 0.034*\"singlepoem\" + 0.034*\"purpose\" + 0.034*\"poemid\" + 0.034*\"charge\" + 0.034*\"soul\" + 0.018*\"tomorrow\"'), (4, '0.123*\"dream\" + 0.047*\"shadow\" + 0.047*\"wall\" + 0.032*\"poem\" + 0.032*\"owner\" + 0.032*\"charge\" + 0.032*\"purpose\" + 0.032*\"light\" + 0.032*\"hand\" + 0.032*\"sun\"'), (5, '0.051*\"landlord\" + 0.039*\"buck\" + 0.026*\"police\" + 0.026*\"man\" + 0.026*\"land\" + 0.026*\"tenant\" + 0.014*\"member\" + 0.014*\"county\" + 0.014*\"term\" + 0.014*\"song\"'), (6, '0.005*\"com\" + 0.004*\"buck\" + 0.004*\"landlord\" + 0.004*\"man\" + 0.004*\"poem\" + 0.004*\"rent\" + 0.004*\"opoem\" + 0.004*\"tenant\" + 0.004*\"purpose\" + 0.004*\"oldpoetry\"'), (7, '0.036*\"charge\" + 0.036*\"purpose\" + 0.036*\"owner\" + 0.036*\"life\" + 0.036*\"stair\" + 0.036*\"man\" + 0.036*\"crystal\" + 0.019*\"mother\" + 0.019*\"light\" + 0.019*\"dark\"'), (8, '0.061*\"child\" + 0.039*\"year\" + 0.031*\"dream\" + 0.023*\"night\" + 0.023*\"sun\" + 0.016*\"one\" + 0.016*\"seed\" + 0.016*\"light\" + 0.016*\"work\" + 0.016*\"line\"'), (9, '0.005*\"trumpet\" + 0.004*\"lip\" + 0.004*\"desire\" + 0.004*\"moon\" + 0.004*\"eye\" + 0.004*\"sea\" + 0.004*\"music\" + 0.004*\"negro\" + 0.004*\"head\" + 0.004*\"jacket\"')]\n"
          ]
        },
        {
          "output_type": "stream",
          "name": "stderr",
          "text": [
            "/usr/local/lib/python3.7/dist-packages/pyLDAvis/_prepare.py:247: FutureWarning: In a future version of pandas all arguments of DataFrame.drop except for the argument 'labels' will be keyword-only\n",
            "  by='saliency', ascending=False).head(R).drop('saliency', 1)\n"
          ]
        },
        {
          "output_type": "stream",
          "name": "stdout",
          "text": [
            "\n",
            "Perplexity:  -5.685555982559077\n",
            "\n",
            "Coherence Score:  0.591088738835778\n"
          ]
        }
      ]
    },
    {
      "cell_type": "code",
      "source": [
        "vis"
      ],
      "metadata": {
        "id": "m4YuY16EUo0x",
        "colab": {
          "base_uri": "https://localhost:8080/",
          "height": 861
        },
        "outputId": "1631afd3-caeb-44e3-a530-d4f0554cdf62"
      },
      "execution_count": 74,
      "outputs": [
        {
          "output_type": "execute_result",
          "data": {
            "text/plain": [
              "PreparedData(topic_coordinates=              x         y  topics  cluster       Freq\n",
              "topic                                                \n",
              "8     -0.196873 -0.048830       1        1  28.012880\n",
              "0      0.171511 -0.136288       2        1  26.991815\n",
              "5      0.079738  0.182747       3        1  14.647369\n",
              "4     -0.081156  0.002119       4        1  10.811199\n",
              "3      0.015696 -0.021870       5        1   9.786500\n",
              "7     -0.005409  0.040515       6        1   8.762044\n",
              "1      0.003932 -0.004614       7        1   0.247048\n",
              "2      0.003742 -0.004658       8        1   0.247048\n",
              "6      0.004575 -0.004169       9        1   0.247048\n",
              "9      0.004243 -0.004952      10        1   0.247048, topic_info=        Term      Freq     Total Category  logprob  loglift\n",
              "72     dream  8.000000  8.000000  Default  30.0000  30.0000\n",
              "152    river  4.000000  4.000000  Default  29.0000  29.0000\n",
              "86     child  7.000000  7.000000  Default  28.0000  28.0000\n",
              "185  trumpet  4.000000  4.000000  Default  27.0000  27.0000\n",
              "196      com  4.000000  4.000000  Default  26.0000  26.0000\n",
              "..       ...       ...       ...      ...      ...      ...\n",
              "53    rhythm  0.004225  1.964174  Topic10  -5.4269  -0.1384\n",
              "121     soul  0.004220  3.308357  Topic10  -5.4283  -0.6611\n",
              "82       bar  0.004219  2.077375  Topic10  -5.4283  -0.1959\n",
              "8      honey  0.004217  1.838572  Topic10  -5.4289  -0.0743\n",
              "12     owner  0.004214  7.287467  Topic10  -5.4296  -1.4522\n",
              "\n",
              "[513 rows x 6 columns], token_table=      Topic      Freq      Term\n",
              "term                           \n",
              "21        3  0.869979     anger\n",
              "22        3  0.870186      bail\n",
              "82        1  0.481377       bar\n",
              "82        2  0.481377       bar\n",
              "83        1  0.957604  blessing\n",
              "...     ...       ...       ...\n",
              "63        3  0.870024      word\n",
              "141       1  0.957556      work\n",
              "142       1  0.532452     world\n",
              "142       5  0.532452     world\n",
              "143       1  0.875887      year\n",
              "\n",
              "[245 rows x 3 columns], R=30, lambda_step=0.01, plot_opts={'xlab': 'PC1', 'ylab': 'PC2'}, topic_order=[9, 1, 6, 5, 4, 8, 2, 3, 7, 10])"
            ],
            "text/html": [
              "\n",
              "<link rel=\"stylesheet\" type=\"text/css\" href=\"https://cdn.jsdelivr.net/gh/bmabey/pyLDAvis@3.3.1/pyLDAvis/js/ldavis.v1.0.0.css\">\n",
              "\n",
              "\n",
              "<div id=\"ldavis_el9941403180993937446367621123\"></div>\n",
              "<script type=\"text/javascript\">\n",
              "\n",
              "var ldavis_el9941403180993937446367621123_data = {\"mdsDat\": {\"x\": [-0.19687263423261422, 0.17151137483537632, 0.0797375898114435, -0.08115620746451452, 0.015695930766343204, -0.005408534291114335, 0.003931997216242076, 0.0037419323418875997, 0.004575398096207642, 0.004243152920742852], \"y\": [-0.04882979572895019, -0.13628842306531017, 0.1827466798634127, 0.0021189744775056206, -0.02186962354990633, 0.040514804298138966, -0.004613844173765346, -0.004657739374570719, -0.004169378538357849, -0.004951654208196607], \"topics\": [1, 2, 3, 4, 5, 6, 7, 8, 9, 10], \"cluster\": [1, 1, 1, 1, 1, 1, 1, 1, 1, 1], \"Freq\": [28.0128799229151, 26.991815311684462, 14.647369211690414, 10.811198673124785, 9.786499591623073, 8.762043978636115, 0.2470483275815117, 0.2470483275815117, 0.2470483275815117, 0.2470483275815117]}, \"tinfo\": {\"Term\": [\"dream\", \"river\", \"child\", \"trumpet\", \"com\", \"lip\", \"year\", \"landlord\", \"sun\", \"man\", \"buck\", \"shadow\", \"wall\", \"light\", \"rent\", \"opoem\", \"oldpoetry\", \"purpose\", \"charge\", \"owner\", \"night\", \"soul\", \"life\", \"stair\", \"poem\", \"kitchen\", \"mother\", \"sea\", \"one\", \"seed\", \"child\", \"year\", \"seed\", \"work\", \"line\", \"blessing\", \"love\", \"road\", \"today\", \"way\", \"prayer\", \"night\", \"safety\", \"woman\", \"make\", \"struggle\", \"respect\", \"sorrow\", \"sweat\", \"despair\", \"goal\", \"steel\", \"trust\", \"corn\", \"version\", \"pain\", \"strife\", \"dust\", \"stopping\", \"husband\", \"sun\", \"mother\", \"one\", \"dream\", \"light\", \"man\", \"charge\", \"purpose\", \"owner\", \"song\", \"whip\", \"lip\", \"trumpet\", \"com\", \"oldpoetry\", \"rent\", \"opoem\", \"jet\", \"negro\", \"music\", \"eye\", \"moon\", \"desire\", \"crack\", \"crown\", \"glass\", \"ecstasy\", \"patent\", \"ship\", \"button\", \"memory\", \"riff\", \"note\", \"throat\", \"needle\", \"roll\", \"tune\", \"sucker\", \"fire\", \"trouble\", \"spotlight\", \"sea\", \"man\", \"poem\", \"owner\", \"charge\", \"purpose\", \"whip\", \"slave\", \"landlord\", \"police\", \"land\", \"tenant\", \"member\", \"county\", \"term\", \"condition\", \"iron\", \"press\", \"week\", \"copper\", \"government\", \"roof\", \"anger\", \"fist\", \"escalation\", \"word\", \"day\", \"judge\", \"frustration\", \"street\", \"furniture\", \"headline\", \"heat\", \"repair\", \"talk\", \"station\", \"verse\", \"eviction\", \"buck\", \"man\", \"song\", \"leak\", \"owner\", \"step\", \"poem\", \"rhythm\", \"charge\", \"order\", \"time\", \"wall\", \"shadow\", \"hand\", \"front\", \"sky\", \"lie\", \"boogie\", \"book\", \"collection\", \"foot\", \"pop\", \"re\", \"rumble\", \"woogie\", \"montage\", \"dream\", \"darkness\", \"light\", \"sun\", \"time\", \"poem\", \"night\", \"purpose\", \"charge\", \"owner\", \"motherand\", \"boy\", \"carpet\", \"board\", \"corner\", \"man\", \"river\", \"company\", \"kitchen\", \"crystal\", \"river\", \"company\", \"singlepoem\", \"poemid\", \"table\", \"blood\", \"turn\", \"singing\", \"pyramid\", \"bosom\", \"dusky\", \"euphrate\", \"vein\", \"dawn\", \"recite\", \"sunset\", \"flow\", \"kitchen\", \"soul\", \"tomorrow\", \"brother\", \"world\", \"owner\", \"purpose\", \"charge\", \"poem\", \"turnin\", \"boy\", \"carpet\", \"board\", \"man\", \"dream\", \"life\", \"light\", \"crystal\", \"tack\", \"splinter\", \"turnin\", \"boy\", \"carpet\", \"board\", \"corner\", \"floor\", \"landin\", \"place\", \"wonder\", \"curse\", \"wishand\", \"motherand\", \"life\", \"stair\", \"house\", \"step\", \"honey\", \"dark\", \"time\", \"mother\", \"man\", \"charge\", \"purpose\", \"owner\", \"light\", \"flow\", \"sunset\", \"river\", \"soul\", \"turnin\", \"carpet\", \"board\", \"corner\", \"floor\", \"landin\", \"place\", \"wonder\", \"curse\", \"wishand\", \"motherand\", \"boy\", \"tack\", \"splinter\", \"table\", \"flow\", \"sunset\", \"recite\", \"dawn\", \"vein\", \"euphrate\", \"dusky\", \"bosom\", \"pyramid\", \"turn\", \"singing\", \"blood\", \"front\", \"sky\", \"lie\", \"kitchen\", \"company\", \"poemid\", \"poem\", \"brother\", \"charge\", \"purpose\", \"owner\", \"singlepoem\", \"tomorrow\", \"dream\", \"light\", \"man\", \"river\", \"life\", \"time\", \"house\", \"shadow\", \"mother\", \"soul\", \"trumpet\", \"com\", \"crystal\", \"dark\", \"honey\", \"turnin\", \"boy\", \"board\", \"corner\", \"floor\", \"landin\", \"place\", \"wonder\", \"curse\", \"wishand\", \"motherand\", \"tack\", \"splinter\", \"carpet\", \"flow\", \"sunset\", \"table\", \"recite\", \"dawn\", \"vein\", \"euphrate\", \"dusky\", \"bosom\", \"pyramid\", \"turn\", \"singing\", \"blood\", \"sky\", \"lie\", \"boogie\", \"tear\", \"star\", \"cotton\", \"none\", \"respect\", \"face\", \"child\", \"year\", \"dream\", \"sun\", \"prayer\", \"road\", \"blessing\", \"today\", \"night\", \"love\", \"way\", \"line\", \"light\", \"mother\", \"seed\", \"work\", \"life\", \"one\", \"purpose\", \"field\", \"look\", \"stand\", \"pass\", \"hope\", \"turnin\", \"boy\", \"carpet\", \"board\", \"corner\", \"floor\", \"landin\", \"place\", \"wonder\", \"curse\", \"wishand\", \"motherand\", \"tack\", \"splinter\", \"flow\", \"sunset\", \"table\", \"recite\", \"dawn\", \"vein\", \"euphrate\", \"dusky\", \"bosom\", \"pyramid\", \"turn\", \"singing\", \"blood\", \"sky\", \"lie\", \"boogie\", \"reader\", \"jail\", \"bail\", \"cell\", \"blue\", \"eviction\", \"verse\", \"station\", \"talk\", \"headline\", \"repair\", \"heat\", \"furniture\", \"judge\", \"street\", \"frustration\", \"day\", \"escalation\", \"word\", \"fist\", \"roof\", \"anger\", \"government\", \"copper\", \"week\", \"press\", \"money\", \"condition\", \"iron\", \"term\", \"graphic\", \"phone\", \"history\", \"tenant\", \"com\", \"landlord\", \"buck\", \"rent\", \"opoem\", \"man\", \"leak\", \"poem\", \"oldpoetry\", \"land\", \"purpose\", \"charge\", \"owner\", \"police\", \"kitchen\", \"house\", \"motherand\", \"turnin\", \"boy\", \"carpet\", \"board\", \"corner\", \"floor\", \"landin\", \"place\", \"wonder\", \"curse\", \"wishand\", \"splinter\", \"tack\", \"flow\", \"sunset\", \"table\", \"recite\", \"dawn\", \"vein\", \"euphrate\", \"dusky\", \"bosom\", \"pyramid\", \"turn\", \"singing\", \"blood\", \"front\", \"lie\", \"boogie\", \"head\", \"jacket\", \"hair\", \"moonlight\", \"weariness\", \"spotlight\", \"trouble\", \"fire\", \"sucker\", \"tune\", \"roll\", \"needle\", \"throat\", \"note\", \"riff\", \"memory\", \"trumpet\", \"button\", \"ship\", \"patent\", \"ecstasy\", \"glass\", \"crown\", \"crack\", \"lip\", \"desire\", \"moon\", \"eye\", \"music\", \"negro\", \"sea\", \"jet\", \"rhythm\", \"soul\", \"bar\", \"honey\", \"owner\"], \"Freq\": [8.0, 4.0, 7.0, 4.0, 4.0, 4.0, 4.0, 3.0, 4.0, 6.0, 3.0, 2.0, 2.0, 3.0, 2.0, 2.0, 2.0, 7.0, 7.0, 7.0, 3.0, 3.0, 2.0, 2.0, 4.0, 2.0, 2.0, 2.0, 2.0, 2.0, 6.688037326509561, 4.210655604404285, 1.7343425332384608, 1.7340476139953411, 1.7339757616814635, 1.7338996469421861, 1.7339209590691838, 1.7337435609835083, 1.7337216399385964, 1.7337461996278032, 1.7335464745519398, 2.5602629602179516, 0.9085281594623629, 0.9085384095805855, 0.9085147632682501, 0.9085175033988641, 0.9084604680875656, 0.9085024834236467, 0.908475488062783, 0.90846422308137, 0.908464020108732, 0.90842525233486, 0.9084345890762113, 0.9084269776022836, 0.9084330667814259, 0.9084162200524658, 0.9084237300400745, 0.9084122620860234, 0.9083983584603154, 0.9083998807551009, 2.559702755736871, 1.73380973006352, 1.7352869649234128, 3.385690366659564, 1.7341078968688488, 0.9116841810117546, 0.9092225288572094, 0.9091572731540691, 0.9090378237565633, 0.9085103993565316, 0.908489290202172, 4.156643517573116, 4.155235773613126, 4.15188910583828, 2.523570559797832, 2.5229822722413373, 2.5226818700848295, 1.7115997634256048, 1.7115414822780532, 1.7114442818406936, 1.711407318294092, 1.7113752441055066, 1.7112264120474971, 0.8965798656073904, 0.8965744873135728, 0.8965633395772962, 0.8965299941556265, 0.896514641571456, 0.8964934217576662, 0.8964850120618786, 0.8964788514707783, 0.8964781669606561, 0.8964681926703033, 0.8964612497819204, 0.8964597829745156, 0.8964397366066497, 0.8964104004585532, 0.8964014040398036, 0.8963815532462583, 0.8963543684156889, 0.8963485011860697, 1.7114161191385209, 2.5231236724751627, 1.7091591914782989, 1.710620913950786, 1.7104272953733493, 1.710345154158679, 0.896536545895368, 0.8964952797137123, 2.9233457759941377, 1.4975897142047268, 1.4974070639695074, 1.4969681090753373, 0.7844611096869227, 0.7844507619833004, 0.7844447656217143, 0.7844335688757434, 0.7844316054653127, 0.784426670406662, 0.7843842182892374, 0.7843730746084134, 0.7843642127289011, 0.7843559876311501, 0.784353599699545, 0.7843088657808088, 0.784298889533214, 0.7842960240152879, 0.78428774585239, 0.7842375462235355, 0.7842357950736917, 0.7842282067577021, 0.784223377829345, 0.7841922285881847, 0.7841950941061109, 0.7841888854839375, 0.7841775826076732, 0.7841664389268493, 0.7841569933307223, 0.7841151779950591, 2.2103251059848854, 1.4975518256899254, 0.7844427491461365, 0.7844087874521969, 0.7843746665628168, 0.7843719071751842, 0.784340757934024, 0.7843375209600704, 0.7843293489274661, 0.7843133763182851, 0.7842789901031713, 1.9783341638393657, 1.9783341638393657, 1.3401616709850344, 0.7019894914690704, 0.7019894914690704, 0.7019894914690704, 0.7019894914690704, 0.7019894914690704, 0.7019894914690704, 0.7019894914690704, 0.7019894914690704, 0.7019894914690704, 0.7019894914690704, 0.7019894914690704, 0.7019894914690704, 5.1691963147726545, 0.7019894131344786, 1.3401627676693202, 1.3401612009774833, 0.7019893347998868, 1.3401648043687084, 0.7019883947847845, 1.3401630810076877, 1.3401632376768715, 1.3401632376768715, 0.06381724341033874, 0.06381723851442675, 0.06381723851442675, 0.06381723851442675, 0.06381723851442675, 0.0638172629939867, 0.06381725320216272, 0.06381724830625073, 0.06381724830625073, 0.06381724341033874, 3.7464257136654684, 1.2926964350379062, 1.2915133735959399, 1.2912232101207226, 0.6771076022802556, 0.6761367033793084, 0.675962548566226, 0.675962194016525, 0.6759252499376911, 0.6758798675759758, 0.6758404416492356, 0.67583427248444, 0.6758298760681488, 0.6758212250554468, 0.6758120067632234, 0.675665861376512, 0.6756469284224839, 1.2926684965214752, 1.2894664872626984, 0.6771471700268762, 0.6771119986965468, 0.675628066378396, 1.2915207482297186, 1.2914163687977733, 1.2911008195639715, 0.6771009367458787, 0.061561816288165754, 0.061561816288165754, 0.061561816288165754, 0.061561816288165754, 0.061561834015650796, 0.061561834015650796, 0.06156182072003701, 0.06156182072003701, 1.2332916114885448, 0.6460100277757791, 0.6460100277757791, 0.6460099642887265, 0.6460099642887265, 0.6460099642887265, 0.6460099642887265, 0.6460099642887265, 0.6460099642887265, 0.6460099642887265, 0.6460099642887265, 0.6460099642887265, 0.6460099642887265, 0.6460099642887265, 0.6460099642887265, 1.2338109355788447, 1.2337582413251833, 0.6460263439482983, 0.6460314229125066, 0.6460102817239894, 0.6465019254593539, 0.6460290738915603, 0.6470032192267142, 1.2336517100509141, 1.2353564643874335, 1.23498455723328, 1.2348992306345805, 0.6467899027299652, 0.06019059056388864, 0.06017253246536362, 0.06716592890524062, 0.06248707200626188, 0.004196358400276929, 0.004196358400276929, 0.004196358400276929, 0.004196358400276929, 0.004196358400276929, 0.004196358400276929, 0.004196358400276929, 0.004196358400276929, 0.004196358400276929, 0.004196358400276929, 0.004196358400276929, 0.004196357952768042, 0.004196357952768042, 0.004196357952768042, 0.004201280998025759, 0.004196357952768042, 0.004196358400276929, 0.004196358400276929, 0.004196358400276929, 0.004196358400276929, 0.004196358400276929, 0.004196358400276929, 0.004196358400276929, 0.004196358400276929, 0.004196358400276929, 0.004196358400276929, 0.004196358400276929, 0.004196358400276929, 0.004196358400276929, 0.004196358400276929, 0.004205272329782289, 0.004203275097622922, 0.004201558901044125, 0.004201460001580262, 0.004200965951769834, 0.004200331384169121, 0.004200044083464144, 0.004199831069234285, 0.004199131612845065, 0.004198565066595063, 0.004196359742803587, 0.0041963592952947, 0.0041963592952947, 0.0041963592952947, 0.0041963588477858145, 0.0041963588477858145, 0.0041963588477858145, 0.0041963588477858145, 0.0041963588477858145, 0.0041963588477858145, 0.0041963588477858145, 0.0041963588477858145, 0.004196358400276929, 0.004196358400276929, 0.004196358400276929, 0.004193719440374668, 0.004193719440374668, 0.004193719440374668, 0.004193719440374668, 0.004193719440374668, 0.004193719440374668, 0.004193719440374668, 0.004193719440374668, 0.004193719440374668, 0.004193719440374668, 0.004193719440374668, 0.004193719440374668, 0.004193719440374668, 0.004193718992865783, 0.004193719440374668, 0.004193719440374668, 0.004193719440374668, 0.004193718992865783, 0.004193719440374668, 0.004193718992865783, 0.004193719440374668, 0.004193719440374668, 0.004193719440374668, 0.004193719440374668, 0.004193719440374668, 0.004193719440374668, 0.004193719440374668, 0.004193719440374668, 0.004193719440374668, 0.004193719440374668, 0.004201967476657278, 0.004201630949974812, 0.004201568746239622, 0.004201510122575523, 0.004201446576313674, 0.004201395560300641, 0.00424606813487128, 0.004224194795528794, 0.004214538448781132, 0.004212393986198187, 0.004210538614355765, 0.004208590160665, 0.0042083400031975825, 0.004208110431138932, 0.00420741007973194, 0.00420682294807317, 0.0042062590868764856, 0.004205119729252075, 0.00420401661984745, 0.004203983056680981, 0.004203484979290576, 0.004203453206159652, 0.00420279939567683, 0.004202253434835596, 0.004201230429521612, 0.004201095729346849, 0.004201086331660237, 0.004200963714225402, 0.004200738169746729, 0.004200724744480141, 0.00418063830812048, 0.00418063830812048, 0.00418063830812048, 0.00418063830812048, 0.00418063830812048, 0.00418063830812048, 0.00418063830812048, 0.00418063830812048, 0.00418063830812048, 0.00418063830812048, 0.00418063830812048, 0.00418063830812048, 0.00418063830812048, 0.00418063830812048, 0.00418063830812048, 0.00418063830812048, 0.00418063830812048, 0.004180637860611594, 0.00418063830812048, 0.00418063830812048, 0.00418063830812048, 0.00418063830812048, 0.00418063830812048, 0.00418063830812048, 0.00418063830812048, 0.00418063830812048, 0.00418063830812048, 0.00418063830812048, 0.00418063830812048, 0.00418063830812048, 0.0042337356849838, 0.004230412483994453, 0.004229432887042436, 0.004228500278523476, 0.0042272642589796326, 0.004227062432471931, 0.004223740574009242, 0.004223514134512796, 0.00422335705889372, 0.004222656259977841, 0.00422234792635521, 0.00422183015857381, 0.004220191828541222, 0.004219851721787666, 0.004219833821432216, 0.004219600669302476, 0.004216677093748557, 0.004216286418490854, 0.004216150375789432, 0.004215371262818458, 0.004212786003982549, 0.00421244992480897, 0.00421238414100269, 0.00421168826468456, 0.004211404096541786, 0.004208660867069029, 0.004226445765226668, 0.004208498421343318, 0.004208320312806587, 0.004207640546808362, 0.004223521294654977, 0.004220284910389564, 0.004219642735137784, 0.004267188316758195, 0.004339655668254278, 0.004308786952789133, 0.004310188550620891, 0.004279297459711433, 0.004273499087072197, 0.00430368400895914, 0.004248946064518801, 0.0042839609498151205, 0.0042619882634998855, 0.004241622134086314, 0.004262990683405102, 0.0042385531181443606, 0.004236493234740918, 0.004230759750890189, 0.0042282716014825986, 0.004225253601553678, 0.004190624916426199, 0.0041906244689173125, 0.0041906244689173125, 0.0041906244689173125, 0.0041906244689173125, 0.0041906244689173125, 0.0041906244689173125, 0.0041906244689173125, 0.0041906244689173125, 0.0041906244689173125, 0.0041906244689173125, 0.0041906244689173125, 0.0041906244689173125, 0.004190624021408427, 0.0041906244689173125, 0.0041906244689173125, 0.004190624916426199, 0.0041906244689173125, 0.0041906244689173125, 0.0041906244689173125, 0.0041906244689173125, 0.0041906244689173125, 0.0041906244689173125, 0.0041906244689173125, 0.0041906244689173125, 0.0041906244689173125, 0.0041906244689173125, 0.0041906244689173125, 0.0041906244689173125, 0.0041906244689173125, 0.00422765672427288, 0.004227187287451197, 0.004222221728849285, 0.004221361616769899, 0.004219896472676292, 0.004219631994924514, 0.004219329031408517, 0.004217932356174509, 0.004216910245878297, 0.0042164475216899065, 0.004214936731689902, 0.004213911936340372, 0.004213836307338595, 0.0042134751676673856, 0.004212969035117029, 0.004212930996861697, 0.004353977295141172, 0.0042126074479369325, 0.004212180971968329, 0.00421108681274143, 0.004210299197101617, 0.0042085834480317065, 0.004208016901781704, 0.0042077389987633385, 0.004281607053073407, 0.004245202205176372, 0.004237530560339263, 0.004235898942939968, 0.00423399389761117, 0.00422900551605606, 0.004235455909142574, 0.004226005416482591, 0.0042251582821609054, 0.0042195295153895605, 0.0042192435572112425, 0.004216950074169174, 0.0042139517646312494], \"Total\": [8.0, 4.0, 7.0, 4.0, 4.0, 4.0, 4.0, 3.0, 4.0, 6.0, 3.0, 2.0, 2.0, 3.0, 2.0, 2.0, 2.0, 7.0, 7.0, 7.0, 3.0, 3.0, 2.0, 2.0, 4.0, 2.0, 2.0, 2.0, 2.0, 2.0, 7.0451597782968705, 4.566801599017673, 2.088736550758749, 2.088651773630144, 2.0886093515210504, 2.088545289691912, 2.088571294591118, 2.0884969731822274, 2.0884968404914903, 2.0885280005503124, 2.0884146159853594, 3.553108739259734, 1.262556467117904, 1.2625849134510283, 1.2625778925420021, 1.2625856974396878, 1.2625233700035863, 1.2625830797267887, 1.2625642026174444, 1.2625545140386591, 1.2625550004438173, 1.2625228829867363, 1.262544840087725, 1.2625385501148474, 1.2625471661004013, 1.2625402138333932, 1.2625541618860354, 1.2625442538660268, 1.262525782774468, 1.2625359718628675, 4.191054280440394, 2.675857860964778, 2.9036244521105066, 8.846330053460472, 3.952288287167235, 6.308279418798697, 7.28744948508785, 7.287024394084591, 7.287467220208952, 1.9756926815051907, 2.0776009353463367, 4.511598349895642, 4.5102629899209505, 4.510381947741003, 2.8810556639409977, 2.8807386931514722, 2.8808520497510113, 2.066498966944759, 2.066443699640014, 2.066351501007756, 2.0663164376435255, 2.0662859816323698, 2.0661448328889813, 1.2514608022613163, 1.251455701870517, 1.2514451206804904, 1.2514134910078907, 1.2513989260393599, 1.2513788003847972, 1.251370817164978, 1.2513649801228024, 1.2513643336509355, 1.2513548654931332, 1.2513482837444214, 1.2513468925660185, 1.251327870993502, 1.2513000500672768, 1.2512915119408443, 1.251272683257595, 1.25124689510226, 1.2512413308361567, 2.892460862205234, 6.308279418798697, 4.670803021688642, 7.287467220208952, 7.28744948508785, 7.287024394084591, 2.0776009353463367, 2.077489269533091, 3.28859387143708, 1.8627217189025378, 1.8625477781549145, 1.8621364814596508, 1.1495435982447357, 1.1495384892951688, 1.1495312240841087, 1.1495180084556018, 1.1495200094668165, 1.1495147324766128, 1.1494714603778338, 1.1494657076049462, 1.149455093382286, 1.1494484208503433, 1.149452402659496, 1.1494063602538895, 1.149392613023897, 1.1493939246149054, 1.149385538299441, 1.149335196100127, 1.1493381974711312, 1.1493338301666847, 1.149328264541288, 1.1492906117378752, 1.1493018845526102, 1.1492940748178377, 1.1492788489237127, 1.149274918228668, 1.149270221613096, 1.1492195346538547, 3.3903247506904126, 6.308279418798697, 1.9756926815051907, 1.964160720690156, 7.287467220208952, 1.736750627860585, 4.670803021688642, 1.9641735409107837, 7.28744948508785, 1.9755637464412392, 2.37483310732961, 2.350918319034283, 2.350918342984977, 1.7127458261799513, 1.0745736457689696, 1.0745736462164786, 1.0745736466639875, 1.0745736466639875, 1.0745736466639875, 1.0745736466639875, 1.0745736466639875, 1.0745736466639875, 1.0745736466639875, 1.0745736466639875, 1.0745736466639875, 1.0745736510958588, 8.846330053460472, 1.9006570782159495, 3.952288287167235, 4.191054280440394, 2.37483310732961, 4.670803021688642, 3.553108739259734, 7.287024394084591, 7.28744948508785, 7.287467220208952, 1.0236831901706673, 1.0236831714036994, 1.0236831714036994, 1.0236831718512083, 1.0236831718512083, 6.308279418798697, 4.129703109376039, 1.6675429855071164, 2.482022061932029, 1.6109648305800819, 4.129703109376039, 1.6675429855071164, 1.667542273130749, 1.667497482982313, 1.0519521206186417, 1.0519714998691643, 1.0519634430574567, 1.0519634535583082, 1.0519617289219063, 1.051959580315043, 1.0519578309140536, 1.0519575779489725, 1.0519573450480455, 1.0519568827196517, 1.0519565199762486, 1.0519497851161916, 1.0519489034702847, 2.482022061932029, 3.3083573325300573, 1.878088893257662, 1.87804479512183, 1.8781044552778587, 7.287467220208952, 7.287024394084591, 7.28744948508785, 4.670803021688642, 1.0236831669552962, 1.0236831714036994, 1.0236831714036994, 1.0236831718512083, 6.308279418798697, 8.846330053460472, 2.4369692653931243, 3.952288287167235, 1.6109648305800819, 1.0236832300113718, 1.0236832348907519, 1.0236831669552962, 1.0236831714036994, 1.0236831714036994, 1.0236831718512083, 1.0236831718512083, 1.0236831718512083, 1.0236831718512083, 1.0236831718512083, 1.0236831718512083, 1.023683184596049, 1.023683184596049, 1.0236831901706673, 2.4369692653931243, 2.437032742637872, 1.736529776906258, 1.736750627860585, 1.838572305940307, 1.8497419705780354, 2.37483310732961, 2.675857860964778, 6.308279418798697, 7.28744948508785, 7.287024394084591, 7.287467220208952, 3.952288287167235, 1.0519489034702847, 1.0519497851161916, 4.129703109376039, 3.3083573325300573, 1.0236831669552962, 1.0236831714036994, 1.0236831718512083, 1.0236831718512083, 1.0236831718512083, 1.0236831718512083, 1.0236831718512083, 1.0236831718512083, 1.023683184596049, 1.023683184596049, 1.0236831901706673, 1.0236831714036994, 1.0236832300113718, 1.0236832348907519, 1.0519521206186417, 1.0519489034702847, 1.0519497851161916, 1.0519565199762486, 1.0519568827196517, 1.0519573450480455, 1.0519575779489725, 1.0519578309140536, 1.051959580315043, 1.0519617289219063, 1.0519634430574567, 1.0519634535583082, 1.0519714998691643, 1.0745736457689696, 1.0745736462164786, 1.0745736466639875, 2.482022061932029, 1.6675429855071164, 1.667497482982313, 4.670803021688642, 1.87804479512183, 7.28744948508785, 7.287024394084591, 7.287467220208952, 1.667542273130749, 1.878088893257662, 8.846330053460472, 3.952288287167235, 6.308279418798697, 4.129703109376039, 2.4369692653931243, 2.37483310732961, 1.736529776906258, 2.350918342984977, 2.675857860964778, 3.3083573325300573, 4.5102629899209505, 4.510381947741003, 1.6109648305800819, 1.8497419705780354, 1.838572305940307, 1.0236831669552962, 1.0236831714036994, 1.0236831718512083, 1.0236831718512083, 1.0236831718512083, 1.0236831718512083, 1.0236831718512083, 1.0236831718512083, 1.023683184596049, 1.023683184596049, 1.0236831901706673, 1.0236832300113718, 1.0236832348907519, 1.0236831714036994, 1.0519489034702847, 1.0519497851161916, 1.0519521206186417, 1.0519565199762486, 1.0519568827196517, 1.0519573450480455, 1.0519575779489725, 1.0519578309140536, 1.051959580315043, 1.0519617289219063, 1.0519634430574567, 1.0519634535583082, 1.0519714998691643, 1.0745736462164786, 1.0745736466639875, 1.0745736466639875, 1.2624530065142237, 1.2624214325620036, 1.2624539709712757, 1.262488919711549, 1.2625233700035863, 1.2624925251457724, 7.0451597782968705, 4.566801599017673, 8.846330053460472, 4.191054280440394, 2.0884146159853594, 2.0884969731822274, 2.088545289691912, 2.0884968404914903, 3.553108739259734, 2.088571294591118, 2.0885280005503124, 2.0886093515210504, 3.952288287167235, 2.675857860964778, 2.088736550758749, 2.088651773630144, 2.4369692653931243, 2.9036244521105066, 7.287024394084591, 1.2624322109742327, 1.2624630282706857, 1.26246497202075, 1.2624766637686449, 1.2624341348197727, 1.0236831669552962, 1.0236831714036994, 1.0236831714036994, 1.0236831718512083, 1.0236831718512083, 1.0236831718512083, 1.0236831718512083, 1.0236831718512083, 1.0236831718512083, 1.023683184596049, 1.023683184596049, 1.0236831901706673, 1.0236832300113718, 1.0236832348907519, 1.0519489034702847, 1.0519497851161916, 1.0519521206186417, 1.0519565199762486, 1.0519568827196517, 1.0519573450480455, 1.0519575779489725, 1.0519578309140536, 1.051959580315043, 1.0519617289219063, 1.0519634430574567, 1.0519634535583082, 1.0519714998691643, 1.0745736462164786, 1.0745736466639875, 1.0745736466639875, 1.1491111305205823, 1.1491646722464504, 1.1491799308753534, 1.1491951562196545, 1.149214839342446, 1.1492195346538547, 1.149270221613096, 1.149274918228668, 1.1492788489237127, 1.1492906117378752, 1.1492940748178377, 1.1493018845526102, 1.149328264541288, 1.149335196100127, 1.1493338301666847, 1.1493381974711312, 1.149385538299441, 1.149392613023897, 1.1493939246149054, 1.1494063602538895, 1.1494484208503433, 1.149452402659496, 1.149455093382286, 1.1494657076049462, 1.1494714603778338, 1.1495147324766128, 1.2509391687950882, 1.1495180084556018, 1.1495200094668165, 1.1495312240841087, 1.2509934037625663, 1.2510575149897711, 1.2510642224671848, 1.8621364814596508, 4.510381947741003, 3.28859387143708, 3.3903247506904126, 2.8807386931514722, 2.8808520497510113, 6.308279418798697, 1.964160720690156, 4.670803021688642, 2.8810556639409977, 1.8625477781549145, 7.287024394084591, 7.28744948508785, 7.287467220208952, 1.8627217189025378, 2.482022061932029, 1.736529776906258, 1.0236831901706673, 1.0236831669552962, 1.0236831714036994, 1.0236831714036994, 1.0236831718512083, 1.0236831718512083, 1.0236831718512083, 1.0236831718512083, 1.0236831718512083, 1.0236831718512083, 1.023683184596049, 1.023683184596049, 1.0236832348907519, 1.0236832300113718, 1.0519489034702847, 1.0519497851161916, 1.0519521206186417, 1.0519565199762486, 1.0519568827196517, 1.0519573450480455, 1.0519575779489725, 1.0519578309140536, 1.051959580315043, 1.0519617289219063, 1.0519634430574567, 1.0519634535583082, 1.0519714998691643, 1.0745736457689696, 1.0745736466639875, 1.0745736466639875, 1.2510930916833112, 1.2511018142395598, 1.2511934623953556, 1.2512093238876911, 1.2512364125944113, 1.2512413308361567, 1.25124689510226, 1.251272683257595, 1.2512915119408443, 1.2513000500672768, 1.251327870993502, 1.2513468925660185, 1.2513482837444214, 1.2513548654931332, 1.2513643336509355, 1.2513649801228024, 4.5102629899209505, 1.251370817164978, 1.2513788003847972, 1.2513989260393599, 1.2514134910078907, 1.2514451206804904, 1.251455701870517, 1.2514608022613163, 4.511598349895642, 2.0661448328889813, 2.0662859816323698, 2.0663164376435255, 2.066351501007756, 2.066443699640014, 2.892460862205234, 2.066498966944759, 1.9641735409107837, 3.3083573325300573, 2.077374559469089, 1.838572305940307, 7.287467220208952], \"Category\": [\"Default\", \"Default\", \"Default\", \"Default\", \"Default\", \"Default\", \"Default\", \"Default\", \"Default\", \"Default\", \"Default\", \"Default\", \"Default\", \"Default\", \"Default\", \"Default\", \"Default\", \"Default\", \"Default\", \"Default\", \"Default\", \"Default\", \"Default\", \"Default\", \"Default\", \"Default\", \"Default\", \"Default\", \"Default\", \"Default\", \"Topic1\", \"Topic1\", \"Topic1\", \"Topic1\", \"Topic1\", \"Topic1\", \"Topic1\", \"Topic1\", \"Topic1\", \"Topic1\", \"Topic1\", \"Topic1\", \"Topic1\", \"Topic1\", \"Topic1\", \"Topic1\", \"Topic1\", \"Topic1\", \"Topic1\", \"Topic1\", \"Topic1\", \"Topic1\", \"Topic1\", \"Topic1\", \"Topic1\", \"Topic1\", \"Topic1\", \"Topic1\", \"Topic1\", \"Topic1\", \"Topic1\", \"Topic1\", \"Topic1\", \"Topic1\", \"Topic1\", \"Topic1\", \"Topic1\", \"Topic1\", \"Topic1\", \"Topic1\", \"Topic1\", \"Topic2\", \"Topic2\", \"Topic2\", \"Topic2\", \"Topic2\", \"Topic2\", \"Topic2\", \"Topic2\", \"Topic2\", \"Topic2\", \"Topic2\", \"Topic2\", \"Topic2\", \"Topic2\", \"Topic2\", \"Topic2\", \"Topic2\", \"Topic2\", \"Topic2\", \"Topic2\", \"Topic2\", \"Topic2\", \"Topic2\", \"Topic2\", \"Topic2\", \"Topic2\", \"Topic2\", \"Topic2\", \"Topic2\", \"Topic2\", \"Topic2\", \"Topic2\", \"Topic2\", \"Topic2\", \"Topic2\", \"Topic2\", \"Topic2\", \"Topic2\", \"Topic3\", \"Topic3\", \"Topic3\", \"Topic3\", \"Topic3\", \"Topic3\", \"Topic3\", \"Topic3\", \"Topic3\", \"Topic3\", \"Topic3\", \"Topic3\", \"Topic3\", \"Topic3\", \"Topic3\", \"Topic3\", \"Topic3\", \"Topic3\", \"Topic3\", \"Topic3\", \"Topic3\", \"Topic3\", \"Topic3\", \"Topic3\", \"Topic3\", \"Topic3\", \"Topic3\", \"Topic3\", \"Topic3\", \"Topic3\", \"Topic3\", \"Topic3\", \"Topic3\", \"Topic3\", \"Topic3\", \"Topic3\", \"Topic3\", \"Topic3\", \"Topic3\", \"Topic3\", \"Topic3\", \"Topic4\", \"Topic4\", \"Topic4\", \"Topic4\", \"Topic4\", \"Topic4\", \"Topic4\", \"Topic4\", \"Topic4\", \"Topic4\", \"Topic4\", \"Topic4\", \"Topic4\", \"Topic4\", \"Topic4\", \"Topic4\", \"Topic4\", \"Topic4\", \"Topic4\", \"Topic4\", \"Topic4\", \"Topic4\", \"Topic4\", \"Topic4\", \"Topic4\", \"Topic4\", \"Topic4\", \"Topic4\", \"Topic4\", \"Topic4\", \"Topic4\", \"Topic4\", \"Topic4\", \"Topic4\", \"Topic4\", \"Topic5\", \"Topic5\", \"Topic5\", \"Topic5\", \"Topic5\", \"Topic5\", \"Topic5\", \"Topic5\", \"Topic5\", \"Topic5\", \"Topic5\", \"Topic5\", \"Topic5\", \"Topic5\", \"Topic5\", \"Topic5\", \"Topic5\", \"Topic5\", \"Topic5\", \"Topic5\", \"Topic5\", \"Topic5\", \"Topic5\", \"Topic5\", \"Topic5\", \"Topic5\", \"Topic5\", \"Topic5\", \"Topic5\", \"Topic5\", \"Topic5\", \"Topic5\", \"Topic5\", \"Topic5\", \"Topic6\", \"Topic6\", \"Topic6\", \"Topic6\", \"Topic6\", \"Topic6\", \"Topic6\", \"Topic6\", \"Topic6\", \"Topic6\", \"Topic6\", \"Topic6\", \"Topic6\", \"Topic6\", \"Topic6\", \"Topic6\", \"Topic6\", \"Topic6\", \"Topic6\", \"Topic6\", \"Topic6\", \"Topic6\", \"Topic6\", \"Topic6\", \"Topic6\", \"Topic6\", \"Topic6\", \"Topic6\", \"Topic6\", \"Topic6\", \"Topic6\", \"Topic6\", \"Topic7\", \"Topic7\", \"Topic7\", \"Topic7\", \"Topic7\", \"Topic7\", \"Topic7\", \"Topic7\", \"Topic7\", \"Topic7\", \"Topic7\", \"Topic7\", \"Topic7\", \"Topic7\", \"Topic7\", \"Topic7\", \"Topic7\", \"Topic7\", \"Topic7\", \"Topic7\", \"Topic7\", \"Topic7\", \"Topic7\", \"Topic7\", \"Topic7\", \"Topic7\", \"Topic7\", \"Topic7\", \"Topic7\", \"Topic7\", \"Topic7\", \"Topic7\", \"Topic7\", \"Topic7\", \"Topic7\", \"Topic7\", \"Topic7\", \"Topic7\", \"Topic7\", \"Topic7\", \"Topic7\", \"Topic7\", \"Topic7\", \"Topic7\", \"Topic7\", \"Topic7\", \"Topic7\", \"Topic7\", \"Topic7\", \"Topic7\", \"Topic7\", \"Topic7\", \"Topic7\", \"Topic7\", \"Topic7\", \"Topic8\", \"Topic8\", \"Topic8\", \"Topic8\", \"Topic8\", \"Topic8\", \"Topic8\", \"Topic8\", \"Topic8\", \"Topic8\", \"Topic8\", \"Topic8\", \"Topic8\", \"Topic8\", \"Topic8\", \"Topic8\", \"Topic8\", \"Topic8\", \"Topic8\", \"Topic8\", \"Topic8\", \"Topic8\", \"Topic8\", \"Topic8\", \"Topic8\", \"Topic8\", \"Topic8\", \"Topic8\", \"Topic8\", \"Topic8\", \"Topic8\", \"Topic8\", \"Topic8\", \"Topic8\", \"Topic8\", \"Topic8\", \"Topic8\", \"Topic8\", \"Topic8\", \"Topic8\", \"Topic8\", \"Topic8\", \"Topic8\", \"Topic8\", \"Topic8\", \"Topic8\", \"Topic8\", \"Topic8\", \"Topic8\", \"Topic8\", \"Topic8\", \"Topic8\", \"Topic8\", \"Topic8\", \"Topic8\", \"Topic8\", \"Topic8\", \"Topic8\", \"Topic8\", \"Topic8\", \"Topic9\", \"Topic9\", \"Topic9\", \"Topic9\", \"Topic9\", \"Topic9\", \"Topic9\", \"Topic9\", \"Topic9\", \"Topic9\", \"Topic9\", \"Topic9\", \"Topic9\", \"Topic9\", \"Topic9\", \"Topic9\", \"Topic9\", \"Topic9\", \"Topic9\", \"Topic9\", \"Topic9\", \"Topic9\", \"Topic9\", \"Topic9\", \"Topic9\", \"Topic9\", \"Topic9\", \"Topic9\", \"Topic9\", \"Topic9\", \"Topic9\", \"Topic9\", \"Topic9\", \"Topic9\", \"Topic9\", \"Topic9\", \"Topic9\", \"Topic9\", \"Topic9\", \"Topic9\", \"Topic9\", \"Topic9\", \"Topic9\", \"Topic9\", \"Topic9\", \"Topic9\", \"Topic9\", \"Topic9\", \"Topic9\", \"Topic9\", \"Topic9\", \"Topic9\", \"Topic9\", \"Topic9\", \"Topic9\", \"Topic9\", \"Topic9\", \"Topic9\", \"Topic9\", \"Topic9\", \"Topic9\", \"Topic9\", \"Topic9\", \"Topic9\", \"Topic9\", \"Topic9\", \"Topic9\", \"Topic9\", \"Topic9\", \"Topic9\", \"Topic9\", \"Topic9\", \"Topic9\", \"Topic9\", \"Topic9\", \"Topic9\", \"Topic9\", \"Topic9\", \"Topic9\", \"Topic9\", \"Topic10\", \"Topic10\", \"Topic10\", \"Topic10\", \"Topic10\", \"Topic10\", \"Topic10\", \"Topic10\", \"Topic10\", \"Topic10\", \"Topic10\", \"Topic10\", \"Topic10\", \"Topic10\", \"Topic10\", \"Topic10\", \"Topic10\", \"Topic10\", \"Topic10\", \"Topic10\", \"Topic10\", \"Topic10\", \"Topic10\", \"Topic10\", \"Topic10\", \"Topic10\", \"Topic10\", \"Topic10\", \"Topic10\", \"Topic10\", \"Topic10\", \"Topic10\", \"Topic10\", \"Topic10\", \"Topic10\", \"Topic10\", \"Topic10\", \"Topic10\", \"Topic10\", \"Topic10\", \"Topic10\", \"Topic10\", \"Topic10\", \"Topic10\", \"Topic10\", \"Topic10\", \"Topic10\", \"Topic10\", \"Topic10\", \"Topic10\", \"Topic10\", \"Topic10\", \"Topic10\", \"Topic10\", \"Topic10\", \"Topic10\", \"Topic10\", \"Topic10\", \"Topic10\", \"Topic10\", \"Topic10\", \"Topic10\", \"Topic10\", \"Topic10\", \"Topic10\", \"Topic10\", \"Topic10\"], \"logprob\": [30.0, 29.0, 28.0, 27.0, 26.0, 25.0, 24.0, 23.0, 22.0, 21.0, 20.0, 19.0, 18.0, 17.0, 16.0, 15.0, 14.0, 13.0, 12.0, 11.0, 10.0, 9.0, 8.0, 7.0, 6.0, 5.0, 4.0, 3.0, 2.0, 1.0, -2.7908, -3.2535, -4.1404, -4.1406, -4.1407, -4.1407, -4.1407, -4.1408, -4.1408, -4.1408, -4.1409, -3.751, -4.787, -4.787, -4.787, -4.787, -4.7871, -4.787, -4.7871, -4.7871, -4.7871, -4.7871, -4.7871, -4.7871, -4.7871, -4.7871, -4.7871, -4.7871, -4.7871, -4.7871, -3.7512, -4.1408, -4.1399, -3.4715, -4.1406, -4.7835, -4.7862, -4.7863, -4.7864, -4.787, -4.787, -3.2292, -3.2296, -3.2304, -3.7283, -3.7285, -3.7286, -4.1165, -4.1165, -4.1166, -4.1166, -4.1166, -4.1167, -4.7631, -4.7631, -4.7631, -4.7632, -4.7632, -4.7632, -4.7632, -4.7632, -4.7632, -4.7632, -4.7632, -4.7632, -4.7633, -4.7633, -4.7633, -4.7633, -4.7634, -4.7634, -4.1166, -3.7284, -4.1179, -4.1171, -4.1172, -4.1172, -4.7632, -4.7632, -2.9699, -3.6388, -3.6389, -3.6392, -4.2854, -4.2854, -4.2854, -4.2855, -4.2855, -4.2855, -4.2855, -4.2855, -4.2856, -4.2856, -4.2856, -4.2856, -4.2856, -4.2856, -4.2856, -4.2857, -4.2857, -4.2857, -4.2857, -4.2858, -4.2858, -4.2858, -4.2858, -4.2858, -4.2858, -4.2859, -3.2495, -3.6388, -4.2855, -4.2855, -4.2855, -4.2855, -4.2856, -4.2856, -4.2856, -4.2856, -4.2857, -3.0567, -3.0567, -3.4462, -4.0928, -4.0928, -4.0928, -4.0928, -4.0928, -4.0928, -4.0928, -4.0928, -4.0928, -4.0928, -4.0928, -4.0928, -2.0963, -4.0928, -3.4462, -3.4462, -4.0928, -3.4462, -4.0928, -3.4462, -3.4462, -3.4462, -6.4907, -6.4907, -6.4907, -6.4907, -6.4907, -6.4907, -6.4907, -6.4907, -6.4907, -6.4907, -2.3186, -3.3827, -3.3836, -3.3838, -4.0293, -4.0308, -4.031, -4.031, -4.0311, -4.0312, -4.0312, -4.0312, -4.0312, -4.0312, -4.0313, -4.0315, -4.0315, -3.3827, -3.3852, -4.0293, -4.0293, -4.0315, -3.3836, -3.3837, -3.3839, -4.0293, -6.4271, -6.4271, -6.4271, -6.4271, -6.4271, -6.4271, -6.4271, -6.4271, -3.3192, -3.9658, -3.9658, -3.9658, -3.9658, -3.9658, -3.9658, -3.9658, -3.9658, -3.9658, -3.9658, -3.9658, -3.9658, -3.9658, -3.9658, -3.3187, -3.3188, -3.9658, -3.9657, -3.9658, -3.965, -3.9657, -3.9642, -3.3189, -3.3175, -3.3178, -3.3178, -3.9646, -6.3391, -6.3394, -6.2294, -6.3016, -5.4338, -5.4338, -5.4338, -5.4338, -5.4338, -5.4338, -5.4338, -5.4338, -5.4338, -5.4338, -5.4338, -5.4338, -5.4338, -5.4338, -5.4326, -5.4338, -5.4338, -5.4338, -5.4338, -5.4338, -5.4338, -5.4338, -5.4338, -5.4338, -5.4338, -5.4338, -5.4338, -5.4338, -5.4338, -5.4338, -5.4317, -5.4321, -5.4325, -5.4326, -5.4327, -5.4328, -5.4329, -5.4329, -5.4331, -5.4333, -5.4338, -5.4338, -5.4338, -5.4338, -5.4338, -5.4338, -5.4338, -5.4338, -5.4338, -5.4338, -5.4338, -5.4338, -5.4338, -5.4338, -5.4338, -5.4344, -5.4344, -5.4344, -5.4344, -5.4344, -5.4344, -5.4344, -5.4344, -5.4344, -5.4344, -5.4344, -5.4344, -5.4344, -5.4344, -5.4344, -5.4344, -5.4344, -5.4344, -5.4344, -5.4344, -5.4344, -5.4344, -5.4344, -5.4344, -5.4344, -5.4344, -5.4344, -5.4344, -5.4344, -5.4344, -5.4324, -5.4325, -5.4325, -5.4325, -5.4326, -5.4326, -5.422, -5.4272, -5.4295, -5.43, -5.4304, -5.4309, -5.4309, -5.431, -5.4311, -5.4313, -5.4314, -5.4317, -5.432, -5.432, -5.4321, -5.4321, -5.4322, -5.4324, -5.4326, -5.4326, -5.4327, -5.4327, -5.4327, -5.4327, -5.4375, -5.4375, -5.4375, -5.4375, -5.4375, -5.4375, -5.4375, -5.4375, -5.4375, -5.4375, -5.4375, -5.4375, -5.4375, -5.4375, -5.4375, -5.4375, -5.4375, -5.4375, -5.4375, -5.4375, -5.4375, -5.4375, -5.4375, -5.4375, -5.4375, -5.4375, -5.4375, -5.4375, -5.4375, -5.4375, -5.4249, -5.4257, -5.4259, -5.4261, -5.4264, -5.4265, -5.4273, -5.4273, -5.4274, -5.4275, -5.4276, -5.4277, -5.4281, -5.4282, -5.4282, -5.4283, -5.4289, -5.429, -5.4291, -5.4293, -5.4299, -5.4299, -5.43, -5.4301, -5.4302, -5.4308, -5.4266, -5.4309, -5.4309, -5.4311, -5.4273, -5.4281, -5.4282, -5.417, -5.4002, -5.4073, -5.407, -5.4142, -5.4156, -5.4085, -5.4213, -5.4131, -5.4183, -5.423, -5.418, -5.4238, -5.4243, -5.4256, -5.4262, -5.4269, -5.4351, -5.4351, -5.4351, -5.4351, -5.4351, -5.4351, -5.4351, -5.4351, -5.4351, -5.4351, -5.4351, -5.4351, -5.4351, -5.4351, -5.4351, -5.4351, -5.4351, -5.4351, -5.4351, -5.4351, -5.4351, -5.4351, -5.4351, -5.4351, -5.4351, -5.4351, -5.4351, -5.4351, -5.4351, -5.4351, -5.4263, -5.4265, -5.4276, -5.4278, -5.4282, -5.4282, -5.4283, -5.4286, -5.4289, -5.429, -5.4294, -5.4296, -5.4296, -5.4297, -5.4298, -5.4298, -5.3969, -5.4299, -5.43, -5.4303, -5.4305, -5.4309, -5.431, -5.4311, -5.4137, -5.4222, -5.424, -5.4244, -5.4248, -5.426, -5.4245, -5.4267, -5.4269, -5.4283, -5.4283, -5.4289, -5.4296], \"loglift\": [30.0, 29.0, 28.0, 27.0, 26.0, 25.0, 24.0, 23.0, 22.0, 21.0, 20.0, 19.0, 18.0, 17.0, 16.0, 15.0, 14.0, 13.0, 12.0, 11.0, 10.0, 9.0, 8.0, 7.0, 6.0, 5.0, 4.0, 3.0, 2.0, 1.0, 1.2205, 1.1913, 1.0866, 1.0864, 1.0864, 1.0864, 1.0864, 1.0863, 1.0863, 1.0863, 1.0863, 0.9448, 0.9434, 0.9434, 0.9434, 0.9434, 0.9434, 0.9434, 0.9434, 0.9434, 0.9434, 0.9434, 0.9433, 0.9433, 0.9433, 0.9433, 0.9433, 0.9433, 0.9433, 0.9433, 0.7794, 0.8386, 0.7577, 0.3121, 0.4487, -0.6618, -0.8088, -0.8088, -0.809, 0.4956, 0.4453, 1.2277, 1.2277, 1.2268, 1.1772, 1.177, 1.1769, 1.1212, 1.1212, 1.1212, 1.1212, 1.1212, 1.1212, 0.9762, 0.9762, 0.9762, 0.9761, 0.9761, 0.9761, 0.9761, 0.9761, 0.9761, 0.9761, 0.9761, 0.9761, 0.9761, 0.9761, 0.9761, 0.9761, 0.9761, 0.9761, 0.7849, 0.3933, 0.3043, -0.1397, -0.1398, -0.1398, 0.4692, 0.4692, 1.8032, 1.7027, 1.7027, 1.7026, 1.5388, 1.5388, 1.5388, 1.5388, 1.5388, 1.5388, 1.5388, 1.5387, 1.5387, 1.5387, 1.5387, 1.5387, 1.5387, 1.5387, 1.5387, 1.5387, 1.5387, 1.5387, 1.5387, 1.5387, 1.5387, 1.5387, 1.5387, 1.5386, 1.5386, 1.5386, 1.4931, 0.4829, 0.9972, 1.003, -0.3081, 1.126, 0.1367, 1.0029, -0.3082, 0.9971, 0.813, 2.052, 2.052, 1.9793, 1.7988, 1.7988, 1.7988, 1.7988, 1.7988, 1.7988, 1.7988, 1.7988, 1.7988, 1.7988, 1.7988, 1.7988, 1.6873, 1.2286, 1.1431, 1.0844, 1.0058, 0.976, 0.6029, 0.5313, 0.5312, 0.5312, -0.5506, -0.5506, -0.5506, -0.5506, -0.5506, -2.369, -1.9453, -1.0385, -1.4362, -1.004, 2.2268, 2.0695, 2.0686, 2.0684, 1.8836, 1.8821, 1.8819, 1.8819, 1.8818, 1.8818, 1.8817, 1.8817, 1.8817, 1.8817, 1.8817, 1.8815, 1.8814, 1.6718, 1.3819, 1.304, 1.304, 1.3018, 0.5938, 0.5938, 0.5935, 0.3929, -0.487, -0.487, -0.487, -0.487, -2.3054, -2.6435, -1.3543, -1.8378, 2.1676, 1.9744, 1.9744, 1.9744, 1.9744, 1.9744, 1.9744, 1.9744, 1.9744, 1.9744, 1.9744, 1.9744, 1.9744, 1.9744, 1.9744, 1.7541, 1.754, 1.4459, 1.4458, 1.3888, 1.3835, 1.1329, 1.0151, 0.8029, 0.6599, 0.6597, 0.6596, 0.6247, -0.4261, -0.4264, -1.6841, -1.5345, 0.5064, 0.5064, 0.5064, 0.5064, 0.5064, 0.5064, 0.5064, 0.5064, 0.5064, 0.5064, 0.5064, 0.5064, 0.5064, 0.5064, 0.4803, 0.4792, 0.4792, 0.4792, 0.4792, 0.4792, 0.4792, 0.4792, 0.4791, 0.4791, 0.4791, 0.4791, 0.4791, 0.4579, 0.4579, 0.4579, -0.3771, 0.0201, 0.0197, -1.0103, -0.0993, -1.4554, -1.4554, -1.4555, 0.0191, -0.0999, -1.6502, -0.8445, -1.3121, -0.8884, -0.361, -0.3351, -0.0221, -0.325, -0.4545, -0.6666, -0.9766, -0.9766, 0.053, -0.0852, -0.0792, 0.5058, 0.5058, 0.5058, 0.5058, 0.5058, 0.5058, 0.5058, 0.5058, 0.5058, 0.5058, 0.5058, 0.5058, 0.5058, 0.5058, 0.4785, 0.4785, 0.4785, 0.4785, 0.4785, 0.4785, 0.4785, 0.4785, 0.4785, 0.4785, 0.4785, 0.4785, 0.4785, 0.4573, 0.4573, 0.4573, 0.2981, 0.298, 0.298, 0.2979, 0.2979, 0.2979, -1.4108, -0.9824, -1.6459, -0.8993, -0.2032, -0.2037, -0.2038, -0.2038, -0.7354, -0.2042, -0.2043, -0.2046, -0.8427, -0.4527, -0.2051, -0.205, -0.3594, -0.5348, -1.4551, 0.2979, 0.2979, 0.2978, 0.2978, 0.2978, 0.5026, 0.5026, 0.5026, 0.5026, 0.5026, 0.5026, 0.5026, 0.5026, 0.5026, 0.5026, 0.5026, 0.5026, 0.5026, 0.5026, 0.4754, 0.4754, 0.4754, 0.4754, 0.4754, 0.4754, 0.4754, 0.4754, 0.4754, 0.4754, 0.4754, 0.4754, 0.4754, 0.4541, 0.4541, 0.4541, 0.3997, 0.3989, 0.3986, 0.3984, 0.3981, 0.398, 0.3972, 0.3971, 0.3971, 0.3969, 0.3968, 0.3967, 0.3963, 0.3962, 0.3962, 0.3961, 0.3954, 0.3953, 0.3953, 0.3951, 0.3944, 0.3943, 0.3943, 0.3942, 0.3941, 0.3934, 0.3131, 0.3933, 0.3933, 0.3931, 0.3123, 0.3115, 0.3113, -0.0752, -0.943, -0.6342, -0.6644, -0.5087, -0.5101, -1.2868, -0.1328, -0.9909, -0.5128, -0.0814, -1.4405, -1.4463, -1.4468, -0.0841, -0.3717, -0.0152, 0.505, 0.505, 0.505, 0.505, 0.505, 0.505, 0.505, 0.505, 0.505, 0.505, 0.505, 0.505, 0.505, 0.505, 0.4778, 0.4778, 0.4778, 0.4778, 0.4778, 0.4778, 0.4778, 0.4778, 0.4778, 0.4778, 0.4778, 0.4778, 0.4778, 0.4565, 0.4565, 0.4565, 0.3132, 0.3131, 0.3118, 0.3116, 0.3113, 0.3112, 0.3111, 0.3108, 0.3105, 0.3104, 0.31, 0.3098, 0.3097, 0.3096, 0.3095, 0.3095, -0.9397, 0.3094, 0.3093, 0.309, 0.3088, 0.3084, 0.3083, 0.3082, -0.9567, -0.1843, -0.1862, -0.1866, -0.1871, -0.1883, -0.523, -0.189, -0.1384, -0.6611, -0.1959, -0.0743, -1.4522]}, \"token.table\": {\"Topic\": [3, 3, 1, 2, 1, 5, 3, 6, 4, 4, 5, 6, 1, 5, 2, 3, 2, 6, 3, 1, 2, 3, 4, 5, 6, 1, 4, 2, 5, 3, 3, 1, 6, 1, 3, 2, 2, 6, 6, 1, 6, 1, 4, 5, 3, 2, 1, 1, 4, 5, 1, 2, 3, 5, 3, 2, 1, 1, 2, 3, 6, 5, 4, 4, 3, 3, 2, 1, 3, 2, 2, 4, 2, 3, 3, 2, 2, 6, 1, 3, 6, 1, 3, 2, 3, 2, 3, 2, 5, 3, 6, 3, 2, 3, 4, 1, 6, 1, 4, 6, 1, 2, 1, 1, 1, 1, 2, 3, 6, 3, 2, 2, 4, 2, 2, 1, 6, 6, 2, 2, 2, 1, 4, 1, 2, 2, 1, 2, 2, 1, 3, 1, 2, 3, 4, 5, 6, 1, 1, 2, 2, 6, 2, 3, 4, 5, 5, 3, 4, 1, 3, 1, 2, 3, 4, 5, 6, 5, 4, 3, 5, 2, 3, 1, 2, 3, 2, 5, 1, 2, 3, 4, 1, 1, 2, 1, 4, 2, 5, 5, 4, 1, 2, 1, 3, 1, 1, 2, 5, 6, 2, 1, 6, 1, 1, 3, 1, 3, 6, 1, 3, 1, 1, 2, 1, 4, 5, 1, 5, 6, 3, 1, 3, 3, 2, 3, 4, 6, 1, 1, 5, 2, 2, 1, 2, 5, 6, 5, 3, 1, 4, 1, 2, 3, 1, 2, 6, 1, 6, 4, 3, 1, 1, 5, 1], \"Freq\": [0.8699794769111735, 0.8701857499706595, 0.4813768395505759, 0.4813768395505759, 0.9576043238665063, 0.9505960951645286, 0.8701593172710655, 0.9768647443833818, 0.9306016419670246, 0.9306016419670246, 0.9506068661882597, 0.9768647448104237, 0.5324686624075595, 0.5324686624075595, 0.2949569948413815, 0.589913989682763, 0.7991236380799842, 0.9768647448104237, 0.8701742211388701, 0.13722222048280105, 0.2744444409656021, 0.13722222048280105, 0.13722222048280105, 0.13722222048280105, 0.13722222048280105, 0.9935899568330603, 0.9306016419670246, 0.8868428541851928, 0.5996846910041662, 0.8699298250607819, 0.8699694069896383, 0.7920550227230959, 0.9768647443833818, 0.7921080871016982, 0.8699143258901603, 0.7990661778563568, 0.7990694345036161, 0.6207460156904334, 0.9768647322214299, 0.5406159431455755, 0.5406159431455755, 0.5261338362723744, 0.5261338362723744, 0.9506093038857959, 0.8700300871016157, 0.9679863522459389, 0.792045007863621, 0.33912367974858365, 0.5652061329143061, 0.9506084470430654, 0.7920514444843482, 0.7990963875534043, 0.8700247319052581, 0.9506086756366398, 0.8701557621026693, 0.9679059623030661, 0.7920838975934025, 0.7921217403255966, 0.7991863111696601, 0.8700143261597338, 0.9768647443833818, 0.9506165144534018, 0.9306016419670246, 0.9306016427421273, 0.8700659233289928, 0.8700734427679921, 0.7990761907771363, 0.7920447027246155, 0.8699774404039461, 0.7993647264584587, 0.7992369126398274, 0.5838577941423831, 0.7993010325510851, 0.8701019479206147, 0.8700934136110556, 0.7993194770032918, 0.5439002843505613, 0.5439002843505613, 0.7921205331973709, 0.5758611302258034, 0.5758611302258034, 0.7920566401957668, 0.8699283107423519, 0.7992954599045293, 0.8701973043124838, 0.9678204693017218, 0.8700681954169293, 0.4028973051196776, 0.4028973051196776, 0.536898978769084, 0.9768647443833818, 0.9122439915905556, 0.5091233061867898, 0.5091233061867898, 0.9306016419670246, 0.4103457578233688, 0.4103457578233688, 0.5060359606089061, 0.25301798030445305, 0.25301798030445305, 0.9575749522252595, 0.8866037465619085, 0.792102404273806, 0.9575924006901293, 0.7920303419749075, 0.158521830377392, 0.475565491132176, 0.158521830377392, 0.158521830377392, 0.8699104597049845, 0.7991273656242683, 0.7993993832355619, 0.9306016381289379, 0.9679202287478117, 0.799226780769866, 0.7474238557943814, 0.3737119278971907, 0.9768647269017684, 0.9678895381664752, 0.799138916587226, 0.9678463537856905, 0.8443310408296228, 0.28144368027654093, 0.7920861596381202, 0.7991338249249709, 1.0412849836772324, 0.6887943096588456, 0.3443971548294228, 1.041358580097609, 0.5061846279581663, 0.5061846279581663, 0.13722188653238665, 0.2744437730647733, 0.13722188653238665, 0.13722188653238665, 0.13722188653238665, 0.13722188653238665, 0.7920539789887133, 0.7920938490972812, 0.799105688195666, 0.799323762511571, 0.9768647443833818, 0.4281918956361677, 0.21409594781808386, 0.21409594781808386, 0.21409594781808386, 0.599701055147324, 0.5368488432019632, 0.9306016419670246, 0.9576642419045495, 0.8699323042563487, 0.13723022538689084, 0.2744604507737817, 0.13723022538689084, 0.13723022538689084, 0.13723022538689084, 0.13723022538689084, 0.950604924596298, 0.9306016419670246, 0.8702378503173749, 0.9506096316819048, 1.0413995573885455, 0.8700993261089415, 0.7920645460979938, 0.5091199831234372, 0.5091199831234372, 0.799127778464355, 0.9685926310098267, 0.9576264776446455, 0.7991510643857407, 0.8699824906107716, 0.9306016419670246, 0.7920437826299732, 0.34572637198540773, 0.6914527439708155, 0.9575166381195777, 0.8507313773648925, 0.7991185400395958, 0.9506033661316468, 0.5996849471902964, 0.930601642354576, 0.48135025998220765, 0.48135025998220765, 0.5061515940010191, 0.5061515940010191, 0.7920270880046886, 0.30226480984000986, 0.30226480984000986, 0.30226480984000986, 0.9768646842269725, 0.7992063364241159, 0.41033506957218335, 0.41033506957218335, 0.7921011847159305, 0.7921285033719397, 0.870113829283998, 0.7920648516360441, 0.5757879018197617, 0.5757879018197617, 0.792063032409878, 0.8700692294552687, 0.7920452287814526, 0.792025445898708, 0.7991742854939751, 0.7158103425195346, 0.23860344750651155, 0.9506157177355632, 0.7920389299228365, 0.9506136072161827, 0.9768646888831921, 0.8701108533725208, 0.7921086922364847, 0.5370175655525217, 0.8699198238801664, 0.7991380281496775, 0.4210822212784686, 0.4210822212784686, 0.4210822212784686, 0.9576265384865681, 0.5324561598708131, 0.5324561598708131, 0.7992027823719583, 0.8868662445934459, 0.7920510767209799, 0.7991688324045335, 0.9506033756207073, 0.976864749055378, 0.9506088860992054, 0.870117385097142, 0.7920496175114595, 0.8507313860319765, 0.9576122510557743, 0.7992094778687922, 0.8699650530438553, 0.48132438861907795, 0.48132438861907795, 0.9768647322214299, 0.7920259376984761, 0.9768647443833818, 0.9306016419670246, 0.8700237391067135, 0.9575555031482992, 0.5324517479258382, 0.5324517479258382, 0.8758865287382765], \"Term\": [\"anger\", \"bail\", \"bar\", \"bar\", \"blessing\", \"blood\", \"blue\", \"board\", \"boogie\", \"book\", \"bosom\", \"boy\", \"brother\", \"brother\", \"buck\", \"buck\", \"button\", \"carpet\", \"cell\", \"charge\", \"charge\", \"charge\", \"charge\", \"charge\", \"charge\", \"child\", \"collection\", \"com\", \"company\", \"condition\", \"copper\", \"corn\", \"corner\", \"cotton\", \"county\", \"crack\", \"crown\", \"crystal\", \"curse\", \"dark\", \"dark\", \"darkness\", \"darkness\", \"dawn\", \"day\", \"desire\", \"despair\", \"dream\", \"dream\", \"dusky\", \"dust\", \"ecstasy\", \"escalation\", \"euphrate\", \"eviction\", \"eye\", \"face\", \"field\", \"fire\", \"fist\", \"floor\", \"flow\", \"foot\", \"front\", \"frustration\", \"furniture\", \"glass\", \"goal\", \"government\", \"graphic\", \"hair\", \"hand\", \"head\", \"headline\", \"heat\", \"history\", \"honey\", \"honey\", \"hope\", \"house\", \"house\", \"husband\", \"iron\", \"jacket\", \"jail\", \"jet\", \"judge\", \"kitchen\", \"kitchen\", \"land\", \"landin\", \"landlord\", \"leak\", \"leak\", \"lie\", \"life\", \"life\", \"light\", \"light\", \"light\", \"line\", \"lip\", \"look\", \"love\", \"make\", \"man\", \"man\", \"man\", \"man\", \"member\", \"memory\", \"money\", \"montage\", \"moon\", \"moonlight\", \"mother\", \"mother\", \"motherand\", \"music\", \"needle\", \"negro\", \"night\", \"night\", \"none\", \"note\", \"oldpoetry\", \"one\", \"one\", \"opoem\", \"order\", \"order\", \"owner\", \"owner\", \"owner\", \"owner\", \"owner\", \"owner\", \"pain\", \"pass\", \"patent\", \"phone\", \"place\", \"poem\", \"poem\", \"poem\", \"poem\", \"poemid\", \"police\", \"pop\", \"prayer\", \"press\", \"purpose\", \"purpose\", \"purpose\", \"purpose\", \"purpose\", \"purpose\", \"pyramid\", \"re\", \"reader\", \"recite\", \"rent\", \"repair\", \"respect\", \"rhythm\", \"rhythm\", \"riff\", \"river\", \"road\", \"roll\", \"roof\", \"rumble\", \"safety\", \"sea\", \"sea\", \"seed\", \"shadow\", \"ship\", \"singing\", \"singlepoem\", \"sky\", \"slave\", \"slave\", \"song\", \"song\", \"sorrow\", \"soul\", \"soul\", \"soul\", \"splinter\", \"spotlight\", \"stair\", \"stair\", \"stand\", \"star\", \"station\", \"steel\", \"step\", \"step\", \"stopping\", \"street\", \"strife\", \"struggle\", \"sucker\", \"sun\", \"sun\", \"sunset\", \"sweat\", \"table\", \"tack\", \"talk\", \"tear\", \"tenant\", \"term\", \"throat\", \"time\", \"time\", \"time\", \"today\", \"tomorrow\", \"tomorrow\", \"trouble\", \"trumpet\", \"trust\", \"tune\", \"turn\", \"turnin\", \"vein\", \"verse\", \"version\", \"wall\", \"way\", \"weariness\", \"week\", \"whip\", \"whip\", \"wishand\", \"woman\", \"wonder\", \"woogie\", \"word\", \"work\", \"world\", \"world\", \"year\"]}, \"R\": 30, \"lambda.step\": 0.01, \"plot.opts\": {\"xlab\": \"PC1\", \"ylab\": \"PC2\"}, \"topic.order\": [9, 1, 6, 5, 4, 8, 2, 3, 7, 10]};\n",
              "\n",
              "function LDAvis_load_lib(url, callback){\n",
              "  var s = document.createElement('script');\n",
              "  s.src = url;\n",
              "  s.async = true;\n",
              "  s.onreadystatechange = s.onload = callback;\n",
              "  s.onerror = function(){console.warn(\"failed to load library \" + url);};\n",
              "  document.getElementsByTagName(\"head\")[0].appendChild(s);\n",
              "}\n",
              "\n",
              "if(typeof(LDAvis) !== \"undefined\"){\n",
              "   // already loaded: just create the visualization\n",
              "   !function(LDAvis){\n",
              "       new LDAvis(\"#\" + \"ldavis_el9941403180993937446367621123\", ldavis_el9941403180993937446367621123_data);\n",
              "   }(LDAvis);\n",
              "}else if(typeof define === \"function\" && define.amd){\n",
              "   // require.js is available: use it to load d3/LDAvis\n",
              "   require.config({paths: {d3: \"https://d3js.org/d3.v5\"}});\n",
              "   require([\"d3\"], function(d3){\n",
              "      window.d3 = d3;\n",
              "      LDAvis_load_lib(\"https://cdn.jsdelivr.net/gh/bmabey/pyLDAvis@3.3.1/pyLDAvis/js/ldavis.v3.0.0.js\", function(){\n",
              "        new LDAvis(\"#\" + \"ldavis_el9941403180993937446367621123\", ldavis_el9941403180993937446367621123_data);\n",
              "      });\n",
              "    });\n",
              "}else{\n",
              "    // require.js not available: dynamically load d3 & LDAvis\n",
              "    LDAvis_load_lib(\"https://d3js.org/d3.v5.js\", function(){\n",
              "         LDAvis_load_lib(\"https://cdn.jsdelivr.net/gh/bmabey/pyLDAvis@3.3.1/pyLDAvis/js/ldavis.v3.0.0.js\", function(){\n",
              "                 new LDAvis(\"#\" + \"ldavis_el9941403180993937446367621123\", ldavis_el9941403180993937446367621123_data);\n",
              "            })\n",
              "         });\n",
              "}\n",
              "</script>"
            ]
          },
          "metadata": {},
          "execution_count": 74
        }
      ]
    },
    {
      "cell_type": "markdown",
      "metadata": {
        "id": "vpmyyIJT24Tv"
      },
      "source": [
        "# **Love** is the Topic Name from based on the LDA model topics from Langston Hughes Poem's  (child, year, dream, night, sun)"
      ]
    },
    {
      "cell_type": "code",
      "metadata": {
        "id": "XtK9FSesTqZS",
        "colab": {
          "base_uri": "https://localhost:8080/"
        },
        "outputId": "7be0676a-eb15-4b59-fabe-133675177117"
      },
      "source": [
        "poem_count = len(coherence_perplexity_calculator)\n",
        "mary_poem_list=[]\n",
        "for j in coherence_perplexity_calculator:\n",
        "  poem_index =  str(j)\n",
        "  print(poem_index)\n",
        "  print(coherence_perplexity_calculator[poem_index])\n",
        "  mary_poem_list.append(coherence_perplexity_calculator[poem_index])\n",
        "print(mary_poem_list)"
      ],
      "execution_count": 75,
      "outputs": [
        {
          "output_type": "stream",
          "name": "stdout",
          "text": [
            "poem0\n",
            "look the trees are turning their own bodies into pillars of light are giving off the rich fragrance of cinnamon and fulfillment the long tapers of cattails are bursting and floating away over the blue shoulders of the ponds and every pond no matter what its name is is nameless now every year everything have ever learned in my lifetime leads back to this the fires and the black river of loss whose other side is salvation whose meaning none of us will ever know to live in this world you must be able to do three things to love what is mortal to hold it against your bones knowing your own life depends on it and when the time comes to let it go to let it go by owner provided at no charge for educational purposes\n",
            "poem1\n",
            "one day you finally knew what you had to do and began though the voices around you kept shouting their bad advice though the whole house began to tremble and you felt the old tug at your ankles mend my life each voice cried but you did not stop you knew what you had to do though the wind pried with its stiff fingers at the very foundations though their melancholy was terrible it was already late enough and wild night and the road full of fallen branches and stones but little by little as you left their voice behind the stars began to burn through the sheets of clouds and there was new voice which you slowly recognized as your own that kept you company as you strode deeper and deeper into the world determined to do the only thing you could do determined to save the only life that you could save by owner provided at no charge for educational purposes\n",
            "poem2\n",
            "you do not have to be good you do not have to walk on your knees for hundred miles through the desert repenting you only have to let the soft animal of your body love what it loves tell me about despair yours and will tell you mine meanwhile the world goes on meanwhile the sun and the clear pebbles of the rain are moving across the landscapes over the prairies and the deep trees the mountains and the rivers meanwhile the wild geese high in the clean blue air are heading home again whoever you are no matter how lonely the world offers itself to your imagination calls to you like the wild geese harsh and exciting over and over announcing your place in the family of things by owner provided at no charge for educational purposes\n",
            "poem3\n",
            "how necessary it is to have opinions think the spotted trout lilies are satisfied standing few inches above the earth think serenity is not something you just find in the world like plum tree holding up its white petals the violets along the river are opening their blue faces like small dark lanterns the green mosses being so many are as good as brawny how important it is to walk along not in haste but slowly looking at everything and calling out yes no the swan for all his pomp his robes of grass and petals wants only to be allowed to live on the nameless pond the catbrier is without fault the water thrushes down among the sloppy rocks are going crazy with happiness imagination is better than sharp instrument to pay attention this is our endless and proper work by owner provided at no charge for educational purposes\n",
            "poem4\n",
            "in the afternoon watched the she bear she was looking for the secret bin of sweetness honey that the bees store in the trees’ soft caves black block of gloom she climbed down tree after tree and shuffled on through the woods and then she found it the honey house deep as heartwood and dipped into it among the swarming bees honey and comb she lipped and tongued and scooped out in her black nails until maybe she grew full or sleepy or maybe little drunk and sticky down the rugs of her arms and began to hum and sway saw her let go of the branches saw her lift her honeyed muzzle into the leaves and her thick arms as though she would fly an enormous bee all sweetness and wings down into the meadows the perfections of honeysuckle and roses and clover to float and sleep in the sheer nets swaying from flower to flower day after shining day by owner provided at no charge for educational purposes\n",
            "poem5\n",
            "next time what do is look at the earth before saying anything stop just before going into house and be an emperor for minute and listen better to the wind or to the air being still when anyone talked to me whether blame or praise or just passing time watch the face how the mouth has to work and see any strain any sign of what lifted the voice and for all know more the earth bracing itself and soaring the air finding every leaf and feather over forest and water and for every person the body glowing inside the clothes like light by owner provided at no charge for educational purposes\n",
            "poem6\n",
            "who made the world who made the swan and the black bear who made the grasshopper this grasshopper mean the one who has flung herself out of the grass the one who is eating sugar out of my hand who is moving her jaws back and forth instead of up and down who is gazing around with her enormous and complicated eyes now she lifts her pale forearms and thoroughly washes her face now she snaps her wings open and floats away do not know exactly what prayer is do know how to pay attention how to fall down into the grass how to kneel in the grass how to be idle and blessed how to stroll through the fields which is what have been doing all day tell me what else should have done does not everything die at last and too soon tell me what is it you plan to do with your one wild and precious life by owner provided at no charge for educational purposes\n",
            "poem7\n",
            "do not call this world adorable or useful that not it it frisky and theater for more than fair winds the eyelash of lightning is neither good nor evil the struck tree burns like pillar of gold but the blue rain sinks straight to the white feet of the trees whose mouths open does not the wind turning in circles invent the dance have not the flowers moved slowly across asia then europe until at last now they shine in your own yard do not call this world an explanation or even an education when the sufi poet whirled was he looking outward to the mountains so solidly there in white capped ring or was he looking to the center of everything the seed the egg the idea that was also there beautiful as thumb curved and touching the finger tenderly little love ring as he whirled oh jug of breath in the garden of dust by owner provided at no charge for educational purposes\n",
            "poem8\n",
            "go down to the edge of the sea how everything shines in the morning light the cusp of the whelk the broken cupboard of the clam the opened blue mussels moon snails pale pink and barnacle scarred— and nothing at all whole or shut but tattered split dropped by the gulls onto the gray rocks and all the moisture gone it is like schoolhouse of little words thousands of words first you figure out what each one means by itself the jingle the periwinkle the scallop full of moonlight then you begin slowly to read the whole story by owner provided at no charge for educational purposes\n",
            "poem9\n",
            "do not you imagine the leaves dream now how comfortable it will be to touch the earth instead of the nothingness of the air and the endless freshets of wind and do not you think the trees especially those with mossy hollows are beginning to look for the birds that will come—six dozen—to sleep inside their bodies and do not you hear the goldenrod whispering goodbye the everlasting being crowned with the first tuffets of snow the pond stiffens and the white field over which the fox runs so quickly brings out its long blue shadows the wind wags its many tails and in the evening the piled firewood shifts little longing to be on its way by owner provided at no charge for educational purposes\n",
            "['look the trees are turning their own bodies into pillars of light are giving off the rich fragrance of cinnamon and fulfillment the long tapers of cattails are bursting and floating away over the blue shoulders of the ponds and every pond no matter what its name is is nameless now every year everything have ever learned in my lifetime leads back to this the fires and the black river of loss whose other side is salvation whose meaning none of us will ever know to live in this world you must be able to do three things to love what is mortal to hold it against your bones knowing your own life depends on it and when the time comes to let it go to let it go by owner provided at no charge for educational purposes', 'one day you finally knew what you had to do and began though the voices around you kept shouting their bad advice though the whole house began to tremble and you felt the old tug at your ankles mend my life each voice cried but you did not stop you knew what you had to do though the wind pried with its stiff fingers at the very foundations though their melancholy was terrible it was already late enough and wild night and the road full of fallen branches and stones but little by little as you left their voice behind the stars began to burn through the sheets of clouds and there was new voice which you slowly recognized as your own that kept you company as you strode deeper and deeper into the world determined to do the only thing you could do determined to save the only life that you could save by owner provided at no charge for educational purposes', 'you do not have to be good you do not have to walk on your knees for hundred miles through the desert repenting you only have to let the soft animal of your body love what it loves tell me about despair yours and will tell you mine meanwhile the world goes on meanwhile the sun and the clear pebbles of the rain are moving across the landscapes over the prairies and the deep trees the mountains and the rivers meanwhile the wild geese high in the clean blue air are heading home again whoever you are no matter how lonely the world offers itself to your imagination calls to you like the wild geese harsh and exciting over and over announcing your place in the family of things by owner provided at no charge for educational purposes', 'how necessary it is to have opinions think the spotted trout lilies are satisfied standing few inches above the earth think serenity is not something you just find in the world like plum tree holding up its white petals the violets along the river are opening their blue faces like small dark lanterns the green mosses being so many are as good as brawny how important it is to walk along not in haste but slowly looking at everything and calling out yes no the swan for all his pomp his robes of grass and petals wants only to be allowed to live on the nameless pond the catbrier is without fault the water thrushes down among the sloppy rocks are going crazy with happiness imagination is better than sharp instrument to pay attention this is our endless and proper work by owner provided at no charge for educational purposes', 'in the afternoon watched the she bear she was looking for the secret bin of sweetness honey that the bees store in the trees’ soft caves black block of gloom she climbed down tree after tree and shuffled on through the woods and then she found it the honey house deep as heartwood and dipped into it among the swarming bees honey and comb she lipped and tongued and scooped out in her black nails until maybe she grew full or sleepy or maybe little drunk and sticky down the rugs of her arms and began to hum and sway saw her let go of the branches saw her lift her honeyed muzzle into the leaves and her thick arms as though she would fly an enormous bee all sweetness and wings down into the meadows the perfections of honeysuckle and roses and clover to float and sleep in the sheer nets swaying from flower to flower day after shining day by owner provided at no charge for educational purposes', 'next time what do is look at the earth before saying anything stop just before going into house and be an emperor for minute and listen better to the wind or to the air being still when anyone talked to me whether blame or praise or just passing time watch the face how the mouth has to work and see any strain any sign of what lifted the voice and for all know more the earth bracing itself and soaring the air finding every leaf and feather over forest and water and for every person the body glowing inside the clothes like light by owner provided at no charge for educational purposes', 'who made the world who made the swan and the black bear who made the grasshopper this grasshopper mean the one who has flung herself out of the grass the one who is eating sugar out of my hand who is moving her jaws back and forth instead of up and down who is gazing around with her enormous and complicated eyes now she lifts her pale forearms and thoroughly washes her face now she snaps her wings open and floats away do not know exactly what prayer is do know how to pay attention how to fall down into the grass how to kneel in the grass how to be idle and blessed how to stroll through the fields which is what have been doing all day tell me what else should have done does not everything die at last and too soon tell me what is it you plan to do with your one wild and precious life by owner provided at no charge for educational purposes', 'do not call this world adorable or useful that not it it frisky and theater for more than fair winds the eyelash of lightning is neither good nor evil the struck tree burns like pillar of gold but the blue rain sinks straight to the white feet of the trees whose mouths open does not the wind turning in circles invent the dance have not the flowers moved slowly across asia then europe until at last now they shine in your own yard do not call this world an explanation or even an education when the sufi poet whirled was he looking outward to the mountains so solidly there in white capped ring or was he looking to the center of everything the seed the egg the idea that was also there beautiful as thumb curved and touching the finger tenderly little love ring as he whirled oh jug of breath in the garden of dust by owner provided at no charge for educational purposes', 'go down to the edge of the sea how everything shines in the morning light the cusp of the whelk the broken cupboard of the clam the opened blue mussels moon snails pale pink and barnacle scarred— and nothing at all whole or shut but tattered split dropped by the gulls onto the gray rocks and all the moisture gone it is like schoolhouse of little words thousands of words first you figure out what each one means by itself the jingle the periwinkle the scallop full of moonlight then you begin slowly to read the whole story by owner provided at no charge for educational purposes', 'do not you imagine the leaves dream now how comfortable it will be to touch the earth instead of the nothingness of the air and the endless freshets of wind and do not you think the trees especially those with mossy hollows are beginning to look for the birds that will come—six dozen—to sleep inside their bodies and do not you hear the goldenrod whispering goodbye the everlasting being crowned with the first tuffets of snow the pond stiffens and the white field over which the fox runs so quickly brings out its long blue shadows the wind wags its many tails and in the evening the piled firewood shifts little longing to be on its way by owner provided at no charge for educational purposes']\n"
          ]
        }
      ]
    },
    {
      "cell_type": "markdown",
      "metadata": {
        "id": "liHlRcXwRrRJ"
      },
      "source": [
        "# Original Mary J Oliver Poem's perplexity and coherence score"
      ]
    },
    {
      "cell_type": "code",
      "metadata": {
        "id": "wMJBhaJNT7SC",
        "colab": {
          "base_uri": "https://localhost:8080/"
        },
        "outputId": "0f9486cb-94bb-40fe-bf4b-3f3bb30a2c9a"
      },
      "source": [
        "vis = choherence_perplexity_calculator(mary_poem_list)"
      ],
      "execution_count": 76,
      "outputs": [
        {
          "output_type": "stream",
          "name": "stdout",
          "text": [
            "[['look', 'the', 'trees', 'are', 'turning', 'their', 'own', 'bodies', 'into', 'pillars', 'of', 'light', 'are', 'giving', 'off', 'the', 'rich', 'fragrance', 'of', 'cinnamon', 'and', 'fulfillment', 'the', 'long', 'tapers', 'of', 'cattails', 'are', 'bursting', 'and', 'floating', 'away', 'over', 'the', 'blue', 'shoulders', 'of', 'the', 'ponds', 'and', 'every', 'pond', 'no', 'matter', 'what', 'its', 'name', 'is', 'is', 'nameless', 'now', 'every', 'year', 'everything', 'have', 'ever', 'learned', 'in', 'my', 'lifetime', 'leads', 'back', 'to', 'this', 'the', 'fires', 'and', 'the', 'black', 'river', 'of', 'loss', 'whose', 'other', 'side', 'is', 'salvation', 'whose', 'meaning', 'none', 'of', 'us', 'will', 'ever', 'know', 'to', 'live', 'in', 'this', 'world', 'you', 'must', 'be', 'able', 'to', 'do', 'three', 'things', 'to', 'love', 'what', 'is', 'mortal', 'to', 'hold', 'it', 'against', 'your', 'bones', 'knowing', 'your', 'own', 'life', 'depends', 'on', 'it', 'and', 'when', 'the', 'time', 'comes', 'to', 'let', 'it', 'go', 'to', 'let', 'it', 'go', 'by', 'owner', 'provided', 'at', 'no', 'charge', 'for', 'educational', 'purposes']]\n",
            "['look', 'the', 'trees', 'are', 'turning', 'their', 'own', 'bodies', 'into', 'pillars', 'of', 'light', 'are', 'giving', 'off', 'the', 'rich', 'fragrance', 'of', 'cinnamon', 'and', 'fulfillment', 'the', 'long', 'tapers', 'of', 'cattails', 'are', 'bursting', 'and', 'floating', 'away', 'over', 'the', 'blue', 'shoulders', 'of', 'the', 'ponds', 'and', 'every', 'pond', 'no', 'matter', 'what', 'its', 'name', 'is', 'is', 'nameless', 'now', 'every', 'year', 'everything', 'have', 'ever', 'learned', 'in', 'my', 'lifetime', 'leads', 'back', 'to', 'this', 'the', 'fires', 'and', 'the', 'black', 'river', 'of', 'loss', 'whose', 'other', 'side', 'is', 'salvation', 'whose', 'meaning', 'none', 'of', 'us', 'will', 'ever', 'know', 'to', 'live', 'in', 'this', 'world', 'you', 'must', 'be', 'able', 'to', 'do', 'three', 'things', 'to', 'love', 'what', 'is', 'mortal', 'to', 'hold', 'it', 'against', 'your', 'bones', 'knowing', 'your', 'own', 'life', 'depends', 'on', 'it', 'and', 'when', 'the', 'time', 'comes', 'to', 'let', 'it', 'go', 'to', 'let', 'it', 'go', 'by', 'owner', 'provided', 'at', 'no', 'charge', 'for', 'educational', 'purposes']\n"
          ]
        },
        {
          "output_type": "stream",
          "name": "stderr",
          "text": [
            "/usr/local/lib/python3.7/dist-packages/gensim/models/phrases.py:598: UserWarning: For a faster implementation, use the gensim.models.phrases.Phraser class\n",
            "  warnings.warn(\"For a faster implementation, use the gensim.models.phrases.Phraser class\")\n"
          ]
        },
        {
          "output_type": "stream",
          "name": "stdout",
          "text": [
            "[['tree', 'body', 'pillar', 'light', 'fragrance', 'cinnamon', 'taper', 'cattail', 'shoulder', 'pond', 'pond', 'name', 'year', 'lifetime', 'fire', 'river', 'loss', 'side', 'salvation', 'none', 'world', 'thing', 'bone', 'life', 'time', 'owner', 'charge', 'purpose']]\n",
            "[[(0, 1), (1, 1), (2, 1), (3, 1), (4, 1), (5, 1), (6, 1), (7, 1), (8, 1), (9, 1), (10, 1), (11, 1), (12, 1), (13, 1), (14, 1), (15, 2), (16, 1), (17, 1), (18, 1), (19, 1), (20, 1), (21, 1), (22, 1), (23, 1), (24, 1), (25, 1), (26, 1)]]\n",
            "[(0, '0.043*\"word\" + 0.023*\"charge\" + 0.023*\"owner\" + 0.023*\"purpose\" + 0.023*\"light\" + 0.023*\"rock\" + 0.023*\"split\" + 0.023*\"story\" + 0.023*\"sea\" + 0.023*\"snail\"'), (1, '0.070*\"grass\" + 0.047*\"one\" + 0.047*\"grasshopper\" + 0.025*\"life\" + 0.025*\"hand\" + 0.025*\"charge\" + 0.025*\"day\" + 0.025*\"eye\" + 0.025*\"swan\" + 0.025*\"sugar\"'), (2, '0.040*\"wind\" + 0.021*\"body\" + 0.021*\"purpose\" + 0.021*\"goodbye\" + 0.021*\"snow\" + 0.021*\"shadow\" + 0.021*\"earth\" + 0.021*\"tuffet\" + 0.021*\"air\" + 0.021*\"being\"'), (3, '0.035*\"ring\" + 0.035*\"tree\" + 0.035*\"wind\" + 0.035*\"world\" + 0.019*\"jug\" + 0.019*\"seed\" + 0.019*\"center\" + 0.019*\"breath\" + 0.019*\"lightning\" + 0.019*\"yard\"'), (4, '0.047*\"voice\" + 0.029*\"charge\" + 0.029*\"owner\" + 0.029*\"purpose\" + 0.029*\"earth\" + 0.019*\"air\" + 0.019*\"time\" + 0.019*\"water\" + 0.019*\"petal\" + 0.019*\"face\"'), (5, '0.056*\"tree\" + 0.056*\"honey\" + 0.056*\"bee\" + 0.038*\"day\" + 0.038*\"arm\" + 0.020*\"flower\" + 0.020*\"purpose\" + 0.020*\"owner\" + 0.020*\"charge\" + 0.020*\"branch\"'), (6, '0.006*\"world\" + 0.005*\"tree\" + 0.005*\"mountain\" + 0.005*\"purpose\" + 0.005*\"owner\" + 0.005*\"wind\" + 0.005*\"rain\" + 0.005*\"charge\" + 0.005*\"ring\" + 0.005*\"air\"'), (7, '0.043*\"world\" + 0.029*\"purpose\" + 0.029*\"pond\" + 0.029*\"owner\" + 0.029*\"charge\" + 0.029*\"body\" + 0.029*\"river\" + 0.029*\"thing\" + 0.029*\"tree\" + 0.015*\"life\"'), (8, '0.005*\"pond\" + 0.005*\"life\" + 0.005*\"charge\" + 0.005*\"shoulder\" + 0.005*\"cinnamon\" + 0.005*\"tree\" + 0.005*\"taper\" + 0.005*\"time\" + 0.005*\"river\" + 0.005*\"side\"'), (9, '0.005*\"world\" + 0.005*\"charge\" + 0.005*\"owner\" + 0.005*\"tree\" + 0.005*\"voice\" + 0.005*\"life\" + 0.005*\"body\" + 0.005*\"wind\" + 0.005*\"air\" + 0.005*\"purpose\"')]\n"
          ]
        },
        {
          "output_type": "stream",
          "name": "stderr",
          "text": [
            "/usr/local/lib/python3.7/dist-packages/pyLDAvis/_prepare.py:247: FutureWarning: In a future version of pandas all arguments of DataFrame.drop except for the argument 'labels' will be keyword-only\n",
            "  by='saliency', ascending=False).head(R).drop('saliency', 1)\n"
          ]
        },
        {
          "output_type": "stream",
          "name": "stdout",
          "text": [
            "\n",
            "Perplexity:  -5.781363287842588\n",
            "\n",
            "Coherence Score:  0.6813613699574513\n"
          ]
        }
      ]
    },
    {
      "cell_type": "code",
      "source": [
        "vis"
      ],
      "metadata": {
        "id": "1wUt05RsVgF1",
        "colab": {
          "base_uri": "https://localhost:8080/",
          "height": 861
        },
        "outputId": "0bb0ad4b-7ce9-4ea5-903f-5bed2f87dbf3"
      },
      "execution_count": 77,
      "outputs": [
        {
          "output_type": "execute_result",
          "data": {
            "text/plain": [
              "PreparedData(topic_coordinates=              x         y  topics  cluster       Freq\n",
              "topic                                                \n",
              "4      0.130854 -0.060928       1        1  28.640167\n",
              "7      0.104545  0.055761       2        1  16.790102\n",
              "3     -0.015127  0.133373       3        1  13.155203\n",
              "5     -0.125169  0.038706       4        1  11.840284\n",
              "2      0.006550  0.031105       5        1  10.854220\n",
              "0     -0.079476 -0.114401       6        1   9.539720\n",
              "1      0.005215 -0.073498       7        1   8.225621\n",
              "6     -0.008728 -0.002412       8        1   0.318228\n",
              "8     -0.009293 -0.003836       9        1   0.318228\n",
              "9     -0.009371 -0.003870      10        1   0.318228, topic_info=         Term      Freq     Total Category  logprob  loglift\n",
              "64      grass  2.000000  2.000000  Default  30.0000  30.0000\n",
              "42      voice  4.000000  4.000000  Default  29.0000  29.0000\n",
              "86        bee  2.000000  2.000000  Default  28.0000  28.0000\n",
              "93      honey  2.000000  2.000000  Default  27.0000  27.0000\n",
              "43       wind  4.000000  4.000000  Default  26.0000  26.0000\n",
              "..        ...       ...       ...      ...      ...      ...\n",
              "4    cinnamon  0.004987  1.193201  Topic10  -5.2679   0.2725\n",
              "5        fire  0.004987  1.193301  Topic10  -5.2679   0.2724\n",
              "6   fragrance  0.004987  1.193306  Topic10  -5.2679   0.2724\n",
              "8    lifetime  0.004987  1.193272  Topic10  -5.2679   0.2725\n",
              "11       name  0.004987  1.193266  Topic10  -5.2679   0.2725\n",
              "\n",
              "[485 rows x 6 columns], token_table=      Topic      Freq       Term\n",
              "term                            \n",
              "27        1  0.780284     advice\n",
              "84        4  0.886467  afternoon\n",
              "44        1  0.583522        air\n",
              "44        2  0.291761        air\n",
              "44        5  0.291761        air\n",
              "...     ...       ...        ...\n",
              "25        2  0.325933      world\n",
              "25        3  0.162967      world\n",
              "25        7  0.162967      world\n",
              "150       3  0.868401       yard\n",
              "26        2  0.838041       year\n",
              "\n",
              "[248 rows x 3 columns], R=30, lambda_step=0.01, plot_opts={'xlab': 'PC1', 'ylab': 'PC2'}, topic_order=[5, 8, 4, 6, 3, 1, 2, 7, 9, 10])"
            ],
            "text/html": [
              "\n",
              "<link rel=\"stylesheet\" type=\"text/css\" href=\"https://cdn.jsdelivr.net/gh/bmabey/pyLDAvis@3.3.1/pyLDAvis/js/ldavis.v1.0.0.css\">\n",
              "\n",
              "\n",
              "<div id=\"ldavis_el9941403181033294882035018013\"></div>\n",
              "<script type=\"text/javascript\">\n",
              "\n",
              "var ldavis_el9941403181033294882035018013_data = {\"mdsDat\": {\"x\": [0.13085398933986775, 0.10454471778598472, -0.015127075614400146, -0.12516942288249777, 0.006550055073421856, -0.0794758408743364, 0.005215405864096756, -0.008728167643644237, -0.00929271661488485, -0.009370944433607569], \"y\": [-0.060927785926059234, 0.05576080160192181, 0.1333730656520102, 0.03870623259518509, 0.03110536414679141, -0.11440134638970229, -0.07349821528020338, -0.0024120973659925507, -0.003835784895156078, -0.003870234138794997], \"topics\": [1, 2, 3, 4, 5, 6, 7, 8, 9, 10], \"cluster\": [1, 1, 1, 1, 1, 1, 1, 1, 1, 1], \"Freq\": [28.6401671107955, 16.790101505988066, 13.155202984957329, 11.840284193618709, 10.85422004666836, 9.539719702618916, 8.225621001077284, 0.3182278197769036, 0.3182278172494657, 0.3182278172494657]}, \"tinfo\": {\"Term\": [\"grass\", \"voice\", \"bee\", \"honey\", \"wind\", \"tree\", \"world\", \"one\", \"day\", \"earth\", \"grasshopper\", \"word\", \"face\", \"arm\", \"ring\", \"life\", \"body\", \"pond\", \"thing\", \"river\", \"house\", \"air\", \"water\", \"petal\", \"swan\", \"attention\", \"time\", \"field\", \"light\", \"wing\", \"voice\", \"petal\", \"water\", \"earth\", \"work\", \"lantern\", \"robe\", \"haste\", \"pomp\", \"trout\", \"clothe\", \"opinion\", \"moss\", \"plum\", \"feather\", \"praise\", \"happiness\", \"forest\", \"violet\", \"fault\", \"lily\", \"night\", \"ankle\", \"cloud\", \"stone\", \"road\", \"inch\", \"blame\", \"tug\", \"person\", \"face\", \"house\", \"time\", \"life\", \"air\", \"purpose\", \"owner\", \"charge\", \"wind\", \"world\", \"advice\", \"company\", \"foundation\", \"sheet\", \"star\", \"catbrier\", \"fragrance\", \"fire\", \"lifetime\", \"name\", \"year\", \"loss\", \"salvation\", \"none\", \"bone\", \"cattail\", \"side\", \"taper\", \"cinnamon\", \"shoulder\", \"despair\", \"prairie\", \"mile\", \"family\", \"desert\", \"sun\", \"pebble\", \"landscape\", \"animal\", \"place\", \"knee\", \"river\", \"thing\", \"pond\", \"body\", \"pillar\", \"world\", \"tree\", \"purpose\", \"owner\", \"charge\", \"life\", \"light\", \"time\", \"ring\", \"seed\", \"jug\", \"center\", \"breath\", \"lightning\", \"yard\", \"thumb\", \"garden\", \"circle\", \"education\", \"foot\", \"egg\", \"idea\", \"gold\", \"eyelash\", \"dance\", \"explanation\", \"evil\", \"poet\", \"sufi\", \"dust\", \"theater\", \"love\", \"flower\", \"mountain\", \"rain\", \"pillar\", \"finger\", \"mouth\", \"wind\", \"world\", \"tree\", \"charge\", \"owner\", \"bee\", \"honey\", \"arm\", \"rose\", \"clover\", \"meadow\", \"nail\", \"sweetness\", \"cave\", \"honeysuckle\", \"net\", \"heartwood\", \"wood\", \"block\", \"rug\", \"perfection\", \"afternoon\", \"gloom\", \"day\", \"wing\", \"leave\", \"flower\", \"branch\", \"tree\", \"house\", \"purpose\", \"owner\", \"charge\", \"hand\", \"eye\", \"jug\", \"dance\", \"ring\", \"wind\", \"goodbye\", \"snow\", \"shadow\", \"tuffet\", \"being\", \"run\", \"nothingness\", \"mossy\", \"firewood\", \"dozen\", \"longing\", \"way\", \"everlasting\", \"freshet\", \"bird\", \"hollow\", \"dream\", \"tail\", \"stiffen\", \"shift\", \"evening\", \"field\", \"leave\", \"wind\", \"body\", \"pond\", \"air\", \"earth\", \"tree\", \"purpose\", \"owner\", \"charge\", \"word\", \"split\", \"story\", \"cusp\", \"periwinkle\", \"moisture\", \"thousand\", \"cupboard\", \"mussel\", \"moonlight\", \"whole\", \"morning\", \"edge\", \"snail\", \"barnacle\", \"jingle\", \"scallop\", \"schoolhouse\", \"clam\", \"gull\", \"pink\", \"sea\", \"rock\", \"one\", \"light\", \"owner\", \"charge\", \"purpose\", \"hand\", \"eye\", \"evening\", \"shift\", \"wind\", \"grasshopper\", \"hand\", \"eye\", \"sugar\", \"bear\", \"jaw\", \"prayer\", \"forearm\", \"grass\", \"one\", \"field\", \"wing\", \"swan\", \"attention\", \"face\", \"day\", \"life\", \"world\", \"charge\", \"owner\", \"purpose\", \"thousand\", \"moonlight\", \"whole\", \"morning\", \"edge\", \"snail\", \"barnacle\", \"jingle\", \"scallop\", \"pond\", \"tree\", \"voice\", \"air\", \"body\", \"bone\", \"cattail\", \"cinnamon\", \"fire\", \"hand\", \"eye\", \"sugar\", \"bear\", \"jaw\", \"prayer\", \"forearm\", \"cusp\", \"moisture\", \"cupboard\", \"mussel\", \"moonlight\", \"whole\", \"morning\", \"barnacle\", \"jingle\", \"scallop\", \"schoolhouse\", \"clam\", \"gull\", \"pink\", \"sea\", \"split\", \"story\", \"periwinkle\", \"thousand\", \"edge\", \"snail\", \"evening\", \"tail\", \"love\", \"dust\", \"theater\", \"sufi\", \"evil\", \"explanation\", \"poet\", \"knee\", \"eyelash\", \"idea\", \"gold\", \"egg\", \"dance\", \"education\", \"foot\", \"place\", \"circle\", \"thumb\", \"garden\", \"lightning\", \"animal\", \"yard\", \"landscape\", \"pebble\", \"sun\", \"desert\", \"family\", \"mile\", \"breath\", \"center\", \"prairie\", \"mountain\", \"world\", \"rain\", \"ring\", \"tree\", \"wind\", \"purpose\", \"air\", \"owner\", \"charge\", \"imagination\", \"mouth\", \"flower\", \"thing\", \"river\", \"pillar\", \"hand\", \"eye\", \"sugar\", \"bear\", \"jaw\", \"prayer\", \"forearm\", \"cusp\", \"thousand\", \"mussel\", \"moonlight\", \"whole\", \"morning\", \"edge\", \"snail\", \"barnacle\", \"jingle\", \"scallop\", \"clam\", \"gull\", \"pink\", \"sea\", \"split\", \"story\", \"periwinkle\", \"moisture\", \"cupboard\", \"schoolhouse\", \"evening\", \"tail\", \"hollow\", \"shoulder\", \"cinnamon\", \"taper\", \"side\", \"cattail\", \"bone\", \"none\", \"salvation\", \"loss\", \"year\", \"name\", \"lifetime\", \"fire\", \"fragrance\", \"pond\", \"life\", \"charge\", \"tree\", \"time\", \"river\", \"pillar\", \"thing\", \"body\", \"owner\", \"world\", \"purpose\", \"light\", \"wind\", \"air\", \"advice\", \"hand\", \"eye\", \"sugar\", \"bear\", \"jaw\", \"prayer\", \"forearm\", \"periwinkle\", \"moisture\", \"moonlight\", \"whole\", \"edge\", \"snail\", \"barnacle\", \"jingle\", \"scallop\", \"schoolhouse\", \"clam\", \"gull\", \"pink\", \"sea\", \"split\", \"story\", \"cusp\", \"thousand\", \"cupboard\", \"mussel\", \"morning\", \"evening\", \"tail\", \"charge\", \"owner\", \"world\", \"tree\", \"body\", \"life\", \"purpose\", \"voice\", \"wind\", \"air\", \"light\", \"pond\", \"river\", \"thing\", \"time\", \"day\", \"finger\", \"house\", \"earth\", \"face\", \"grass\", \"grasshopper\", \"one\", \"bone\", \"cattail\", \"cinnamon\", \"fire\", \"fragrance\", \"lifetime\", \"name\"], \"Freq\": [2.0, 4.0, 2.0, 2.0, 4.0, 6.0, 6.0, 2.0, 3.0, 3.0, 1.0, 1.0, 2.0, 1.0, 1.0, 3.0, 3.0, 3.0, 2.0, 2.0, 2.0, 3.0, 2.0, 2.0, 1.0, 1.0, 2.0, 1.0, 2.0, 1.0, 4.0962864936284005, 1.6867059075310349, 1.6867059075310349, 2.4898996524611765, 0.8835127302073201, 0.8835127302073201, 0.8835127302073201, 0.8835127302073201, 0.8835127302073201, 0.8835127302073201, 0.8835127302073201, 0.8835127302073201, 0.8835127302073201, 0.8835127302073201, 0.8835127302073201, 0.8835127302073201, 0.8835127302073201, 0.8835127302073201, 0.8835127302073201, 0.8835127302073201, 0.8835127302073201, 0.8835127302073201, 0.8835127302073201, 0.8835127302073201, 0.8835127302073201, 0.8835127302073201, 0.8835127302073201, 0.8835127302073201, 0.8835127302073201, 0.8835127302073201, 1.686705583184505, 1.686705583184505, 1.6867063940508293, 1.686705583184505, 1.6867065562240942, 2.4898996524611765, 2.4898996524611765, 2.489899814634441, 1.6867005558132946, 1.6867005558132946, 0.8835127302073201, 0.8835127302073201, 0.8835127302073201, 0.8835127302073201, 0.8835127302073201, 0.8835127302073201, 0.7864099028858914, 0.7864036280702634, 0.7863731096487997, 0.7863661693224232, 0.7863593716054929, 0.7863573275367656, 0.786348723433518, 0.7863435419569766, 0.7863413077423211, 0.786341070059911, 0.7863356033644775, 0.7863052275524599, 0.7862962906938381, 0.7862891602215336, 0.7853876783763042, 0.7852536254969777, 0.7852184960367571, 0.7852123638305751, 0.7851408689616011, 0.7850010641679489, 0.7849839985708998, 0.7849513885442269, 0.7848606889365124, 0.7847694664274956, 0.7846101716762108, 1.499964157463067, 1.4999352552819925, 1.5011963981502656, 1.500085185346317, 0.786344207467725, 2.2144383380405, 1.4996082993585855, 1.501331782051089, 1.501167495969191, 1.5009098482365848, 0.7872895654858687, 0.7864071933064157, 0.7863257157762151, 1.4132320116700212, 0.7405986758889151, 0.7406342078882219, 0.7405743919648607, 0.7405562162671022, 0.7404155035906025, 0.7404122260057608, 0.7403793011762145, 0.7403835471383958, 0.7403718521197561, 0.7403428007995683, 0.7403404171015016, 0.7403299139318952, 0.7403202301584992, 0.7403171015547867, 0.7402919237439572, 0.7403127066114762, 0.7401979166514518, 0.7401871155195872, 0.7401921808779789, 0.7401306516716323, 0.7400909482007089, 0.740083946087638, 0.7399055411854586, 0.7400618223899564, 0.7401937451798352, 0.7403100994417158, 0.7402034289532311, 0.7404062667605941, 0.7400304618622664, 1.4129687620147804, 1.4126088236067094, 1.4130012399009393, 0.7404070861568045, 0.7402172097076792, 2.014015811326134, 2.014015811326134, 1.3643332958689884, 0.7146507804118429, 0.7146507804118429, 0.7146507804118429, 0.7146507804118429, 0.7146507804118429, 0.7146507804118429, 0.7146507804118429, 0.7146507804118429, 0.7146507804118429, 0.7146507804118429, 0.7146507804118429, 0.7146507804118429, 0.7146507804118429, 0.7146507804118429, 0.7146507804118429, 1.3643375867434926, 0.7146507804118429, 0.7146507804118429, 0.7147142719455192, 0.714651920175383, 2.014114367349898, 0.7146511156364136, 0.7147134003616356, 0.71470079591778, 0.7146995891093259, 0.06496826076439025, 0.06496826076439025, 0.06503967197854743, 0.0650387626818996, 0.06508367020344183, 0.06507048749720204, 0.6926744662964961, 0.6926718234569934, 0.6926704713065502, 0.6926677670056638, 0.6926667221621395, 0.6926650627047773, 0.6926631574018801, 0.6926624813266585, 0.6926624813266585, 0.6926622354811234, 0.6926575029545721, 0.6926562122655127, 0.6926519714300317, 0.6926474232876317, 0.6926471774420966, 0.6926463784441074, 0.6926437970659886, 0.6926416459175562, 0.6926412771492534, 0.6926409083809507, 0.6926344549356536, 0.6926530777349398, 0.6926552288833722, 1.3223918245745292, 0.6926760028310907, 0.6926629730177287, 0.6926675211601286, 0.6926701639996313, 0.6926543684239992, 0.6926758799083231, 0.6926560278813613, 0.6926538767329289, 1.2582236808085032, 0.6590695779576556, 0.6590695779576556, 0.6590695779576556, 0.6590695779576556, 0.6590695779576556, 0.6590695779576556, 0.6590695779576556, 0.6590695779576556, 0.6590695779576556, 0.6590695779576556, 0.6590695779576556, 0.6590695779576556, 0.6590695779576556, 0.6590695779576556, 0.6590695779576556, 0.6590695779576556, 0.6590695779576556, 0.6590695779576556, 0.6590695779576556, 0.6590695779576556, 0.6590695779576556, 0.6590705502835053, 0.6590685516137033, 0.6590713605550467, 0.6591306724318733, 0.6591322389568531, 0.6591130085122718, 0.059915427840968156, 0.059915427840968156, 0.05998857510436326, 0.059982484563277476, 0.05998892622203118, 1.1811534216681199, 0.6192953098444577, 0.619190278492961, 0.6191759793244869, 0.6191351777883844, 0.6190213899428385, 0.6189890654382094, 0.6189122132297973, 1.7450578516277686, 1.18223214721165, 0.6191017354334512, 0.6190333602565123, 0.6191821740782558, 0.6190861786833847, 0.6191213909679663, 0.6192644292298047, 0.6192998278227704, 0.6191434685114737, 0.6192818956408075, 0.6191503619216828, 0.6191076973017401, 0.05637546729517111, 0.05637546729517111, 0.05637546729517111, 0.05637546729517111, 0.05637546729517111, 0.05637546729517111, 0.05637546729517111, 0.05637546729517111, 0.05637546729517111, 0.05637547311730811, 0.05637547311730811, 0.05637547311730811, 0.05637547311730811, 0.05637546729517111, 0.05637546729517111, 0.05637546729517111, 0.05637546729517111, 0.05637546729517111, 0.004955690318941857, 0.004955690318941857, 0.004955690318941857, 0.004955690318941857, 0.004955690318941857, 0.004955690318941857, 0.004955690318941857, 0.004955690318941857, 0.004955690318941857, 0.004955690318941857, 0.004955690318941857, 0.004955690318941857, 0.004955690318941857, 0.004955690318941857, 0.004955690318941857, 0.004955690318941857, 0.004955690318941857, 0.004955690318941857, 0.004955690318941857, 0.004955690318941857, 0.004955690318941857, 0.004955690318941857, 0.0049556898684552705, 0.0049556898684552705, 0.0049556898684552705, 0.0049556898684552705, 0.0049556898684552705, 0.0049556898684552705, 0.0049556898684552705, 0.004955690318941857, 0.005069776497517167, 0.005055603739012135, 0.005055292903267294, 0.005052334557852254, 0.005048883830597923, 0.005047945016551182, 0.0050476706702198655, 0.00508721708572232, 0.0050410102260351, 0.005039075386145106, 0.005038936185789807, 0.0050383627163649025, 0.0050377734799094635, 0.005037712664220255, 0.005037363537115542, 0.005076178812887738, 0.005034661518568351, 0.005034327257520998, 0.0050334979117148335, 0.005032485668354457, 0.005069853080236911, 0.005030787784409081, 0.005063569693325237, 0.005061308250659865, 0.005060129777748986, 0.0050504393607818925, 0.005045483107354717, 0.005045050640231459, 0.005021412708052697, 0.005020715805303029, 0.005042623868988758, 0.0051830797304047455, 0.005391921708118892, 0.0051364827493334195, 0.005120538227082788, 0.0052574199279196805, 0.005140977704495786, 0.005155073429794487, 0.0051089593703441336, 0.005147223250534175, 0.005132086901220133, 0.005060472598041486, 0.005059603609415688, 0.005056615982372512, 0.005054393281553599, 0.005051079952708219, 0.005047865730911918, 0.004985019659065171, 0.004985019659065171, 0.004985019659065171, 0.004985019659065171, 0.004985019659065171, 0.004985019659065171, 0.004985019659065171, 0.004985019659065171, 0.004985019659065171, 0.004985019659065171, 0.004985019659065171, 0.004985019659065171, 0.004985019659065171, 0.004985019659065171, 0.004985019659065171, 0.004985019659065171, 0.004985019659065171, 0.004985019659065171, 0.004985019659065171, 0.004985019659065171, 0.004985019659065171, 0.004985019659065171, 0.004985019208578588, 0.004985019208578588, 0.004985019208578588, 0.004985019208578588, 0.004985019208578588, 0.004985019208578588, 0.004985019659065171, 0.004985019208578588, 0.004985019659065171, 0.005000265476498702, 0.004999768589797488, 0.004999146017339575, 0.0049970327847780206, 0.004996653024588425, 0.0049966323022056, 0.004996480488227079, 0.004996113341661812, 0.004995515996452556, 0.00499537499415203, 0.004994900631779974, 0.004994412754810423, 0.004992289611544038, 0.0049918517385852176, 0.005007374605267385, 0.005003967124752442, 0.005001993543031664, 0.0049996212806847976, 0.004997702658327163, 0.004997330105922899, 0.004996407959887192, 0.004996048021107255, 0.004995761061153789, 0.00499435238960828, 0.004992679732925046, 0.0049925162062953625, 0.004992047700248887, 0.004985020109551754, 0.004985020109551754, 0.004985019659065171, 0.004986661682660751, 0.004986661682660751, 0.004986661682660751, 0.004986661682660751, 0.004986661682660751, 0.004986661682660751, 0.004986661682660751, 0.004986661682660751, 0.004986661682660751, 0.004986661682660751, 0.004986661682660751, 0.004986661682660751, 0.004986661682660751, 0.004986661682660751, 0.004986661682660751, 0.004986661682660751, 0.004986661682660751, 0.004986661682660751, 0.004986661682660751, 0.004986661682660751, 0.004986661682660751, 0.004986661232174168, 0.004986661232174168, 0.004986661232174168, 0.004986661232174168, 0.004986661232174168, 0.004986661232174168, 0.004986661232174168, 0.004986661682660751, 0.004986661682660751, 0.004986663484607083, 0.004986663484607083, 0.004986663484607083, 0.0049866630341205, 0.0049866625836339174, 0.0049866625836339174, 0.0049866625836339174, 0.0049866625836339174, 0.0049866625836339174, 0.0049866625836339174, 0.0049866621331473345, 0.0049866621331473345, 0.0049866621331473345, 0.0049866621331473345, 0.0049866621331473345, 0.0049866621331473345, 0.0049866621331473345, 0.0049866621331473345, 0.0049866621331473345, 0.0049866621331473345, 0.0049866621331473345, 0.0049866621331473345, 0.0049866621331473345, 0.004986661682660751, 0.004986661682660751, 0.004986661682660751, 0.004986661682660751, 0.004986661682660751, 0.004986661682660751, 0.004986661682660751], \"Total\": [2.0, 4.0, 2.0, 2.0, 4.0, 6.0, 6.0, 2.0, 3.0, 3.0, 1.0, 1.0, 2.0, 1.0, 1.0, 3.0, 3.0, 3.0, 2.0, 2.0, 2.0, 3.0, 2.0, 2.0, 1.0, 1.0, 2.0, 1.0, 2.0, 1.0, 4.494357655547182, 2.084777033053256, 2.0847770441014633, 3.517706302724957, 1.2815838231743173, 1.2815838236248038, 1.2815838240752906, 1.2815838245257773, 1.2815838270156539, 1.2815838274661404, 1.2815838282655978, 1.2815838303770666, 1.2815838342184032, 1.281583834309174, 1.2815838345673738, 1.2815838372201003, 1.2815838388591971, 1.2815838388740635, 1.2815838442308474, 1.2815838443364846, 1.2815838451466872, 1.2815838452666104, 1.2815838459461446, 1.2815838460660678, 1.2815838472474108, 1.2815838493369944, 1.2815838494569176, 1.2815838499074044, 1.2815838515392342, 1.281583854828568, 2.6488023582355966, 2.734459577174045, 2.799615214684887, 3.3635088975805023, 3.427461900834324, 7.431992502904906, 7.432050455415495, 7.432105093396606, 4.690109423544327, 6.136229876446608, 1.2815838557295414, 1.2815838557295414, 1.2815838557295414, 1.2815838557295414, 1.2815838557295414, 1.2815838557295414, 1.1933064701218365, 1.193300641210811, 1.193272250588274, 1.1932657913866043, 1.193259468032046, 1.1932575501959988, 1.1932495591377068, 1.1932447401669366, 1.1932426682291908, 1.1932424512691633, 1.1932373604925828, 1.1932090950022005, 1.1932007874682995, 1.1931941538826962, 1.1923550626279034, 1.1922303068907536, 1.1921976000114687, 1.192191904462717, 1.1921253658471702, 1.1919952514704852, 1.191979357594084, 1.1919490157623391, 1.1918645949007427, 1.1917797027651704, 1.1916314462867206, 2.710152981993295, 2.7101252959996187, 3.3410343804838725, 3.340000240054099, 1.866182663929823, 6.136229876446608, 6.634480660006537, 7.431992502904906, 7.432050455415495, 7.432105093396606, 3.3635088975805023, 2.5956509401803025, 2.799615214684887, 1.8245094521742211, 1.1516933921723307, 1.1517555016628829, 1.1516698081843633, 1.151660605458692, 1.151521411130482, 1.1515418586435722, 1.1514979106831356, 1.1515081125143256, 1.1514935405615012, 1.151455656987676, 1.1514597161571973, 1.1514471282448566, 1.1514383329044637, 1.151439794244719, 1.1514137780843572, 1.1514536902538877, 1.151326401155086, 1.151314614696906, 1.1513294815239759, 1.1512707587873945, 1.1512298882975542, 1.151233203946246, 1.1510515207228773, 1.800898958841791, 1.8645211562003658, 1.865136671032308, 1.866182663929823, 1.9547083516351071, 1.9543722738239366, 4.690109423544327, 6.136229876446608, 6.634480660006537, 7.432105093396606, 7.432050455415495, 2.427438026250989, 2.4274380309066492, 1.777755510793844, 1.128072961903867, 1.1280729623543535, 1.1280729623543535, 1.1280729674222683, 1.128072967726004, 1.1280729678459274, 1.1280729678459274, 1.128072970813118, 1.1280729716274418, 1.128072972017827, 1.1280729732444053, 1.128072977574461, 1.1280729834257501, 1.1280729902687838, 1.1280729953366984, 3.14493465581463, 1.6921218002706828, 1.7578078705657028, 1.800898958841791, 1.9312660555811507, 6.634480660006537, 2.734459577174045, 7.431992502904906, 7.432050455415495, 7.432105093396606, 1.0423689378671743, 1.0423971156224479, 1.1517555016628829, 1.1514536902538877, 1.8245094521742211, 4.690109423544327, 1.1081262293586986, 1.1081261426526239, 1.1081260595564548, 1.1081258898892634, 1.108125879812, 1.1081257711842767, 1.1081256612702042, 1.1081256186064232, 1.108125677969349, 1.1081256187371946, 1.1081254938363467, 1.1081253247914282, 1.1081251396159382, 1.1081249298063889, 1.108124929533989, 1.1081248209129257, 1.1081247172030166, 1.1081246221146472, 1.108124701501651, 1.1081246616204465, 1.108124308316425, 1.6721558203772573, 1.7578078705657028, 4.690109423544327, 3.340000240054099, 3.3410343804838725, 3.427461900834324, 3.517706302724957, 6.634480660006537, 7.431992502904906, 7.432050455415495, 7.432105093396606, 1.6766987286567807, 1.0775445949350575, 1.0775445949350575, 1.0775445958360308, 1.0775445992268806, 1.0775445996773672, 1.077544601207681, 1.0775446084851021, 1.0775446115016658, 1.077544612241022, 1.077544616082358, 1.0775446160972244, 1.0775446173238028, 1.0775446194133864, 1.0775446198638727, 1.0775446198638727, 1.0775446216156257, 1.0775446253554464, 1.077544625805933, 1.077544625805933, 1.077544625805933, 1.077544625805933, 1.8807378429592245, 2.205497357706342, 2.5956509401803025, 7.432050455415495, 7.432105093396606, 7.431992502904906, 1.0423689378671743, 1.0423971156224479, 1.108124308316425, 1.1081246616204465, 4.690109423544327, 1.6066321983228862, 1.0423689378671743, 1.0423971156224479, 1.0424009575639288, 1.0424119640409768, 1.0424424663739864, 1.0424510546349959, 1.0424718007662528, 2.9735392206575013, 2.205497357706342, 1.6721558203772573, 1.6921218002706828, 1.8455925581983603, 1.845618196776885, 2.6488023582355966, 3.14493465581463, 3.3635088975805023, 6.136229876446608, 7.432105093396606, 7.432050455415495, 7.431992502904906, 1.077544601207681, 1.077544612241022, 1.077544616082358, 1.0775446160972244, 1.0775446173238028, 1.0775446194133864, 1.0775446198638727, 1.0775446198638727, 1.0775446216156257, 3.3410343804838725, 6.634480660006537, 4.494357655547182, 3.427461900834324, 3.340000240054099, 1.1932426682291908, 1.1932424512691633, 1.1932007874682995, 1.193300641210811, 1.0423689378671743, 1.0423971156224479, 1.0424009575639288, 1.0424119640409768, 1.0424424663739864, 1.0424510546349959, 1.0424718007662528, 1.0775445958360308, 1.0775445996773672, 1.0775446084851021, 1.0775446115016658, 1.077544612241022, 1.077544616082358, 1.0775446160972244, 1.0775446198638727, 1.0775446198638727, 1.0775446216156257, 1.0775446253554464, 1.077544625805933, 1.077544625805933, 1.077544625805933, 1.077544625805933, 1.0775445949350575, 1.0775445949350575, 1.0775445992268806, 1.077544601207681, 1.0775446173238028, 1.0775446194133864, 1.108124308316425, 1.1081246221146472, 1.1510515207228773, 1.1512298882975542, 1.151233203946246, 1.1512707587873945, 1.151314614696906, 1.151326401155086, 1.1513294815239759, 1.1916314462867206, 1.1514137780843572, 1.1514383329044637, 1.151439794244719, 1.1514471282448566, 1.1514536902538877, 1.151455656987676, 1.1514597161571973, 1.1917797027651704, 1.1514935405615012, 1.1514979106831356, 1.1515081125143256, 1.151521411130482, 1.1918645949007427, 1.1515418586435722, 1.1919490157623391, 1.191979357594084, 1.1919952514704852, 1.1921253658471702, 1.192191904462717, 1.1921976000114687, 1.151660605458692, 1.1516698081843633, 1.1922303068907536, 1.8645211562003658, 6.136229876446608, 1.865136671032308, 1.8245094521742211, 6.634480660006537, 4.690109423544327, 7.431992502904906, 3.427461900834324, 7.432050455415495, 7.432105093396606, 1.9951839438728225, 1.9543722738239366, 1.800898958841791, 2.7101252959996187, 2.710152981993295, 1.866182663929823, 1.0423689378671743, 1.0423971156224479, 1.0424009575639288, 1.0424119640409768, 1.0424424663739864, 1.0424510546349959, 1.0424718007662528, 1.0775445958360308, 1.077544601207681, 1.0775446115016658, 1.077544612241022, 1.077544616082358, 1.0775446160972244, 1.0775446173238028, 1.0775446194133864, 1.0775446198638727, 1.0775446198638727, 1.0775446216156257, 1.077544625805933, 1.077544625805933, 1.077544625805933, 1.077544625805933, 1.0775445949350575, 1.0775445949350575, 1.0775445992268806, 1.0775445996773672, 1.0775446084851021, 1.0775446253554464, 1.108124308316425, 1.1081246221146472, 1.1081248209129257, 1.1931941538826962, 1.1932007874682995, 1.1932090950022005, 1.1932373604925828, 1.1932424512691633, 1.1932426682291908, 1.1932447401669366, 1.1932495591377068, 1.1932575501959988, 1.193259468032046, 1.1932657913866043, 1.193272250588274, 1.193300641210811, 1.1933064701218365, 3.3410343804838725, 3.3635088975805023, 7.432105093396606, 6.634480660006537, 2.799615214684887, 2.710152981993295, 1.866182663929823, 2.7101252959996187, 3.340000240054099, 7.432050455415495, 6.136229876446608, 7.431992502904906, 2.5956509401803025, 4.690109423544327, 3.427461900834324, 1.2815838557295414, 1.0423689378671743, 1.0423971156224479, 1.0424009575639288, 1.0424119640409768, 1.0424424663739864, 1.0424510546349959, 1.0424718007662528, 1.0775445992268806, 1.0775445996773672, 1.077544612241022, 1.077544616082358, 1.0775446173238028, 1.0775446194133864, 1.0775446198638727, 1.0775446198638727, 1.0775446216156257, 1.0775446253554464, 1.077544625805933, 1.077544625805933, 1.077544625805933, 1.077544625805933, 1.0775445949350575, 1.0775445949350575, 1.0775445958360308, 1.077544601207681, 1.0775446084851021, 1.0775446115016658, 1.0775446160972244, 1.108124308316425, 1.1081246221146472, 7.432105093396606, 7.432050455415495, 6.136229876446608, 6.634480660006537, 3.340000240054099, 3.3635088975805023, 7.431992502904906, 4.494357655547182, 4.690109423544327, 3.427461900834324, 2.5956509401803025, 3.3410343804838725, 2.710152981993295, 2.7101252959996187, 2.799615214684887, 3.14493465581463, 1.9547083516351071, 2.734459577174045, 3.517706302724957, 2.6488023582355966, 2.9735392206575013, 1.6066321983228862, 2.205497357706342, 1.1932426682291908, 1.1932424512691633, 1.1932007874682995, 1.193300641210811, 1.1933064701218365, 1.193272250588274, 1.1932657913866043], \"Category\": [\"Default\", \"Default\", \"Default\", \"Default\", \"Default\", \"Default\", \"Default\", \"Default\", \"Default\", \"Default\", \"Default\", \"Default\", \"Default\", \"Default\", \"Default\", \"Default\", \"Default\", \"Default\", \"Default\", \"Default\", \"Default\", \"Default\", \"Default\", \"Default\", \"Default\", \"Default\", \"Default\", \"Default\", \"Default\", \"Default\", \"Topic1\", \"Topic1\", \"Topic1\", \"Topic1\", \"Topic1\", \"Topic1\", \"Topic1\", \"Topic1\", \"Topic1\", \"Topic1\", \"Topic1\", \"Topic1\", \"Topic1\", \"Topic1\", \"Topic1\", \"Topic1\", \"Topic1\", \"Topic1\", \"Topic1\", \"Topic1\", \"Topic1\", \"Topic1\", \"Topic1\", \"Topic1\", \"Topic1\", \"Topic1\", \"Topic1\", \"Topic1\", \"Topic1\", \"Topic1\", \"Topic1\", \"Topic1\", \"Topic1\", \"Topic1\", \"Topic1\", \"Topic1\", \"Topic1\", \"Topic1\", \"Topic1\", \"Topic1\", \"Topic1\", \"Topic1\", \"Topic1\", \"Topic1\", \"Topic1\", \"Topic1\", \"Topic2\", \"Topic2\", \"Topic2\", \"Topic2\", \"Topic2\", \"Topic2\", \"Topic2\", \"Topic2\", \"Topic2\", \"Topic2\", \"Topic2\", \"Topic2\", \"Topic2\", \"Topic2\", \"Topic2\", \"Topic2\", \"Topic2\", \"Topic2\", \"Topic2\", \"Topic2\", \"Topic2\", \"Topic2\", \"Topic2\", \"Topic2\", \"Topic2\", \"Topic2\", \"Topic2\", \"Topic2\", \"Topic2\", \"Topic2\", \"Topic2\", \"Topic2\", \"Topic2\", \"Topic2\", \"Topic2\", \"Topic2\", \"Topic2\", \"Topic2\", \"Topic3\", \"Topic3\", \"Topic3\", \"Topic3\", \"Topic3\", \"Topic3\", \"Topic3\", \"Topic3\", \"Topic3\", \"Topic3\", \"Topic3\", \"Topic3\", \"Topic3\", \"Topic3\", \"Topic3\", \"Topic3\", \"Topic3\", \"Topic3\", \"Topic3\", \"Topic3\", \"Topic3\", \"Topic3\", \"Topic3\", \"Topic3\", \"Topic3\", \"Topic3\", \"Topic3\", \"Topic3\", \"Topic3\", \"Topic3\", \"Topic3\", \"Topic3\", \"Topic3\", \"Topic3\", \"Topic3\", \"Topic4\", \"Topic4\", \"Topic4\", \"Topic4\", \"Topic4\", \"Topic4\", \"Topic4\", \"Topic4\", \"Topic4\", \"Topic4\", \"Topic4\", \"Topic4\", \"Topic4\", \"Topic4\", \"Topic4\", \"Topic4\", \"Topic4\", \"Topic4\", \"Topic4\", \"Topic4\", \"Topic4\", \"Topic4\", \"Topic4\", \"Topic4\", \"Topic4\", \"Topic4\", \"Topic4\", \"Topic4\", \"Topic4\", \"Topic4\", \"Topic4\", \"Topic4\", \"Topic4\", \"Topic4\", \"Topic5\", \"Topic5\", \"Topic5\", \"Topic5\", \"Topic5\", \"Topic5\", \"Topic5\", \"Topic5\", \"Topic5\", \"Topic5\", \"Topic5\", \"Topic5\", \"Topic5\", \"Topic5\", \"Topic5\", \"Topic5\", \"Topic5\", \"Topic5\", \"Topic5\", \"Topic5\", \"Topic5\", \"Topic5\", \"Topic5\", \"Topic5\", \"Topic5\", \"Topic5\", \"Topic5\", \"Topic5\", \"Topic5\", \"Topic5\", \"Topic5\", \"Topic5\", \"Topic6\", \"Topic6\", \"Topic6\", \"Topic6\", \"Topic6\", \"Topic6\", \"Topic6\", \"Topic6\", \"Topic6\", \"Topic6\", \"Topic6\", \"Topic6\", \"Topic6\", \"Topic6\", \"Topic6\", \"Topic6\", \"Topic6\", \"Topic6\", \"Topic6\", \"Topic6\", \"Topic6\", \"Topic6\", \"Topic6\", \"Topic6\", \"Topic6\", \"Topic6\", \"Topic6\", \"Topic6\", \"Topic6\", \"Topic6\", \"Topic6\", \"Topic6\", \"Topic6\", \"Topic7\", \"Topic7\", \"Topic7\", \"Topic7\", \"Topic7\", \"Topic7\", \"Topic7\", \"Topic7\", \"Topic7\", \"Topic7\", \"Topic7\", \"Topic7\", \"Topic7\", \"Topic7\", \"Topic7\", \"Topic7\", \"Topic7\", \"Topic7\", \"Topic7\", \"Topic7\", \"Topic7\", \"Topic7\", \"Topic7\", \"Topic7\", \"Topic7\", \"Topic7\", \"Topic7\", \"Topic7\", \"Topic7\", \"Topic7\", \"Topic7\", \"Topic7\", \"Topic7\", \"Topic7\", \"Topic7\", \"Topic7\", \"Topic7\", \"Topic7\", \"Topic7\", \"Topic8\", \"Topic8\", \"Topic8\", \"Topic8\", \"Topic8\", \"Topic8\", \"Topic8\", \"Topic8\", \"Topic8\", \"Topic8\", \"Topic8\", \"Topic8\", \"Topic8\", \"Topic8\", \"Topic8\", \"Topic8\", \"Topic8\", \"Topic8\", \"Topic8\", \"Topic8\", \"Topic8\", \"Topic8\", \"Topic8\", \"Topic8\", \"Topic8\", \"Topic8\", \"Topic8\", \"Topic8\", \"Topic8\", \"Topic8\", \"Topic8\", \"Topic8\", \"Topic8\", \"Topic8\", \"Topic8\", \"Topic8\", \"Topic8\", \"Topic8\", \"Topic8\", \"Topic8\", \"Topic8\", \"Topic8\", \"Topic8\", \"Topic8\", \"Topic8\", \"Topic8\", \"Topic8\", \"Topic8\", \"Topic8\", \"Topic8\", \"Topic8\", \"Topic8\", \"Topic8\", \"Topic8\", \"Topic8\", \"Topic8\", \"Topic8\", \"Topic8\", \"Topic8\", \"Topic8\", \"Topic8\", \"Topic8\", \"Topic8\", \"Topic8\", \"Topic8\", \"Topic8\", \"Topic8\", \"Topic8\", \"Topic8\", \"Topic8\", \"Topic8\", \"Topic8\", \"Topic8\", \"Topic8\", \"Topic8\", \"Topic8\", \"Topic8\", \"Topic9\", \"Topic9\", \"Topic9\", \"Topic9\", \"Topic9\", \"Topic9\", \"Topic9\", \"Topic9\", \"Topic9\", \"Topic9\", \"Topic9\", \"Topic9\", \"Topic9\", \"Topic9\", \"Topic9\", \"Topic9\", \"Topic9\", \"Topic9\", \"Topic9\", \"Topic9\", \"Topic9\", \"Topic9\", \"Topic9\", \"Topic9\", \"Topic9\", \"Topic9\", \"Topic9\", \"Topic9\", \"Topic9\", \"Topic9\", \"Topic9\", \"Topic9\", \"Topic9\", \"Topic9\", \"Topic9\", \"Topic9\", \"Topic9\", \"Topic9\", \"Topic9\", \"Topic9\", \"Topic9\", \"Topic9\", \"Topic9\", \"Topic9\", \"Topic9\", \"Topic9\", \"Topic9\", \"Topic9\", \"Topic9\", \"Topic9\", \"Topic9\", \"Topic9\", \"Topic9\", \"Topic9\", \"Topic9\", \"Topic9\", \"Topic9\", \"Topic9\", \"Topic9\", \"Topic9\", \"Topic9\", \"Topic10\", \"Topic10\", \"Topic10\", \"Topic10\", \"Topic10\", \"Topic10\", \"Topic10\", \"Topic10\", \"Topic10\", \"Topic10\", \"Topic10\", \"Topic10\", \"Topic10\", \"Topic10\", \"Topic10\", \"Topic10\", \"Topic10\", \"Topic10\", \"Topic10\", \"Topic10\", \"Topic10\", \"Topic10\", \"Topic10\", \"Topic10\", \"Topic10\", \"Topic10\", \"Topic10\", \"Topic10\", \"Topic10\", \"Topic10\", \"Topic10\", \"Topic10\", \"Topic10\", \"Topic10\", \"Topic10\", \"Topic10\", \"Topic10\", \"Topic10\", \"Topic10\", \"Topic10\", \"Topic10\", \"Topic10\", \"Topic10\", \"Topic10\", \"Topic10\", \"Topic10\", \"Topic10\", \"Topic10\", \"Topic10\", \"Topic10\", \"Topic10\", \"Topic10\", \"Topic10\", \"Topic10\", \"Topic10\", \"Topic10\", \"Topic10\", \"Topic10\", \"Topic10\", \"Topic10\"], \"logprob\": [30.0, 29.0, 28.0, 27.0, 26.0, 25.0, 24.0, 23.0, 22.0, 21.0, 20.0, 19.0, 18.0, 17.0, 16.0, 15.0, 14.0, 13.0, 12.0, 11.0, 10.0, 9.0, 8.0, 7.0, 6.0, 5.0, 4.0, 3.0, 2.0, 1.0, -3.0566, -3.9439, -3.9439, -3.5544, -4.5905, -4.5905, -4.5905, -4.5905, -4.5905, -4.5905, -4.5905, -4.5905, -4.5905, -4.5905, -4.5905, -4.5905, -4.5905, -4.5905, -4.5905, -4.5905, -4.5905, -4.5905, -4.5905, -4.5905, -4.5905, -4.5905, -4.5905, -4.5905, -4.5905, -4.5905, -3.9439, -3.9439, -3.9439, -3.9439, -3.9439, -3.5544, -3.5544, -3.5544, -3.9439, -3.9439, -4.5905, -4.5905, -4.5905, -4.5905, -4.5905, -4.5905, -4.1729, -4.1729, -4.173, -4.173, -4.173, -4.173, -4.173, -4.173, -4.173, -4.173, -4.173, -4.1731, -4.1731, -4.1731, -4.1742, -4.1744, -4.1744, -4.1744, -4.1745, -4.1747, -4.1747, -4.1748, -4.1749, -4.175, -4.1752, -3.5272, -3.5272, -3.5264, -3.5271, -4.173, -3.1376, -3.5274, -3.5263, -3.5264, -3.5266, -4.1718, -4.1729, -4.173, -3.3428, -3.989, -3.9889, -3.989, -3.989, -3.9892, -3.9892, -3.9893, -3.9893, -3.9893, -3.9893, -3.9893, -3.9893, -3.9893, -3.9894, -3.9894, -3.9894, -3.9895, -3.9895, -3.9895, -3.9896, -3.9897, -3.9897, -3.9899, -3.9897, -3.9895, -3.9894, -3.9895, -3.9892, -3.9897, -3.343, -3.3432, -3.343, -3.9892, -3.9895, -2.8832, -2.8832, -3.2727, -3.9193, -3.9193, -3.9193, -3.9193, -3.9193, -3.9193, -3.9193, -3.9193, -3.9193, -3.9193, -3.9193, -3.9193, -3.9193, -3.9193, -3.9193, -3.2727, -3.9193, -3.9193, -3.9192, -3.9193, -2.8832, -3.9193, -3.9192, -3.9193, -3.9193, -6.3172, -6.3172, -6.3161, -6.3161, -6.3154, -6.3156, -3.8636, -3.8636, -3.8636, -3.8636, -3.8636, -3.8636, -3.8636, -3.8636, -3.8636, -3.8636, -3.8636, -3.8636, -3.8636, -3.8636, -3.8636, -3.8636, -3.8637, -3.8637, -3.8637, -3.8637, -3.8637, -3.8636, -3.8636, -3.217, -3.8636, -3.8636, -3.8636, -3.8636, -3.8636, -3.8636, -3.8636, -3.8636, -3.1376, -3.7842, -3.7842, -3.7842, -3.7842, -3.7842, -3.7842, -3.7842, -3.7842, -3.7842, -3.7842, -3.7842, -3.7842, -3.7842, -3.7842, -3.7842, -3.7842, -3.7842, -3.7842, -3.7842, -3.7842, -3.7842, -3.7842, -3.7842, -3.7842, -3.7842, -3.7842, -3.7842, -6.1821, -6.1821, -6.1809, -6.181, -6.1809, -3.0526, -3.6983, -3.6985, -3.6985, -3.6985, -3.6987, -3.6988, -3.6989, -2.6623, -3.0517, -3.6986, -3.6987, -3.6985, -3.6986, -3.6986, -3.6983, -3.6983, -3.6985, -3.6983, -3.6985, -3.6986, -6.0948, -6.0948, -6.0948, -6.0948, -6.0948, -6.0948, -6.0948, -6.0948, -6.0948, -6.0948, -6.0948, -6.0948, -6.0948, -6.0948, -6.0948, -6.0948, -6.0948, -6.0948, -5.2741, -5.2741, -5.2741, -5.2741, -5.2741, -5.2741, -5.2741, -5.2741, -5.2741, -5.2741, -5.2741, -5.2741, -5.2741, -5.2741, -5.2741, -5.2741, -5.2741, -5.2741, -5.2741, -5.2741, -5.2741, -5.2741, -5.2741, -5.2741, -5.2741, -5.2741, -5.2741, -5.2741, -5.2741, -5.2741, -5.2513, -5.2541, -5.2542, -5.2548, -5.2555, -5.2556, -5.2557, -5.2479, -5.257, -5.2574, -5.2574, -5.2575, -5.2577, -5.2577, -5.2577, -5.2501, -5.2583, -5.2583, -5.2585, -5.2587, -5.2513, -5.259, -5.2526, -5.253, -5.2532, -5.2551, -5.2561, -5.2562, -5.2609, -5.2611, -5.2567, -5.2292, -5.1897, -5.2383, -5.2414, -5.215, -5.2374, -5.2346, -5.2436, -5.2362, -5.2391, -5.2532, -5.2533, -5.2539, -5.2544, -5.255, -5.2557, -5.2682, -5.2682, -5.2682, -5.2682, -5.2682, -5.2682, -5.2682, -5.2682, -5.2682, -5.2682, -5.2682, -5.2682, -5.2682, -5.2682, -5.2682, -5.2682, -5.2682, -5.2682, -5.2682, -5.2682, -5.2682, -5.2682, -5.2682, -5.2682, -5.2682, -5.2682, -5.2682, -5.2682, -5.2682, -5.2682, -5.2682, -5.2651, -5.2652, -5.2654, -5.2658, -5.2659, -5.2659, -5.2659, -5.266, -5.2661, -5.2661, -5.2662, -5.2663, -5.2667, -5.2668, -5.2637, -5.2644, -5.2648, -5.2653, -5.2656, -5.2657, -5.2659, -5.266, -5.266, -5.2663, -5.2667, -5.2667, -5.2668, -5.2682, -5.2682, -5.2682, -5.2679, -5.2679, -5.2679, -5.2679, -5.2679, -5.2679, -5.2679, -5.2679, -5.2679, -5.2679, -5.2679, -5.2679, -5.2679, -5.2679, -5.2679, -5.2679, -5.2679, -5.2679, -5.2679, -5.2679, -5.2679, -5.2679, -5.2679, -5.2679, -5.2679, -5.2679, -5.2679, -5.2679, -5.2679, -5.2679, -5.2679, -5.2679, -5.2679, -5.2679, -5.2679, -5.2679, -5.2679, -5.2679, -5.2679, -5.2679, -5.2679, -5.2679, -5.2679, -5.2679, -5.2679, -5.2679, -5.2679, -5.2679, -5.2679, -5.2679, -5.2679, -5.2679, -5.2679, -5.2679, -5.2679, -5.2679, -5.2679, -5.2679, -5.2679, -5.2679], \"loglift\": [30.0, 29.0, 28.0, 27.0, 26.0, 25.0, 24.0, 23.0, 22.0, 21.0, 20.0, 19.0, 18.0, 17.0, 16.0, 15.0, 14.0, 13.0, 12.0, 11.0, 10.0, 9.0, 8.0, 7.0, 6.0, 5.0, 4.0, 3.0, 2.0, 1.0, 1.1576, 1.0385, 1.0385, 0.9048, 0.8784, 0.8784, 0.8784, 0.8784, 0.8784, 0.8784, 0.8784, 0.8784, 0.8784, 0.8784, 0.8784, 0.8784, 0.8784, 0.8784, 0.8784, 0.8784, 0.8784, 0.8784, 0.8784, 0.8784, 0.8784, 0.8784, 0.8784, 0.8784, 0.8784, 0.8784, 0.799, 0.7672, 0.7437, 0.5602, 0.5413, 0.1568, 0.1568, 0.1568, 0.2277, -0.0411, 0.8784, 0.8784, 0.8784, 0.8784, 0.8784, 0.8784, 1.3674, 1.3674, 1.3674, 1.3674, 1.3674, 1.3673, 1.3673, 1.3673, 1.3673, 1.3673, 1.3673, 1.3673, 1.3673, 1.3673, 1.3669, 1.3668, 1.3668, 1.3668, 1.3668, 1.3667, 1.3667, 1.3667, 1.3666, 1.3666, 1.3665, 1.1928, 1.1928, 0.9844, 0.9839, 0.9201, 0.7652, 0.2973, 0.1849, 0.1848, 0.1846, 0.3322, 0.5903, 0.5145, 1.7729, 1.5868, 1.5868, 1.5868, 1.5868, 1.5867, 1.5867, 1.5867, 1.5867, 1.5867, 1.5867, 1.5867, 1.5867, 1.5867, 1.5867, 1.5867, 1.5866, 1.5866, 1.5866, 1.5866, 1.5866, 1.5865, 1.5865, 1.5864, 1.139, 1.1045, 1.1043, 1.1036, 1.0576, 1.0572, 0.8286, 0.5596, 0.4818, -0.278, -0.2783, 1.947, 1.947, 1.869, 1.6772, 1.6772, 1.6772, 1.6772, 1.6772, 1.6772, 1.6772, 1.6772, 1.6772, 1.6772, 1.6772, 1.6772, 1.6772, 1.6772, 1.6772, 1.2985, 1.2717, 1.2336, 1.2095, 1.1395, 0.9416, 0.7918, -0.208, -0.208, -0.208, -0.6417, -0.6417, -0.7404, -0.7401, -1.1997, -2.1441, 1.7508, 1.7507, 1.7507, 1.7507, 1.7507, 1.7507, 1.7507, 1.7507, 1.7507, 1.7507, 1.7507, 1.7507, 1.7507, 1.7507, 1.7507, 1.7507, 1.7507, 1.7507, 1.7507, 1.7507, 1.7507, 1.3393, 1.2893, 0.9546, 0.6475, 0.6471, 0.6216, 0.5956, -0.0389, -0.1524, -0.1524, -0.1524, 2.0626, 1.8581, 1.8581, 1.8581, 1.8581, 1.8581, 1.8581, 1.8581, 1.8581, 1.8581, 1.8581, 1.8581, 1.8581, 1.8581, 1.8581, 1.8581, 1.8581, 1.8581, 1.8581, 1.8581, 1.8581, 1.8581, 1.3011, 1.1418, 0.9789, -0.0729, -0.0729, -0.0729, -0.5066, -0.5066, -0.5666, -0.5667, -2.0093, 2.1903, 1.9772, 1.9771, 1.977, 1.9769, 1.9767, 1.9767, 1.9765, 1.965, 1.8744, 1.5043, 1.4923, 1.4058, 1.4056, 1.0444, 0.8729, 0.8058, 0.2043, 0.0129, 0.0127, 0.0126, -0.4525, -0.4525, -0.4525, -0.4525, -0.4525, -0.4525, -0.4525, -0.4525, -0.4525, -1.5841, -2.2701, -1.8806, -1.6096, -1.5838, -0.5545, -0.5545, -0.5544, -0.5545, 0.4014, 0.4014, 0.4014, 0.4014, 0.4014, 0.4014, 0.4013, 0.3683, 0.3683, 0.3683, 0.3683, 0.3683, 0.3683, 0.3683, 0.3683, 0.3683, 0.3683, 0.3683, 0.3683, 0.3683, 0.3683, 0.3683, 0.3683, 0.3683, 0.3683, 0.3683, 0.3683, 0.3683, 0.3403, 0.3403, 0.325, 0.3221, 0.322, 0.3214, 0.3207, 0.3205, 0.3204, 0.2938, 0.319, 0.3186, 0.3186, 0.3185, 0.3183, 0.3183, 0.3183, 0.2915, 0.3177, 0.3176, 0.3174, 0.3172, 0.2902, 0.3169, 0.2889, 0.2884, 0.2882, 0.2861, 0.2851, 0.285, 0.3149, 0.3148, 0.2845, -0.1352, -1.2869, -0.1446, -0.1256, -1.3902, -1.0658, -1.5234, -0.7584, -1.5249, -1.5279, -0.2269, -0.2064, -0.1252, -0.5343, -0.535, -0.1625, 0.4073, 0.4073, 0.4073, 0.4073, 0.4073, 0.4073, 0.4072, 0.3742, 0.3742, 0.3742, 0.3742, 0.3742, 0.3742, 0.3742, 0.3742, 0.3742, 0.3742, 0.3742, 0.3742, 0.3742, 0.3742, 0.3742, 0.3742, 0.3742, 0.3742, 0.3742, 0.3742, 0.3742, 0.3462, 0.3462, 0.3462, 0.2753, 0.2752, 0.275, 0.2746, 0.2745, 0.2745, 0.2745, 0.2744, 0.2743, 0.2742, 0.2741, 0.274, 0.2736, 0.2735, -0.753, -0.7604, -1.5536, -1.4405, -0.5781, -0.5457, -0.1728, -0.5459, -0.755, -1.5551, -1.3638, -1.5555, -0.5036, -1.0966, -0.783, 0.2007, 0.4077, 0.4076, 0.4076, 0.4076, 0.4076, 0.4076, 0.4076, 0.3745, 0.3745, 0.3745, 0.3745, 0.3745, 0.3745, 0.3745, 0.3745, 0.3745, 0.3745, 0.3745, 0.3745, 0.3745, 0.3745, 0.3745, 0.3745, 0.3745, 0.3745, 0.3745, 0.3745, 0.3745, 0.3465, 0.3465, -1.5566, -1.5566, -1.365, -1.4431, -0.7568, -0.7638, -1.5566, -1.0537, -1.0963, -0.7827, -0.5047, -0.7571, -0.5478, -0.5478, -0.5803, -0.6966, -0.2211, -0.5568, -0.8086, -0.5249, -0.6406, -0.025, -0.3418, 0.2725, 0.2725, 0.2725, 0.2724, 0.2724, 0.2725, 0.2725]}, \"token.table\": {\"Topic\": [1, 4, 1, 2, 5, 2, 1, 4, 1, 7, 6, 7, 4, 5, 5, 1, 4, 1, 2, 5, 2, 1, 4, 3, 1, 2, 4, 3, 1, 2, 3, 4, 5, 6, 7, 2, 3, 6, 1, 1, 4, 1, 6, 6, 3, 1, 4, 7, 2, 2, 5, 5, 3, 1, 5, 6, 3, 3, 5, 5, 3, 3, 7, 3, 1, 7, 2, 1, 1, 5, 7, 1, 3, 2, 5, 3, 4, 3, 7, 1, 1, 2, 5, 3, 4, 3, 5, 1, 7, 7, 6, 7, 1, 1, 4, 5, 4, 4, 1, 4, 3, 1, 2, 1, 7, 6, 3, 2, 2, 1, 4, 5, 1, 2, 7, 2, 1, 2, 6, 3, 1, 5, 2, 3, 4, 2, 6, 6, 6, 1, 5, 2, 3, 1, 3, 6, 4, 2, 4, 1, 2, 5, 6, 7, 1, 1, 2, 3, 4, 5, 6, 7, 2, 4, 6, 1, 1, 2, 3, 6, 2, 1, 3, 1, 1, 2, 5, 2, 1, 7, 1, 2, 3, 4, 5, 6, 7, 2, 3, 3, 1, 2, 1, 1, 1, 6, 4, 4, 5, 2, 6, 6, 6, 3, 5, 1, 5, 2, 2, 6, 5, 6, 1, 5, 1, 6, 3, 7, 2, 1, 7, 4, 5, 2, 3, 1, 2, 6, 3, 1, 2, 1, 2, 3, 4, 5, 1, 5, 1, 1, 1, 1, 5, 6, 1, 3, 5, 4, 7, 4, 6, 1, 1, 2, 3, 7, 3, 2], \"Freq\": [0.7802844858955797, 0.8864674614376964, 0.5835221682590122, 0.2917610841295061, 0.2917610841295061, 0.839021483042945, 0.780284491852141, 0.5625070455011314, 0.5418238732942494, 0.5418238732942494, 0.9280358154693686, 0.9593136250311594, 0.823913928335737, 0.9024245514143717, 0.9024253252930066, 0.7802844894403522, 0.8864674748158714, 0.29940117608608396, 0.5988023521721679, 0.29940117608608396, 0.8380524989808076, 0.5177950480256761, 0.5177950480256761, 0.8683113716490394, 0.7802844858955797, 0.8380526513588034, 0.8864674790581281, 0.8683044331747529, 0.2691027609091523, 0.2691027609091523, 0.13455138045457615, 0.13455138045457615, 0.13455138045457615, 0.13455138045457615, 0.13455138045457615, 0.8380819142114149, 0.8684373509489002, 0.9280358103517665, 0.780284502616834, 0.7802844917791265, 0.8864674833735419, 0.7802844858955797, 0.9280358252693404, 0.9280358361633594, 0.8684674064308282, 0.31797163039655296, 0.31797163039655296, 0.31797163039655296, 0.8388379516523092, 0.8386763568529995, 0.9024247640259295, 0.9024254982093253, 0.8686362386567343, 0.5685522974020655, 0.28427614870103274, 0.9280358176570052, 0.8684659230526521, 0.8684723557600891, 0.9024258311951496, 0.9024251542082937, 0.8685723148431144, 0.8685634230195143, 0.9593272899674792, 0.8684975106548847, 0.7550582223628898, 0.3775291111814449, 0.8387911344278657, 0.7802844928321726, 0.7802844987800361, 0.5980303915542923, 0.5980303915542923, 0.5115852700805741, 0.5115852700805741, 0.8380117846792793, 0.9024247157890157, 0.5552782376214644, 0.5552782376214644, 0.8684628615035977, 0.9592585614929492, 0.7802844961579344, 0.7802844858955797, 0.8380076912663518, 0.9024253250711719, 0.8684263611625743, 0.8864674574552047, 0.8684778874226289, 0.9024242667540916, 0.3362995830197533, 0.6725991660395066, 0.6224199919831491, 0.9280358103517665, 0.9593532229060213, 0.7802844961669857, 0.7802845048938009, 0.8864674760865211, 0.9024254137509099, 0.8239139267555263, 0.8864674790581281, 0.731405948252093, 0.3657029741260465, 0.8684789896455282, 0.5012069203298191, 0.5012069203298191, 0.7802844897146283, 0.9592855550852437, 0.9280358154693686, 0.868239829161848, 0.8391856417654391, 0.8389620585914292, 0.7802845054423532, 0.5688903871378032, 0.5688903871378032, 0.5946171277973056, 0.2973085638986528, 0.2973085638986528, 0.8380317228587254, 0.3852598146076362, 0.3852598146076362, 0.3852598146076362, 0.8684163319362608, 0.7802844923388857, 0.9024248657415013, 0.8380420470297839, 0.8687708430044776, 0.8864674833735419, 0.8387871272265438, 0.9280358328550065, 0.9280358220345526, 0.9280358187133964, 0.7802844989925047, 0.9024247641324259, 0.5363307338586925, 0.5363307338586925, 0.5116732433188862, 0.5116732433188862, 0.9280358226713235, 0.8864674793910499, 0.838036259162324, 0.8864674767264367, 0.7802844922658713, 0.838051043795172, 0.9024247293883045, 0.45341246794327295, 0.45341246794327295, 0.7802845013312791, 0.26910473926380096, 0.26910473926380096, 0.13455236963190048, 0.13455236963190048, 0.13455236963190048, 0.13455236963190048, 0.13455236963190048, 0.8389407028142004, 0.8864674668151203, 0.9280358332429882, 0.7802844864441318, 0.9593352038567424, 0.5358532255862841, 0.5358532255862841, 0.9280358103517665, 0.8390812477170045, 0.7802844989372394, 0.8685610991879873, 0.7802845033778547, 0.29930850333098724, 0.5986170066619745, 0.29930850333098724, 0.838764116480082, 0.7802844971649397, 0.9592776519854357, 0.26910683766409477, 0.26910683766409477, 0.13455341883204738, 0.13455341883204738, 0.13455341883204738, 0.13455341883204738, 0.13455341883204738, 0.5361537390429003, 0.5361537390429003, 0.5480925290950538, 0.3689828606149415, 0.3689828606149415, 0.7802844897876429, 0.780284505168077, 0.5317062150600224, 0.5317062150600224, 0.8864674837275452, 0.8864674714132073, 0.9024246398775471, 0.8380476593032582, 0.9280358139606706, 0.9280358107397483, 0.9280358103517665, 0.8682866523300913, 0.9024244050358909, 0.7802844858955797, 0.9024255434742041, 0.8380865735437644, 0.8380562267906093, 0.9280358158573502, 0.9024243373648849, 0.9280358369393231, 0.7802844858955797, 0.9024255109960745, 0.7802844910598731, 0.9280358369393231, 0.8686054017851332, 0.9593237542077676, 0.8389295165113841, 0.5418314001960352, 0.5418314001960352, 0.8864674791523668, 0.9024255756466166, 0.8380760791956214, 0.8686337369111293, 0.3689866300558455, 0.3689866300558455, 0.928035831537023, 0.8684340550880738, 0.7143838872961374, 0.3571919436480687, 0.15072769840571285, 0.15072769840571285, 0.15072769840571285, 0.3014553968114257, 0.15072769840571285, 0.7802845031035788, 0.90242454320775, 0.7802844884468226, 0.7802844928964893, 0.8900048252864303, 0.9593351987727772, 0.9024250034067405, 0.9280358187262, 0.42642928328281837, 0.21321464164140919, 0.21321464164140919, 0.5909740066229473, 0.5909740066229473, 0.8864674757797467, 0.5964100663457349, 0.7802845057166291, 0.32593303058557643, 0.32593303058557643, 0.16296651529278822, 0.16296651529278822, 0.8684009117809431, 0.8380407001079367], \"Term\": [\"advice\", \"afternoon\", \"air\", \"air\", \"air\", \"animal\", \"ankle\", \"arm\", \"attention\", \"attention\", \"barnacle\", \"bear\", \"bee\", \"being\", \"bird\", \"blame\", \"block\", \"body\", \"body\", \"body\", \"bone\", \"branch\", \"branch\", \"breath\", \"catbrier\", \"cattail\", \"cave\", \"center\", \"charge\", \"charge\", \"charge\", \"charge\", \"charge\", \"charge\", \"charge\", \"cinnamon\", \"circle\", \"clam\", \"clothe\", \"cloud\", \"clover\", \"company\", \"cupboard\", \"cusp\", \"dance\", \"day\", \"day\", \"day\", \"desert\", \"despair\", \"dozen\", \"dream\", \"dust\", \"earth\", \"earth\", \"edge\", \"education\", \"egg\", \"evening\", \"everlasting\", \"evil\", \"explanation\", \"eye\", \"eyelash\", \"face\", \"face\", \"family\", \"fault\", \"feather\", \"field\", \"field\", \"finger\", \"finger\", \"fire\", \"firewood\", \"flower\", \"flower\", \"foot\", \"forearm\", \"forest\", \"foundation\", \"fragrance\", \"freshet\", \"garden\", \"gloom\", \"gold\", \"goodbye\", \"grass\", \"grass\", \"grasshopper\", \"gull\", \"hand\", \"happiness\", \"haste\", \"heartwood\", \"hollow\", \"honey\", \"honeysuckle\", \"house\", \"house\", \"idea\", \"imagination\", \"imagination\", \"inch\", \"jaw\", \"jingle\", \"jug\", \"knee\", \"landscape\", \"lantern\", \"leave\", \"leave\", \"life\", \"life\", \"life\", \"lifetime\", \"light\", \"light\", \"light\", \"lightning\", \"lily\", \"longing\", \"loss\", \"love\", \"meadow\", \"mile\", \"moisture\", \"moonlight\", \"morning\", \"moss\", \"mossy\", \"mountain\", \"mountain\", \"mouth\", \"mouth\", \"mussel\", \"nail\", \"name\", \"net\", \"night\", \"none\", \"nothingness\", \"one\", \"one\", \"opinion\", \"owner\", \"owner\", \"owner\", \"owner\", \"owner\", \"owner\", \"owner\", \"pebble\", \"perfection\", \"periwinkle\", \"person\", \"petal\", \"pillar\", \"pillar\", \"pink\", \"place\", \"plum\", \"poet\", \"pomp\", \"pond\", \"pond\", \"pond\", \"prairie\", \"praise\", \"prayer\", \"purpose\", \"purpose\", \"purpose\", \"purpose\", \"purpose\", \"purpose\", \"purpose\", \"rain\", \"rain\", \"ring\", \"river\", \"river\", \"road\", \"robe\", \"rock\", \"rock\", \"rose\", \"rug\", \"run\", \"salvation\", \"scallop\", \"schoolhouse\", \"sea\", \"seed\", \"shadow\", \"sheet\", \"shift\", \"shoulder\", \"side\", \"snail\", \"snow\", \"split\", \"star\", \"stiffen\", \"stone\", \"story\", \"sufi\", \"sugar\", \"sun\", \"swan\", \"swan\", \"sweetness\", \"tail\", \"taper\", \"theater\", \"thing\", \"thing\", \"thousand\", \"thumb\", \"time\", \"time\", \"tree\", \"tree\", \"tree\", \"tree\", \"tree\", \"trout\", \"tuffet\", \"tug\", \"violet\", \"voice\", \"water\", \"way\", \"whole\", \"wind\", \"wind\", \"wind\", \"wing\", \"wing\", \"wood\", \"word\", \"work\", \"world\", \"world\", \"world\", \"world\", \"yard\", \"year\"]}, \"R\": 30, \"lambda.step\": 0.01, \"plot.opts\": {\"xlab\": \"PC1\", \"ylab\": \"PC2\"}, \"topic.order\": [5, 8, 4, 6, 3, 1, 2, 7, 9, 10]};\n",
              "\n",
              "function LDAvis_load_lib(url, callback){\n",
              "  var s = document.createElement('script');\n",
              "  s.src = url;\n",
              "  s.async = true;\n",
              "  s.onreadystatechange = s.onload = callback;\n",
              "  s.onerror = function(){console.warn(\"failed to load library \" + url);};\n",
              "  document.getElementsByTagName(\"head\")[0].appendChild(s);\n",
              "}\n",
              "\n",
              "if(typeof(LDAvis) !== \"undefined\"){\n",
              "   // already loaded: just create the visualization\n",
              "   !function(LDAvis){\n",
              "       new LDAvis(\"#\" + \"ldavis_el9941403181033294882035018013\", ldavis_el9941403181033294882035018013_data);\n",
              "   }(LDAvis);\n",
              "}else if(typeof define === \"function\" && define.amd){\n",
              "   // require.js is available: use it to load d3/LDAvis\n",
              "   require.config({paths: {d3: \"https://d3js.org/d3.v5\"}});\n",
              "   require([\"d3\"], function(d3){\n",
              "      window.d3 = d3;\n",
              "      LDAvis_load_lib(\"https://cdn.jsdelivr.net/gh/bmabey/pyLDAvis@3.3.1/pyLDAvis/js/ldavis.v3.0.0.js\", function(){\n",
              "        new LDAvis(\"#\" + \"ldavis_el9941403181033294882035018013\", ldavis_el9941403181033294882035018013_data);\n",
              "      });\n",
              "    });\n",
              "}else{\n",
              "    // require.js not available: dynamically load d3 & LDAvis\n",
              "    LDAvis_load_lib(\"https://d3js.org/d3.v5.js\", function(){\n",
              "         LDAvis_load_lib(\"https://cdn.jsdelivr.net/gh/bmabey/pyLDAvis@3.3.1/pyLDAvis/js/ldavis.v3.0.0.js\", function(){\n",
              "                 new LDAvis(\"#\" + \"ldavis_el9941403181033294882035018013\", ldavis_el9941403181033294882035018013_data);\n",
              "            })\n",
              "         });\n",
              "}\n",
              "</script>"
            ]
          },
          "metadata": {},
          "execution_count": 77
        }
      ]
    },
    {
      "cell_type": "markdown",
      "metadata": {
        "id": "CetsflNw3q5F"
      },
      "source": [
        "# **Human Right** is the Topic Name from based on the LDA model topics from Mary J Oliver Poem's  (voice, earth, purpose, owner, charge)"
      ]
    },
    {
      "cell_type": "code",
      "metadata": {
        "id": "ZBKegZt3WeJz",
        "colab": {
          "base_uri": "https://localhost:8080/"
        },
        "outputId": "14c07b82-d07d-473f-c3fd-8eff62566a61"
      },
      "source": [
        "swapped_langston_poem_list=[]\n",
        "for j in swapped_langston_hughes_choherence_input:\n",
        "  swapped_poem_index =  str(j)\n",
        "  print(swapped_poem_index)\n",
        "  print(swapped_langston_hughes_choherence_input[swapped_poem_index])\n",
        "  swapped_langston_poem_list.append(swapped_langston_hughes_choherence_input[swapped_poem_index])\n",
        "print(swapped_langston_poem_list)"
      ],
      "execution_count": 78,
      "outputs": [
        {
          "output_type": "stream",
          "name": "stdout",
          "text": [
            "poem0\n",
            "well son will tell you life for me ai not been no crystal stair it had tacks in it and splinters and boards torn up and places with no carpet on the floor— bare but all the time se been climbin on and reachin landin and turnin corners and sometimes goin in the dark where there ai not been no light so boy do not you turn back do not you set down on the steps because you finds it kinder hard do not you fall now— for se still goin honey se still climbin and life for me ai not been no crystal stair by owner provided at no charge for educational purposes\n",
            "poem1\n",
            "landlord landlord my roof has sprung leak do not you member told you about it way last week landlord landlord these steps is broken down when you come up yourself it wonder you do not fall down ten bucks you say owe you ten bucks you say is due well that ten bucks more pay you till you fix this house up new what you going to get eviction orders you going to cut off my heat you going to walk my furniture and throw it in the street um huh you talking high and mighty talk on till you get through you ai not going to be able to say word if land my fist on you police police come and get this man he trying to ruin the government and overturn the land copper whistle patrol bell arrest precinct station iron cell headlines in press man threatens landlord tenant held no bail judge gives negro days in county jail from the langston hughes reader this poem by langston hughes grew out of conditions in new york city’s harlem in the ’s in graphic terms it describes the escalation of anger and frustration that tenants experienced trying to get landlords to make basic repairs it is structured like an old time blues song until the final verse where the rhythm changes charley noble by owner provided at no charge for educational purposes\n",
            "poem2\n",
            "too sing america am the darker brother they send me to eat in the kitchen when company comes but laugh and eat well and grow strong tomorrow will be at the table when company comes nobody will dare say to me eat in the kitchen then besides they will see how beautiful am and be ashamed— too am america http www poetryarchive org poetryarchive singlepoem do poemid listen to langston hughes read this poem recorded in by owner provided at no charge for educational purposes\n",
            "poem3\n",
            "it was long time ago have almost forgotten my dream but it was there then in front of me bright like sun— my dream and then the wall rose rose slowly slowly between me and my dream rose until it touched the sky— the wall shadow am black lie down in the shadow no longer the light of my dream before me above me only the thick wall only the shadow my hands my dark hands break through the wall find my dream gone me to shatter this darkness to smash this night to break this shadow into thousand lights of sun into thousand whirling dreams of sun by owner provided at no charge for educational purposes\n",
            "poem4\n",
            "children come back today to tell you story of the long dark way that had to climb that had to know in order that the race might live and grow look at my face dark as the night yet shining like the sun with love true light am the child they stole from the sand three hundred years ago in africa land am the dark girl who crossed the wide sea carrying in my body the seed of the free am the woman who worked in the field bringing the cotton and the corn to yield am the one who labored as slave beaten and mistreated for the work gave children sold away from me husband sold too no safety no love no respect was due three hundred years in the deepest south but god put song and prayer in my mouth god put dream like steel in my soul now through my children reaching the goal now through my children young and free realize the blessings deed to me could not read then could not write had nothing back there in the night sometimes the valley was filled with tears but kept trudging on through the lonely years sometimes the road was hot with the sun but had to keep on till my work was done had to keep on no stopping for me was the seed of the coming free nourished the dream that nothing could smother deep in my breast the negro mother had only hope then but now through you dark ones of today my dreams must come true all you dark children in the world out there remember my sweat my pain my despair remember my years heavy with sorrow and make of those years torch for tomorrow make of my pass road to the light out of the darkness the ignorance the night lift high my banner out of the dust stand like free men supporting my trust believe in the right let none push you back remember the whip and the slaver track remember how the strong in struggle and strife still bar you the way and deny you life but march ever forward breaking down bars look ever upward at the sun and the stars oh my dark children may my dreams and my prayers impel you forever up the sleep stairs for will be with you till no white brother dares keep down the children of the negro mother many on line versions have the alternate line realized the blessing denied to me by owner provided at no charge for educational purposes\n",
            "poem5\n",
            "have known rivers have known rivers ancient as the world and older than the flow of human blood in human veins my soul has grown deep like the rivers bathed in the euphrates when dawns were young built my hut near the congo and it lulled me to sleep looked upon the nile and raised the pyramids above it heard the singing of the mississippi when abe lincoln went down to new orleans and have seen its muddy bosom turn all golden in the sunset have known rivers ancient dusky rivers my soul has grown deep like the rivers http www poetryarchive org poetryarchive singlepoem do poemid recorded in langston hughes recites by owner provided at no charge for educational purposes\n",
            "poem6\n",
            "the negro with the trumpet at his lips has dark moons of weariness beneath his eyes where the smoldering memory of slave ships blazed to the crack of whips about thighs the negro with the trumpet at his lips has head of vibrant hair tamed down patent leathered now until it gleams like jet— were jet crown the music from the trumpet at his lips is honey mixed with liquid fire the rhythm from the trumpet at his lips is ecstasy distilled from old desire— desire that is longing for the moon where the moonlight but spotlight in his eyes desire that is longing for the sea where the sea bar glass sucker size the negro with the trumpet at his lips whose jacket has fine one button roll does not know upon what riff the music slips it hypodermic needle to his soul but softly as the tune comes from his throat trouble mellows to golden note by owner provided at no charge for educational purposes\n",
            "poem7\n",
            "my old man white old manand my old mother black if ever cursed my white old mani walk my curses back if ever cursed my black old motherand wished she were in hell sorry for that evil wishand now wish her wellmy old man died in fine big house my ma died in shack wonder were going to die being neither white nor black by owner provided at no charge for educational purposes\n",
            "poem8\n",
            "the rent man knocked he said how do you do said what can do for you he said you know your rent is due said listen before pay go to hades and rot away the sink is broke the water do not run and you ai not done thing you promised to have done back window cracked kitchen floor squeaks there rats in the cellar and the attic leaks he said madam it not up to me just the agent do not you see said naturally you pass the buck if it money you want you are out of luck he said madam ai not pleased said neither am so we agrees this is one of number of madam poems by langston hughes that can be considered as linked series madam and the rent man http oldpoetry com opoem madam and the census man http oldpoetry com opoem show madam and her madam http oldpoetry com opoem madam and the phone bill http oldpoetry com opoem madam’s past history http oldpoetry com opoem this one is walkn from the collected poems of langston hughes by langston hughes by the estate of langston hughes the header graphic is an illustration from the liberation news service the late by owner provided at no charge for educational purposes\n",
            "poem9\n",
            "good morning daddy ai not you heard the boogie woogie rumble of dream deferred listen closely you will hear their feet beating out and beating out you think it happy beat listen to it closely ai not you heard something underneath like what did say sure happy walk it away hey pop re bop mop hughes himself says that the book from which this comes montage of dream deferred should be viewed as complete poem in itself and not collection of short poems by owner provided at no charge for educational purposes\n",
            "poem10\n",
            "['poem0', 'poem1', 'poem2', 'poem3', 'poem4', 'poem5', 'poem6', 'poem7', 'poem8', 'poem9']\n",
            "['well son will tell you life for me ai not been no crystal stair it had tacks in it and splinters and boards torn up and places with no carpet on the floor— bare but all the time se been climbin on and reachin landin and turnin corners and sometimes goin in the dark where there ai not been no light so boy do not you turn back do not you set down on the steps because you finds it kinder hard do not you fall now— for se still goin honey se still climbin and life for me ai not been no crystal stair by owner provided at no charge for educational purposes', 'landlord landlord my roof has sprung leak do not you member told you about it way last week landlord landlord these steps is broken down when you come up yourself it wonder you do not fall down ten bucks you say owe you ten bucks you say is due well that ten bucks more pay you till you fix this house up new what you going to get eviction orders you going to cut off my heat you going to walk my furniture and throw it in the street um huh you talking high and mighty talk on till you get through you ai not going to be able to say word if land my fist on you police police come and get this man he trying to ruin the government and overturn the land copper whistle patrol bell arrest precinct station iron cell headlines in press man threatens landlord tenant held no bail judge gives negro days in county jail from the langston hughes reader this poem by langston hughes grew out of conditions in new york city’s harlem in the ’s in graphic terms it describes the escalation of anger and frustration that tenants experienced trying to get landlords to make basic repairs it is structured like an old time blues song until the final verse where the rhythm changes charley noble by owner provided at no charge for educational purposes', 'too sing america am the darker brother they send me to eat in the kitchen when company comes but laugh and eat well and grow strong tomorrow will be at the table when company comes nobody will dare say to me eat in the kitchen then besides they will see how beautiful am and be ashamed— too am america http www poetryarchive org poetryarchive singlepoem do poemid listen to langston hughes read this poem recorded in by owner provided at no charge for educational purposes', 'it was long time ago have almost forgotten my dream but it was there then in front of me bright like sun— my dream and then the wall rose rose slowly slowly between me and my dream rose until it touched the sky— the wall shadow am black lie down in the shadow no longer the light of my dream before me above me only the thick wall only the shadow my hands my dark hands break through the wall find my dream gone me to shatter this darkness to smash this night to break this shadow into thousand lights of sun into thousand whirling dreams of sun by owner provided at no charge for educational purposes', 'children come back today to tell you story of the long dark way that had to climb that had to know in order that the race might live and grow look at my face dark as the night yet shining like the sun with love true light am the child they stole from the sand three hundred years ago in africa land am the dark girl who crossed the wide sea carrying in my body the seed of the free am the woman who worked in the field bringing the cotton and the corn to yield am the one who labored as slave beaten and mistreated for the work gave children sold away from me husband sold too no safety no love no respect was due three hundred years in the deepest south but god put song and prayer in my mouth god put dream like steel in my soul now through my children reaching the goal now through my children young and free realize the blessings deed to me could not read then could not write had nothing back there in the night sometimes the valley was filled with tears but kept trudging on through the lonely years sometimes the road was hot with the sun but had to keep on till my work was done had to keep on no stopping for me was the seed of the coming free nourished the dream that nothing could smother deep in my breast the negro mother had only hope then but now through you dark ones of today my dreams must come true all you dark children in the world out there remember my sweat my pain my despair remember my years heavy with sorrow and make of those years torch for tomorrow make of my pass road to the light out of the darkness the ignorance the night lift high my banner out of the dust stand like free men supporting my trust believe in the right let none push you back remember the whip and the slaver track remember how the strong in struggle and strife still bar you the way and deny you life but march ever forward breaking down bars look ever upward at the sun and the stars oh my dark children may my dreams and my prayers impel you forever up the sleep stairs for will be with you till no white brother dares keep down the children of the negro mother many on line versions have the alternate line realized the blessing denied to me by owner provided at no charge for educational purposes', 'have known rivers have known rivers ancient as the world and older than the flow of human blood in human veins my soul has grown deep like the rivers bathed in the euphrates when dawns were young built my hut near the congo and it lulled me to sleep looked upon the nile and raised the pyramids above it heard the singing of the mississippi when abe lincoln went down to new orleans and have seen its muddy bosom turn all golden in the sunset have known rivers ancient dusky rivers my soul has grown deep like the rivers http www poetryarchive org poetryarchive singlepoem do poemid recorded in langston hughes recites by owner provided at no charge for educational purposes', 'the negro with the trumpet at his lips has dark moons of weariness beneath his eyes where the smoldering memory of slave ships blazed to the crack of whips about thighs the negro with the trumpet at his lips has head of vibrant hair tamed down patent leathered now until it gleams like jet— were jet crown the music from the trumpet at his lips is honey mixed with liquid fire the rhythm from the trumpet at his lips is ecstasy distilled from old desire— desire that is longing for the moon where the moonlight but spotlight in his eyes desire that is longing for the sea where the sea bar glass sucker size the negro with the trumpet at his lips whose jacket has fine one button roll does not know upon what riff the music slips it hypodermic needle to his soul but softly as the tune comes from his throat trouble mellows to golden note by owner provided at no charge for educational purposes', 'my old man white old manand my old mother black if ever cursed my white old mani walk my curses back if ever cursed my black old motherand wished she were in hell sorry for that evil wishand now wish her wellmy old man died in fine big house my ma died in shack wonder were going to die being neither white nor black by owner provided at no charge for educational purposes', 'the rent man knocked he said how do you do said what can do for you he said you know your rent is due said listen before pay go to hades and rot away the sink is broke the water do not run and you ai not done thing you promised to have done back window cracked kitchen floor squeaks there rats in the cellar and the attic leaks he said madam it not up to me just the agent do not you see said naturally you pass the buck if it money you want you are out of luck he said madam ai not pleased said neither am so we agrees this is one of number of madam poems by langston hughes that can be considered as linked series madam and the rent man http oldpoetry com opoem madam and the census man http oldpoetry com opoem show madam and her madam http oldpoetry com opoem madam and the phone bill http oldpoetry com opoem madam’s past history http oldpoetry com opoem this one is walkn from the collected poems of langston hughes by langston hughes by the estate of langston hughes the header graphic is an illustration from the liberation news service the late by owner provided at no charge for educational purposes', 'good morning daddy ai not you heard the boogie woogie rumble of dream deferred listen closely you will hear their feet beating out and beating out you think it happy beat listen to it closely ai not you heard something underneath like what did say sure happy walk it away hey pop re bop mop hughes himself says that the book from which this comes montage of dream deferred should be viewed as complete poem in itself and not collection of short poems by owner provided at no charge for educational purposes', \"['poem0', 'poem1', 'poem2', 'poem3', 'poem4', 'poem5', 'poem6', 'poem7', 'poem8', 'poem9']\"]\n"
          ]
        }
      ]
    },
    {
      "cell_type": "markdown",
      "metadata": {
        "id": "Nz_PZ0ODV6Ez"
      },
      "source": [
        "# Swapped Langston Hughes Poem's perplexity and coherence score"
      ]
    },
    {
      "cell_type": "code",
      "metadata": {
        "id": "_Isbw9Z4W3dC",
        "colab": {
          "base_uri": "https://localhost:8080/"
        },
        "outputId": "de9c9b28-c6d8-47db-8842-3ed70afc1e5d"
      },
      "source": [
        "vis = choherence_perplexity_calculator(swapped_langston_poem_list)"
      ],
      "execution_count": 79,
      "outputs": [
        {
          "output_type": "stream",
          "name": "stdout",
          "text": [
            "[['well', 'son', 'will', 'tell', 'you', 'life', 'for', 'me', 'ai', 'not', 'been', 'no', 'crystal', 'stair', 'it', 'had', 'tacks', 'in', 'it', 'and', 'splinters', 'and', 'boards', 'torn', 'up', 'and', 'places', 'with', 'no', 'carpet', 'on', 'the', 'floor', 'bare', 'but', 'all', 'the', 'time', 'se', 'been', 'climbin', 'on', 'and', 'reachin', 'landin', 'and', 'turnin', 'corners', 'and', 'sometimes', 'goin', 'in', 'the', 'dark', 'where', 'there', 'ai', 'not', 'been', 'no', 'light', 'so', 'boy', 'do', 'not', 'you', 'turn', 'back', 'do', 'not', 'you', 'set', 'down', 'on', 'the', 'steps', 'because', 'you', 'finds', 'it', 'kinder', 'hard', 'do', 'not', 'you', 'fall', 'now', 'for', 'se', 'still', 'goin', 'honey', 'se', 'still', 'climbin', 'and', 'life', 'for', 'me', 'ai', 'not', 'been', 'no', 'crystal', 'stair', 'by', 'owner', 'provided', 'at', 'no', 'charge', 'for', 'educational', 'purposes']]\n",
            "['well', 'son', 'will', 'tell', 'you', 'life', 'for', 'me', 'ai', 'not', 'been', 'no', 'crystal', 'stair', 'it', 'had', 'tacks', 'in', 'it', 'and', 'splinters', 'and', 'boards', 'torn', 'up', 'and', 'places', 'with', 'no', 'carpet', 'on', 'the', 'floor', 'bare', 'but', 'all', 'the', 'time', 'se', 'been', 'climbin', 'on', 'and', 'reachin', 'landin', 'and', 'turnin', 'corners', 'and', 'sometimes', 'goin', 'in', 'the', 'dark', 'where', 'there', 'ai', 'not', 'been', 'no', 'light', 'so', 'boy', 'do', 'not', 'you', 'turn', 'back', 'do', 'not', 'you', 'set', 'down', 'on', 'the', 'steps', 'because', 'you', 'finds', 'it', 'kinder', 'hard', 'do', 'not', 'you', 'fall', 'now', 'for', 'se', 'still', 'goin', 'honey', 'se', 'still', 'climbin', 'and', 'life', 'for', 'me', 'ai', 'not', 'been', 'no', 'crystal', 'stair', 'by', 'owner', 'provided', 'at', 'no', 'charge', 'for', 'educational', 'purposes']\n"
          ]
        },
        {
          "output_type": "stream",
          "name": "stderr",
          "text": [
            "/usr/local/lib/python3.7/dist-packages/gensim/models/phrases.py:598: UserWarning: For a faster implementation, use the gensim.models.phrases.Phraser class\n",
            "  warnings.warn(\"For a faster implementation, use the gensim.models.phrases.Phraser class\")\n"
          ]
        },
        {
          "output_type": "stream",
          "name": "stdout",
          "text": [
            "[['life', 'crystal', 'stair', 'tack', 'splinter', 'board', 'place', 'carpet', 'floor', 'time', 'landin', 'turnin', 'corner', 'dark', 'light', 'boy', 'step', 'honey', 'life', 'crystal', 'stair', 'owner', 'charge', 'purpose']]\n",
            "[[(0, 1), (1, 1), (2, 1), (3, 1), (4, 1), (5, 2), (6, 1), (7, 1), (8, 1), (9, 1), (10, 2), (11, 1), (12, 1), (13, 1), (14, 1), (15, 1), (16, 2), (17, 1), (18, 1), (19, 1), (20, 1)]]\n",
            "[(0, '0.058*\"river\" + 0.049*\"lip\" + 0.048*\"trumpet\" + 0.029*\"soul\" + 0.020*\"owner\" + 0.020*\"sea\" + 0.020*\"purpose\" + 0.020*\"jet\" + 0.020*\"charge\" + 0.020*\"moon\"'), (1, '0.004*\"poem\" + 0.004*\"owner\" + 0.004*\"charge\" + 0.004*\"purpose\" + 0.004*\"company\" + 0.004*\"dream\" + 0.004*\"man\" + 0.004*\"wishand\" + 0.004*\"river\" + 0.004*\"slave\"'), (2, '0.004*\"opoem\" + 0.004*\"com\" + 0.004*\"rent\" + 0.004*\"oldpoetry\" + 0.004*\"man\" + 0.004*\"poem\" + 0.004*\"pay\" + 0.004*\"phone\" + 0.004*\"go\" + 0.004*\"window\"'), (3, '0.045*\"stair\" + 0.045*\"life\" + 0.044*\"crystal\" + 0.023*\"purpose\" + 0.023*\"owner\" + 0.023*\"light\" + 0.023*\"charge\" + 0.023*\"dark\" + 0.023*\"step\" + 0.023*\"time\"'), (4, '0.214*\"poem\" + 0.045*\"dream\" + 0.023*\"boogie\" + 0.023*\"charge\" + 0.023*\"woogie\" + 0.023*\"re\" + 0.023*\"foot\" + 0.023*\"book\" + 0.023*\"montage\" + 0.023*\"owner\"'), (5, '0.051*\"landlord\" + 0.039*\"buck\" + 0.026*\"tenant\" + 0.026*\"man\" + 0.026*\"land\" + 0.026*\"police\" + 0.014*\"furniture\" + 0.014*\"fist\" + 0.014*\"roof\" + 0.014*\"bail\"'), (6, '0.052*\"man\" + 0.052*\"com\" + 0.032*\"kitchen\" + 0.032*\"owner\" + 0.032*\"charge\" + 0.032*\"purpose\" + 0.032*\"poem\" + 0.032*\"oldpoetry\" + 0.032*\"rent\" + 0.032*\"opoem\"'), (7, '0.005*\"landlord\" + 0.005*\"trumpet\" + 0.005*\"buck\" + 0.004*\"lip\" + 0.004*\"police\" + 0.004*\"land\" + 0.004*\"man\" + 0.004*\"charge\" + 0.004*\"rhythm\" + 0.004*\"tenant\"'), (8, '0.061*\"child\" + 0.038*\"year\" + 0.031*\"dream\" + 0.023*\"sun\" + 0.023*\"night\" + 0.016*\"one\" + 0.016*\"love\" + 0.016*\"line\" + 0.016*\"seed\" + 0.016*\"blessing\"'), (9, '0.122*\"dream\" + 0.062*\"wall\" + 0.062*\"shadow\" + 0.042*\"sun\" + 0.042*\"hand\" + 0.042*\"light\" + 0.022*\"charge\" + 0.022*\"purpose\" + 0.022*\"owner\" + 0.022*\"darkness\"')]\n"
          ]
        },
        {
          "output_type": "stream",
          "name": "stderr",
          "text": [
            "/usr/local/lib/python3.7/dist-packages/pyLDAvis/_prepare.py:247: FutureWarning: In a future version of pandas all arguments of DataFrame.drop except for the argument 'labels' will be keyword-only\n",
            "  by='saliency', ascending=False).head(R).drop('saliency', 1)\n"
          ]
        },
        {
          "output_type": "stream",
          "name": "stdout",
          "text": [
            "\n",
            "Perplexity:  -5.602532942791033\n",
            "\n",
            "Coherence Score:  0.5864420066383647\n"
          ]
        }
      ]
    },
    {
      "cell_type": "code",
      "metadata": {
        "id": "mf1nECd2WkLR",
        "colab": {
          "base_uri": "https://localhost:8080/"
        },
        "outputId": "4d17046e-ead2-4e05-abb8-2625e2634150"
      },
      "source": [
        "swapped_mary_poem_list=[]\n",
        "for j in swapped_coherence_perplexity_calculator:\n",
        "  swapped_poem_index =  str(j)\n",
        "  print(swapped_poem_index)\n",
        "  print(swapped_coherence_perplexity_calculator[swapped_poem_index])\n",
        "  swapped_mary_poem_list.append(swapped_coherence_perplexity_calculator[swapped_poem_index])\n",
        "print(swapped_mary_poem_list)"
      ],
      "execution_count": 80,
      "outputs": [
        {
          "output_type": "stream",
          "name": "stdout",
          "text": [
            "poem0\n",
            "look the trees are turning their own bodies into pillars of light are giving off the rich fragrance of cinnamon and fulfillment the long tapers of cattails are bursting and floating away over the blue shoulders of the ponds and every pond no matter what its name is is nameless now every year everything have ever learned in my lifetime leads back to this the fires and the black river of loss whose other side is salvation whose meaning none of us will ever know to live in this world you must be able to do three things to love what is mortal to hold it against your bones knowing your own life depends on it and when the time comes to let it go to let it go by owner provided at no charge for educational purposes\n",
            "poem1\n",
            "one day you finally knew what you had to do and began though the voices around you kept shouting their bad advice though the whole house began to tremble and you felt the old tug at your ankles mend my life each voice cried but you did not stop you knew what you had to do though the wind pried with its stiff fingers at the very foundations though their melancholy was terrible it was already late enough and wild night and the road full of fallen branches and stones but little by little as you left their voice behind the stars began to burn through the sheets of clouds and there was new voice which you slowly recognized as your own that kept you company as you strode deeper and deeper into the world determined to do the only thing you could do determined to save the only life that you could save by owner provided at no charge for educational purposes\n",
            "poem2\n",
            "you do not have to be good you do not have to walk on your knees for hundred miles through the desert repenting you only have to let the soft animal of your body love what it loves tell me about despair yours and will tell you mine meanwhile the world goes on meanwhile the sun and the clear pebbles of the rain are moving across the landscapes over the prairies and the deep trees the mountains and the rivers meanwhile the wild geese high in the clean blue air are heading home again whoever you are no matter how lonely the world offers itself to your imagination calls to you like the wild geese harsh and exciting over and over announcing your place in the family of things by owner provided at no charge for educational purposes\n",
            "poem3\n",
            "how necessary it is to have opinions think the spotted trout lilies are satisfied standing few inches above the earth think serenity is not something you just find in the world like plum tree holding up its white petals the violets along the river are opening their blue faces like small dark lanterns the green mosses being so many are as good as brawny how important it is to walk along not in haste but slowly looking at everything and calling out yes no the swan for all his pomp his robes of grass and petals wants only to be allowed to live on the nameless pond the catbrier is without fault the water thrushes down among the sloppy rocks are going crazy with happiness imagination is better than sharp instrument to pay attention this is our endless and proper work by owner provided at no charge for educational purposes\n",
            "poem4\n",
            "in the afternoon watched the she bear she was looking for the secret bin of sweetness honey that the bees store in the trees’ soft caves black block of gloom she climbed down tree after tree and shuffled on through the woods and then she found it the honey house deep as heartwood and dipped into it among the swarming bees honey and comb she lipped and tongued and scooped out in her black nails until maybe she grew full or sleepy or maybe little drunk and sticky down the rugs of her arms and began to hum and sway saw her let go of the branches saw her lift her honeyed muzzle into the leaves and her thick arms as though she would fly an enormous bee all sweetness and wings down into the meadows the perfections of honeysuckle and roses and clover to float and sleep in the sheer nets swaying from flower to flower day after shining day by owner provided at no charge for educational purposes\n",
            "poem5\n",
            "next time what do is look at the earth before saying anything stop just before going into house and be an emperor for minute and listen better to the wind or to the air being still when anyone talked to me whether blame or praise or just passing time watch the face how the mouth has to work and see any strain any sign of what lifted the voice and for all know more the earth bracing itself and soaring the air finding every leaf and feather over forest and water and for every person the body glowing inside the clothes like light by owner provided at no charge for educational purposes\n",
            "poem6\n",
            "who made the world who made the swan and the black bear who made the grasshopper this grasshopper mean the one who has flung herself out of the grass the one who is eating sugar out of my hand who is moving her jaws back and forth instead of up and down who is gazing around with her enormous and complicated eyes now she lifts her pale forearms and thoroughly washes her face now she snaps her wings open and floats away do not know exactly what prayer is do know how to pay attention how to fall down into the grass how to kneel in the grass how to be idle and blessed how to stroll through the fields which is what have been doing all day tell me what else should have done does not everything die at last and too soon tell me what is it you plan to do with your one wild and precious life by owner provided at no charge for educational purposes\n",
            "poem7\n",
            "do not call this world adorable or useful that not it it frisky and theater for more than fair winds the eyelash of lightning is neither good nor evil the struck tree burns like pillar of gold but the blue rain sinks straight to the white feet of the trees whose mouths open does not the wind turning in circles invent the dance have not the flowers moved slowly across asia then europe until at last now they shine in your own yard do not call this world an explanation or even an education when the sufi poet whirled was he looking outward to the mountains so solidly there in white capped ring or was he looking to the center of everything the seed the egg the idea that was also there beautiful as thumb curved and touching the finger tenderly little love ring as he whirled oh jug of breath in the garden of dust by owner provided at no charge for educational purposes\n",
            "poem8\n",
            "go down to the edge of the sea how everything shines in the morning light the cusp of the whelk the broken cupboard of the clam the opened blue mussels moon snails pale pink and barnacle scarred— and nothing at all whole or shut but tattered split dropped by the gulls onto the gray rocks and all the moisture gone it is like schoolhouse of little words thousands of words first you figure out what each one means by itself the jingle the periwinkle the scallop full of moonlight then you begin slowly to read the whole story by owner provided at no charge for educational purposes\n",
            "poem9\n",
            "do not you imagine the leaves dream now how comfortable it will be to touch the earth instead of the nothingness of the air and the endless freshets of wind and do not you think the trees especially those with mossy hollows are beginning to look for the birds that will come—six dozen—to sleep inside their bodies and do not you hear the goldenrod whispering goodbye the everlasting being crowned with the first tuffets of snow the pond stiffens and the white field over which the fox runs so quickly brings out its long blue shadows the wind wags its many tails and in the evening the piled firewood shifts little longing to be on its way by owner provided at no charge for educational purposes\n",
            "poem10\n",
            "['poem0', 'poem1', 'poem2', 'poem3', 'poem4', 'poem5', 'poem6', 'poem7', 'poem8', 'poem9']\n",
            "['look the trees are turning their own bodies into pillars of light are giving off the rich fragrance of cinnamon and fulfillment the long tapers of cattails are bursting and floating away over the blue shoulders of the ponds and every pond no matter what its name is is nameless now every year everything have ever learned in my lifetime leads back to this the fires and the black river of loss whose other side is salvation whose meaning none of us will ever know to live in this world you must be able to do three things to love what is mortal to hold it against your bones knowing your own life depends on it and when the time comes to let it go to let it go by owner provided at no charge for educational purposes', 'one day you finally knew what you had to do and began though the voices around you kept shouting their bad advice though the whole house began to tremble and you felt the old tug at your ankles mend my life each voice cried but you did not stop you knew what you had to do though the wind pried with its stiff fingers at the very foundations though their melancholy was terrible it was already late enough and wild night and the road full of fallen branches and stones but little by little as you left their voice behind the stars began to burn through the sheets of clouds and there was new voice which you slowly recognized as your own that kept you company as you strode deeper and deeper into the world determined to do the only thing you could do determined to save the only life that you could save by owner provided at no charge for educational purposes', 'you do not have to be good you do not have to walk on your knees for hundred miles through the desert repenting you only have to let the soft animal of your body love what it loves tell me about despair yours and will tell you mine meanwhile the world goes on meanwhile the sun and the clear pebbles of the rain are moving across the landscapes over the prairies and the deep trees the mountains and the rivers meanwhile the wild geese high in the clean blue air are heading home again whoever you are no matter how lonely the world offers itself to your imagination calls to you like the wild geese harsh and exciting over and over announcing your place in the family of things by owner provided at no charge for educational purposes', 'how necessary it is to have opinions think the spotted trout lilies are satisfied standing few inches above the earth think serenity is not something you just find in the world like plum tree holding up its white petals the violets along the river are opening their blue faces like small dark lanterns the green mosses being so many are as good as brawny how important it is to walk along not in haste but slowly looking at everything and calling out yes no the swan for all his pomp his robes of grass and petals wants only to be allowed to live on the nameless pond the catbrier is without fault the water thrushes down among the sloppy rocks are going crazy with happiness imagination is better than sharp instrument to pay attention this is our endless and proper work by owner provided at no charge for educational purposes', 'in the afternoon watched the she bear she was looking for the secret bin of sweetness honey that the bees store in the trees’ soft caves black block of gloom she climbed down tree after tree and shuffled on through the woods and then she found it the honey house deep as heartwood and dipped into it among the swarming bees honey and comb she lipped and tongued and scooped out in her black nails until maybe she grew full or sleepy or maybe little drunk and sticky down the rugs of her arms and began to hum and sway saw her let go of the branches saw her lift her honeyed muzzle into the leaves and her thick arms as though she would fly an enormous bee all sweetness and wings down into the meadows the perfections of honeysuckle and roses and clover to float and sleep in the sheer nets swaying from flower to flower day after shining day by owner provided at no charge for educational purposes', 'next time what do is look at the earth before saying anything stop just before going into house and be an emperor for minute and listen better to the wind or to the air being still when anyone talked to me whether blame or praise or just passing time watch the face how the mouth has to work and see any strain any sign of what lifted the voice and for all know more the earth bracing itself and soaring the air finding every leaf and feather over forest and water and for every person the body glowing inside the clothes like light by owner provided at no charge for educational purposes', 'who made the world who made the swan and the black bear who made the grasshopper this grasshopper mean the one who has flung herself out of the grass the one who is eating sugar out of my hand who is moving her jaws back and forth instead of up and down who is gazing around with her enormous and complicated eyes now she lifts her pale forearms and thoroughly washes her face now she snaps her wings open and floats away do not know exactly what prayer is do know how to pay attention how to fall down into the grass how to kneel in the grass how to be idle and blessed how to stroll through the fields which is what have been doing all day tell me what else should have done does not everything die at last and too soon tell me what is it you plan to do with your one wild and precious life by owner provided at no charge for educational purposes', 'do not call this world adorable or useful that not it it frisky and theater for more than fair winds the eyelash of lightning is neither good nor evil the struck tree burns like pillar of gold but the blue rain sinks straight to the white feet of the trees whose mouths open does not the wind turning in circles invent the dance have not the flowers moved slowly across asia then europe until at last now they shine in your own yard do not call this world an explanation or even an education when the sufi poet whirled was he looking outward to the mountains so solidly there in white capped ring or was he looking to the center of everything the seed the egg the idea that was also there beautiful as thumb curved and touching the finger tenderly little love ring as he whirled oh jug of breath in the garden of dust by owner provided at no charge for educational purposes', 'go down to the edge of the sea how everything shines in the morning light the cusp of the whelk the broken cupboard of the clam the opened blue mussels moon snails pale pink and barnacle scarred— and nothing at all whole or shut but tattered split dropped by the gulls onto the gray rocks and all the moisture gone it is like schoolhouse of little words thousands of words first you figure out what each one means by itself the jingle the periwinkle the scallop full of moonlight then you begin slowly to read the whole story by owner provided at no charge for educational purposes', 'do not you imagine the leaves dream now how comfortable it will be to touch the earth instead of the nothingness of the air and the endless freshets of wind and do not you think the trees especially those with mossy hollows are beginning to look for the birds that will come—six dozen—to sleep inside their bodies and do not you hear the goldenrod whispering goodbye the everlasting being crowned with the first tuffets of snow the pond stiffens and the white field over which the fox runs so quickly brings out its long blue shadows the wind wags its many tails and in the evening the piled firewood shifts little longing to be on its way by owner provided at no charge for educational purposes', \"['poem0', 'poem1', 'poem2', 'poem3', 'poem4', 'poem5', 'poem6', 'poem7', 'poem8', 'poem9']\"]\n"
          ]
        }
      ]
    },
    {
      "cell_type": "markdown",
      "metadata": {
        "id": "yE7PbjqUWS8S"
      },
      "source": [
        "# Swapped Mary J Oliver Poem's perplexity and coherence score"
      ]
    },
    {
      "cell_type": "code",
      "metadata": {
        "id": "BB1rSERgbfXU",
        "colab": {
          "base_uri": "https://localhost:8080/"
        },
        "outputId": "7f27dd27-ff8f-4e81-9cde-5cfa177df81d"
      },
      "source": [
        "vis = choherence_perplexity_calculator(swapped_mary_poem_list)"
      ],
      "execution_count": 81,
      "outputs": [
        {
          "output_type": "stream",
          "name": "stdout",
          "text": [
            "[['look', 'the', 'trees', 'are', 'turning', 'their', 'own', 'bodies', 'into', 'pillars', 'of', 'light', 'are', 'giving', 'off', 'the', 'rich', 'fragrance', 'of', 'cinnamon', 'and', 'fulfillment', 'the', 'long', 'tapers', 'of', 'cattails', 'are', 'bursting', 'and', 'floating', 'away', 'over', 'the', 'blue', 'shoulders', 'of', 'the', 'ponds', 'and', 'every', 'pond', 'no', 'matter', 'what', 'its', 'name', 'is', 'is', 'nameless', 'now', 'every', 'year', 'everything', 'have', 'ever', 'learned', 'in', 'my', 'lifetime', 'leads', 'back', 'to', 'this', 'the', 'fires', 'and', 'the', 'black', 'river', 'of', 'loss', 'whose', 'other', 'side', 'is', 'salvation', 'whose', 'meaning', 'none', 'of', 'us', 'will', 'ever', 'know', 'to', 'live', 'in', 'this', 'world', 'you', 'must', 'be', 'able', 'to', 'do', 'three', 'things', 'to', 'love', 'what', 'is', 'mortal', 'to', 'hold', 'it', 'against', 'your', 'bones', 'knowing', 'your', 'own', 'life', 'depends', 'on', 'it', 'and', 'when', 'the', 'time', 'comes', 'to', 'let', 'it', 'go', 'to', 'let', 'it', 'go', 'by', 'owner', 'provided', 'at', 'no', 'charge', 'for', 'educational', 'purposes']]\n",
            "['look', 'the', 'trees', 'are', 'turning', 'their', 'own', 'bodies', 'into', 'pillars', 'of', 'light', 'are', 'giving', 'off', 'the', 'rich', 'fragrance', 'of', 'cinnamon', 'and', 'fulfillment', 'the', 'long', 'tapers', 'of', 'cattails', 'are', 'bursting', 'and', 'floating', 'away', 'over', 'the', 'blue', 'shoulders', 'of', 'the', 'ponds', 'and', 'every', 'pond', 'no', 'matter', 'what', 'its', 'name', 'is', 'is', 'nameless', 'now', 'every', 'year', 'everything', 'have', 'ever', 'learned', 'in', 'my', 'lifetime', 'leads', 'back', 'to', 'this', 'the', 'fires', 'and', 'the', 'black', 'river', 'of', 'loss', 'whose', 'other', 'side', 'is', 'salvation', 'whose', 'meaning', 'none', 'of', 'us', 'will', 'ever', 'know', 'to', 'live', 'in', 'this', 'world', 'you', 'must', 'be', 'able', 'to', 'do', 'three', 'things', 'to', 'love', 'what', 'is', 'mortal', 'to', 'hold', 'it', 'against', 'your', 'bones', 'knowing', 'your', 'own', 'life', 'depends', 'on', 'it', 'and', 'when', 'the', 'time', 'comes', 'to', 'let', 'it', 'go', 'to', 'let', 'it', 'go', 'by', 'owner', 'provided', 'at', 'no', 'charge', 'for', 'educational', 'purposes']\n"
          ]
        },
        {
          "output_type": "stream",
          "name": "stderr",
          "text": [
            "/usr/local/lib/python3.7/dist-packages/gensim/models/phrases.py:598: UserWarning: For a faster implementation, use the gensim.models.phrases.Phraser class\n",
            "  warnings.warn(\"For a faster implementation, use the gensim.models.phrases.Phraser class\")\n"
          ]
        },
        {
          "output_type": "stream",
          "name": "stdout",
          "text": [
            "[['tree', 'body', 'pillar', 'light', 'fragrance', 'cinnamon', 'taper', 'cattail', 'shoulder', 'pond', 'pond', 'name', 'year', 'lifetime', 'fire', 'river', 'loss', 'side', 'salvation', 'none', 'world', 'thing', 'bone', 'life', 'time', 'owner', 'charge', 'purpose']]\n",
            "[[(0, 1), (1, 1), (2, 1), (3, 1), (4, 1), (5, 1), (6, 1), (7, 1), (8, 1), (9, 1), (10, 1), (11, 1), (12, 1), (13, 1), (14, 1), (15, 2), (16, 1), (17, 1), (18, 1), (19, 1), (20, 1), (21, 1), (22, 1), (23, 1), (24, 1), (25, 1), (26, 1)]]\n",
            "[(0, '0.043*\"word\" + 0.023*\"light\" + 0.023*\"rock\" + 0.023*\"cusp\" + 0.023*\"moonlight\" + 0.023*\"moisture\" + 0.023*\"jingle\" + 0.023*\"mussel\" + 0.023*\"gull\" + 0.023*\"barnacle\"'), (1, '0.035*\"world\" + 0.035*\"wind\" + 0.035*\"tree\" + 0.035*\"ring\" + 0.018*\"explanation\" + 0.018*\"pillar\" + 0.018*\"idea\" + 0.018*\"thumb\" + 0.018*\"mountain\" + 0.018*\"finger\"'), (2, '0.024*\"wind\" + 0.024*\"owner\" + 0.024*\"charge\" + 0.024*\"earth\" + 0.024*\"pond\" + 0.024*\"purpose\" + 0.024*\"tree\" + 0.024*\"petal\" + 0.013*\"being\" + 0.013*\"stiffen\"'), (3, '0.005*\"wind\" + 0.005*\"world\" + 0.005*\"ring\" + 0.005*\"love\" + 0.005*\"gold\" + 0.005*\"tree\" + 0.005*\"circle\" + 0.005*\"evil\" + 0.005*\"mouth\" + 0.005*\"flower\"'), (4, '0.056*\"tree\" + 0.056*\"honey\" + 0.056*\"bee\" + 0.038*\"day\" + 0.038*\"arm\" + 0.020*\"owner\" + 0.020*\"purpose\" + 0.020*\"charge\" + 0.020*\"net\" + 0.020*\"sweetness\"'), (5, '0.070*\"grass\" + 0.047*\"one\" + 0.047*\"grasshopper\" + 0.025*\"face\" + 0.025*\"swan\" + 0.025*\"attention\" + 0.025*\"field\" + 0.025*\"bear\" + 0.025*\"wing\" + 0.025*\"owner\"'), (6, '0.043*\"world\" + 0.029*\"tree\" + 0.029*\"purpose\" + 0.029*\"charge\" + 0.029*\"pond\" + 0.029*\"river\" + 0.029*\"owner\" + 0.029*\"thing\" + 0.029*\"body\" + 0.015*\"pillar\"'), (7, '0.149*\"poem\" + 0.075*\"voice\" + 0.039*\"life\" + 0.020*\"day\" + 0.020*\"foundation\" + 0.020*\"thing\" + 0.020*\"star\" + 0.020*\"branch\" + 0.020*\"charge\" + 0.020*\"sheet\"'), (8, '0.044*\"time\" + 0.044*\"air\" + 0.044*\"earth\" + 0.023*\"owner\" + 0.023*\"purpose\" + 0.023*\"charge\" + 0.023*\"voice\" + 0.023*\"house\" + 0.023*\"light\" + 0.023*\"body\"'), (9, '0.005*\"tree\" + 0.005*\"wind\" + 0.005*\"ring\" + 0.005*\"world\" + 0.005*\"purpose\" + 0.005*\"owner\" + 0.005*\"rain\" + 0.005*\"seed\" + 0.005*\"evil\" + 0.005*\"lightning\"')]\n"
          ]
        },
        {
          "output_type": "stream",
          "name": "stderr",
          "text": [
            "/usr/local/lib/python3.7/dist-packages/pyLDAvis/_prepare.py:247: FutureWarning: In a future version of pandas all arguments of DataFrame.drop except for the argument 'labels' will be keyword-only\n",
            "  by='saliency', ascending=False).head(R).drop('saliency', 1)\n"
          ]
        },
        {
          "output_type": "stream",
          "name": "stdout",
          "text": [
            "\n",
            "Perplexity:  -5.70845594868446\n",
            "\n",
            "Coherence Score:  0.8594329022803967\n"
          ]
        }
      ]
    },
    {
      "cell_type": "code",
      "metadata": {
        "id": "VmF0td2puaIV"
      },
      "source": [
        "import numpy as np \n",
        "import pandas as pd\n",
        "\n",
        "from sklearn.feature_extraction import text\n",
        "from sklearn.feature_extraction.text import CountVectorizer, TfidfVectorizer\n",
        "from sklearn.decomposition import LatentDirichletAllocation\n",
        "\n",
        "import spacy\n",
        "\n",
        "from scipy.spatial.distance import jensenshannon\n",
        "\n",
        "import joblib\n",
        "\n",
        "from IPython.display import HTML, display\n",
        "\n",
        "from ipywidgets import interact, Layout, HBox, VBox, Box\n",
        "import ipywidgets as widgets\n",
        "from IPython.display import clear_output\n",
        "\n",
        "from tqdm import tqdm\n",
        "from os.path import isfile\n",
        "\n",
        "import seaborn as sb\n",
        "import matplotlib.pyplot as plt\n",
        "plt.style.use(\"dark_background\")"
      ],
      "execution_count": 82,
      "outputs": []
    },
    {
      "cell_type": "code",
      "metadata": {
        "id": "JYfINliFvXGW",
        "colab": {
          "base_uri": "https://localhost:8080/"
        },
        "outputId": "47a5dbb0-f1ff-42aa-c9ed-349f5fdc3e2f"
      },
      "source": [
        "!python -m spacy download en_core_web_lg"
      ],
      "execution_count": null,
      "outputs": [
        {
          "output_type": "stream",
          "name": "stdout",
          "text": [
            "Collecting en_core_web_lg==2.2.5\n",
            "  Downloading https://github.com/explosion/spacy-models/releases/download/en_core_web_lg-2.2.5/en_core_web_lg-2.2.5.tar.gz (827.9 MB)\n",
            "\u001b[K     |██████████████████▌             | 477.9 MB 1.3 MB/s eta 0:04:35"
          ]
        }
      ]
    },
    {
      "cell_type": "code",
      "metadata": {
        "id": "8dfP-eaYvHNs"
      },
      "source": [
        "import spacy\n",
        "from spacy import displacy\n",
        "nlp = spacy.load(\"en_core_web_sm\")\n",
        "nlp.max_length = 3000000\n"
      ],
      "execution_count": null,
      "outputs": []
    },
    {
      "cell_type": "code",
      "metadata": {
        "id": "9r42-_r6u7T8"
      },
      "source": [
        "def spacy_tokenizer(sentence):\n",
        "    return [word.lemma_ for word in nlp(sentence) if not (word.like_num or word.is_stop or word.is_punct or word.is_space or len(word)==1)]"
      ],
      "execution_count": null,
      "outputs": []
    },
    {
      "cell_type": "code",
      "metadata": {
        "id": "TbQZN4q7uoc8"
      },
      "source": [
        "vectorizer_langston = CountVectorizer(tokenizer = spacy_tokenizer, min_df=2)\n",
        "vectorizer_mary = CountVectorizer(tokenizer = spacy_tokenizer, min_df=2)\n",
        "\n",
        "data_vectorized_langston = vectorizer_langston.fit_transform(tqdm(langston_poem_list))\n",
        "data_vectorized_mary = vectorizer_mary.fit_transform(tqdm(mary_poem_list))"
      ],
      "execution_count": null,
      "outputs": []
    },
    {
      "cell_type": "markdown",
      "source": [
        "# Combine poems, Summarize using tansformer and Save in file"
      ],
      "metadata": {
        "id": "MHMCEc_zA6l7"
      }
    },
    {
      "cell_type": "code",
      "source": [
        "def combinePoems(poems, poet):\n",
        "    poems_ref = []\n",
        "    all_poems = []\n",
        "    c = 0\n",
        "    for i in poems:\n",
        "      c += 1\n",
        "      # print(i)\n",
        "      all_poems.append(i)\n",
        "      if c == 10:\n",
        "        break\n",
        "    p = {'all_poems':all_poems}\n",
        "    poems_ref.append(p)\n",
        "    po = {'poet': poet}\n",
        "    poems_ref.append(po)\n",
        "    return poems_ref"
      ],
      "metadata": {
        "id": "4R0TIxv_A5u_"
      },
      "execution_count": null,
      "outputs": []
    },
    {
      "cell_type": "code",
      "source": [
        "langston_combined = swapped_langston_poem_list.copy()\n",
        "langston_combined = combinePoems(langston_combined, 'Langston Hughes')\n",
        "langston_combined"
      ],
      "metadata": {
        "id": "gEzkb-EwECsF"
      },
      "execution_count": null,
      "outputs": []
    },
    {
      "cell_type": "code",
      "source": [
        "mary_combined = swapped_mary_poem_list.copy()\n",
        "mary_combined = combinePoems(mary_combined, 'Mary J Oliver')\n",
        "mary_combined"
      ],
      "metadata": {
        "id": "wkaqfKlxBGIc"
      },
      "execution_count": null,
      "outputs": []
    },
    {
      "cell_type": "code",
      "source": [
        "with open((filepath + 'langston_hughes_swapped_combined_final.json'), 'w') as outfile:\n",
        "  json.dump(langston_combined, outfile)\n",
        "with open((filepath + 'mary_j_oliver_swapped_combined_final.json'), 'w') as outfile:\n",
        "  json.dump(mary_combined, outfile)"
      ],
      "metadata": {
        "id": "j_638TCkEPMG"
      },
      "execution_count": null,
      "outputs": []
    },
    {
      "cell_type": "markdown",
      "metadata": {
        "id": "3yXtWeSJ5sGX"
      },
      "source": [
        "# Frequent words used in Langston Hughes poems"
      ]
    },
    {
      "cell_type": "code",
      "metadata": {
        "id": "cdu8Js2kuzbH"
      },
      "source": [
        "word_count_langston = pd.DataFrame({'word': vectorizer_langston.get_feature_names(), 'count': np.asarray(data_vectorized_langston.sum(axis=0))[0]})\n",
        "\n",
        "word_count_langston.sort_values('count', ascending=False).set_index('word')[:10].sort_values('count', ascending=True).plot(kind='barh')"
      ],
      "execution_count": null,
      "outputs": []
    },
    {
      "cell_type": "markdown",
      "metadata": {
        "id": "Qrnpuif_5mL9"
      },
      "source": [
        "# Frequent words used in Mary J Oliver poems"
      ]
    },
    {
      "cell_type": "code",
      "metadata": {
        "id": "OgAWJiW80mel"
      },
      "source": [
        "word_count_mary = pd.DataFrame({'word': vectorizer_mary.get_feature_names(), 'count': np.asarray(data_vectorized_mary.sum(axis=0))[0]})\n",
        "\n",
        "word_count_mary.sort_values('count', ascending=False).set_index('word')[:10].sort_values('count', ascending=True).plot(kind='barh')"
      ],
      "execution_count": null,
      "outputs": []
    },
    {
      "cell_type": "markdown",
      "source": [
        "#Name the Topics"
      ],
      "metadata": {
        "id": "-pDnFtFBRuo9"
      }
    },
    {
      "cell_type": "code",
      "source": [
        "def topicModeling(text1):\n",
        "  text1_list_orig = []\n",
        "  bigram_text1 = []\n",
        "  corpus_text1 = []\n",
        "\n",
        "  text1_list_orig = [gensim.utils.simple_preprocess(text1)]\n",
        "  bigram_text1 = gensim.models.Phrases(text1_list_orig) # higher threshold fewer phrases.\n",
        "  trigram_text1 = gensim.models.Phrases(bigram_text1[text1_list_orig])\n",
        "  #remove stop words\n",
        "  remove_stop_text1 = remove_stopwords(text1_list_orig)\n",
        "  # Form Bigrams\n",
        "  data_words_bigrams_text1 = make_bigrams(remove_stop_text1, bigram_text1)\n",
        "  # Do lemmatization keeping only noun, adj, vb, adv\n",
        "  data_lemmatized_text1 = lemmatization(data_words_bigrams_text1, allowed_postags=['NOUN']) # , 'ADJ', 'VERB', 'ADV'\n",
        "  id2word_text1 = corpora.Dictionary(data_lemmatized_text1)\n",
        "\n",
        "  # Term Document Frequency\n",
        "  corpus_text1 = [id2word_text1.doc2bow(text) for text in data_lemmatized_text1]\n",
        "  lda_model_text1 = gensim.models.LdaMulticore(corpus=corpus_text1,\n",
        "                                       id2word=id2word_text1,\n",
        "                                       num_topics=10, \n",
        "                                       random_state=100,\n",
        "                                       chunksize=100,\n",
        "                                       passes=10,\n",
        "                                       per_word_topics=True)\n",
        "  doc_lda_text1 = lda_model_text1[corpus_text1]\n",
        "  return lda_model_text1, corpus_text1, data_lemmatized_text1, id2word_text1\n",
        "\n"
      ],
      "metadata": {
        "id": "njTfbJZARzl0"
      },
      "execution_count": null,
      "outputs": []
    },
    {
      "cell_type": "markdown",
      "metadata": {
        "id": "HNkA2PT44Lcg"
      },
      "source": [
        "# **Conclusion**\n",
        "Based on the frequency count of words, below are the top 3 topic names for both the poets:   \n",
        "**Langston Hughes:** \n",
        "1. dream\n",
        "2. educational\n",
        "3. dark   \n",
        "\n",
        "**Mary J Oliver:**\n",
        "1. owner\n",
        "2. provide\n",
        "3. purpose\n",
        "\n",
        "Based on the LDA weights, below are the top 3 topic names for both the poets:      \n",
        "**Langston Hughes:** \n",
        "1. little \n",
        "2. purpose \n",
        "3. letter  \n",
        "\n",
        "**Mary J Oliver:**\n",
        "1. voice\n",
        "2. earth\n",
        "3. purpose"
      ]
    },
    {
      "cell_type": "markdown",
      "source": [
        "# References\n",
        "\n",
        "\n",
        "1. https://github.com/aarsanjani/nlp-poets\n",
        "2. https://www.machinelearningplus.com/nlp/topic-modeling-gensim-python/\n",
        "3. https://sjsu.instructure.com/courses/1465859/assignments/5992374\n"
      ],
      "metadata": {
        "id": "1Ud6pB9Y9Vuy"
      }
    }
  ]
}