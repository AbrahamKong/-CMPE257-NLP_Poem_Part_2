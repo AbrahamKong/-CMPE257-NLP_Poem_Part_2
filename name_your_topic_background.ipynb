{
 "cells": [
  {
   "cell_type": "markdown",
   "metadata": {},
   "source": [
    "Source of this notebook: http://kavita-ganesan.com/gensim-word2vec-tutorial-starter-code/#.YarxOfHML7F\n",
    "\n",
    "### Gensim Word2Vec Tutorial: An End-to-End Example\n",
    "By Kavita Ganesan / AI Implementation, Gensim, Hands-On NLP, Neural Embeddings\n",
    "\n",
    "Modifications by Ali Arsanjani, could not clone github , errors \n",
    "\n",
    "This Notebook has been chosen and modified to provide examples for the <b> name your topic </b> assignment"
   ]
  },
  {
   "cell_type": "markdown",
   "metadata": {},
   "source": [
    "### Imports and logging\n",
    "\n",
    "First, we start with our imports and get logging established:"
   ]
  },
  {
   "cell_type": "code",
   "execution_count": 1,
   "metadata": {},
   "outputs": [],
   "source": [
    "# imports needed and set up logging\n",
    "import gzip\n",
    "import gensim \n",
    "import logging\n",
    "\n",
    "logging.basicConfig(format='%(asctime)s : %(levelname)s : %(message)s', level=logging.INFO)\n"
   ]
  },
  {
   "cell_type": "markdown",
   "metadata": {},
   "source": [
    "### Dataset \n",
    "Next, is our dataset. The secret to getting Word2Vec really working for you is to have lots and lots of text data. In this case I am going to use data from the [OpinRank](http://kavita-ganesan.com/entity-ranking-data/) dataset. This dataset has full user reviews of cars and hotels. I have specifically concatenated all of the hotel reviews into one big file which is about 97MB compressed and 229MB uncompressed. We will use the compressed file for this tutorial. Each line in this file represents a hotel review. You can download the OpinRank Word2Vec dataset here.\n",
    "\n",
    "To avoid confusion, while gensim’s word2vec tutorial says that you need to pass it a sequence of sentences as its input, you can always pass it a whole review as a sentence (i.e. a much larger size of text), and it should not make much of a difference. \n",
    "\n",
    "Now, let's take a closer look at this data below by printing the first line. You can see that this is a pretty hefty review."
   ]
  },
  {
   "cell_type": "code",
   "execution_count": 2,
   "metadata": {},
   "outputs": [
    {
     "name": "stdout",
     "output_type": "stream",
     "text": [
      "b\"Oct 12 2009 \\tNice trendy hotel location not too bad.\\tI stayed in this hotel for one night. As this is a fairly new place some of the taxi drivers did not know where it was and/or did not want to drive there. Once I have eventually arrived at the hotel, I was very pleasantly surprised with the decor of the lobby/ground floor area. It was very stylish and modern. I found the reception's staff geeting me with 'Aloha' a bit out of place, but I guess they are briefed to say that to keep up the coroporate image.As I have a Starwood Preferred Guest member, I was given a small gift upon-check in. It was only a couple of fridge magnets in a gift box, but nevertheless a nice gesture.My room was nice and roomy, there are tea and coffee facilities in each room and you get two complimentary bottles of water plus some toiletries by 'bliss'.The location is not great. It is at the last metro stop and you then need to take a taxi, but if you are not planning on going to see the historic sites in Beijing, then you will be ok.I chose to have some breakfast in the hotel, which was really tasty and there was a good selection of dishes. There are a couple of computers to use in the communal area, as well as a pool table. There is also a small swimming pool and a gym area.I would definitely stay in this hotel again, but only if I did not plan to travel to central Beijing, as it can take a long time. The location is ok if you plan to do a lot of shopping, as there is a big shopping centre just few minutes away from the hotel and there are plenty of eating options around, including restaurants that serve a dog meat!\\t\\r\\n\"\n"
     ]
    }
   ],
   "source": [
    "data_file=\"reviews_data.txt.gz\"\n",
    "\n",
    "with gzip.open ('reviews_data.txt.gz', 'rb') as f:\n",
    "    for i,line in enumerate (f):\n",
    "        print(line)\n",
    "        break\n"
   ]
  },
  {
   "cell_type": "markdown",
   "metadata": {},
   "source": [
    "### Read files into a list\n",
    "Now that we've had a sneak peak of our dataset, we can read it into a list so that we can pass this on to the Word2Vec model. Notice in the code below, that I am directly reading the \n",
    "compressed file. I'm also doing a mild pre-processing of the reviews using `gensim.utils.simple_preprocess (line)`. This does some basic pre-processing such as tokenization, lowercasing, etc and returns back a list of tokens (words). Documentation of this pre-processing method can be found on the official [Gensim documentation site](https://radimrehurek.com/gensim/utils.html). \n",
    "\n"
   ]
  },
  {
   "cell_type": "code",
   "execution_count": 3,
   "metadata": {},
   "outputs": [
    {
     "name": "stderr",
     "output_type": "stream",
     "text": [
      "2021-12-03 21:05:08,743 : INFO : reading file reviews_data.txt.gz...this may take a while\n",
      "2021-12-03 21:05:08,745 : INFO : read 0 reviews\n",
      "2021-12-03 21:05:10,422 : INFO : read 10000 reviews\n",
      "2021-12-03 21:05:12,180 : INFO : read 20000 reviews\n",
      "2021-12-03 21:05:14,253 : INFO : read 30000 reviews\n",
      "2021-12-03 21:05:16,094 : INFO : read 40000 reviews\n",
      "2021-12-03 21:05:18,115 : INFO : read 50000 reviews\n",
      "2021-12-03 21:05:20,005 : INFO : read 60000 reviews\n",
      "2021-12-03 21:05:21,820 : INFO : read 70000 reviews\n",
      "2021-12-03 21:05:23,282 : INFO : read 80000 reviews\n",
      "2021-12-03 21:05:24,826 : INFO : read 90000 reviews\n",
      "2021-12-03 21:05:26,394 : INFO : read 100000 reviews\n",
      "2021-12-03 21:05:27,997 : INFO : read 110000 reviews\n",
      "2021-12-03 21:05:29,506 : INFO : read 120000 reviews\n",
      "2021-12-03 21:05:31,093 : INFO : read 130000 reviews\n",
      "2021-12-03 21:05:32,732 : INFO : read 140000 reviews\n",
      "2021-12-03 21:05:34,255 : INFO : read 150000 reviews\n",
      "2021-12-03 21:05:36,308 : INFO : read 160000 reviews\n",
      "2021-12-03 21:05:37,912 : INFO : read 170000 reviews\n",
      "2021-12-03 21:05:39,601 : INFO : read 180000 reviews\n",
      "2021-12-03 21:05:41,198 : INFO : read 190000 reviews\n",
      "2021-12-03 21:05:42,898 : INFO : read 200000 reviews\n",
      "2021-12-03 21:05:44,549 : INFO : read 210000 reviews\n",
      "2021-12-03 21:05:46,204 : INFO : read 220000 reviews\n",
      "2021-12-03 21:05:47,690 : INFO : read 230000 reviews\n",
      "2021-12-03 21:05:49,281 : INFO : read 240000 reviews\n",
      "2021-12-03 21:05:50,817 : INFO : read 250000 reviews\n",
      "2021-12-03 21:05:52,455 : INFO : Done reading data file\n"
     ]
    }
   ],
   "source": [
    "\n",
    "def read_input(input_file):\n",
    "    \"\"\"This method reads the input file which is in gzip format\"\"\"\n",
    "    \n",
    "    logging.info(\"reading file {0}...this may take a while\".format(input_file))\n",
    "    \n",
    "    with gzip.open (input_file, 'rb') as f:\n",
    "        for i, line in enumerate (f): \n",
    "\n",
    "            if (i%10000==0):\n",
    "                logging.info (\"read {0} reviews\".format (i))\n",
    "            # do some pre-processing and return a list of words for each review text\n",
    "            yield gensim.utils.simple_preprocess (line)\n",
    "\n",
    "# read the tokenized reviews into a list\n",
    "# each review item becomes a serries of words\n",
    "# so this becomes a list of lists\n",
    "documents = list (read_input (data_file))\n",
    "logging.info (\"Done reading data file\")    "
   ]
  },
  {
   "cell_type": "markdown",
   "metadata": {},
   "source": [
    "## Training the Word2Vec model\n",
    "\n",
    "Training the model is fairly straightforward. You just instantiate Word2Vec and pass the reviews that we read in the previous step (the `documents`). So, we are essentially passing on a list of lists. Where each list within the main list contains a set of tokens from a user review. Word2Vec uses all these tokens to internally create a vocabulary. And by vocabulary, I mean a set of unique words.\n",
    "\n",
    "After building the vocabulary, we just need to call `train(...)` to start training the Word2Vec model. Training on the [OpinRank](http://kavita-ganesan.com/entity-ranking-data/) dataset takes about 10 minutes so please be patient while running your code on this dataset.\n",
    "\n",
    "Behind the scenes we are actually training a simple neural network with a single hidden layer. But, we are actually not going to use the neural network after training. Instead, the goal is to learn the weights of the hidden layer. These weights are essentially the word vectors that we’re trying to learn. "
   ]
  },
  {
   "cell_type": "code",
   "execution_count": 4,
   "metadata": {
    "scrolled": true
   },
   "outputs": [
    {
     "name": "stderr",
     "output_type": "stream",
     "text": [
      "2021-12-03 21:06:24,891 : WARNING : consider setting layer size to a multiple of 4 for greater performance\n",
      "2021-12-03 21:06:24,893 : INFO : collecting all words and their counts\n",
      "2021-12-03 21:06:24,893 : INFO : PROGRESS: at sentence #0, processed 0 words, keeping 0 word types\n",
      "2021-12-03 21:06:25,140 : INFO : PROGRESS: at sentence #10000, processed 1655714 words, keeping 25777 word types\n",
      "2021-12-03 21:06:25,354 : INFO : PROGRESS: at sentence #20000, processed 3317863 words, keeping 35016 word types\n",
      "2021-12-03 21:06:25,600 : INFO : PROGRESS: at sentence #30000, processed 5264072 words, keeping 47518 word types\n",
      "2021-12-03 21:06:25,827 : INFO : PROGRESS: at sentence #40000, processed 7081746 words, keeping 56675 word types\n",
      "2021-12-03 21:06:26,077 : INFO : PROGRESS: at sentence #50000, processed 9089491 words, keeping 63744 word types\n",
      "2021-12-03 21:06:26,329 : INFO : PROGRESS: at sentence #60000, processed 11013726 words, keeping 76786 word types\n",
      "2021-12-03 21:06:26,536 : INFO : PROGRESS: at sentence #70000, processed 12637528 words, keeping 83199 word types\n",
      "2021-12-03 21:06:26,727 : INFO : PROGRESS: at sentence #80000, processed 14099754 words, keeping 88459 word types\n",
      "2021-12-03 21:06:26,932 : INFO : PROGRESS: at sentence #90000, processed 15662152 words, keeping 93357 word types\n",
      "2021-12-03 21:06:27,131 : INFO : PROGRESS: at sentence #100000, processed 17164490 words, keeping 97886 word types\n",
      "2021-12-03 21:06:27,332 : INFO : PROGRESS: at sentence #110000, processed 18652295 words, keeping 102132 word types\n",
      "2021-12-03 21:06:27,528 : INFO : PROGRESS: at sentence #120000, processed 20152532 words, keeping 105923 word types\n",
      "2021-12-03 21:06:27,726 : INFO : PROGRESS: at sentence #130000, processed 21684333 words, keeping 110104 word types\n",
      "2021-12-03 21:06:27,937 : INFO : PROGRESS: at sentence #140000, processed 23330209 words, keeping 114108 word types\n",
      "2021-12-03 21:06:28,136 : INFO : PROGRESS: at sentence #150000, processed 24838757 words, keeping 118174 word types\n",
      "2021-12-03 21:06:28,343 : INFO : PROGRESS: at sentence #160000, processed 26390913 words, keeping 118670 word types\n",
      "2021-12-03 21:06:28,550 : INFO : PROGRESS: at sentence #170000, processed 27913919 words, keeping 123356 word types\n",
      "2021-12-03 21:06:28,783 : INFO : PROGRESS: at sentence #180000, processed 29535615 words, keeping 126748 word types\n",
      "2021-12-03 21:06:29,009 : INFO : PROGRESS: at sentence #190000, processed 31096462 words, keeping 129847 word types\n",
      "2021-12-03 21:06:29,235 : INFO : PROGRESS: at sentence #200000, processed 32805274 words, keeping 133255 word types\n",
      "2021-12-03 21:06:29,491 : INFO : PROGRESS: at sentence #210000, processed 34434201 words, keeping 136364 word types\n",
      "2021-12-03 21:06:29,788 : INFO : PROGRESS: at sentence #220000, processed 36083485 words, keeping 139418 word types\n",
      "2021-12-03 21:06:29,994 : INFO : PROGRESS: at sentence #230000, processed 37571765 words, keeping 142399 word types\n",
      "2021-12-03 21:06:30,205 : INFO : PROGRESS: at sentence #240000, processed 39138193 words, keeping 145232 word types\n",
      "2021-12-03 21:06:30,476 : INFO : PROGRESS: at sentence #250000, processed 40695052 words, keeping 147966 word types\n",
      "2021-12-03 21:06:30,622 : INFO : collected 150059 word types from a corpus of 41519358 raw words and 255404 sentences\n",
      "2021-12-03 21:06:30,622 : INFO : Loading a fresh vocabulary\n",
      "2021-12-03 21:06:30,783 : INFO : effective_min_count=2 retains 70537 unique words (47% of original 150059, drops 79522)\n",
      "2021-12-03 21:06:30,783 : INFO : effective_min_count=2 leaves 41439836 word corpus (99% of original 41519358, drops 79522)\n",
      "2021-12-03 21:06:30,954 : INFO : deleting the raw counts dictionary of 150059 items\n",
      "2021-12-03 21:06:30,958 : INFO : sample=0.001 downsamples 55 most-common words\n",
      "2021-12-03 21:06:30,959 : INFO : downsampling leaves estimated 30349251 word corpus (73.2% of prior 41439836)\n",
      "2021-12-03 21:06:31,147 : INFO : estimated required memory for 70537 words and 150 dimensions: 119912900 bytes\n",
      "2021-12-03 21:06:31,147 : INFO : resetting layer weights\n",
      "2021-12-03 21:06:41,085 : INFO : training model with 10 workers on 70537 vocabulary and 150 features, using sg=0 hs=0 sample=0.001 negative=5 window=10\n",
      "2021-12-03 21:06:42,096 : INFO : EPOCH 1 - PROGRESS: at 7.79% examples, 2401496 words/s, in_qsize 18, out_qsize 1\n",
      "2021-12-03 21:06:43,102 : INFO : EPOCH 1 - PROGRESS: at 14.36% examples, 2361842 words/s, in_qsize 18, out_qsize 1\n",
      "2021-12-03 21:06:44,105 : INFO : EPOCH 1 - PROGRESS: at 19.71% examples, 2223453 words/s, in_qsize 18, out_qsize 1\n",
      "2021-12-03 21:06:45,105 : INFO : EPOCH 1 - PROGRESS: at 26.03% examples, 2209989 words/s, in_qsize 19, out_qsize 0\n",
      "2021-12-03 21:06:46,107 : INFO : EPOCH 1 - PROGRESS: at 34.19% examples, 2221288 words/s, in_qsize 17, out_qsize 2\n",
      "2021-12-03 21:06:47,109 : INFO : EPOCH 1 - PROGRESS: at 42.32% examples, 2229877 words/s, in_qsize 18, out_qsize 1\n",
      "2021-12-03 21:06:48,114 : INFO : EPOCH 1 - PROGRESS: at 49.73% examples, 2209371 words/s, in_qsize 19, out_qsize 0\n",
      "2021-12-03 21:06:49,115 : INFO : EPOCH 1 - PROGRESS: at 56.79% examples, 2192730 words/s, in_qsize 19, out_qsize 0\n",
      "2021-12-03 21:06:50,123 : INFO : EPOCH 1 - PROGRESS: at 64.64% examples, 2192811 words/s, in_qsize 17, out_qsize 2\n",
      "2021-12-03 21:06:51,124 : INFO : EPOCH 1 - PROGRESS: at 71.81% examples, 2193409 words/s, in_qsize 19, out_qsize 0\n",
      "2021-12-03 21:06:52,126 : INFO : EPOCH 1 - PROGRESS: at 79.02% examples, 2193109 words/s, in_qsize 18, out_qsize 1\n",
      "2021-12-03 21:06:53,131 : INFO : EPOCH 1 - PROGRESS: at 86.22% examples, 2192320 words/s, in_qsize 19, out_qsize 0\n",
      "2021-12-03 21:06:54,141 : INFO : EPOCH 1 - PROGRESS: at 93.98% examples, 2191966 words/s, in_qsize 19, out_qsize 0\n",
      "2021-12-03 21:06:54,919 : INFO : worker thread finished; awaiting finish of 9 more threads\n",
      "2021-12-03 21:06:54,925 : INFO : worker thread finished; awaiting finish of 8 more threads\n",
      "2021-12-03 21:06:54,929 : INFO : worker thread finished; awaiting finish of 7 more threads\n",
      "2021-12-03 21:06:54,930 : INFO : worker thread finished; awaiting finish of 6 more threads\n",
      "2021-12-03 21:06:54,930 : INFO : worker thread finished; awaiting finish of 5 more threads\n",
      "2021-12-03 21:06:54,938 : INFO : worker thread finished; awaiting finish of 4 more threads\n",
      "2021-12-03 21:06:54,939 : INFO : worker thread finished; awaiting finish of 3 more threads\n",
      "2021-12-03 21:06:54,940 : INFO : worker thread finished; awaiting finish of 2 more threads\n",
      "2021-12-03 21:06:54,941 : INFO : worker thread finished; awaiting finish of 1 more threads\n",
      "2021-12-03 21:06:54,945 : INFO : worker thread finished; awaiting finish of 0 more threads\n",
      "2021-12-03 21:06:54,946 : INFO : EPOCH - 1 : training on 41519358 raw words (30349164 effective words) took 13.9s, 2190385 effective words/s\n",
      "2021-12-03 21:06:55,953 : INFO : EPOCH 2 - PROGRESS: at 6.96% examples, 2135687 words/s, in_qsize 17, out_qsize 2\n",
      "2021-12-03 21:06:56,954 : INFO : EPOCH 2 - PROGRESS: at 12.96% examples, 2134378 words/s, in_qsize 19, out_qsize 0\n",
      "2021-12-03 21:06:57,956 : INFO : EPOCH 2 - PROGRESS: at 18.96% examples, 2129709 words/s, in_qsize 20, out_qsize 1\n",
      "2021-12-03 21:06:58,958 : INFO : EPOCH 2 - PROGRESS: at 24.69% examples, 2123123 words/s, in_qsize 18, out_qsize 1\n",
      "2021-12-03 21:06:59,964 : INFO : EPOCH 2 - PROGRESS: at 32.40% examples, 2115929 words/s, in_qsize 18, out_qsize 2\n",
      "2021-12-03 21:07:00,969 : INFO : EPOCH 2 - PROGRESS: at 39.75% examples, 2115131 words/s, in_qsize 20, out_qsize 2\n",
      "2021-12-03 21:07:01,972 : INFO : EPOCH 2 - PROGRESS: at 47.37% examples, 2114662 words/s, in_qsize 19, out_qsize 0\n",
      "2021-12-03 21:07:02,974 : INFO : EPOCH 2 - PROGRESS: at 54.55% examples, 2114399 words/s, in_qsize 18, out_qsize 1\n",
      "2021-12-03 21:07:03,977 : INFO : EPOCH 2 - PROGRESS: at 61.32% examples, 2095064 words/s, in_qsize 20, out_qsize 2\n",
      "2021-12-03 21:07:04,978 : INFO : EPOCH 2 - PROGRESS: at 67.95% examples, 2075642 words/s, in_qsize 18, out_qsize 1\n",
      "2021-12-03 21:07:05,981 : INFO : EPOCH 2 - PROGRESS: at 74.86% examples, 2073645 words/s, in_qsize 19, out_qsize 0\n",
      "2021-12-03 21:07:06,991 : INFO : EPOCH 2 - PROGRESS: at 81.56% examples, 2074795 words/s, in_qsize 18, out_qsize 1\n",
      "2021-12-03 21:07:08,006 : INFO : EPOCH 2 - PROGRESS: at 88.57% examples, 2071168 words/s, in_qsize 18, out_qsize 1\n",
      "2021-12-03 21:07:09,007 : INFO : EPOCH 2 - PROGRESS: at 95.66% examples, 2069529 words/s, in_qsize 20, out_qsize 0\n",
      "2021-12-03 21:07:09,582 : INFO : worker thread finished; awaiting finish of 9 more threads\n",
      "2021-12-03 21:07:09,583 : INFO : worker thread finished; awaiting finish of 8 more threads\n",
      "2021-12-03 21:07:09,584 : INFO : worker thread finished; awaiting finish of 7 more threads\n",
      "2021-12-03 21:07:09,585 : INFO : worker thread finished; awaiting finish of 6 more threads\n",
      "2021-12-03 21:07:09,595 : INFO : worker thread finished; awaiting finish of 5 more threads\n",
      "2021-12-03 21:07:09,596 : INFO : worker thread finished; awaiting finish of 4 more threads\n",
      "2021-12-03 21:07:09,597 : INFO : worker thread finished; awaiting finish of 3 more threads\n",
      "2021-12-03 21:07:09,598 : INFO : worker thread finished; awaiting finish of 2 more threads\n",
      "2021-12-03 21:07:09,598 : INFO : worker thread finished; awaiting finish of 1 more threads\n",
      "2021-12-03 21:07:09,602 : INFO : worker thread finished; awaiting finish of 0 more threads\n",
      "2021-12-03 21:07:09,603 : INFO : EPOCH - 2 : training on 41519358 raw words (30349498 effective words) took 14.7s, 2071219 effective words/s\n",
      "2021-12-03 21:07:10,610 : INFO : EPOCH 3 - PROGRESS: at 6.62% examples, 2034464 words/s, in_qsize 17, out_qsize 2\n",
      "2021-12-03 21:07:11,616 : INFO : EPOCH 3 - PROGRESS: at 12.50% examples, 2057299 words/s, in_qsize 19, out_qsize 0\n",
      "2021-12-03 21:07:12,616 : INFO : EPOCH 3 - PROGRESS: at 18.50% examples, 2068065 words/s, in_qsize 17, out_qsize 2\n",
      "2021-12-03 21:07:13,620 : INFO : EPOCH 3 - PROGRESS: at 24.09% examples, 2064971 words/s, in_qsize 19, out_qsize 0\n",
      "2021-12-03 21:07:14,623 : INFO : EPOCH 3 - PROGRESS: at 30.89% examples, 2034555 words/s, in_qsize 17, out_qsize 2\n",
      "2021-12-03 21:07:15,627 : INFO : EPOCH 3 - PROGRESS: at 37.70% examples, 2018887 words/s, in_qsize 19, out_qsize 0\n",
      "2021-12-03 21:07:16,631 : INFO : EPOCH 3 - PROGRESS: at 45.28% examples, 2025694 words/s, in_qsize 19, out_qsize 0\n",
      "2021-12-03 21:07:17,641 : INFO : EPOCH 3 - PROGRESS: at 52.30% examples, 2026216 words/s, in_qsize 19, out_qsize 0\n",
      "2021-12-03 21:07:18,647 : INFO : EPOCH 3 - PROGRESS: at 59.47% examples, 2031719 words/s, in_qsize 17, out_qsize 2\n",
      "2021-12-03 21:07:19,652 : INFO : EPOCH 3 - PROGRESS: at 66.65% examples, 2034598 words/s, in_qsize 19, out_qsize 0\n",
      "2021-12-03 21:07:20,655 : INFO : EPOCH 3 - PROGRESS: at 73.13% examples, 2025241 words/s, in_qsize 19, out_qsize 1\n",
      "2021-12-03 21:07:21,660 : INFO : EPOCH 3 - PROGRESS: at 79.52% examples, 2019962 words/s, in_qsize 17, out_qsize 2\n",
      "2021-12-03 21:07:22,667 : INFO : EPOCH 3 - PROGRESS: at 85.71% examples, 2009620 words/s, in_qsize 17, out_qsize 2\n",
      "2021-12-03 21:07:23,674 : INFO : EPOCH 3 - PROGRESS: at 92.34% examples, 1998240 words/s, in_qsize 19, out_qsize 0\n",
      "2021-12-03 21:07:24,676 : INFO : EPOCH 3 - PROGRESS: at 99.20% examples, 1998863 words/s, in_qsize 18, out_qsize 1\n",
      "2021-12-03 21:07:24,753 : INFO : worker thread finished; awaiting finish of 9 more threads\n",
      "2021-12-03 21:07:24,759 : INFO : worker thread finished; awaiting finish of 8 more threads\n",
      "2021-12-03 21:07:24,765 : INFO : worker thread finished; awaiting finish of 7 more threads\n",
      "2021-12-03 21:07:24,767 : INFO : worker thread finished; awaiting finish of 6 more threads\n",
      "2021-12-03 21:07:24,768 : INFO : worker thread finished; awaiting finish of 5 more threads\n",
      "2021-12-03 21:07:24,768 : INFO : worker thread finished; awaiting finish of 4 more threads\n",
      "2021-12-03 21:07:24,772 : INFO : worker thread finished; awaiting finish of 3 more threads\n",
      "2021-12-03 21:07:24,776 : INFO : worker thread finished; awaiting finish of 2 more threads\n",
      "2021-12-03 21:07:24,778 : INFO : worker thread finished; awaiting finish of 1 more threads\n",
      "2021-12-03 21:07:24,779 : INFO : worker thread finished; awaiting finish of 0 more threads\n",
      "2021-12-03 21:07:24,780 : INFO : EPOCH - 3 : training on 41519358 raw words (30347340 effective words) took 15.2s, 2000099 effective words/s\n",
      "2021-12-03 21:07:25,786 : INFO : EPOCH 4 - PROGRESS: at 6.40% examples, 1973114 words/s, in_qsize 18, out_qsize 1\n",
      "2021-12-03 21:07:26,791 : INFO : EPOCH 4 - PROGRESS: at 12.15% examples, 1990840 words/s, in_qsize 17, out_qsize 2\n",
      "2021-12-03 21:07:27,791 : INFO : EPOCH 4 - PROGRESS: at 17.87% examples, 1995111 words/s, in_qsize 20, out_qsize 1\n",
      "2021-12-03 21:07:28,801 : INFO : EPOCH 4 - PROGRESS: at 23.25% examples, 1980950 words/s, in_qsize 19, out_qsize 0\n",
      "2021-12-03 21:07:29,811 : INFO : EPOCH 4 - PROGRESS: at 30.00% examples, 1981577 words/s, in_qsize 18, out_qsize 1\n",
      "2021-12-03 21:07:30,814 : INFO : EPOCH 4 - PROGRESS: at 36.67% examples, 1965660 words/s, in_qsize 18, out_qsize 1\n",
      "2021-12-03 21:07:31,824 : INFO : EPOCH 4 - PROGRESS: at 43.68% examples, 1960815 words/s, in_qsize 18, out_qsize 1\n",
      "2021-12-03 21:07:32,837 : INFO : EPOCH 4 - PROGRESS: at 50.85% examples, 1966455 words/s, in_qsize 19, out_qsize 0\n",
      "2021-12-03 21:07:33,839 : INFO : EPOCH 4 - PROGRESS: at 57.58% examples, 1968069 words/s, in_qsize 19, out_qsize 1\n",
      "2021-12-03 21:07:34,843 : INFO : EPOCH 4 - PROGRESS: at 64.69% examples, 1970653 words/s, in_qsize 18, out_qsize 1\n",
      "2021-12-03 21:07:35,843 : INFO : EPOCH 4 - PROGRESS: at 71.17% examples, 1972509 words/s, in_qsize 19, out_qsize 0\n",
      "2021-12-03 21:07:36,844 : INFO : EPOCH 4 - PROGRESS: at 77.69% examples, 1973001 words/s, in_qsize 19, out_qsize 0\n",
      "2021-12-03 21:07:37,850 : INFO : EPOCH 4 - PROGRESS: at 84.23% examples, 1973189 words/s, in_qsize 18, out_qsize 1\n",
      "2021-12-03 21:07:38,855 : INFO : EPOCH 4 - PROGRESS: at 91.16% examples, 1974111 words/s, in_qsize 19, out_qsize 1\n",
      "2021-12-03 21:07:39,858 : INFO : EPOCH 4 - PROGRESS: at 97.81% examples, 1972025 words/s, in_qsize 17, out_qsize 2\n",
      "2021-12-03 21:07:40,136 : INFO : worker thread finished; awaiting finish of 9 more threads\n",
      "2021-12-03 21:07:40,145 : INFO : worker thread finished; awaiting finish of 8 more threads\n",
      "2021-12-03 21:07:40,148 : INFO : worker thread finished; awaiting finish of 7 more threads\n",
      "2021-12-03 21:07:40,149 : INFO : worker thread finished; awaiting finish of 6 more threads\n",
      "2021-12-03 21:07:40,152 : INFO : worker thread finished; awaiting finish of 5 more threads\n",
      "2021-12-03 21:07:40,158 : INFO : worker thread finished; awaiting finish of 4 more threads\n",
      "2021-12-03 21:07:40,159 : INFO : worker thread finished; awaiting finish of 3 more threads\n",
      "2021-12-03 21:07:40,160 : INFO : worker thread finished; awaiting finish of 2 more threads\n",
      "2021-12-03 21:07:40,161 : INFO : worker thread finished; awaiting finish of 1 more threads\n",
      "2021-12-03 21:07:40,166 : INFO : worker thread finished; awaiting finish of 0 more threads\n",
      "2021-12-03 21:07:40,167 : INFO : EPOCH - 4 : training on 41519358 raw words (30350859 effective words) took 15.4s, 1973027 effective words/s\n",
      "2021-12-03 21:07:41,176 : INFO : EPOCH 5 - PROGRESS: at 6.33% examples, 1945439 words/s, in_qsize 17, out_qsize 2\n",
      "2021-12-03 21:07:42,180 : INFO : EPOCH 5 - PROGRESS: at 12.08% examples, 1974794 words/s, in_qsize 19, out_qsize 0\n",
      "2021-12-03 21:07:43,186 : INFO : EPOCH 5 - PROGRESS: at 17.77% examples, 1980056 words/s, in_qsize 17, out_qsize 2\n",
      "2021-12-03 21:07:44,192 : INFO : EPOCH 5 - PROGRESS: at 23.27% examples, 1980509 words/s, in_qsize 17, out_qsize 2\n",
      "2021-12-03 21:07:45,197 : INFO : EPOCH 5 - PROGRESS: at 29.93% examples, 1977198 words/s, in_qsize 17, out_qsize 2\n",
      "2021-12-03 21:07:46,205 : INFO : EPOCH 5 - PROGRESS: at 36.97% examples, 1978371 words/s, in_qsize 18, out_qsize 1\n",
      "2021-12-03 21:07:47,208 : INFO : EPOCH 5 - PROGRESS: at 43.68% examples, 1961621 words/s, in_qsize 17, out_qsize 2\n",
      "2021-12-03 21:07:48,210 : INFO : EPOCH 5 - PROGRESS: at 50.00% examples, 1939362 words/s, in_qsize 18, out_qsize 1\n",
      "2021-12-03 21:07:49,212 : INFO : EPOCH 5 - PROGRESS: at 56.62% examples, 1940388 words/s, in_qsize 18, out_qsize 1\n",
      "2021-12-03 21:07:50,213 : INFO : EPOCH 5 - PROGRESS: at 63.46% examples, 1942948 words/s, in_qsize 17, out_qsize 2\n",
      "2021-12-03 21:07:51,217 : INFO : EPOCH 5 - PROGRESS: at 70.09% examples, 1944634 words/s, in_qsize 19, out_qsize 0\n",
      "2021-12-03 21:07:52,227 : INFO : EPOCH 5 - PROGRESS: at 76.70% examples, 1946723 words/s, in_qsize 19, out_qsize 1\n",
      "2021-12-03 21:07:53,239 : INFO : EPOCH 5 - PROGRESS: at 82.88% examples, 1940777 words/s, in_qsize 18, out_qsize 1\n",
      "2021-12-03 21:07:54,241 : INFO : EPOCH 5 - PROGRESS: at 89.51% examples, 1940787 words/s, in_qsize 18, out_qsize 1\n",
      "2021-12-03 21:07:55,247 : INFO : EPOCH 5 - PROGRESS: at 96.36% examples, 1943562 words/s, in_qsize 17, out_qsize 2\n",
      "2021-12-03 21:07:55,749 : INFO : worker thread finished; awaiting finish of 9 more threads\n",
      "2021-12-03 21:07:55,753 : INFO : worker thread finished; awaiting finish of 8 more threads\n",
      "2021-12-03 21:07:55,759 : INFO : worker thread finished; awaiting finish of 7 more threads\n",
      "2021-12-03 21:07:55,760 : INFO : worker thread finished; awaiting finish of 6 more threads\n",
      "2021-12-03 21:07:55,760 : INFO : worker thread finished; awaiting finish of 5 more threads\n",
      "2021-12-03 21:07:55,769 : INFO : worker thread finished; awaiting finish of 4 more threads\n",
      "2021-12-03 21:07:55,770 : INFO : worker thread finished; awaiting finish of 3 more threads\n",
      "2021-12-03 21:07:55,775 : INFO : worker thread finished; awaiting finish of 2 more threads\n",
      "2021-12-03 21:07:55,777 : INFO : worker thread finished; awaiting finish of 1 more threads\n",
      "2021-12-03 21:07:55,778 : INFO : worker thread finished; awaiting finish of 0 more threads\n",
      "2021-12-03 21:07:55,778 : INFO : EPOCH - 5 : training on 41519358 raw words (30349027 effective words) took 15.6s, 1944564 effective words/s\n",
      "2021-12-03 21:07:55,779 : INFO : training on a 207596790 raw words (151745888 effective words) took 74.7s, 2031589 effective words/s\n",
      "2021-12-03 21:07:55,780 : WARNING : Effective 'alpha' higher than previous training cycles\n",
      "2021-12-03 21:07:55,780 : INFO : training model with 10 workers on 70537 vocabulary and 150 features, using sg=0 hs=0 sample=0.001 negative=5 window=10\n",
      "2021-12-03 21:07:56,789 : INFO : EPOCH 1 - PROGRESS: at 6.33% examples, 1953202 words/s, in_qsize 17, out_qsize 2\n",
      "2021-12-03 21:07:57,792 : INFO : EPOCH 1 - PROGRESS: at 11.88% examples, 1940203 words/s, in_qsize 20, out_qsize 1\n",
      "2021-12-03 21:07:58,796 : INFO : EPOCH 1 - PROGRESS: at 17.44% examples, 1942340 words/s, in_qsize 18, out_qsize 1\n",
      "2021-12-03 21:07:59,799 : INFO : EPOCH 1 - PROGRESS: at 22.37% examples, 1897977 words/s, in_qsize 17, out_qsize 2\n",
      "2021-12-03 21:08:00,801 : INFO : EPOCH 1 - PROGRESS: at 28.24% examples, 1886562 words/s, in_qsize 17, out_qsize 2\n",
      "2021-12-03 21:08:01,811 : INFO : EPOCH 1 - PROGRESS: at 35.27% examples, 1903127 words/s, in_qsize 19, out_qsize 0\n",
      "2021-12-03 21:08:02,814 : INFO : EPOCH 1 - PROGRESS: at 42.50% examples, 1918440 words/s, in_qsize 19, out_qsize 0\n",
      "2021-12-03 21:08:03,814 : INFO : EPOCH 1 - PROGRESS: at 49.51% examples, 1924511 words/s, in_qsize 20, out_qsize 2\n",
      "2021-12-03 21:08:04,820 : INFO : EPOCH 1 - PROGRESS: at 56.29% examples, 1932004 words/s, in_qsize 18, out_qsize 1\n",
      "2021-12-03 21:08:05,827 : INFO : EPOCH 1 - PROGRESS: at 63.30% examples, 1939363 words/s, in_qsize 18, out_qsize 1\n",
      "2021-12-03 21:08:06,829 : INFO : EPOCH 1 - PROGRESS: at 69.64% examples, 1931851 words/s, in_qsize 19, out_qsize 0\n",
      "2021-12-03 21:08:07,831 : INFO : EPOCH 1 - PROGRESS: at 75.93% examples, 1927987 words/s, in_qsize 19, out_qsize 0\n",
      "2021-12-03 21:08:08,834 : INFO : EPOCH 1 - PROGRESS: at 82.33% examples, 1932003 words/s, in_qsize 17, out_qsize 2\n",
      "2021-12-03 21:08:09,839 : INFO : EPOCH 1 - PROGRESS: at 89.10% examples, 1935262 words/s, in_qsize 18, out_qsize 1\n",
      "2021-12-03 21:08:10,844 : INFO : EPOCH 1 - PROGRESS: at 95.95% examples, 1938598 words/s, in_qsize 17, out_qsize 2\n",
      "2021-12-03 21:08:11,403 : INFO : worker thread finished; awaiting finish of 9 more threads\n",
      "2021-12-03 21:08:11,412 : INFO : worker thread finished; awaiting finish of 8 more threads\n",
      "2021-12-03 21:08:11,414 : INFO : worker thread finished; awaiting finish of 7 more threads\n",
      "2021-12-03 21:08:11,415 : INFO : worker thread finished; awaiting finish of 6 more threads\n",
      "2021-12-03 21:08:11,417 : INFO : worker thread finished; awaiting finish of 5 more threads\n",
      "2021-12-03 21:08:11,421 : INFO : worker thread finished; awaiting finish of 4 more threads\n",
      "2021-12-03 21:08:11,424 : INFO : worker thread finished; awaiting finish of 3 more threads\n",
      "2021-12-03 21:08:11,430 : INFO : worker thread finished; awaiting finish of 2 more threads\n",
      "2021-12-03 21:08:11,430 : INFO : worker thread finished; awaiting finish of 1 more threads\n",
      "2021-12-03 21:08:11,431 : INFO : worker thread finished; awaiting finish of 0 more threads\n",
      "2021-12-03 21:08:11,432 : INFO : EPOCH - 1 : training on 41519358 raw words (30350117 effective words) took 15.6s, 1940080 effective words/s\n",
      "2021-12-03 21:08:12,448 : INFO : EPOCH 2 - PROGRESS: at 6.18% examples, 1896873 words/s, in_qsize 18, out_qsize 1\n",
      "2021-12-03 21:08:13,459 : INFO : EPOCH 2 - PROGRESS: at 11.96% examples, 1940594 words/s, in_qsize 18, out_qsize 1\n",
      "2021-12-03 21:08:14,470 : INFO : EPOCH 2 - PROGRESS: at 17.66% examples, 1956455 words/s, in_qsize 17, out_qsize 2\n",
      "2021-12-03 21:08:15,473 : INFO : EPOCH 2 - PROGRESS: at 22.83% examples, 1928796 words/s, in_qsize 19, out_qsize 0\n",
      "2021-12-03 21:08:16,474 : INFO : EPOCH 2 - PROGRESS: at 28.65% examples, 1902994 words/s, in_qsize 19, out_qsize 0\n",
      "2021-12-03 21:08:17,481 : INFO : EPOCH 2 - PROGRESS: at 35.59% examples, 1911804 words/s, in_qsize 19, out_qsize 0\n",
      "2021-12-03 21:08:18,485 : INFO : EPOCH 2 - PROGRESS: at 42.69% examples, 1921521 words/s, in_qsize 19, out_qsize 0\n",
      "2021-12-03 21:08:19,494 : INFO : EPOCH 2 - PROGRESS: at 49.70% examples, 1925935 words/s, in_qsize 18, out_qsize 1\n",
      "2021-12-03 21:08:20,496 : INFO : EPOCH 2 - PROGRESS: at 56.49% examples, 1933400 words/s, in_qsize 17, out_qsize 2\n",
      "2021-12-03 21:08:21,499 : INFO : EPOCH 2 - PROGRESS: at 63.46% examples, 1939930 words/s, in_qsize 20, out_qsize 2\n",
      "2021-12-03 21:08:22,505 : INFO : EPOCH 2 - PROGRESS: at 70.23% examples, 1945460 words/s, in_qsize 19, out_qsize 0\n",
      "2021-12-03 21:08:23,505 : INFO : EPOCH 2 - PROGRESS: at 76.80% examples, 1947825 words/s, in_qsize 19, out_qsize 0\n",
      "2021-12-03 21:08:24,516 : INFO : EPOCH 2 - PROGRESS: at 83.40% examples, 1951957 words/s, in_qsize 20, out_qsize 1\n",
      "2021-12-03 21:08:25,523 : INFO : EPOCH 2 - PROGRESS: at 90.28% examples, 1954604 words/s, in_qsize 17, out_qsize 2\n",
      "2021-12-03 21:08:26,524 : INFO : EPOCH 2 - PROGRESS: at 97.07% examples, 1956468 words/s, in_qsize 19, out_qsize 0\n",
      "2021-12-03 21:08:26,916 : INFO : worker thread finished; awaiting finish of 9 more threads\n",
      "2021-12-03 21:08:26,917 : INFO : worker thread finished; awaiting finish of 8 more threads\n",
      "2021-12-03 21:08:26,922 : INFO : worker thread finished; awaiting finish of 7 more threads\n",
      "2021-12-03 21:08:26,926 : INFO : worker thread finished; awaiting finish of 6 more threads\n",
      "2021-12-03 21:08:26,926 : INFO : worker thread finished; awaiting finish of 5 more threads\n",
      "2021-12-03 21:08:26,927 : INFO : worker thread finished; awaiting finish of 4 more threads\n",
      "2021-12-03 21:08:26,931 : INFO : worker thread finished; awaiting finish of 3 more threads\n",
      "2021-12-03 21:08:26,936 : INFO : worker thread finished; awaiting finish of 2 more threads\n",
      "2021-12-03 21:08:26,937 : INFO : worker thread finished; awaiting finish of 1 more threads\n",
      "2021-12-03 21:08:26,939 : INFO : worker thread finished; awaiting finish of 0 more threads\n",
      "2021-12-03 21:08:26,939 : INFO : EPOCH - 2 : training on 41519358 raw words (30351260 effective words) took 15.5s, 1958254 effective words/s\n",
      "2021-12-03 21:08:27,948 : INFO : EPOCH 3 - PROGRESS: at 6.36% examples, 1951788 words/s, in_qsize 18, out_qsize 1\n",
      "2021-12-03 21:08:28,950 : INFO : EPOCH 3 - PROGRESS: at 12.00% examples, 1959520 words/s, in_qsize 17, out_qsize 2\n",
      "2021-12-03 21:08:29,951 : INFO : EPOCH 3 - PROGRESS: at 17.71% examples, 1975119 words/s, in_qsize 19, out_qsize 0\n",
      "2021-12-03 21:08:30,963 : INFO : EPOCH 3 - PROGRESS: at 23.22% examples, 1975409 words/s, in_qsize 19, out_qsize 0\n",
      "2021-12-03 21:08:31,968 : INFO : EPOCH 3 - PROGRESS: at 29.43% examples, 1948800 words/s, in_qsize 17, out_qsize 2\n",
      "2021-12-03 21:08:32,975 : INFO : EPOCH 3 - PROGRESS: at 36.35% examples, 1949119 words/s, in_qsize 17, out_qsize 2\n",
      "2021-12-03 21:08:33,982 : INFO : EPOCH 3 - PROGRESS: at 43.43% examples, 1951692 words/s, in_qsize 17, out_qsize 2\n",
      "2021-12-03 21:08:34,993 : INFO : EPOCH 3 - PROGRESS: at 50.53% examples, 1955411 words/s, in_qsize 17, out_qsize 2\n",
      "2021-12-03 21:08:36,000 : INFO : EPOCH 3 - PROGRESS: at 57.29% examples, 1957789 words/s, in_qsize 19, out_qsize 0\n",
      "2021-12-03 21:08:37,010 : INFO : EPOCH 3 - PROGRESS: at 64.30% examples, 1958951 words/s, in_qsize 17, out_qsize 2\n",
      "2021-12-03 21:08:38,011 : INFO : EPOCH 3 - PROGRESS: at 70.76% examples, 1958980 words/s, in_qsize 17, out_qsize 2\n",
      "2021-12-03 21:08:39,013 : INFO : EPOCH 3 - PROGRESS: at 77.29% examples, 1959782 words/s, in_qsize 19, out_qsize 0\n",
      "2021-12-03 21:08:40,016 : INFO : EPOCH 3 - PROGRESS: at 83.72% examples, 1959763 words/s, in_qsize 18, out_qsize 1\n",
      "2021-12-03 21:08:41,026 : INFO : EPOCH 3 - PROGRESS: at 90.61% examples, 1961588 words/s, in_qsize 19, out_qsize 0\n",
      "2021-12-03 21:08:42,035 : INFO : EPOCH 3 - PROGRESS: at 97.50% examples, 1963277 words/s, in_qsize 19, out_qsize 0\n",
      "2021-12-03 21:08:42,364 : INFO : worker thread finished; awaiting finish of 9 more threads\n",
      "2021-12-03 21:08:42,365 : INFO : worker thread finished; awaiting finish of 8 more threads\n",
      "2021-12-03 21:08:42,370 : INFO : worker thread finished; awaiting finish of 7 more threads\n",
      "2021-12-03 21:08:42,373 : INFO : worker thread finished; awaiting finish of 6 more threads\n",
      "2021-12-03 21:08:42,375 : INFO : worker thread finished; awaiting finish of 5 more threads\n",
      "2021-12-03 21:08:42,375 : INFO : worker thread finished; awaiting finish of 4 more threads\n",
      "2021-12-03 21:08:42,381 : INFO : worker thread finished; awaiting finish of 3 more threads\n",
      "2021-12-03 21:08:42,384 : INFO : worker thread finished; awaiting finish of 2 more threads\n",
      "2021-12-03 21:08:42,386 : INFO : worker thread finished; awaiting finish of 1 more threads\n",
      "2021-12-03 21:08:42,386 : INFO : worker thread finished; awaiting finish of 0 more threads\n",
      "2021-12-03 21:08:42,387 : INFO : EPOCH - 3 : training on 41519358 raw words (30346338 effective words) took 15.4s, 1964972 effective words/s\n",
      "2021-12-03 21:08:43,393 : INFO : EPOCH 4 - PROGRESS: at 6.18% examples, 1906926 words/s, in_qsize 17, out_qsize 2\n",
      "2021-12-03 21:08:44,394 : INFO : EPOCH 4 - PROGRESS: at 11.76% examples, 1923371 words/s, in_qsize 17, out_qsize 2\n",
      "2021-12-03 21:08:45,394 : INFO : EPOCH 4 - PROGRESS: at 17.40% examples, 1940180 words/s, in_qsize 18, out_qsize 1\n",
      "2021-12-03 21:08:46,404 : INFO : EPOCH 4 - PROGRESS: at 22.96% examples, 1952329 words/s, in_qsize 18, out_qsize 1\n",
      "2021-12-03 21:08:47,413 : INFO : EPOCH 4 - PROGRESS: at 29.48% examples, 1953010 words/s, in_qsize 17, out_qsize 2\n",
      "2021-12-03 21:08:48,419 : INFO : EPOCH 4 - PROGRESS: at 36.48% examples, 1956259 words/s, in_qsize 16, out_qsize 3\n",
      "2021-12-03 21:08:49,423 : INFO : EPOCH 4 - PROGRESS: at 42.92% examples, 1934064 words/s, in_qsize 19, out_qsize 0\n",
      "2021-12-03 21:08:50,432 : INFO : EPOCH 4 - PROGRESS: at 49.73% examples, 1929944 words/s, in_qsize 17, out_qsize 2\n",
      "2021-12-03 21:08:51,445 : INFO : EPOCH 4 - PROGRESS: at 56.46% examples, 1933018 words/s, in_qsize 19, out_qsize 0\n",
      "2021-12-03 21:08:52,447 : INFO : EPOCH 4 - PROGRESS: at 63.36% examples, 1937494 words/s, in_qsize 17, out_qsize 2\n",
      "2021-12-03 21:08:53,456 : INFO : EPOCH 4 - PROGRESS: at 70.00% examples, 1938779 words/s, in_qsize 17, out_qsize 2\n",
      "2021-12-03 21:08:54,458 : INFO : EPOCH 4 - PROGRESS: at 76.60% examples, 1942528 words/s, in_qsize 18, out_qsize 1\n",
      "2021-12-03 21:08:55,464 : INFO : EPOCH 4 - PROGRESS: at 83.07% examples, 1944494 words/s, in_qsize 18, out_qsize 1\n",
      "2021-12-03 21:08:56,465 : INFO : EPOCH 4 - PROGRESS: at 89.79% examples, 1946488 words/s, in_qsize 18, out_qsize 1\n",
      "2021-12-03 21:08:57,466 : INFO : EPOCH 4 - PROGRESS: at 96.51% examples, 1946433 words/s, in_qsize 18, out_qsize 1\n",
      "2021-12-03 21:08:57,937 : INFO : worker thread finished; awaiting finish of 9 more threads\n",
      "2021-12-03 21:08:57,945 : INFO : worker thread finished; awaiting finish of 8 more threads\n",
      "2021-12-03 21:08:57,949 : INFO : worker thread finished; awaiting finish of 7 more threads\n",
      "2021-12-03 21:08:57,950 : INFO : worker thread finished; awaiting finish of 6 more threads\n",
      "2021-12-03 21:08:57,958 : INFO : worker thread finished; awaiting finish of 5 more threads\n",
      "2021-12-03 21:08:57,958 : INFO : worker thread finished; awaiting finish of 4 more threads\n",
      "2021-12-03 21:08:57,961 : INFO : worker thread finished; awaiting finish of 3 more threads\n",
      "2021-12-03 21:08:57,962 : INFO : worker thread finished; awaiting finish of 2 more threads\n",
      "2021-12-03 21:08:57,967 : INFO : worker thread finished; awaiting finish of 1 more threads\n",
      "2021-12-03 21:08:57,968 : INFO : worker thread finished; awaiting finish of 0 more threads\n",
      "2021-12-03 21:08:57,968 : INFO : EPOCH - 4 : training on 41519358 raw words (30348038 effective words) took 15.6s, 1948252 effective words/s\n",
      "2021-12-03 21:08:58,973 : INFO : EPOCH 5 - PROGRESS: at 6.30% examples, 1945545 words/s, in_qsize 17, out_qsize 2\n",
      "2021-12-03 21:08:59,977 : INFO : EPOCH 5 - PROGRESS: at 11.61% examples, 1885403 words/s, in_qsize 18, out_qsize 1\n",
      "2021-12-03 21:09:00,986 : INFO : EPOCH 5 - PROGRESS: at 17.27% examples, 1916444 words/s, in_qsize 17, out_qsize 2\n",
      "2021-12-03 21:09:01,994 : INFO : EPOCH 5 - PROGRESS: at 22.78% examples, 1928261 words/s, in_qsize 17, out_qsize 2\n",
      "2021-12-03 21:09:02,998 : INFO : EPOCH 5 - PROGRESS: at 29.28% examples, 1940321 words/s, in_qsize 18, out_qsize 1\n",
      "2021-12-03 21:09:03,999 : INFO : EPOCH 5 - PROGRESS: at 35.70% examples, 1921283 words/s, in_qsize 20, out_qsize 0\n",
      "2021-12-03 21:09:05,003 : INFO : EPOCH 5 - PROGRESS: at 42.67% examples, 1924492 words/s, in_qsize 19, out_qsize 0\n",
      "2021-12-03 21:09:06,011 : INFO : EPOCH 5 - PROGRESS: at 49.61% examples, 1925991 words/s, in_qsize 17, out_qsize 2\n",
      "2021-12-03 21:09:07,016 : INFO : EPOCH 5 - PROGRESS: at 56.32% examples, 1930377 words/s, in_qsize 19, out_qsize 0\n",
      "2021-12-03 21:09:08,020 : INFO : EPOCH 5 - PROGRESS: at 63.15% examples, 1934056 words/s, in_qsize 17, out_qsize 2\n",
      "2021-12-03 21:09:09,023 : INFO : EPOCH 5 - PROGRESS: at 69.93% examples, 1938703 words/s, in_qsize 19, out_qsize 0\n",
      "2021-12-03 21:09:10,025 : INFO : EPOCH 5 - PROGRESS: at 76.50% examples, 1942552 words/s, in_qsize 19, out_qsize 0\n",
      "2021-12-03 21:09:11,031 : INFO : EPOCH 5 - PROGRESS: at 83.00% examples, 1945085 words/s, in_qsize 19, out_qsize 0\n",
      "2021-12-03 21:09:12,046 : INFO : EPOCH 5 - PROGRESS: at 89.49% examples, 1940559 words/s, in_qsize 17, out_qsize 2\n",
      "2021-12-03 21:09:13,050 : INFO : EPOCH 5 - PROGRESS: at 96.42% examples, 1944424 words/s, in_qsize 20, out_qsize 0\n",
      "2021-12-03 21:09:13,548 : INFO : worker thread finished; awaiting finish of 9 more threads\n",
      "2021-12-03 21:09:13,550 : INFO : worker thread finished; awaiting finish of 8 more threads\n",
      "2021-12-03 21:09:13,551 : INFO : worker thread finished; awaiting finish of 7 more threads\n",
      "2021-12-03 21:09:13,561 : INFO : worker thread finished; awaiting finish of 6 more threads\n",
      "2021-12-03 21:09:13,561 : INFO : worker thread finished; awaiting finish of 5 more threads\n",
      "2021-12-03 21:09:13,562 : INFO : worker thread finished; awaiting finish of 4 more threads\n",
      "2021-12-03 21:09:13,563 : INFO : worker thread finished; awaiting finish of 3 more threads\n",
      "2021-12-03 21:09:13,564 : INFO : worker thread finished; awaiting finish of 2 more threads\n",
      "2021-12-03 21:09:13,568 : INFO : worker thread finished; awaiting finish of 1 more threads\n",
      "2021-12-03 21:09:13,570 : INFO : worker thread finished; awaiting finish of 0 more threads\n",
      "2021-12-03 21:09:13,571 : INFO : EPOCH - 5 : training on 41519358 raw words (30350429 effective words) took 15.6s, 1945685 effective words/s\n",
      "2021-12-03 21:09:14,584 : INFO : EPOCH 6 - PROGRESS: at 6.30% examples, 1930218 words/s, in_qsize 17, out_qsize 2\n",
      "2021-12-03 21:09:15,595 : INFO : EPOCH 6 - PROGRESS: at 12.03% examples, 1953503 words/s, in_qsize 17, out_qsize 2\n",
      "2021-12-03 21:09:16,595 : INFO : EPOCH 6 - PROGRESS: at 17.66% examples, 1962928 words/s, in_qsize 19, out_qsize 0\n",
      "2021-12-03 21:09:17,597 : INFO : EPOCH 6 - PROGRESS: at 23.08% examples, 1962315 words/s, in_qsize 18, out_qsize 1\n",
      "2021-12-03 21:09:18,601 : INFO : EPOCH 6 - PROGRESS: at 29.66% examples, 1962006 words/s, in_qsize 18, out_qsize 1\n",
      "2021-12-03 21:09:19,609 : INFO : EPOCH 6 - PROGRESS: at 36.35% examples, 1948867 words/s, in_qsize 17, out_qsize 2\n",
      "2021-12-03 21:09:20,618 : INFO : EPOCH 6 - PROGRESS: at 42.98% examples, 1933839 words/s, in_qsize 18, out_qsize 1\n",
      "2021-12-03 21:09:21,623 : INFO : EPOCH 6 - PROGRESS: at 49.61% examples, 1924293 words/s, in_qsize 19, out_qsize 0\n",
      "2021-12-03 21:09:22,623 : INFO : EPOCH 6 - PROGRESS: at 55.87% examples, 1914674 words/s, in_qsize 19, out_qsize 0\n",
      "2021-12-03 21:09:23,632 : INFO : EPOCH 6 - PROGRESS: at 62.18% examples, 1906088 words/s, in_qsize 20, out_qsize 2\n",
      "2021-12-03 21:09:24,633 : INFO : EPOCH 6 - PROGRESS: at 68.49% examples, 1897439 words/s, in_qsize 18, out_qsize 1\n",
      "2021-12-03 21:09:25,636 : INFO : EPOCH 6 - PROGRESS: at 74.47% examples, 1887121 words/s, in_qsize 20, out_qsize 1\n",
      "2021-12-03 21:09:26,643 : INFO : EPOCH 6 - PROGRESS: at 79.98% examples, 1874605 words/s, in_qsize 19, out_qsize 0\n",
      "2021-12-03 21:09:27,651 : INFO : EPOCH 6 - PROGRESS: at 85.57% examples, 1862374 words/s, in_qsize 18, out_qsize 1\n",
      "2021-12-03 21:09:28,652 : INFO : EPOCH 6 - PROGRESS: at 91.71% examples, 1853288 words/s, in_qsize 19, out_qsize 0\n",
      "2021-12-03 21:09:29,655 : INFO : EPOCH 6 - PROGRESS: at 97.53% examples, 1843369 words/s, in_qsize 17, out_qsize 2\n",
      "2021-12-03 21:09:30,040 : INFO : worker thread finished; awaiting finish of 9 more threads\n",
      "2021-12-03 21:09:30,044 : INFO : worker thread finished; awaiting finish of 8 more threads\n",
      "2021-12-03 21:09:30,046 : INFO : worker thread finished; awaiting finish of 7 more threads\n",
      "2021-12-03 21:09:30,047 : INFO : worker thread finished; awaiting finish of 6 more threads\n",
      "2021-12-03 21:09:30,051 : INFO : worker thread finished; awaiting finish of 5 more threads\n",
      "2021-12-03 21:09:30,054 : INFO : worker thread finished; awaiting finish of 4 more threads\n",
      "2021-12-03 21:09:30,059 : INFO : worker thread finished; awaiting finish of 3 more threads\n",
      "2021-12-03 21:09:30,064 : INFO : worker thread finished; awaiting finish of 2 more threads\n",
      "2021-12-03 21:09:30,064 : INFO : worker thread finished; awaiting finish of 1 more threads\n",
      "2021-12-03 21:09:30,066 : INFO : worker thread finished; awaiting finish of 0 more threads\n",
      "2021-12-03 21:09:30,066 : INFO : EPOCH - 6 : training on 41519358 raw words (30353131 effective words) took 16.5s, 1840561 effective words/s\n",
      "2021-12-03 21:09:31,083 : INFO : EPOCH 7 - PROGRESS: at 5.57% examples, 1698819 words/s, in_qsize 18, out_qsize 1\n",
      "2021-12-03 21:09:32,095 : INFO : EPOCH 7 - PROGRESS: at 10.80% examples, 1716289 words/s, in_qsize 17, out_qsize 2\n",
      "2021-12-03 21:09:33,096 : INFO : EPOCH 7 - PROGRESS: at 15.79% examples, 1729423 words/s, in_qsize 18, out_qsize 1\n",
      "2021-12-03 21:09:34,098 : INFO : EPOCH 7 - PROGRESS: at 20.37% examples, 1727004 words/s, in_qsize 18, out_qsize 2\n",
      "2021-12-03 21:09:35,113 : INFO : EPOCH 7 - PROGRESS: at 25.46% examples, 1728374 words/s, in_qsize 17, out_qsize 2\n",
      "2021-12-03 21:09:36,128 : INFO : EPOCH 7 - PROGRESS: at 31.34% examples, 1703520 words/s, in_qsize 18, out_qsize 1\n",
      "2021-12-03 21:09:37,133 : INFO : EPOCH 7 - PROGRESS: at 37.27% examples, 1704233 words/s, in_qsize 19, out_qsize 0\n",
      "2021-12-03 21:09:38,139 : INFO : EPOCH 7 - PROGRESS: at 43.48% examples, 1705290 words/s, in_qsize 19, out_qsize 0\n",
      "2021-12-03 21:09:39,139 : INFO : EPOCH 7 - PROGRESS: at 49.57% examples, 1706435 words/s, in_qsize 17, out_qsize 0\n",
      "2021-12-03 21:09:40,142 : INFO : EPOCH 7 - PROGRESS: at 55.34% examples, 1705978 words/s, in_qsize 17, out_qsize 2\n",
      "2021-12-03 21:09:41,147 : INFO : EPOCH 7 - PROGRESS: at 61.38% examples, 1709283 words/s, in_qsize 18, out_qsize 1\n",
      "2021-12-03 21:09:42,150 : INFO : EPOCH 7 - PROGRESS: at 67.45% examples, 1711513 words/s, in_qsize 18, out_qsize 1\n",
      "2021-12-03 21:09:43,153 : INFO : EPOCH 7 - PROGRESS: at 73.24% examples, 1713097 words/s, in_qsize 18, out_qsize 1\n",
      "2021-12-03 21:09:44,154 : INFO : EPOCH 7 - PROGRESS: at 78.80% examples, 1713924 words/s, in_qsize 18, out_qsize 1\n",
      "2021-12-03 21:09:45,159 : INFO : EPOCH 7 - PROGRESS: at 84.39% examples, 1712923 words/s, in_qsize 20, out_qsize 1\n",
      "2021-12-03 21:09:46,168 : INFO : EPOCH 7 - PROGRESS: at 90.25% examples, 1709911 words/s, in_qsize 19, out_qsize 1\n",
      "2021-12-03 21:09:47,176 : INFO : EPOCH 7 - PROGRESS: at 96.03% examples, 1707938 words/s, in_qsize 18, out_qsize 1\n",
      "2021-12-03 21:09:47,806 : INFO : worker thread finished; awaiting finish of 9 more threads\n",
      "2021-12-03 21:09:47,808 : INFO : worker thread finished; awaiting finish of 8 more threads\n",
      "2021-12-03 21:09:47,809 : INFO : worker thread finished; awaiting finish of 7 more threads\n",
      "2021-12-03 21:09:47,813 : INFO : worker thread finished; awaiting finish of 6 more threads\n",
      "2021-12-03 21:09:47,816 : INFO : worker thread finished; awaiting finish of 5 more threads\n",
      "2021-12-03 21:09:47,818 : INFO : worker thread finished; awaiting finish of 4 more threads\n",
      "2021-12-03 21:09:47,822 : INFO : worker thread finished; awaiting finish of 3 more threads\n",
      "2021-12-03 21:09:47,823 : INFO : worker thread finished; awaiting finish of 2 more threads\n",
      "2021-12-03 21:09:47,829 : INFO : worker thread finished; awaiting finish of 1 more threads\n",
      "2021-12-03 21:09:47,831 : INFO : worker thread finished; awaiting finish of 0 more threads\n",
      "2021-12-03 21:09:47,832 : INFO : EPOCH - 7 : training on 41519358 raw words (30353734 effective words) took 17.8s, 1709124 effective words/s\n",
      "2021-12-03 21:09:48,837 : INFO : EPOCH 8 - PROGRESS: at 5.50% examples, 1694636 words/s, in_qsize 19, out_qsize 0\n",
      "2021-12-03 21:09:49,846 : INFO : EPOCH 8 - PROGRESS: at 10.71% examples, 1706160 words/s, in_qsize 20, out_qsize 1\n",
      "2021-12-03 21:09:50,858 : INFO : EPOCH 8 - PROGRESS: at 15.67% examples, 1713293 words/s, in_qsize 19, out_qsize 0\n",
      "2021-12-03 21:09:51,862 : INFO : EPOCH 8 - PROGRESS: at 20.26% examples, 1717483 words/s, in_qsize 19, out_qsize 0\n",
      "2021-12-03 21:09:52,863 : INFO : EPOCH 8 - PROGRESS: at 25.22% examples, 1718581 words/s, in_qsize 19, out_qsize 1\n",
      "2021-12-03 21:09:53,873 : INFO : EPOCH 8 - PROGRESS: at 31.01% examples, 1695229 words/s, in_qsize 19, out_qsize 0\n",
      "2021-12-03 21:09:54,881 : INFO : EPOCH 8 - PROGRESS: at 36.89% examples, 1691370 words/s, in_qsize 19, out_qsize 0\n",
      "2021-12-03 21:09:55,883 : INFO : EPOCH 8 - PROGRESS: at 43.04% examples, 1693916 words/s, in_qsize 19, out_qsize 0\n",
      "2021-12-03 21:09:56,892 : INFO : EPOCH 8 - PROGRESS: at 49.24% examples, 1696982 words/s, in_qsize 18, out_qsize 1\n",
      "2021-12-03 21:09:57,902 : INFO : EPOCH 8 - PROGRESS: at 54.97% examples, 1697837 words/s, in_qsize 18, out_qsize 1\n",
      "2021-12-03 21:09:58,902 : INFO : EPOCH 8 - PROGRESS: at 60.93% examples, 1698063 words/s, in_qsize 19, out_qsize 0\n",
      "2021-12-03 21:09:59,908 : INFO : EPOCH 8 - PROGRESS: at 66.70% examples, 1694240 words/s, in_qsize 18, out_qsize 1\n",
      "2021-12-03 21:10:00,909 : INFO : EPOCH 8 - PROGRESS: at 71.83% examples, 1684000 words/s, in_qsize 19, out_qsize 0\n",
      "2021-12-03 21:10:01,915 : INFO : EPOCH 8 - PROGRESS: at 77.13% examples, 1676791 words/s, in_qsize 19, out_qsize 0\n",
      "2021-12-03 21:10:02,922 : INFO : EPOCH 8 - PROGRESS: at 82.52% examples, 1674540 words/s, in_qsize 18, out_qsize 1\n",
      "2021-12-03 21:10:03,929 : INFO : EPOCH 8 - PROGRESS: at 88.24% examples, 1674810 words/s, in_qsize 17, out_qsize 2\n",
      "2021-12-03 21:10:04,936 : INFO : EPOCH 8 - PROGRESS: at 94.16% examples, 1675919 words/s, in_qsize 20, out_qsize 0\n",
      "2021-12-03 21:10:05,898 : INFO : worker thread finished; awaiting finish of 9 more threads\n",
      "2021-12-03 21:10:05,903 : INFO : worker thread finished; awaiting finish of 8 more threads\n",
      "2021-12-03 21:10:05,904 : INFO : worker thread finished; awaiting finish of 7 more threads\n",
      "2021-12-03 21:10:05,909 : INFO : worker thread finished; awaiting finish of 6 more threads\n",
      "2021-12-03 21:10:05,912 : INFO : worker thread finished; awaiting finish of 5 more threads\n",
      "2021-12-03 21:10:05,915 : INFO : worker thread finished; awaiting finish of 4 more threads\n",
      "2021-12-03 21:10:05,918 : INFO : worker thread finished; awaiting finish of 3 more threads\n",
      "2021-12-03 21:10:05,922 : INFO : worker thread finished; awaiting finish of 2 more threads\n",
      "2021-12-03 21:10:05,923 : INFO : worker thread finished; awaiting finish of 1 more threads\n",
      "2021-12-03 21:10:05,925 : INFO : worker thread finished; awaiting finish of 0 more threads\n",
      "2021-12-03 21:10:05,925 : INFO : EPOCH - 8 : training on 41519358 raw words (30347500 effective words) took 18.1s, 1677718 effective words/s\n",
      "2021-12-03 21:10:06,936 : INFO : EPOCH 9 - PROGRESS: at 5.38% examples, 1650307 words/s, in_qsize 19, out_qsize 0\n",
      "2021-12-03 21:10:07,936 : INFO : EPOCH 9 - PROGRESS: at 9.76% examples, 1536345 words/s, in_qsize 17, out_qsize 2\n",
      "2021-12-03 21:10:08,936 : INFO : EPOCH 9 - PROGRESS: at 13.82% examples, 1518264 words/s, in_qsize 18, out_qsize 1\n",
      "2021-12-03 21:10:09,947 : INFO : EPOCH 9 - PROGRESS: at 18.52% examples, 1550710 words/s, in_qsize 18, out_qsize 1\n",
      "2021-12-03 21:10:10,950 : INFO : EPOCH 9 - PROGRESS: at 23.07% examples, 1570606 words/s, in_qsize 17, out_qsize 2\n",
      "2021-12-03 21:10:11,951 : INFO : EPOCH 9 - PROGRESS: at 28.54% examples, 1584797 words/s, in_qsize 18, out_qsize 1\n",
      "2021-12-03 21:10:12,959 : INFO : EPOCH 9 - PROGRESS: at 34.47% examples, 1595767 words/s, in_qsize 18, out_qsize 1\n",
      "2021-12-03 21:10:13,966 : INFO : EPOCH 9 - PROGRESS: at 40.23% examples, 1599328 words/s, in_qsize 19, out_qsize 0\n",
      "2021-12-03 21:10:14,968 : INFO : EPOCH 9 - PROGRESS: at 46.20% examples, 1603202 words/s, in_qsize 17, out_qsize 2\n",
      "2021-12-03 21:10:15,968 : INFO : EPOCH 9 - PROGRESS: at 51.83% examples, 1606925 words/s, in_qsize 19, out_qsize 0\n",
      "2021-12-03 21:10:16,972 : INFO : EPOCH 9 - PROGRESS: at 57.46% examples, 1610614 words/s, in_qsize 18, out_qsize 1\n",
      "2021-12-03 21:10:17,978 : INFO : EPOCH 9 - PROGRESS: at 63.11% examples, 1612514 words/s, in_qsize 18, out_qsize 1\n",
      "2021-12-03 21:10:18,987 : INFO : EPOCH 9 - PROGRESS: at 68.72% examples, 1611739 words/s, in_qsize 18, out_qsize 1\n",
      "2021-12-03 21:10:19,991 : INFO : EPOCH 9 - PROGRESS: at 74.32% examples, 1615028 words/s, in_qsize 18, out_qsize 1\n",
      "2021-12-03 21:10:20,992 : INFO : EPOCH 9 - PROGRESS: at 79.57% examples, 1617623 words/s, in_qsize 19, out_qsize 0\n",
      "2021-12-03 21:10:21,992 : INFO : EPOCH 9 - PROGRESS: at 84.89% examples, 1619037 words/s, in_qsize 19, out_qsize 0\n",
      "2021-12-03 21:10:23,000 : INFO : EPOCH 9 - PROGRESS: at 90.74% examples, 1620283 words/s, in_qsize 19, out_qsize 0\n",
      "2021-12-03 21:10:24,001 : INFO : EPOCH 9 - PROGRESS: at 95.93% examples, 1614815 words/s, in_qsize 19, out_qsize 0\n",
      "2021-12-03 21:10:24,695 : INFO : worker thread finished; awaiting finish of 9 more threads\n",
      "2021-12-03 21:10:24,702 : INFO : worker thread finished; awaiting finish of 8 more threads\n",
      "2021-12-03 21:10:24,704 : INFO : worker thread finished; awaiting finish of 7 more threads\n",
      "2021-12-03 21:10:24,709 : INFO : worker thread finished; awaiting finish of 6 more threads\n",
      "2021-12-03 21:10:24,713 : INFO : worker thread finished; awaiting finish of 5 more threads\n",
      "2021-12-03 21:10:24,714 : INFO : worker thread finished; awaiting finish of 4 more threads\n",
      "2021-12-03 21:10:24,719 : INFO : worker thread finished; awaiting finish of 3 more threads\n",
      "2021-12-03 21:10:24,721 : INFO : worker thread finished; awaiting finish of 2 more threads\n",
      "2021-12-03 21:10:24,723 : INFO : worker thread finished; awaiting finish of 1 more threads\n",
      "2021-12-03 21:10:24,727 : INFO : worker thread finished; awaiting finish of 0 more threads\n",
      "2021-12-03 21:10:24,727 : INFO : EPOCH - 9 : training on 41519358 raw words (30350990 effective words) took 18.8s, 1614659 effective words/s\n",
      "2021-12-03 21:10:25,737 : INFO : EPOCH 10 - PROGRESS: at 5.24% examples, 1609196 words/s, in_qsize 19, out_qsize 0\n",
      "2021-12-03 21:10:26,746 : INFO : EPOCH 10 - PROGRESS: at 10.28% examples, 1635054 words/s, in_qsize 18, out_qsize 1\n",
      "2021-12-03 21:10:27,751 : INFO : EPOCH 10 - PROGRESS: at 14.89% examples, 1636092 words/s, in_qsize 18, out_qsize 1\n",
      "2021-12-03 21:10:28,759 : INFO : EPOCH 10 - PROGRESS: at 19.42% examples, 1637222 words/s, in_qsize 18, out_qsize 1\n",
      "2021-12-03 21:10:29,762 : INFO : EPOCH 10 - PROGRESS: at 23.98% examples, 1640667 words/s, in_qsize 17, out_qsize 2\n",
      "2021-12-03 21:10:30,772 : INFO : EPOCH 10 - PROGRESS: at 29.65% examples, 1632378 words/s, in_qsize 20, out_qsize 2\n",
      "2021-12-03 21:10:31,773 : INFO : EPOCH 10 - PROGRESS: at 35.37% examples, 1632205 words/s, in_qsize 19, out_qsize 0\n",
      "2021-12-03 21:10:32,783 : INFO : EPOCH 10 - PROGRESS: at 41.36% examples, 1634033 words/s, in_qsize 19, out_qsize 1\n",
      "2021-12-03 21:10:33,788 : INFO : EPOCH 10 - PROGRESS: at 47.25% examples, 1635555 words/s, in_qsize 18, out_qsize 1\n",
      "2021-12-03 21:10:34,792 : INFO : EPOCH 10 - PROGRESS: at 52.91% examples, 1637641 words/s, in_qsize 19, out_qsize 0\n",
      "2021-12-03 21:10:35,797 : INFO : EPOCH 10 - PROGRESS: at 58.62% examples, 1638338 words/s, in_qsize 17, out_qsize 2\n",
      "2021-12-03 21:10:36,799 : INFO : EPOCH 10 - PROGRESS: at 64.57% examples, 1640271 words/s, in_qsize 18, out_qsize 1\n",
      "2021-12-03 21:10:37,808 : INFO : EPOCH 10 - PROGRESS: at 70.01% examples, 1640575 words/s, in_qsize 17, out_qsize 2\n",
      "2021-12-03 21:10:38,813 : INFO : EPOCH 10 - PROGRESS: at 75.54% examples, 1640296 words/s, in_qsize 18, out_qsize 1\n",
      "2021-12-03 21:10:39,822 : INFO : EPOCH 10 - PROGRESS: at 80.49% examples, 1633609 words/s, in_qsize 19, out_qsize 0\n",
      "2021-12-03 21:10:40,822 : INFO : EPOCH 10 - PROGRESS: at 85.67% examples, 1630395 words/s, in_qsize 17, out_qsize 2\n",
      "2021-12-03 21:10:41,825 : INFO : EPOCH 10 - PROGRESS: at 91.41% examples, 1629352 words/s, in_qsize 19, out_qsize 0\n",
      "2021-12-03 21:10:42,826 : INFO : EPOCH 10 - PROGRESS: at 97.11% examples, 1631682 words/s, in_qsize 18, out_qsize 1\n",
      "2021-12-03 21:10:43,305 : INFO : worker thread finished; awaiting finish of 9 more threads\n",
      "2021-12-03 21:10:43,310 : INFO : worker thread finished; awaiting finish of 8 more threads\n",
      "2021-12-03 21:10:43,311 : INFO : worker thread finished; awaiting finish of 7 more threads\n",
      "2021-12-03 21:10:43,313 : INFO : worker thread finished; awaiting finish of 6 more threads\n",
      "2021-12-03 21:10:43,322 : INFO : worker thread finished; awaiting finish of 5 more threads\n",
      "2021-12-03 21:10:43,324 : INFO : worker thread finished; awaiting finish of 4 more threads\n",
      "2021-12-03 21:10:43,325 : INFO : worker thread finished; awaiting finish of 3 more threads\n",
      "2021-12-03 21:10:43,327 : INFO : worker thread finished; awaiting finish of 2 more threads\n",
      "2021-12-03 21:10:43,331 : INFO : worker thread finished; awaiting finish of 1 more threads\n",
      "2021-12-03 21:10:43,332 : INFO : worker thread finished; awaiting finish of 0 more threads\n",
      "2021-12-03 21:10:43,333 : INFO : EPOCH - 10 : training on 41519358 raw words (30347610 effective words) took 18.6s, 1631531 effective words/s\n",
      "2021-12-03 21:10:43,334 : INFO : training on a 415193580 raw words (303499147 effective words) took 167.6s, 1811355 effective words/s\n"
     ]
    },
    {
     "data": {
      "text/plain": [
       "(303499147, 415193580)"
      ]
     },
     "execution_count": 4,
     "metadata": {},
     "output_type": "execute_result"
    }
   ],
   "source": [
    "model = gensim.models.Word2Vec (documents, size=150, window=10, min_count=2, workers=10)\n",
    "model.train(documents,total_examples=len(documents),epochs=10)"
   ]
  },
  {
   "cell_type": "markdown",
   "metadata": {},
   "source": [
    "## Now, let's look at some output \n",
    "This first example shows a simple case of looking up words similar to the word `dirty`. All we need to do here is to call the `most_similar` function and provide the word `dirty` as the positive example. This returns the top 10 similar words. "
   ]
  },
  {
   "cell_type": "code",
   "execution_count": 16,
   "metadata": {},
   "outputs": [],
   "source": [
    "w1 = \"misinformation\"\n",
    "mis_model = model.wv.most_similar (positive=w1)"
   ]
  },
  {
   "cell_type": "code",
   "execution_count": 17,
   "metadata": {},
   "outputs": [
    {
     "data": {
      "text/plain": [
       "[('information', 0.6022960543632507),\n",
       " ('info', 0.5354797840118408),\n",
       " ('responses', 0.5073959231376648),\n",
       " ('feedback', 0.500105619430542),\n",
       " ('uninformed', 0.47496792674064636),\n",
       " ('informations', 0.47363176941871643),\n",
       " ('advice', 0.45637232065200806),\n",
       " ('interrogated', 0.4491495192050934),\n",
       " ('inquiring', 0.44862523674964905),\n",
       " ('guidance', 0.4433063864707947)]"
      ]
     },
     "execution_count": 17,
     "metadata": {},
     "output_type": "execute_result"
    }
   ],
   "source": [
    "mis_model"
   ]
  },
  {
   "cell_type": "code",
   "execution_count": 26,
   "metadata": {},
   "outputs": [
    {
     "name": "stdout",
     "output_type": "stream",
     "text": [
      "closest word to misinformation is ('information', 0.6022960543632507)\n"
     ]
    }
   ],
   "source": [
    "closest_word = max(mis_model,key=lambda item:item[1])\n",
    "print(f\"closest word to {w1} is {closest_word}\")"
   ]
  },
  {
   "cell_type": "code",
   "execution_count": 28,
   "metadata": {},
   "outputs": [
    {
     "name": "stdout",
     "output_type": "stream",
     "text": [
      "closest word to misinformation is ('information', 0.6022960543632507)\n"
     ]
    }
   ],
   "source": [
    "def closest_word(a_word_tuple):\n",
    "    closest = max(a_word_tuple,key=lambda item:item[1])\n",
    "    return closest\n",
    "\n",
    "print(f\"closest word to {w1} is {closest_word(mis_model)}\")"
   ]
  },
  {
   "cell_type": "code",
   "execution_count": null,
   "metadata": {},
   "outputs": [],
   "source": []
  },
  {
   "cell_type": "code",
   "execution_count": 5,
   "metadata": {},
   "outputs": [
    {
     "name": "stderr",
     "output_type": "stream",
     "text": [
      "2021-12-03 21:11:58,102 : INFO : precomputing L2-norms of word weight vectors\n"
     ]
    },
    {
     "data": {
      "text/plain": [
       "[('filthy', 0.8662458658218384),\n",
       " ('stained', 0.7852855920791626),\n",
       " ('unclean', 0.7832462787628174),\n",
       " ('smelly', 0.7697746157646179),\n",
       " ('grubby', 0.7684239149093628),\n",
       " ('dusty', 0.7665725350379944),\n",
       " ('dingy', 0.7294144034385681),\n",
       " ('soiled', 0.7283311486244202),\n",
       " ('grimy', 0.7230293154716492),\n",
       " ('disgusting', 0.7189224362373352)]"
      ]
     },
     "execution_count": 5,
     "metadata": {},
     "output_type": "execute_result"
    }
   ],
   "source": [
    "\n",
    "w1 = \"dirty\"\n",
    "model.wv.most_similar (positive=w1)\n"
   ]
  },
  {
   "cell_type": "markdown",
   "metadata": {},
   "source": [
    "That looks pretty good, right? Let's look at a few more. Let's look at similarity for `polite`, `france` and `shocked`. "
   ]
  },
  {
   "cell_type": "code",
   "execution_count": 6,
   "metadata": {},
   "outputs": [
    {
     "data": {
      "text/plain": [
       "[('courteous', 0.9177724719047546),\n",
       " ('friendly', 0.8302420377731323),\n",
       " ('cordial', 0.8070728182792664),\n",
       " ('professional', 0.7951556444168091),\n",
       " ('attentive', 0.7766161561012268),\n",
       " ('curteous', 0.7692057490348816)]"
      ]
     },
     "execution_count": 6,
     "metadata": {},
     "output_type": "execute_result"
    }
   ],
   "source": [
    "# look up top 6 words similar to 'polite'\n",
    "w1 = [\"polite\"]\n",
    "model.wv.most_similar (positive=w1,topn=6)\n"
   ]
  },
  {
   "cell_type": "code",
   "execution_count": 7,
   "metadata": {},
   "outputs": [
    {
     "data": {
      "text/plain": [
       "[('germany', 0.6914427280426025),\n",
       " ('canada', 0.6612461805343628),\n",
       " ('spain', 0.6396411061286926),\n",
       " ('gaulle', 0.5963788032531738),\n",
       " ('mexico', 0.5963702201843262),\n",
       " ('england', 0.594928503036499)]"
      ]
     },
     "execution_count": 7,
     "metadata": {},
     "output_type": "execute_result"
    }
   ],
   "source": [
    "# look up top 6 words similar to 'france'\n",
    "w1 = [\"france\"]\n",
    "model.wv.most_similar (positive=w1,topn=6)\n"
   ]
  },
  {
   "cell_type": "code",
   "execution_count": 8,
   "metadata": {},
   "outputs": [
    {
     "data": {
      "text/plain": [
       "[('horrified', 0.8093999028205872),\n",
       " ('astonished', 0.7883663177490234),\n",
       " ('amazed', 0.7843524813652039),\n",
       " ('dismayed', 0.7592852711677551),\n",
       " ('appalled', 0.754350483417511),\n",
       " ('stunned', 0.7325351238250732)]"
      ]
     },
     "execution_count": 8,
     "metadata": {},
     "output_type": "execute_result"
    }
   ],
   "source": [
    "# look up top 6 words similar to 'shocked'\n",
    "w1 = [\"shocked\"]\n",
    "model.wv.most_similar (positive=w1,topn=6)\n"
   ]
  },
  {
   "cell_type": "markdown",
   "metadata": {},
   "source": [
    "That's, nice. You can even specify several positive examples to get things that are related in the provided context and provide negative examples to say what should not be considered as related. In the example below we are asking for all items that *relate to bed* only:"
   ]
  },
  {
   "cell_type": "code",
   "execution_count": 9,
   "metadata": {},
   "outputs": [
    {
     "data": {
      "text/plain": [
       "[('duvet', 0.715851366519928),\n",
       " ('quilt', 0.6929425597190857),\n",
       " ('mattress', 0.6886236071586609),\n",
       " ('blanket', 0.6840144395828247),\n",
       " ('matress', 0.6746933460235596),\n",
       " ('pillowcase', 0.6726045608520508),\n",
       " ('sheets', 0.6438941359519958),\n",
       " ('foam', 0.6402884721755981),\n",
       " ('pillows', 0.6392641663551331),\n",
       " ('pillowcases', 0.6226792335510254)]"
      ]
     },
     "execution_count": 9,
     "metadata": {},
     "output_type": "execute_result"
    }
   ],
   "source": [
    "# get everything related to stuff on the bed\n",
    "w1 = [\"bed\",'sheet','pillow']\n",
    "w2 = ['couch']\n",
    "model.wv.most_similar (positive=w1,negative=w2,topn=10)\n"
   ]
  },
  {
   "cell_type": "markdown",
   "metadata": {},
   "source": [
    "### Similarity between two words in the vocabulary"
   ]
  },
  {
   "cell_type": "markdown",
   "metadata": {},
   "source": [
    "You can even use the Word2Vec model to return the similarity between two words that are present in the vocabulary. "
   ]
  },
  {
   "cell_type": "code",
   "execution_count": 10,
   "metadata": {},
   "outputs": [
    {
     "data": {
      "text/plain": [
       "0.7697745"
      ]
     },
     "execution_count": 10,
     "metadata": {},
     "output_type": "execute_result"
    }
   ],
   "source": [
    "# similarity between two different words\n",
    "model.wv.similarity(w1=\"dirty\",w2=\"smelly\")"
   ]
  },
  {
   "cell_type": "code",
   "execution_count": 11,
   "metadata": {},
   "outputs": [
    {
     "data": {
      "text/plain": [
       "1.0"
      ]
     },
     "execution_count": 11,
     "metadata": {},
     "output_type": "execute_result"
    }
   ],
   "source": [
    "# similarity between two identical words\n",
    "model.wv.similarity(w1=\"dirty\",w2=\"dirty\")"
   ]
  },
  {
   "cell_type": "code",
   "execution_count": 12,
   "metadata": {},
   "outputs": [
    {
     "data": {
      "text/plain": [
       "0.27420774"
      ]
     },
     "execution_count": 12,
     "metadata": {},
     "output_type": "execute_result"
    }
   ],
   "source": [
    "# similarity between two unrelated words\n",
    "model.wv.similarity(w1=\"dirty\",w2=\"clean\")"
   ]
  },
  {
   "cell_type": "markdown",
   "metadata": {},
   "source": [
    "Under the hood, the above three snippets computes the cosine similarity between the two specified words using word vectors of each. From the scores, it makes sense that `dirty` is highly similar to `smelly` but `dirty` is dissimilar to `clean`. If you do a similarity between two identical words, the score will be 1.0 as the range of the cosine similarity score will always be between [0.0-1.0]. You can read more about cosine similarity scoring [here](https://en.wikipedia.org/wiki/Cosine_similarity)."
   ]
  },
  {
   "cell_type": "markdown",
   "metadata": {},
   "source": [
    "### Find the odd one out\n",
    "You can even use Word2Vec to find odd items given a list of items."
   ]
  },
  {
   "cell_type": "code",
   "execution_count": 13,
   "metadata": {},
   "outputs": [
    {
     "name": "stderr",
     "output_type": "stream",
     "text": [
      "/Users/arsanjan/opt/anaconda3/lib/python3.8/site-packages/gensim/models/keyedvectors.py:877: FutureWarning: arrays to stack must be passed as a \"sequence\" type such as list or tuple. Support for non-sequence iterables such as generators is deprecated as of NumPy 1.16 and will raise an error in the future.\n",
      "  vectors = vstack(self.word_vec(word, use_norm=True) for word in used_words).astype(REAL)\n"
     ]
    },
    {
     "data": {
      "text/plain": [
       "'france'"
      ]
     },
     "execution_count": 13,
     "metadata": {},
     "output_type": "execute_result"
    }
   ],
   "source": [
    "# Which one is the odd one out in this list?\n",
    "model.wv.doesnt_match([\"cat\",\"dog\",\"france\"])"
   ]
  },
  {
   "cell_type": "code",
   "execution_count": 14,
   "metadata": {},
   "outputs": [
    {
     "data": {
      "text/plain": [
       "'shower'"
      ]
     },
     "execution_count": 14,
     "metadata": {},
     "output_type": "execute_result"
    }
   ],
   "source": [
    "# Which one is the odd one out in this list?\n",
    "model.wv.doesnt_match([\"bed\",\"pillow\",\"duvet\",\"shower\"])\n"
   ]
  },
  {
   "cell_type": "markdown",
   "metadata": {},
   "source": [
    "## Understanding some of the parameters\n",
    "To train the model earlier, we had to set some parameters. Now, let's try to understand what some of them mean. For reference, this is the command that we used to train the model.\n",
    "\n",
    "```\n",
    "model = gensim.models.Word2Vec (documents, size=150, window=10, min_count=2, workers=10)\n",
    "```\n",
    "\n",
    "### `size`\n",
    "The size of the dense vector to represent each token or word. If you have very limited data, then size should be a much smaller value. If you have lots of data, its good to experiment with various sizes. A value of 100-150 has worked well for me. \n",
    "\n",
    "### `window`\n",
    "The maximum distance between the target word and its neighboring word. If your neighbor's position is greater than the maximum window width to the left and the right, then, some neighbors are not considered as being related to the target word. In theory, a smaller window should give you terms that are more related. If you have lots of data, then the window size should not matter too much, as long as its a decent sized window. \n",
    "\n",
    "### `min_count`\n",
    "Minimium frequency count of words. The model would ignore words that do not statisfy the `min_count`. Extremely infrequent words are usually unimportant, so its best to get rid of those. Unless your dataset is really tiny, this does not really affect the model.\n",
    "\n",
    "### `workers`\n",
    "How many threads to use behind the scenes?\n"
   ]
  },
  {
   "cell_type": "markdown",
   "metadata": {},
   "source": [
    "## When should you use Word2Vec?\n",
    "\n",
    "There are many application scenarios for Word2Vec. Imagine if you need to build a sentiment lexicon. Training a Word2Vec model on large amounts of user reviews helps you achieve that. You have a lexicon for not just sentiment, but for most words in the vocabulary. \n",
    "\n",
    "Beyond, raw unstructured text data, you could also use Word2Vec for more structured data. For example, if you had tags for a million stackoverflow questions and answers, you could find tags that are related to a given tag and recommend the related ones for exploration. You can do this by treating each set of co-occuring tags as a \"sentence\" and train a Word2Vec model on this data. Granted, you still need a large number of examples to make it work. \n"
   ]
  },
  {
   "cell_type": "code",
   "execution_count": null,
   "metadata": {},
   "outputs": [],
   "source": []
  }
 ],
 "metadata": {
  "kernelspec": {
   "display_name": "Python 3",
   "language": "python",
   "name": "python3"
  },
  "language_info": {
   "codemirror_mode": {
    "name": "ipython",
    "version": 3
   },
   "file_extension": ".py",
   "mimetype": "text/x-python",
   "name": "python",
   "nbconvert_exporter": "python",
   "pygments_lexer": "ipython3",
   "version": "3.8.5"
  }
 },
 "nbformat": 4,
 "nbformat_minor": 4
}
