{
 "cells": [
  {
   "cell_type": "markdown",
   "metadata": {},
   "source": [
    "# Applied Machine Learning "
   ]
  },
  {
   "cell_type": "markdown",
   "metadata": {},
   "source": [
    "Dr. Arsanjani \n",
    "\n",
    "## NLP for NLU using Transformers"
   ]
  },
  {
   "cell_type": "markdown",
   "metadata": {},
   "source": [
    "#### This is the homework for Applied Machine Learning, Part 2, NLP for NLU.\n",
    "##### Week -3\n"
   ]
  },
  {
   "cell_type": "markdown",
   "metadata": {},
   "source": [
    "\n",
    "\n",
    "<div class=\"alert alert-info\" style=\"background-color:#5d3a8e; color:white; padding:0px 10px; border-radius:5px;\"><h2 style='margin:10px 5px'> Part 1: Summarization and Topics Modeling of Articles</h2>\n",
    "</div>\n",
    "\n",
    "\n",
    "1. Read large text:\n",
    "  -- Google search for a topic \n",
    "  -- get list of top ten articles\n",
    "2. extract into sentences ended with '.' [period]\n",
    "3. write to a text file\n",
    "4. read text file into list\n",
    "5. summarize text using transformers \n",
    "   \n",
    "   Find summaries -- see project details at end of notebook \n",
    "   \n",
    "   try and plot comparisons of 5 combinations/permutations of the list sequence created in step 4 above\n",
    "   to see the effects of chunking on the summarization\n",
    "6. Do 2 distillations on the original article and the summary:\n",
    "   topics, named entity recognition\n",
    "   \n",
    "   what are the top topics in each article? \n",
    "   what is the summary of each artcile?\n",
    "   what are the named entities in each article? [NER] use gensim or spacy for this"
   ]
  },
  {
   "cell_type": "markdown",
   "metadata": {},
   "source": [
    "Here , in the rest of the notebook is some sample code to get you started....\n",
    "<li> Note: below we are using static text, not text that is the result of a google search"
   ]
  },
  {
   "cell_type": "code",
   "execution_count": 4,
   "metadata": {},
   "outputs": [],
   "source": [
    "page1= \"https://nypost.com/2021/11/09/facebook-whistleblower-fears-the-metaverse/\"\n",
    "page2=\"https://apnews.com/article/the-facebook-papers-trump-george-floyd-hate-speech-violence-b0f6f26f3fdf889c090703cc2fa8dce0\"\n",
    "page3=\"https://apnews.com/article/facebook-science-technology-business-congress-frances-haugen-80e92043b7211590b6be84dcc7a05b4a\"\n",
    "page4=\"https://apnews.com/article/facebook-haugen-congress-testimony-1daac7a76ca7bf0b0802cc46e732b51b\"\n",
    "page5=\"https://apnews.com/article/facebook-meta-mark-zuckerberg-technology-business-5ad543ab7780caae435935f0aca9fac6\"\n",
    "\n",
    "\n",
    "\n",
    "output_file1 = \"fb-meta\"\n",
    "output_file2 = \"fb-bad-for-us\"\n",
    "output_file3 = \"fb-unfriended\"\n",
    "output_file4=\"Ex-Facebook manager criticizes company, urges more oversight\"\n",
    "output_file5=\"In the middle of a crisis, Facebook Inc. renames itself Meta\"\n",
    "\n",
    "pages = [page1,page2,page3,page4,page5]\n",
    "output_files =[output_file1,output_file2,output_file3,output_file4,output_file5]\n",
    "\n",
    "from bs4 import BeautifulSoup\n",
    "from bs4.element import Comment\n",
    "import urllib.request\n",
    "import nltk\n",
    "\n",
    "# https://www.nltk.org/book/ch05.html"
   ]
  },
  {
   "cell_type": "code",
   "execution_count": 5,
   "metadata": {
    "scrolled": true
   },
   "outputs": [
    {
     "name": "stderr",
     "output_type": "stream",
     "text": [
      "[nltk_data] Downloading package punkt to /Users/arsanjan/nltk_data...\n",
      "[nltk_data]   Package punkt is already up-to-date!\n"
     ]
    },
    {
     "name": "stdout",
     "output_type": "stream",
     "text": [
      "                                                                                                                                   Primary Menu       Sections       Search     Search       Skip to search results   News  Metro  Page Six  Sports  Post Sports+  Business  Opinion  Entertainment  Fashion  Shopping  Living  Media  Tech  Real Estate  Video  Photos  Visual Stories  Sub Menu 1   Covers  Columnists  Horoscopes  Sports Odds  Podcasts  Careers    Sub menu 2   Email Newsletters  Official Store  Home Delivery  Tips        Search     Email       New York Post           November 16, 2021      Search       Search        Recommended  Skip recommended stories carousel and go to main content.                                                                       Previous     Next                                                       Tech     Facebook Twitter    Flipboard   WhatsApp Email Copy    Facebook whistleblower fears the metaverse   By  Associated Press                              Thanks for contacting us. We've received your submission.  Back to Reading        November 9, 2021  2:59pm   Updated   November 9, 2021  2:59pm              Facebook whistleblower Frances Haugen speaks during an interview with The Associated Press in Brussels, Tuesday, Nov. 9, 2021. AP          More On:  facebook       Iceland mocks Mark Zuckerberg’s metaverse ambitions in new tourism ad      Facebook’s not the problem and other commentary      Editing Facebook settings can reveal which friends secretly fancy you      76 percent of Americans think Facebook makes society worse: poll         BRUSSELS  — Facebook whistleblower Frances Haugen warned Tuesday that the “metaverse,” the all-encompassing virtual reality world at the heart of the social media giant’s growth strategy , will be addictive and rob people of yet more personal information while giving the embattled company another monopoly online.  In an interview with The Associated Press, Haugen said her former employer rushed to trumpet the metaverse recently because of the intense pressure it is facing after she revealed deep-seated problems at the company, in disclosures that have energized legislative and regulatory efforts around the world to crack down on Big Tech.  “If you don’t like the conversation, you try to change the conversation,” the former product-manager-turned-whistleblower said. The documents she has turned over to authorities and her testimony to lawmakers have drawn global attention for providing insight into what Facebook may have known about the damage its social media platforms can cause. She is in the midst of a series of appearances before European lawmakers and regulators who are drawing up rules for social media companies     Meta, the new name for the parent company of Facebook, denied it was trying to divert attention away from the troubles it faces by pushing the metaverse. “This is not true. We have been working on this for a long time internally,” the company said in a statement.  It stressed that it’s working to responsibly build the metaverse — essentially a series of interconnected virtual communities that will merge online life with real life. CEO Mark Zuckerberg has said that users will, for example, be able to attend virtual concerts or fence with holograms of Olympic athletes in the metaverse — and he refocused the entire company on creating it, including renaming the business Meta.  Launching that new brand, in fact, draws attention to the company, it said in a statement, adding that if it didn’t want the scrutiny it would have delayed or scrapped the launch altogether.  But the new focus on the metaverse creates a whole new set of dangers, Haugen said. In “Snow Crash,” the 1992 sci-fi novel that coined the phrase, “it was a thing that people used to numb themselves when their lives were horrible,” she said.  Facebook whistleblower Frances Haugen speaks during an interview with The Associated Press in Brussels, Tuesday, Nov. 9, 2021. AP  “So beyond the fact that these immersive environments are extremely addictive and they encourage people to unplug from the reality we actually live,” she said, “I’m also worried about it on the level of — the metaverse will require us to put many, many more sensors in our homes and our workplaces,” forcing users to relinquish more of their data and their privacy.  In a presentation last month, Zuckerberg described how the metaverse would allow for mixed-reality business meetings where some participants are physically present while others beam in as avatars. The company has launched virtual meeting software called Horizon Workrooms for use with its virtual reality headsets, so co-workers can (hopefully) better communicate, brainstorm and socialize virtually, instead of, say, looking at one another on a Zoom call grid.  But Haugen said employees of companies that use the metaverse would have little option but to participate in the system or leave their jobs.  “If your employer decides they’re now a metaverse company, you have to give out way more personal data to a company that’s demonstrated that it lies whenever it is in its best interests,” she said.  Facebook whistleblower Frances Haugen speaks during an interview with The Associated Press in Brussels, Tuesday, Nov. 9, 2021. AP  And she cautioned the public not to expect more transparency.  “They’ve demonstrated with regard to Facebook that they can hide behind a wall. They keep making unforced errors, they keep making things that prioritize their own profits over our safety,” she said.  Haugen has said Facebook’s systems amplify online hate and extremism , fail to protect young people from harmful content, and that the company lacks any incentive to fix the problems , in revelations that shed light on an internal crisis at the company that provides free services to 3 billion people.  To back up her allegations, she has made a series of disclosures to the Securities and Exchange Commission that were also provided to Congress in redacted form by her legal team. The redacted versions received by Congress were obtained by a consortium of news organizations , including the AP.  In Tuesday’s interview, she expressed astonishment that the company would shift focus to a whole new realm while it is under such intense criticism about the areas where it is already working.  Facebook whistleblower Frances Haugen speaks during an interview with The Associated Press in Brussels, Tuesday, Nov. 9, 2021. AP  “They’re going to hire 10,000 engineers to work on video games when they haven’t actually gotten safety right on their main product,” Haugen said.  For that, she faulted Zuckerberg personally, saying he has exhibited a pattern of prioritizing growth over making sure Facebook is good for users.  “I think that is a failure of leadership,” she said. “Unless he wants to prioritize the safety of the platform, he should step aside and let someone else focus on that.”  The company denied that it’s putting profits over safety. “Yes, we’re a business and we make profit, but the idea that we do so at the expense of people’s safety or well-being misunderstands where our own commercial interests lie,” it said, adding that it plans to spend more than $5 billion in 2021 on safety and security and employs more than 40,000 people who work on keeping users safe.  Zuckerberg has previously dismissed Haugen’s claims as a “coordinated effort” to paint a false picture of the company.  Facebook whistleblower Frances Haugen speaks during an interview with The Associated Press in Brussels, Tuesday, Nov. 9, 2021. AP  But officials in Washington and European capitals are taking her claims seriously. European Union lawmakers questioned her intensely Monday, before applauding her at the end of the 2 1/2 hour hearing.  The EU is drafting new digital rules for the 27-nation bloc that call for reining in big “digital gatekeepers,” requiring them to be more transparent about algorithms that determine what people see on their feeds and making them more accountable for the content on their platforms.  Facebook has said it largely supports regulations, with legislative efforts in the EU and United Kingdom much further along than those in the U.S. New rules could squeeze advertising revenue, but Meta’s stock price appears to have so far weathered the recent storm.  Haugen has made stops in London and Berlin to speak to officials and lawmakers and spoke at a tech conference in Lisbon. She also will address French lawmakers in Paris on Wednesday.      Share this article:   Facebook Twitter    Flipboard   WhatsApp Email Copy         Filed under    addiction    cybersecurity    facebook    virtual reality    11/9/21        Read Next   Secret Google codes that you can type right now to unlock ...                          Trending Now on NYPost.com          This story has been shared 853,877 times.  853,877       Mike Tyson 'died' while tripping on psychedelic toad venom            This story has been shared 107,230 times.  107,230       Jets QB loses it over 'stunning' girlfriend's Instagram post            This story has been shared 91,162 times.  91,162       Kamala Harris is a very weird person                              Now on  Page Six              ‘Squid Game’ fans mad at Chrissy Teigen’s theme party: ‘So beyond tone-deaf’      RZA will release a ‘Bobby Digital’ graphic novel with musical component      ‘RHUGT’: Teresa Giudice claims Melissa Gorga begged Andy Cohen to be a ‘Housewife’      See All                     Video              Parasailing fail! Couple sent flying after rope snaps        Now on Decider                 ‘Nocturnal Animals’ Explodes On TikTok As Shocked Users React to Opening Nude Scene      See All       What to shop         Get the Our Place Always Pan and Perfect Pot bundle before Black Friday         The 15 best winter coats for women to keep you warm in 2021         35 luxury gifts for men worth splurging on this Christmas         The 17 best Thanksgiving gift basket ideas to show gratitude         30 magical Harry Potter gift ideas to stupefy your favorite fan                                               Share This Article        Share Selection      Share selection to Facebook      Share selection to Twitter             More Stories       Page Six      Furious Britney is refusing to see her mom Lynne                 NYPost      Mike Tyson 'died' while tripping on psychedelic toad venom                    Facebook      Twitter      Instagram      LinkedIn      Email      YouTube          Sections & Features   News  Metro  Sports  Business  Opinion  Entertainment  Fashion  Shopping  Living  Media  Tech  Real Estate  Video  Photos  Visual Stories  Alexa  Covers  Horoscopes  Sports Odds  Podcasts  Columnists  Classifieds    Post Sports+   Subscribe  Articles  Manage    Newsletters & Feeds   Email Newsletters  RSS Feeds  NY Post Official Store  Home Delivery   Subscribe  Manage Subscription    Delivery Help    Help/Support   About New York Post  Customer Service  App FAQ & Help  Community Guidelines  Contact Us   Tips  Newsroom  Letters to the Editor  Reprints  Careers      Apps   iPhone App  iPad App  Android Phone  Android Tablet  Advertise   Media Kit  Contact          © 2021 NYP Holdings, Inc. All Rights Reserved  Terms of Use  Membership Terms  Privacy Notice  Your Ad Choices  Sitemap  Your California Privacy Rights   Do Not Sell My Personal Information                        Send to Email Address   Your Name   Your Email Address       Cancel  Post was not sent - check your email addresses!  Email check failed, please try again  Sorry, your blog cannot share posts by email.        Share Link      click to copy                                            \n",
      "AP NEWS Sections U.S. News World News Politics Sports Entertainment Oddities Lifestyle Health Science Business Technology Photography Religion Travel Press Releases Science Technology Business U.S. News World News Politics Entertainment Sports Oddities Lifestyle Health Photography Videos AP RADIO Update hourly Sections U.S. News World News Politics Sports Entertainment Oddities Lifestyle Health Science Business Technology Photography Religion Travel Press Releases Trending News Climate Coronavirus pandemic Kyle Rittenhouse Ahmaud Arbery Search America 'on fire': Facebook watched as Trump ignited hate By AMANDA SEITZ October 28, 2021 GMT https://apnews.com/article/the-facebook-papers-trump-george-floyd-hate-speech-violence-b0f6f26f3fdf889c090703cc2fa8dce0 COLUMBUS, Ohio (AP) — The reports of hateful and violent posts on Facebook started pouring in on the night of May 28 last year, soon after then-President Donald Trump sent a warning on social media that looters in Minneapolis would be shot. It had been three days since Minneapolis police officer Derek Chauvin kneeled on the neck of George Floyd for more than eight minutes until the 46-year-old Black man lost consciousness, showing no signs of life. A video taken by a bystander had been viewed millions of times online. Protests had taken over Minnesota’s largest city and would soon spread throughout cities across America. But it wasn’t until after Trump posted about Floyd’s death that the reports of violence and hate speech increased “rapidly” on Facebook across the country, an internal company analysis of the ex-president’s social media post reveals . “These THUGS are dishonoring the memory of George Floyd and I won’t let that happen,” Trump wrote at 9:53 a.m. on May 28 from his Twitter and Facebook accounts. “Any difficulty and we will assume control but, when the looting starts the shooting starts!” The former president has since been suspended from both Twitter and Facebook. Leaked Facebook documents provide a first-hand look at how Trump’s social media posts ignited more anger in an already deeply divided country that was eventually lit “on fire” with reports of hate speech and violence across the platform. Facebook’s own internal, automated controls, meant to catch posts that violate rules, predicted with almost 90% certainty that Trump’s message broke the tech company’s rules against inciting violence. Yet, the tech giant didn’t take any action on Trump’s message. Offline, the next day, protests — some of which turned violent — engulfed nearly every U.S. city, big and small. “When people look back at the role Facebook played, they won’t say Facebook caused it, but Facebook was certainly the megaphone,” said Lanier Holt, a communications professor at Ohio State University. “I don’t think there’s any way they can get out of saying that they exacerbated the situation.” Social media rival Twitter, meanwhile, responded quickly at the time by covering Trump’s tweet with a warning and prohibiting users from sharing it any further. ADVERTISEMENT Facebook’s internal discussions were revealed in disclosures made to the Securities and Exchange Commission and provided to Congress in redacted form by former Facebook employee-turned-whistleblower Frances Haugen’s legal counsel. The redacted versions received by Congress were obtained by a consortium of news organizations , including The Associated Press. The Wall Street Journal previously reported that Trump was one of many high-profile users, including politicians and celebrities, exempted from some or all of the company’s normal enforcement policies. Hate speech and violence reports had been mostly limited to the Minneapolis region after Floyd’s death, the documents reveal. “However, after Trump’s post on May 28, situations really escalated across the country,” according to the memo, published on June 5 of last year. The internal analysis shows a five-fold increase in violence reports on Facebook, while complaints of hate speech tripled in the days following Trump’s post. Reports of false news on the platform doubled. Reshares of Trump’s message generated a “substantial amount of hateful and violent comments,” many of which Facebook worked to remove. Some of those comments included calls to “start shooting these thugs” and “f—- the white.” By June 2, “we can see clearly that the entire country was basically ‘on fire,’” a Facebook employee wrote of the increase in hate speech and violence reports in the June 5 memo. Facebook says it’s impossible to separate how many of the hate speech reports were driven by Trump’s post itself or the controversy over Floyd’s death. “This spike in user reports resulted from a critical moment in history for the racial justice movement — not from a single Donald Trump post about it,” a Facebook spokesperson said in a statement. “Facebook often reflects what’s happening in society and the only way to prevent spikes in user reports during these moments is to not allow them to be discussed on our platform at all, which is something we would never do.” But the internal findings also raise questions about public statements Facebook CEO Mark Zuckerberg made last year as he defended his decision to leave Trump’s post untouched. On May 29, for example, Zuckerberg said the company looked closely to see if Trump’s words broke any of its policies and concluded that they did not. Zuckerberg also said he left the post up because it warned people of Trump’s plan to deploy troops. “I know many people are upset that we’ve left the President’s posts up, but our position is that we should enable as much expression as possible unless it will cause imminent risk of specific harms or dangers spelled out in clear policies,” Zuckerberg wrote on his Facebook account the night of May 29, as protests erupted around the country. Yet, Facebook’s own automated enforcement controls determined the post likely did break the rules. “Our violence and incitement classifier was almost 90% certain that this (Trump) post violated Facebook’s ... policy,” the June 5 analysis reads. That contradicts conversations Zuckerberg had with civil rights leaders last year to quell concerns that Trump’s post was a specific threat to Black people protesting Floyd’s death, said Rashad Robinson, the president of Color of Change, a civil rights advocacy group. The group also spearheaded a boycott of Facebook in the weeks following Trump’s post. “To be clear, I had a direct argument with Zuckerberg days after that post where he gaslit me and he specifically pushed back on any notion that this violated their rules,” Robinson said in an interview with the AP last week. A Facebook spokesperson said that its internal controls do not always correctly predict when a post has violated rules and that human review, which was done in the case of Trump’s post, is more accurate. To curb the ex-president’s ability to stoke hateful reactions on its platform, Facebook employees suggested last year that the company limit reshares on similar posts that may violate Facebook’s rules in the future. But Trump continued to use his Facebook account, which more than 32 million follow, to fire up his supporters throughout much of the remainder of his presidency. In the days leading up to a deadly siege in Washington on Jan. 6, Trump regularly promoted false claims that widespread voter fraud caused him to lose the White House, spurring hundreds of his fans to storm the U.S. Capitol and demand the results of a fair election be overturned. ADVERTISEMENT It wasn’t until after the Capitol riot, and as Trump was on his way out of the White House, that Facebook pulled him off the platform in January, announcing his account would be suspended until at least 2023. There’s a reason Facebook waited so long to take any action, said Jennifer Mercieca, a professor at Texas A&M University who closely studied the former president’s rhetoric. “Facebook really benefited from Trump and Trump’s ability to draw attention and engagement through outrage,” Mercieca said. “They wanted Trump to keep going on.” ___ This story has been updated to correct the spelling of the first name of the Ohio State University professor to Lanier. ___ See full coverage of the “The Facebook Papers” here: https://apnews.com/hub/the-facebook-papers AP NEWS Top Stories Video Contact Us Cookie Settings Download AP NEWS Connect with the definitive source for global and local news More from AP ap.org AP Insights AP Definitive Source Blog AP Images Spotlight AP Explore AP Books Follow AP The Associated Press About Contact Customer Support Careers Terms & Conditions Privacy All contents © copyright 2021 The Associated Press. All rights reserved.        \n",
      "AP NEWS Sections U.S. News World News Politics Sports Entertainment Oddities Lifestyle Health Science Business Technology Photography Religion Travel Press Releases Science Technology Business U.S. News World News Politics Entertainment Sports Oddities Lifestyle Health Photography Videos AP RADIO Update hourly Sections U.S. News World News Politics Sports Entertainment Oddities Lifestyle Health Science Business Technology Photography Religion Travel Press Releases Trending News Climate Coronavirus pandemic Kyle Rittenhouse Ahmaud Arbery Search How one Facebook worker unfriended the giant social network By ADAM GELLER and MATT O'BRIEN October 10, 2021 GMT https://apnews.com/article/facebook-science-technology-business-congress-frances-haugen-80e92043b7211590b6be84dcc7a05b4a Less than two years after Facebook hired Frances Haugen to help correct dangerous distortions spilling across its platform, she had seen enough. The idealism she and countless others had invested in promises by the world’s biggest social network to fix itself had been woefully misplaced. The harm Facebook and sibling Instagram were doing to users was rivaled only by the company’s resistance to change, she concluded. And the world beyond Facebook needed to know. When the 37-year-old data scientist went before Congress and the cameras last week to accuse Facebook of pursuing profit over safety , it was likely the most consequential choice of her life. And for a still-young industry that has mushroomed into one of society’s most powerful forces, it spotlighted a rising threat: The era of the Big Tech whistleblower has most definitely arrived. “There has just been a general awakening amongst workers at the tech companies asking, `What am I doing here?’” said Jonas Kron of Trillium Investment Management, which has pushed Google to increase protection for employees who raise the alarm about corporate misdeeds. “When you have hundreds of thousands of people asking that question, it’s inevitable you’ll get more whistleblowing,” he said. Haugen is by far the most visible of those whistleblowers. And her accusations that Facebook’s platforms harm children and incite political violence -- backed up by thousands of pages of the company’s own research -- may well be the most damning. But she is just the latest to join in a growing list of workers from across tech determined to speak out. Nearly all are women, and observers say that’s no coincidence. Even after making inroads, women and especially women of color remain outsiders in the heavily male tech sector, said Ellen Pao, an executive who sued Silicon Valley investment firm Kleiner Perkins in 2012 for gender discrimination. That status positions them to be more critical and see “some of the systemic issues in a way that people who are part of the system and who are benefiting from it the most and who are entrenched in it, may not be able to process,” she said. In recent years, workers at companies including Google, Pinterest, Uber and Theranos, as well as others from Facebook, have sounded alarms about what they say are gross abuses of power by those in control. Their new outspokenness is ruffling an industry that touts its power to improve society, while earning billions. Workers, many well educated and highly paid, have long embraced that ethic. But for a growing number, faith in the company line is fading. Full Coverage:  The Facebook Papers Still, there is a difference between stewing about your company’s failings and revealing them to the world. There is a price to be paid, and Haugen certainly knew that. “It absolutely is terrifying, terrifying to get to the point of doing what she did. And you know that the moment you start your testimony, your life is going to change,” said Wendell Potter, a former health insurance executive who blew the whistle on his own industry’s practices. Since coming before Congress Tuesday, Haugen has receded from public view. A representative said she and her lawyer were unavailable for comment. The Iowa-born daughter of a doctor and an academic turned pastor, Haugen arrives in the spotlight with sparkling credentials, including a Harvard business degree and multiple patents. Long before she became a whistleblower, Haugen was something of a local wunderkind. Raised near the University of Iowa campus, where her father taught medicine, Haugen was a member of a high school engineering team ranked in the country’s top 10. Years later, when the local newspaper wrote about Haugen’s landing at Google, one of her elementary school teachers recalled her as “horrifically bright,” while not at all self-conscious. In the fall of 2002, she left for the newly established Olin College of Engineering, outside Boston, to join its first class of 75. Many had declined offers from top universities, attracted by Olin’s offer of a free education to the first arrivals, and the chance to join in creating something new, said Lynn Andrea Stein, a computer science professor. But the school couldn’t get its accreditation until it began producing graduates, making it a non-entity in the eyes of some employers and presenting a hurdle for Haugen and others like her. “The Google folks actually threw out her application without reading it,” Stein said. Stein helped persuade the company to change its mind, sending an email that described Haugen as a “voracious learner and an absolute can-do person” with terrific work ethic and communication and leadership skills. At Google, Haugen worked on a project to make thousands of books accessible on mobile phones, and another to help create a fledgling social network. Google paid for Haugen to get a graduate business degree at Harvard, where a classmate said even then they were having deep discussions about the societal effects of new technology. “Smartphones were just becoming a thing. We talked a lot of about ethical use of data and building things the wrong way,” said Jonathan Sheffi, who graduated with Haugen in 2011. “She was always super-interested in the intersection of people’s well-being and technology.” Sheffi said he laughed when he saw social media posts in recent days questioning Haugen’s motivations for whistleblowing. “Nobody puts Frances up to anything,” he said. While at Harvard, Haugen worked with another student to create an online dating platform to put like-minded mates together, a template the partner later turned into dating app Hinge. Haugen returned to Google, before moving on to jobs at Yelp and Pinterest, at each stop working with the algorithms engineered to understand the desires of users and put them together with people and content that fit their interests. In late 2018, she was contacted by a recruiter from Facebook. In recent interviews on “60 Minutes” and with the Wall Street Journal, Haugen recalled telling the company that she might be interested in a job if it involved helping the platform address democracy and misinformation. She said she told managers about a friend who had been drawn to white nationalism after spending time in online forums, and her desire to prevent that from happening to others. In June 2019, she joined a Facebook team that focused on network activity surrounding international elections. But she has said she grew frustrated as she became more aware of widespread misinformation online that stoked violence and abuse and that Facebook would not adequately address. She resigned in May, but only after working for weeks to sift through internal company research and copy thousands of documents. Still, she told congressional investigators, she is not out to destroy Facebook, just change it. “I believe in the potential of Facebook,” she said during her testimony last week. “We can have social media we enjoy, that connects us, without tearing apart our democracy, putting our children in danger, and sowing ethnic violence around the world. We can do better.” Maybe, but those who know the industry say Facebook and other tech giants will dig in. “There’s going to be a clamp down internally. There already has been,” said Ifeoma Ozoma, a whistleblower at Pinterest now trying to encourage others in tech to expose corporate misconduct. “In that way there’s a chilling effect through the increased surveillance that employees will be under.” Within the larger community of whistleblowers, many are rooting for Haugen, praising what they see as her gutsiness, calm intellect and the forethought to take the paperwork that reinforces her case. “What she did right was she got all her documentation in a row and she did that up front. ... That’s going to be her power,” said Eileen Foster, a former executive at Countrywide Financial who struggled to find another job in banking after exposing widespread fraud in the company’s approval of subprime loans in 2008. Sophie Zhang, a former Facebook employee who last year accused the social network of ignoring fake accounts used to undermine foreign elections , said she was surprised the company had not caught Haugen when she was going through company research. Fierce denials by its executives now betray their unwillingness to change. “I think they’ve fallen into a trap where they keep making denials and hunkering down and becoming more incendiary,” she said. “And this causes more people to come forward.” Still, Haugen’s actions could well make it impossible for her to land another job in the industry, said Foster. And if Facebook goes after her legally for taking documents, it will have the resources for battle that a lone employee can never hope to match. Foster recalls how her boss at Countrywide, an ally, begged her to give it up. “He said ‘Eileen what are you doing? You are just a speck. A speck!’ And I said, `Yeah, but I’m a pissed-off speck,’” Foster said. Years later, after enduring villainization by colleagues, rejections by employers and a lengthy court battle over her claims, she knows better. But she does not regret her choices. And she senses a similar conviction in Haugen, though their whistleblowing is separated by a generation. “I wish the best for Frances,” she said. ___ Associated Press reporters Barbara Ortutay in Oakland, California, and Marcy Gordon in Washington contributed to this story. AP NEWS Top Stories Video Contact Us Cookie Settings Download AP NEWS Connect with the definitive source for global and local news More from AP ap.org AP Insights AP Definitive Source Blog AP Images Spotlight AP Explore AP Books Follow AP The Associated Press About Contact Customer Support Careers Terms & Conditions Privacy All contents © copyright 2021 The Associated Press. All rights reserved.         \n",
      "AP NEWS Sections U.S. News World News Politics Sports Entertainment Oddities Lifestyle Health Science Business Technology Photography Religion Travel Press Releases Science Technology Business U.S. News World News Politics Entertainment Sports Oddities Lifestyle Health Photography Videos AP RADIO Update hourly Sections U.S. News World News Politics Sports Entertainment Oddities Lifestyle Health Science Business Technology Photography Religion Travel Press Releases Trending News Climate Coronavirus pandemic Kyle Rittenhouse Ahmaud Arbery Search ADVERTISEMENT https://apnews.com/article/facebook-haugen-congress-testimony-1daac7a76ca7bf0b0802cc46e732b51b Click to copy https://apnews.com/article/facebook-haugen-congress-testimony-1daac7a76ca7bf0b0802cc46e732b51b Click to copy Related topics Facebook Science Politics Technology Business Health Facebook Inc Congress Misinformation U.S. News AP Top News Ex-Facebook manager criticizes company, urges more oversight By MARCY GORDON and BARBARA ORTUTAY October 6, 2021 GMT 1 of 9 Former Facebook employee Frances Haugen speaks during a hearing of the Senate Commerce, Science, and Transportation Subcommittee on Consumer Protection, Product Safety, and Data Security, on Capitol Hill, Tuesday, Oct. 5, 2021, in Washington. (AP Photo/Alex Brandon) 1 of 9 Former Facebook employee Frances Haugen speaks during a hearing of the Senate Commerce, Science, and Transportation Subcommittee on Consumer Protection, Product Safety, and Data Security, on Capitol Hill, Tuesday, Oct. 5, 2021, in Washington. (AP Photo/Alex Brandon) WASHINGTON (AP) — While accusing the giant social network of pursuing profits over safety, a former Facebook data scientist told Congress Tuesday she believes stricter government oversight could alleviate the dangers the company poses, from harming children to inciting political violence to fueling misinformation. Frances Haugen, testifying to the Senate Commerce Subcommittee on Consumer Protection, presented a wide-ranging condemnation of Facebook . She accused the company of failing to make changes to Instagram after internal research showed apparent harm to some teens and being dishonest in its public fight against hate and misinformation. Haugen’s accusations were buttressed by tens of thousands of pages of internal research documents she secretly copied before leaving her job in the company’s civic integrity unit. MORE ON FACEBOOK – Facebook, WhatsApp, Instagram suffer worldwide outage But she also offered thoughtful ideas about how Facebook’s social media platforms could be made safer. Haugen laid responsibility for the company’s profits-over-safety strategy right at the top, with CEO Mark Zuckerberg, but she also expressed empathy for Facebook’s dilemma. ADVERTISEMENT Haugen, who says she joined the company in 2019 because “Facebook has the potential to bring out the best in us,” said she didn’t leak internal documents to a newspaper and then come before Congress in order to destroy the company or call for its breakup, as many consumer advocates and lawmakers of both parties have called for. Haugen is a 37-year-old data expert from Iowa with a degree in computer engineering and a master’s degree in business from Harvard. Prior to being recruited by Facebook, she worked for 15 years at tech companies including Google, Pinterest and Yelp. “Facebook’s products harm children, stoke division and weaken our democracy,” Haugen said. “The company’s leadership knows how to make Facebook and Instagram safer but won’t make the necessary changes because they have put their astronomical profits before people.” “Congressional action is needed,” she said. “They won’t solve this crisis without your help.” In a note to Facebook employees Tuesday, Zuckerberg disputed Haugen’s portrayal of the company as one that puts profit over the well-being of its users, or that pushes divisive content. “At the most basic level, I think most of us just don’t recognize the false picture of the company that is being painted,” Zuckerberg wrote. He did, however, appear to agree with Haugen on the need for updated internet regulations, saying that would relieve private companies from having to make decisions on social issues on their own. “We’re committed to doing the best work we can, but at some level the right body to assess tradeoffs between social equities is our democratically elected Congress,” Zuckerberg wrote. ADVERTISEMENT Democrats and Republicans have shown a rare unity around the revelations of Facebook’s handling of potential risks to teens from Instagram, and bipartisan bills have proliferated to address social media and data-privacy problems. But getting legislation through Congress is a heavy slog. The Federal Trade Commission has taken a stricter stance toward Facebook and other tech giants in recent years. “Whenever you have Republicans and Democrats on the same page, you’re probably more likely to see something,” said Gautam Hans, a technology law and free speech expert at Vanderbilt University Haugen suggested, for example, that the minimum age for Facebook’s popular Instagram photo-sharing platform could be increased from the current 13 to 16 or 18. She also acknowledged the limitations of possible remedies. Facebook, like other social media companies, uses algorithms to rank and recommend content to users’ news feeds. When the ranking is based on engagement — likes, shares and comments — as it is now with Facebook, users can be vulnerable to manipulation and misinformation. Haugen would prefer the ranking to be chronological. But, she testified, “People will choose the more addictive option even if it is leading their daughters to eating disorders.” Haugen said a 2018 change to the content flow contributed to more divisiveness and ill will in a network ostensibly created to bring people closer together. Despite the enmity that the new algorithms were feeding, she said Facebook found that they helped keep people coming back — a pattern that helped the social media giant sell more of the digital ads that generate the vast majority of its revenue. Haugen said she believed Facebook didn’t set out to build a destructive platform. “I have a huge amount of empathy for Facebook,” she said. “These are really hard questions, and I think they feel a little trapped and isolated.” But “in the end, the buck stops with Mark,” Haugen said, referring to Zuckerberg, who controls more than 50% of Facebook’s voting shares. “There is no one currently holding Mark accountable but himself.” Haugen said she believed that Zuckerberg was familiar with some of the internal research showing concerns for potential negative impacts of Instagram. The subcommittee is examining Facebook’s use of information its own researchers compiled about Instagram. Those findings could indicate potential harm for some of its young users, especially girls, although Facebook publicly downplayed possible negative impacts. For some of the teens devoted to Facebook’s popular photo-sharing platform, the peer pressure generated by the visually focused Instagram led to mental health and body-image problems, and in some cases, eating disorders and suicidal thoughts, the research leaked by Haugen showed. One internal study cited 13.5% of teen girls saying Instagram makes thoughts of suicide worse and 17% of teen girls saying it makes eating disorders worse. She also has filed complaints with federal authorities alleging that Facebook’s own research shows that it amplifies hate, misinformation and political unrest, but that the company hides what it knows. After recent reports in The Wall Street Journal based on documents she leaked to the newspaper raised a public outcry, Haugen revealed her identity in a CBS “60 Minutes” interview aired Sunday night. As the public relations debacle over the Instagram research grew last week, Facebook put on hold its work on a kids’ version of Instagram, which the company says is meant mainly for tweens aged 10 to 12. Haugen said that Facebook prematurely turned off safeguards designed to thwart misinformation and incitement to violence after Joe Biden defeated Donald Trump in last year’s presidential election, alleging that doing so contributed to the deadly Jan. 6 assault on the U.S. Capitol. After the November election, Facebook dissolved the civic integrity unit where Haugen had been working. That was the moment, she said, when she realized that “I don’t trust that they’re willing to actually invest what needs to be invested to keep Facebook from being dangerous.” Haugen says she told Facebook executives when they recruited her that she wanted to work in an area of the company that fights misinformation, because she had lost a friend to online conspiracy theories. Facebook maintains that Haugen’s allegations are misleading and insists there is no evidence to support the premise that it is the primary cause of social polarization. “Today, a Senate Commerce subcommittee held a hearing with a former product manager at Facebook who worked for the company for less than two years, had no direct reports, never attended a decision-point meeting with (top) executives – and testified more than six times to not working on the subject matter in question. We don’t agree with her characterization of the many issues she testified about,” the company said in a statement. __ Associated Press writers Matt O’Brien in Providence, Rhode Island, and Amanda Seitz in Columbus, Ohio, contributed to this report. ___ Follow Marcy Gordon at https://twitter.com/mgordonap. AP NEWS Top Stories Video Contact Us Cookie Settings Download AP NEWS Connect with the definitive source for global and local news More from AP ap.org AP Insights AP Definitive Source Blog AP Images Spotlight AP Explore AP Books Follow AP The Associated Press About Contact Customer Support Careers Terms & Conditions Privacy All contents © copyright 2021 The Associated Press. All rights reserved.       \n",
      "AP NEWS Sections U.S. News World News Politics Sports Entertainment Oddities Lifestyle Health Science Business Technology Photography Religion Travel Press Releases Science Technology Business U.S. News World News Politics Entertainment Sports Oddities Lifestyle Health Photography Videos AP RADIO Update hourly Sections U.S. News World News Politics Sports Entertainment Oddities Lifestyle Health Science Business Technology Photography Religion Travel Press Releases Trending News Climate Coronavirus pandemic Kyle Rittenhouse Ahmaud Arbery Search ADVERTISEMENT https://apnews.com/article/facebook-meta-mark-zuckerberg-technology-business-5ad543ab7780caae435935f0aca9fac6 Click to copy https://apnews.com/article/facebook-meta-mark-zuckerberg-technology-business-5ad543ab7780caae435935f0aca9fac6 Click to copy Related topics Technology Business Media Mark Zuckerberg Trending News Facebook In the middle of a crisis, Facebook Inc. renames itself Meta By BARBARA ORTUTAY October 28, 2021 GMT 1 of 4 A Facebook employee take a selfie in front the company's new name and logo outside its headquarters in Menlo Park, Calif., Thursday, Oct. 28, 2021, after announcing that it is changing its name to Meta Platforms Inc. (AP Photo/Tony Avelar) 1 of 4 A Facebook employee take a selfie in front the company's new name and logo outside its headquarters in Menlo Park, Calif., Thursday, Oct. 28, 2021, after announcing that it is changing its name to Meta Platforms Inc. (AP Photo/Tony Avelar) OAKLAND, Calif. (AP) — Like many companies in trouble before it, Facebook is changing its name and logo. Facebook Inc. is now called Meta Platforms Inc., or Meta for short, to reflect what CEO Mark Zuckerberg said Thursday is its commitment to developing the new surround-yourself technology known as the “ metaverse .” But the social network itself will still be called Facebook. Also unchanged, at least for now, are its chief executive and senior leadership, its corporate structure and the crisis that has enveloped the company. Skeptics immediately accused the company of trying to change the subject from the Facebook Papers, the trove of leaked documents that have plunged it into the biggest crisis since it was founded in Zuckerberg’s Harvard dorm room 17 years ago. The documents portray Facebook as putting profits ahead of ridding its platform of hate, political strife and misinformation around the world. The move reminded marketing consultant Laura Ries of when energy company BP rebranded itself to “Beyond Petroleum” to escape criticism that the oil giant harmed the environment. “Facebook is the world’s social media platform, and they are being accused of creating something that is harmful to people and society,” she said. “They can’t walk away from the social network with a new corporate name and talk of a future metaverse.” Facebook the app is not changing its name. Nor are Instagram, WhatsApp and Messenger. The company’s corporate structure also won’t change. But on Dec. 1, its stock will start trading under a new ticker symbol, MVRS. The metaverse is sort of the internet brought to life, or at least rendered in 3D. Zuckerberg has described it as a “virtual environment” you can go inside of, instead of just looking at on a screen. People can meet, work and play, using virtual reality headsets, augmented reality glasses, smartphone apps or other devices. It also will incorporate other aspects of online life such as shopping and social media, according to Victoria Petrock, an analyst who follows emerging technologies. Zuckerberg’s foray into virtual reality has drawn some comparisons to fellow tech billionaires’ outer space adventures and jokes that perhaps it’s understandable he would want to escape his current reality amid calls for his resignation and increasing scrutiny of the company. On Monday, Zuckerberg announced a new segment for Facebook that will begin reporting its financial results separately from the company’s Family of Apps segment starting in the final quarter of this year. The entity, Reality Labs, will reduce Facebook’s overall operating profit by about $10 billion this year, the company said. Other tech companies such as Microsoft, chipmaker Nvidia and Fortnite maker Epic Games have all been outlining their own visions of how the metaverse will work. Zuckerberg said that he expects the metaverse to reach a billion people within the next decade and that he hopes the new technology will creates millions of jobs for creators. The announcement comes amid heightened legislative and regulatory scrutiny of Facebook in many parts of the world because of the Facebook Papers. A corporate rebranding isn’t likely to solve the myriad problems revealed by the internal documents or quiet the alarms that critics have been raising for years about the harm the company’s products are causing to society. Zuckerberg, for his part, has largely dismissed the furor triggered by the Facebook Papers as unfair. In an interesting twist, the Chan Zuckerberg Initiative, the philanthropic organization run by Zuckerberg and his wife, Priscilla Chan, bought a Canadian scientific literature analysis company called Meta in 2017. By Thursday afternoon, though, its website Meta.org announced that it will “sunset” at the end of March. The Meta.com domain, meanwhile, redirected to the former Facebook’s rebranded corporate site. At headquarters in Menlo Park, California, the iconic thumbs up sign that has long been outside was repainted to a blue, pretzel-shape logo resembling an infinity symbol. Some of Facebook’s biggest critics seemed unimpressed by the name change. The Real Facebook Oversight Board, a watchdog group focused on the company, announced that it will keep its name. “Changing their name doesn’t change reality: Facebook is destroying our democracy and is the world’s leading peddler of disinformation and hate,” the group said in a statement. “Their meaningless name change should not distract from the investigation, regulation and real, independent oversight needed to hold Facebook accountable.” In explaining the rebrand, Zuckerberg said the name Facebook no longer encompasses everything the company does. In addition to the social network, that now includes Instagram, Messenger, its Quest VR headset, its Horizon VR platform and more. Technology Twitter rolls out redesigned misinformation warning labels Amazon settles California COVID workers notification dispute Ohio retirement fund sues Facebook over investment loss UK orders national security review of NVIDIA deal to buy Arm “Today we are seen as a social media company,” Zuckerberg said. “But in our DNA we are a company that builds technology to connect people.” ___ Associated Press writers Mae Anderson and Tali Arbel in New York and Matt O’Brien in Providence, R.I., contributed to this report. AP NEWS Top Stories Video Contact Us Cookie Settings Download AP NEWS Connect with the definitive source for global and local news More from AP ap.org AP Insights AP Definitive Source Blog AP Images Spotlight AP Explore AP Books Follow AP The Associated Press About Contact Customer Support Careers Terms & Conditions Privacy All contents © copyright 2021 The Associated Press. All rights reserved.        \n"
     ]
    }
   ],
   "source": [
    "\n",
    "\n",
    "nltk.download('punkt')\n",
    "\n",
    "\n",
    "def tag_visible(element):\n",
    "    if element.parent.name in ['style', 'script', 'head', 'title', 'meta', '[document]']:\n",
    "        return False\n",
    "    if isinstance(element, Comment):\n",
    "        return False\n",
    "    return True\n",
    "\n",
    "\n",
    "def text_from_html(body):\n",
    "    soup = BeautifulSoup(body, 'html.parser')\n",
    "    texts = soup.findAll(text=True)\n",
    "    visible_texts = filter(tag_visible, texts)  \n",
    "    return u\" \".join(t.strip() for t in visible_texts)\n",
    "\n",
    "for x in range(len(pages)):\n",
    "\n",
    "    html = urllib.request.urlopen(pages[x]).read()\n",
    "    page_text =text_from_html(html)\n",
    "\n",
    "    my_list = nltk.tokenize.sent_tokenize(page_text) #Split into list of sentences.\n",
    " \n",
    "    textfile = open(output_files[x], \"w\")\n",
    "\n",
    "    for element in my_list:\n",
    "        textfile.write(element + \"\\n\")\n",
    "    textfile.close()\n",
    "\n",
    "    print(page_text)"
   ]
  },
  {
   "cell_type": "markdown",
   "metadata": {},
   "source": [
    "### You can use the module below to read all the files in a folder"
   ]
  },
  {
   "cell_type": "code",
   "execution_count": 6,
   "metadata": {},
   "outputs": [
    {
     "data": {
      "text/plain": [
       "'\\n\\n\\n# Import Module\\nimport os\\n\\n# Folder Path\\npath = \"Folder Path\"\\n\\n# Change the directory\\nos.chdir(path)\\n\\n# Read text File\\n\\n\\ndef read_text_file(file_path):\\n\\twith open(file_path, \\'r\\') as f:\\n\\t\\tprint(f.read())\\n\\n\\n# iterate through all file\\nfor file in os.listdir():\\n\\t# Check whether file is in text format or not\\n\\tif file.endswith(\".txt\"):\\n\\t\\tfile_path = f\"{path}\\\\{file}\"\\n\\n\\t\\t# call read text file function\\n\\t\\tread_text_file(file_path)\\n        \\n'"
      ]
     },
     "execution_count": 6,
     "metadata": {},
     "output_type": "execute_result"
    }
   ],
   "source": [
    "'''\n",
    "\n",
    "\n",
    "# Import Module\n",
    "import os\n",
    "\n",
    "# Folder Path\n",
    "path = \"Folder Path\"\n",
    "\n",
    "# Change the directory\n",
    "os.chdir(path)\n",
    "\n",
    "# Read text File\n",
    "\n",
    "\n",
    "def read_text_file(file_path):\n",
    "\twith open(file_path, 'r') as f:\n",
    "\t\tprint(f.read())\n",
    "\n",
    "\n",
    "# iterate through all file\n",
    "for file in os.listdir():\n",
    "\t# Check whether file is in text format or not\n",
    "\tif file.endswith(\".txt\"):\n",
    "\t\tfile_path = f\"{path}\\{file}\"\n",
    "\n",
    "\t\t# call read text file function\n",
    "\t\tread_text_file(file_path)\n",
    "        \n",
    "'''\n"
   ]
  },
  {
   "cell_type": "markdown",
   "metadata": {},
   "source": [
    "## Next section adapted from source/reference [2] (see at end of notebook)"
   ]
  },
  {
   "cell_type": "code",
   "execution_count": 7,
   "metadata": {
    "scrolled": true
   },
   "outputs": [
    {
     "name": "stdout",
     "output_type": "stream",
     "text": [
      "Requirement already satisfied: transformers in /Users/arsanjan/opt/anaconda3/lib/python3.8/site-packages (4.3.2)\n",
      "Requirement already satisfied: sacremoses in /Users/arsanjan/opt/anaconda3/lib/python3.8/site-packages (from transformers) (0.0.13)\n",
      "Requirement already satisfied: tokenizers<0.11,>=0.10.1 in /Users/arsanjan/opt/anaconda3/lib/python3.8/site-packages (from transformers) (0.10.1)\n",
      "Requirement already satisfied: tqdm>=4.27 in /Users/arsanjan/opt/anaconda3/lib/python3.8/site-packages (from transformers) (4.50.2)\n",
      "Requirement already satisfied: regex!=2019.12.17 in /Users/arsanjan/opt/anaconda3/lib/python3.8/site-packages (from transformers) (2019.8.19)\n",
      "Requirement already satisfied: packaging in /Users/arsanjan/opt/anaconda3/lib/python3.8/site-packages (from transformers) (21.2)\n",
      "Requirement already satisfied: filelock in /Users/arsanjan/opt/anaconda3/lib/python3.8/site-packages (from transformers) (3.0.12)\n",
      "Requirement already satisfied: numpy>=1.17 in /Users/arsanjan/opt/anaconda3/lib/python3.8/site-packages (from transformers) (1.20.3)\n",
      "Requirement already satisfied: requests in /Users/arsanjan/opt/anaconda3/lib/python3.8/site-packages (from transformers) (2.25.1)\n",
      "Requirement already satisfied: pyparsing<3,>=2.0.2 in /Users/arsanjan/opt/anaconda3/lib/python3.8/site-packages (from packaging->transformers) (2.4.7)\n",
      "Requirement already satisfied: idna<3,>=2.5 in /Users/arsanjan/opt/anaconda3/lib/python3.8/site-packages (from requests->transformers) (2.10)\n",
      "Requirement already satisfied: certifi>=2017.4.17 in /Users/arsanjan/opt/anaconda3/lib/python3.8/site-packages (from requests->transformers) (2020.6.20)\n",
      "Requirement already satisfied: urllib3<1.27,>=1.21.1 in /Users/arsanjan/opt/anaconda3/lib/python3.8/site-packages (from requests->transformers) (1.25.11)\n",
      "Requirement already satisfied: chardet<5,>=3.0.2 in /Users/arsanjan/opt/anaconda3/lib/python3.8/site-packages (from requests->transformers) (3.0.4)\n",
      "Requirement already satisfied: six in /Users/arsanjan/opt/anaconda3/lib/python3.8/site-packages (from sacremoses->transformers) (1.15.0)\n",
      "Requirement already satisfied: joblib in /Users/arsanjan/opt/anaconda3/lib/python3.8/site-packages (from sacremoses->transformers) (0.17.0)\n",
      "Requirement already satisfied: click in /Users/arsanjan/opt/anaconda3/lib/python3.8/site-packages (from sacremoses->transformers) (7.1.2)\n",
      "\u001b[33mWARNING: You are using pip version 21.0.1; however, version 21.3.1 is available.\n",
      "You should consider upgrading via the '/Users/arsanjan/opt/anaconda3/bin/python -m pip install --upgrade pip' command.\u001b[0m\n"
     ]
    }
   ],
   "source": [
    "!pip install transformers"
   ]
  },
  {
   "cell_type": "code",
   "execution_count": 8,
   "metadata": {},
   "outputs": [],
   "source": [
    "from transformers import pipeline\n",
    "import os"
   ]
  },
  {
   "cell_type": "code",
   "execution_count": 9,
   "metadata": {},
   "outputs": [],
   "source": [
    "os.environ[\"CUDA_VISIBLE_DEVICES\"] = \"0\""
   ]
  },
  {
   "cell_type": "code",
   "execution_count": 10,
   "metadata": {},
   "outputs": [],
   "source": [
    "summarizer = pipeline(\"summarization\")"
   ]
  },
  {
   "cell_type": "code",
   "execution_count": 11,
   "metadata": {},
   "outputs": [
    {
     "name": "stderr",
     "output_type": "stream",
     "text": [
      "All model checkpoint layers were used when initializing TFT5ForConditionalGeneration.\n",
      "\n",
      "All the layers of TFT5ForConditionalGeneration were initialized from the model checkpoint at t5-base.\n",
      "If your task is similar to the task the model of the checkpoint was trained on, you can already use TFT5ForConditionalGeneration for predictions without further training.\n"
     ]
    }
   ],
   "source": [
    "summarizer = pipeline(\"summarization\", model=\"t5-base\", tokenizer=\"t5-base\", framework=\"tf\")\n",
    "# see https://huggingface.co/t5-base"
   ]
  },
  {
   "cell_type": "code",
   "execution_count": 12,
   "metadata": {},
   "outputs": [],
   "source": [
    "with open('Ex-Facebook manager criticizes company, urges more oversight', 'r') as file:\n",
    "    data = file.read().replace('\\n', '')"
   ]
  },
  {
   "cell_type": "code",
   "execution_count": 13,
   "metadata": {},
   "outputs": [],
   "source": [
    "def remove_quotes(mydata):\n",
    "    new_data = mydata.strip('“”')\n",
    "    return new_data\n",
    "text = remove_quotes(data)"
   ]
  },
  {
   "cell_type": "code",
   "execution_count": 14,
   "metadata": {
    "scrolled": true
   },
   "outputs": [
    {
     "name": "stdout",
     "output_type": "stream",
     "text": [
      "AP NEWS Sections U.S. News World News Politics Sports Entertainment Oddities Lifestyle Health Science Business Technology Photography Religion Travel Press Releases Science Technology Business U.S. News World News Politics Entertainment Sports Oddities Lifestyle Health Photography Videos AP RADIO Update hourly Sections U.S. News World News Politics Sports Entertainment Oddities Lifestyle Health Science Business Technology Photography Religion Travel Press Releases Trending News Climate Coronavirus pandemic Kyle Rittenhouse Ahmaud Arbery Search ADVERTISEMENT https://apnews.com/article/facebook-haugen-congress-testimony-1daac7a76ca7bf0b0802cc46e732b51b Click to copy https://apnews.com/article/facebook-haugen-congress-testimony-1daac7a76ca7bf0b0802cc46e732b51b Click to copy Related topics Facebook Science Politics Technology Business Health Facebook Inc Congress Misinformation U.S. News AP Top News Ex-Facebook manager criticizes company, urges more oversight By MARCY GORDON and BARBARA ORTUTAY October 6, 2021 GMT 1 of 9 Former Facebook employee Frances Haugen speaks during a hearing of the Senate Commerce, Science, and Transportation Subcommittee on Consumer Protection, Product Safety, and Data Security, on Capitol Hill, Tuesday, Oct. 5, 2021, in Washington.(AP Photo/Alex Brandon) 1 of 9 Former Facebook employee Frances Haugen speaks during a hearing of the Senate Commerce, Science, and Transportation Subcommittee on Consumer Protection, Product Safety, and Data Security, on Capitol Hill, Tuesday, Oct. 5, 2021, in Washington.(AP Photo/Alex Brandon) WASHINGTON (AP) — While accusing the giant social network of pursuing profits over safety, a former Facebook data scientist told Congress Tuesday she believes stricter government oversight could alleviate the dangers the company poses, from harming children to inciting political violence to fueling misinformation.Frances Haugen, testifying to the Senate Commerce Subcommittee on Consumer Protection, presented a wide-ranging condemnation of Facebook .She accused the company of failing to make changes to Instagram after internal research showed apparent harm to some teens and being dishonest in its public fight against hate and misinformation.Haugen’s accusations were buttressed by tens of thousands of pages of internal research documents she secretly copied before leaving her job in the company’s civic integrity unit.MORE ON FACEBOOK – Facebook, WhatsApp, Instagram suffer worldwide outage But she also offered thoughtful ideas about how Facebook’s social media platforms could be made safer.Haugen laid responsibility for the company’s profits-over-safety strategy right at the top, with CEO Mark Zuckerberg, but she also expressed empathy for Facebook’s dilemma.ADVERTISEMENT Haugen, who says she joined the company in 2019 because “Facebook has the potential to bring out the best in us,” said she didn’t leak internal documents to a newspaper and then come before Congress in order to destroy the company or call for its breakup, as many consumer advocates and lawmakers of both parties have called for.Haugen is a 37-year-old data expert from Iowa with a degree in computer engineering and a master’s degree in business from Harvard.Prior to being recruited by Facebook, she worked for 15 years at tech companies including Google, Pinterest and Yelp.“Facebook’s products harm children, stoke division and weaken our democracy,” Haugen said.“The company’s leadership knows how to make Facebook and Instagram safer but won’t make the necessary changes because they have put their astronomical profits before people.” “Congressional action is needed,” she said.“They won’t solve this crisis without your help.” In a note to Facebook employees Tuesday, Zuckerberg disputed Haugen’s portrayal of the company as one that puts profit over the well-being of its users, or that pushes divisive content.“At the most basic level, I think most of us just don’t recognize the false picture of the company that is being painted,” Zuckerberg wrote.He did, however, appear to agree with Haugen on the need for updated internet regulations, saying that would relieve private companies from having to make decisions on social issues on their own.“We’re committed to doing the best work we can, but at some level the right body to assess tradeoffs between social equities is our democratically elected Congress,” Zuckerberg wrote.ADVERTISEMENT Democrats and Republicans have shown a rare unity around the revelations of Facebook’s handling of potential risks to teens from Instagram, and bipartisan bills have proliferated to address social media and data-privacy problems.But getting legislation through Congress is a heavy slog.The Federal Trade Commission has taken a stricter stance toward Facebook and other tech giants in recent years.“Whenever you have Republicans and Democrats on the same page, you’re probably more likely to see something,” said Gautam Hans, a technology law and free speech expert at Vanderbilt University Haugen suggested, for example, that the minimum age for Facebook’s popular Instagram photo-sharing platform could be increased from the current 13 to 16 or 18.She also acknowledged the limitations of possible remedies.Facebook, like other social media companies, uses algorithms to rank and recommend content to users’ news feeds.When the ranking is based on engagement — likes, shares and comments — as it is now with Facebook, users can be vulnerable to manipulation and misinformation.Haugen would prefer the ranking to be chronological.But, she testified, “People will choose the more addictive option even if it is leading their daughters to eating disorders.” Haugen said a 2018 change to the content flow contributed to more divisiveness and ill will in a network ostensibly created to bring people closer together.Despite the enmity that the new algorithms were feeding, she said Facebook found that they helped keep people coming back — a pattern that helped the social media giant sell more of the digital ads that generate the vast majority of its revenue.Haugen said she believed Facebook didn’t set out to build a destructive platform.“I have a huge amount of empathy for Facebook,” she said.“These are really hard questions, and I think they feel a little trapped and isolated.” But “in the end, the buck stops with Mark,” Haugen said, referring to Zuckerberg, who controls more than 50% of Facebook’s voting shares.“There is no one currently holding Mark accountable but himself.” Haugen said she believed that Zuckerberg was familiar with some of the internal research showing concerns for potential negative impacts of Instagram.The subcommittee is examining Facebook’s use of information its own researchers compiled about Instagram.Those findings could indicate potential harm for some of its young users, especially girls, although Facebook publicly downplayed possible negative impacts.For some of the teens devoted to Facebook’s popular photo-sharing platform, the peer pressure generated by the visually focused Instagram led to mental health and body-image problems, and in some cases, eating disorders and suicidal thoughts, the research leaked by Haugen showed.One internal study cited 13.5% of teen girls saying Instagram makes thoughts of suicide worse and 17% of teen girls saying it makes eating disorders worse.She also has filed complaints with federal authorities alleging that Facebook’s own research shows that it amplifies hate, misinformation and political unrest, but that the company hides what it knows.After recent reports in The Wall Street Journal based on documents she leaked to the newspaper raised a public outcry, Haugen revealed her identity in a CBS “60 Minutes” interview aired Sunday night.As the public relations debacle over the Instagram research grew last week, Facebook put on hold its work on a kids’ version of Instagram, which the company says is meant mainly for tweens aged 10 to 12.Haugen said that Facebook prematurely turned off safeguards designed to thwart misinformation and incitement to violence after Joe Biden defeated Donald Trump in last year’s presidential election, alleging that doing so contributed to the deadly Jan. 6 assault on the U.S. Capitol.After the November election, Facebook dissolved the civic integrity unit where Haugen had been working.That was the moment, she said, when she realized that “I don’t trust that they’re willing to actually invest what needs to be invested to keep Facebook from being dangerous.” Haugen says she told Facebook executives when they recruited her that she wanted to work in an area of the company that fights misinformation, because she had lost a friend to online conspiracy theories.Facebook maintains that Haugen’s allegations are misleading and insists there is no evidence to support the premise that it is the primary cause of social polarization.“Today, a Senate Commerce subcommittee held a hearing with a former product manager at Facebook who worked for the company for less than two years, had no direct reports, never attended a decision-point meeting with (top) executives – and testified more than six times to not working on the subject matter in question.We don’t agree with her characterization of the many issues she testified about,” the company said in a statement.__ Associated Press writers Matt O’Brien in Providence, Rhode Island, and Amanda Seitz in Columbus, Ohio, contributed to this report.___ Follow Marcy Gordon at https://twitter.com/mgordonap.AP NEWS Top Stories Video Contact Us Cookie Settings Download AP NEWS Connect with the definitive source for global and local news More from AP ap.org AP Insights AP Definitive Source Blog AP Images Spotlight AP Explore AP Books Follow AP The Associated Press About Contact Customer Support Careers Terms & Conditions Privacy All contents © copyright 2021 The Associated Press.All rights reserved.\n"
     ]
    }
   ],
   "source": [
    "print (text)"
   ]
  },
  {
   "cell_type": "code",
   "execution_count": 15,
   "metadata": {},
   "outputs": [
    {
     "data": {
      "text/plain": [
       "9896"
      ]
     },
     "execution_count": 15,
     "metadata": {},
     "output_type": "execute_result"
    }
   ],
   "source": [
    "len(text)"
   ]
  },
  {
   "cell_type": "code",
   "execution_count": 16,
   "metadata": {
    "scrolled": true
   },
   "outputs": [
    {
     "name": "stdout",
     "output_type": "stream",
     "text": [
      "9896\n",
      "AP NEWS Sections U.S. News World News Politics Sports Entertainment Oddities Lifestyle Health Science Business Technology Photography Religion Travel Press Releases Science Technology Business U.S. News World News Politics Entertainment Sports Oddities Lifestyle Health Photography Videos AP RADIO Update hourly Sections U.S. News World News Politics Sports Entertainment Oddities Lifestyle Health Science Business Technology Photography Religion Travel Press Releases Trending News Climate Coronavirus pandemic Kyle Rittenhouse Ahmaud Arbery Search ADVERTISEMENT https://apnews.com/article/facebook-haugen-congress-testimony-1daac7a76ca7bf0b0802cc46e732b51b Click to copy https://apnews.com/article/facebook-haugen-congress-testimony-1daac7a76ca7bf0b0802cc46e732b51b Click to copy Related topics Facebook Science Politics Technology Business Health Facebook Inc Congress Misinformation U.S. News AP Top News Ex-Facebook manager criticizes company, urges more oversight By MARCY GORDON and BARBARA ORTUTAY October 6, 2021 GMT 1 of 9 Former Facebook employee Frances Haugen speaks during a hearing of the Senate Commerce, Science, and Transportation Subcommittee on Consumer Protection, Product Safety, and Data Security, on Capitol Hill, Tuesday, Oct. 5, 2021, in Washington.(AP Photo/Alex Brandon) 1 of 9 Former Facebook employee Frances Haugen speaks during a hearing of the Senate Commerce, Science, and Transportation Subcommittee on Consumer Protection, Product Safety, and Data Security, on Capitol Hill, Tuesday, Oct. 5, 2021, in Washington.(AP Photo/Alex Brandon) WASHINGTON (AP) — While accusing the giant social network of pursuing profits over safety, a former Facebook data scientist told Congress Tuesday she believes stricter government oversight could alleviate the dangers the company poses, from harming children to inciting political violence to fueling misinformation.Frances Haugen, testifying to the Senate Commerce Subcommittee on Consumer Protection, presented a wide-ranging condemnation of Facebook .She accused the company of failing to make changes to Instagram after internal research showed apparent harm to some teens and being dishonest in its public fight against hate and misinformation.Haugen’s accusations were buttressed by tens of thousands of pages of internal research documents she secretly copied before leaving her job in the company’s civic integrity unit.MORE ON FACEBOOK – Facebook, WhatsApp, Instagram suffer worldwide outage But she also offered thoughtful ideas about how Facebook’s social media platforms could be made safer.Haugen laid responsibility for the company’s profits-over-safety strategy right at the top, with CEO Mark Zuckerberg, but she also expressed empathy for Facebook’s dilemma.ADVERTISEMENT Haugen, who says she joined the company in 2019 because “Facebook has the potential to bring out the best in us,” said she didn’t leak internal documents to a newspaper and then come before Congress in order to destroy the company or call f\n"
     ]
    }
   ],
   "source": [
    "print (len(text))\n",
    "text1= text[0:3000]\n",
    "print (text1)"
   ]
  },
  {
   "cell_type": "markdown",
   "metadata": {},
   "source": [
    "## Design a chunking strategy : how do I chunk up the input text, so that I can maximize the quality of the resulting summary??\n",
    "\n",
    "summarize every 2 sentences?\n",
    "summarize every 1000 chars??\n",
    "try 5 variations \n",
    "\n",
    "should I summarize the 5 summaries to get. a better summary???\n",
    "\n",
    "do this for each article (e.g., 3 articles)"
   ]
  },
  {
   "cell_type": "code",
   "execution_count": 17,
   "metadata": {},
   "outputs": [
    {
     "name": "stderr",
     "output_type": "stream",
     "text": [
      "Token indices sequence length is longer than the specified maximum sequence length for this model (713 > 512). Running this sequence through the model will result in indexing errors\n"
     ]
    },
    {
     "name": "stdout",
     "output_type": "stream",
     "text": [
      "former employee Frances Haugen says stricter government oversight could alleviate the dangers the social network poses . she accuses the company of failing to make changes to Instagram after internal research showed apparent harm to some teens . tens of thousands of pages of internal research documents she secretly copied before leaving her job .\n",
      "CPU times: user 1min 32s, sys: 36.5 s, total: 2min 9s\n",
      "Wall time: 53.6 s\n"
     ]
    }
   ],
   "source": [
    "%%time\n",
    "summary_text = summarizer(text1, max_length=512, min_length=5, do_sample=False)[0]['summary_text']\n",
    "print(summary_text)"
   ]
  },
  {
   "cell_type": "code",
   "execution_count": 18,
   "metadata": {
    "scrolled": true
   },
   "outputs": [
    {
     "name": "stdout",
     "output_type": "stream",
     "text": [
      "9896\n",
      "AP NEWS Sections U.S. News World News Politics Sports Entertainment Oddities Lifestyle Health Science Business Technology Photography Religion Travel Press Releases Science Technology Business U.S. News World News Politics Entertainment Sports Oddities Lifestyle Health Photography Videos AP RADIO Update hourly Sections U.S. News World News Politics Sports Entertainment Oddities Lifestyle Health Science Business Technology Photography Religion Travel Press Releases Trending News Climate Coronavirus pandemic Kyle Rittenhouse Ahmaud Arbery Search ADVERTISEMENT https://apnews.com/article/facebook-haugen-congress-testimony-1daac7a76ca7bf0b0802cc46e732b51b Click to copy https://apnews.com/article/facebook-haugen-congress-testimony-1daac7a76ca7bf0b0802cc46e732b51b Click to copy Related topics Facebook Science Politics Technology Business Health Facebook Inc Congress Misinformation U.S. News AP Top News Ex-Facebook manager criticizes company, urges more oversight By MARCY GORDON and BARBARA ORTUTAY October 6, 2021 GMT 1 of 9 Former Facebook employee Frances Haugen speaks during a hearing of the Senate Commerce, Science, and Transportation Subcommittee on Consumer Protection, Product Safety, and Data Security, on Capitol Hill, Tuesday, Oct. 5, 2021, in Washington.(AP Photo/Alex Brandon) 1 of 9 Former Facebook employee Frances Haugen speaks during a hearing of the Senate Commerce, Science, and Transportation Subcommittee on Consumer Protection, Product Safety, and Data Security, on Capitol Hill, Tuesday, Oct. 5, 2021, in Washington.(AP Photo/Alex Brandon) WASHINGTON (AP) — While accusing the giant social network of pursuing profits over safety, a former Facebook data scientist told Congress Tuesday she believes stricter government oversight could alleviate the dangers the company poses, from harming children to inciting political violence to fueling misinformation.Frances Haugen, testifying to the Senate Commerce Subcommittee on Consumer Protection, presented a wide-ranging condemnation of Facebook .She accused the company of failing to make changes to Instagram after internal research showed apparent harm to some teens and being dishonest in its public fight against hate and misinformation.Haugen’s accusations were buttressed by tens of thousands of pages of internal research documents she secretly copied before leaving her job in the company’s civic integrity unit.MORE ON FACEBOOK – Facebook, WhatsApp, Instagram suffer worldwide outage But she also offered thoughtful ideas about how Facebook’s social media platforms could be made safer.Haugen laid responsibility for the company’s profits-over-safety strategy right at the top, with CEO Mark Zuckerberg, but she also expressed empathy for Facebook’s dilemma.ADVERTISEMENT Haugen, who says she joined the company in 2019 because “Facebook has the potential to bring out the best in us,” said she didn’t leak internal documents to a newspaper and then come before Congress in order to destroy the company or call for its breakup, as many consumer advocates and lawmakers of both parties have called for.Haugen is a 37-year-old data expert from Iowa with a degree in computer engineering and a master’s degree in business from Harvard.Prior to being recruited by Facebook, she worked for 15 years at tech companies including Google, Pinterest and Yelp.“Facebook’s products harm children, stoke division and weaken our democracy,” Haugen said.“The company’s leadership knows how to make Facebook and Instagram safer but won’t make the necessary changes because they have put their astronomical profits before people.” “Congressional action is needed,” she said.“They won’t solve this crisis without your help.” In a note to Facebook employees Tuesday, Zuckerberg disputed Haugen’s portrayal of the company as one that puts profit over the well-being of its users, or that pushes divisive content.“At the most basic level, I think most of us just don’t recognize the false picture of the company that is being painted,” Zuckerberg wrote.He did, however, appear to agree with Haugen on the need for updated internet regulations, saying that would relieve private companies from having to make decisions on social issues on their own.“We’re committed to doing the best work we can, but at some level the right body to assess tradeoffs between social equities is our democratically elected Congress,” Zuckerberg wrote.ADVERTISEMENT Democrats and Republicans have shown a rare unity around the revelations of Facebook’s handling of potential risks to teens from Instagram, and bipartisan bills have proliferated to address social media and data-privacy problems.But getting legislation through Congress is a heavy slog.The Federal Trade Commission has taken a stricter stance toward Facebook and other tech giants in recent years.“Whenever you have Republicans and Democrats on the same page, you’re probably more likely to see something,” said Gautam Hans, a technology law and free speech expert at Vanderbilt Universit\n"
     ]
    }
   ],
   "source": [
    "print (len(text))\n",
    "text2= text[0:5000]\n",
    "print (text2)"
   ]
  },
  {
   "cell_type": "code",
   "execution_count": 19,
   "metadata": {},
   "outputs": [
    {
     "name": "stdout",
     "output_type": "stream",
     "text": [
      "former Facebook employee tells congress she believes stricter government oversight could alleviate the dangers the social network poses . she accuses the company of failing to make changes to Instagram after internal research showed apparent harm to some teens . 'they won’t solve this crisis without your help,' she says .\n",
      "CPU times: user 1min 51s, sys: 55.6 s, total: 2min 47s\n",
      "Wall time: 1min 4s\n"
     ]
    }
   ],
   "source": [
    "%%time\n",
    "summary_text = summarizer(text2, max_length=512, min_length=5, do_sample=False)[0]['summary_text']\n",
    "print(summary_text)"
   ]
  },
  {
   "cell_type": "code",
   "execution_count": 20,
   "metadata": {},
   "outputs": [
    {
     "name": "stdout",
     "output_type": "stream",
     "text": [
      "9896\n",
      "former Facebook employee tells congress she believes stricter government oversight could alleviate the dangers the company poses . she says the company's leadership knows how to make Facebook and Instagram safer but won't make the necessary changes because they have put profits before people .\n",
      "CPU times: user 2min 4s, sys: 1min 15s, total: 3min 19s\n",
      "Wall time: 1min 10s\n"
     ]
    }
   ],
   "source": [
    "%%time\n",
    "print (len(text))\n",
    "text3= text[0:8000]\n",
    "\n",
    "\n",
    "summary_text = summarizer(text3, max_length=512, min_length=5, do_sample=False)[0]['summary_text']\n",
    "print(summary_text)"
   ]
  },
  {
   "cell_type": "code",
   "execution_count": 21,
   "metadata": {},
   "outputs": [
    {
     "data": {
      "text/plain": [
       "[('former', 'JJ'),\n",
       " ('Facebook', 'NNP'),\n",
       " ('employee', 'NN'),\n",
       " ('tells', 'NNS'),\n",
       " ('congress', 'NN'),\n",
       " ('she', 'PRP'),\n",
       " ('believes', 'VBZ'),\n",
       " ('stricter', 'JJ'),\n",
       " ('government', 'NN'),\n",
       " ('oversight', 'NN'),\n",
       " ('could', 'MD'),\n",
       " ('alleviate', 'VB'),\n",
       " ('the', 'DT'),\n",
       " ('dangers', 'NNS'),\n",
       " ('the', 'DT'),\n",
       " ('company', 'NN'),\n",
       " ('poses', 'VBZ'),\n",
       " ('.', '.'),\n",
       " ('she', 'PRP'),\n",
       " ('says', 'VBZ'),\n",
       " ('the', 'DT'),\n",
       " ('company', 'NN'),\n",
       " (\"'s\", 'POS'),\n",
       " ('leadership', 'NN'),\n",
       " ('knows', 'VBZ'),\n",
       " ('how', 'WRB'),\n",
       " ('to', 'TO'),\n",
       " ('make', 'VB'),\n",
       " ('Facebook', 'NNP'),\n",
       " ('and', 'CC'),\n",
       " ('Instagram', 'NNP'),\n",
       " ('safer', 'VBP'),\n",
       " ('but', 'CC'),\n",
       " ('wo', 'MD'),\n",
       " (\"n't\", 'RB'),\n",
       " ('make', 'VB'),\n",
       " ('the', 'DT'),\n",
       " ('necessary', 'JJ'),\n",
       " ('changes', 'NNS'),\n",
       " ('because', 'IN'),\n",
       " ('they', 'PRP'),\n",
       " ('have', 'VBP'),\n",
       " ('put', 'VBN'),\n",
       " ('profits', 'NNS'),\n",
       " ('before', 'IN'),\n",
       " ('people', 'NNS'),\n",
       " ('.', '.')]"
      ]
     },
     "execution_count": 21,
     "metadata": {},
     "output_type": "execute_result"
    }
   ],
   "source": [
    "from nltk.tokenize import word_tokenize\n",
    "tokenized_text = word_tokenize(summary_text)\n",
    "nltk.pos_tag(tokenized_text)"
   ]
  },
  {
   "cell_type": "markdown",
   "metadata": {},
   "source": [
    "<div class=\"alert alert-info\" style=\"background-color:#5d3a8e; color:white; padding:0px 10px; border-radius:5px;\"><h2 style='margin:10px 5px'> Part 2: NLP POS Substitutions and Tones for Poets</h2>\n",
    "</div>\n",
    "\n",
    "#### Find 2 poems from 2 poets for example Robert Bly and Emily Dickison (One each shown below)"
   ]
  },
  {
   "cell_type": "markdown",
   "metadata": {},
   "source": [
    "\n",
    "<li> Pick a poem from two poets, A, B\n",
    "<li> Do two distillations including:  POS, embeddings\n",
    "    POS do the following \n",
    "    do embeddings to find which poets are closest to each other in style\n",
    "<li> Store each POS for each poet\n",
    "<li> replace poet A POS with poet B  POS based in semantic similarity "
   ]
  },
  {
   "cell_type": "code",
   "execution_count": 22,
   "metadata": {},
   "outputs": [],
   "source": [
    "bly={\n",
    "    'title':'Where We Must Look for Help',\n",
    "    'poem':\"The dove returns; it found no resting place; It was in flight all night above the shaken seas. Beneath Ark eaves The dove shall magnify the tiger’s bed; Give the dove peace. The split-tail swallows leave the sill at dawn; At dusk blue swallows shall return. On the third day the crow shall fly; The crow, the crow, the spider-colored crow, The crow shall find new mud to walk upoRobert.\",\n",
    "    'book': 'Stealing Sugar from the Castle: Selected and New Poems, 1950-2013 . W. W. Norton & Company. Kindle Edition. ',\n",
    "    'verbs':\n",
    "}\n",
    "\n",
    "emily_dickinson={\n",
    "    'title':'poem 48',\n",
    "    'poem':'Once more, my now bewildered Dove, Bestirs her puzzled wings,Once more her mistress, on the deep, Her troubled question flings—, Thrice to the floating casement,The Patriarchs bird returned,Courage! My brave Columba!,There may yet be Land!',\n",
    "    'book':'Dove in Poems & Letters'\n",
    "}\n",
    "\n",
    "# http://www.wisdomportal.com/Columba/EmilyDickinson-Dove.html\n",
    "# https://www.poetryfoundation.org/poets/robert-bly\n",
    "\n",
    "tokenized_text1 = word_tokenize(bly['poem'])\n",
    "bly_pos= nltk.pos_tag(tokenized_text1)\n",
    "\n",
    "tokenized_text2 = word_tokenize(emily_dickinson['poem'])\n",
    "emily_pos= nltk.pos_tag(tokenized_text2)"
   ]
  },
  {
   "cell_type": "code",
   "execution_count": 23,
   "metadata": {},
   "outputs": [
    {
     "name": "stdout",
     "output_type": "stream",
     "text": [
      "[('The', 'DT'), ('dove', 'NN'), ('returns', 'VBZ'), (';', ':'), ('it', 'PRP'), ('found', 'VBD'), ('no', 'DT'), ('resting', 'VBG'), ('place', 'NN'), (';', ':'), ('It', 'PRP'), ('was', 'VBD'), ('in', 'IN'), ('flight', 'NN'), ('all', 'DT'), ('night', 'NN'), ('above', 'IN'), ('the', 'DT'), ('shaken', 'JJ'), ('seas', 'NN'), ('.', '.'), ('Beneath', 'NNP'), ('Ark', 'NNP'), ('eaves', 'VBZ'), ('The', 'DT'), ('dove', 'NN'), ('shall', 'MD'), ('magnify', 'VB'), ('the', 'DT'), ('tiger', 'NN'), ('’', 'NNP'), ('s', 'NN'), ('bed', 'VBD'), (';', ':'), ('Give', 'VB'), ('the', 'DT'), ('dove', 'NN'), ('peace', 'NN'), ('.', '.'), ('The', 'DT'), ('split-tail', 'JJ'), ('swallows', 'NNS'), ('leave', 'VBP'), ('the', 'DT'), ('sill', 'NN'), ('at', 'IN'), ('dawn', 'NN'), (';', ':'), ('At', 'IN'), ('dusk', 'NN'), ('blue', 'NN'), ('swallows', 'VBZ'), ('shall', 'MD'), ('return', 'VB'), ('.', '.'), ('On', 'IN'), ('the', 'DT'), ('third', 'JJ'), ('day', 'NN'), ('the', 'DT'), ('crow', 'NN'), ('shall', 'MD'), ('fly', 'VB'), (';', ':'), ('The', 'DT'), ('crow', 'NN'), (',', ','), ('the', 'DT'), ('crow', 'NN'), (',', ','), ('the', 'DT'), ('spider-colored', 'JJ'), ('crow', 'NN'), (',', ','), ('The', 'DT'), ('crow', 'NN'), ('shall', 'MD'), ('find', 'VB'), ('new', 'JJ'), ('mud', 'NN'), ('to', 'TO'), ('walk', 'VB'), ('upoRobert', 'JJ'), ('.', '.')]\n"
     ]
    }
   ],
   "source": [
    "print (bly_pos)"
   ]
  },
  {
   "cell_type": "code",
   "execution_count": 24,
   "metadata": {},
   "outputs": [
    {
     "name": "stdout",
     "output_type": "stream",
     "text": [
      "[('Once', 'RB'), ('more', 'JJR'), (',', ','), ('my', 'PRP$'), ('now', 'RB'), ('bewildered', 'VBN'), ('Dove', 'NNP'), (',', ','), ('Bestirs', 'NNP'), ('her', 'PRP$'), ('puzzled', 'JJ'), ('wings', 'NNS'), (',', ','), ('Once', 'RB'), ('more', 'RBR'), ('her', 'PRP$'), ('mistress', 'NN'), (',', ','), ('on', 'IN'), ('the', 'DT'), ('deep', 'JJ'), (',', ','), ('Her', 'NNP'), ('troubled', 'VBD'), ('question', 'NN'), ('flings—', 'NN'), (',', ','), ('Thrice', 'NNP'), ('to', 'TO'), ('the', 'DT'), ('floating', 'VBG'), ('casement', 'NN'), (',', ','), ('The', 'DT'), ('Patriarchs', 'NNP'), ('bird', 'NN'), ('returned', 'VBD'), (',', ','), ('Courage', 'NN'), ('!', '.'), ('My', 'PRP$'), ('brave', 'JJ'), ('Columba', 'NNP'), ('!', '.'), (',', ','), ('There', 'EX'), ('may', 'MD'), ('yet', 'RB'), ('be', 'VB'), ('Land', 'NN'), ('!', '.')]\n"
     ]
    }
   ],
   "source": [
    "print (emily_pos)"
   ]
  },
  {
   "cell_type": "markdown",
   "metadata": {},
   "source": [
    "1. for each poet, what are the verbas and advective they use: \n",
    "2. Store the verbs and adjectives for each poet in the JSON data structure\n",
    "3. Then swap the verbs \n",
    "4. then swap adejectives\n",
    "5. then swap both verbs and adjectives for the two poets!!\n"
   ]
  },
  {
   "cell_type": "code",
   "execution_count": null,
   "metadata": {},
   "outputs": [],
   "source": []
  },
  {
   "cell_type": "markdown",
   "metadata": {},
   "source": [
    "### References\n",
    "[1] https://towardsdatascience.com/semantic-similarity-using-transformers-8f3cb5bf66d6\n",
    "\n",
    "[2] https://towardsdatascience.com/abstractive-summarization-using-pytorch-f5063e67510\n",
    "\n",
    "[3] https://towardsdatascience.com/topic-modeling-with-bert-779f7db187e6\n",
    "\n",
    "[4] https://medium.com/@muddaprince456/categorizing-and-pos-tagging-with-nltk-python-28f2bc9312c3\n",
    "\n",
    "[5] https://www.machinelearningplus.com/nlp/topic-modeling-gensim-python/\n",
    "\n",
    "[6] # https://www.nltk.org/book/ch05.html\n"
   ]
  },
  {
   "cell_type": "markdown",
   "metadata": {},
   "source": []
  },
  {
   "cell_type": "code",
   "execution_count": null,
   "metadata": {},
   "outputs": [],
   "source": []
  }
 ],
 "metadata": {
  "kernelspec": {
   "display_name": "Python 3",
   "language": "python",
   "name": "python3"
  },
  "language_info": {
   "codemirror_mode": {
    "name": "ipython",
    "version": 3
   },
   "file_extension": ".py",
   "mimetype": "text/x-python",
   "name": "python",
   "nbconvert_exporter": "python",
   "pygments_lexer": "ipython3",
   "version": "3.8.5"
  }
 },
 "nbformat": 4,
 "nbformat_minor": 4
}
